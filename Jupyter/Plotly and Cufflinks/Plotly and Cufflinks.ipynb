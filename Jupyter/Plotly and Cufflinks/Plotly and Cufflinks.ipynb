{
 "cells": [
  {
   "cell_type": "code",
   "execution_count": 1,
   "id": "775db5c6",
   "metadata": {},
   "outputs": [],
   "source": [
    "import pandas as pd \n",
    "import numpy as np\n",
    "%matplotlib inline"
   ]
  },
  {
   "cell_type": "code",
   "execution_count": 2,
   "id": "19593f02",
   "metadata": {},
   "outputs": [],
   "source": [
    "from plotly import __version__"
   ]
  },
  {
   "cell_type": "code",
   "execution_count": 3,
   "id": "49fbb83c",
   "metadata": {},
   "outputs": [],
   "source": [
    "import cufflinks as cf"
   ]
  },
  {
   "cell_type": "code",
   "execution_count": 4,
   "id": "34d53f9d",
   "metadata": {},
   "outputs": [],
   "source": [
    "from plotly.offline import download_plotlyjs,init_notebook_mode,plot,iplot"
   ]
  },
  {
   "cell_type": "code",
   "execution_count": 5,
   "id": "4f596810",
   "metadata": {},
   "outputs": [
    {
     "data": {
      "text/html": [
       "        <script type=\"text/javascript\">\n",
       "        window.PlotlyConfig = {MathJaxConfig: 'local'};\n",
       "        if (window.MathJax) {MathJax.Hub.Config({SVG: {font: \"STIX-Web\"}});}\n",
       "        if (typeof require !== 'undefined') {\n",
       "        require.undef(\"plotly\");\n",
       "        requirejs.config({\n",
       "            paths: {\n",
       "                'plotly': ['https://cdn.plot.ly/plotly-2.6.3.min']\n",
       "            }\n",
       "        });\n",
       "        require(['plotly'], function(Plotly) {\n",
       "            window._Plotly = Plotly;\n",
       "        });\n",
       "        }\n",
       "        </script>\n",
       "        "
      ]
     },
     "metadata": {},
     "output_type": "display_data"
    }
   ],
   "source": [
    "init_notebook_mode(connected=True)"
   ]
  },
  {
   "cell_type": "code",
   "execution_count": 6,
   "id": "062bd69c",
   "metadata": {},
   "outputs": [
    {
     "data": {
      "text/html": [
       "        <script type=\"text/javascript\">\n",
       "        window.PlotlyConfig = {MathJaxConfig: 'local'};\n",
       "        if (window.MathJax) {MathJax.Hub.Config({SVG: {font: \"STIX-Web\"}});}\n",
       "        if (typeof require !== 'undefined') {\n",
       "        require.undef(\"plotly\");\n",
       "        requirejs.config({\n",
       "            paths: {\n",
       "                'plotly': ['https://cdn.plot.ly/plotly-2.6.3.min']\n",
       "            }\n",
       "        });\n",
       "        require(['plotly'], function(Plotly) {\n",
       "            window._Plotly = Plotly;\n",
       "        });\n",
       "        }\n",
       "        </script>\n",
       "        "
      ]
     },
     "metadata": {},
     "output_type": "display_data"
    }
   ],
   "source": [
    "cf.go_offline()"
   ]
  },
  {
   "cell_type": "code",
   "execution_count": 7,
   "id": "05b21429",
   "metadata": {},
   "outputs": [
    {
     "data": {
      "text/html": [
       "<div>\n",
       "<style scoped>\n",
       "    .dataframe tbody tr th:only-of-type {\n",
       "        vertical-align: middle;\n",
       "    }\n",
       "\n",
       "    .dataframe tbody tr th {\n",
       "        vertical-align: top;\n",
       "    }\n",
       "\n",
       "    .dataframe thead th {\n",
       "        text-align: right;\n",
       "    }\n",
       "</style>\n",
       "<table border=\"1\" class=\"dataframe\">\n",
       "  <thead>\n",
       "    <tr style=\"text-align: right;\">\n",
       "      <th></th>\n",
       "      <th>A</th>\n",
       "      <th>B</th>\n",
       "      <th>C</th>\n",
       "      <th>D</th>\n",
       "    </tr>\n",
       "  </thead>\n",
       "  <tbody>\n",
       "    <tr>\n",
       "      <th>0</th>\n",
       "      <td>-1.817020</td>\n",
       "      <td>-0.319586</td>\n",
       "      <td>1.095377</td>\n",
       "      <td>-0.166982</td>\n",
       "    </tr>\n",
       "    <tr>\n",
       "      <th>1</th>\n",
       "      <td>-0.480982</td>\n",
       "      <td>0.122368</td>\n",
       "      <td>1.067489</td>\n",
       "      <td>0.269093</td>\n",
       "    </tr>\n",
       "    <tr>\n",
       "      <th>2</th>\n",
       "      <td>1.295157</td>\n",
       "      <td>1.000591</td>\n",
       "      <td>0.107027</td>\n",
       "      <td>1.510036</td>\n",
       "    </tr>\n",
       "    <tr>\n",
       "      <th>3</th>\n",
       "      <td>0.079157</td>\n",
       "      <td>0.116832</td>\n",
       "      <td>-0.954154</td>\n",
       "      <td>0.088934</td>\n",
       "    </tr>\n",
       "    <tr>\n",
       "      <th>4</th>\n",
       "      <td>-1.309999</td>\n",
       "      <td>-0.036646</td>\n",
       "      <td>-1.011785</td>\n",
       "      <td>0.379673</td>\n",
       "    </tr>\n",
       "    <tr>\n",
       "      <th>...</th>\n",
       "      <td>...</td>\n",
       "      <td>...</td>\n",
       "      <td>...</td>\n",
       "      <td>...</td>\n",
       "    </tr>\n",
       "    <tr>\n",
       "      <th>95</th>\n",
       "      <td>0.721076</td>\n",
       "      <td>-0.671579</td>\n",
       "      <td>1.602759</td>\n",
       "      <td>1.964541</td>\n",
       "    </tr>\n",
       "    <tr>\n",
       "      <th>96</th>\n",
       "      <td>-0.682613</td>\n",
       "      <td>-0.022626</td>\n",
       "      <td>0.962779</td>\n",
       "      <td>-0.511291</td>\n",
       "    </tr>\n",
       "    <tr>\n",
       "      <th>97</th>\n",
       "      <td>0.569711</td>\n",
       "      <td>-0.733337</td>\n",
       "      <td>-0.097767</td>\n",
       "      <td>0.765871</td>\n",
       "    </tr>\n",
       "    <tr>\n",
       "      <th>98</th>\n",
       "      <td>0.024064</td>\n",
       "      <td>0.368945</td>\n",
       "      <td>-0.406116</td>\n",
       "      <td>-2.078537</td>\n",
       "    </tr>\n",
       "    <tr>\n",
       "      <th>99</th>\n",
       "      <td>-1.470287</td>\n",
       "      <td>1.870978</td>\n",
       "      <td>-0.561398</td>\n",
       "      <td>-0.888190</td>\n",
       "    </tr>\n",
       "  </tbody>\n",
       "</table>\n",
       "<p>100 rows × 4 columns</p>\n",
       "</div>"
      ],
      "text/plain": [
       "           A         B         C         D\n",
       "0  -1.817020 -0.319586  1.095377 -0.166982\n",
       "1  -0.480982  0.122368  1.067489  0.269093\n",
       "2   1.295157  1.000591  0.107027  1.510036\n",
       "3   0.079157  0.116832 -0.954154  0.088934\n",
       "4  -1.309999 -0.036646 -1.011785  0.379673\n",
       "..       ...       ...       ...       ...\n",
       "95  0.721076 -0.671579  1.602759  1.964541\n",
       "96 -0.682613 -0.022626  0.962779 -0.511291\n",
       "97  0.569711 -0.733337 -0.097767  0.765871\n",
       "98  0.024064  0.368945 -0.406116 -2.078537\n",
       "99 -1.470287  1.870978 -0.561398 -0.888190\n",
       "\n",
       "[100 rows x 4 columns]"
      ]
     },
     "execution_count": 7,
     "metadata": {},
     "output_type": "execute_result"
    }
   ],
   "source": [
    "# Data\n",
    "df=pd.DataFrame(np.random.randn(100,4),columns='A B C D'.split())\n",
    "df"
   ]
  },
  {
   "cell_type": "code",
   "execution_count": 8,
   "id": "2b1250c2",
   "metadata": {},
   "outputs": [
    {
     "data": {
      "text/html": [
       "<div>\n",
       "<style scoped>\n",
       "    .dataframe tbody tr th:only-of-type {\n",
       "        vertical-align: middle;\n",
       "    }\n",
       "\n",
       "    .dataframe tbody tr th {\n",
       "        vertical-align: top;\n",
       "    }\n",
       "\n",
       "    .dataframe thead th {\n",
       "        text-align: right;\n",
       "    }\n",
       "</style>\n",
       "<table border=\"1\" class=\"dataframe\">\n",
       "  <thead>\n",
       "    <tr style=\"text-align: right;\">\n",
       "      <th></th>\n",
       "      <th>Category</th>\n",
       "      <th>Values</th>\n",
       "    </tr>\n",
       "  </thead>\n",
       "  <tbody>\n",
       "    <tr>\n",
       "      <th>0</th>\n",
       "      <td>A</td>\n",
       "      <td>32</td>\n",
       "    </tr>\n",
       "    <tr>\n",
       "      <th>1</th>\n",
       "      <td>B</td>\n",
       "      <td>43</td>\n",
       "    </tr>\n",
       "    <tr>\n",
       "      <th>2</th>\n",
       "      <td>C</td>\n",
       "      <td>50</td>\n",
       "    </tr>\n",
       "  </tbody>\n",
       "</table>\n",
       "</div>"
      ],
      "text/plain": [
       "  Category  Values\n",
       "0        A      32\n",
       "1        B      43\n",
       "2        C      50"
      ]
     },
     "execution_count": 8,
     "metadata": {},
     "output_type": "execute_result"
    }
   ],
   "source": [
    "df2= pd.DataFrame({'Category':['A','B','C'],'Values':[32,43,50]})\n",
    "df2"
   ]
  },
  {
   "cell_type": "code",
   "execution_count": 9,
   "id": "ed6ba4b1",
   "metadata": {
    "scrolled": true
   },
   "outputs": [
    {
     "data": {
      "text/plain": [
       "<AxesSubplot:>"
      ]
     },
     "execution_count": 9,
     "metadata": {},
     "output_type": "execute_result"
    },
    {
     "data": {
      "image/png": "[encoded data removed]",
      "text/plain": [
       "<Figure size 432x288 with 1 Axes>"
      ]
     },
     "metadata": {
      "needs_background": "light"
     },
     "output_type": "display_data"
    }
   ],
   "source": [
    "df.plot()"
   ]
  },
  {
   "cell_type": "code",
   "execution_count": 10,
   "id": "de5033e8",
   "metadata": {
    "scrolled": true
   },
   "outputs": [
    {
     "data": {
      "application/vnd.plotly.v1+json": {
       "config": {
        "linkText": "Export to plot.ly",
        "plotlyServerURL": "https://plot.ly",
        "showLink": true
       },
       "data": [
        {
         "line": {
          "color": "rgba(255, 153, 51, 1.0)",
          "dash": "solid",
          "shape": "linear",
          "width": 1.3
         },
         "mode": "lines",
         "name": "A",
         "text": "",
         "type": "scatter",
         "x": [
          0,
          1,
          2,
          3,
          4,
          5,
          6,
          7,
          8,
          9,
          10,
          11,
          12,
          13,
          14,
          15,
          16,
          17,
          18,
          19,
          20,
          21,
          22,
          23,
          24,
          25,
          26,
          27,
          28,
          29,
          30,
          31,
          32,
          33,
          34,
          35,
          36,
          37,
          38,
          39,
          40,
          41,
          42,
          43,
          44,
          45,
          46,
          47,
          48,
          49,
          50,
          51,
          52,
          53,
          54,
          55,
          56,
          57,
          58,
          59,
          60,
          61,
          62,
          63,
          64,
          65,
          66,
          67,
          68,
          69,
          70,
          71,
          72,
          73,
          74,
          75,
          76,
          77,
          78,
          79,
          80,
          81,
          82,
          83,
          84,
          85,
          86,
          87,
          88,
          89,
          90,
          91,
          92,
          93,
          94,
          95,
          96,
          97,
          98,
          99
         ],
         "y": [
          -1.817020332442591,
          -0.48098196817947747,
          1.295157066086587,
          0.07915703940954168,
          -1.3099989138475427,
          0.06443502722863953,
          0.8429902338467029,
          -0.8773579775586074,
          0.46296346004057504,
          0.3460066752440415,
          -1.5090964258815225,
          -0.17929767315087017,
          1.3597925620525149,
          0.1044132807162975,
          0.634140345548099,
          0.6449694398149307,
          0.682739029598082,
          -1.071423148713151,
          1.3412141907457804,
          -2.0253607604150097,
          -0.6575006829762641,
          -0.17629534526442286,
          0.4323052492839113,
          0.6061579721571336,
          0.3390538872710677,
          0.2136221498914424,
          -0.9248743336982881,
          -0.4923106494685157,
          -0.14027220727513648,
          -0.1245854157414283,
          0.3754070935314772,
          0.6687968436024946,
          0.46090626794999184,
          0.6478439273174318,
          0.183863668146813,
          -1.279265961558031,
          0.802914519502553,
          -0.6617214233024067,
          0.40798053779705845,
          0.23659524715385208,
          -1.3116089276171852,
          -1.2724481063971438,
          -0.15342270238770084,
          -0.19734938689819756,
          1.1596643166619882,
          -0.005636088219923547,
          -0.6354557112936142,
          0.00841157757449361,
          0.48174320134418314,
          1.0213266264062488,
          0.3470778151363638,
          1.0253128059996828,
          0.7018347168264457,
          -2.009558285503277,
          0.403384354603036,
          -0.3462865536610784,
          0.6035616992595493,
          -0.30964050576847196,
          0.12320701101952627,
          1.335591270886312,
          0.36552633076117713,
          -1.3009197808756756,
          0.849189361840498,
          0.48156360348950894,
          -0.017253276895772475,
          -0.13428667687120988,
          -0.528177970082618,
          1.0196902755316413,
          1.3853643896167271,
          -0.6250839679301746,
          -1.3060891778316646,
          0.2980133963267906,
          -2.160297033004496,
          0.2376514887002878,
          0.6392880065901926,
          0.13454348300356517,
          -1.4637409882823738,
          1.0202755563129895,
          1.5880348353414337,
          0.07489399111775881,
          2.037016478459296,
          -0.251972946031691,
          0.8288506740682722,
          0.8955414611825695,
          1.2165389060864282,
          1.5064457727306413,
          0.061859146980210056,
          0.16475560467364941,
          0.728842764778092,
          0.38589650375284085,
          0.9594389862303899,
          -0.4598951496142224,
          -0.4720031339202954,
          1.0154972016695023,
          -0.3445588930132589,
          0.7210756485242339,
          -0.6826130598079807,
          0.5697110560318015,
          0.024064000147705544,
          -1.4702867469315202
         ]
        },
        {
         "line": {
          "color": "rgba(55, 128, 191, 1.0)",
          "dash": "solid",
          "shape": "linear",
          "width": 1.3
         },
         "mode": "lines",
         "name": "B",
         "text": "",
         "type": "scatter",
         "x": [
          0,
          1,
          2,
          3,
          4,
          5,
          6,
          7,
          8,
          9,
          10,
          11,
          12,
          13,
          14,
          15,
          16,
          17,
          18,
          19,
          20,
          21,
          22,
          23,
          24,
          25,
          26,
          27,
          28,
          29,
          30,
          31,
          32,
          33,
          34,
          35,
          36,
          37,
          38,
          39,
          40,
          41,
          42,
          43,
          44,
          45,
          46,
          47,
          48,
          49,
          50,
          51,
          52,
          53,
          54,
          55,
          56,
          57,
          58,
          59,
          60,
          61,
          62,
          63,
          64,
          65,
          66,
          67,
          68,
          69,
          70,
          71,
          72,
          73,
          74,
          75,
          76,
          77,
          78,
          79,
          80,
          81,
          82,
          83,
          84,
          85,
          86,
          87,
          88,
          89,
          90,
          91,
          92,
          93,
          94,
          95,
          96,
          97,
          98,
          99
         ],
         "y": [
          -0.31958619878517447,
          0.12236833492550536,
          1.0005911448273535,
          0.11683245642945675,
          -0.036646303682910455,
          -1.4565555238871013,
          -0.22388894852612648,
          -0.6443526534508569,
          -1.2341426709423384,
          -0.26248492339228313,
          -1.3301360207440114,
          2.181530294928258,
          -0.7188285551019108,
          0.6261584800289558,
          1.0790046987515314,
          0.36993092952973244,
          -0.14854986225876715,
          -1.0551292102728689,
          -1.163712033089909,
          -1.035174477226583,
          -0.6923472344281039,
          -0.5829820471725831,
          0.10688564903208736,
          1.2901016578643634,
          -0.9861439072349416,
          -1.3403639860404626,
          0.5640300562054309,
          0.8521914504785596,
          -1.7725146263589386,
          -1.8445411092343604,
          -0.06880251081990287,
          1.250121225492265,
          0.06930813405963215,
          -1.0204497934376948,
          2.896448885000695,
          0.5435331300317845,
          1.1293824517425086,
          -0.3226727193654007,
          0.16828865849728697,
          -0.6309354652434254,
          -0.9557360051920409,
          -0.608525762156937,
          -0.2877608080766827,
          -0.767421864672971,
          0.8747239125952794,
          -1.5836537405323652,
          0.5932317169378237,
          0.22155467596449682,
          -0.2946398656833748,
          0.501013083160056,
          -1.4595035573437123,
          -0.600133196317449,
          0.4371009535768002,
          -2.210211643664322,
          0.3987946242518368,
          0.9673048599268973,
          -0.991473339820769,
          1.481431234489536,
          -0.03793162416476574,
          1.1079397655393566,
          -1.369508046106604,
          -0.1649378380752962,
          -0.7352150191288587,
          -1.4239325906110716,
          0.44200726961262254,
          1.0425740063040825,
          0.8844989386981145,
          -2.5816261775021685,
          -0.2990031997249988,
          0.039030433549701274,
          0.8455972801354262,
          0.4294742344327642,
          -0.43682471944814016,
          1.0841609285508675,
          1.1469454716518857,
          -0.2054363362461187,
          -0.5466324358704335,
          -0.7389366044575378,
          -0.16902628340572434,
          -0.19004248977568786,
          -0.49727220556567836,
          0.2796113263981927,
          -1.6861463695938166,
          0.17628961485402045,
          0.3854415954185394,
          -0.35792778347898646,
          -0.056004840344292366,
          0.7640036412727731,
          -1.3155218371664341,
          0.8607461279866138,
          -0.9632096083138955,
          0.2013845338042852,
          0.3273678055928306,
          2.151982269773717,
          -0.3337367592014226,
          -0.6715793937101349,
          -0.02262627338355212,
          -0.7333371089900023,
          0.3689449330022981,
          1.8709776079342886
         ]
        },
        {
         "line": {
          "color": "rgba(50, 171, 96, 1.0)",
          "dash": "solid",
          "shape": "linear",
          "width": 1.3
         },
         "mode": "lines",
         "name": "C",
         "text": "",
         "type": "scatter",
         "x": [
          0,
          1,
          2,
          3,
          4,
          5,
          6,
          7,
          8,
          9,
          10,
          11,
          12,
          13,
          14,
          15,
          16,
          17,
          18,
          19,
          20,
          21,
          22,
          23,
          24,
          25,
          26,
          27,
          28,
          29,
          30,
          31,
          32,
          33,
          34,
          35,
          36,
          37,
          38,
          39,
          40,
          41,
          42,
          43,
          44,
          45,
          46,
          47,
          48,
          49,
          50,
          51,
          52,
          53,
          54,
          55,
          56,
          57,
          58,
          59,
          60,
          61,
          62,
          63,
          64,
          65,
          66,
          67,
          68,
          69,
          70,
          71,
          72,
          73,
          74,
          75,
          76,
          77,
          78,
          79,
          80,
          81,
          82,
          83,
          84,
          85,
          86,
          87,
          88,
          89,
          90,
          91,
          92,
          93,
          94,
          95,
          96,
          97,
          98,
          99
         ],
         "y": [
          1.0953767652329516,
          1.0674885235210942,
          0.10702710741239999,
          -0.954153685946803,
          -1.0117846817687348,
          -1.248748546330939,
          0.33573629591591553,
          0.09105282444780213,
          -0.740669148990467,
          0.5604153074363686,
          -1.156263488934967,
          0.14141745220162819,
          -0.02195036741740686,
          -2.574394766813021,
          1.112972665858067,
          -1.3959559717282959,
          -1.1084197955034893,
          0.9397167813130121,
          0.35865379355073923,
          -0.04091216165564142,
          0.5917460927696595,
          0.5633415574373425,
          1.0768777697973806,
          -0.580001604449778,
          -0.5408884505927388,
          -0.5570533340947074,
          -0.2794306786219015,
          -0.3758900285760739,
          -0.8436557055097003,
          0.9017423987486539,
          1.2137921129836033,
          -1.232651901917362,
          -0.4152255020506121,
          -0.5550741829104553,
          0.005357956882898781,
          0.7483435968141808,
          1.0011756713653068,
          0.5027780048241728,
          2.7357929212343897,
          1.074126071465053,
          0.5005699474096457,
          -0.5532408933133417,
          -1.2726558386937958,
          0.23731753540874181,
          -0.46520338349774676,
          -0.18438834613668895,
          1.2077286521868627,
          0.7236261545462045,
          -1.7204816845343944,
          -0.6023030332880979,
          0.7561440210904469,
          0.3021160942655366,
          -1.026907699608662,
          -1.2295098597943062,
          0.008325636100983063,
          0.8393746117529984,
          0.447264874149784,
          -0.27278041071657666,
          -0.15423198109448072,
          1.1368568316257275,
          0.4083911186319793,
          -0.07808427251102533,
          -1.1823655795878965,
          1.350417628424253,
          -1.7389847911330285,
          -2.5111769110929747,
          1.2373754600798792,
          -0.31803011445916834,
          0.8351509287147442,
          -0.30933408602372775,
          -0.1067106096295591,
          1.1586410521599493,
          0.1932555811594735,
          0.5076663310320605,
          0.5205839863841363,
          0.7794023849824213,
          -0.8454694626466698,
          0.8667120603331698,
          0.44391874737678555,
          -0.3923489773262638,
          1.3049769621906229,
          -1.3216687973535155,
          -0.8227690572169466,
          -0.36828489240639184,
          0.8637341876668951,
          -0.9498737456139357,
          -1.2237244938865248,
          -1.71936208493555,
          1.264675054118327,
          1.8082347255878342,
          -0.29550822133963267,
          -1.8490463992435888,
          -0.44822613089839825,
          -0.5180106310307114,
          -0.7485568101153796,
          1.6027585948517178,
          0.9627790218198398,
          -0.09776738470744424,
          -0.4061162842529637,
          -0.5613978392914967
         ]
        },
        {
         "line": {
          "color": "rgba(128, 0, 128, 1.0)",
          "dash": "solid",
          "shape": "linear",
          "width": 1.3
         },
         "mode": "lines",
         "name": "D",
         "text": "",
         "type": "scatter",
         "x": [
          0,
          1,
          2,
          3,
          4,
          5,
          6,
          7,
          8,
          9,
          10,
          11,
          12,
          13,
          14,
          15,
          16,
          17,
          18,
          19,
          20,
          21,
          22,
          23,
          24,
          25,
          26,
          27,
          28,
          29,
          30,
          31,
          32,
          33,
          34,
          35,
          36,
          37,
          38,
          39,
          40,
          41,
          42,
          43,
          44,
          45,
          46,
          47,
          48,
          49,
          50,
          51,
          52,
          53,
          54,
          55,
          56,
          57,
          58,
          59,
          60,
          61,
          62,
          63,
          64,
          65,
          66,
          67,
          68,
          69,
          70,
          71,
          72,
          73,
          74,
          75,
          76,
          77,
          78,
          79,
          80,
          81,
          82,
          83,
          84,
          85,
          86,
          87,
          88,
          89,
          90,
          91,
          92,
          93,
          94,
          95,
          96,
          97,
          98,
          99
         ],
         "y": [
          -0.16698152242796563,
          0.26909329242327334,
          1.5100358375326823,
          0.08893402499514612,
          0.3796726622869942,
          1.8466081554109595,
          0.7040953011510183,
          1.2107636630222662,
          -1.2132296943762197,
          0.879627776754263,
          0.5684442976238012,
          0.5298693940071432,
          -1.674269720437406,
          -0.912630414643611,
          -0.7450917733255941,
          0.0422315272816017,
          -0.3515786869274323,
          1.128527129929655,
          0.9006598876114357,
          -0.34734454559643285,
          -0.3775530324157638,
          -0.21896031926161155,
          0.6478642022089207,
          0.03343285934465391,
          0.8527080991567603,
          -1.1969041163602225,
          1.9810558476039732,
          1.120547376095395,
          -1.9054245027503434,
          0.006929944895255636,
          -1.659883647300653,
          0.51534756102324,
          -0.6176288613825067,
          0.4894694399004788,
          0.5476513689136442,
          0.23584525422475605,
          0.6765460870220769,
          1.916526649821652,
          -0.5729473164384696,
          -1.1853537263517948,
          0.5250366640704713,
          0.03116538517875106,
          -1.243805002108966,
          2.5054193469654042,
          -0.931674239439011,
          -0.4407047224344251,
          -1.2779631173347277,
          -0.7451552297858708,
          0.16478287627577923,
          -1.536865594100219,
          -0.5492611476389664,
          -1.2020303838909674,
          1.337800596471134,
          -0.7980175083892986,
          -1.7696049050138287,
          1.7205949177799915,
          -0.8374118874503188,
          -0.10200136859410983,
          0.01089359859617445,
          0.38358872385159665,
          -0.6160978721745863,
          1.4212623611327182,
          -0.6977551920042057,
          -0.5392560208548826,
          -0.6798260298979372,
          1.2506897853538967,
          -0.23508022203878431,
          0.051804134866280695,
          1.421969711559989,
          -0.5014909849806081,
          1.3379500662712527,
          0.05097568818349346,
          0.3678045414217921,
          0.7844918957876057,
          -0.705664301427625,
          1.908043541102815,
          0.4547664385782509,
          -0.14515610401424958,
          0.8650018400071103,
          0.20120409997833696,
          -1.3480905218314831,
          -1.1842695424955942,
          0.035976627980285544,
          -1.1762328800400228,
          0.5653576799028618,
          0.20074002962261614,
          0.4340173162164649,
          1.3918213975265494,
          0.05222207533041211,
          0.858455625929984,
          -0.7802769532459792,
          -0.12769731696154077,
          -0.04299642426099226,
          0.7761664124267653,
          -0.2950514354006721,
          1.9645412563420428,
          -0.5112906137510908,
          0.7658714369035079,
          -2.0785366758572157,
          -0.8881901513191027
         ]
        }
       ],
       "layout": {
        "legend": {
         "bgcolor": "#F5F6F9",
         "font": {
          "color": "#4D5663"
         }
        },
        "paper_bgcolor": "#F5F6F9",
        "plot_bgcolor": "#F5F6F9",
        "template": {
         "data": {
          "bar": [
           {
            "error_x": {
             "color": "#2a3f5f"
            },
            "error_y": {
             "color": "#2a3f5f"
            },
            "marker": {
             "line": {
              "color": "#E5ECF6",
              "width": 0.5
             },
             "pattern": {
              "fillmode": "overlay",
              "size": 10,
              "solidity": 0.2
             }
            },
            "type": "bar"
           }
          ],
          "barpolar": [
           {
            "marker": {
             "line": {
              "color": "#E5ECF6",
              "width": 0.5
             },
             "pattern": {
              "fillmode": "overlay",
              "size": 10,
              "solidity": 0.2
             }
            },
            "type": "barpolar"
           }
          ],
          "carpet": [
           {
            "aaxis": {
             "endlinecolor": "#2a3f5f",
             "gridcolor": "white",
             "linecolor": "white",
             "minorgridcolor": "white",
             "startlinecolor": "#2a3f5f"
            },
            "baxis": {
             "endlinecolor": "#2a3f5f",
             "gridcolor": "white",
             "linecolor": "white",
             "minorgridcolor": "white",
             "startlinecolor": "#2a3f5f"
            },
            "type": "carpet"
           }
          ],
          "choropleth": [
           {
            "colorbar": {
             "outlinewidth": 0,
             "ticks": ""
            },
            "type": "choropleth"
           }
          ],
          "contour": [
           {
            "colorbar": {
             "outlinewidth": 0,
             "ticks": ""
            },
            "colorscale": [
             [
              0,
              "#0d0887"
             ],
             [
              0.1111111111111111,
              "#46039f"
             ],
             [
              0.2222222222222222,
              "#7201a8"
             ],
             [
              0.3333333333333333,
              "#9c179e"
             ],
             [
              0.4444444444444444,
              "#bd3786"
             ],
             [
              0.5555555555555556,
              "#d8576b"
             ],
             [
              0.6666666666666666,
              "#ed7953"
             ],
             [
              0.7777777777777778,
              "#fb9f3a"
             ],
             [
              0.8888888888888888,
              "#fdca26"
             ],
             [
              1,
              "#f0f921"
             ]
            ],
            "type": "contour"
           }
          ],
          "contourcarpet": [
           {
            "colorbar": {
             "outlinewidth": 0,
             "ticks": ""
            },
            "type": "contourcarpet"
           }
          ],
          "heatmap": [
           {
            "colorbar": {
             "outlinewidth": 0,
             "ticks": ""
            },
            "colorscale": [
             [
              0,
              "#0d0887"
             ],
             [
              0.1111111111111111,
              "#46039f"
             ],
             [
              0.2222222222222222,
              "#7201a8"
             ],
             [
              0.3333333333333333,
              "#9c179e"
             ],
             [
              0.4444444444444444,
              "#bd3786"
             ],
             [
              0.5555555555555556,
              "#d8576b"
             ],
             [
              0.6666666666666666,
              "#ed7953"
             ],
             [
              0.7777777777777778,
              "#fb9f3a"
             ],
             [
              0.8888888888888888,
              "#fdca26"
             ],
             [
              1,
              "#f0f921"
             ]
            ],
            "type": "heatmap"
           }
          ],
          "heatmapgl": [
           {
            "colorbar": {
             "outlinewidth": 0,
             "ticks": ""
            },
            "colorscale": [
             [
              0,
              "#0d0887"
             ],
             [
              0.1111111111111111,
              "#46039f"
             ],
             [
              0.2222222222222222,
              "#7201a8"
             ],
             [
              0.3333333333333333,
              "#9c179e"
             ],
             [
              0.4444444444444444,
              "#bd3786"
             ],
             [
              0.5555555555555556,
              "#d8576b"
             ],
             [
              0.6666666666666666,
              "#ed7953"
             ],
             [
              0.7777777777777778,
              "#fb9f3a"
             ],
             [
              0.8888888888888888,
              "#fdca26"
             ],
             [
              1,
              "#f0f921"
             ]
            ],
            "type": "heatmapgl"
           }
          ],
          "histogram": [
           {
            "marker": {
             "pattern": {
              "fillmode": "overlay",
              "size": 10,
              "solidity": 0.2
             }
            },
            "type": "histogram"
           }
          ],
          "histogram2d": [
           {
            "colorbar": {
             "outlinewidth": 0,
             "ticks": ""
            },
            "colorscale": [
             [
              0,
              "#0d0887"
             ],
             [
              0.1111111111111111,
              "#46039f"
             ],
             [
              0.2222222222222222,
              "#7201a8"
             ],
             [
              0.3333333333333333,
              "#9c179e"
             ],
             [
              0.4444444444444444,
              "#bd3786"
             ],
             [
              0.5555555555555556,
              "#d8576b"
             ],
             [
              0.6666666666666666,
              "#ed7953"
             ],
             [
              0.7777777777777778,
              "#fb9f3a"
             ],
             [
              0.8888888888888888,
              "#fdca26"
             ],
             [
              1,
              "#f0f921"
             ]
            ],
            "type": "histogram2d"
           }
          ],
          "histogram2dcontour": [
           {
            "colorbar": {
             "outlinewidth": 0,
             "ticks": ""
            },
            "colorscale": [
             [
              0,
              "#0d0887"
             ],
             [
              0.1111111111111111,
              "#46039f"
             ],
             [
              0.2222222222222222,
              "#7201a8"
             ],
             [
              0.3333333333333333,
              "#9c179e"
             ],
             [
              0.4444444444444444,
              "#bd3786"
             ],
             [
              0.5555555555555556,
              "#d8576b"
             ],
             [
              0.6666666666666666,
              "#ed7953"
             ],
             [
              0.7777777777777778,
              "#fb9f3a"
             ],
             [
              0.8888888888888888,
              "#fdca26"
             ],
             [
              1,
              "#f0f921"
             ]
            ],
            "type": "histogram2dcontour"
           }
          ],
          "mesh3d": [
           {
            "colorbar": {
             "outlinewidth": 0,
             "ticks": ""
            },
            "type": "mesh3d"
           }
          ],
          "parcoords": [
           {
            "line": {
             "colorbar": {
              "outlinewidth": 0,
              "ticks": ""
             }
            },
            "type": "parcoords"
           }
          ],
          "pie": [
           {
            "automargin": true,
            "type": "pie"
           }
          ],
          "scatter": [
           {
            "marker": {
             "colorbar": {
              "outlinewidth": 0,
              "ticks": ""
             }
            },
            "type": "scatter"
           }
          ],
          "scatter3d": [
           {
            "line": {
             "colorbar": {
              "outlinewidth": 0,
              "ticks": ""
             }
            },
            "marker": {
             "colorbar": {
              "outlinewidth": 0,
              "ticks": ""
             }
            },
            "type": "scatter3d"
           }
          ],
          "scattercarpet": [
           {
            "marker": {
             "colorbar": {
              "outlinewidth": 0,
              "ticks": ""
             }
            },
            "type": "scattercarpet"
           }
          ],
          "scattergeo": [
           {
            "marker": {
             "colorbar": {
              "outlinewidth": 0,
              "ticks": ""
             }
            },
            "type": "scattergeo"
           }
          ],
          "scattergl": [
           {
            "marker": {
             "colorbar": {
              "outlinewidth": 0,
              "ticks": ""
             }
            },
            "type": "scattergl"
           }
          ],
          "scattermapbox": [
           {
            "marker": {
             "colorbar": {
              "outlinewidth": 0,
              "ticks": ""
             }
            },
            "type": "scattermapbox"
           }
          ],
          "scatterpolar": [
           {
            "marker": {
             "colorbar": {
              "outlinewidth": 0,
              "ticks": ""
             }
            },
            "type": "scatterpolar"
           }
          ],
          "scatterpolargl": [
           {
            "marker": {
             "colorbar": {
              "outlinewidth": 0,
              "ticks": ""
             }
            },
            "type": "scatterpolargl"
           }
          ],
          "scatterternary": [
           {
            "marker": {
             "colorbar": {
              "outlinewidth": 0,
              "ticks": ""
             }
            },
            "type": "scatterternary"
           }
          ],
          "surface": [
           {
            "colorbar": {
             "outlinewidth": 0,
             "ticks": ""
            },
            "colorscale": [
             [
              0,
              "#0d0887"
             ],
             [
              0.1111111111111111,
              "#46039f"
             ],
             [
              0.2222222222222222,
              "#7201a8"
             ],
             [
              0.3333333333333333,
              "#9c179e"
             ],
             [
              0.4444444444444444,
              "#bd3786"
             ],
             [
              0.5555555555555556,
              "#d8576b"
             ],
             [
              0.6666666666666666,
              "#ed7953"
             ],
             [
              0.7777777777777778,
              "#fb9f3a"
             ],
             [
              0.8888888888888888,
              "#fdca26"
             ],
             [
              1,
              "#f0f921"
             ]
            ],
            "type": "surface"
           }
          ],
          "table": [
           {
            "cells": {
             "fill": {
              "color": "#EBF0F8"
             },
             "line": {
              "color": "white"
             }
            },
            "header": {
             "fill": {
              "color": "#C8D4E3"
             },
             "line": {
              "color": "white"
             }
            },
            "type": "table"
           }
          ]
         },
         "layout": {
          "annotationdefaults": {
           "arrowcolor": "#2a3f5f",
           "arrowhead": 0,
           "arrowwidth": 1
          },
          "autotypenumbers": "strict",
          "coloraxis": {
           "colorbar": {
            "outlinewidth": 0,
            "ticks": ""
           }
          },
          "colorscale": {
           "diverging": [
            [
             0,
             "#8e0152"
            ],
            [
             0.1,
             "#c51b7d"
            ],
            [
             0.2,
             "#de77ae"
            ],
            [
             0.3,
             "#f1b6da"
            ],
            [
             0.4,
             "#fde0ef"
            ],
            [
             0.5,
             "#f7f7f7"
            ],
            [
             0.6,
             "#e6f5d0"
            ],
            [
             0.7,
             "#b8e186"
            ],
            [
             0.8,
             "#7fbc41"
            ],
            [
             0.9,
             "#4d9221"
            ],
            [
             1,
             "#276419"
            ]
           ],
           "sequential": [
            [
             0,
             "#0d0887"
            ],
            [
             0.1111111111111111,
             "#46039f"
            ],
            [
             0.2222222222222222,
             "#7201a8"
            ],
            [
             0.3333333333333333,
             "#9c179e"
            ],
            [
             0.4444444444444444,
             "#bd3786"
            ],
            [
             0.5555555555555556,
             "#d8576b"
            ],
            [
             0.6666666666666666,
             "#ed7953"
            ],
            [
             0.7777777777777778,
             "#fb9f3a"
            ],
            [
             0.8888888888888888,
             "#fdca26"
            ],
            [
             1,
             "#f0f921"
            ]
           ],
           "sequentialminus": [
            [
             0,
             "#0d0887"
            ],
            [
             0.1111111111111111,
             "#46039f"
            ],
            [
             0.2222222222222222,
             "#7201a8"
            ],
            [
             0.3333333333333333,
             "#9c179e"
            ],
            [
             0.4444444444444444,
             "#bd3786"
            ],
            [
             0.5555555555555556,
             "#d8576b"
            ],
            [
             0.6666666666666666,
             "#ed7953"
            ],
            [
             0.7777777777777778,
             "#fb9f3a"
            ],
            [
             0.8888888888888888,
             "#fdca26"
            ],
            [
             1,
             "#f0f921"
            ]
           ]
          },
          "colorway": [
           "#636efa",
           "#EF553B",
           "#00cc96",
           "#ab63fa",
           "#FFA15A",
           "#19d3f3",
           "#FF6692",
           "#B6E880",
           "#FF97FF",
           "#FECB52"
          ],
          "font": {
           "color": "#2a3f5f"
          },
          "geo": {
           "bgcolor": "white",
           "lakecolor": "white",
           "landcolor": "#E5ECF6",
           "showlakes": true,
           "showland": true,
           "subunitcolor": "white"
          },
          "hoverlabel": {
           "align": "left"
          },
          "hovermode": "closest",
          "mapbox": {
           "style": "light"
          },
          "paper_bgcolor": "white",
          "plot_bgcolor": "#E5ECF6",
          "polar": {
           "angularaxis": {
            "gridcolor": "white",
            "linecolor": "white",
            "ticks": ""
           },
           "bgcolor": "#E5ECF6",
           "radialaxis": {
            "gridcolor": "white",
            "linecolor": "white",
            "ticks": ""
           }
          },
          "scene": {
           "xaxis": {
            "backgroundcolor": "#E5ECF6",
            "gridcolor": "white",
            "gridwidth": 2,
            "linecolor": "white",
            "showbackground": true,
            "ticks": "",
            "zerolinecolor": "white"
           },
           "yaxis": {
            "backgroundcolor": "#E5ECF6",
            "gridcolor": "white",
            "gridwidth": 2,
            "linecolor": "white",
            "showbackground": true,
            "ticks": "",
            "zerolinecolor": "white"
           },
           "zaxis": {
            "backgroundcolor": "#E5ECF6",
            "gridcolor": "white",
            "gridwidth": 2,
            "linecolor": "white",
            "showbackground": true,
            "ticks": "",
            "zerolinecolor": "white"
           }
          },
          "shapedefaults": {
           "line": {
            "color": "#2a3f5f"
           }
          },
          "ternary": {
           "aaxis": {
            "gridcolor": "white",
            "linecolor": "white",
            "ticks": ""
           },
           "baxis": {
            "gridcolor": "white",
            "linecolor": "white",
            "ticks": ""
           },
           "bgcolor": "#E5ECF6",
           "caxis": {
            "gridcolor": "white",
            "linecolor": "white",
            "ticks": ""
           }
          },
          "title": {
           "x": 0.05
          },
          "xaxis": {
           "automargin": true,
           "gridcolor": "white",
           "linecolor": "white",
           "ticks": "",
           "title": {
            "standoff": 15
           },
           "zerolinecolor": "white",
           "zerolinewidth": 2
          },
          "yaxis": {
           "automargin": true,
           "gridcolor": "white",
           "linecolor": "white",
           "ticks": "",
           "title": {
            "standoff": 15
           },
           "zerolinecolor": "white",
           "zerolinewidth": 2
          }
         }
        },
        "title": {
         "font": {
          "color": "#4D5663"
         }
        },
        "xaxis": {
         "gridcolor": "#E1E5ED",
         "showgrid": true,
         "tickfont": {
          "color": "#4D5663"
         },
         "title": {
          "font": {
           "color": "#4D5663"
          },
          "text": ""
         },
         "zerolinecolor": "#E1E5ED"
        },
        "yaxis": {
         "gridcolor": "#E1E5ED",
         "showgrid": true,
         "tickfont": {
          "color": "#4D5663"
         },
         "title": {
          "font": {
           "color": "#4D5663"
          },
          "text": ""
         },
         "zerolinecolor": "#E1E5ED"
        }
       }
      },
      "text/html": [
       "<div>                            <div id=\"5362fa5f-915c-47e0-9d94-2fae94191daf\" class=\"plotly-graph-div\" style=\"height:525px; width:100%;\"></div>            <script type=\"text/javascript\">                require([\"plotly\"], function(Plotly) {                    window.PLOTLYENV=window.PLOTLYENV || {};\n",
       "                    window.PLOTLYENV.BASE_URL='https://plot.ly';                                    if (document.getElementById(\"5362fa5f-915c-47e0-9d94-2fae94191daf\")) {                    Plotly.newPlot(                        \"5362fa5f-915c-47e0-9d94-2fae94191daf\",                        [{\"line\":{\"color\":\"rgba(255, 153, 51, 1.0)\",\"dash\":\"solid\",\"shape\":\"linear\",\"width\":1.3},\"mode\":\"lines\",\"name\":\"A\",\"text\":\"\",\"x\":[0,1,2,3,4,5,6,7,8,9,10,11,12,13,14,15,16,17,18,19,20,21,22,23,24,25,26,27,28,29,30,31,32,33,34,35,36,37,38,39,40,41,42,43,44,45,46,47,48,49,50,51,52,53,54,55,56,57,58,59,60,61,62,63,64,65,66,67,68,69,70,71,72,73,74,75,76,77,78,79,80,81,82,83,84,85,86,87,88,89,90,91,92,93,94,95,96,97,98,99],\"y\":[-1.817020332442591,-0.48098196817947747,1.295157066086587,0.07915703940954168,-1.3099989138475427,0.06443502722863953,0.8429902338467029,-0.8773579775586074,0.46296346004057504,0.3460066752440415,-1.5090964258815225,-0.17929767315087017,1.3597925620525149,0.1044132807162975,0.634140345548099,0.6449694398149307,0.682739029598082,-1.071423148713151,1.3412141907457804,-2.0253607604150097,-0.6575006829762641,-0.17629534526442286,0.4323052492839113,0.6061579721571336,0.3390538872710677,0.2136221498914424,-0.9248743336982881,-0.4923106494685157,-0.14027220727513648,-0.1245854157414283,0.3754070935314772,0.6687968436024946,0.46090626794999184,0.6478439273174318,0.183863668146813,-1.279265961558031,0.802914519502553,-0.6617214233024067,0.40798053779705845,0.23659524715385208,-1.3116089276171852,-1.2724481063971438,-0.15342270238770084,-0.19734938689819756,1.1596643166619882,-0.005636088219923547,-0.6354557112936142,0.00841157757449361,0.48174320134418314,1.0213266264062488,0.3470778151363638,1.0253128059996828,0.7018347168264457,-2.009558285503277,0.403384354603036,-0.3462865536610784,0.6035616992595493,-0.30964050576847196,0.12320701101952627,1.335591270886312,0.36552633076117713,-1.3009197808756756,0.849189361840498,0.48156360348950894,-0.017253276895772475,-0.13428667687120988,-0.528177970082618,1.0196902755316413,1.3853643896167271,-0.6250839679301746,-1.3060891778316646,0.2980133963267906,-2.160297033004496,0.2376514887002878,0.6392880065901926,0.13454348300356517,-1.4637409882823738,1.0202755563129895,1.5880348353414337,0.07489399111775881,2.037016478459296,-0.251972946031691,0.8288506740682722,0.8955414611825695,1.2165389060864282,1.5064457727306413,0.061859146980210056,0.16475560467364941,0.728842764778092,0.38589650375284085,0.9594389862303899,-0.4598951496142224,-0.4720031339202954,1.0154972016695023,-0.3445588930132589,0.7210756485242339,-0.6826130598079807,0.5697110560318015,0.024064000147705544,-1.4702867469315202],\"type\":\"scatter\"},{\"line\":{\"color\":\"rgba(55, 128, 191, 1.0)\",\"dash\":\"solid\",\"shape\":\"linear\",\"width\":1.3},\"mode\":\"lines\",\"name\":\"B\",\"text\":\"\",\"x\":[0,1,2,3,4,5,6,7,8,9,10,11,12,13,14,15,16,17,18,19,20,21,22,23,24,25,26,27,28,29,30,31,32,33,34,35,36,37,38,39,40,41,42,43,44,45,46,47,48,49,50,51,52,53,54,55,56,57,58,59,60,61,62,63,64,65,66,67,68,69,70,71,72,73,74,75,76,77,78,79,80,81,82,83,84,85,86,87,88,89,90,91,92,93,94,95,96,97,98,99],\"y\":[-0.31958619878517447,0.12236833492550536,1.0005911448273535,0.11683245642945675,-0.036646303682910455,-1.4565555238871013,-0.22388894852612648,-0.6443526534508569,-1.2341426709423384,-0.26248492339228313,-1.3301360207440114,2.181530294928258,-0.7188285551019108,0.6261584800289558,1.0790046987515314,0.36993092952973244,-0.14854986225876715,-1.0551292102728689,-1.163712033089909,-1.035174477226583,-0.6923472344281039,-0.5829820471725831,0.10688564903208736,1.2901016578643634,-0.9861439072349416,-1.3403639860404626,0.5640300562054309,0.8521914504785596,-1.7725146263589386,-1.8445411092343604,-0.06880251081990287,1.250121225492265,0.06930813405963215,-1.0204497934376948,2.896448885000695,0.5435331300317845,1.1293824517425086,-0.3226727193654007,0.16828865849728697,-0.6309354652434254,-0.9557360051920409,-0.608525762156937,-0.2877608080766827,-0.767421864672971,0.8747239125952794,-1.5836537405323652,0.5932317169378237,0.22155467596449682,-0.2946398656833748,0.501013083160056,-1.4595035573437123,-0.600133196317449,0.4371009535768002,-2.210211643664322,0.3987946242518368,0.9673048599268973,-0.991473339820769,1.481431234489536,-0.03793162416476574,1.1079397655393566,-1.369508046106604,-0.1649378380752962,-0.7352150191288587,-1.4239325906110716,0.44200726961262254,1.0425740063040825,0.8844989386981145,-2.5816261775021685,-0.2990031997249988,0.039030433549701274,0.8455972801354262,0.4294742344327642,-0.43682471944814016,1.0841609285508675,1.1469454716518857,-0.2054363362461187,-0.5466324358704335,-0.7389366044575378,-0.16902628340572434,-0.19004248977568786,-0.49727220556567836,0.2796113263981927,-1.6861463695938166,0.17628961485402045,0.3854415954185394,-0.35792778347898646,-0.056004840344292366,0.7640036412727731,-1.3155218371664341,0.8607461279866138,-0.9632096083138955,0.2013845338042852,0.3273678055928306,2.151982269773717,-0.3337367592014226,-0.6715793937101349,-0.02262627338355212,-0.7333371089900023,0.3689449330022981,1.8709776079342886],\"type\":\"scatter\"},{\"line\":{\"color\":\"rgba(50, 171, 96, 1.0)\",\"dash\":\"solid\",\"shape\":\"linear\",\"width\":1.3},\"mode\":\"lines\",\"name\":\"C\",\"text\":\"\",\"x\":[0,1,2,3,4,5,6,7,8,9,10,11,12,13,14,15,16,17,18,19,20,21,22,23,24,25,26,27,28,29,30,31,32,33,34,35,36,37,38,39,40,41,42,43,44,45,46,47,48,49,50,51,52,53,54,55,56,57,58,59,60,61,62,63,64,65,66,67,68,69,70,71,72,73,74,75,76,77,78,79,80,81,82,83,84,85,86,87,88,89,90,91,92,93,94,95,96,97,98,99],\"y\":[1.0953767652329516,1.0674885235210942,0.10702710741239999,-0.954153685946803,-1.0117846817687348,-1.248748546330939,0.33573629591591553,0.09105282444780213,-0.740669148990467,0.5604153074363686,-1.156263488934967,0.14141745220162819,-0.02195036741740686,-2.574394766813021,1.112972665858067,-1.3959559717282959,-1.1084197955034893,0.9397167813130121,0.35865379355073923,-0.04091216165564142,0.5917460927696595,0.5633415574373425,1.0768777697973806,-0.580001604449778,-0.5408884505927388,-0.5570533340947074,-0.2794306786219015,-0.3758900285760739,-0.8436557055097003,0.9017423987486539,1.2137921129836033,-1.232651901917362,-0.4152255020506121,-0.5550741829104553,0.005357956882898781,0.7483435968141808,1.0011756713653068,0.5027780048241728,2.7357929212343897,1.074126071465053,0.5005699474096457,-0.5532408933133417,-1.2726558386937958,0.23731753540874181,-0.46520338349774676,-0.18438834613668895,1.2077286521868627,0.7236261545462045,-1.7204816845343944,-0.6023030332880979,0.7561440210904469,0.3021160942655366,-1.026907699608662,-1.2295098597943062,0.008325636100983063,0.8393746117529984,0.447264874149784,-0.27278041071657666,-0.15423198109448072,1.1368568316257275,0.4083911186319793,-0.07808427251102533,-1.1823655795878965,1.350417628424253,-1.7389847911330285,-2.5111769110929747,1.2373754600798792,-0.31803011445916834,0.8351509287147442,-0.30933408602372775,-0.1067106096295591,1.1586410521599493,0.1932555811594735,0.5076663310320605,0.5205839863841363,0.7794023849824213,-0.8454694626466698,0.8667120603331698,0.44391874737678555,-0.3923489773262638,1.3049769621906229,-1.3216687973535155,-0.8227690572169466,-0.36828489240639184,0.8637341876668951,-0.9498737456139357,-1.2237244938865248,-1.71936208493555,1.264675054118327,1.8082347255878342,-0.29550822133963267,-1.8490463992435888,-0.44822613089839825,-0.5180106310307114,-0.7485568101153796,1.6027585948517178,0.9627790218198398,-0.09776738470744424,-0.4061162842529637,-0.5613978392914967],\"type\":\"scatter\"},{\"line\":{\"color\":\"rgba(128, 0, 128, 1.0)\",\"dash\":\"solid\",\"shape\":\"linear\",\"width\":1.3},\"mode\":\"lines\",\"name\":\"D\",\"text\":\"\",\"x\":[0,1,2,3,4,5,6,7,8,9,10,11,12,13,14,15,16,17,18,19,20,21,22,23,24,25,26,27,28,29,30,31,32,33,34,35,36,37,38,39,40,41,42,43,44,45,46,47,48,49,50,51,52,53,54,55,56,57,58,59,60,61,62,63,64,65,66,67,68,69,70,71,72,73,74,75,76,77,78,79,80,81,82,83,84,85,86,87,88,89,90,91,92,93,94,95,96,97,98,99],\"y\":[-0.16698152242796563,0.26909329242327334,1.5100358375326823,0.08893402499514612,0.3796726622869942,1.8466081554109595,0.7040953011510183,1.2107636630222662,-1.2132296943762197,0.879627776754263,0.5684442976238012,0.5298693940071432,-1.674269720437406,-0.912630414643611,-0.7450917733255941,0.0422315272816017,-0.3515786869274323,1.128527129929655,0.9006598876114357,-0.34734454559643285,-0.3775530324157638,-0.21896031926161155,0.6478642022089207,0.03343285934465391,0.8527080991567603,-1.1969041163602225,1.9810558476039732,1.120547376095395,-1.9054245027503434,0.006929944895255636,-1.659883647300653,0.51534756102324,-0.6176288613825067,0.4894694399004788,0.5476513689136442,0.23584525422475605,0.6765460870220769,1.916526649821652,-0.5729473164384696,-1.1853537263517948,0.5250366640704713,0.03116538517875106,-1.243805002108966,2.5054193469654042,-0.931674239439011,-0.4407047224344251,-1.2779631173347277,-0.7451552297858708,0.16478287627577923,-1.536865594100219,-0.5492611476389664,-1.2020303838909674,1.337800596471134,-0.7980175083892986,-1.7696049050138287,1.7205949177799915,-0.8374118874503188,-0.10200136859410983,0.01089359859617445,0.38358872385159665,-0.6160978721745863,1.4212623611327182,-0.6977551920042057,-0.5392560208548826,-0.6798260298979372,1.2506897853538967,-0.23508022203878431,0.051804134866280695,1.421969711559989,-0.5014909849806081,1.3379500662712527,0.05097568818349346,0.3678045414217921,0.7844918957876057,-0.705664301427625,1.908043541102815,0.4547664385782509,-0.14515610401424958,0.8650018400071103,0.20120409997833696,-1.3480905218314831,-1.1842695424955942,0.035976627980285544,-1.1762328800400228,0.5653576799028618,0.20074002962261614,0.4340173162164649,1.3918213975265494,0.05222207533041211,0.858455625929984,-0.7802769532459792,-0.12769731696154077,-0.04299642426099226,0.7761664124267653,-0.2950514354006721,1.9645412563420428,-0.5112906137510908,0.7658714369035079,-2.0785366758572157,-0.8881901513191027],\"type\":\"scatter\"}],                        {\"legend\":{\"bgcolor\":\"#F5F6F9\",\"font\":{\"color\":\"#4D5663\"}},\"paper_bgcolor\":\"#F5F6F9\",\"plot_bgcolor\":\"#F5F6F9\",\"template\":{\"data\":{\"barpolar\":[{\"marker\":{\"line\":{\"color\":\"#E5ECF6\",\"width\":0.5},\"pattern\":{\"fillmode\":\"overlay\",\"size\":10,\"solidity\":0.2}},\"type\":\"barpolar\"}],\"bar\":[{\"error_x\":{\"color\":\"#2a3f5f\"},\"error_y\":{\"color\":\"#2a3f5f\"},\"marker\":{\"line\":{\"color\":\"#E5ECF6\",\"width\":0.5},\"pattern\":{\"fillmode\":\"overlay\",\"size\":10,\"solidity\":0.2}},\"type\":\"bar\"}],\"carpet\":[{\"aaxis\":{\"endlinecolor\":\"#2a3f5f\",\"gridcolor\":\"white\",\"linecolor\":\"white\",\"minorgridcolor\":\"white\",\"startlinecolor\":\"#2a3f5f\"},\"baxis\":{\"endlinecolor\":\"#2a3f5f\",\"gridcolor\":\"white\",\"linecolor\":\"white\",\"minorgridcolor\":\"white\",\"startlinecolor\":\"#2a3f5f\"},\"type\":\"carpet\"}],\"choropleth\":[{\"colorbar\":{\"outlinewidth\":0,\"ticks\":\"\"},\"type\":\"choropleth\"}],\"contourcarpet\":[{\"colorbar\":{\"outlinewidth\":0,\"ticks\":\"\"},\"type\":\"contourcarpet\"}],\"contour\":[{\"colorbar\":{\"outlinewidth\":0,\"ticks\":\"\"},\"colorscale\":[[0.0,\"#0d0887\"],[0.1111111111111111,\"#46039f\"],[0.2222222222222222,\"#7201a8\"],[0.3333333333333333,\"#9c179e\"],[0.4444444444444444,\"#bd3786\"],[0.5555555555555556,\"#d8576b\"],[0.6666666666666666,\"#ed7953\"],[0.7777777777777778,\"#fb9f3a\"],[0.8888888888888888,\"#fdca26\"],[1.0,\"#f0f921\"]],\"type\":\"contour\"}],\"heatmapgl\":[{\"colorbar\":{\"outlinewidth\":0,\"ticks\":\"\"},\"colorscale\":[[0.0,\"#0d0887\"],[0.1111111111111111,\"#46039f\"],[0.2222222222222222,\"#7201a8\"],[0.3333333333333333,\"#9c179e\"],[0.4444444444444444,\"#bd3786\"],[0.5555555555555556,\"#d8576b\"],[0.6666666666666666,\"#ed7953\"],[0.7777777777777778,\"#fb9f3a\"],[0.8888888888888888,\"#fdca26\"],[1.0,\"#f0f921\"]],\"type\":\"heatmapgl\"}],\"heatmap\":[{\"colorbar\":{\"outlinewidth\":0,\"ticks\":\"\"},\"colorscale\":[[0.0,\"#0d0887\"],[0.1111111111111111,\"#46039f\"],[0.2222222222222222,\"#7201a8\"],[0.3333333333333333,\"#9c179e\"],[0.4444444444444444,\"#bd3786\"],[0.5555555555555556,\"#d8576b\"],[0.6666666666666666,\"#ed7953\"],[0.7777777777777778,\"#fb9f3a\"],[0.8888888888888888,\"#fdca26\"],[1.0,\"#f0f921\"]],\"type\":\"heatmap\"}],\"histogram2dcontour\":[{\"colorbar\":{\"outlinewidth\":0,\"ticks\":\"\"},\"colorscale\":[[0.0,\"#0d0887\"],[0.1111111111111111,\"#46039f\"],[0.2222222222222222,\"#7201a8\"],[0.3333333333333333,\"#9c179e\"],[0.4444444444444444,\"#bd3786\"],[0.5555555555555556,\"#d8576b\"],[0.6666666666666666,\"#ed7953\"],[0.7777777777777778,\"#fb9f3a\"],[0.8888888888888888,\"#fdca26\"],[1.0,\"#f0f921\"]],\"type\":\"histogram2dcontour\"}],\"histogram2d\":[{\"colorbar\":{\"outlinewidth\":0,\"ticks\":\"\"},\"colorscale\":[[0.0,\"#0d0887\"],[0.1111111111111111,\"#46039f\"],[0.2222222222222222,\"#7201a8\"],[0.3333333333333333,\"#9c179e\"],[0.4444444444444444,\"#bd3786\"],[0.5555555555555556,\"#d8576b\"],[0.6666666666666666,\"#ed7953\"],[0.7777777777777778,\"#fb9f3a\"],[0.8888888888888888,\"#fdca26\"],[1.0,\"#f0f921\"]],\"type\":\"histogram2d\"}],\"histogram\":[{\"marker\":{\"pattern\":{\"fillmode\":\"overlay\",\"size\":10,\"solidity\":0.2}},\"type\":\"histogram\"}],\"mesh3d\":[{\"colorbar\":{\"outlinewidth\":0,\"ticks\":\"\"},\"type\":\"mesh3d\"}],\"parcoords\":[{\"line\":{\"colorbar\":{\"outlinewidth\":0,\"ticks\":\"\"}},\"type\":\"parcoords\"}],\"pie\":[{\"automargin\":true,\"type\":\"pie\"}],\"scatter3d\":[{\"line\":{\"colorbar\":{\"outlinewidth\":0,\"ticks\":\"\"}},\"marker\":{\"colorbar\":{\"outlinewidth\":0,\"ticks\":\"\"}},\"type\":\"scatter3d\"}],\"scattercarpet\":[{\"marker\":{\"colorbar\":{\"outlinewidth\":0,\"ticks\":\"\"}},\"type\":\"scattercarpet\"}],\"scattergeo\":[{\"marker\":{\"colorbar\":{\"outlinewidth\":0,\"ticks\":\"\"}},\"type\":\"scattergeo\"}],\"scattergl\":[{\"marker\":{\"colorbar\":{\"outlinewidth\":0,\"ticks\":\"\"}},\"type\":\"scattergl\"}],\"scattermapbox\":[{\"marker\":{\"colorbar\":{\"outlinewidth\":0,\"ticks\":\"\"}},\"type\":\"scattermapbox\"}],\"scatterpolargl\":[{\"marker\":{\"colorbar\":{\"outlinewidth\":0,\"ticks\":\"\"}},\"type\":\"scatterpolargl\"}],\"scatterpolar\":[{\"marker\":{\"colorbar\":{\"outlinewidth\":0,\"ticks\":\"\"}},\"type\":\"scatterpolar\"}],\"scatter\":[{\"marker\":{\"colorbar\":{\"outlinewidth\":0,\"ticks\":\"\"}},\"type\":\"scatter\"}],\"scatterternary\":[{\"marker\":{\"colorbar\":{\"outlinewidth\":0,\"ticks\":\"\"}},\"type\":\"scatterternary\"}],\"surface\":[{\"colorbar\":{\"outlinewidth\":0,\"ticks\":\"\"},\"colorscale\":[[0.0,\"#0d0887\"],[0.1111111111111111,\"#46039f\"],[0.2222222222222222,\"#7201a8\"],[0.3333333333333333,\"#9c179e\"],[0.4444444444444444,\"#bd3786\"],[0.5555555555555556,\"#d8576b\"],[0.6666666666666666,\"#ed7953\"],[0.7777777777777778,\"#fb9f3a\"],[0.8888888888888888,\"#fdca26\"],[1.0,\"#f0f921\"]],\"type\":\"surface\"}],\"table\":[{\"cells\":{\"fill\":{\"color\":\"#EBF0F8\"},\"line\":{\"color\":\"white\"}},\"header\":{\"fill\":{\"color\":\"#C8D4E3\"},\"line\":{\"color\":\"white\"}},\"type\":\"table\"}]},\"layout\":{\"annotationdefaults\":{\"arrowcolor\":\"#2a3f5f\",\"arrowhead\":0,\"arrowwidth\":1},\"autotypenumbers\":\"strict\",\"coloraxis\":{\"colorbar\":{\"outlinewidth\":0,\"ticks\":\"\"}},\"colorscale\":{\"diverging\":[[0,\"#8e0152\"],[0.1,\"#c51b7d\"],[0.2,\"#de77ae\"],[0.3,\"#f1b6da\"],[0.4,\"#fde0ef\"],[0.5,\"#f7f7f7\"],[0.6,\"#e6f5d0\"],[0.7,\"#b8e186\"],[0.8,\"#7fbc41\"],[0.9,\"#4d9221\"],[1,\"#276419\"]],\"sequential\":[[0.0,\"#0d0887\"],[0.1111111111111111,\"#46039f\"],[0.2222222222222222,\"#7201a8\"],[0.3333333333333333,\"#9c179e\"],[0.4444444444444444,\"#bd3786\"],[0.5555555555555556,\"#d8576b\"],[0.6666666666666666,\"#ed7953\"],[0.7777777777777778,\"#fb9f3a\"],[0.8888888888888888,\"#fdca26\"],[1.0,\"#f0f921\"]],\"sequentialminus\":[[0.0,\"#0d0887\"],[0.1111111111111111,\"#46039f\"],[0.2222222222222222,\"#7201a8\"],[0.3333333333333333,\"#9c179e\"],[0.4444444444444444,\"#bd3786\"],[0.5555555555555556,\"#d8576b\"],[0.6666666666666666,\"#ed7953\"],[0.7777777777777778,\"#fb9f3a\"],[0.8888888888888888,\"#fdca26\"],[1.0,\"#f0f921\"]]},\"colorway\":[\"#636efa\",\"#EF553B\",\"#00cc96\",\"#ab63fa\",\"#FFA15A\",\"#19d3f3\",\"#FF6692\",\"#B6E880\",\"#FF97FF\",\"#FECB52\"],\"font\":{\"color\":\"#2a3f5f\"},\"geo\":{\"bgcolor\":\"white\",\"lakecolor\":\"white\",\"landcolor\":\"#E5ECF6\",\"showlakes\":true,\"showland\":true,\"subunitcolor\":\"white\"},\"hoverlabel\":{\"align\":\"left\"},\"hovermode\":\"closest\",\"mapbox\":{\"style\":\"light\"},\"paper_bgcolor\":\"white\",\"plot_bgcolor\":\"#E5ECF6\",\"polar\":{\"angularaxis\":{\"gridcolor\":\"white\",\"linecolor\":\"white\",\"ticks\":\"\"},\"bgcolor\":\"#E5ECF6\",\"radialaxis\":{\"gridcolor\":\"white\",\"linecolor\":\"white\",\"ticks\":\"\"}},\"scene\":{\"xaxis\":{\"backgroundcolor\":\"#E5ECF6\",\"gridcolor\":\"white\",\"gridwidth\":2,\"linecolor\":\"white\",\"showbackground\":true,\"ticks\":\"\",\"zerolinecolor\":\"white\"},\"yaxis\":{\"backgroundcolor\":\"#E5ECF6\",\"gridcolor\":\"white\",\"gridwidth\":2,\"linecolor\":\"white\",\"showbackground\":true,\"ticks\":\"\",\"zerolinecolor\":\"white\"},\"zaxis\":{\"backgroundcolor\":\"#E5ECF6\",\"gridcolor\":\"white\",\"gridwidth\":2,\"linecolor\":\"white\",\"showbackground\":true,\"ticks\":\"\",\"zerolinecolor\":\"white\"}},\"shapedefaults\":{\"line\":{\"color\":\"#2a3f5f\"}},\"ternary\":{\"aaxis\":{\"gridcolor\":\"white\",\"linecolor\":\"white\",\"ticks\":\"\"},\"baxis\":{\"gridcolor\":\"white\",\"linecolor\":\"white\",\"ticks\":\"\"},\"bgcolor\":\"#E5ECF6\",\"caxis\":{\"gridcolor\":\"white\",\"linecolor\":\"white\",\"ticks\":\"\"}},\"title\":{\"x\":0.05},\"xaxis\":{\"automargin\":true,\"gridcolor\":\"white\",\"linecolor\":\"white\",\"ticks\":\"\",\"title\":{\"standoff\":15},\"zerolinecolor\":\"white\",\"zerolinewidth\":2},\"yaxis\":{\"automargin\":true,\"gridcolor\":\"white\",\"linecolor\":\"white\",\"ticks\":\"\",\"title\":{\"standoff\":15},\"zerolinecolor\":\"white\",\"zerolinewidth\":2}}},\"title\":{\"font\":{\"color\":\"#4D5663\"}},\"xaxis\":{\"gridcolor\":\"#E1E5ED\",\"showgrid\":true,\"tickfont\":{\"color\":\"#4D5663\"},\"title\":{\"font\":{\"color\":\"#4D5663\"},\"text\":\"\"},\"zerolinecolor\":\"#E1E5ED\"},\"yaxis\":{\"gridcolor\":\"#E1E5ED\",\"showgrid\":true,\"tickfont\":{\"color\":\"#4D5663\"},\"title\":{\"font\":{\"color\":\"#4D5663\"},\"text\":\"\"},\"zerolinecolor\":\"#E1E5ED\"}},                        {\"showLink\": true, \"linkText\": \"Export to plot.ly\", \"plotlyServerURL\": \"https://plot.ly\", \"responsive\": true}                    ).then(function(){\n",
       "                            \n",
       "var gd = document.getElementById('5362fa5f-915c-47e0-9d94-2fae94191daf');\n",
       "var x = new MutationObserver(function (mutations, observer) {{\n",
       "        var display = window.getComputedStyle(gd).display;\n",
       "        if (!display || display === 'none') {{\n",
       "            console.log([gd, 'removed!']);\n",
       "            Plotly.purge(gd);\n",
       "            observer.disconnect();\n",
       "        }}\n",
       "}});\n",
       "\n",
       "// Listen for the removal of the full notebook cells\n",
       "var notebookContainer = gd.closest('#notebook-container');\n",
       "if (notebookContainer) {{\n",
       "    x.observe(notebookContainer, {childList: true});\n",
       "}}\n",
       "\n",
       "// Listen for the clearing of the current output cell\n",
       "var outputEl = gd.closest('.output');\n",
       "if (outputEl) {{\n",
       "    x.observe(outputEl, {childList: true});\n",
       "}}\n",
       "\n",
       "                        })                };                });            </script>        </div>"
      ]
     },
     "metadata": {},
     "output_type": "display_data"
    }
   ],
   "source": [
    "df.iplot()"
   ]
  },
  {
   "cell_type": "code",
   "execution_count": 11,
   "id": "616289c1",
   "metadata": {},
   "outputs": [
    {
     "data": {
      "application/vnd.plotly.v1+json": {
       "config": {
        "linkText": "Export to plot.ly",
        "plotlyServerURL": "https://plot.ly",
        "showLink": true
       },
       "data": [
        {
         "line": {
          "color": "rgba(255, 153, 51, 1.0)",
          "dash": "solid",
          "shape": "linear",
          "width": 1.3
         },
         "marker": {
          "size": 20,
          "symbol": "circle"
         },
         "mode": "markers",
         "name": "B",
         "text": "",
         "type": "scatter",
         "x": [
          -1.817020332442591,
          -0.48098196817947747,
          1.295157066086587,
          0.07915703940954168,
          -1.3099989138475427,
          0.06443502722863953,
          0.8429902338467029,
          -0.8773579775586074,
          0.46296346004057504,
          0.3460066752440415,
          -1.5090964258815225,
          -0.17929767315087017,
          1.3597925620525149,
          0.1044132807162975,
          0.634140345548099,
          0.6449694398149307,
          0.682739029598082,
          -1.071423148713151,
          1.3412141907457804,
          -2.0253607604150097,
          -0.6575006829762641,
          -0.17629534526442286,
          0.4323052492839113,
          0.6061579721571336,
          0.3390538872710677,
          0.2136221498914424,
          -0.9248743336982881,
          -0.4923106494685157,
          -0.14027220727513648,
          -0.1245854157414283,
          0.3754070935314772,
          0.6687968436024946,
          0.46090626794999184,
          0.6478439273174318,
          0.183863668146813,
          -1.279265961558031,
          0.802914519502553,
          -0.6617214233024067,
          0.40798053779705845,
          0.23659524715385208,
          -1.3116089276171852,
          -1.2724481063971438,
          -0.15342270238770084,
          -0.19734938689819756,
          1.1596643166619882,
          -0.005636088219923547,
          -0.6354557112936142,
          0.00841157757449361,
          0.48174320134418314,
          1.0213266264062488,
          0.3470778151363638,
          1.0253128059996828,
          0.7018347168264457,
          -2.009558285503277,
          0.403384354603036,
          -0.3462865536610784,
          0.6035616992595493,
          -0.30964050576847196,
          0.12320701101952627,
          1.335591270886312,
          0.36552633076117713,
          -1.3009197808756756,
          0.849189361840498,
          0.48156360348950894,
          -0.017253276895772475,
          -0.13428667687120988,
          -0.528177970082618,
          1.0196902755316413,
          1.3853643896167271,
          -0.6250839679301746,
          -1.3060891778316646,
          0.2980133963267906,
          -2.160297033004496,
          0.2376514887002878,
          0.6392880065901926,
          0.13454348300356517,
          -1.4637409882823738,
          1.0202755563129895,
          1.5880348353414337,
          0.07489399111775881,
          2.037016478459296,
          -0.251972946031691,
          0.8288506740682722,
          0.8955414611825695,
          1.2165389060864282,
          1.5064457727306413,
          0.061859146980210056,
          0.16475560467364941,
          0.728842764778092,
          0.38589650375284085,
          0.9594389862303899,
          -0.4598951496142224,
          -0.4720031339202954,
          1.0154972016695023,
          -0.3445588930132589,
          0.7210756485242339,
          -0.6826130598079807,
          0.5697110560318015,
          0.024064000147705544,
          -1.4702867469315202
         ],
         "y": [
          -0.31958619878517447,
          0.12236833492550536,
          1.0005911448273535,
          0.11683245642945675,
          -0.036646303682910455,
          -1.4565555238871013,
          -0.22388894852612648,
          -0.6443526534508569,
          -1.2341426709423384,
          -0.26248492339228313,
          -1.3301360207440114,
          2.181530294928258,
          -0.7188285551019108,
          0.6261584800289558,
          1.0790046987515314,
          0.36993092952973244,
          -0.14854986225876715,
          -1.0551292102728689,
          -1.163712033089909,
          -1.035174477226583,
          -0.6923472344281039,
          -0.5829820471725831,
          0.10688564903208736,
          1.2901016578643634,
          -0.9861439072349416,
          -1.3403639860404626,
          0.5640300562054309,
          0.8521914504785596,
          -1.7725146263589386,
          -1.8445411092343604,
          -0.06880251081990287,
          1.250121225492265,
          0.06930813405963215,
          -1.0204497934376948,
          2.896448885000695,
          0.5435331300317845,
          1.1293824517425086,
          -0.3226727193654007,
          0.16828865849728697,
          -0.6309354652434254,
          -0.9557360051920409,
          -0.608525762156937,
          -0.2877608080766827,
          -0.767421864672971,
          0.8747239125952794,
          -1.5836537405323652,
          0.5932317169378237,
          0.22155467596449682,
          -0.2946398656833748,
          0.501013083160056,
          -1.4595035573437123,
          -0.600133196317449,
          0.4371009535768002,
          -2.210211643664322,
          0.3987946242518368,
          0.9673048599268973,
          -0.991473339820769,
          1.481431234489536,
          -0.03793162416476574,
          1.1079397655393566,
          -1.369508046106604,
          -0.1649378380752962,
          -0.7352150191288587,
          -1.4239325906110716,
          0.44200726961262254,
          1.0425740063040825,
          0.8844989386981145,
          -2.5816261775021685,
          -0.2990031997249988,
          0.039030433549701274,
          0.8455972801354262,
          0.4294742344327642,
          -0.43682471944814016,
          1.0841609285508675,
          1.1469454716518857,
          -0.2054363362461187,
          -0.5466324358704335,
          -0.7389366044575378,
          -0.16902628340572434,
          -0.19004248977568786,
          -0.49727220556567836,
          0.2796113263981927,
          -1.6861463695938166,
          0.17628961485402045,
          0.3854415954185394,
          -0.35792778347898646,
          -0.056004840344292366,
          0.7640036412727731,
          -1.3155218371664341,
          0.8607461279866138,
          -0.9632096083138955,
          0.2013845338042852,
          0.3273678055928306,
          2.151982269773717,
          -0.3337367592014226,
          -0.6715793937101349,
          -0.02262627338355212,
          -0.7333371089900023,
          0.3689449330022981,
          1.8709776079342886
         ]
        }
       ],
       "layout": {
        "legend": {
         "bgcolor": "#F5F6F9",
         "font": {
          "color": "#4D5663"
         }
        },
        "paper_bgcolor": "#F5F6F9",
        "plot_bgcolor": "#F5F6F9",
        "template": {
         "data": {
          "bar": [
           {
            "error_x": {
             "color": "#2a3f5f"
            },
            "error_y": {
             "color": "#2a3f5f"
            },
            "marker": {
             "line": {
              "color": "#E5ECF6",
              "width": 0.5
             },
             "pattern": {
              "fillmode": "overlay",
              "size": 10,
              "solidity": 0.2
             }
            },
            "type": "bar"
           }
          ],
          "barpolar": [
           {
            "marker": {
             "line": {
              "color": "#E5ECF6",
              "width": 0.5
             },
             "pattern": {
              "fillmode": "overlay",
              "size": 10,
              "solidity": 0.2
             }
            },
            "type": "barpolar"
           }
          ],
          "carpet": [
           {
            "aaxis": {
             "endlinecolor": "#2a3f5f",
             "gridcolor": "white",
             "linecolor": "white",
             "minorgridcolor": "white",
             "startlinecolor": "#2a3f5f"
            },
            "baxis": {
             "endlinecolor": "#2a3f5f",
             "gridcolor": "white",
             "linecolor": "white",
             "minorgridcolor": "white",
             "startlinecolor": "#2a3f5f"
            },
            "type": "carpet"
           }
          ],
          "choropleth": [
           {
            "colorbar": {
             "outlinewidth": 0,
             "ticks": ""
            },
            "type": "choropleth"
           }
          ],
          "contour": [
           {
            "colorbar": {
             "outlinewidth": 0,
             "ticks": ""
            },
            "colorscale": [
             [
              0,
              "#0d0887"
             ],
             [
              0.1111111111111111,
              "#46039f"
             ],
             [
              0.2222222222222222,
              "#7201a8"
             ],
             [
              0.3333333333333333,
              "#9c179e"
             ],
             [
              0.4444444444444444,
              "#bd3786"
             ],
             [
              0.5555555555555556,
              "#d8576b"
             ],
             [
              0.6666666666666666,
              "#ed7953"
             ],
             [
              0.7777777777777778,
              "#fb9f3a"
             ],
             [
              0.8888888888888888,
              "#fdca26"
             ],
             [
              1,
              "#f0f921"
             ]
            ],
            "type": "contour"
           }
          ],
          "contourcarpet": [
           {
            "colorbar": {
             "outlinewidth": 0,
             "ticks": ""
            },
            "type": "contourcarpet"
           }
          ],
          "heatmap": [
           {
            "colorbar": {
             "outlinewidth": 0,
             "ticks": ""
            },
            "colorscale": [
             [
              0,
              "#0d0887"
             ],
             [
              0.1111111111111111,
              "#46039f"
             ],
             [
              0.2222222222222222,
              "#7201a8"
             ],
             [
              0.3333333333333333,
              "#9c179e"
             ],
             [
              0.4444444444444444,
              "#bd3786"
             ],
             [
              0.5555555555555556,
              "#d8576b"
             ],
             [
              0.6666666666666666,
              "#ed7953"
             ],
             [
              0.7777777777777778,
              "#fb9f3a"
             ],
             [
              0.8888888888888888,
              "#fdca26"
             ],
             [
              1,
              "#f0f921"
             ]
            ],
            "type": "heatmap"
           }
          ],
          "heatmapgl": [
           {
            "colorbar": {
             "outlinewidth": 0,
             "ticks": ""
            },
            "colorscale": [
             [
              0,
              "#0d0887"
             ],
             [
              0.1111111111111111,
              "#46039f"
             ],
             [
              0.2222222222222222,
              "#7201a8"
             ],
             [
              0.3333333333333333,
              "#9c179e"
             ],
             [
              0.4444444444444444,
              "#bd3786"
             ],
             [
              0.5555555555555556,
              "#d8576b"
             ],
             [
              0.6666666666666666,
              "#ed7953"
             ],
             [
              0.7777777777777778,
              "#fb9f3a"
             ],
             [
              0.8888888888888888,
              "#fdca26"
             ],
             [
              1,
              "#f0f921"
             ]
            ],
            "type": "heatmapgl"
           }
          ],
          "histogram": [
           {
            "marker": {
             "pattern": {
              "fillmode": "overlay",
              "size": 10,
              "solidity": 0.2
             }
            },
            "type": "histogram"
           }
          ],
          "histogram2d": [
           {
            "colorbar": {
             "outlinewidth": 0,
             "ticks": ""
            },
            "colorscale": [
             [
              0,
              "#0d0887"
             ],
             [
              0.1111111111111111,
              "#46039f"
             ],
             [
              0.2222222222222222,
              "#7201a8"
             ],
             [
              0.3333333333333333,
              "#9c179e"
             ],
             [
              0.4444444444444444,
              "#bd3786"
             ],
             [
              0.5555555555555556,
              "#d8576b"
             ],
             [
              0.6666666666666666,
              "#ed7953"
             ],
             [
              0.7777777777777778,
              "#fb9f3a"
             ],
             [
              0.8888888888888888,
              "#fdca26"
             ],
             [
              1,
              "#f0f921"
             ]
            ],
            "type": "histogram2d"
           }
          ],
          "histogram2dcontour": [
           {
            "colorbar": {
             "outlinewidth": 0,
             "ticks": ""
            },
            "colorscale": [
             [
              0,
              "#0d0887"
             ],
             [
              0.1111111111111111,
              "#46039f"
             ],
             [
              0.2222222222222222,
              "#7201a8"
             ],
             [
              0.3333333333333333,
              "#9c179e"
             ],
             [
              0.4444444444444444,
              "#bd3786"
             ],
             [
              0.5555555555555556,
              "#d8576b"
             ],
             [
              0.6666666666666666,
              "#ed7953"
             ],
             [
              0.7777777777777778,
              "#fb9f3a"
             ],
             [
              0.8888888888888888,
              "#fdca26"
             ],
             [
              1,
              "#f0f921"
             ]
            ],
            "type": "histogram2dcontour"
           }
          ],
          "mesh3d": [
           {
            "colorbar": {
             "outlinewidth": 0,
             "ticks": ""
            },
            "type": "mesh3d"
           }
          ],
          "parcoords": [
           {
            "line": {
             "colorbar": {
              "outlinewidth": 0,
              "ticks": ""
             }
            },
            "type": "parcoords"
           }
          ],
          "pie": [
           {
            "automargin": true,
            "type": "pie"
           }
          ],
          "scatter": [
           {
            "marker": {
             "colorbar": {
              "outlinewidth": 0,
              "ticks": ""
             }
            },
            "type": "scatter"
           }
          ],
          "scatter3d": [
           {
            "line": {
             "colorbar": {
              "outlinewidth": 0,
              "ticks": ""
             }
            },
            "marker": {
             "colorbar": {
              "outlinewidth": 0,
              "ticks": ""
             }
            },
            "type": "scatter3d"
           }
          ],
          "scattercarpet": [
           {
            "marker": {
             "colorbar": {
              "outlinewidth": 0,
              "ticks": ""
             }
            },
            "type": "scattercarpet"
           }
          ],
          "scattergeo": [
           {
            "marker": {
             "colorbar": {
              "outlinewidth": 0,
              "ticks": ""
             }
            },
            "type": "scattergeo"
           }
          ],
          "scattergl": [
           {
            "marker": {
             "colorbar": {
              "outlinewidth": 0,
              "ticks": ""
             }
            },
            "type": "scattergl"
           }
          ],
          "scattermapbox": [
           {
            "marker": {
             "colorbar": {
              "outlinewidth": 0,
              "ticks": ""
             }
            },
            "type": "scattermapbox"
           }
          ],
          "scatterpolar": [
           {
            "marker": {
             "colorbar": {
              "outlinewidth": 0,
              "ticks": ""
             }
            },
            "type": "scatterpolar"
           }
          ],
          "scatterpolargl": [
           {
            "marker": {
             "colorbar": {
              "outlinewidth": 0,
              "ticks": ""
             }
            },
            "type": "scatterpolargl"
           }
          ],
          "scatterternary": [
           {
            "marker": {
             "colorbar": {
              "outlinewidth": 0,
              "ticks": ""
             }
            },
            "type": "scatterternary"
           }
          ],
          "surface": [
           {
            "colorbar": {
             "outlinewidth": 0,
             "ticks": ""
            },
            "colorscale": [
             [
              0,
              "#0d0887"
             ],
             [
              0.1111111111111111,
              "#46039f"
             ],
             [
              0.2222222222222222,
              "#7201a8"
             ],
             [
              0.3333333333333333,
              "#9c179e"
             ],
             [
              0.4444444444444444,
              "#bd3786"
             ],
             [
              0.5555555555555556,
              "#d8576b"
             ],
             [
              0.6666666666666666,
              "#ed7953"
             ],
             [
              0.7777777777777778,
              "#fb9f3a"
             ],
             [
              0.8888888888888888,
              "#fdca26"
             ],
             [
              1,
              "#f0f921"
             ]
            ],
            "type": "surface"
           }
          ],
          "table": [
           {
            "cells": {
             "fill": {
              "color": "#EBF0F8"
             },
             "line": {
              "color": "white"
             }
            },
            "header": {
             "fill": {
              "color": "#C8D4E3"
             },
             "line": {
              "color": "white"
             }
            },
            "type": "table"
           }
          ]
         },
         "layout": {
          "annotationdefaults": {
           "arrowcolor": "#2a3f5f",
           "arrowhead": 0,
           "arrowwidth": 1
          },
          "autotypenumbers": "strict",
          "coloraxis": {
           "colorbar": {
            "outlinewidth": 0,
            "ticks": ""
           }
          },
          "colorscale": {
           "diverging": [
            [
             0,
             "#8e0152"
            ],
            [
             0.1,
             "#c51b7d"
            ],
            [
             0.2,
             "#de77ae"
            ],
            [
             0.3,
             "#f1b6da"
            ],
            [
             0.4,
             "#fde0ef"
            ],
            [
             0.5,
             "#f7f7f7"
            ],
            [
             0.6,
             "#e6f5d0"
            ],
            [
             0.7,
             "#b8e186"
            ],
            [
             0.8,
             "#7fbc41"
            ],
            [
             0.9,
             "#4d9221"
            ],
            [
             1,
             "#276419"
            ]
           ],
           "sequential": [
            [
             0,
             "#0d0887"
            ],
            [
             0.1111111111111111,
             "#46039f"
            ],
            [
             0.2222222222222222,
             "#7201a8"
            ],
            [
             0.3333333333333333,
             "#9c179e"
            ],
            [
             0.4444444444444444,
             "#bd3786"
            ],
            [
             0.5555555555555556,
             "#d8576b"
            ],
            [
             0.6666666666666666,
             "#ed7953"
            ],
            [
             0.7777777777777778,
             "#fb9f3a"
            ],
            [
             0.8888888888888888,
             "#fdca26"
            ],
            [
             1,
             "#f0f921"
            ]
           ],
           "sequentialminus": [
            [
             0,
             "#0d0887"
            ],
            [
             0.1111111111111111,
             "#46039f"
            ],
            [
             0.2222222222222222,
             "#7201a8"
            ],
            [
             0.3333333333333333,
             "#9c179e"
            ],
            [
             0.4444444444444444,
             "#bd3786"
            ],
            [
             0.5555555555555556,
             "#d8576b"
            ],
            [
             0.6666666666666666,
             "#ed7953"
            ],
            [
             0.7777777777777778,
             "#fb9f3a"
            ],
            [
             0.8888888888888888,
             "#fdca26"
            ],
            [
             1,
             "#f0f921"
            ]
           ]
          },
          "colorway": [
           "#636efa",
           "#EF553B",
           "#00cc96",
           "#ab63fa",
           "#FFA15A",
           "#19d3f3",
           "#FF6692",
           "#B6E880",
           "#FF97FF",
           "#FECB52"
          ],
          "font": {
           "color": "#2a3f5f"
          },
          "geo": {
           "bgcolor": "white",
           "lakecolor": "white",
           "landcolor": "#E5ECF6",
           "showlakes": true,
           "showland": true,
           "subunitcolor": "white"
          },
          "hoverlabel": {
           "align": "left"
          },
          "hovermode": "closest",
          "mapbox": {
           "style": "light"
          },
          "paper_bgcolor": "white",
          "plot_bgcolor": "#E5ECF6",
          "polar": {
           "angularaxis": {
            "gridcolor": "white",
            "linecolor": "white",
            "ticks": ""
           },
           "bgcolor": "#E5ECF6",
           "radialaxis": {
            "gridcolor": "white",
            "linecolor": "white",
            "ticks": ""
           }
          },
          "scene": {
           "xaxis": {
            "backgroundcolor": "#E5ECF6",
            "gridcolor": "white",
            "gridwidth": 2,
            "linecolor": "white",
            "showbackground": true,
            "ticks": "",
            "zerolinecolor": "white"
           },
           "yaxis": {
            "backgroundcolor": "#E5ECF6",
            "gridcolor": "white",
            "gridwidth": 2,
            "linecolor": "white",
            "showbackground": true,
            "ticks": "",
            "zerolinecolor": "white"
           },
           "zaxis": {
            "backgroundcolor": "#E5ECF6",
            "gridcolor": "white",
            "gridwidth": 2,
            "linecolor": "white",
            "showbackground": true,
            "ticks": "",
            "zerolinecolor": "white"
           }
          },
          "shapedefaults": {
           "line": {
            "color": "#2a3f5f"
           }
          },
          "ternary": {
           "aaxis": {
            "gridcolor": "white",
            "linecolor": "white",
            "ticks": ""
           },
           "baxis": {
            "gridcolor": "white",
            "linecolor": "white",
            "ticks": ""
           },
           "bgcolor": "#E5ECF6",
           "caxis": {
            "gridcolor": "white",
            "linecolor": "white",
            "ticks": ""
           }
          },
          "title": {
           "x": 0.05
          },
          "xaxis": {
           "automargin": true,
           "gridcolor": "white",
           "linecolor": "white",
           "ticks": "",
           "title": {
            "standoff": 15
           },
           "zerolinecolor": "white",
           "zerolinewidth": 2
          },
          "yaxis": {
           "automargin": true,
           "gridcolor": "white",
           "linecolor": "white",
           "ticks": "",
           "title": {
            "standoff": 15
           },
           "zerolinecolor": "white",
           "zerolinewidth": 2
          }
         }
        },
        "title": {
         "font": {
          "color": "#4D5663"
         }
        },
        "xaxis": {
         "gridcolor": "#E1E5ED",
         "showgrid": true,
         "tickfont": {
          "color": "#4D5663"
         },
         "title": {
          "font": {
           "color": "#4D5663"
          },
          "text": ""
         },
         "zerolinecolor": "#E1E5ED"
        },
        "yaxis": {
         "gridcolor": "#E1E5ED",
         "showgrid": true,
         "tickfont": {
          "color": "#4D5663"
         },
         "title": {
          "font": {
           "color": "#4D5663"
          },
          "text": ""
         },
         "zerolinecolor": "#E1E5ED"
        }
       }
      },
      "text/html": [
       "<div>                            <div id=\"b6dbcf55-13d9-4e16-ab2f-a3666cd35f24\" class=\"plotly-graph-div\" style=\"height:525px; width:100%;\"></div>            <script type=\"text/javascript\">                require([\"plotly\"], function(Plotly) {                    window.PLOTLYENV=window.PLOTLYENV || {};\n",
       "                    window.PLOTLYENV.BASE_URL='https://plot.ly';                                    if (document.getElementById(\"b6dbcf55-13d9-4e16-ab2f-a3666cd35f24\")) {                    Plotly.newPlot(                        \"b6dbcf55-13d9-4e16-ab2f-a3666cd35f24\",                        [{\"line\":{\"color\":\"rgba(255, 153, 51, 1.0)\",\"dash\":\"solid\",\"shape\":\"linear\",\"width\":1.3},\"marker\":{\"size\":20,\"symbol\":\"circle\"},\"mode\":\"markers\",\"name\":\"B\",\"text\":\"\",\"x\":[-1.817020332442591,-0.48098196817947747,1.295157066086587,0.07915703940954168,-1.3099989138475427,0.06443502722863953,0.8429902338467029,-0.8773579775586074,0.46296346004057504,0.3460066752440415,-1.5090964258815225,-0.17929767315087017,1.3597925620525149,0.1044132807162975,0.634140345548099,0.6449694398149307,0.682739029598082,-1.071423148713151,1.3412141907457804,-2.0253607604150097,-0.6575006829762641,-0.17629534526442286,0.4323052492839113,0.6061579721571336,0.3390538872710677,0.2136221498914424,-0.9248743336982881,-0.4923106494685157,-0.14027220727513648,-0.1245854157414283,0.3754070935314772,0.6687968436024946,0.46090626794999184,0.6478439273174318,0.183863668146813,-1.279265961558031,0.802914519502553,-0.6617214233024067,0.40798053779705845,0.23659524715385208,-1.3116089276171852,-1.2724481063971438,-0.15342270238770084,-0.19734938689819756,1.1596643166619882,-0.005636088219923547,-0.6354557112936142,0.00841157757449361,0.48174320134418314,1.0213266264062488,0.3470778151363638,1.0253128059996828,0.7018347168264457,-2.009558285503277,0.403384354603036,-0.3462865536610784,0.6035616992595493,-0.30964050576847196,0.12320701101952627,1.335591270886312,0.36552633076117713,-1.3009197808756756,0.849189361840498,0.48156360348950894,-0.017253276895772475,-0.13428667687120988,-0.528177970082618,1.0196902755316413,1.3853643896167271,-0.6250839679301746,-1.3060891778316646,0.2980133963267906,-2.160297033004496,0.2376514887002878,0.6392880065901926,0.13454348300356517,-1.4637409882823738,1.0202755563129895,1.5880348353414337,0.07489399111775881,2.037016478459296,-0.251972946031691,0.8288506740682722,0.8955414611825695,1.2165389060864282,1.5064457727306413,0.061859146980210056,0.16475560467364941,0.728842764778092,0.38589650375284085,0.9594389862303899,-0.4598951496142224,-0.4720031339202954,1.0154972016695023,-0.3445588930132589,0.7210756485242339,-0.6826130598079807,0.5697110560318015,0.024064000147705544,-1.4702867469315202],\"y\":[-0.31958619878517447,0.12236833492550536,1.0005911448273535,0.11683245642945675,-0.036646303682910455,-1.4565555238871013,-0.22388894852612648,-0.6443526534508569,-1.2341426709423384,-0.26248492339228313,-1.3301360207440114,2.181530294928258,-0.7188285551019108,0.6261584800289558,1.0790046987515314,0.36993092952973244,-0.14854986225876715,-1.0551292102728689,-1.163712033089909,-1.035174477226583,-0.6923472344281039,-0.5829820471725831,0.10688564903208736,1.2901016578643634,-0.9861439072349416,-1.3403639860404626,0.5640300562054309,0.8521914504785596,-1.7725146263589386,-1.8445411092343604,-0.06880251081990287,1.250121225492265,0.06930813405963215,-1.0204497934376948,2.896448885000695,0.5435331300317845,1.1293824517425086,-0.3226727193654007,0.16828865849728697,-0.6309354652434254,-0.9557360051920409,-0.608525762156937,-0.2877608080766827,-0.767421864672971,0.8747239125952794,-1.5836537405323652,0.5932317169378237,0.22155467596449682,-0.2946398656833748,0.501013083160056,-1.4595035573437123,-0.600133196317449,0.4371009535768002,-2.210211643664322,0.3987946242518368,0.9673048599268973,-0.991473339820769,1.481431234489536,-0.03793162416476574,1.1079397655393566,-1.369508046106604,-0.1649378380752962,-0.7352150191288587,-1.4239325906110716,0.44200726961262254,1.0425740063040825,0.8844989386981145,-2.5816261775021685,-0.2990031997249988,0.039030433549701274,0.8455972801354262,0.4294742344327642,-0.43682471944814016,1.0841609285508675,1.1469454716518857,-0.2054363362461187,-0.5466324358704335,-0.7389366044575378,-0.16902628340572434,-0.19004248977568786,-0.49727220556567836,0.2796113263981927,-1.6861463695938166,0.17628961485402045,0.3854415954185394,-0.35792778347898646,-0.056004840344292366,0.7640036412727731,-1.3155218371664341,0.8607461279866138,-0.9632096083138955,0.2013845338042852,0.3273678055928306,2.151982269773717,-0.3337367592014226,-0.6715793937101349,-0.02262627338355212,-0.7333371089900023,0.3689449330022981,1.8709776079342886],\"type\":\"scatter\"}],                        {\"legend\":{\"bgcolor\":\"#F5F6F9\",\"font\":{\"color\":\"#4D5663\"}},\"paper_bgcolor\":\"#F5F6F9\",\"plot_bgcolor\":\"#F5F6F9\",\"template\":{\"data\":{\"barpolar\":[{\"marker\":{\"line\":{\"color\":\"#E5ECF6\",\"width\":0.5},\"pattern\":{\"fillmode\":\"overlay\",\"size\":10,\"solidity\":0.2}},\"type\":\"barpolar\"}],\"bar\":[{\"error_x\":{\"color\":\"#2a3f5f\"},\"error_y\":{\"color\":\"#2a3f5f\"},\"marker\":{\"line\":{\"color\":\"#E5ECF6\",\"width\":0.5},\"pattern\":{\"fillmode\":\"overlay\",\"size\":10,\"solidity\":0.2}},\"type\":\"bar\"}],\"carpet\":[{\"aaxis\":{\"endlinecolor\":\"#2a3f5f\",\"gridcolor\":\"white\",\"linecolor\":\"white\",\"minorgridcolor\":\"white\",\"startlinecolor\":\"#2a3f5f\"},\"baxis\":{\"endlinecolor\":\"#2a3f5f\",\"gridcolor\":\"white\",\"linecolor\":\"white\",\"minorgridcolor\":\"white\",\"startlinecolor\":\"#2a3f5f\"},\"type\":\"carpet\"}],\"choropleth\":[{\"colorbar\":{\"outlinewidth\":0,\"ticks\":\"\"},\"type\":\"choropleth\"}],\"contourcarpet\":[{\"colorbar\":{\"outlinewidth\":0,\"ticks\":\"\"},\"type\":\"contourcarpet\"}],\"contour\":[{\"colorbar\":{\"outlinewidth\":0,\"ticks\":\"\"},\"colorscale\":[[0.0,\"#0d0887\"],[0.1111111111111111,\"#46039f\"],[0.2222222222222222,\"#7201a8\"],[0.3333333333333333,\"#9c179e\"],[0.4444444444444444,\"#bd3786\"],[0.5555555555555556,\"#d8576b\"],[0.6666666666666666,\"#ed7953\"],[0.7777777777777778,\"#fb9f3a\"],[0.8888888888888888,\"#fdca26\"],[1.0,\"#f0f921\"]],\"type\":\"contour\"}],\"heatmapgl\":[{\"colorbar\":{\"outlinewidth\":0,\"ticks\":\"\"},\"colorscale\":[[0.0,\"#0d0887\"],[0.1111111111111111,\"#46039f\"],[0.2222222222222222,\"#7201a8\"],[0.3333333333333333,\"#9c179e\"],[0.4444444444444444,\"#bd3786\"],[0.5555555555555556,\"#d8576b\"],[0.6666666666666666,\"#ed7953\"],[0.7777777777777778,\"#fb9f3a\"],[0.8888888888888888,\"#fdca26\"],[1.0,\"#f0f921\"]],\"type\":\"heatmapgl\"}],\"heatmap\":[{\"colorbar\":{\"outlinewidth\":0,\"ticks\":\"\"},\"colorscale\":[[0.0,\"#0d0887\"],[0.1111111111111111,\"#46039f\"],[0.2222222222222222,\"#7201a8\"],[0.3333333333333333,\"#9c179e\"],[0.4444444444444444,\"#bd3786\"],[0.5555555555555556,\"#d8576b\"],[0.6666666666666666,\"#ed7953\"],[0.7777777777777778,\"#fb9f3a\"],[0.8888888888888888,\"#fdca26\"],[1.0,\"#f0f921\"]],\"type\":\"heatmap\"}],\"histogram2dcontour\":[{\"colorbar\":{\"outlinewidth\":0,\"ticks\":\"\"},\"colorscale\":[[0.0,\"#0d0887\"],[0.1111111111111111,\"#46039f\"],[0.2222222222222222,\"#7201a8\"],[0.3333333333333333,\"#9c179e\"],[0.4444444444444444,\"#bd3786\"],[0.5555555555555556,\"#d8576b\"],[0.6666666666666666,\"#ed7953\"],[0.7777777777777778,\"#fb9f3a\"],[0.8888888888888888,\"#fdca26\"],[1.0,\"#f0f921\"]],\"type\":\"histogram2dcontour\"}],\"histogram2d\":[{\"colorbar\":{\"outlinewidth\":0,\"ticks\":\"\"},\"colorscale\":[[0.0,\"#0d0887\"],[0.1111111111111111,\"#46039f\"],[0.2222222222222222,\"#7201a8\"],[0.3333333333333333,\"#9c179e\"],[0.4444444444444444,\"#bd3786\"],[0.5555555555555556,\"#d8576b\"],[0.6666666666666666,\"#ed7953\"],[0.7777777777777778,\"#fb9f3a\"],[0.8888888888888888,\"#fdca26\"],[1.0,\"#f0f921\"]],\"type\":\"histogram2d\"}],\"histogram\":[{\"marker\":{\"pattern\":{\"fillmode\":\"overlay\",\"size\":10,\"solidity\":0.2}},\"type\":\"histogram\"}],\"mesh3d\":[{\"colorbar\":{\"outlinewidth\":0,\"ticks\":\"\"},\"type\":\"mesh3d\"}],\"parcoords\":[{\"line\":{\"colorbar\":{\"outlinewidth\":0,\"ticks\":\"\"}},\"type\":\"parcoords\"}],\"pie\":[{\"automargin\":true,\"type\":\"pie\"}],\"scatter3d\":[{\"line\":{\"colorbar\":{\"outlinewidth\":0,\"ticks\":\"\"}},\"marker\":{\"colorbar\":{\"outlinewidth\":0,\"ticks\":\"\"}},\"type\":\"scatter3d\"}],\"scattercarpet\":[{\"marker\":{\"colorbar\":{\"outlinewidth\":0,\"ticks\":\"\"}},\"type\":\"scattercarpet\"}],\"scattergeo\":[{\"marker\":{\"colorbar\":{\"outlinewidth\":0,\"ticks\":\"\"}},\"type\":\"scattergeo\"}],\"scattergl\":[{\"marker\":{\"colorbar\":{\"outlinewidth\":0,\"ticks\":\"\"}},\"type\":\"scattergl\"}],\"scattermapbox\":[{\"marker\":{\"colorbar\":{\"outlinewidth\":0,\"ticks\":\"\"}},\"type\":\"scattermapbox\"}],\"scatterpolargl\":[{\"marker\":{\"colorbar\":{\"outlinewidth\":0,\"ticks\":\"\"}},\"type\":\"scatterpolargl\"}],\"scatterpolar\":[{\"marker\":{\"colorbar\":{\"outlinewidth\":0,\"ticks\":\"\"}},\"type\":\"scatterpolar\"}],\"scatter\":[{\"marker\":{\"colorbar\":{\"outlinewidth\":0,\"ticks\":\"\"}},\"type\":\"scatter\"}],\"scatterternary\":[{\"marker\":{\"colorbar\":{\"outlinewidth\":0,\"ticks\":\"\"}},\"type\":\"scatterternary\"}],\"surface\":[{\"colorbar\":{\"outlinewidth\":0,\"ticks\":\"\"},\"colorscale\":[[0.0,\"#0d0887\"],[0.1111111111111111,\"#46039f\"],[0.2222222222222222,\"#7201a8\"],[0.3333333333333333,\"#9c179e\"],[0.4444444444444444,\"#bd3786\"],[0.5555555555555556,\"#d8576b\"],[0.6666666666666666,\"#ed7953\"],[0.7777777777777778,\"#fb9f3a\"],[0.8888888888888888,\"#fdca26\"],[1.0,\"#f0f921\"]],\"type\":\"surface\"}],\"table\":[{\"cells\":{\"fill\":{\"color\":\"#EBF0F8\"},\"line\":{\"color\":\"white\"}},\"header\":{\"fill\":{\"color\":\"#C8D4E3\"},\"line\":{\"color\":\"white\"}},\"type\":\"table\"}]},\"layout\":{\"annotationdefaults\":{\"arrowcolor\":\"#2a3f5f\",\"arrowhead\":0,\"arrowwidth\":1},\"autotypenumbers\":\"strict\",\"coloraxis\":{\"colorbar\":{\"outlinewidth\":0,\"ticks\":\"\"}},\"colorscale\":{\"diverging\":[[0,\"#8e0152\"],[0.1,\"#c51b7d\"],[0.2,\"#de77ae\"],[0.3,\"#f1b6da\"],[0.4,\"#fde0ef\"],[0.5,\"#f7f7f7\"],[0.6,\"#e6f5d0\"],[0.7,\"#b8e186\"],[0.8,\"#7fbc41\"],[0.9,\"#4d9221\"],[1,\"#276419\"]],\"sequential\":[[0.0,\"#0d0887\"],[0.1111111111111111,\"#46039f\"],[0.2222222222222222,\"#7201a8\"],[0.3333333333333333,\"#9c179e\"],[0.4444444444444444,\"#bd3786\"],[0.5555555555555556,\"#d8576b\"],[0.6666666666666666,\"#ed7953\"],[0.7777777777777778,\"#fb9f3a\"],[0.8888888888888888,\"#fdca26\"],[1.0,\"#f0f921\"]],\"sequentialminus\":[[0.0,\"#0d0887\"],[0.1111111111111111,\"#46039f\"],[0.2222222222222222,\"#7201a8\"],[0.3333333333333333,\"#9c179e\"],[0.4444444444444444,\"#bd3786\"],[0.5555555555555556,\"#d8576b\"],[0.6666666666666666,\"#ed7953\"],[0.7777777777777778,\"#fb9f3a\"],[0.8888888888888888,\"#fdca26\"],[1.0,\"#f0f921\"]]},\"colorway\":[\"#636efa\",\"#EF553B\",\"#00cc96\",\"#ab63fa\",\"#FFA15A\",\"#19d3f3\",\"#FF6692\",\"#B6E880\",\"#FF97FF\",\"#FECB52\"],\"font\":{\"color\":\"#2a3f5f\"},\"geo\":{\"bgcolor\":\"white\",\"lakecolor\":\"white\",\"landcolor\":\"#E5ECF6\",\"showlakes\":true,\"showland\":true,\"subunitcolor\":\"white\"},\"hoverlabel\":{\"align\":\"left\"},\"hovermode\":\"closest\",\"mapbox\":{\"style\":\"light\"},\"paper_bgcolor\":\"white\",\"plot_bgcolor\":\"#E5ECF6\",\"polar\":{\"angularaxis\":{\"gridcolor\":\"white\",\"linecolor\":\"white\",\"ticks\":\"\"},\"bgcolor\":\"#E5ECF6\",\"radialaxis\":{\"gridcolor\":\"white\",\"linecolor\":\"white\",\"ticks\":\"\"}},\"scene\":{\"xaxis\":{\"backgroundcolor\":\"#E5ECF6\",\"gridcolor\":\"white\",\"gridwidth\":2,\"linecolor\":\"white\",\"showbackground\":true,\"ticks\":\"\",\"zerolinecolor\":\"white\"},\"yaxis\":{\"backgroundcolor\":\"#E5ECF6\",\"gridcolor\":\"white\",\"gridwidth\":2,\"linecolor\":\"white\",\"showbackground\":true,\"ticks\":\"\",\"zerolinecolor\":\"white\"},\"zaxis\":{\"backgroundcolor\":\"#E5ECF6\",\"gridcolor\":\"white\",\"gridwidth\":2,\"linecolor\":\"white\",\"showbackground\":true,\"ticks\":\"\",\"zerolinecolor\":\"white\"}},\"shapedefaults\":{\"line\":{\"color\":\"#2a3f5f\"}},\"ternary\":{\"aaxis\":{\"gridcolor\":\"white\",\"linecolor\":\"white\",\"ticks\":\"\"},\"baxis\":{\"gridcolor\":\"white\",\"linecolor\":\"white\",\"ticks\":\"\"},\"bgcolor\":\"#E5ECF6\",\"caxis\":{\"gridcolor\":\"white\",\"linecolor\":\"white\",\"ticks\":\"\"}},\"title\":{\"x\":0.05},\"xaxis\":{\"automargin\":true,\"gridcolor\":\"white\",\"linecolor\":\"white\",\"ticks\":\"\",\"title\":{\"standoff\":15},\"zerolinecolor\":\"white\",\"zerolinewidth\":2},\"yaxis\":{\"automargin\":true,\"gridcolor\":\"white\",\"linecolor\":\"white\",\"ticks\":\"\",\"title\":{\"standoff\":15},\"zerolinecolor\":\"white\",\"zerolinewidth\":2}}},\"title\":{\"font\":{\"color\":\"#4D5663\"}},\"xaxis\":{\"gridcolor\":\"#E1E5ED\",\"showgrid\":true,\"tickfont\":{\"color\":\"#4D5663\"},\"title\":{\"font\":{\"color\":\"#4D5663\"},\"text\":\"\"},\"zerolinecolor\":\"#E1E5ED\"},\"yaxis\":{\"gridcolor\":\"#E1E5ED\",\"showgrid\":true,\"tickfont\":{\"color\":\"#4D5663\"},\"title\":{\"font\":{\"color\":\"#4D5663\"},\"text\":\"\"},\"zerolinecolor\":\"#E1E5ED\"}},                        {\"showLink\": true, \"linkText\": \"Export to plot.ly\", \"plotlyServerURL\": \"https://plot.ly\", \"responsive\": true}                    ).then(function(){\n",
       "                            \n",
       "var gd = document.getElementById('b6dbcf55-13d9-4e16-ab2f-a3666cd35f24');\n",
       "var x = new MutationObserver(function (mutations, observer) {{\n",
       "        var display = window.getComputedStyle(gd).display;\n",
       "        if (!display || display === 'none') {{\n",
       "            console.log([gd, 'removed!']);\n",
       "            Plotly.purge(gd);\n",
       "            observer.disconnect();\n",
       "        }}\n",
       "}});\n",
       "\n",
       "// Listen for the removal of the full notebook cells\n",
       "var notebookContainer = gd.closest('#notebook-container');\n",
       "if (notebookContainer) {{\n",
       "    x.observe(notebookContainer, {childList: true});\n",
       "}}\n",
       "\n",
       "// Listen for the clearing of the current output cell\n",
       "var outputEl = gd.closest('.output');\n",
       "if (outputEl) {{\n",
       "    x.observe(outputEl, {childList: true});\n",
       "}}\n",
       "\n",
       "                        })                };                });            </script>        </div>"
      ]
     },
     "metadata": {},
     "output_type": "display_data"
    }
   ],
   "source": [
    "df.iplot(kind='scatter',x='A',y='B', mode='markers', size=20)"
   ]
  },
  {
   "cell_type": "code",
   "execution_count": 12,
   "id": "d6e017cd",
   "metadata": {},
   "outputs": [
    {
     "data": {
      "application/vnd.plotly.v1+json": {
       "config": {
        "linkText": "Export to plot.ly",
        "plotlyServerURL": "https://plot.ly",
        "showLink": true
       },
       "data": [
        {
         "marker": {
          "color": "rgba(255, 153, 51, 0.6)",
          "line": {
           "color": "rgba(255, 153, 51, 1.0)",
           "width": 1
          }
         },
         "name": "Values",
         "orientation": "v",
         "text": "",
         "type": "bar",
         "x": [
          "A",
          "B",
          "C"
         ],
         "y": [
          32,
          43,
          50
         ]
        }
       ],
       "layout": {
        "legend": {
         "bgcolor": "#F5F6F9",
         "font": {
          "color": "#4D5663"
         }
        },
        "paper_bgcolor": "#F5F6F9",
        "plot_bgcolor": "#F5F6F9",
        "template": {
         "data": {
          "bar": [
           {
            "error_x": {
             "color": "#2a3f5f"
            },
            "error_y": {
             "color": "#2a3f5f"
            },
            "marker": {
             "line": {
              "color": "#E5ECF6",
              "width": 0.5
             },
             "pattern": {
              "fillmode": "overlay",
              "size": 10,
              "solidity": 0.2
             }
            },
            "type": "bar"
           }
          ],
          "barpolar": [
           {
            "marker": {
             "line": {
              "color": "#E5ECF6",
              "width": 0.5
             },
             "pattern": {
              "fillmode": "overlay",
              "size": 10,
              "solidity": 0.2
             }
            },
            "type": "barpolar"
           }
          ],
          "carpet": [
           {
            "aaxis": {
             "endlinecolor": "#2a3f5f",
             "gridcolor": "white",
             "linecolor": "white",
             "minorgridcolor": "white",
             "startlinecolor": "#2a3f5f"
            },
            "baxis": {
             "endlinecolor": "#2a3f5f",
             "gridcolor": "white",
             "linecolor": "white",
             "minorgridcolor": "white",
             "startlinecolor": "#2a3f5f"
            },
            "type": "carpet"
           }
          ],
          "choropleth": [
           {
            "colorbar": {
             "outlinewidth": 0,
             "ticks": ""
            },
            "type": "choropleth"
           }
          ],
          "contour": [
           {
            "colorbar": {
             "outlinewidth": 0,
             "ticks": ""
            },
            "colorscale": [
             [
              0,
              "#0d0887"
             ],
             [
              0.1111111111111111,
              "#46039f"
             ],
             [
              0.2222222222222222,
              "#7201a8"
             ],
             [
              0.3333333333333333,
              "#9c179e"
             ],
             [
              0.4444444444444444,
              "#bd3786"
             ],
             [
              0.5555555555555556,
              "#d8576b"
             ],
             [
              0.6666666666666666,
              "#ed7953"
             ],
             [
              0.7777777777777778,
              "#fb9f3a"
             ],
             [
              0.8888888888888888,
              "#fdca26"
             ],
             [
              1,
              "#f0f921"
             ]
            ],
            "type": "contour"
           }
          ],
          "contourcarpet": [
           {
            "colorbar": {
             "outlinewidth": 0,
             "ticks": ""
            },
            "type": "contourcarpet"
           }
          ],
          "heatmap": [
           {
            "colorbar": {
             "outlinewidth": 0,
             "ticks": ""
            },
            "colorscale": [
             [
              0,
              "#0d0887"
             ],
             [
              0.1111111111111111,
              "#46039f"
             ],
             [
              0.2222222222222222,
              "#7201a8"
             ],
             [
              0.3333333333333333,
              "#9c179e"
             ],
             [
              0.4444444444444444,
              "#bd3786"
             ],
             [
              0.5555555555555556,
              "#d8576b"
             ],
             [
              0.6666666666666666,
              "#ed7953"
             ],
             [
              0.7777777777777778,
              "#fb9f3a"
             ],
             [
              0.8888888888888888,
              "#fdca26"
             ],
             [
              1,
              "#f0f921"
             ]
            ],
            "type": "heatmap"
           }
          ],
          "heatmapgl": [
           {
            "colorbar": {
             "outlinewidth": 0,
             "ticks": ""
            },
            "colorscale": [
             [
              0,
              "#0d0887"
             ],
             [
              0.1111111111111111,
              "#46039f"
             ],
             [
              0.2222222222222222,
              "#7201a8"
             ],
             [
              0.3333333333333333,
              "#9c179e"
             ],
             [
              0.4444444444444444,
              "#bd3786"
             ],
             [
              0.5555555555555556,
              "#d8576b"
             ],
             [
              0.6666666666666666,
              "#ed7953"
             ],
             [
              0.7777777777777778,
              "#fb9f3a"
             ],
             [
              0.8888888888888888,
              "#fdca26"
             ],
             [
              1,
              "#f0f921"
             ]
            ],
            "type": "heatmapgl"
           }
          ],
          "histogram": [
           {
            "marker": {
             "pattern": {
              "fillmode": "overlay",
              "size": 10,
              "solidity": 0.2
             }
            },
            "type": "histogram"
           }
          ],
          "histogram2d": [
           {
            "colorbar": {
             "outlinewidth": 0,
             "ticks": ""
            },
            "colorscale": [
             [
              0,
              "#0d0887"
             ],
             [
              0.1111111111111111,
              "#46039f"
             ],
             [
              0.2222222222222222,
              "#7201a8"
             ],
             [
              0.3333333333333333,
              "#9c179e"
             ],
             [
              0.4444444444444444,
              "#bd3786"
             ],
             [
              0.5555555555555556,
              "#d8576b"
             ],
             [
              0.6666666666666666,
              "#ed7953"
             ],
             [
              0.7777777777777778,
              "#fb9f3a"
             ],
             [
              0.8888888888888888,
              "#fdca26"
             ],
             [
              1,
              "#f0f921"
             ]
            ],
            "type": "histogram2d"
           }
          ],
          "histogram2dcontour": [
           {
            "colorbar": {
             "outlinewidth": 0,
             "ticks": ""
            },
            "colorscale": [
             [
              0,
              "#0d0887"
             ],
             [
              0.1111111111111111,
              "#46039f"
             ],
             [
              0.2222222222222222,
              "#7201a8"
             ],
             [
              0.3333333333333333,
              "#9c179e"
             ],
             [
              0.4444444444444444,
              "#bd3786"
             ],
             [
              0.5555555555555556,
              "#d8576b"
             ],
             [
              0.6666666666666666,
              "#ed7953"
             ],
             [
              0.7777777777777778,
              "#fb9f3a"
             ],
             [
              0.8888888888888888,
              "#fdca26"
             ],
             [
              1,
              "#f0f921"
             ]
            ],
            "type": "histogram2dcontour"
           }
          ],
          "mesh3d": [
           {
            "colorbar": {
             "outlinewidth": 0,
             "ticks": ""
            },
            "type": "mesh3d"
           }
          ],
          "parcoords": [
           {
            "line": {
             "colorbar": {
              "outlinewidth": 0,
              "ticks": ""
             }
            },
            "type": "parcoords"
           }
          ],
          "pie": [
           {
            "automargin": true,
            "type": "pie"
           }
          ],
          "scatter": [
           {
            "marker": {
             "colorbar": {
              "outlinewidth": 0,
              "ticks": ""
             }
            },
            "type": "scatter"
           }
          ],
          "scatter3d": [
           {
            "line": {
             "colorbar": {
              "outlinewidth": 0,
              "ticks": ""
             }
            },
            "marker": {
             "colorbar": {
              "outlinewidth": 0,
              "ticks": ""
             }
            },
            "type": "scatter3d"
           }
          ],
          "scattercarpet": [
           {
            "marker": {
             "colorbar": {
              "outlinewidth": 0,
              "ticks": ""
             }
            },
            "type": "scattercarpet"
           }
          ],
          "scattergeo": [
           {
            "marker": {
             "colorbar": {
              "outlinewidth": 0,
              "ticks": ""
             }
            },
            "type": "scattergeo"
           }
          ],
          "scattergl": [
           {
            "marker": {
             "colorbar": {
              "outlinewidth": 0,
              "ticks": ""
             }
            },
            "type": "scattergl"
           }
          ],
          "scattermapbox": [
           {
            "marker": {
             "colorbar": {
              "outlinewidth": 0,
              "ticks": ""
             }
            },
            "type": "scattermapbox"
           }
          ],
          "scatterpolar": [
           {
            "marker": {
             "colorbar": {
              "outlinewidth": 0,
              "ticks": ""
             }
            },
            "type": "scatterpolar"
           }
          ],
          "scatterpolargl": [
           {
            "marker": {
             "colorbar": {
              "outlinewidth": 0,
              "ticks": ""
             }
            },
            "type": "scatterpolargl"
           }
          ],
          "scatterternary": [
           {
            "marker": {
             "colorbar": {
              "outlinewidth": 0,
              "ticks": ""
             }
            },
            "type": "scatterternary"
           }
          ],
          "surface": [
           {
            "colorbar": {
             "outlinewidth": 0,
             "ticks": ""
            },
            "colorscale": [
             [
              0,
              "#0d0887"
             ],
             [
              0.1111111111111111,
              "#46039f"
             ],
             [
              0.2222222222222222,
              "#7201a8"
             ],
             [
              0.3333333333333333,
              "#9c179e"
             ],
             [
              0.4444444444444444,
              "#bd3786"
             ],
             [
              0.5555555555555556,
              "#d8576b"
             ],
             [
              0.6666666666666666,
              "#ed7953"
             ],
             [
              0.7777777777777778,
              "#fb9f3a"
             ],
             [
              0.8888888888888888,
              "#fdca26"
             ],
             [
              1,
              "#f0f921"
             ]
            ],
            "type": "surface"
           }
          ],
          "table": [
           {
            "cells": {
             "fill": {
              "color": "#EBF0F8"
             },
             "line": {
              "color": "white"
             }
            },
            "header": {
             "fill": {
              "color": "#C8D4E3"
             },
             "line": {
              "color": "white"
             }
            },
            "type": "table"
           }
          ]
         },
         "layout": {
          "annotationdefaults": {
           "arrowcolor": "#2a3f5f",
           "arrowhead": 0,
           "arrowwidth": 1
          },
          "autotypenumbers": "strict",
          "coloraxis": {
           "colorbar": {
            "outlinewidth": 0,
            "ticks": ""
           }
          },
          "colorscale": {
           "diverging": [
            [
             0,
             "#8e0152"
            ],
            [
             0.1,
             "#c51b7d"
            ],
            [
             0.2,
             "#de77ae"
            ],
            [
             0.3,
             "#f1b6da"
            ],
            [
             0.4,
             "#fde0ef"
            ],
            [
             0.5,
             "#f7f7f7"
            ],
            [
             0.6,
             "#e6f5d0"
            ],
            [
             0.7,
             "#b8e186"
            ],
            [
             0.8,
             "#7fbc41"
            ],
            [
             0.9,
             "#4d9221"
            ],
            [
             1,
             "#276419"
            ]
           ],
           "sequential": [
            [
             0,
             "#0d0887"
            ],
            [
             0.1111111111111111,
             "#46039f"
            ],
            [
             0.2222222222222222,
             "#7201a8"
            ],
            [
             0.3333333333333333,
             "#9c179e"
            ],
            [
             0.4444444444444444,
             "#bd3786"
            ],
            [
             0.5555555555555556,
             "#d8576b"
            ],
            [
             0.6666666666666666,
             "#ed7953"
            ],
            [
             0.7777777777777778,
             "#fb9f3a"
            ],
            [
             0.8888888888888888,
             "#fdca26"
            ],
            [
             1,
             "#f0f921"
            ]
           ],
           "sequentialminus": [
            [
             0,
             "#0d0887"
            ],
            [
             0.1111111111111111,
             "#46039f"
            ],
            [
             0.2222222222222222,
             "#7201a8"
            ],
            [
             0.3333333333333333,
             "#9c179e"
            ],
            [
             0.4444444444444444,
             "#bd3786"
            ],
            [
             0.5555555555555556,
             "#d8576b"
            ],
            [
             0.6666666666666666,
             "#ed7953"
            ],
            [
             0.7777777777777778,
             "#fb9f3a"
            ],
            [
             0.8888888888888888,
             "#fdca26"
            ],
            [
             1,
             "#f0f921"
            ]
           ]
          },
          "colorway": [
           "#636efa",
           "#EF553B",
           "#00cc96",
           "#ab63fa",
           "#FFA15A",
           "#19d3f3",
           "#FF6692",
           "#B6E880",
           "#FF97FF",
           "#FECB52"
          ],
          "font": {
           "color": "#2a3f5f"
          },
          "geo": {
           "bgcolor": "white",
           "lakecolor": "white",
           "landcolor": "#E5ECF6",
           "showlakes": true,
           "showland": true,
           "subunitcolor": "white"
          },
          "hoverlabel": {
           "align": "left"
          },
          "hovermode": "closest",
          "mapbox": {
           "style": "light"
          },
          "paper_bgcolor": "white",
          "plot_bgcolor": "#E5ECF6",
          "polar": {
           "angularaxis": {
            "gridcolor": "white",
            "linecolor": "white",
            "ticks": ""
           },
           "bgcolor": "#E5ECF6",
           "radialaxis": {
            "gridcolor": "white",
            "linecolor": "white",
            "ticks": ""
           }
          },
          "scene": {
           "xaxis": {
            "backgroundcolor": "#E5ECF6",
            "gridcolor": "white",
            "gridwidth": 2,
            "linecolor": "white",
            "showbackground": true,
            "ticks": "",
            "zerolinecolor": "white"
           },
           "yaxis": {
            "backgroundcolor": "#E5ECF6",
            "gridcolor": "white",
            "gridwidth": 2,
            "linecolor": "white",
            "showbackground": true,
            "ticks": "",
            "zerolinecolor": "white"
           },
           "zaxis": {
            "backgroundcolor": "#E5ECF6",
            "gridcolor": "white",
            "gridwidth": 2,
            "linecolor": "white",
            "showbackground": true,
            "ticks": "",
            "zerolinecolor": "white"
           }
          },
          "shapedefaults": {
           "line": {
            "color": "#2a3f5f"
           }
          },
          "ternary": {
           "aaxis": {
            "gridcolor": "white",
            "linecolor": "white",
            "ticks": ""
           },
           "baxis": {
            "gridcolor": "white",
            "linecolor": "white",
            "ticks": ""
           },
           "bgcolor": "#E5ECF6",
           "caxis": {
            "gridcolor": "white",
            "linecolor": "white",
            "ticks": ""
           }
          },
          "title": {
           "x": 0.05
          },
          "xaxis": {
           "automargin": true,
           "gridcolor": "white",
           "linecolor": "white",
           "ticks": "",
           "title": {
            "standoff": 15
           },
           "zerolinecolor": "white",
           "zerolinewidth": 2
          },
          "yaxis": {
           "automargin": true,
           "gridcolor": "white",
           "linecolor": "white",
           "ticks": "",
           "title": {
            "standoff": 15
           },
           "zerolinecolor": "white",
           "zerolinewidth": 2
          }
         }
        },
        "title": {
         "font": {
          "color": "#4D5663"
         }
        },
        "xaxis": {
         "gridcolor": "#E1E5ED",
         "showgrid": true,
         "tickfont": {
          "color": "#4D5663"
         },
         "title": {
          "font": {
           "color": "#4D5663"
          },
          "text": ""
         },
         "zerolinecolor": "#E1E5ED"
        },
        "yaxis": {
         "gridcolor": "#E1E5ED",
         "showgrid": true,
         "tickfont": {
          "color": "#4D5663"
         },
         "title": {
          "font": {
           "color": "#4D5663"
          },
          "text": ""
         },
         "zerolinecolor": "#E1E5ED"
        }
       }
      },
      "text/html": [
       "<div>                            <div id=\"15b35ec5-3d3a-4361-b9e0-230fdedf34bd\" class=\"plotly-graph-div\" style=\"height:525px; width:100%;\"></div>            <script type=\"text/javascript\">                require([\"plotly\"], function(Plotly) {                    window.PLOTLYENV=window.PLOTLYENV || {};\n",
       "                    window.PLOTLYENV.BASE_URL='https://plot.ly';                                    if (document.getElementById(\"15b35ec5-3d3a-4361-b9e0-230fdedf34bd\")) {                    Plotly.newPlot(                        \"15b35ec5-3d3a-4361-b9e0-230fdedf34bd\",                        [{\"marker\":{\"color\":\"rgba(255, 153, 51, 0.6)\",\"line\":{\"color\":\"rgba(255, 153, 51, 1.0)\",\"width\":1}},\"name\":\"Values\",\"orientation\":\"v\",\"text\":\"\",\"x\":[\"A\",\"B\",\"C\"],\"y\":[32,43,50],\"type\":\"bar\"}],                        {\"legend\":{\"bgcolor\":\"#F5F6F9\",\"font\":{\"color\":\"#4D5663\"}},\"paper_bgcolor\":\"#F5F6F9\",\"plot_bgcolor\":\"#F5F6F9\",\"template\":{\"data\":{\"barpolar\":[{\"marker\":{\"line\":{\"color\":\"#E5ECF6\",\"width\":0.5},\"pattern\":{\"fillmode\":\"overlay\",\"size\":10,\"solidity\":0.2}},\"type\":\"barpolar\"}],\"bar\":[{\"error_x\":{\"color\":\"#2a3f5f\"},\"error_y\":{\"color\":\"#2a3f5f\"},\"marker\":{\"line\":{\"color\":\"#E5ECF6\",\"width\":0.5},\"pattern\":{\"fillmode\":\"overlay\",\"size\":10,\"solidity\":0.2}},\"type\":\"bar\"}],\"carpet\":[{\"aaxis\":{\"endlinecolor\":\"#2a3f5f\",\"gridcolor\":\"white\",\"linecolor\":\"white\",\"minorgridcolor\":\"white\",\"startlinecolor\":\"#2a3f5f\"},\"baxis\":{\"endlinecolor\":\"#2a3f5f\",\"gridcolor\":\"white\",\"linecolor\":\"white\",\"minorgridcolor\":\"white\",\"startlinecolor\":\"#2a3f5f\"},\"type\":\"carpet\"}],\"choropleth\":[{\"colorbar\":{\"outlinewidth\":0,\"ticks\":\"\"},\"type\":\"choropleth\"}],\"contourcarpet\":[{\"colorbar\":{\"outlinewidth\":0,\"ticks\":\"\"},\"type\":\"contourcarpet\"}],\"contour\":[{\"colorbar\":{\"outlinewidth\":0,\"ticks\":\"\"},\"colorscale\":[[0.0,\"#0d0887\"],[0.1111111111111111,\"#46039f\"],[0.2222222222222222,\"#7201a8\"],[0.3333333333333333,\"#9c179e\"],[0.4444444444444444,\"#bd3786\"],[0.5555555555555556,\"#d8576b\"],[0.6666666666666666,\"#ed7953\"],[0.7777777777777778,\"#fb9f3a\"],[0.8888888888888888,\"#fdca26\"],[1.0,\"#f0f921\"]],\"type\":\"contour\"}],\"heatmapgl\":[{\"colorbar\":{\"outlinewidth\":0,\"ticks\":\"\"},\"colorscale\":[[0.0,\"#0d0887\"],[0.1111111111111111,\"#46039f\"],[0.2222222222222222,\"#7201a8\"],[0.3333333333333333,\"#9c179e\"],[0.4444444444444444,\"#bd3786\"],[0.5555555555555556,\"#d8576b\"],[0.6666666666666666,\"#ed7953\"],[0.7777777777777778,\"#fb9f3a\"],[0.8888888888888888,\"#fdca26\"],[1.0,\"#f0f921\"]],\"type\":\"heatmapgl\"}],\"heatmap\":[{\"colorbar\":{\"outlinewidth\":0,\"ticks\":\"\"},\"colorscale\":[[0.0,\"#0d0887\"],[0.1111111111111111,\"#46039f\"],[0.2222222222222222,\"#7201a8\"],[0.3333333333333333,\"#9c179e\"],[0.4444444444444444,\"#bd3786\"],[0.5555555555555556,\"#d8576b\"],[0.6666666666666666,\"#ed7953\"],[0.7777777777777778,\"#fb9f3a\"],[0.8888888888888888,\"#fdca26\"],[1.0,\"#f0f921\"]],\"type\":\"heatmap\"}],\"histogram2dcontour\":[{\"colorbar\":{\"outlinewidth\":0,\"ticks\":\"\"},\"colorscale\":[[0.0,\"#0d0887\"],[0.1111111111111111,\"#46039f\"],[0.2222222222222222,\"#7201a8\"],[0.3333333333333333,\"#9c179e\"],[0.4444444444444444,\"#bd3786\"],[0.5555555555555556,\"#d8576b\"],[0.6666666666666666,\"#ed7953\"],[0.7777777777777778,\"#fb9f3a\"],[0.8888888888888888,\"#fdca26\"],[1.0,\"#f0f921\"]],\"type\":\"histogram2dcontour\"}],\"histogram2d\":[{\"colorbar\":{\"outlinewidth\":0,\"ticks\":\"\"},\"colorscale\":[[0.0,\"#0d0887\"],[0.1111111111111111,\"#46039f\"],[0.2222222222222222,\"#7201a8\"],[0.3333333333333333,\"#9c179e\"],[0.4444444444444444,\"#bd3786\"],[0.5555555555555556,\"#d8576b\"],[0.6666666666666666,\"#ed7953\"],[0.7777777777777778,\"#fb9f3a\"],[0.8888888888888888,\"#fdca26\"],[1.0,\"#f0f921\"]],\"type\":\"histogram2d\"}],\"histogram\":[{\"marker\":{\"pattern\":{\"fillmode\":\"overlay\",\"size\":10,\"solidity\":0.2}},\"type\":\"histogram\"}],\"mesh3d\":[{\"colorbar\":{\"outlinewidth\":0,\"ticks\":\"\"},\"type\":\"mesh3d\"}],\"parcoords\":[{\"line\":{\"colorbar\":{\"outlinewidth\":0,\"ticks\":\"\"}},\"type\":\"parcoords\"}],\"pie\":[{\"automargin\":true,\"type\":\"pie\"}],\"scatter3d\":[{\"line\":{\"colorbar\":{\"outlinewidth\":0,\"ticks\":\"\"}},\"marker\":{\"colorbar\":{\"outlinewidth\":0,\"ticks\":\"\"}},\"type\":\"scatter3d\"}],\"scattercarpet\":[{\"marker\":{\"colorbar\":{\"outlinewidth\":0,\"ticks\":\"\"}},\"type\":\"scattercarpet\"}],\"scattergeo\":[{\"marker\":{\"colorbar\":{\"outlinewidth\":0,\"ticks\":\"\"}},\"type\":\"scattergeo\"}],\"scattergl\":[{\"marker\":{\"colorbar\":{\"outlinewidth\":0,\"ticks\":\"\"}},\"type\":\"scattergl\"}],\"scattermapbox\":[{\"marker\":{\"colorbar\":{\"outlinewidth\":0,\"ticks\":\"\"}},\"type\":\"scattermapbox\"}],\"scatterpolargl\":[{\"marker\":{\"colorbar\":{\"outlinewidth\":0,\"ticks\":\"\"}},\"type\":\"scatterpolargl\"}],\"scatterpolar\":[{\"marker\":{\"colorbar\":{\"outlinewidth\":0,\"ticks\":\"\"}},\"type\":\"scatterpolar\"}],\"scatter\":[{\"marker\":{\"colorbar\":{\"outlinewidth\":0,\"ticks\":\"\"}},\"type\":\"scatter\"}],\"scatterternary\":[{\"marker\":{\"colorbar\":{\"outlinewidth\":0,\"ticks\":\"\"}},\"type\":\"scatterternary\"}],\"surface\":[{\"colorbar\":{\"outlinewidth\":0,\"ticks\":\"\"},\"colorscale\":[[0.0,\"#0d0887\"],[0.1111111111111111,\"#46039f\"],[0.2222222222222222,\"#7201a8\"],[0.3333333333333333,\"#9c179e\"],[0.4444444444444444,\"#bd3786\"],[0.5555555555555556,\"#d8576b\"],[0.6666666666666666,\"#ed7953\"],[0.7777777777777778,\"#fb9f3a\"],[0.8888888888888888,\"#fdca26\"],[1.0,\"#f0f921\"]],\"type\":\"surface\"}],\"table\":[{\"cells\":{\"fill\":{\"color\":\"#EBF0F8\"},\"line\":{\"color\":\"white\"}},\"header\":{\"fill\":{\"color\":\"#C8D4E3\"},\"line\":{\"color\":\"white\"}},\"type\":\"table\"}]},\"layout\":{\"annotationdefaults\":{\"arrowcolor\":\"#2a3f5f\",\"arrowhead\":0,\"arrowwidth\":1},\"autotypenumbers\":\"strict\",\"coloraxis\":{\"colorbar\":{\"outlinewidth\":0,\"ticks\":\"\"}},\"colorscale\":{\"diverging\":[[0,\"#8e0152\"],[0.1,\"#c51b7d\"],[0.2,\"#de77ae\"],[0.3,\"#f1b6da\"],[0.4,\"#fde0ef\"],[0.5,\"#f7f7f7\"],[0.6,\"#e6f5d0\"],[0.7,\"#b8e186\"],[0.8,\"#7fbc41\"],[0.9,\"#4d9221\"],[1,\"#276419\"]],\"sequential\":[[0.0,\"#0d0887\"],[0.1111111111111111,\"#46039f\"],[0.2222222222222222,\"#7201a8\"],[0.3333333333333333,\"#9c179e\"],[0.4444444444444444,\"#bd3786\"],[0.5555555555555556,\"#d8576b\"],[0.6666666666666666,\"#ed7953\"],[0.7777777777777778,\"#fb9f3a\"],[0.8888888888888888,\"#fdca26\"],[1.0,\"#f0f921\"]],\"sequentialminus\":[[0.0,\"#0d0887\"],[0.1111111111111111,\"#46039f\"],[0.2222222222222222,\"#7201a8\"],[0.3333333333333333,\"#9c179e\"],[0.4444444444444444,\"#bd3786\"],[0.5555555555555556,\"#d8576b\"],[0.6666666666666666,\"#ed7953\"],[0.7777777777777778,\"#fb9f3a\"],[0.8888888888888888,\"#fdca26\"],[1.0,\"#f0f921\"]]},\"colorway\":[\"#636efa\",\"#EF553B\",\"#00cc96\",\"#ab63fa\",\"#FFA15A\",\"#19d3f3\",\"#FF6692\",\"#B6E880\",\"#FF97FF\",\"#FECB52\"],\"font\":{\"color\":\"#2a3f5f\"},\"geo\":{\"bgcolor\":\"white\",\"lakecolor\":\"white\",\"landcolor\":\"#E5ECF6\",\"showlakes\":true,\"showland\":true,\"subunitcolor\":\"white\"},\"hoverlabel\":{\"align\":\"left\"},\"hovermode\":\"closest\",\"mapbox\":{\"style\":\"light\"},\"paper_bgcolor\":\"white\",\"plot_bgcolor\":\"#E5ECF6\",\"polar\":{\"angularaxis\":{\"gridcolor\":\"white\",\"linecolor\":\"white\",\"ticks\":\"\"},\"bgcolor\":\"#E5ECF6\",\"radialaxis\":{\"gridcolor\":\"white\",\"linecolor\":\"white\",\"ticks\":\"\"}},\"scene\":{\"xaxis\":{\"backgroundcolor\":\"#E5ECF6\",\"gridcolor\":\"white\",\"gridwidth\":2,\"linecolor\":\"white\",\"showbackground\":true,\"ticks\":\"\",\"zerolinecolor\":\"white\"},\"yaxis\":{\"backgroundcolor\":\"#E5ECF6\",\"gridcolor\":\"white\",\"gridwidth\":2,\"linecolor\":\"white\",\"showbackground\":true,\"ticks\":\"\",\"zerolinecolor\":\"white\"},\"zaxis\":{\"backgroundcolor\":\"#E5ECF6\",\"gridcolor\":\"white\",\"gridwidth\":2,\"linecolor\":\"white\",\"showbackground\":true,\"ticks\":\"\",\"zerolinecolor\":\"white\"}},\"shapedefaults\":{\"line\":{\"color\":\"#2a3f5f\"}},\"ternary\":{\"aaxis\":{\"gridcolor\":\"white\",\"linecolor\":\"white\",\"ticks\":\"\"},\"baxis\":{\"gridcolor\":\"white\",\"linecolor\":\"white\",\"ticks\":\"\"},\"bgcolor\":\"#E5ECF6\",\"caxis\":{\"gridcolor\":\"white\",\"linecolor\":\"white\",\"ticks\":\"\"}},\"title\":{\"x\":0.05},\"xaxis\":{\"automargin\":true,\"gridcolor\":\"white\",\"linecolor\":\"white\",\"ticks\":\"\",\"title\":{\"standoff\":15},\"zerolinecolor\":\"white\",\"zerolinewidth\":2},\"yaxis\":{\"automargin\":true,\"gridcolor\":\"white\",\"linecolor\":\"white\",\"ticks\":\"\",\"title\":{\"standoff\":15},\"zerolinecolor\":\"white\",\"zerolinewidth\":2}}},\"title\":{\"font\":{\"color\":\"#4D5663\"}},\"xaxis\":{\"gridcolor\":\"#E1E5ED\",\"showgrid\":true,\"tickfont\":{\"color\":\"#4D5663\"},\"title\":{\"font\":{\"color\":\"#4D5663\"},\"text\":\"\"},\"zerolinecolor\":\"#E1E5ED\"},\"yaxis\":{\"gridcolor\":\"#E1E5ED\",\"showgrid\":true,\"tickfont\":{\"color\":\"#4D5663\"},\"title\":{\"font\":{\"color\":\"#4D5663\"},\"text\":\"\"},\"zerolinecolor\":\"#E1E5ED\"}},                        {\"showLink\": true, \"linkText\": \"Export to plot.ly\", \"plotlyServerURL\": \"https://plot.ly\", \"responsive\": true}                    ).then(function(){\n",
       "                            \n",
       "var gd = document.getElementById('15b35ec5-3d3a-4361-b9e0-230fdedf34bd');\n",
       "var x = new MutationObserver(function (mutations, observer) {{\n",
       "        var display = window.getComputedStyle(gd).display;\n",
       "        if (!display || display === 'none') {{\n",
       "            console.log([gd, 'removed!']);\n",
       "            Plotly.purge(gd);\n",
       "            observer.disconnect();\n",
       "        }}\n",
       "}});\n",
       "\n",
       "// Listen for the removal of the full notebook cells\n",
       "var notebookContainer = gd.closest('#notebook-container');\n",
       "if (notebookContainer) {{\n",
       "    x.observe(notebookContainer, {childList: true});\n",
       "}}\n",
       "\n",
       "// Listen for the clearing of the current output cell\n",
       "var outputEl = gd.closest('.output');\n",
       "if (outputEl) {{\n",
       "    x.observe(outputEl, {childList: true});\n",
       "}}\n",
       "\n",
       "                        })                };                });            </script>        </div>"
      ]
     },
     "metadata": {},
     "output_type": "display_data"
    }
   ],
   "source": [
    "df2.iplot(kind='bar',x='Category',y='Values', size=20)"
   ]
  },
  {
   "cell_type": "code",
   "execution_count": 13,
   "id": "5819de25",
   "metadata": {},
   "outputs": [
    {
     "data": {
      "application/vnd.plotly.v1+json": {
       "config": {
        "linkText": "Export to plot.ly",
        "plotlyServerURL": "https://plot.ly",
        "showLink": true
       },
       "data": [
        {
         "marker": {
          "color": "rgba(255, 153, 51, 0.6)",
          "line": {
           "color": "rgba(255, 153, 51, 1.0)",
           "width": 1
          }
         },
         "name": "None",
         "orientation": "v",
         "text": "",
         "type": "bar",
         "x": [
          "A",
          "B",
          "C",
          "D"
         ],
         "y": [
          100,
          100,
          100,
          100
         ]
        }
       ],
       "layout": {
        "legend": {
         "bgcolor": "#F5F6F9",
         "font": {
          "color": "#4D5663"
         }
        },
        "paper_bgcolor": "#F5F6F9",
        "plot_bgcolor": "#F5F6F9",
        "template": {
         "data": {
          "bar": [
           {
            "error_x": {
             "color": "#2a3f5f"
            },
            "error_y": {
             "color": "#2a3f5f"
            },
            "marker": {
             "line": {
              "color": "#E5ECF6",
              "width": 0.5
             },
             "pattern": {
              "fillmode": "overlay",
              "size": 10,
              "solidity": 0.2
             }
            },
            "type": "bar"
           }
          ],
          "barpolar": [
           {
            "marker": {
             "line": {
              "color": "#E5ECF6",
              "width": 0.5
             },
             "pattern": {
              "fillmode": "overlay",
              "size": 10,
              "solidity": 0.2
             }
            },
            "type": "barpolar"
           }
          ],
          "carpet": [
           {
            "aaxis": {
             "endlinecolor": "#2a3f5f",
             "gridcolor": "white",
             "linecolor": "white",
             "minorgridcolor": "white",
             "startlinecolor": "#2a3f5f"
            },
            "baxis": {
             "endlinecolor": "#2a3f5f",
             "gridcolor": "white",
             "linecolor": "white",
             "minorgridcolor": "white",
             "startlinecolor": "#2a3f5f"
            },
            "type": "carpet"
           }
          ],
          "choropleth": [
           {
            "colorbar": {
             "outlinewidth": 0,
             "ticks": ""
            },
            "type": "choropleth"
           }
          ],
          "contour": [
           {
            "colorbar": {
             "outlinewidth": 0,
             "ticks": ""
            },
            "colorscale": [
             [
              0,
              "#0d0887"
             ],
             [
              0.1111111111111111,
              "#46039f"
             ],
             [
              0.2222222222222222,
              "#7201a8"
             ],
             [
              0.3333333333333333,
              "#9c179e"
             ],
             [
              0.4444444444444444,
              "#bd3786"
             ],
             [
              0.5555555555555556,
              "#d8576b"
             ],
             [
              0.6666666666666666,
              "#ed7953"
             ],
             [
              0.7777777777777778,
              "#fb9f3a"
             ],
             [
              0.8888888888888888,
              "#fdca26"
             ],
             [
              1,
              "#f0f921"
             ]
            ],
            "type": "contour"
           }
          ],
          "contourcarpet": [
           {
            "colorbar": {
             "outlinewidth": 0,
             "ticks": ""
            },
            "type": "contourcarpet"
           }
          ],
          "heatmap": [
           {
            "colorbar": {
             "outlinewidth": 0,
             "ticks": ""
            },
            "colorscale": [
             [
              0,
              "#0d0887"
             ],
             [
              0.1111111111111111,
              "#46039f"
             ],
             [
              0.2222222222222222,
              "#7201a8"
             ],
             [
              0.3333333333333333,
              "#9c179e"
             ],
             [
              0.4444444444444444,
              "#bd3786"
             ],
             [
              0.5555555555555556,
              "#d8576b"
             ],
             [
              0.6666666666666666,
              "#ed7953"
             ],
             [
              0.7777777777777778,
              "#fb9f3a"
             ],
             [
              0.8888888888888888,
              "#fdca26"
             ],
             [
              1,
              "#f0f921"
             ]
            ],
            "type": "heatmap"
           }
          ],
          "heatmapgl": [
           {
            "colorbar": {
             "outlinewidth": 0,
             "ticks": ""
            },
            "colorscale": [
             [
              0,
              "#0d0887"
             ],
             [
              0.1111111111111111,
              "#46039f"
             ],
             [
              0.2222222222222222,
              "#7201a8"
             ],
             [
              0.3333333333333333,
              "#9c179e"
             ],
             [
              0.4444444444444444,
              "#bd3786"
             ],
             [
              0.5555555555555556,
              "#d8576b"
             ],
             [
              0.6666666666666666,
              "#ed7953"
             ],
             [
              0.7777777777777778,
              "#fb9f3a"
             ],
             [
              0.8888888888888888,
              "#fdca26"
             ],
             [
              1,
              "#f0f921"
             ]
            ],
            "type": "heatmapgl"
           }
          ],
          "histogram": [
           {
            "marker": {
             "pattern": {
              "fillmode": "overlay",
              "size": 10,
              "solidity": 0.2
             }
            },
            "type": "histogram"
           }
          ],
          "histogram2d": [
           {
            "colorbar": {
             "outlinewidth": 0,
             "ticks": ""
            },
            "colorscale": [
             [
              0,
              "#0d0887"
             ],
             [
              0.1111111111111111,
              "#46039f"
             ],
             [
              0.2222222222222222,
              "#7201a8"
             ],
             [
              0.3333333333333333,
              "#9c179e"
             ],
             [
              0.4444444444444444,
              "#bd3786"
             ],
             [
              0.5555555555555556,
              "#d8576b"
             ],
             [
              0.6666666666666666,
              "#ed7953"
             ],
             [
              0.7777777777777778,
              "#fb9f3a"
             ],
             [
              0.8888888888888888,
              "#fdca26"
             ],
             [
              1,
              "#f0f921"
             ]
            ],
            "type": "histogram2d"
           }
          ],
          "histogram2dcontour": [
           {
            "colorbar": {
             "outlinewidth": 0,
             "ticks": ""
            },
            "colorscale": [
             [
              0,
              "#0d0887"
             ],
             [
              0.1111111111111111,
              "#46039f"
             ],
             [
              0.2222222222222222,
              "#7201a8"
             ],
             [
              0.3333333333333333,
              "#9c179e"
             ],
             [
              0.4444444444444444,
              "#bd3786"
             ],
             [
              0.5555555555555556,
              "#d8576b"
             ],
             [
              0.6666666666666666,
              "#ed7953"
             ],
             [
              0.7777777777777778,
              "#fb9f3a"
             ],
             [
              0.8888888888888888,
              "#fdca26"
             ],
             [
              1,
              "#f0f921"
             ]
            ],
            "type": "histogram2dcontour"
           }
          ],
          "mesh3d": [
           {
            "colorbar": {
             "outlinewidth": 0,
             "ticks": ""
            },
            "type": "mesh3d"
           }
          ],
          "parcoords": [
           {
            "line": {
             "colorbar": {
              "outlinewidth": 0,
              "ticks": ""
             }
            },
            "type": "parcoords"
           }
          ],
          "pie": [
           {
            "automargin": true,
            "type": "pie"
           }
          ],
          "scatter": [
           {
            "marker": {
             "colorbar": {
              "outlinewidth": 0,
              "ticks": ""
             }
            },
            "type": "scatter"
           }
          ],
          "scatter3d": [
           {
            "line": {
             "colorbar": {
              "outlinewidth": 0,
              "ticks": ""
             }
            },
            "marker": {
             "colorbar": {
              "outlinewidth": 0,
              "ticks": ""
             }
            },
            "type": "scatter3d"
           }
          ],
          "scattercarpet": [
           {
            "marker": {
             "colorbar": {
              "outlinewidth": 0,
              "ticks": ""
             }
            },
            "type": "scattercarpet"
           }
          ],
          "scattergeo": [
           {
            "marker": {
             "colorbar": {
              "outlinewidth": 0,
              "ticks": ""
             }
            },
            "type": "scattergeo"
           }
          ],
          "scattergl": [
           {
            "marker": {
             "colorbar": {
              "outlinewidth": 0,
              "ticks": ""
             }
            },
            "type": "scattergl"
           }
          ],
          "scattermapbox": [
           {
            "marker": {
             "colorbar": {
              "outlinewidth": 0,
              "ticks": ""
             }
            },
            "type": "scattermapbox"
           }
          ],
          "scatterpolar": [
           {
            "marker": {
             "colorbar": {
              "outlinewidth": 0,
              "ticks": ""
             }
            },
            "type": "scatterpolar"
           }
          ],
          "scatterpolargl": [
           {
            "marker": {
             "colorbar": {
              "outlinewidth": 0,
              "ticks": ""
             }
            },
            "type": "scatterpolargl"
           }
          ],
          "scatterternary": [
           {
            "marker": {
             "colorbar": {
              "outlinewidth": 0,
              "ticks": ""
             }
            },
            "type": "scatterternary"
           }
          ],
          "surface": [
           {
            "colorbar": {
             "outlinewidth": 0,
             "ticks": ""
            },
            "colorscale": [
             [
              0,
              "#0d0887"
             ],
             [
              0.1111111111111111,
              "#46039f"
             ],
             [
              0.2222222222222222,
              "#7201a8"
             ],
             [
              0.3333333333333333,
              "#9c179e"
             ],
             [
              0.4444444444444444,
              "#bd3786"
             ],
             [
              0.5555555555555556,
              "#d8576b"
             ],
             [
              0.6666666666666666,
              "#ed7953"
             ],
             [
              0.7777777777777778,
              "#fb9f3a"
             ],
             [
              0.8888888888888888,
              "#fdca26"
             ],
             [
              1,
              "#f0f921"
             ]
            ],
            "type": "surface"
           }
          ],
          "table": [
           {
            "cells": {
             "fill": {
              "color": "#EBF0F8"
             },
             "line": {
              "color": "white"
             }
            },
            "header": {
             "fill": {
              "color": "#C8D4E3"
             },
             "line": {
              "color": "white"
             }
            },
            "type": "table"
           }
          ]
         },
         "layout": {
          "annotationdefaults": {
           "arrowcolor": "#2a3f5f",
           "arrowhead": 0,
           "arrowwidth": 1
          },
          "autotypenumbers": "strict",
          "coloraxis": {
           "colorbar": {
            "outlinewidth": 0,
            "ticks": ""
           }
          },
          "colorscale": {
           "diverging": [
            [
             0,
             "#8e0152"
            ],
            [
             0.1,
             "#c51b7d"
            ],
            [
             0.2,
             "#de77ae"
            ],
            [
             0.3,
             "#f1b6da"
            ],
            [
             0.4,
             "#fde0ef"
            ],
            [
             0.5,
             "#f7f7f7"
            ],
            [
             0.6,
             "#e6f5d0"
            ],
            [
             0.7,
             "#b8e186"
            ],
            [
             0.8,
             "#7fbc41"
            ],
            [
             0.9,
             "#4d9221"
            ],
            [
             1,
             "#276419"
            ]
           ],
           "sequential": [
            [
             0,
             "#0d0887"
            ],
            [
             0.1111111111111111,
             "#46039f"
            ],
            [
             0.2222222222222222,
             "#7201a8"
            ],
            [
             0.3333333333333333,
             "#9c179e"
            ],
            [
             0.4444444444444444,
             "#bd3786"
            ],
            [
             0.5555555555555556,
             "#d8576b"
            ],
            [
             0.6666666666666666,
             "#ed7953"
            ],
            [
             0.7777777777777778,
             "#fb9f3a"
            ],
            [
             0.8888888888888888,
             "#fdca26"
            ],
            [
             1,
             "#f0f921"
            ]
           ],
           "sequentialminus": [
            [
             0,
             "#0d0887"
            ],
            [
             0.1111111111111111,
             "#46039f"
            ],
            [
             0.2222222222222222,
             "#7201a8"
            ],
            [
             0.3333333333333333,
             "#9c179e"
            ],
            [
             0.4444444444444444,
             "#bd3786"
            ],
            [
             0.5555555555555556,
             "#d8576b"
            ],
            [
             0.6666666666666666,
             "#ed7953"
            ],
            [
             0.7777777777777778,
             "#fb9f3a"
            ],
            [
             0.8888888888888888,
             "#fdca26"
            ],
            [
             1,
             "#f0f921"
            ]
           ]
          },
          "colorway": [
           "#636efa",
           "#EF553B",
           "#00cc96",
           "#ab63fa",
           "#FFA15A",
           "#19d3f3",
           "#FF6692",
           "#B6E880",
           "#FF97FF",
           "#FECB52"
          ],
          "font": {
           "color": "#2a3f5f"
          },
          "geo": {
           "bgcolor": "white",
           "lakecolor": "white",
           "landcolor": "#E5ECF6",
           "showlakes": true,
           "showland": true,
           "subunitcolor": "white"
          },
          "hoverlabel": {
           "align": "left"
          },
          "hovermode": "closest",
          "mapbox": {
           "style": "light"
          },
          "paper_bgcolor": "white",
          "plot_bgcolor": "#E5ECF6",
          "polar": {
           "angularaxis": {
            "gridcolor": "white",
            "linecolor": "white",
            "ticks": ""
           },
           "bgcolor": "#E5ECF6",
           "radialaxis": {
            "gridcolor": "white",
            "linecolor": "white",
            "ticks": ""
           }
          },
          "scene": {
           "xaxis": {
            "backgroundcolor": "#E5ECF6",
            "gridcolor": "white",
            "gridwidth": 2,
            "linecolor": "white",
            "showbackground": true,
            "ticks": "",
            "zerolinecolor": "white"
           },
           "yaxis": {
            "backgroundcolor": "#E5ECF6",
            "gridcolor": "white",
            "gridwidth": 2,
            "linecolor": "white",
            "showbackground": true,
            "ticks": "",
            "zerolinecolor": "white"
           },
           "zaxis": {
            "backgroundcolor": "#E5ECF6",
            "gridcolor": "white",
            "gridwidth": 2,
            "linecolor": "white",
            "showbackground": true,
            "ticks": "",
            "zerolinecolor": "white"
           }
          },
          "shapedefaults": {
           "line": {
            "color": "#2a3f5f"
           }
          },
          "ternary": {
           "aaxis": {
            "gridcolor": "white",
            "linecolor": "white",
            "ticks": ""
           },
           "baxis": {
            "gridcolor": "white",
            "linecolor": "white",
            "ticks": ""
           },
           "bgcolor": "#E5ECF6",
           "caxis": {
            "gridcolor": "white",
            "linecolor": "white",
            "ticks": ""
           }
          },
          "title": {
           "x": 0.05
          },
          "xaxis": {
           "automargin": true,
           "gridcolor": "white",
           "linecolor": "white",
           "ticks": "",
           "title": {
            "standoff": 15
           },
           "zerolinecolor": "white",
           "zerolinewidth": 2
          },
          "yaxis": {
           "automargin": true,
           "gridcolor": "white",
           "linecolor": "white",
           "ticks": "",
           "title": {
            "standoff": 15
           },
           "zerolinecolor": "white",
           "zerolinewidth": 2
          }
         }
        },
        "title": {
         "font": {
          "color": "#4D5663"
         }
        },
        "xaxis": {
         "gridcolor": "#E1E5ED",
         "showgrid": true,
         "tickfont": {
          "color": "#4D5663"
         },
         "title": {
          "font": {
           "color": "#4D5663"
          },
          "text": ""
         },
         "zerolinecolor": "#E1E5ED"
        },
        "yaxis": {
         "gridcolor": "#E1E5ED",
         "showgrid": true,
         "tickfont": {
          "color": "#4D5663"
         },
         "title": {
          "font": {
           "color": "#4D5663"
          },
          "text": ""
         },
         "zerolinecolor": "#E1E5ED"
        }
       }
      },
      "text/html": [
       "<div>                            <div id=\"23238265-a9eb-43d3-8dd7-ab3e43460cf9\" class=\"plotly-graph-div\" style=\"height:525px; width:100%;\"></div>            <script type=\"text/javascript\">                require([\"plotly\"], function(Plotly) {                    window.PLOTLYENV=window.PLOTLYENV || {};\n",
       "                    window.PLOTLYENV.BASE_URL='https://plot.ly';                                    if (document.getElementById(\"23238265-a9eb-43d3-8dd7-ab3e43460cf9\")) {                    Plotly.newPlot(                        \"23238265-a9eb-43d3-8dd7-ab3e43460cf9\",                        [{\"marker\":{\"color\":\"rgba(255, 153, 51, 0.6)\",\"line\":{\"color\":\"rgba(255, 153, 51, 1.0)\",\"width\":1}},\"name\":\"None\",\"orientation\":\"v\",\"text\":\"\",\"x\":[\"A\",\"B\",\"C\",\"D\"],\"y\":[100,100,100,100],\"type\":\"bar\"}],                        {\"legend\":{\"bgcolor\":\"#F5F6F9\",\"font\":{\"color\":\"#4D5663\"}},\"paper_bgcolor\":\"#F5F6F9\",\"plot_bgcolor\":\"#F5F6F9\",\"template\":{\"data\":{\"barpolar\":[{\"marker\":{\"line\":{\"color\":\"#E5ECF6\",\"width\":0.5},\"pattern\":{\"fillmode\":\"overlay\",\"size\":10,\"solidity\":0.2}},\"type\":\"barpolar\"}],\"bar\":[{\"error_x\":{\"color\":\"#2a3f5f\"},\"error_y\":{\"color\":\"#2a3f5f\"},\"marker\":{\"line\":{\"color\":\"#E5ECF6\",\"width\":0.5},\"pattern\":{\"fillmode\":\"overlay\",\"size\":10,\"solidity\":0.2}},\"type\":\"bar\"}],\"carpet\":[{\"aaxis\":{\"endlinecolor\":\"#2a3f5f\",\"gridcolor\":\"white\",\"linecolor\":\"white\",\"minorgridcolor\":\"white\",\"startlinecolor\":\"#2a3f5f\"},\"baxis\":{\"endlinecolor\":\"#2a3f5f\",\"gridcolor\":\"white\",\"linecolor\":\"white\",\"minorgridcolor\":\"white\",\"startlinecolor\":\"#2a3f5f\"},\"type\":\"carpet\"}],\"choropleth\":[{\"colorbar\":{\"outlinewidth\":0,\"ticks\":\"\"},\"type\":\"choropleth\"}],\"contourcarpet\":[{\"colorbar\":{\"outlinewidth\":0,\"ticks\":\"\"},\"type\":\"contourcarpet\"}],\"contour\":[{\"colorbar\":{\"outlinewidth\":0,\"ticks\":\"\"},\"colorscale\":[[0.0,\"#0d0887\"],[0.1111111111111111,\"#46039f\"],[0.2222222222222222,\"#7201a8\"],[0.3333333333333333,\"#9c179e\"],[0.4444444444444444,\"#bd3786\"],[0.5555555555555556,\"#d8576b\"],[0.6666666666666666,\"#ed7953\"],[0.7777777777777778,\"#fb9f3a\"],[0.8888888888888888,\"#fdca26\"],[1.0,\"#f0f921\"]],\"type\":\"contour\"}],\"heatmapgl\":[{\"colorbar\":{\"outlinewidth\":0,\"ticks\":\"\"},\"colorscale\":[[0.0,\"#0d0887\"],[0.1111111111111111,\"#46039f\"],[0.2222222222222222,\"#7201a8\"],[0.3333333333333333,\"#9c179e\"],[0.4444444444444444,\"#bd3786\"],[0.5555555555555556,\"#d8576b\"],[0.6666666666666666,\"#ed7953\"],[0.7777777777777778,\"#fb9f3a\"],[0.8888888888888888,\"#fdca26\"],[1.0,\"#f0f921\"]],\"type\":\"heatmapgl\"}],\"heatmap\":[{\"colorbar\":{\"outlinewidth\":0,\"ticks\":\"\"},\"colorscale\":[[0.0,\"#0d0887\"],[0.1111111111111111,\"#46039f\"],[0.2222222222222222,\"#7201a8\"],[0.3333333333333333,\"#9c179e\"],[0.4444444444444444,\"#bd3786\"],[0.5555555555555556,\"#d8576b\"],[0.6666666666666666,\"#ed7953\"],[0.7777777777777778,\"#fb9f3a\"],[0.8888888888888888,\"#fdca26\"],[1.0,\"#f0f921\"]],\"type\":\"heatmap\"}],\"histogram2dcontour\":[{\"colorbar\":{\"outlinewidth\":0,\"ticks\":\"\"},\"colorscale\":[[0.0,\"#0d0887\"],[0.1111111111111111,\"#46039f\"],[0.2222222222222222,\"#7201a8\"],[0.3333333333333333,\"#9c179e\"],[0.4444444444444444,\"#bd3786\"],[0.5555555555555556,\"#d8576b\"],[0.6666666666666666,\"#ed7953\"],[0.7777777777777778,\"#fb9f3a\"],[0.8888888888888888,\"#fdca26\"],[1.0,\"#f0f921\"]],\"type\":\"histogram2dcontour\"}],\"histogram2d\":[{\"colorbar\":{\"outlinewidth\":0,\"ticks\":\"\"},\"colorscale\":[[0.0,\"#0d0887\"],[0.1111111111111111,\"#46039f\"],[0.2222222222222222,\"#7201a8\"],[0.3333333333333333,\"#9c179e\"],[0.4444444444444444,\"#bd3786\"],[0.5555555555555556,\"#d8576b\"],[0.6666666666666666,\"#ed7953\"],[0.7777777777777778,\"#fb9f3a\"],[0.8888888888888888,\"#fdca26\"],[1.0,\"#f0f921\"]],\"type\":\"histogram2d\"}],\"histogram\":[{\"marker\":{\"pattern\":{\"fillmode\":\"overlay\",\"size\":10,\"solidity\":0.2}},\"type\":\"histogram\"}],\"mesh3d\":[{\"colorbar\":{\"outlinewidth\":0,\"ticks\":\"\"},\"type\":\"mesh3d\"}],\"parcoords\":[{\"line\":{\"colorbar\":{\"outlinewidth\":0,\"ticks\":\"\"}},\"type\":\"parcoords\"}],\"pie\":[{\"automargin\":true,\"type\":\"pie\"}],\"scatter3d\":[{\"line\":{\"colorbar\":{\"outlinewidth\":0,\"ticks\":\"\"}},\"marker\":{\"colorbar\":{\"outlinewidth\":0,\"ticks\":\"\"}},\"type\":\"scatter3d\"}],\"scattercarpet\":[{\"marker\":{\"colorbar\":{\"outlinewidth\":0,\"ticks\":\"\"}},\"type\":\"scattercarpet\"}],\"scattergeo\":[{\"marker\":{\"colorbar\":{\"outlinewidth\":0,\"ticks\":\"\"}},\"type\":\"scattergeo\"}],\"scattergl\":[{\"marker\":{\"colorbar\":{\"outlinewidth\":0,\"ticks\":\"\"}},\"type\":\"scattergl\"}],\"scattermapbox\":[{\"marker\":{\"colorbar\":{\"outlinewidth\":0,\"ticks\":\"\"}},\"type\":\"scattermapbox\"}],\"scatterpolargl\":[{\"marker\":{\"colorbar\":{\"outlinewidth\":0,\"ticks\":\"\"}},\"type\":\"scatterpolargl\"}],\"scatterpolar\":[{\"marker\":{\"colorbar\":{\"outlinewidth\":0,\"ticks\":\"\"}},\"type\":\"scatterpolar\"}],\"scatter\":[{\"marker\":{\"colorbar\":{\"outlinewidth\":0,\"ticks\":\"\"}},\"type\":\"scatter\"}],\"scatterternary\":[{\"marker\":{\"colorbar\":{\"outlinewidth\":0,\"ticks\":\"\"}},\"type\":\"scatterternary\"}],\"surface\":[{\"colorbar\":{\"outlinewidth\":0,\"ticks\":\"\"},\"colorscale\":[[0.0,\"#0d0887\"],[0.1111111111111111,\"#46039f\"],[0.2222222222222222,\"#7201a8\"],[0.3333333333333333,\"#9c179e\"],[0.4444444444444444,\"#bd3786\"],[0.5555555555555556,\"#d8576b\"],[0.6666666666666666,\"#ed7953\"],[0.7777777777777778,\"#fb9f3a\"],[0.8888888888888888,\"#fdca26\"],[1.0,\"#f0f921\"]],\"type\":\"surface\"}],\"table\":[{\"cells\":{\"fill\":{\"color\":\"#EBF0F8\"},\"line\":{\"color\":\"white\"}},\"header\":{\"fill\":{\"color\":\"#C8D4E3\"},\"line\":{\"color\":\"white\"}},\"type\":\"table\"}]},\"layout\":{\"annotationdefaults\":{\"arrowcolor\":\"#2a3f5f\",\"arrowhead\":0,\"arrowwidth\":1},\"autotypenumbers\":\"strict\",\"coloraxis\":{\"colorbar\":{\"outlinewidth\":0,\"ticks\":\"\"}},\"colorscale\":{\"diverging\":[[0,\"#8e0152\"],[0.1,\"#c51b7d\"],[0.2,\"#de77ae\"],[0.3,\"#f1b6da\"],[0.4,\"#fde0ef\"],[0.5,\"#f7f7f7\"],[0.6,\"#e6f5d0\"],[0.7,\"#b8e186\"],[0.8,\"#7fbc41\"],[0.9,\"#4d9221\"],[1,\"#276419\"]],\"sequential\":[[0.0,\"#0d0887\"],[0.1111111111111111,\"#46039f\"],[0.2222222222222222,\"#7201a8\"],[0.3333333333333333,\"#9c179e\"],[0.4444444444444444,\"#bd3786\"],[0.5555555555555556,\"#d8576b\"],[0.6666666666666666,\"#ed7953\"],[0.7777777777777778,\"#fb9f3a\"],[0.8888888888888888,\"#fdca26\"],[1.0,\"#f0f921\"]],\"sequentialminus\":[[0.0,\"#0d0887\"],[0.1111111111111111,\"#46039f\"],[0.2222222222222222,\"#7201a8\"],[0.3333333333333333,\"#9c179e\"],[0.4444444444444444,\"#bd3786\"],[0.5555555555555556,\"#d8576b\"],[0.6666666666666666,\"#ed7953\"],[0.7777777777777778,\"#fb9f3a\"],[0.8888888888888888,\"#fdca26\"],[1.0,\"#f0f921\"]]},\"colorway\":[\"#636efa\",\"#EF553B\",\"#00cc96\",\"#ab63fa\",\"#FFA15A\",\"#19d3f3\",\"#FF6692\",\"#B6E880\",\"#FF97FF\",\"#FECB52\"],\"font\":{\"color\":\"#2a3f5f\"},\"geo\":{\"bgcolor\":\"white\",\"lakecolor\":\"white\",\"landcolor\":\"#E5ECF6\",\"showlakes\":true,\"showland\":true,\"subunitcolor\":\"white\"},\"hoverlabel\":{\"align\":\"left\"},\"hovermode\":\"closest\",\"mapbox\":{\"style\":\"light\"},\"paper_bgcolor\":\"white\",\"plot_bgcolor\":\"#E5ECF6\",\"polar\":{\"angularaxis\":{\"gridcolor\":\"white\",\"linecolor\":\"white\",\"ticks\":\"\"},\"bgcolor\":\"#E5ECF6\",\"radialaxis\":{\"gridcolor\":\"white\",\"linecolor\":\"white\",\"ticks\":\"\"}},\"scene\":{\"xaxis\":{\"backgroundcolor\":\"#E5ECF6\",\"gridcolor\":\"white\",\"gridwidth\":2,\"linecolor\":\"white\",\"showbackground\":true,\"ticks\":\"\",\"zerolinecolor\":\"white\"},\"yaxis\":{\"backgroundcolor\":\"#E5ECF6\",\"gridcolor\":\"white\",\"gridwidth\":2,\"linecolor\":\"white\",\"showbackground\":true,\"ticks\":\"\",\"zerolinecolor\":\"white\"},\"zaxis\":{\"backgroundcolor\":\"#E5ECF6\",\"gridcolor\":\"white\",\"gridwidth\":2,\"linecolor\":\"white\",\"showbackground\":true,\"ticks\":\"\",\"zerolinecolor\":\"white\"}},\"shapedefaults\":{\"line\":{\"color\":\"#2a3f5f\"}},\"ternary\":{\"aaxis\":{\"gridcolor\":\"white\",\"linecolor\":\"white\",\"ticks\":\"\"},\"baxis\":{\"gridcolor\":\"white\",\"linecolor\":\"white\",\"ticks\":\"\"},\"bgcolor\":\"#E5ECF6\",\"caxis\":{\"gridcolor\":\"white\",\"linecolor\":\"white\",\"ticks\":\"\"}},\"title\":{\"x\":0.05},\"xaxis\":{\"automargin\":true,\"gridcolor\":\"white\",\"linecolor\":\"white\",\"ticks\":\"\",\"title\":{\"standoff\":15},\"zerolinecolor\":\"white\",\"zerolinewidth\":2},\"yaxis\":{\"automargin\":true,\"gridcolor\":\"white\",\"linecolor\":\"white\",\"ticks\":\"\",\"title\":{\"standoff\":15},\"zerolinecolor\":\"white\",\"zerolinewidth\":2}}},\"title\":{\"font\":{\"color\":\"#4D5663\"}},\"xaxis\":{\"gridcolor\":\"#E1E5ED\",\"showgrid\":true,\"tickfont\":{\"color\":\"#4D5663\"},\"title\":{\"font\":{\"color\":\"#4D5663\"},\"text\":\"\"},\"zerolinecolor\":\"#E1E5ED\"},\"yaxis\":{\"gridcolor\":\"#E1E5ED\",\"showgrid\":true,\"tickfont\":{\"color\":\"#4D5663\"},\"title\":{\"font\":{\"color\":\"#4D5663\"},\"text\":\"\"},\"zerolinecolor\":\"#E1E5ED\"}},                        {\"showLink\": true, \"linkText\": \"Export to plot.ly\", \"plotlyServerURL\": \"https://plot.ly\", \"responsive\": true}                    ).then(function(){\n",
       "                            \n",
       "var gd = document.getElementById('23238265-a9eb-43d3-8dd7-ab3e43460cf9');\n",
       "var x = new MutationObserver(function (mutations, observer) {{\n",
       "        var display = window.getComputedStyle(gd).display;\n",
       "        if (!display || display === 'none') {{\n",
       "            console.log([gd, 'removed!']);\n",
       "            Plotly.purge(gd);\n",
       "            observer.disconnect();\n",
       "        }}\n",
       "}});\n",
       "\n",
       "// Listen for the removal of the full notebook cells\n",
       "var notebookContainer = gd.closest('#notebook-container');\n",
       "if (notebookContainer) {{\n",
       "    x.observe(notebookContainer, {childList: true});\n",
       "}}\n",
       "\n",
       "// Listen for the clearing of the current output cell\n",
       "var outputEl = gd.closest('.output');\n",
       "if (outputEl) {{\n",
       "    x.observe(outputEl, {childList: true});\n",
       "}}\n",
       "\n",
       "                        })                };                });            </script>        </div>"
      ]
     },
     "metadata": {},
     "output_type": "display_data"
    }
   ],
   "source": [
    "df.count().iplot(kind='bar')"
   ]
  },
  {
   "cell_type": "code",
   "execution_count": 14,
   "id": "00810424",
   "metadata": {},
   "outputs": [
    {
     "data": {
      "application/vnd.plotly.v1+json": {
       "config": {
        "linkText": "Export to plot.ly",
        "plotlyServerURL": "https://plot.ly",
        "showLink": true
       },
       "data": [
        {
         "marker": {
          "color": "rgba(255, 153, 51, 0.6)",
          "line": {
           "color": "rgba(255, 153, 51, 1.0)",
           "width": 1
          }
         },
         "name": "None",
         "orientation": "v",
         "text": "",
         "type": "bar",
         "x": [
          "A",
          "B",
          "C",
          "D"
         ],
         "y": [
          8.468161745290239,
          -9.935575625182391,
          -3.434714855930339,
          5.78966748312207
         ]
        }
       ],
       "layout": {
        "legend": {
         "bgcolor": "#F5F6F9",
         "font": {
          "color": "#4D5663"
         }
        },
        "paper_bgcolor": "#F5F6F9",
        "plot_bgcolor": "#F5F6F9",
        "template": {
         "data": {
          "bar": [
           {
            "error_x": {
             "color": "#2a3f5f"
            },
            "error_y": {
             "color": "#2a3f5f"
            },
            "marker": {
             "line": {
              "color": "#E5ECF6",
              "width": 0.5
             },
             "pattern": {
              "fillmode": "overlay",
              "size": 10,
              "solidity": 0.2
             }
            },
            "type": "bar"
           }
          ],
          "barpolar": [
           {
            "marker": {
             "line": {
              "color": "#E5ECF6",
              "width": 0.5
             },
             "pattern": {
              "fillmode": "overlay",
              "size": 10,
              "solidity": 0.2
             }
            },
            "type": "barpolar"
           }
          ],
          "carpet": [
           {
            "aaxis": {
             "endlinecolor": "#2a3f5f",
             "gridcolor": "white",
             "linecolor": "white",
             "minorgridcolor": "white",
             "startlinecolor": "#2a3f5f"
            },
            "baxis": {
             "endlinecolor": "#2a3f5f",
             "gridcolor": "white",
             "linecolor": "white",
             "minorgridcolor": "white",
             "startlinecolor": "#2a3f5f"
            },
            "type": "carpet"
           }
          ],
          "choropleth": [
           {
            "colorbar": {
             "outlinewidth": 0,
             "ticks": ""
            },
            "type": "choropleth"
           }
          ],
          "contour": [
           {
            "colorbar": {
             "outlinewidth": 0,
             "ticks": ""
            },
            "colorscale": [
             [
              0,
              "#0d0887"
             ],
             [
              0.1111111111111111,
              "#46039f"
             ],
             [
              0.2222222222222222,
              "#7201a8"
             ],
             [
              0.3333333333333333,
              "#9c179e"
             ],
             [
              0.4444444444444444,
              "#bd3786"
             ],
             [
              0.5555555555555556,
              "#d8576b"
             ],
             [
              0.6666666666666666,
              "#ed7953"
             ],
             [
              0.7777777777777778,
              "#fb9f3a"
             ],
             [
              0.8888888888888888,
              "#fdca26"
             ],
             [
              1,
              "#f0f921"
             ]
            ],
            "type": "contour"
           }
          ],
          "contourcarpet": [
           {
            "colorbar": {
             "outlinewidth": 0,
             "ticks": ""
            },
            "type": "contourcarpet"
           }
          ],
          "heatmap": [
           {
            "colorbar": {
             "outlinewidth": 0,
             "ticks": ""
            },
            "colorscale": [
             [
              0,
              "#0d0887"
             ],
             [
              0.1111111111111111,
              "#46039f"
             ],
             [
              0.2222222222222222,
              "#7201a8"
             ],
             [
              0.3333333333333333,
              "#9c179e"
             ],
             [
              0.4444444444444444,
              "#bd3786"
             ],
             [
              0.5555555555555556,
              "#d8576b"
             ],
             [
              0.6666666666666666,
              "#ed7953"
             ],
             [
              0.7777777777777778,
              "#fb9f3a"
             ],
             [
              0.8888888888888888,
              "#fdca26"
             ],
             [
              1,
              "#f0f921"
             ]
            ],
            "type": "heatmap"
           }
          ],
          "heatmapgl": [
           {
            "colorbar": {
             "outlinewidth": 0,
             "ticks": ""
            },
            "colorscale": [
             [
              0,
              "#0d0887"
             ],
             [
              0.1111111111111111,
              "#46039f"
             ],
             [
              0.2222222222222222,
              "#7201a8"
             ],
             [
              0.3333333333333333,
              "#9c179e"
             ],
             [
              0.4444444444444444,
              "#bd3786"
             ],
             [
              0.5555555555555556,
              "#d8576b"
             ],
             [
              0.6666666666666666,
              "#ed7953"
             ],
             [
              0.7777777777777778,
              "#fb9f3a"
             ],
             [
              0.8888888888888888,
              "#fdca26"
             ],
             [
              1,
              "#f0f921"
             ]
            ],
            "type": "heatmapgl"
           }
          ],
          "histogram": [
           {
            "marker": {
             "pattern": {
              "fillmode": "overlay",
              "size": 10,
              "solidity": 0.2
             }
            },
            "type": "histogram"
           }
          ],
          "histogram2d": [
           {
            "colorbar": {
             "outlinewidth": 0,
             "ticks": ""
            },
            "colorscale": [
             [
              0,
              "#0d0887"
             ],
             [
              0.1111111111111111,
              "#46039f"
             ],
             [
              0.2222222222222222,
              "#7201a8"
             ],
             [
              0.3333333333333333,
              "#9c179e"
             ],
             [
              0.4444444444444444,
              "#bd3786"
             ],
             [
              0.5555555555555556,
              "#d8576b"
             ],
             [
              0.6666666666666666,
              "#ed7953"
             ],
             [
              0.7777777777777778,
              "#fb9f3a"
             ],
             [
              0.8888888888888888,
              "#fdca26"
             ],
             [
              1,
              "#f0f921"
             ]
            ],
            "type": "histogram2d"
           }
          ],
          "histogram2dcontour": [
           {
            "colorbar": {
             "outlinewidth": 0,
             "ticks": ""
            },
            "colorscale": [
             [
              0,
              "#0d0887"
             ],
             [
              0.1111111111111111,
              "#46039f"
             ],
             [
              0.2222222222222222,
              "#7201a8"
             ],
             [
              0.3333333333333333,
              "#9c179e"
             ],
             [
              0.4444444444444444,
              "#bd3786"
             ],
             [
              0.5555555555555556,
              "#d8576b"
             ],
             [
              0.6666666666666666,
              "#ed7953"
             ],
             [
              0.7777777777777778,
              "#fb9f3a"
             ],
             [
              0.8888888888888888,
              "#fdca26"
             ],
             [
              1,
              "#f0f921"
             ]
            ],
            "type": "histogram2dcontour"
           }
          ],
          "mesh3d": [
           {
            "colorbar": {
             "outlinewidth": 0,
             "ticks": ""
            },
            "type": "mesh3d"
           }
          ],
          "parcoords": [
           {
            "line": {
             "colorbar": {
              "outlinewidth": 0,
              "ticks": ""
             }
            },
            "type": "parcoords"
           }
          ],
          "pie": [
           {
            "automargin": true,
            "type": "pie"
           }
          ],
          "scatter": [
           {
            "marker": {
             "colorbar": {
              "outlinewidth": 0,
              "ticks": ""
             }
            },
            "type": "scatter"
           }
          ],
          "scatter3d": [
           {
            "line": {
             "colorbar": {
              "outlinewidth": 0,
              "ticks": ""
             }
            },
            "marker": {
             "colorbar": {
              "outlinewidth": 0,
              "ticks": ""
             }
            },
            "type": "scatter3d"
           }
          ],
          "scattercarpet": [
           {
            "marker": {
             "colorbar": {
              "outlinewidth": 0,
              "ticks": ""
             }
            },
            "type": "scattercarpet"
           }
          ],
          "scattergeo": [
           {
            "marker": {
             "colorbar": {
              "outlinewidth": 0,
              "ticks": ""
             }
            },
            "type": "scattergeo"
           }
          ],
          "scattergl": [
           {
            "marker": {
             "colorbar": {
              "outlinewidth": 0,
              "ticks": ""
             }
            },
            "type": "scattergl"
           }
          ],
          "scattermapbox": [
           {
            "marker": {
             "colorbar": {
              "outlinewidth": 0,
              "ticks": ""
             }
            },
            "type": "scattermapbox"
           }
          ],
          "scatterpolar": [
           {
            "marker": {
             "colorbar": {
              "outlinewidth": 0,
              "ticks": ""
             }
            },
            "type": "scatterpolar"
           }
          ],
          "scatterpolargl": [
           {
            "marker": {
             "colorbar": {
              "outlinewidth": 0,
              "ticks": ""
             }
            },
            "type": "scatterpolargl"
           }
          ],
          "scatterternary": [
           {
            "marker": {
             "colorbar": {
              "outlinewidth": 0,
              "ticks": ""
             }
            },
            "type": "scatterternary"
           }
          ],
          "surface": [
           {
            "colorbar": {
             "outlinewidth": 0,
             "ticks": ""
            },
            "colorscale": [
             [
              0,
              "#0d0887"
             ],
             [
              0.1111111111111111,
              "#46039f"
             ],
             [
              0.2222222222222222,
              "#7201a8"
             ],
             [
              0.3333333333333333,
              "#9c179e"
             ],
             [
              0.4444444444444444,
              "#bd3786"
             ],
             [
              0.5555555555555556,
              "#d8576b"
             ],
             [
              0.6666666666666666,
              "#ed7953"
             ],
             [
              0.7777777777777778,
              "#fb9f3a"
             ],
             [
              0.8888888888888888,
              "#fdca26"
             ],
             [
              1,
              "#f0f921"
             ]
            ],
            "type": "surface"
           }
          ],
          "table": [
           {
            "cells": {
             "fill": {
              "color": "#EBF0F8"
             },
             "line": {
              "color": "white"
             }
            },
            "header": {
             "fill": {
              "color": "#C8D4E3"
             },
             "line": {
              "color": "white"
             }
            },
            "type": "table"
           }
          ]
         },
         "layout": {
          "annotationdefaults": {
           "arrowcolor": "#2a3f5f",
           "arrowhead": 0,
           "arrowwidth": 1
          },
          "autotypenumbers": "strict",
          "coloraxis": {
           "colorbar": {
            "outlinewidth": 0,
            "ticks": ""
           }
          },
          "colorscale": {
           "diverging": [
            [
             0,
             "#8e0152"
            ],
            [
             0.1,
             "#c51b7d"
            ],
            [
             0.2,
             "#de77ae"
            ],
            [
             0.3,
             "#f1b6da"
            ],
            [
             0.4,
             "#fde0ef"
            ],
            [
             0.5,
             "#f7f7f7"
            ],
            [
             0.6,
             "#e6f5d0"
            ],
            [
             0.7,
             "#b8e186"
            ],
            [
             0.8,
             "#7fbc41"
            ],
            [
             0.9,
             "#4d9221"
            ],
            [
             1,
             "#276419"
            ]
           ],
           "sequential": [
            [
             0,
             "#0d0887"
            ],
            [
             0.1111111111111111,
             "#46039f"
            ],
            [
             0.2222222222222222,
             "#7201a8"
            ],
            [
             0.3333333333333333,
             "#9c179e"
            ],
            [
             0.4444444444444444,
             "#bd3786"
            ],
            [
             0.5555555555555556,
             "#d8576b"
            ],
            [
             0.6666666666666666,
             "#ed7953"
            ],
            [
             0.7777777777777778,
             "#fb9f3a"
            ],
            [
             0.8888888888888888,
             "#fdca26"
            ],
            [
             1,
             "#f0f921"
            ]
           ],
           "sequentialminus": [
            [
             0,
             "#0d0887"
            ],
            [
             0.1111111111111111,
             "#46039f"
            ],
            [
             0.2222222222222222,
             "#7201a8"
            ],
            [
             0.3333333333333333,
             "#9c179e"
            ],
            [
             0.4444444444444444,
             "#bd3786"
            ],
            [
             0.5555555555555556,
             "#d8576b"
            ],
            [
             0.6666666666666666,
             "#ed7953"
            ],
            [
             0.7777777777777778,
             "#fb9f3a"
            ],
            [
             0.8888888888888888,
             "#fdca26"
            ],
            [
             1,
             "#f0f921"
            ]
           ]
          },
          "colorway": [
           "#636efa",
           "#EF553B",
           "#00cc96",
           "#ab63fa",
           "#FFA15A",
           "#19d3f3",
           "#FF6692",
           "#B6E880",
           "#FF97FF",
           "#FECB52"
          ],
          "font": {
           "color": "#2a3f5f"
          },
          "geo": {
           "bgcolor": "white",
           "lakecolor": "white",
           "landcolor": "#E5ECF6",
           "showlakes": true,
           "showland": true,
           "subunitcolor": "white"
          },
          "hoverlabel": {
           "align": "left"
          },
          "hovermode": "closest",
          "mapbox": {
           "style": "light"
          },
          "paper_bgcolor": "white",
          "plot_bgcolor": "#E5ECF6",
          "polar": {
           "angularaxis": {
            "gridcolor": "white",
            "linecolor": "white",
            "ticks": ""
           },
           "bgcolor": "#E5ECF6",
           "radialaxis": {
            "gridcolor": "white",
            "linecolor": "white",
            "ticks": ""
           }
          },
          "scene": {
           "xaxis": {
            "backgroundcolor": "#E5ECF6",
            "gridcolor": "white",
            "gridwidth": 2,
            "linecolor": "white",
            "showbackground": true,
            "ticks": "",
            "zerolinecolor": "white"
           },
           "yaxis": {
            "backgroundcolor": "#E5ECF6",
            "gridcolor": "white",
            "gridwidth": 2,
            "linecolor": "white",
            "showbackground": true,
            "ticks": "",
            "zerolinecolor": "white"
           },
           "zaxis": {
            "backgroundcolor": "#E5ECF6",
            "gridcolor": "white",
            "gridwidth": 2,
            "linecolor": "white",
            "showbackground": true,
            "ticks": "",
            "zerolinecolor": "white"
           }
          },
          "shapedefaults": {
           "line": {
            "color": "#2a3f5f"
           }
          },
          "ternary": {
           "aaxis": {
            "gridcolor": "white",
            "linecolor": "white",
            "ticks": ""
           },
           "baxis": {
            "gridcolor": "white",
            "linecolor": "white",
            "ticks": ""
           },
           "bgcolor": "#E5ECF6",
           "caxis": {
            "gridcolor": "white",
            "linecolor": "white",
            "ticks": ""
           }
          },
          "title": {
           "x": 0.05
          },
          "xaxis": {
           "automargin": true,
           "gridcolor": "white",
           "linecolor": "white",
           "ticks": "",
           "title": {
            "standoff": 15
           },
           "zerolinecolor": "white",
           "zerolinewidth": 2
          },
          "yaxis": {
           "automargin": true,
           "gridcolor": "white",
           "linecolor": "white",
           "ticks": "",
           "title": {
            "standoff": 15
           },
           "zerolinecolor": "white",
           "zerolinewidth": 2
          }
         }
        },
        "title": {
         "font": {
          "color": "#4D5663"
         }
        },
        "xaxis": {
         "gridcolor": "#E1E5ED",
         "showgrid": true,
         "tickfont": {
          "color": "#4D5663"
         },
         "title": {
          "font": {
           "color": "#4D5663"
          },
          "text": ""
         },
         "zerolinecolor": "#E1E5ED"
        },
        "yaxis": {
         "gridcolor": "#E1E5ED",
         "showgrid": true,
         "tickfont": {
          "color": "#4D5663"
         },
         "title": {
          "font": {
           "color": "#4D5663"
          },
          "text": ""
         },
         "zerolinecolor": "#E1E5ED"
        }
       }
      },
      "text/html": [
       "<div>                            <div id=\"3a0377a2-f16b-4df2-8e06-bb26dc6ada0a\" class=\"plotly-graph-div\" style=\"height:525px; width:100%;\"></div>            <script type=\"text/javascript\">                require([\"plotly\"], function(Plotly) {                    window.PLOTLYENV=window.PLOTLYENV || {};\n",
       "                    window.PLOTLYENV.BASE_URL='https://plot.ly';                                    if (document.getElementById(\"3a0377a2-f16b-4df2-8e06-bb26dc6ada0a\")) {                    Plotly.newPlot(                        \"3a0377a2-f16b-4df2-8e06-bb26dc6ada0a\",                        [{\"marker\":{\"color\":\"rgba(255, 153, 51, 0.6)\",\"line\":{\"color\":\"rgba(255, 153, 51, 1.0)\",\"width\":1}},\"name\":\"None\",\"orientation\":\"v\",\"text\":\"\",\"x\":[\"A\",\"B\",\"C\",\"D\"],\"y\":[8.468161745290239,-9.935575625182391,-3.434714855930339,5.78966748312207],\"type\":\"bar\"}],                        {\"legend\":{\"bgcolor\":\"#F5F6F9\",\"font\":{\"color\":\"#4D5663\"}},\"paper_bgcolor\":\"#F5F6F9\",\"plot_bgcolor\":\"#F5F6F9\",\"template\":{\"data\":{\"barpolar\":[{\"marker\":{\"line\":{\"color\":\"#E5ECF6\",\"width\":0.5},\"pattern\":{\"fillmode\":\"overlay\",\"size\":10,\"solidity\":0.2}},\"type\":\"barpolar\"}],\"bar\":[{\"error_x\":{\"color\":\"#2a3f5f\"},\"error_y\":{\"color\":\"#2a3f5f\"},\"marker\":{\"line\":{\"color\":\"#E5ECF6\",\"width\":0.5},\"pattern\":{\"fillmode\":\"overlay\",\"size\":10,\"solidity\":0.2}},\"type\":\"bar\"}],\"carpet\":[{\"aaxis\":{\"endlinecolor\":\"#2a3f5f\",\"gridcolor\":\"white\",\"linecolor\":\"white\",\"minorgridcolor\":\"white\",\"startlinecolor\":\"#2a3f5f\"},\"baxis\":{\"endlinecolor\":\"#2a3f5f\",\"gridcolor\":\"white\",\"linecolor\":\"white\",\"minorgridcolor\":\"white\",\"startlinecolor\":\"#2a3f5f\"},\"type\":\"carpet\"}],\"choropleth\":[{\"colorbar\":{\"outlinewidth\":0,\"ticks\":\"\"},\"type\":\"choropleth\"}],\"contourcarpet\":[{\"colorbar\":{\"outlinewidth\":0,\"ticks\":\"\"},\"type\":\"contourcarpet\"}],\"contour\":[{\"colorbar\":{\"outlinewidth\":0,\"ticks\":\"\"},\"colorscale\":[[0.0,\"#0d0887\"],[0.1111111111111111,\"#46039f\"],[0.2222222222222222,\"#7201a8\"],[0.3333333333333333,\"#9c179e\"],[0.4444444444444444,\"#bd3786\"],[0.5555555555555556,\"#d8576b\"],[0.6666666666666666,\"#ed7953\"],[0.7777777777777778,\"#fb9f3a\"],[0.8888888888888888,\"#fdca26\"],[1.0,\"#f0f921\"]],\"type\":\"contour\"}],\"heatmapgl\":[{\"colorbar\":{\"outlinewidth\":0,\"ticks\":\"\"},\"colorscale\":[[0.0,\"#0d0887\"],[0.1111111111111111,\"#46039f\"],[0.2222222222222222,\"#7201a8\"],[0.3333333333333333,\"#9c179e\"],[0.4444444444444444,\"#bd3786\"],[0.5555555555555556,\"#d8576b\"],[0.6666666666666666,\"#ed7953\"],[0.7777777777777778,\"#fb9f3a\"],[0.8888888888888888,\"#fdca26\"],[1.0,\"#f0f921\"]],\"type\":\"heatmapgl\"}],\"heatmap\":[{\"colorbar\":{\"outlinewidth\":0,\"ticks\":\"\"},\"colorscale\":[[0.0,\"#0d0887\"],[0.1111111111111111,\"#46039f\"],[0.2222222222222222,\"#7201a8\"],[0.3333333333333333,\"#9c179e\"],[0.4444444444444444,\"#bd3786\"],[0.5555555555555556,\"#d8576b\"],[0.6666666666666666,\"#ed7953\"],[0.7777777777777778,\"#fb9f3a\"],[0.8888888888888888,\"#fdca26\"],[1.0,\"#f0f921\"]],\"type\":\"heatmap\"}],\"histogram2dcontour\":[{\"colorbar\":{\"outlinewidth\":0,\"ticks\":\"\"},\"colorscale\":[[0.0,\"#0d0887\"],[0.1111111111111111,\"#46039f\"],[0.2222222222222222,\"#7201a8\"],[0.3333333333333333,\"#9c179e\"],[0.4444444444444444,\"#bd3786\"],[0.5555555555555556,\"#d8576b\"],[0.6666666666666666,\"#ed7953\"],[0.7777777777777778,\"#fb9f3a\"],[0.8888888888888888,\"#fdca26\"],[1.0,\"#f0f921\"]],\"type\":\"histogram2dcontour\"}],\"histogram2d\":[{\"colorbar\":{\"outlinewidth\":0,\"ticks\":\"\"},\"colorscale\":[[0.0,\"#0d0887\"],[0.1111111111111111,\"#46039f\"],[0.2222222222222222,\"#7201a8\"],[0.3333333333333333,\"#9c179e\"],[0.4444444444444444,\"#bd3786\"],[0.5555555555555556,\"#d8576b\"],[0.6666666666666666,\"#ed7953\"],[0.7777777777777778,\"#fb9f3a\"],[0.8888888888888888,\"#fdca26\"],[1.0,\"#f0f921\"]],\"type\":\"histogram2d\"}],\"histogram\":[{\"marker\":{\"pattern\":{\"fillmode\":\"overlay\",\"size\":10,\"solidity\":0.2}},\"type\":\"histogram\"}],\"mesh3d\":[{\"colorbar\":{\"outlinewidth\":0,\"ticks\":\"\"},\"type\":\"mesh3d\"}],\"parcoords\":[{\"line\":{\"colorbar\":{\"outlinewidth\":0,\"ticks\":\"\"}},\"type\":\"parcoords\"}],\"pie\":[{\"automargin\":true,\"type\":\"pie\"}],\"scatter3d\":[{\"line\":{\"colorbar\":{\"outlinewidth\":0,\"ticks\":\"\"}},\"marker\":{\"colorbar\":{\"outlinewidth\":0,\"ticks\":\"\"}},\"type\":\"scatter3d\"}],\"scattercarpet\":[{\"marker\":{\"colorbar\":{\"outlinewidth\":0,\"ticks\":\"\"}},\"type\":\"scattercarpet\"}],\"scattergeo\":[{\"marker\":{\"colorbar\":{\"outlinewidth\":0,\"ticks\":\"\"}},\"type\":\"scattergeo\"}],\"scattergl\":[{\"marker\":{\"colorbar\":{\"outlinewidth\":0,\"ticks\":\"\"}},\"type\":\"scattergl\"}],\"scattermapbox\":[{\"marker\":{\"colorbar\":{\"outlinewidth\":0,\"ticks\":\"\"}},\"type\":\"scattermapbox\"}],\"scatterpolargl\":[{\"marker\":{\"colorbar\":{\"outlinewidth\":0,\"ticks\":\"\"}},\"type\":\"scatterpolargl\"}],\"scatterpolar\":[{\"marker\":{\"colorbar\":{\"outlinewidth\":0,\"ticks\":\"\"}},\"type\":\"scatterpolar\"}],\"scatter\":[{\"marker\":{\"colorbar\":{\"outlinewidth\":0,\"ticks\":\"\"}},\"type\":\"scatter\"}],\"scatterternary\":[{\"marker\":{\"colorbar\":{\"outlinewidth\":0,\"ticks\":\"\"}},\"type\":\"scatterternary\"}],\"surface\":[{\"colorbar\":{\"outlinewidth\":0,\"ticks\":\"\"},\"colorscale\":[[0.0,\"#0d0887\"],[0.1111111111111111,\"#46039f\"],[0.2222222222222222,\"#7201a8\"],[0.3333333333333333,\"#9c179e\"],[0.4444444444444444,\"#bd3786\"],[0.5555555555555556,\"#d8576b\"],[0.6666666666666666,\"#ed7953\"],[0.7777777777777778,\"#fb9f3a\"],[0.8888888888888888,\"#fdca26\"],[1.0,\"#f0f921\"]],\"type\":\"surface\"}],\"table\":[{\"cells\":{\"fill\":{\"color\":\"#EBF0F8\"},\"line\":{\"color\":\"white\"}},\"header\":{\"fill\":{\"color\":\"#C8D4E3\"},\"line\":{\"color\":\"white\"}},\"type\":\"table\"}]},\"layout\":{\"annotationdefaults\":{\"arrowcolor\":\"#2a3f5f\",\"arrowhead\":0,\"arrowwidth\":1},\"autotypenumbers\":\"strict\",\"coloraxis\":{\"colorbar\":{\"outlinewidth\":0,\"ticks\":\"\"}},\"colorscale\":{\"diverging\":[[0,\"#8e0152\"],[0.1,\"#c51b7d\"],[0.2,\"#de77ae\"],[0.3,\"#f1b6da\"],[0.4,\"#fde0ef\"],[0.5,\"#f7f7f7\"],[0.6,\"#e6f5d0\"],[0.7,\"#b8e186\"],[0.8,\"#7fbc41\"],[0.9,\"#4d9221\"],[1,\"#276419\"]],\"sequential\":[[0.0,\"#0d0887\"],[0.1111111111111111,\"#46039f\"],[0.2222222222222222,\"#7201a8\"],[0.3333333333333333,\"#9c179e\"],[0.4444444444444444,\"#bd3786\"],[0.5555555555555556,\"#d8576b\"],[0.6666666666666666,\"#ed7953\"],[0.7777777777777778,\"#fb9f3a\"],[0.8888888888888888,\"#fdca26\"],[1.0,\"#f0f921\"]],\"sequentialminus\":[[0.0,\"#0d0887\"],[0.1111111111111111,\"#46039f\"],[0.2222222222222222,\"#7201a8\"],[0.3333333333333333,\"#9c179e\"],[0.4444444444444444,\"#bd3786\"],[0.5555555555555556,\"#d8576b\"],[0.6666666666666666,\"#ed7953\"],[0.7777777777777778,\"#fb9f3a\"],[0.8888888888888888,\"#fdca26\"],[1.0,\"#f0f921\"]]},\"colorway\":[\"#636efa\",\"#EF553B\",\"#00cc96\",\"#ab63fa\",\"#FFA15A\",\"#19d3f3\",\"#FF6692\",\"#B6E880\",\"#FF97FF\",\"#FECB52\"],\"font\":{\"color\":\"#2a3f5f\"},\"geo\":{\"bgcolor\":\"white\",\"lakecolor\":\"white\",\"landcolor\":\"#E5ECF6\",\"showlakes\":true,\"showland\":true,\"subunitcolor\":\"white\"},\"hoverlabel\":{\"align\":\"left\"},\"hovermode\":\"closest\",\"mapbox\":{\"style\":\"light\"},\"paper_bgcolor\":\"white\",\"plot_bgcolor\":\"#E5ECF6\",\"polar\":{\"angularaxis\":{\"gridcolor\":\"white\",\"linecolor\":\"white\",\"ticks\":\"\"},\"bgcolor\":\"#E5ECF6\",\"radialaxis\":{\"gridcolor\":\"white\",\"linecolor\":\"white\",\"ticks\":\"\"}},\"scene\":{\"xaxis\":{\"backgroundcolor\":\"#E5ECF6\",\"gridcolor\":\"white\",\"gridwidth\":2,\"linecolor\":\"white\",\"showbackground\":true,\"ticks\":\"\",\"zerolinecolor\":\"white\"},\"yaxis\":{\"backgroundcolor\":\"#E5ECF6\",\"gridcolor\":\"white\",\"gridwidth\":2,\"linecolor\":\"white\",\"showbackground\":true,\"ticks\":\"\",\"zerolinecolor\":\"white\"},\"zaxis\":{\"backgroundcolor\":\"#E5ECF6\",\"gridcolor\":\"white\",\"gridwidth\":2,\"linecolor\":\"white\",\"showbackground\":true,\"ticks\":\"\",\"zerolinecolor\":\"white\"}},\"shapedefaults\":{\"line\":{\"color\":\"#2a3f5f\"}},\"ternary\":{\"aaxis\":{\"gridcolor\":\"white\",\"linecolor\":\"white\",\"ticks\":\"\"},\"baxis\":{\"gridcolor\":\"white\",\"linecolor\":\"white\",\"ticks\":\"\"},\"bgcolor\":\"#E5ECF6\",\"caxis\":{\"gridcolor\":\"white\",\"linecolor\":\"white\",\"ticks\":\"\"}},\"title\":{\"x\":0.05},\"xaxis\":{\"automargin\":true,\"gridcolor\":\"white\",\"linecolor\":\"white\",\"ticks\":\"\",\"title\":{\"standoff\":15},\"zerolinecolor\":\"white\",\"zerolinewidth\":2},\"yaxis\":{\"automargin\":true,\"gridcolor\":\"white\",\"linecolor\":\"white\",\"ticks\":\"\",\"title\":{\"standoff\":15},\"zerolinecolor\":\"white\",\"zerolinewidth\":2}}},\"title\":{\"font\":{\"color\":\"#4D5663\"}},\"xaxis\":{\"gridcolor\":\"#E1E5ED\",\"showgrid\":true,\"tickfont\":{\"color\":\"#4D5663\"},\"title\":{\"font\":{\"color\":\"#4D5663\"},\"text\":\"\"},\"zerolinecolor\":\"#E1E5ED\"},\"yaxis\":{\"gridcolor\":\"#E1E5ED\",\"showgrid\":true,\"tickfont\":{\"color\":\"#4D5663\"},\"title\":{\"font\":{\"color\":\"#4D5663\"},\"text\":\"\"},\"zerolinecolor\":\"#E1E5ED\"}},                        {\"showLink\": true, \"linkText\": \"Export to plot.ly\", \"plotlyServerURL\": \"https://plot.ly\", \"responsive\": true}                    ).then(function(){\n",
       "                            \n",
       "var gd = document.getElementById('3a0377a2-f16b-4df2-8e06-bb26dc6ada0a');\n",
       "var x = new MutationObserver(function (mutations, observer) {{\n",
       "        var display = window.getComputedStyle(gd).display;\n",
       "        if (!display || display === 'none') {{\n",
       "            console.log([gd, 'removed!']);\n",
       "            Plotly.purge(gd);\n",
       "            observer.disconnect();\n",
       "        }}\n",
       "}});\n",
       "\n",
       "// Listen for the removal of the full notebook cells\n",
       "var notebookContainer = gd.closest('#notebook-container');\n",
       "if (notebookContainer) {{\n",
       "    x.observe(notebookContainer, {childList: true});\n",
       "}}\n",
       "\n",
       "// Listen for the clearing of the current output cell\n",
       "var outputEl = gd.closest('.output');\n",
       "if (outputEl) {{\n",
       "    x.observe(outputEl, {childList: true});\n",
       "}}\n",
       "\n",
       "                        })                };                });            </script>        </div>"
      ]
     },
     "metadata": {},
     "output_type": "display_data"
    }
   ],
   "source": [
    "df.sum().iplot(kind='bar')"
   ]
  },
  {
   "cell_type": "code",
   "execution_count": 15,
   "id": "5e2cdfc0",
   "metadata": {},
   "outputs": [
    {
     "data": {
      "application/vnd.plotly.v1+json": {
       "config": {
        "linkText": "Export to plot.ly",
        "plotlyServerURL": "https://plot.ly",
        "showLink": true
       },
       "data": [
        {
         "boxpoints": false,
         "line": {
          "width": 1.3
         },
         "marker": {
          "color": "rgba(255, 153, 51, 1.0)"
         },
         "name": "A",
         "orientation": "v",
         "type": "box",
         "y": [
          -1.817020332442591,
          -0.48098196817947747,
          1.295157066086587,
          0.07915703940954168,
          -1.3099989138475427,
          0.06443502722863953,
          0.8429902338467029,
          -0.8773579775586074,
          0.46296346004057504,
          0.3460066752440415,
          -1.5090964258815225,
          -0.17929767315087017,
          1.3597925620525149,
          0.1044132807162975,
          0.634140345548099,
          0.6449694398149307,
          0.682739029598082,
          -1.071423148713151,
          1.3412141907457804,
          -2.0253607604150097,
          -0.6575006829762641,
          -0.17629534526442286,
          0.4323052492839113,
          0.6061579721571336,
          0.3390538872710677,
          0.2136221498914424,
          -0.9248743336982881,
          -0.4923106494685157,
          -0.14027220727513648,
          -0.1245854157414283,
          0.3754070935314772,
          0.6687968436024946,
          0.46090626794999184,
          0.6478439273174318,
          0.183863668146813,
          -1.279265961558031,
          0.802914519502553,
          -0.6617214233024067,
          0.40798053779705845,
          0.23659524715385208,
          -1.3116089276171852,
          -1.2724481063971438,
          -0.15342270238770084,
          -0.19734938689819756,
          1.1596643166619882,
          -0.005636088219923547,
          -0.6354557112936142,
          0.00841157757449361,
          0.48174320134418314,
          1.0213266264062488,
          0.3470778151363638,
          1.0253128059996828,
          0.7018347168264457,
          -2.009558285503277,
          0.403384354603036,
          -0.3462865536610784,
          0.6035616992595493,
          -0.30964050576847196,
          0.12320701101952627,
          1.335591270886312,
          0.36552633076117713,
          -1.3009197808756756,
          0.849189361840498,
          0.48156360348950894,
          -0.017253276895772475,
          -0.13428667687120988,
          -0.528177970082618,
          1.0196902755316413,
          1.3853643896167271,
          -0.6250839679301746,
          -1.3060891778316646,
          0.2980133963267906,
          -2.160297033004496,
          0.2376514887002878,
          0.6392880065901926,
          0.13454348300356517,
          -1.4637409882823738,
          1.0202755563129895,
          1.5880348353414337,
          0.07489399111775881,
          2.037016478459296,
          -0.251972946031691,
          0.8288506740682722,
          0.8955414611825695,
          1.2165389060864282,
          1.5064457727306413,
          0.061859146980210056,
          0.16475560467364941,
          0.728842764778092,
          0.38589650375284085,
          0.9594389862303899,
          -0.4598951496142224,
          -0.4720031339202954,
          1.0154972016695023,
          -0.3445588930132589,
          0.7210756485242339,
          -0.6826130598079807,
          0.5697110560318015,
          0.024064000147705544,
          -1.4702867469315202
         ]
        },
        {
         "boxpoints": false,
         "line": {
          "width": 1.3
         },
         "marker": {
          "color": "rgba(55, 128, 191, 1.0)"
         },
         "name": "B",
         "orientation": "v",
         "type": "box",
         "y": [
          -0.31958619878517447,
          0.12236833492550536,
          1.0005911448273535,
          0.11683245642945675,
          -0.036646303682910455,
          -1.4565555238871013,
          -0.22388894852612648,
          -0.6443526534508569,
          -1.2341426709423384,
          -0.26248492339228313,
          -1.3301360207440114,
          2.181530294928258,
          -0.7188285551019108,
          0.6261584800289558,
          1.0790046987515314,
          0.36993092952973244,
          -0.14854986225876715,
          -1.0551292102728689,
          -1.163712033089909,
          -1.035174477226583,
          -0.6923472344281039,
          -0.5829820471725831,
          0.10688564903208736,
          1.2901016578643634,
          -0.9861439072349416,
          -1.3403639860404626,
          0.5640300562054309,
          0.8521914504785596,
          -1.7725146263589386,
          -1.8445411092343604,
          -0.06880251081990287,
          1.250121225492265,
          0.06930813405963215,
          -1.0204497934376948,
          2.896448885000695,
          0.5435331300317845,
          1.1293824517425086,
          -0.3226727193654007,
          0.16828865849728697,
          -0.6309354652434254,
          -0.9557360051920409,
          -0.608525762156937,
          -0.2877608080766827,
          -0.767421864672971,
          0.8747239125952794,
          -1.5836537405323652,
          0.5932317169378237,
          0.22155467596449682,
          -0.2946398656833748,
          0.501013083160056,
          -1.4595035573437123,
          -0.600133196317449,
          0.4371009535768002,
          -2.210211643664322,
          0.3987946242518368,
          0.9673048599268973,
          -0.991473339820769,
          1.481431234489536,
          -0.03793162416476574,
          1.1079397655393566,
          -1.369508046106604,
          -0.1649378380752962,
          -0.7352150191288587,
          -1.4239325906110716,
          0.44200726961262254,
          1.0425740063040825,
          0.8844989386981145,
          -2.5816261775021685,
          -0.2990031997249988,
          0.039030433549701274,
          0.8455972801354262,
          0.4294742344327642,
          -0.43682471944814016,
          1.0841609285508675,
          1.1469454716518857,
          -0.2054363362461187,
          -0.5466324358704335,
          -0.7389366044575378,
          -0.16902628340572434,
          -0.19004248977568786,
          -0.49727220556567836,
          0.2796113263981927,
          -1.6861463695938166,
          0.17628961485402045,
          0.3854415954185394,
          -0.35792778347898646,
          -0.056004840344292366,
          0.7640036412727731,
          -1.3155218371664341,
          0.8607461279866138,
          -0.9632096083138955,
          0.2013845338042852,
          0.3273678055928306,
          2.151982269773717,
          -0.3337367592014226,
          -0.6715793937101349,
          -0.02262627338355212,
          -0.7333371089900023,
          0.3689449330022981,
          1.8709776079342886
         ]
        },
        {
         "boxpoints": false,
         "line": {
          "width": 1.3
         },
         "marker": {
          "color": "rgba(50, 171, 96, 1.0)"
         },
         "name": "C",
         "orientation": "v",
         "type": "box",
         "y": [
          1.0953767652329516,
          1.0674885235210942,
          0.10702710741239999,
          -0.954153685946803,
          -1.0117846817687348,
          -1.248748546330939,
          0.33573629591591553,
          0.09105282444780213,
          -0.740669148990467,
          0.5604153074363686,
          -1.156263488934967,
          0.14141745220162819,
          -0.02195036741740686,
          -2.574394766813021,
          1.112972665858067,
          -1.3959559717282959,
          -1.1084197955034893,
          0.9397167813130121,
          0.35865379355073923,
          -0.04091216165564142,
          0.5917460927696595,
          0.5633415574373425,
          1.0768777697973806,
          -0.580001604449778,
          -0.5408884505927388,
          -0.5570533340947074,
          -0.2794306786219015,
          -0.3758900285760739,
          -0.8436557055097003,
          0.9017423987486539,
          1.2137921129836033,
          -1.232651901917362,
          -0.4152255020506121,
          -0.5550741829104553,
          0.005357956882898781,
          0.7483435968141808,
          1.0011756713653068,
          0.5027780048241728,
          2.7357929212343897,
          1.074126071465053,
          0.5005699474096457,
          -0.5532408933133417,
          -1.2726558386937958,
          0.23731753540874181,
          -0.46520338349774676,
          -0.18438834613668895,
          1.2077286521868627,
          0.7236261545462045,
          -1.7204816845343944,
          -0.6023030332880979,
          0.7561440210904469,
          0.3021160942655366,
          -1.026907699608662,
          -1.2295098597943062,
          0.008325636100983063,
          0.8393746117529984,
          0.447264874149784,
          -0.27278041071657666,
          -0.15423198109448072,
          1.1368568316257275,
          0.4083911186319793,
          -0.07808427251102533,
          -1.1823655795878965,
          1.350417628424253,
          -1.7389847911330285,
          -2.5111769110929747,
          1.2373754600798792,
          -0.31803011445916834,
          0.8351509287147442,
          -0.30933408602372775,
          -0.1067106096295591,
          1.1586410521599493,
          0.1932555811594735,
          0.5076663310320605,
          0.5205839863841363,
          0.7794023849824213,
          -0.8454694626466698,
          0.8667120603331698,
          0.44391874737678555,
          -0.3923489773262638,
          1.3049769621906229,
          -1.3216687973535155,
          -0.8227690572169466,
          -0.36828489240639184,
          0.8637341876668951,
          -0.9498737456139357,
          -1.2237244938865248,
          -1.71936208493555,
          1.264675054118327,
          1.8082347255878342,
          -0.29550822133963267,
          -1.8490463992435888,
          -0.44822613089839825,
          -0.5180106310307114,
          -0.7485568101153796,
          1.6027585948517178,
          0.9627790218198398,
          -0.09776738470744424,
          -0.4061162842529637,
          -0.5613978392914967
         ]
        },
        {
         "boxpoints": false,
         "line": {
          "width": 1.3
         },
         "marker": {
          "color": "rgba(128, 0, 128, 1.0)"
         },
         "name": "D",
         "orientation": "v",
         "type": "box",
         "y": [
          -0.16698152242796563,
          0.26909329242327334,
          1.5100358375326823,
          0.08893402499514612,
          0.3796726622869942,
          1.8466081554109595,
          0.7040953011510183,
          1.2107636630222662,
          -1.2132296943762197,
          0.879627776754263,
          0.5684442976238012,
          0.5298693940071432,
          -1.674269720437406,
          -0.912630414643611,
          -0.7450917733255941,
          0.0422315272816017,
          -0.3515786869274323,
          1.128527129929655,
          0.9006598876114357,
          -0.34734454559643285,
          -0.3775530324157638,
          -0.21896031926161155,
          0.6478642022089207,
          0.03343285934465391,
          0.8527080991567603,
          -1.1969041163602225,
          1.9810558476039732,
          1.120547376095395,
          -1.9054245027503434,
          0.006929944895255636,
          -1.659883647300653,
          0.51534756102324,
          -0.6176288613825067,
          0.4894694399004788,
          0.5476513689136442,
          0.23584525422475605,
          0.6765460870220769,
          1.916526649821652,
          -0.5729473164384696,
          -1.1853537263517948,
          0.5250366640704713,
          0.03116538517875106,
          -1.243805002108966,
          2.5054193469654042,
          -0.931674239439011,
          -0.4407047224344251,
          -1.2779631173347277,
          -0.7451552297858708,
          0.16478287627577923,
          -1.536865594100219,
          -0.5492611476389664,
          -1.2020303838909674,
          1.337800596471134,
          -0.7980175083892986,
          -1.7696049050138287,
          1.7205949177799915,
          -0.8374118874503188,
          -0.10200136859410983,
          0.01089359859617445,
          0.38358872385159665,
          -0.6160978721745863,
          1.4212623611327182,
          -0.6977551920042057,
          -0.5392560208548826,
          -0.6798260298979372,
          1.2506897853538967,
          -0.23508022203878431,
          0.051804134866280695,
          1.421969711559989,
          -0.5014909849806081,
          1.3379500662712527,
          0.05097568818349346,
          0.3678045414217921,
          0.7844918957876057,
          -0.705664301427625,
          1.908043541102815,
          0.4547664385782509,
          -0.14515610401424958,
          0.8650018400071103,
          0.20120409997833696,
          -1.3480905218314831,
          -1.1842695424955942,
          0.035976627980285544,
          -1.1762328800400228,
          0.5653576799028618,
          0.20074002962261614,
          0.4340173162164649,
          1.3918213975265494,
          0.05222207533041211,
          0.858455625929984,
          -0.7802769532459792,
          -0.12769731696154077,
          -0.04299642426099226,
          0.7761664124267653,
          -0.2950514354006721,
          1.9645412563420428,
          -0.5112906137510908,
          0.7658714369035079,
          -2.0785366758572157,
          -0.8881901513191027
         ]
        }
       ],
       "layout": {
        "legend": {
         "bgcolor": "#F5F6F9",
         "font": {
          "color": "#4D5663"
         }
        },
        "paper_bgcolor": "#F5F6F9",
        "plot_bgcolor": "#F5F6F9",
        "template": {
         "data": {
          "bar": [
           {
            "error_x": {
             "color": "#2a3f5f"
            },
            "error_y": {
             "color": "#2a3f5f"
            },
            "marker": {
             "line": {
              "color": "#E5ECF6",
              "width": 0.5
             },
             "pattern": {
              "fillmode": "overlay",
              "size": 10,
              "solidity": 0.2
             }
            },
            "type": "bar"
           }
          ],
          "barpolar": [
           {
            "marker": {
             "line": {
              "color": "#E5ECF6",
              "width": 0.5
             },
             "pattern": {
              "fillmode": "overlay",
              "size": 10,
              "solidity": 0.2
             }
            },
            "type": "barpolar"
           }
          ],
          "carpet": [
           {
            "aaxis": {
             "endlinecolor": "#2a3f5f",
             "gridcolor": "white",
             "linecolor": "white",
             "minorgridcolor": "white",
             "startlinecolor": "#2a3f5f"
            },
            "baxis": {
             "endlinecolor": "#2a3f5f",
             "gridcolor": "white",
             "linecolor": "white",
             "minorgridcolor": "white",
             "startlinecolor": "#2a3f5f"
            },
            "type": "carpet"
           }
          ],
          "choropleth": [
           {
            "colorbar": {
             "outlinewidth": 0,
             "ticks": ""
            },
            "type": "choropleth"
           }
          ],
          "contour": [
           {
            "colorbar": {
             "outlinewidth": 0,
             "ticks": ""
            },
            "colorscale": [
             [
              0,
              "#0d0887"
             ],
             [
              0.1111111111111111,
              "#46039f"
             ],
             [
              0.2222222222222222,
              "#7201a8"
             ],
             [
              0.3333333333333333,
              "#9c179e"
             ],
             [
              0.4444444444444444,
              "#bd3786"
             ],
             [
              0.5555555555555556,
              "#d8576b"
             ],
             [
              0.6666666666666666,
              "#ed7953"
             ],
             [
              0.7777777777777778,
              "#fb9f3a"
             ],
             [
              0.8888888888888888,
              "#fdca26"
             ],
             [
              1,
              "#f0f921"
             ]
            ],
            "type": "contour"
           }
          ],
          "contourcarpet": [
           {
            "colorbar": {
             "outlinewidth": 0,
             "ticks": ""
            },
            "type": "contourcarpet"
           }
          ],
          "heatmap": [
           {
            "colorbar": {
             "outlinewidth": 0,
             "ticks": ""
            },
            "colorscale": [
             [
              0,
              "#0d0887"
             ],
             [
              0.1111111111111111,
              "#46039f"
             ],
             [
              0.2222222222222222,
              "#7201a8"
             ],
             [
              0.3333333333333333,
              "#9c179e"
             ],
             [
              0.4444444444444444,
              "#bd3786"
             ],
             [
              0.5555555555555556,
              "#d8576b"
             ],
             [
              0.6666666666666666,
              "#ed7953"
             ],
             [
              0.7777777777777778,
              "#fb9f3a"
             ],
             [
              0.8888888888888888,
              "#fdca26"
             ],
             [
              1,
              "#f0f921"
             ]
            ],
            "type": "heatmap"
           }
          ],
          "heatmapgl": [
           {
            "colorbar": {
             "outlinewidth": 0,
             "ticks": ""
            },
            "colorscale": [
             [
              0,
              "#0d0887"
             ],
             [
              0.1111111111111111,
              "#46039f"
             ],
             [
              0.2222222222222222,
              "#7201a8"
             ],
             [
              0.3333333333333333,
              "#9c179e"
             ],
             [
              0.4444444444444444,
              "#bd3786"
             ],
             [
              0.5555555555555556,
              "#d8576b"
             ],
             [
              0.6666666666666666,
              "#ed7953"
             ],
             [
              0.7777777777777778,
              "#fb9f3a"
             ],
             [
              0.8888888888888888,
              "#fdca26"
             ],
             [
              1,
              "#f0f921"
             ]
            ],
            "type": "heatmapgl"
           }
          ],
          "histogram": [
           {
            "marker": {
             "pattern": {
              "fillmode": "overlay",
              "size": 10,
              "solidity": 0.2
             }
            },
            "type": "histogram"
           }
          ],
          "histogram2d": [
           {
            "colorbar": {
             "outlinewidth": 0,
             "ticks": ""
            },
            "colorscale": [
             [
              0,
              "#0d0887"
             ],
             [
              0.1111111111111111,
              "#46039f"
             ],
             [
              0.2222222222222222,
              "#7201a8"
             ],
             [
              0.3333333333333333,
              "#9c179e"
             ],
             [
              0.4444444444444444,
              "#bd3786"
             ],
             [
              0.5555555555555556,
              "#d8576b"
             ],
             [
              0.6666666666666666,
              "#ed7953"
             ],
             [
              0.7777777777777778,
              "#fb9f3a"
             ],
             [
              0.8888888888888888,
              "#fdca26"
             ],
             [
              1,
              "#f0f921"
             ]
            ],
            "type": "histogram2d"
           }
          ],
          "histogram2dcontour": [
           {
            "colorbar": {
             "outlinewidth": 0,
             "ticks": ""
            },
            "colorscale": [
             [
              0,
              "#0d0887"
             ],
             [
              0.1111111111111111,
              "#46039f"
             ],
             [
              0.2222222222222222,
              "#7201a8"
             ],
             [
              0.3333333333333333,
              "#9c179e"
             ],
             [
              0.4444444444444444,
              "#bd3786"
             ],
             [
              0.5555555555555556,
              "#d8576b"
             ],
             [
              0.6666666666666666,
              "#ed7953"
             ],
             [
              0.7777777777777778,
              "#fb9f3a"
             ],
             [
              0.8888888888888888,
              "#fdca26"
             ],
             [
              1,
              "#f0f921"
             ]
            ],
            "type": "histogram2dcontour"
           }
          ],
          "mesh3d": [
           {
            "colorbar": {
             "outlinewidth": 0,
             "ticks": ""
            },
            "type": "mesh3d"
           }
          ],
          "parcoords": [
           {
            "line": {
             "colorbar": {
              "outlinewidth": 0,
              "ticks": ""
             }
            },
            "type": "parcoords"
           }
          ],
          "pie": [
           {
            "automargin": true,
            "type": "pie"
           }
          ],
          "scatter": [
           {
            "marker": {
             "colorbar": {
              "outlinewidth": 0,
              "ticks": ""
             }
            },
            "type": "scatter"
           }
          ],
          "scatter3d": [
           {
            "line": {
             "colorbar": {
              "outlinewidth": 0,
              "ticks": ""
             }
            },
            "marker": {
             "colorbar": {
              "outlinewidth": 0,
              "ticks": ""
             }
            },
            "type": "scatter3d"
           }
          ],
          "scattercarpet": [
           {
            "marker": {
             "colorbar": {
              "outlinewidth": 0,
              "ticks": ""
             }
            },
            "type": "scattercarpet"
           }
          ],
          "scattergeo": [
           {
            "marker": {
             "colorbar": {
              "outlinewidth": 0,
              "ticks": ""
             }
            },
            "type": "scattergeo"
           }
          ],
          "scattergl": [
           {
            "marker": {
             "colorbar": {
              "outlinewidth": 0,
              "ticks": ""
             }
            },
            "type": "scattergl"
           }
          ],
          "scattermapbox": [
           {
            "marker": {
             "colorbar": {
              "outlinewidth": 0,
              "ticks": ""
             }
            },
            "type": "scattermapbox"
           }
          ],
          "scatterpolar": [
           {
            "marker": {
             "colorbar": {
              "outlinewidth": 0,
              "ticks": ""
             }
            },
            "type": "scatterpolar"
           }
          ],
          "scatterpolargl": [
           {
            "marker": {
             "colorbar": {
              "outlinewidth": 0,
              "ticks": ""
             }
            },
            "type": "scatterpolargl"
           }
          ],
          "scatterternary": [
           {
            "marker": {
             "colorbar": {
              "outlinewidth": 0,
              "ticks": ""
             }
            },
            "type": "scatterternary"
           }
          ],
          "surface": [
           {
            "colorbar": {
             "outlinewidth": 0,
             "ticks": ""
            },
            "colorscale": [
             [
              0,
              "#0d0887"
             ],
             [
              0.1111111111111111,
              "#46039f"
             ],
             [
              0.2222222222222222,
              "#7201a8"
             ],
             [
              0.3333333333333333,
              "#9c179e"
             ],
             [
              0.4444444444444444,
              "#bd3786"
             ],
             [
              0.5555555555555556,
              "#d8576b"
             ],
             [
              0.6666666666666666,
              "#ed7953"
             ],
             [
              0.7777777777777778,
              "#fb9f3a"
             ],
             [
              0.8888888888888888,
              "#fdca26"
             ],
             [
              1,
              "#f0f921"
             ]
            ],
            "type": "surface"
           }
          ],
          "table": [
           {
            "cells": {
             "fill": {
              "color": "#EBF0F8"
             },
             "line": {
              "color": "white"
             }
            },
            "header": {
             "fill": {
              "color": "#C8D4E3"
             },
             "line": {
              "color": "white"
             }
            },
            "type": "table"
           }
          ]
         },
         "layout": {
          "annotationdefaults": {
           "arrowcolor": "#2a3f5f",
           "arrowhead": 0,
           "arrowwidth": 1
          },
          "autotypenumbers": "strict",
          "coloraxis": {
           "colorbar": {
            "outlinewidth": 0,
            "ticks": ""
           }
          },
          "colorscale": {
           "diverging": [
            [
             0,
             "#8e0152"
            ],
            [
             0.1,
             "#c51b7d"
            ],
            [
             0.2,
             "#de77ae"
            ],
            [
             0.3,
             "#f1b6da"
            ],
            [
             0.4,
             "#fde0ef"
            ],
            [
             0.5,
             "#f7f7f7"
            ],
            [
             0.6,
             "#e6f5d0"
            ],
            [
             0.7,
             "#b8e186"
            ],
            [
             0.8,
             "#7fbc41"
            ],
            [
             0.9,
             "#4d9221"
            ],
            [
             1,
             "#276419"
            ]
           ],
           "sequential": [
            [
             0,
             "#0d0887"
            ],
            [
             0.1111111111111111,
             "#46039f"
            ],
            [
             0.2222222222222222,
             "#7201a8"
            ],
            [
             0.3333333333333333,
             "#9c179e"
            ],
            [
             0.4444444444444444,
             "#bd3786"
            ],
            [
             0.5555555555555556,
             "#d8576b"
            ],
            [
             0.6666666666666666,
             "#ed7953"
            ],
            [
             0.7777777777777778,
             "#fb9f3a"
            ],
            [
             0.8888888888888888,
             "#fdca26"
            ],
            [
             1,
             "#f0f921"
            ]
           ],
           "sequentialminus": [
            [
             0,
             "#0d0887"
            ],
            [
             0.1111111111111111,
             "#46039f"
            ],
            [
             0.2222222222222222,
             "#7201a8"
            ],
            [
             0.3333333333333333,
             "#9c179e"
            ],
            [
             0.4444444444444444,
             "#bd3786"
            ],
            [
             0.5555555555555556,
             "#d8576b"
            ],
            [
             0.6666666666666666,
             "#ed7953"
            ],
            [
             0.7777777777777778,
             "#fb9f3a"
            ],
            [
             0.8888888888888888,
             "#fdca26"
            ],
            [
             1,
             "#f0f921"
            ]
           ]
          },
          "colorway": [
           "#636efa",
           "#EF553B",
           "#00cc96",
           "#ab63fa",
           "#FFA15A",
           "#19d3f3",
           "#FF6692",
           "#B6E880",
           "#FF97FF",
           "#FECB52"
          ],
          "font": {
           "color": "#2a3f5f"
          },
          "geo": {
           "bgcolor": "white",
           "lakecolor": "white",
           "landcolor": "#E5ECF6",
           "showlakes": true,
           "showland": true,
           "subunitcolor": "white"
          },
          "hoverlabel": {
           "align": "left"
          },
          "hovermode": "closest",
          "mapbox": {
           "style": "light"
          },
          "paper_bgcolor": "white",
          "plot_bgcolor": "#E5ECF6",
          "polar": {
           "angularaxis": {
            "gridcolor": "white",
            "linecolor": "white",
            "ticks": ""
           },
           "bgcolor": "#E5ECF6",
           "radialaxis": {
            "gridcolor": "white",
            "linecolor": "white",
            "ticks": ""
           }
          },
          "scene": {
           "xaxis": {
            "backgroundcolor": "#E5ECF6",
            "gridcolor": "white",
            "gridwidth": 2,
            "linecolor": "white",
            "showbackground": true,
            "ticks": "",
            "zerolinecolor": "white"
           },
           "yaxis": {
            "backgroundcolor": "#E5ECF6",
            "gridcolor": "white",
            "gridwidth": 2,
            "linecolor": "white",
            "showbackground": true,
            "ticks": "",
            "zerolinecolor": "white"
           },
           "zaxis": {
            "backgroundcolor": "#E5ECF6",
            "gridcolor": "white",
            "gridwidth": 2,
            "linecolor": "white",
            "showbackground": true,
            "ticks": "",
            "zerolinecolor": "white"
           }
          },
          "shapedefaults": {
           "line": {
            "color": "#2a3f5f"
           }
          },
          "ternary": {
           "aaxis": {
            "gridcolor": "white",
            "linecolor": "white",
            "ticks": ""
           },
           "baxis": {
            "gridcolor": "white",
            "linecolor": "white",
            "ticks": ""
           },
           "bgcolor": "#E5ECF6",
           "caxis": {
            "gridcolor": "white",
            "linecolor": "white",
            "ticks": ""
           }
          },
          "title": {
           "x": 0.05
          },
          "xaxis": {
           "automargin": true,
           "gridcolor": "white",
           "linecolor": "white",
           "ticks": "",
           "title": {
            "standoff": 15
           },
           "zerolinecolor": "white",
           "zerolinewidth": 2
          },
          "yaxis": {
           "automargin": true,
           "gridcolor": "white",
           "linecolor": "white",
           "ticks": "",
           "title": {
            "standoff": 15
           },
           "zerolinecolor": "white",
           "zerolinewidth": 2
          }
         }
        },
        "title": {
         "font": {
          "color": "#4D5663"
         }
        },
        "xaxis": {
         "gridcolor": "#E1E5ED",
         "showgrid": true,
         "tickfont": {
          "color": "#4D5663"
         },
         "title": {
          "font": {
           "color": "#4D5663"
          },
          "text": ""
         },
         "zerolinecolor": "#E1E5ED"
        },
        "yaxis": {
         "gridcolor": "#E1E5ED",
         "showgrid": true,
         "tickfont": {
          "color": "#4D5663"
         },
         "title": {
          "font": {
           "color": "#4D5663"
          },
          "text": ""
         },
         "zerolinecolor": "#E1E5ED"
        }
       }
      },
      "text/html": [
       "<div>                            <div id=\"bcc70627-85a1-4b70-92a3-9641715a9d74\" class=\"plotly-graph-div\" style=\"height:525px; width:100%;\"></div>            <script type=\"text/javascript\">                require([\"plotly\"], function(Plotly) {                    window.PLOTLYENV=window.PLOTLYENV || {};\n",
       "                    window.PLOTLYENV.BASE_URL='https://plot.ly';                                    if (document.getElementById(\"bcc70627-85a1-4b70-92a3-9641715a9d74\")) {                    Plotly.newPlot(                        \"bcc70627-85a1-4b70-92a3-9641715a9d74\",                        [{\"boxpoints\":false,\"line\":{\"width\":1.3},\"marker\":{\"color\":\"rgba(255, 153, 51, 1.0)\"},\"name\":\"A\",\"orientation\":\"v\",\"y\":[-1.817020332442591,-0.48098196817947747,1.295157066086587,0.07915703940954168,-1.3099989138475427,0.06443502722863953,0.8429902338467029,-0.8773579775586074,0.46296346004057504,0.3460066752440415,-1.5090964258815225,-0.17929767315087017,1.3597925620525149,0.1044132807162975,0.634140345548099,0.6449694398149307,0.682739029598082,-1.071423148713151,1.3412141907457804,-2.0253607604150097,-0.6575006829762641,-0.17629534526442286,0.4323052492839113,0.6061579721571336,0.3390538872710677,0.2136221498914424,-0.9248743336982881,-0.4923106494685157,-0.14027220727513648,-0.1245854157414283,0.3754070935314772,0.6687968436024946,0.46090626794999184,0.6478439273174318,0.183863668146813,-1.279265961558031,0.802914519502553,-0.6617214233024067,0.40798053779705845,0.23659524715385208,-1.3116089276171852,-1.2724481063971438,-0.15342270238770084,-0.19734938689819756,1.1596643166619882,-0.005636088219923547,-0.6354557112936142,0.00841157757449361,0.48174320134418314,1.0213266264062488,0.3470778151363638,1.0253128059996828,0.7018347168264457,-2.009558285503277,0.403384354603036,-0.3462865536610784,0.6035616992595493,-0.30964050576847196,0.12320701101952627,1.335591270886312,0.36552633076117713,-1.3009197808756756,0.849189361840498,0.48156360348950894,-0.017253276895772475,-0.13428667687120988,-0.528177970082618,1.0196902755316413,1.3853643896167271,-0.6250839679301746,-1.3060891778316646,0.2980133963267906,-2.160297033004496,0.2376514887002878,0.6392880065901926,0.13454348300356517,-1.4637409882823738,1.0202755563129895,1.5880348353414337,0.07489399111775881,2.037016478459296,-0.251972946031691,0.8288506740682722,0.8955414611825695,1.2165389060864282,1.5064457727306413,0.061859146980210056,0.16475560467364941,0.728842764778092,0.38589650375284085,0.9594389862303899,-0.4598951496142224,-0.4720031339202954,1.0154972016695023,-0.3445588930132589,0.7210756485242339,-0.6826130598079807,0.5697110560318015,0.024064000147705544,-1.4702867469315202],\"type\":\"box\"},{\"boxpoints\":false,\"line\":{\"width\":1.3},\"marker\":{\"color\":\"rgba(55, 128, 191, 1.0)\"},\"name\":\"B\",\"orientation\":\"v\",\"y\":[-0.31958619878517447,0.12236833492550536,1.0005911448273535,0.11683245642945675,-0.036646303682910455,-1.4565555238871013,-0.22388894852612648,-0.6443526534508569,-1.2341426709423384,-0.26248492339228313,-1.3301360207440114,2.181530294928258,-0.7188285551019108,0.6261584800289558,1.0790046987515314,0.36993092952973244,-0.14854986225876715,-1.0551292102728689,-1.163712033089909,-1.035174477226583,-0.6923472344281039,-0.5829820471725831,0.10688564903208736,1.2901016578643634,-0.9861439072349416,-1.3403639860404626,0.5640300562054309,0.8521914504785596,-1.7725146263589386,-1.8445411092343604,-0.06880251081990287,1.250121225492265,0.06930813405963215,-1.0204497934376948,2.896448885000695,0.5435331300317845,1.1293824517425086,-0.3226727193654007,0.16828865849728697,-0.6309354652434254,-0.9557360051920409,-0.608525762156937,-0.2877608080766827,-0.767421864672971,0.8747239125952794,-1.5836537405323652,0.5932317169378237,0.22155467596449682,-0.2946398656833748,0.501013083160056,-1.4595035573437123,-0.600133196317449,0.4371009535768002,-2.210211643664322,0.3987946242518368,0.9673048599268973,-0.991473339820769,1.481431234489536,-0.03793162416476574,1.1079397655393566,-1.369508046106604,-0.1649378380752962,-0.7352150191288587,-1.4239325906110716,0.44200726961262254,1.0425740063040825,0.8844989386981145,-2.5816261775021685,-0.2990031997249988,0.039030433549701274,0.8455972801354262,0.4294742344327642,-0.43682471944814016,1.0841609285508675,1.1469454716518857,-0.2054363362461187,-0.5466324358704335,-0.7389366044575378,-0.16902628340572434,-0.19004248977568786,-0.49727220556567836,0.2796113263981927,-1.6861463695938166,0.17628961485402045,0.3854415954185394,-0.35792778347898646,-0.056004840344292366,0.7640036412727731,-1.3155218371664341,0.8607461279866138,-0.9632096083138955,0.2013845338042852,0.3273678055928306,2.151982269773717,-0.3337367592014226,-0.6715793937101349,-0.02262627338355212,-0.7333371089900023,0.3689449330022981,1.8709776079342886],\"type\":\"box\"},{\"boxpoints\":false,\"line\":{\"width\":1.3},\"marker\":{\"color\":\"rgba(50, 171, 96, 1.0)\"},\"name\":\"C\",\"orientation\":\"v\",\"y\":[1.0953767652329516,1.0674885235210942,0.10702710741239999,-0.954153685946803,-1.0117846817687348,-1.248748546330939,0.33573629591591553,0.09105282444780213,-0.740669148990467,0.5604153074363686,-1.156263488934967,0.14141745220162819,-0.02195036741740686,-2.574394766813021,1.112972665858067,-1.3959559717282959,-1.1084197955034893,0.9397167813130121,0.35865379355073923,-0.04091216165564142,0.5917460927696595,0.5633415574373425,1.0768777697973806,-0.580001604449778,-0.5408884505927388,-0.5570533340947074,-0.2794306786219015,-0.3758900285760739,-0.8436557055097003,0.9017423987486539,1.2137921129836033,-1.232651901917362,-0.4152255020506121,-0.5550741829104553,0.005357956882898781,0.7483435968141808,1.0011756713653068,0.5027780048241728,2.7357929212343897,1.074126071465053,0.5005699474096457,-0.5532408933133417,-1.2726558386937958,0.23731753540874181,-0.46520338349774676,-0.18438834613668895,1.2077286521868627,0.7236261545462045,-1.7204816845343944,-0.6023030332880979,0.7561440210904469,0.3021160942655366,-1.026907699608662,-1.2295098597943062,0.008325636100983063,0.8393746117529984,0.447264874149784,-0.27278041071657666,-0.15423198109448072,1.1368568316257275,0.4083911186319793,-0.07808427251102533,-1.1823655795878965,1.350417628424253,-1.7389847911330285,-2.5111769110929747,1.2373754600798792,-0.31803011445916834,0.8351509287147442,-0.30933408602372775,-0.1067106096295591,1.1586410521599493,0.1932555811594735,0.5076663310320605,0.5205839863841363,0.7794023849824213,-0.8454694626466698,0.8667120603331698,0.44391874737678555,-0.3923489773262638,1.3049769621906229,-1.3216687973535155,-0.8227690572169466,-0.36828489240639184,0.8637341876668951,-0.9498737456139357,-1.2237244938865248,-1.71936208493555,1.264675054118327,1.8082347255878342,-0.29550822133963267,-1.8490463992435888,-0.44822613089839825,-0.5180106310307114,-0.7485568101153796,1.6027585948517178,0.9627790218198398,-0.09776738470744424,-0.4061162842529637,-0.5613978392914967],\"type\":\"box\"},{\"boxpoints\":false,\"line\":{\"width\":1.3},\"marker\":{\"color\":\"rgba(128, 0, 128, 1.0)\"},\"name\":\"D\",\"orientation\":\"v\",\"y\":[-0.16698152242796563,0.26909329242327334,1.5100358375326823,0.08893402499514612,0.3796726622869942,1.8466081554109595,0.7040953011510183,1.2107636630222662,-1.2132296943762197,0.879627776754263,0.5684442976238012,0.5298693940071432,-1.674269720437406,-0.912630414643611,-0.7450917733255941,0.0422315272816017,-0.3515786869274323,1.128527129929655,0.9006598876114357,-0.34734454559643285,-0.3775530324157638,-0.21896031926161155,0.6478642022089207,0.03343285934465391,0.8527080991567603,-1.1969041163602225,1.9810558476039732,1.120547376095395,-1.9054245027503434,0.006929944895255636,-1.659883647300653,0.51534756102324,-0.6176288613825067,0.4894694399004788,0.5476513689136442,0.23584525422475605,0.6765460870220769,1.916526649821652,-0.5729473164384696,-1.1853537263517948,0.5250366640704713,0.03116538517875106,-1.243805002108966,2.5054193469654042,-0.931674239439011,-0.4407047224344251,-1.2779631173347277,-0.7451552297858708,0.16478287627577923,-1.536865594100219,-0.5492611476389664,-1.2020303838909674,1.337800596471134,-0.7980175083892986,-1.7696049050138287,1.7205949177799915,-0.8374118874503188,-0.10200136859410983,0.01089359859617445,0.38358872385159665,-0.6160978721745863,1.4212623611327182,-0.6977551920042057,-0.5392560208548826,-0.6798260298979372,1.2506897853538967,-0.23508022203878431,0.051804134866280695,1.421969711559989,-0.5014909849806081,1.3379500662712527,0.05097568818349346,0.3678045414217921,0.7844918957876057,-0.705664301427625,1.908043541102815,0.4547664385782509,-0.14515610401424958,0.8650018400071103,0.20120409997833696,-1.3480905218314831,-1.1842695424955942,0.035976627980285544,-1.1762328800400228,0.5653576799028618,0.20074002962261614,0.4340173162164649,1.3918213975265494,0.05222207533041211,0.858455625929984,-0.7802769532459792,-0.12769731696154077,-0.04299642426099226,0.7761664124267653,-0.2950514354006721,1.9645412563420428,-0.5112906137510908,0.7658714369035079,-2.0785366758572157,-0.8881901513191027],\"type\":\"box\"}],                        {\"legend\":{\"bgcolor\":\"#F5F6F9\",\"font\":{\"color\":\"#4D5663\"}},\"paper_bgcolor\":\"#F5F6F9\",\"plot_bgcolor\":\"#F5F6F9\",\"template\":{\"data\":{\"barpolar\":[{\"marker\":{\"line\":{\"color\":\"#E5ECF6\",\"width\":0.5},\"pattern\":{\"fillmode\":\"overlay\",\"size\":10,\"solidity\":0.2}},\"type\":\"barpolar\"}],\"bar\":[{\"error_x\":{\"color\":\"#2a3f5f\"},\"error_y\":{\"color\":\"#2a3f5f\"},\"marker\":{\"line\":{\"color\":\"#E5ECF6\",\"width\":0.5},\"pattern\":{\"fillmode\":\"overlay\",\"size\":10,\"solidity\":0.2}},\"type\":\"bar\"}],\"carpet\":[{\"aaxis\":{\"endlinecolor\":\"#2a3f5f\",\"gridcolor\":\"white\",\"linecolor\":\"white\",\"minorgridcolor\":\"white\",\"startlinecolor\":\"#2a3f5f\"},\"baxis\":{\"endlinecolor\":\"#2a3f5f\",\"gridcolor\":\"white\",\"linecolor\":\"white\",\"minorgridcolor\":\"white\",\"startlinecolor\":\"#2a3f5f\"},\"type\":\"carpet\"}],\"choropleth\":[{\"colorbar\":{\"outlinewidth\":0,\"ticks\":\"\"},\"type\":\"choropleth\"}],\"contourcarpet\":[{\"colorbar\":{\"outlinewidth\":0,\"ticks\":\"\"},\"type\":\"contourcarpet\"}],\"contour\":[{\"colorbar\":{\"outlinewidth\":0,\"ticks\":\"\"},\"colorscale\":[[0.0,\"#0d0887\"],[0.1111111111111111,\"#46039f\"],[0.2222222222222222,\"#7201a8\"],[0.3333333333333333,\"#9c179e\"],[0.4444444444444444,\"#bd3786\"],[0.5555555555555556,\"#d8576b\"],[0.6666666666666666,\"#ed7953\"],[0.7777777777777778,\"#fb9f3a\"],[0.8888888888888888,\"#fdca26\"],[1.0,\"#f0f921\"]],\"type\":\"contour\"}],\"heatmapgl\":[{\"colorbar\":{\"outlinewidth\":0,\"ticks\":\"\"},\"colorscale\":[[0.0,\"#0d0887\"],[0.1111111111111111,\"#46039f\"],[0.2222222222222222,\"#7201a8\"],[0.3333333333333333,\"#9c179e\"],[0.4444444444444444,\"#bd3786\"],[0.5555555555555556,\"#d8576b\"],[0.6666666666666666,\"#ed7953\"],[0.7777777777777778,\"#fb9f3a\"],[0.8888888888888888,\"#fdca26\"],[1.0,\"#f0f921\"]],\"type\":\"heatmapgl\"}],\"heatmap\":[{\"colorbar\":{\"outlinewidth\":0,\"ticks\":\"\"},\"colorscale\":[[0.0,\"#0d0887\"],[0.1111111111111111,\"#46039f\"],[0.2222222222222222,\"#7201a8\"],[0.3333333333333333,\"#9c179e\"],[0.4444444444444444,\"#bd3786\"],[0.5555555555555556,\"#d8576b\"],[0.6666666666666666,\"#ed7953\"],[0.7777777777777778,\"#fb9f3a\"],[0.8888888888888888,\"#fdca26\"],[1.0,\"#f0f921\"]],\"type\":\"heatmap\"}],\"histogram2dcontour\":[{\"colorbar\":{\"outlinewidth\":0,\"ticks\":\"\"},\"colorscale\":[[0.0,\"#0d0887\"],[0.1111111111111111,\"#46039f\"],[0.2222222222222222,\"#7201a8\"],[0.3333333333333333,\"#9c179e\"],[0.4444444444444444,\"#bd3786\"],[0.5555555555555556,\"#d8576b\"],[0.6666666666666666,\"#ed7953\"],[0.7777777777777778,\"#fb9f3a\"],[0.8888888888888888,\"#fdca26\"],[1.0,\"#f0f921\"]],\"type\":\"histogram2dcontour\"}],\"histogram2d\":[{\"colorbar\":{\"outlinewidth\":0,\"ticks\":\"\"},\"colorscale\":[[0.0,\"#0d0887\"],[0.1111111111111111,\"#46039f\"],[0.2222222222222222,\"#7201a8\"],[0.3333333333333333,\"#9c179e\"],[0.4444444444444444,\"#bd3786\"],[0.5555555555555556,\"#d8576b\"],[0.6666666666666666,\"#ed7953\"],[0.7777777777777778,\"#fb9f3a\"],[0.8888888888888888,\"#fdca26\"],[1.0,\"#f0f921\"]],\"type\":\"histogram2d\"}],\"histogram\":[{\"marker\":{\"pattern\":{\"fillmode\":\"overlay\",\"size\":10,\"solidity\":0.2}},\"type\":\"histogram\"}],\"mesh3d\":[{\"colorbar\":{\"outlinewidth\":0,\"ticks\":\"\"},\"type\":\"mesh3d\"}],\"parcoords\":[{\"line\":{\"colorbar\":{\"outlinewidth\":0,\"ticks\":\"\"}},\"type\":\"parcoords\"}],\"pie\":[{\"automargin\":true,\"type\":\"pie\"}],\"scatter3d\":[{\"line\":{\"colorbar\":{\"outlinewidth\":0,\"ticks\":\"\"}},\"marker\":{\"colorbar\":{\"outlinewidth\":0,\"ticks\":\"\"}},\"type\":\"scatter3d\"}],\"scattercarpet\":[{\"marker\":{\"colorbar\":{\"outlinewidth\":0,\"ticks\":\"\"}},\"type\":\"scattercarpet\"}],\"scattergeo\":[{\"marker\":{\"colorbar\":{\"outlinewidth\":0,\"ticks\":\"\"}},\"type\":\"scattergeo\"}],\"scattergl\":[{\"marker\":{\"colorbar\":{\"outlinewidth\":0,\"ticks\":\"\"}},\"type\":\"scattergl\"}],\"scattermapbox\":[{\"marker\":{\"colorbar\":{\"outlinewidth\":0,\"ticks\":\"\"}},\"type\":\"scattermapbox\"}],\"scatterpolargl\":[{\"marker\":{\"colorbar\":{\"outlinewidth\":0,\"ticks\":\"\"}},\"type\":\"scatterpolargl\"}],\"scatterpolar\":[{\"marker\":{\"colorbar\":{\"outlinewidth\":0,\"ticks\":\"\"}},\"type\":\"scatterpolar\"}],\"scatter\":[{\"marker\":{\"colorbar\":{\"outlinewidth\":0,\"ticks\":\"\"}},\"type\":\"scatter\"}],\"scatterternary\":[{\"marker\":{\"colorbar\":{\"outlinewidth\":0,\"ticks\":\"\"}},\"type\":\"scatterternary\"}],\"surface\":[{\"colorbar\":{\"outlinewidth\":0,\"ticks\":\"\"},\"colorscale\":[[0.0,\"#0d0887\"],[0.1111111111111111,\"#46039f\"],[0.2222222222222222,\"#7201a8\"],[0.3333333333333333,\"#9c179e\"],[0.4444444444444444,\"#bd3786\"],[0.5555555555555556,\"#d8576b\"],[0.6666666666666666,\"#ed7953\"],[0.7777777777777778,\"#fb9f3a\"],[0.8888888888888888,\"#fdca26\"],[1.0,\"#f0f921\"]],\"type\":\"surface\"}],\"table\":[{\"cells\":{\"fill\":{\"color\":\"#EBF0F8\"},\"line\":{\"color\":\"white\"}},\"header\":{\"fill\":{\"color\":\"#C8D4E3\"},\"line\":{\"color\":\"white\"}},\"type\":\"table\"}]},\"layout\":{\"annotationdefaults\":{\"arrowcolor\":\"#2a3f5f\",\"arrowhead\":0,\"arrowwidth\":1},\"autotypenumbers\":\"strict\",\"coloraxis\":{\"colorbar\":{\"outlinewidth\":0,\"ticks\":\"\"}},\"colorscale\":{\"diverging\":[[0,\"#8e0152\"],[0.1,\"#c51b7d\"],[0.2,\"#de77ae\"],[0.3,\"#f1b6da\"],[0.4,\"#fde0ef\"],[0.5,\"#f7f7f7\"],[0.6,\"#e6f5d0\"],[0.7,\"#b8e186\"],[0.8,\"#7fbc41\"],[0.9,\"#4d9221\"],[1,\"#276419\"]],\"sequential\":[[0.0,\"#0d0887\"],[0.1111111111111111,\"#46039f\"],[0.2222222222222222,\"#7201a8\"],[0.3333333333333333,\"#9c179e\"],[0.4444444444444444,\"#bd3786\"],[0.5555555555555556,\"#d8576b\"],[0.6666666666666666,\"#ed7953\"],[0.7777777777777778,\"#fb9f3a\"],[0.8888888888888888,\"#fdca26\"],[1.0,\"#f0f921\"]],\"sequentialminus\":[[0.0,\"#0d0887\"],[0.1111111111111111,\"#46039f\"],[0.2222222222222222,\"#7201a8\"],[0.3333333333333333,\"#9c179e\"],[0.4444444444444444,\"#bd3786\"],[0.5555555555555556,\"#d8576b\"],[0.6666666666666666,\"#ed7953\"],[0.7777777777777778,\"#fb9f3a\"],[0.8888888888888888,\"#fdca26\"],[1.0,\"#f0f921\"]]},\"colorway\":[\"#636efa\",\"#EF553B\",\"#00cc96\",\"#ab63fa\",\"#FFA15A\",\"#19d3f3\",\"#FF6692\",\"#B6E880\",\"#FF97FF\",\"#FECB52\"],\"font\":{\"color\":\"#2a3f5f\"},\"geo\":{\"bgcolor\":\"white\",\"lakecolor\":\"white\",\"landcolor\":\"#E5ECF6\",\"showlakes\":true,\"showland\":true,\"subunitcolor\":\"white\"},\"hoverlabel\":{\"align\":\"left\"},\"hovermode\":\"closest\",\"mapbox\":{\"style\":\"light\"},\"paper_bgcolor\":\"white\",\"plot_bgcolor\":\"#E5ECF6\",\"polar\":{\"angularaxis\":{\"gridcolor\":\"white\",\"linecolor\":\"white\",\"ticks\":\"\"},\"bgcolor\":\"#E5ECF6\",\"radialaxis\":{\"gridcolor\":\"white\",\"linecolor\":\"white\",\"ticks\":\"\"}},\"scene\":{\"xaxis\":{\"backgroundcolor\":\"#E5ECF6\",\"gridcolor\":\"white\",\"gridwidth\":2,\"linecolor\":\"white\",\"showbackground\":true,\"ticks\":\"\",\"zerolinecolor\":\"white\"},\"yaxis\":{\"backgroundcolor\":\"#E5ECF6\",\"gridcolor\":\"white\",\"gridwidth\":2,\"linecolor\":\"white\",\"showbackground\":true,\"ticks\":\"\",\"zerolinecolor\":\"white\"},\"zaxis\":{\"backgroundcolor\":\"#E5ECF6\",\"gridcolor\":\"white\",\"gridwidth\":2,\"linecolor\":\"white\",\"showbackground\":true,\"ticks\":\"\",\"zerolinecolor\":\"white\"}},\"shapedefaults\":{\"line\":{\"color\":\"#2a3f5f\"}},\"ternary\":{\"aaxis\":{\"gridcolor\":\"white\",\"linecolor\":\"white\",\"ticks\":\"\"},\"baxis\":{\"gridcolor\":\"white\",\"linecolor\":\"white\",\"ticks\":\"\"},\"bgcolor\":\"#E5ECF6\",\"caxis\":{\"gridcolor\":\"white\",\"linecolor\":\"white\",\"ticks\":\"\"}},\"title\":{\"x\":0.05},\"xaxis\":{\"automargin\":true,\"gridcolor\":\"white\",\"linecolor\":\"white\",\"ticks\":\"\",\"title\":{\"standoff\":15},\"zerolinecolor\":\"white\",\"zerolinewidth\":2},\"yaxis\":{\"automargin\":true,\"gridcolor\":\"white\",\"linecolor\":\"white\",\"ticks\":\"\",\"title\":{\"standoff\":15},\"zerolinecolor\":\"white\",\"zerolinewidth\":2}}},\"title\":{\"font\":{\"color\":\"#4D5663\"}},\"xaxis\":{\"gridcolor\":\"#E1E5ED\",\"showgrid\":true,\"tickfont\":{\"color\":\"#4D5663\"},\"title\":{\"font\":{\"color\":\"#4D5663\"},\"text\":\"\"},\"zerolinecolor\":\"#E1E5ED\"},\"yaxis\":{\"gridcolor\":\"#E1E5ED\",\"showgrid\":true,\"tickfont\":{\"color\":\"#4D5663\"},\"title\":{\"font\":{\"color\":\"#4D5663\"},\"text\":\"\"},\"zerolinecolor\":\"#E1E5ED\"}},                        {\"showLink\": true, \"linkText\": \"Export to plot.ly\", \"plotlyServerURL\": \"https://plot.ly\", \"responsive\": true}                    ).then(function(){\n",
       "                            \n",
       "var gd = document.getElementById('bcc70627-85a1-4b70-92a3-9641715a9d74');\n",
       "var x = new MutationObserver(function (mutations, observer) {{\n",
       "        var display = window.getComputedStyle(gd).display;\n",
       "        if (!display || display === 'none') {{\n",
       "            console.log([gd, 'removed!']);\n",
       "            Plotly.purge(gd);\n",
       "            observer.disconnect();\n",
       "        }}\n",
       "}});\n",
       "\n",
       "// Listen for the removal of the full notebook cells\n",
       "var notebookContainer = gd.closest('#notebook-container');\n",
       "if (notebookContainer) {{\n",
       "    x.observe(notebookContainer, {childList: true});\n",
       "}}\n",
       "\n",
       "// Listen for the clearing of the current output cell\n",
       "var outputEl = gd.closest('.output');\n",
       "if (outputEl) {{\n",
       "    x.observe(outputEl, {childList: true});\n",
       "}}\n",
       "\n",
       "                        })                };                });            </script>        </div>"
      ]
     },
     "metadata": {},
     "output_type": "display_data"
    }
   ],
   "source": [
    "df.iplot(kind='box')"
   ]
  },
  {
   "cell_type": "code",
   "execution_count": 16,
   "id": "fbe4644c",
   "metadata": {},
   "outputs": [
    {
     "data": {
      "text/html": [
       "<div>\n",
       "<style scoped>\n",
       "    .dataframe tbody tr th:only-of-type {\n",
       "        vertical-align: middle;\n",
       "    }\n",
       "\n",
       "    .dataframe tbody tr th {\n",
       "        vertical-align: top;\n",
       "    }\n",
       "\n",
       "    .dataframe thead th {\n",
       "        text-align: right;\n",
       "    }\n",
       "</style>\n",
       "<table border=\"1\" class=\"dataframe\">\n",
       "  <thead>\n",
       "    <tr style=\"text-align: right;\">\n",
       "      <th></th>\n",
       "      <th>x</th>\n",
       "      <th>y</th>\n",
       "      <th>z</th>\n",
       "    </tr>\n",
       "  </thead>\n",
       "  <tbody>\n",
       "    <tr>\n",
       "      <th>0</th>\n",
       "      <td>1</td>\n",
       "      <td>10</td>\n",
       "      <td>500</td>\n",
       "    </tr>\n",
       "    <tr>\n",
       "      <th>1</th>\n",
       "      <td>2</td>\n",
       "      <td>20</td>\n",
       "      <td>400</td>\n",
       "    </tr>\n",
       "    <tr>\n",
       "      <th>2</th>\n",
       "      <td>3</td>\n",
       "      <td>30</td>\n",
       "      <td>300</td>\n",
       "    </tr>\n",
       "    <tr>\n",
       "      <th>3</th>\n",
       "      <td>4</td>\n",
       "      <td>40</td>\n",
       "      <td>200</td>\n",
       "    </tr>\n",
       "    <tr>\n",
       "      <th>4</th>\n",
       "      <td>5</td>\n",
       "      <td>50</td>\n",
       "      <td>100</td>\n",
       "    </tr>\n",
       "  </tbody>\n",
       "</table>\n",
       "</div>"
      ],
      "text/plain": [
       "   x   y    z\n",
       "0  1  10  500\n",
       "1  2  20  400\n",
       "2  3  30  300\n",
       "3  4  40  200\n",
       "4  5  50  100"
      ]
     },
     "execution_count": 16,
     "metadata": {},
     "output_type": "execute_result"
    }
   ],
   "source": [
    "df3=pd.DataFrame({'x':[1,2,3,4,5],'y':[10,20,30,40,50],'z':[500,400,300,200,100]})\n",
    "df3"
   ]
  },
  {
   "cell_type": "code",
   "execution_count": 17,
   "id": "e188e103",
   "metadata": {},
   "outputs": [
    {
     "data": {
      "application/vnd.plotly.v1+json": {
       "config": {
        "linkText": "Export to plot.ly",
        "plotlyServerURL": "https://plot.ly",
        "showLink": true
       },
       "data": [
        {
         "colorscale": [
          [
           0,
           "rgb(255, 153, 51)"
          ],
          [
           0.1111111111111111,
           "rgb(55, 128, 191)"
          ],
          [
           0.2222222222222222,
           "rgb(50, 171, 96)"
          ],
          [
           0.3333333333333333,
           "rgb(128, 0, 128)"
          ],
          [
           0.4444444444444444,
           "rgb(219, 64, 82)"
          ],
          [
           0.5555555555555556,
           "rgb(0, 128, 128)"
          ],
          [
           0.6666666666666666,
           "rgb(255, 255, 51)"
          ],
          [
           0.7777777777777778,
           "rgb(128, 128, 0)"
          ],
          [
           0.8888888888888888,
           "rgb(251, 128, 114)"
          ],
          [
           1,
           "rgb(128, 177, 211)"
          ]
         ],
         "type": "surface",
         "x": [
          0,
          1,
          2,
          3,
          4
         ],
         "y": [
          "x",
          "y",
          "z"
         ],
         "z": [
          [
           1,
           2,
           3,
           4,
           5
          ],
          [
           10,
           20,
           30,
           40,
           50
          ],
          [
           500,
           400,
           300,
           200,
           100
          ]
         ]
        }
       ],
       "layout": {
        "legend": {
         "bgcolor": "#F5F6F9",
         "font": {
          "color": "#4D5663"
         }
        },
        "paper_bgcolor": "#F5F6F9",
        "plot_bgcolor": "#F5F6F9",
        "template": {
         "data": {
          "bar": [
           {
            "error_x": {
             "color": "#2a3f5f"
            },
            "error_y": {
             "color": "#2a3f5f"
            },
            "marker": {
             "line": {
              "color": "#E5ECF6",
              "width": 0.5
             },
             "pattern": {
              "fillmode": "overlay",
              "size": 10,
              "solidity": 0.2
             }
            },
            "type": "bar"
           }
          ],
          "barpolar": [
           {
            "marker": {
             "line": {
              "color": "#E5ECF6",
              "width": 0.5
             },
             "pattern": {
              "fillmode": "overlay",
              "size": 10,
              "solidity": 0.2
             }
            },
            "type": "barpolar"
           }
          ],
          "carpet": [
           {
            "aaxis": {
             "endlinecolor": "#2a3f5f",
             "gridcolor": "white",
             "linecolor": "white",
             "minorgridcolor": "white",
             "startlinecolor": "#2a3f5f"
            },
            "baxis": {
             "endlinecolor": "#2a3f5f",
             "gridcolor": "white",
             "linecolor": "white",
             "minorgridcolor": "white",
             "startlinecolor": "#2a3f5f"
            },
            "type": "carpet"
           }
          ],
          "choropleth": [
           {
            "colorbar": {
             "outlinewidth": 0,
             "ticks": ""
            },
            "type": "choropleth"
           }
          ],
          "contour": [
           {
            "colorbar": {
             "outlinewidth": 0,
             "ticks": ""
            },
            "colorscale": [
             [
              0,
              "#0d0887"
             ],
             [
              0.1111111111111111,
              "#46039f"
             ],
             [
              0.2222222222222222,
              "#7201a8"
             ],
             [
              0.3333333333333333,
              "#9c179e"
             ],
             [
              0.4444444444444444,
              "#bd3786"
             ],
             [
              0.5555555555555556,
              "#d8576b"
             ],
             [
              0.6666666666666666,
              "#ed7953"
             ],
             [
              0.7777777777777778,
              "#fb9f3a"
             ],
             [
              0.8888888888888888,
              "#fdca26"
             ],
             [
              1,
              "#f0f921"
             ]
            ],
            "type": "contour"
           }
          ],
          "contourcarpet": [
           {
            "colorbar": {
             "outlinewidth": 0,
             "ticks": ""
            },
            "type": "contourcarpet"
           }
          ],
          "heatmap": [
           {
            "colorbar": {
             "outlinewidth": 0,
             "ticks": ""
            },
            "colorscale": [
             [
              0,
              "#0d0887"
             ],
             [
              0.1111111111111111,
              "#46039f"
             ],
             [
              0.2222222222222222,
              "#7201a8"
             ],
             [
              0.3333333333333333,
              "#9c179e"
             ],
             [
              0.4444444444444444,
              "#bd3786"
             ],
             [
              0.5555555555555556,
              "#d8576b"
             ],
             [
              0.6666666666666666,
              "#ed7953"
             ],
             [
              0.7777777777777778,
              "#fb9f3a"
             ],
             [
              0.8888888888888888,
              "#fdca26"
             ],
             [
              1,
              "#f0f921"
             ]
            ],
            "type": "heatmap"
           }
          ],
          "heatmapgl": [
           {
            "colorbar": {
             "outlinewidth": 0,
             "ticks": ""
            },
            "colorscale": [
             [
              0,
              "#0d0887"
             ],
             [
              0.1111111111111111,
              "#46039f"
             ],
             [
              0.2222222222222222,
              "#7201a8"
             ],
             [
              0.3333333333333333,
              "#9c179e"
             ],
             [
              0.4444444444444444,
              "#bd3786"
             ],
             [
              0.5555555555555556,
              "#d8576b"
             ],
             [
              0.6666666666666666,
              "#ed7953"
             ],
             [
              0.7777777777777778,
              "#fb9f3a"
             ],
             [
              0.8888888888888888,
              "#fdca26"
             ],
             [
              1,
              "#f0f921"
             ]
            ],
            "type": "heatmapgl"
           }
          ],
          "histogram": [
           {
            "marker": {
             "pattern": {
              "fillmode": "overlay",
              "size": 10,
              "solidity": 0.2
             }
            },
            "type": "histogram"
           }
          ],
          "histogram2d": [
           {
            "colorbar": {
             "outlinewidth": 0,
             "ticks": ""
            },
            "colorscale": [
             [
              0,
              "#0d0887"
             ],
             [
              0.1111111111111111,
              "#46039f"
             ],
             [
              0.2222222222222222,
              "#7201a8"
             ],
             [
              0.3333333333333333,
              "#9c179e"
             ],
             [
              0.4444444444444444,
              "#bd3786"
             ],
             [
              0.5555555555555556,
              "#d8576b"
             ],
             [
              0.6666666666666666,
              "#ed7953"
             ],
             [
              0.7777777777777778,
              "#fb9f3a"
             ],
             [
              0.8888888888888888,
              "#fdca26"
             ],
             [
              1,
              "#f0f921"
             ]
            ],
            "type": "histogram2d"
           }
          ],
          "histogram2dcontour": [
           {
            "colorbar": {
             "outlinewidth": 0,
             "ticks": ""
            },
            "colorscale": [
             [
              0,
              "#0d0887"
             ],
             [
              0.1111111111111111,
              "#46039f"
             ],
             [
              0.2222222222222222,
              "#7201a8"
             ],
             [
              0.3333333333333333,
              "#9c179e"
             ],
             [
              0.4444444444444444,
              "#bd3786"
             ],
             [
              0.5555555555555556,
              "#d8576b"
             ],
             [
              0.6666666666666666,
              "#ed7953"
             ],
             [
              0.7777777777777778,
              "#fb9f3a"
             ],
             [
              0.8888888888888888,
              "#fdca26"
             ],
             [
              1,
              "#f0f921"
             ]
            ],
            "type": "histogram2dcontour"
           }
          ],
          "mesh3d": [
           {
            "colorbar": {
             "outlinewidth": 0,
             "ticks": ""
            },
            "type": "mesh3d"
           }
          ],
          "parcoords": [
           {
            "line": {
             "colorbar": {
              "outlinewidth": 0,
              "ticks": ""
             }
            },
            "type": "parcoords"
           }
          ],
          "pie": [
           {
            "automargin": true,
            "type": "pie"
           }
          ],
          "scatter": [
           {
            "marker": {
             "colorbar": {
              "outlinewidth": 0,
              "ticks": ""
             }
            },
            "type": "scatter"
           }
          ],
          "scatter3d": [
           {
            "line": {
             "colorbar": {
              "outlinewidth": 0,
              "ticks": ""
             }
            },
            "marker": {
             "colorbar": {
              "outlinewidth": 0,
              "ticks": ""
             }
            },
            "type": "scatter3d"
           }
          ],
          "scattercarpet": [
           {
            "marker": {
             "colorbar": {
              "outlinewidth": 0,
              "ticks": ""
             }
            },
            "type": "scattercarpet"
           }
          ],
          "scattergeo": [
           {
            "marker": {
             "colorbar": {
              "outlinewidth": 0,
              "ticks": ""
             }
            },
            "type": "scattergeo"
           }
          ],
          "scattergl": [
           {
            "marker": {
             "colorbar": {
              "outlinewidth": 0,
              "ticks": ""
             }
            },
            "type": "scattergl"
           }
          ],
          "scattermapbox": [
           {
            "marker": {
             "colorbar": {
              "outlinewidth": 0,
              "ticks": ""
             }
            },
            "type": "scattermapbox"
           }
          ],
          "scatterpolar": [
           {
            "marker": {
             "colorbar": {
              "outlinewidth": 0,
              "ticks": ""
             }
            },
            "type": "scatterpolar"
           }
          ],
          "scatterpolargl": [
           {
            "marker": {
             "colorbar": {
              "outlinewidth": 0,
              "ticks": ""
             }
            },
            "type": "scatterpolargl"
           }
          ],
          "scatterternary": [
           {
            "marker": {
             "colorbar": {
              "outlinewidth": 0,
              "ticks": ""
             }
            },
            "type": "scatterternary"
           }
          ],
          "surface": [
           {
            "colorbar": {
             "outlinewidth": 0,
             "ticks": ""
            },
            "colorscale": [
             [
              0,
              "#0d0887"
             ],
             [
              0.1111111111111111,
              "#46039f"
             ],
             [
              0.2222222222222222,
              "#7201a8"
             ],
             [
              0.3333333333333333,
              "#9c179e"
             ],
             [
              0.4444444444444444,
              "#bd3786"
             ],
             [
              0.5555555555555556,
              "#d8576b"
             ],
             [
              0.6666666666666666,
              "#ed7953"
             ],
             [
              0.7777777777777778,
              "#fb9f3a"
             ],
             [
              0.8888888888888888,
              "#fdca26"
             ],
             [
              1,
              "#f0f921"
             ]
            ],
            "type": "surface"
           }
          ],
          "table": [
           {
            "cells": {
             "fill": {
              "color": "#EBF0F8"
             },
             "line": {
              "color": "white"
             }
            },
            "header": {
             "fill": {
              "color": "#C8D4E3"
             },
             "line": {
              "color": "white"
             }
            },
            "type": "table"
           }
          ]
         },
         "layout": {
          "annotationdefaults": {
           "arrowcolor": "#2a3f5f",
           "arrowhead": 0,
           "arrowwidth": 1
          },
          "autotypenumbers": "strict",
          "coloraxis": {
           "colorbar": {
            "outlinewidth": 0,
            "ticks": ""
           }
          },
          "colorscale": {
           "diverging": [
            [
             0,
             "#8e0152"
            ],
            [
             0.1,
             "#c51b7d"
            ],
            [
             0.2,
             "#de77ae"
            ],
            [
             0.3,
             "#f1b6da"
            ],
            [
             0.4,
             "#fde0ef"
            ],
            [
             0.5,
             "#f7f7f7"
            ],
            [
             0.6,
             "#e6f5d0"
            ],
            [
             0.7,
             "#b8e186"
            ],
            [
             0.8,
             "#7fbc41"
            ],
            [
             0.9,
             "#4d9221"
            ],
            [
             1,
             "#276419"
            ]
           ],
           "sequential": [
            [
             0,
             "#0d0887"
            ],
            [
             0.1111111111111111,
             "#46039f"
            ],
            [
             0.2222222222222222,
             "#7201a8"
            ],
            [
             0.3333333333333333,
             "#9c179e"
            ],
            [
             0.4444444444444444,
             "#bd3786"
            ],
            [
             0.5555555555555556,
             "#d8576b"
            ],
            [
             0.6666666666666666,
             "#ed7953"
            ],
            [
             0.7777777777777778,
             "#fb9f3a"
            ],
            [
             0.8888888888888888,
             "#fdca26"
            ],
            [
             1,
             "#f0f921"
            ]
           ],
           "sequentialminus": [
            [
             0,
             "#0d0887"
            ],
            [
             0.1111111111111111,
             "#46039f"
            ],
            [
             0.2222222222222222,
             "#7201a8"
            ],
            [
             0.3333333333333333,
             "#9c179e"
            ],
            [
             0.4444444444444444,
             "#bd3786"
            ],
            [
             0.5555555555555556,
             "#d8576b"
            ],
            [
             0.6666666666666666,
             "#ed7953"
            ],
            [
             0.7777777777777778,
             "#fb9f3a"
            ],
            [
             0.8888888888888888,
             "#fdca26"
            ],
            [
             1,
             "#f0f921"
            ]
           ]
          },
          "colorway": [
           "#636efa",
           "#EF553B",
           "#00cc96",
           "#ab63fa",
           "#FFA15A",
           "#19d3f3",
           "#FF6692",
           "#B6E880",
           "#FF97FF",
           "#FECB52"
          ],
          "font": {
           "color": "#2a3f5f"
          },
          "geo": {
           "bgcolor": "white",
           "lakecolor": "white",
           "landcolor": "#E5ECF6",
           "showlakes": true,
           "showland": true,
           "subunitcolor": "white"
          },
          "hoverlabel": {
           "align": "left"
          },
          "hovermode": "closest",
          "mapbox": {
           "style": "light"
          },
          "paper_bgcolor": "white",
          "plot_bgcolor": "#E5ECF6",
          "polar": {
           "angularaxis": {
            "gridcolor": "white",
            "linecolor": "white",
            "ticks": ""
           },
           "bgcolor": "#E5ECF6",
           "radialaxis": {
            "gridcolor": "white",
            "linecolor": "white",
            "ticks": ""
           }
          },
          "scene": {
           "xaxis": {
            "backgroundcolor": "#E5ECF6",
            "gridcolor": "white",
            "gridwidth": 2,
            "linecolor": "white",
            "showbackground": true,
            "ticks": "",
            "zerolinecolor": "white"
           },
           "yaxis": {
            "backgroundcolor": "#E5ECF6",
            "gridcolor": "white",
            "gridwidth": 2,
            "linecolor": "white",
            "showbackground": true,
            "ticks": "",
            "zerolinecolor": "white"
           },
           "zaxis": {
            "backgroundcolor": "#E5ECF6",
            "gridcolor": "white",
            "gridwidth": 2,
            "linecolor": "white",
            "showbackground": true,
            "ticks": "",
            "zerolinecolor": "white"
           }
          },
          "shapedefaults": {
           "line": {
            "color": "#2a3f5f"
           }
          },
          "ternary": {
           "aaxis": {
            "gridcolor": "white",
            "linecolor": "white",
            "ticks": ""
           },
           "baxis": {
            "gridcolor": "white",
            "linecolor": "white",
            "ticks": ""
           },
           "bgcolor": "#E5ECF6",
           "caxis": {
            "gridcolor": "white",
            "linecolor": "white",
            "ticks": ""
           }
          },
          "title": {
           "x": 0.05
          },
          "xaxis": {
           "automargin": true,
           "gridcolor": "white",
           "linecolor": "white",
           "ticks": "",
           "title": {
            "standoff": 15
           },
           "zerolinecolor": "white",
           "zerolinewidth": 2
          },
          "yaxis": {
           "automargin": true,
           "gridcolor": "white",
           "linecolor": "white",
           "ticks": "",
           "title": {
            "standoff": 15
           },
           "zerolinecolor": "white",
           "zerolinewidth": 2
          }
         }
        },
        "title": {
         "font": {
          "color": "#4D5663"
         }
        },
        "xaxis": {
         "gridcolor": "#E1E5ED",
         "showgrid": true,
         "tickfont": {
          "color": "#4D5663"
         },
         "title": {
          "font": {
           "color": "#4D5663"
          },
          "text": ""
         },
         "zerolinecolor": "#E1E5ED"
        },
        "yaxis": {
         "gridcolor": "#E1E5ED",
         "showgrid": true,
         "tickfont": {
          "color": "#4D5663"
         },
         "title": {
          "font": {
           "color": "#4D5663"
          },
          "text": ""
         },
         "zerolinecolor": "#E1E5ED"
        }
       }
      },
      "text/html": [
       "<div>                            <div id=\"1006cad9-9e76-48ba-870a-c380f543981b\" class=\"plotly-graph-div\" style=\"height:525px; width:100%;\"></div>            <script type=\"text/javascript\">                require([\"plotly\"], function(Plotly) {                    window.PLOTLYENV=window.PLOTLYENV || {};\n",
       "                    window.PLOTLYENV.BASE_URL='https://plot.ly';                                    if (document.getElementById(\"1006cad9-9e76-48ba-870a-c380f543981b\")) {                    Plotly.newPlot(                        \"1006cad9-9e76-48ba-870a-c380f543981b\",                        [{\"colorscale\":[[0.0,\"rgb(255, 153, 51)\"],[0.1111111111111111,\"rgb(55, 128, 191)\"],[0.2222222222222222,\"rgb(50, 171, 96)\"],[0.3333333333333333,\"rgb(128, 0, 128)\"],[0.4444444444444444,\"rgb(219, 64, 82)\"],[0.5555555555555556,\"rgb(0, 128, 128)\"],[0.6666666666666666,\"rgb(255, 255, 51)\"],[0.7777777777777778,\"rgb(128, 128, 0)\"],[0.8888888888888888,\"rgb(251, 128, 114)\"],[1.0,\"rgb(128, 177, 211)\"]],\"x\":[0,1,2,3,4],\"y\":[\"x\",\"y\",\"z\"],\"z\":[[1,2,3,4,5],[10,20,30,40,50],[500,400,300,200,100]],\"type\":\"surface\"}],                        {\"legend\":{\"bgcolor\":\"#F5F6F9\",\"font\":{\"color\":\"#4D5663\"}},\"paper_bgcolor\":\"#F5F6F9\",\"plot_bgcolor\":\"#F5F6F9\",\"template\":{\"data\":{\"barpolar\":[{\"marker\":{\"line\":{\"color\":\"#E5ECF6\",\"width\":0.5},\"pattern\":{\"fillmode\":\"overlay\",\"size\":10,\"solidity\":0.2}},\"type\":\"barpolar\"}],\"bar\":[{\"error_x\":{\"color\":\"#2a3f5f\"},\"error_y\":{\"color\":\"#2a3f5f\"},\"marker\":{\"line\":{\"color\":\"#E5ECF6\",\"width\":0.5},\"pattern\":{\"fillmode\":\"overlay\",\"size\":10,\"solidity\":0.2}},\"type\":\"bar\"}],\"carpet\":[{\"aaxis\":{\"endlinecolor\":\"#2a3f5f\",\"gridcolor\":\"white\",\"linecolor\":\"white\",\"minorgridcolor\":\"white\",\"startlinecolor\":\"#2a3f5f\"},\"baxis\":{\"endlinecolor\":\"#2a3f5f\",\"gridcolor\":\"white\",\"linecolor\":\"white\",\"minorgridcolor\":\"white\",\"startlinecolor\":\"#2a3f5f\"},\"type\":\"carpet\"}],\"choropleth\":[{\"colorbar\":{\"outlinewidth\":0,\"ticks\":\"\"},\"type\":\"choropleth\"}],\"contourcarpet\":[{\"colorbar\":{\"outlinewidth\":0,\"ticks\":\"\"},\"type\":\"contourcarpet\"}],\"contour\":[{\"colorbar\":{\"outlinewidth\":0,\"ticks\":\"\"},\"colorscale\":[[0.0,\"#0d0887\"],[0.1111111111111111,\"#46039f\"],[0.2222222222222222,\"#7201a8\"],[0.3333333333333333,\"#9c179e\"],[0.4444444444444444,\"#bd3786\"],[0.5555555555555556,\"#d8576b\"],[0.6666666666666666,\"#ed7953\"],[0.7777777777777778,\"#fb9f3a\"],[0.8888888888888888,\"#fdca26\"],[1.0,\"#f0f921\"]],\"type\":\"contour\"}],\"heatmapgl\":[{\"colorbar\":{\"outlinewidth\":0,\"ticks\":\"\"},\"colorscale\":[[0.0,\"#0d0887\"],[0.1111111111111111,\"#46039f\"],[0.2222222222222222,\"#7201a8\"],[0.3333333333333333,\"#9c179e\"],[0.4444444444444444,\"#bd3786\"],[0.5555555555555556,\"#d8576b\"],[0.6666666666666666,\"#ed7953\"],[0.7777777777777778,\"#fb9f3a\"],[0.8888888888888888,\"#fdca26\"],[1.0,\"#f0f921\"]],\"type\":\"heatmapgl\"}],\"heatmap\":[{\"colorbar\":{\"outlinewidth\":0,\"ticks\":\"\"},\"colorscale\":[[0.0,\"#0d0887\"],[0.1111111111111111,\"#46039f\"],[0.2222222222222222,\"#7201a8\"],[0.3333333333333333,\"#9c179e\"],[0.4444444444444444,\"#bd3786\"],[0.5555555555555556,\"#d8576b\"],[0.6666666666666666,\"#ed7953\"],[0.7777777777777778,\"#fb9f3a\"],[0.8888888888888888,\"#fdca26\"],[1.0,\"#f0f921\"]],\"type\":\"heatmap\"}],\"histogram2dcontour\":[{\"colorbar\":{\"outlinewidth\":0,\"ticks\":\"\"},\"colorscale\":[[0.0,\"#0d0887\"],[0.1111111111111111,\"#46039f\"],[0.2222222222222222,\"#7201a8\"],[0.3333333333333333,\"#9c179e\"],[0.4444444444444444,\"#bd3786\"],[0.5555555555555556,\"#d8576b\"],[0.6666666666666666,\"#ed7953\"],[0.7777777777777778,\"#fb9f3a\"],[0.8888888888888888,\"#fdca26\"],[1.0,\"#f0f921\"]],\"type\":\"histogram2dcontour\"}],\"histogram2d\":[{\"colorbar\":{\"outlinewidth\":0,\"ticks\":\"\"},\"colorscale\":[[0.0,\"#0d0887\"],[0.1111111111111111,\"#46039f\"],[0.2222222222222222,\"#7201a8\"],[0.3333333333333333,\"#9c179e\"],[0.4444444444444444,\"#bd3786\"],[0.5555555555555556,\"#d8576b\"],[0.6666666666666666,\"#ed7953\"],[0.7777777777777778,\"#fb9f3a\"],[0.8888888888888888,\"#fdca26\"],[1.0,\"#f0f921\"]],\"type\":\"histogram2d\"}],\"histogram\":[{\"marker\":{\"pattern\":{\"fillmode\":\"overlay\",\"size\":10,\"solidity\":0.2}},\"type\":\"histogram\"}],\"mesh3d\":[{\"colorbar\":{\"outlinewidth\":0,\"ticks\":\"\"},\"type\":\"mesh3d\"}],\"parcoords\":[{\"line\":{\"colorbar\":{\"outlinewidth\":0,\"ticks\":\"\"}},\"type\":\"parcoords\"}],\"pie\":[{\"automargin\":true,\"type\":\"pie\"}],\"scatter3d\":[{\"line\":{\"colorbar\":{\"outlinewidth\":0,\"ticks\":\"\"}},\"marker\":{\"colorbar\":{\"outlinewidth\":0,\"ticks\":\"\"}},\"type\":\"scatter3d\"}],\"scattercarpet\":[{\"marker\":{\"colorbar\":{\"outlinewidth\":0,\"ticks\":\"\"}},\"type\":\"scattercarpet\"}],\"scattergeo\":[{\"marker\":{\"colorbar\":{\"outlinewidth\":0,\"ticks\":\"\"}},\"type\":\"scattergeo\"}],\"scattergl\":[{\"marker\":{\"colorbar\":{\"outlinewidth\":0,\"ticks\":\"\"}},\"type\":\"scattergl\"}],\"scattermapbox\":[{\"marker\":{\"colorbar\":{\"outlinewidth\":0,\"ticks\":\"\"}},\"type\":\"scattermapbox\"}],\"scatterpolargl\":[{\"marker\":{\"colorbar\":{\"outlinewidth\":0,\"ticks\":\"\"}},\"type\":\"scatterpolargl\"}],\"scatterpolar\":[{\"marker\":{\"colorbar\":{\"outlinewidth\":0,\"ticks\":\"\"}},\"type\":\"scatterpolar\"}],\"scatter\":[{\"marker\":{\"colorbar\":{\"outlinewidth\":0,\"ticks\":\"\"}},\"type\":\"scatter\"}],\"scatterternary\":[{\"marker\":{\"colorbar\":{\"outlinewidth\":0,\"ticks\":\"\"}},\"type\":\"scatterternary\"}],\"surface\":[{\"colorbar\":{\"outlinewidth\":0,\"ticks\":\"\"},\"colorscale\":[[0.0,\"#0d0887\"],[0.1111111111111111,\"#46039f\"],[0.2222222222222222,\"#7201a8\"],[0.3333333333333333,\"#9c179e\"],[0.4444444444444444,\"#bd3786\"],[0.5555555555555556,\"#d8576b\"],[0.6666666666666666,\"#ed7953\"],[0.7777777777777778,\"#fb9f3a\"],[0.8888888888888888,\"#fdca26\"],[1.0,\"#f0f921\"]],\"type\":\"surface\"}],\"table\":[{\"cells\":{\"fill\":{\"color\":\"#EBF0F8\"},\"line\":{\"color\":\"white\"}},\"header\":{\"fill\":{\"color\":\"#C8D4E3\"},\"line\":{\"color\":\"white\"}},\"type\":\"table\"}]},\"layout\":{\"annotationdefaults\":{\"arrowcolor\":\"#2a3f5f\",\"arrowhead\":0,\"arrowwidth\":1},\"autotypenumbers\":\"strict\",\"coloraxis\":{\"colorbar\":{\"outlinewidth\":0,\"ticks\":\"\"}},\"colorscale\":{\"diverging\":[[0,\"#8e0152\"],[0.1,\"#c51b7d\"],[0.2,\"#de77ae\"],[0.3,\"#f1b6da\"],[0.4,\"#fde0ef\"],[0.5,\"#f7f7f7\"],[0.6,\"#e6f5d0\"],[0.7,\"#b8e186\"],[0.8,\"#7fbc41\"],[0.9,\"#4d9221\"],[1,\"#276419\"]],\"sequential\":[[0.0,\"#0d0887\"],[0.1111111111111111,\"#46039f\"],[0.2222222222222222,\"#7201a8\"],[0.3333333333333333,\"#9c179e\"],[0.4444444444444444,\"#bd3786\"],[0.5555555555555556,\"#d8576b\"],[0.6666666666666666,\"#ed7953\"],[0.7777777777777778,\"#fb9f3a\"],[0.8888888888888888,\"#fdca26\"],[1.0,\"#f0f921\"]],\"sequentialminus\":[[0.0,\"#0d0887\"],[0.1111111111111111,\"#46039f\"],[0.2222222222222222,\"#7201a8\"],[0.3333333333333333,\"#9c179e\"],[0.4444444444444444,\"#bd3786\"],[0.5555555555555556,\"#d8576b\"],[0.6666666666666666,\"#ed7953\"],[0.7777777777777778,\"#fb9f3a\"],[0.8888888888888888,\"#fdca26\"],[1.0,\"#f0f921\"]]},\"colorway\":[\"#636efa\",\"#EF553B\",\"#00cc96\",\"#ab63fa\",\"#FFA15A\",\"#19d3f3\",\"#FF6692\",\"#B6E880\",\"#FF97FF\",\"#FECB52\"],\"font\":{\"color\":\"#2a3f5f\"},\"geo\":{\"bgcolor\":\"white\",\"lakecolor\":\"white\",\"landcolor\":\"#E5ECF6\",\"showlakes\":true,\"showland\":true,\"subunitcolor\":\"white\"},\"hoverlabel\":{\"align\":\"left\"},\"hovermode\":\"closest\",\"mapbox\":{\"style\":\"light\"},\"paper_bgcolor\":\"white\",\"plot_bgcolor\":\"#E5ECF6\",\"polar\":{\"angularaxis\":{\"gridcolor\":\"white\",\"linecolor\":\"white\",\"ticks\":\"\"},\"bgcolor\":\"#E5ECF6\",\"radialaxis\":{\"gridcolor\":\"white\",\"linecolor\":\"white\",\"ticks\":\"\"}},\"scene\":{\"xaxis\":{\"backgroundcolor\":\"#E5ECF6\",\"gridcolor\":\"white\",\"gridwidth\":2,\"linecolor\":\"white\",\"showbackground\":true,\"ticks\":\"\",\"zerolinecolor\":\"white\"},\"yaxis\":{\"backgroundcolor\":\"#E5ECF6\",\"gridcolor\":\"white\",\"gridwidth\":2,\"linecolor\":\"white\",\"showbackground\":true,\"ticks\":\"\",\"zerolinecolor\":\"white\"},\"zaxis\":{\"backgroundcolor\":\"#E5ECF6\",\"gridcolor\":\"white\",\"gridwidth\":2,\"linecolor\":\"white\",\"showbackground\":true,\"ticks\":\"\",\"zerolinecolor\":\"white\"}},\"shapedefaults\":{\"line\":{\"color\":\"#2a3f5f\"}},\"ternary\":{\"aaxis\":{\"gridcolor\":\"white\",\"linecolor\":\"white\",\"ticks\":\"\"},\"baxis\":{\"gridcolor\":\"white\",\"linecolor\":\"white\",\"ticks\":\"\"},\"bgcolor\":\"#E5ECF6\",\"caxis\":{\"gridcolor\":\"white\",\"linecolor\":\"white\",\"ticks\":\"\"}},\"title\":{\"x\":0.05},\"xaxis\":{\"automargin\":true,\"gridcolor\":\"white\",\"linecolor\":\"white\",\"ticks\":\"\",\"title\":{\"standoff\":15},\"zerolinecolor\":\"white\",\"zerolinewidth\":2},\"yaxis\":{\"automargin\":true,\"gridcolor\":\"white\",\"linecolor\":\"white\",\"ticks\":\"\",\"title\":{\"standoff\":15},\"zerolinecolor\":\"white\",\"zerolinewidth\":2}}},\"title\":{\"font\":{\"color\":\"#4D5663\"}},\"xaxis\":{\"gridcolor\":\"#E1E5ED\",\"showgrid\":true,\"tickfont\":{\"color\":\"#4D5663\"},\"title\":{\"font\":{\"color\":\"#4D5663\"},\"text\":\"\"},\"zerolinecolor\":\"#E1E5ED\"},\"yaxis\":{\"gridcolor\":\"#E1E5ED\",\"showgrid\":true,\"tickfont\":{\"color\":\"#4D5663\"},\"title\":{\"font\":{\"color\":\"#4D5663\"},\"text\":\"\"},\"zerolinecolor\":\"#E1E5ED\"}},                        {\"showLink\": true, \"linkText\": \"Export to plot.ly\", \"plotlyServerURL\": \"https://plot.ly\", \"responsive\": true}                    ).then(function(){\n",
       "                            \n",
       "var gd = document.getElementById('1006cad9-9e76-48ba-870a-c380f543981b');\n",
       "var x = new MutationObserver(function (mutations, observer) {{\n",
       "        var display = window.getComputedStyle(gd).display;\n",
       "        if (!display || display === 'none') {{\n",
       "            console.log([gd, 'removed!']);\n",
       "            Plotly.purge(gd);\n",
       "            observer.disconnect();\n",
       "        }}\n",
       "}});\n",
       "\n",
       "// Listen for the removal of the full notebook cells\n",
       "var notebookContainer = gd.closest('#notebook-container');\n",
       "if (notebookContainer) {{\n",
       "    x.observe(notebookContainer, {childList: true});\n",
       "}}\n",
       "\n",
       "// Listen for the clearing of the current output cell\n",
       "var outputEl = gd.closest('.output');\n",
       "if (outputEl) {{\n",
       "    x.observe(outputEl, {childList: true});\n",
       "}}\n",
       "\n",
       "                        })                };                });            </script>        </div>"
      ]
     },
     "metadata": {},
     "output_type": "display_data"
    }
   ],
   "source": [
    "df3.iplot(kind='surface')"
   ]
  },
  {
   "cell_type": "code",
   "execution_count": 18,
   "id": "38eedd1f",
   "metadata": {},
   "outputs": [
    {
     "data": {
      "text/html": [
       "<div>\n",
       "<style scoped>\n",
       "    .dataframe tbody tr th:only-of-type {\n",
       "        vertical-align: middle;\n",
       "    }\n",
       "\n",
       "    .dataframe tbody tr th {\n",
       "        vertical-align: top;\n",
       "    }\n",
       "\n",
       "    .dataframe thead th {\n",
       "        text-align: right;\n",
       "    }\n",
       "</style>\n",
       "<table border=\"1\" class=\"dataframe\">\n",
       "  <thead>\n",
       "    <tr style=\"text-align: right;\">\n",
       "      <th></th>\n",
       "      <th>x</th>\n",
       "      <th>y</th>\n",
       "      <th>z</th>\n",
       "    </tr>\n",
       "  </thead>\n",
       "  <tbody>\n",
       "    <tr>\n",
       "      <th>0</th>\n",
       "      <td>1</td>\n",
       "      <td>10</td>\n",
       "      <td>5</td>\n",
       "    </tr>\n",
       "    <tr>\n",
       "      <th>1</th>\n",
       "      <td>2</td>\n",
       "      <td>20</td>\n",
       "      <td>4</td>\n",
       "    </tr>\n",
       "    <tr>\n",
       "      <th>2</th>\n",
       "      <td>3</td>\n",
       "      <td>30</td>\n",
       "      <td>3</td>\n",
       "    </tr>\n",
       "    <tr>\n",
       "      <th>3</th>\n",
       "      <td>4</td>\n",
       "      <td>20</td>\n",
       "      <td>2</td>\n",
       "    </tr>\n",
       "    <tr>\n",
       "      <th>4</th>\n",
       "      <td>5</td>\n",
       "      <td>10</td>\n",
       "      <td>1</td>\n",
       "    </tr>\n",
       "  </tbody>\n",
       "</table>\n",
       "</div>"
      ],
      "text/plain": [
       "   x   y  z\n",
       "0  1  10  5\n",
       "1  2  20  4\n",
       "2  3  30  3\n",
       "3  4  20  2\n",
       "4  5  10  1"
      ]
     },
     "execution_count": 18,
     "metadata": {},
     "output_type": "execute_result"
    }
   ],
   "source": [
    "df4=pd.DataFrame({'x':[1,2,3,4,5],'y':[10,20,30,20,10],'z':[5,4,3,2,1]})\n",
    "df4"
   ]
  },
  {
   "cell_type": "code",
   "execution_count": 19,
   "id": "abe30e58",
   "metadata": {},
   "outputs": [
    {
     "data": {
      "application/vnd.plotly.v1+json": {
       "config": {
        "linkText": "Export to plot.ly",
        "plotlyServerURL": "https://plot.ly",
        "showLink": true
       },
       "data": [
        {
         "colorscale": [
          [
           0,
           "rgb(255, 153, 51)"
          ],
          [
           0.1111111111111111,
           "rgb(55, 128, 191)"
          ],
          [
           0.2222222222222222,
           "rgb(50, 171, 96)"
          ],
          [
           0.3333333333333333,
           "rgb(128, 0, 128)"
          ],
          [
           0.4444444444444444,
           "rgb(219, 64, 82)"
          ],
          [
           0.5555555555555556,
           "rgb(0, 128, 128)"
          ],
          [
           0.6666666666666666,
           "rgb(255, 255, 51)"
          ],
          [
           0.7777777777777778,
           "rgb(128, 128, 0)"
          ],
          [
           0.8888888888888888,
           "rgb(251, 128, 114)"
          ],
          [
           1,
           "rgb(128, 177, 211)"
          ]
         ],
         "type": "surface",
         "x": [
          0,
          1,
          2,
          3,
          4
         ],
         "y": [
          "x",
          "y",
          "z"
         ],
         "z": [
          [
           1,
           2,
           3,
           4,
           5
          ],
          [
           10,
           20,
           30,
           20,
           10
          ],
          [
           5,
           4,
           3,
           2,
           1
          ]
         ]
        }
       ],
       "layout": {
        "legend": {
         "bgcolor": "#F5F6F9",
         "font": {
          "color": "#4D5663"
         }
        },
        "paper_bgcolor": "#F5F6F9",
        "plot_bgcolor": "#F5F6F9",
        "template": {
         "data": {
          "bar": [
           {
            "error_x": {
             "color": "#2a3f5f"
            },
            "error_y": {
             "color": "#2a3f5f"
            },
            "marker": {
             "line": {
              "color": "#E5ECF6",
              "width": 0.5
             },
             "pattern": {
              "fillmode": "overlay",
              "size": 10,
              "solidity": 0.2
             }
            },
            "type": "bar"
           }
          ],
          "barpolar": [
           {
            "marker": {
             "line": {
              "color": "#E5ECF6",
              "width": 0.5
             },
             "pattern": {
              "fillmode": "overlay",
              "size": 10,
              "solidity": 0.2
             }
            },
            "type": "barpolar"
           }
          ],
          "carpet": [
           {
            "aaxis": {
             "endlinecolor": "#2a3f5f",
             "gridcolor": "white",
             "linecolor": "white",
             "minorgridcolor": "white",
             "startlinecolor": "#2a3f5f"
            },
            "baxis": {
             "endlinecolor": "#2a3f5f",
             "gridcolor": "white",
             "linecolor": "white",
             "minorgridcolor": "white",
             "startlinecolor": "#2a3f5f"
            },
            "type": "carpet"
           }
          ],
          "choropleth": [
           {
            "colorbar": {
             "outlinewidth": 0,
             "ticks": ""
            },
            "type": "choropleth"
           }
          ],
          "contour": [
           {
            "colorbar": {
             "outlinewidth": 0,
             "ticks": ""
            },
            "colorscale": [
             [
              0,
              "#0d0887"
             ],
             [
              0.1111111111111111,
              "#46039f"
             ],
             [
              0.2222222222222222,
              "#7201a8"
             ],
             [
              0.3333333333333333,
              "#9c179e"
             ],
             [
              0.4444444444444444,
              "#bd3786"
             ],
             [
              0.5555555555555556,
              "#d8576b"
             ],
             [
              0.6666666666666666,
              "#ed7953"
             ],
             [
              0.7777777777777778,
              "#fb9f3a"
             ],
             [
              0.8888888888888888,
              "#fdca26"
             ],
             [
              1,
              "#f0f921"
             ]
            ],
            "type": "contour"
           }
          ],
          "contourcarpet": [
           {
            "colorbar": {
             "outlinewidth": 0,
             "ticks": ""
            },
            "type": "contourcarpet"
           }
          ],
          "heatmap": [
           {
            "colorbar": {
             "outlinewidth": 0,
             "ticks": ""
            },
            "colorscale": [
             [
              0,
              "#0d0887"
             ],
             [
              0.1111111111111111,
              "#46039f"
             ],
             [
              0.2222222222222222,
              "#7201a8"
             ],
             [
              0.3333333333333333,
              "#9c179e"
             ],
             [
              0.4444444444444444,
              "#bd3786"
             ],
             [
              0.5555555555555556,
              "#d8576b"
             ],
             [
              0.6666666666666666,
              "#ed7953"
             ],
             [
              0.7777777777777778,
              "#fb9f3a"
             ],
             [
              0.8888888888888888,
              "#fdca26"
             ],
             [
              1,
              "#f0f921"
             ]
            ],
            "type": "heatmap"
           }
          ],
          "heatmapgl": [
           {
            "colorbar": {
             "outlinewidth": 0,
             "ticks": ""
            },
            "colorscale": [
             [
              0,
              "#0d0887"
             ],
             [
              0.1111111111111111,
              "#46039f"
             ],
             [
              0.2222222222222222,
              "#7201a8"
             ],
             [
              0.3333333333333333,
              "#9c179e"
             ],
             [
              0.4444444444444444,
              "#bd3786"
             ],
             [
              0.5555555555555556,
              "#d8576b"
             ],
             [
              0.6666666666666666,
              "#ed7953"
             ],
             [
              0.7777777777777778,
              "#fb9f3a"
             ],
             [
              0.8888888888888888,
              "#fdca26"
             ],
             [
              1,
              "#f0f921"
             ]
            ],
            "type": "heatmapgl"
           }
          ],
          "histogram": [
           {
            "marker": {
             "pattern": {
              "fillmode": "overlay",
              "size": 10,
              "solidity": 0.2
             }
            },
            "type": "histogram"
           }
          ],
          "histogram2d": [
           {
            "colorbar": {
             "outlinewidth": 0,
             "ticks": ""
            },
            "colorscale": [
             [
              0,
              "#0d0887"
             ],
             [
              0.1111111111111111,
              "#46039f"
             ],
             [
              0.2222222222222222,
              "#7201a8"
             ],
             [
              0.3333333333333333,
              "#9c179e"
             ],
             [
              0.4444444444444444,
              "#bd3786"
             ],
             [
              0.5555555555555556,
              "#d8576b"
             ],
             [
              0.6666666666666666,
              "#ed7953"
             ],
             [
              0.7777777777777778,
              "#fb9f3a"
             ],
             [
              0.8888888888888888,
              "#fdca26"
             ],
             [
              1,
              "#f0f921"
             ]
            ],
            "type": "histogram2d"
           }
          ],
          "histogram2dcontour": [
           {
            "colorbar": {
             "outlinewidth": 0,
             "ticks": ""
            },
            "colorscale": [
             [
              0,
              "#0d0887"
             ],
             [
              0.1111111111111111,
              "#46039f"
             ],
             [
              0.2222222222222222,
              "#7201a8"
             ],
             [
              0.3333333333333333,
              "#9c179e"
             ],
             [
              0.4444444444444444,
              "#bd3786"
             ],
             [
              0.5555555555555556,
              "#d8576b"
             ],
             [
              0.6666666666666666,
              "#ed7953"
             ],
             [
              0.7777777777777778,
              "#fb9f3a"
             ],
             [
              0.8888888888888888,
              "#fdca26"
             ],
             [
              1,
              "#f0f921"
             ]
            ],
            "type": "histogram2dcontour"
           }
          ],
          "mesh3d": [
           {
            "colorbar": {
             "outlinewidth": 0,
             "ticks": ""
            },
            "type": "mesh3d"
           }
          ],
          "parcoords": [
           {
            "line": {
             "colorbar": {
              "outlinewidth": 0,
              "ticks": ""
             }
            },
            "type": "parcoords"
           }
          ],
          "pie": [
           {
            "automargin": true,
            "type": "pie"
           }
          ],
          "scatter": [
           {
            "marker": {
             "colorbar": {
              "outlinewidth": 0,
              "ticks": ""
             }
            },
            "type": "scatter"
           }
          ],
          "scatter3d": [
           {
            "line": {
             "colorbar": {
              "outlinewidth": 0,
              "ticks": ""
             }
            },
            "marker": {
             "colorbar": {
              "outlinewidth": 0,
              "ticks": ""
             }
            },
            "type": "scatter3d"
           }
          ],
          "scattercarpet": [
           {
            "marker": {
             "colorbar": {
              "outlinewidth": 0,
              "ticks": ""
             }
            },
            "type": "scattercarpet"
           }
          ],
          "scattergeo": [
           {
            "marker": {
             "colorbar": {
              "outlinewidth": 0,
              "ticks": ""
             }
            },
            "type": "scattergeo"
           }
          ],
          "scattergl": [
           {
            "marker": {
             "colorbar": {
              "outlinewidth": 0,
              "ticks": ""
             }
            },
            "type": "scattergl"
           }
          ],
          "scattermapbox": [
           {
            "marker": {
             "colorbar": {
              "outlinewidth": 0,
              "ticks": ""
             }
            },
            "type": "scattermapbox"
           }
          ],
          "scatterpolar": [
           {
            "marker": {
             "colorbar": {
              "outlinewidth": 0,
              "ticks": ""
             }
            },
            "type": "scatterpolar"
           }
          ],
          "scatterpolargl": [
           {
            "marker": {
             "colorbar": {
              "outlinewidth": 0,
              "ticks": ""
             }
            },
            "type": "scatterpolargl"
           }
          ],
          "scatterternary": [
           {
            "marker": {
             "colorbar": {
              "outlinewidth": 0,
              "ticks": ""
             }
            },
            "type": "scatterternary"
           }
          ],
          "surface": [
           {
            "colorbar": {
             "outlinewidth": 0,
             "ticks": ""
            },
            "colorscale": [
             [
              0,
              "#0d0887"
             ],
             [
              0.1111111111111111,
              "#46039f"
             ],
             [
              0.2222222222222222,
              "#7201a8"
             ],
             [
              0.3333333333333333,
              "#9c179e"
             ],
             [
              0.4444444444444444,
              "#bd3786"
             ],
             [
              0.5555555555555556,
              "#d8576b"
             ],
             [
              0.6666666666666666,
              "#ed7953"
             ],
             [
              0.7777777777777778,
              "#fb9f3a"
             ],
             [
              0.8888888888888888,
              "#fdca26"
             ],
             [
              1,
              "#f0f921"
             ]
            ],
            "type": "surface"
           }
          ],
          "table": [
           {
            "cells": {
             "fill": {
              "color": "#EBF0F8"
             },
             "line": {
              "color": "white"
             }
            },
            "header": {
             "fill": {
              "color": "#C8D4E3"
             },
             "line": {
              "color": "white"
             }
            },
            "type": "table"
           }
          ]
         },
         "layout": {
          "annotationdefaults": {
           "arrowcolor": "#2a3f5f",
           "arrowhead": 0,
           "arrowwidth": 1
          },
          "autotypenumbers": "strict",
          "coloraxis": {
           "colorbar": {
            "outlinewidth": 0,
            "ticks": ""
           }
          },
          "colorscale": {
           "diverging": [
            [
             0,
             "#8e0152"
            ],
            [
             0.1,
             "#c51b7d"
            ],
            [
             0.2,
             "#de77ae"
            ],
            [
             0.3,
             "#f1b6da"
            ],
            [
             0.4,
             "#fde0ef"
            ],
            [
             0.5,
             "#f7f7f7"
            ],
            [
             0.6,
             "#e6f5d0"
            ],
            [
             0.7,
             "#b8e186"
            ],
            [
             0.8,
             "#7fbc41"
            ],
            [
             0.9,
             "#4d9221"
            ],
            [
             1,
             "#276419"
            ]
           ],
           "sequential": [
            [
             0,
             "#0d0887"
            ],
            [
             0.1111111111111111,
             "#46039f"
            ],
            [
             0.2222222222222222,
             "#7201a8"
            ],
            [
             0.3333333333333333,
             "#9c179e"
            ],
            [
             0.4444444444444444,
             "#bd3786"
            ],
            [
             0.5555555555555556,
             "#d8576b"
            ],
            [
             0.6666666666666666,
             "#ed7953"
            ],
            [
             0.7777777777777778,
             "#fb9f3a"
            ],
            [
             0.8888888888888888,
             "#fdca26"
            ],
            [
             1,
             "#f0f921"
            ]
           ],
           "sequentialminus": [
            [
             0,
             "#0d0887"
            ],
            [
             0.1111111111111111,
             "#46039f"
            ],
            [
             0.2222222222222222,
             "#7201a8"
            ],
            [
             0.3333333333333333,
             "#9c179e"
            ],
            [
             0.4444444444444444,
             "#bd3786"
            ],
            [
             0.5555555555555556,
             "#d8576b"
            ],
            [
             0.6666666666666666,
             "#ed7953"
            ],
            [
             0.7777777777777778,
             "#fb9f3a"
            ],
            [
             0.8888888888888888,
             "#fdca26"
            ],
            [
             1,
             "#f0f921"
            ]
           ]
          },
          "colorway": [
           "#636efa",
           "#EF553B",
           "#00cc96",
           "#ab63fa",
           "#FFA15A",
           "#19d3f3",
           "#FF6692",
           "#B6E880",
           "#FF97FF",
           "#FECB52"
          ],
          "font": {
           "color": "#2a3f5f"
          },
          "geo": {
           "bgcolor": "white",
           "lakecolor": "white",
           "landcolor": "#E5ECF6",
           "showlakes": true,
           "showland": true,
           "subunitcolor": "white"
          },
          "hoverlabel": {
           "align": "left"
          },
          "hovermode": "closest",
          "mapbox": {
           "style": "light"
          },
          "paper_bgcolor": "white",
          "plot_bgcolor": "#E5ECF6",
          "polar": {
           "angularaxis": {
            "gridcolor": "white",
            "linecolor": "white",
            "ticks": ""
           },
           "bgcolor": "#E5ECF6",
           "radialaxis": {
            "gridcolor": "white",
            "linecolor": "white",
            "ticks": ""
           }
          },
          "scene": {
           "xaxis": {
            "backgroundcolor": "#E5ECF6",
            "gridcolor": "white",
            "gridwidth": 2,
            "linecolor": "white",
            "showbackground": true,
            "ticks": "",
            "zerolinecolor": "white"
           },
           "yaxis": {
            "backgroundcolor": "#E5ECF6",
            "gridcolor": "white",
            "gridwidth": 2,
            "linecolor": "white",
            "showbackground": true,
            "ticks": "",
            "zerolinecolor": "white"
           },
           "zaxis": {
            "backgroundcolor": "#E5ECF6",
            "gridcolor": "white",
            "gridwidth": 2,
            "linecolor": "white",
            "showbackground": true,
            "ticks": "",
            "zerolinecolor": "white"
           }
          },
          "shapedefaults": {
           "line": {
            "color": "#2a3f5f"
           }
          },
          "ternary": {
           "aaxis": {
            "gridcolor": "white",
            "linecolor": "white",
            "ticks": ""
           },
           "baxis": {
            "gridcolor": "white",
            "linecolor": "white",
            "ticks": ""
           },
           "bgcolor": "#E5ECF6",
           "caxis": {
            "gridcolor": "white",
            "linecolor": "white",
            "ticks": ""
           }
          },
          "title": {
           "x": 0.05
          },
          "xaxis": {
           "automargin": true,
           "gridcolor": "white",
           "linecolor": "white",
           "ticks": "",
           "title": {
            "standoff": 15
           },
           "zerolinecolor": "white",
           "zerolinewidth": 2
          },
          "yaxis": {
           "automargin": true,
           "gridcolor": "white",
           "linecolor": "white",
           "ticks": "",
           "title": {
            "standoff": 15
           },
           "zerolinecolor": "white",
           "zerolinewidth": 2
          }
         }
        },
        "title": {
         "font": {
          "color": "#4D5663"
         }
        },
        "xaxis": {
         "gridcolor": "#E1E5ED",
         "showgrid": true,
         "tickfont": {
          "color": "#4D5663"
         },
         "title": {
          "font": {
           "color": "#4D5663"
          },
          "text": ""
         },
         "zerolinecolor": "#E1E5ED"
        },
        "yaxis": {
         "gridcolor": "#E1E5ED",
         "showgrid": true,
         "tickfont": {
          "color": "#4D5663"
         },
         "title": {
          "font": {
           "color": "#4D5663"
          },
          "text": ""
         },
         "zerolinecolor": "#E1E5ED"
        }
       }
      },
      "text/html": [
       "<div>                            <div id=\"66c8f2ed-ad34-4c59-8d86-7e92234be258\" class=\"plotly-graph-div\" style=\"height:525px; width:100%;\"></div>            <script type=\"text/javascript\">                require([\"plotly\"], function(Plotly) {                    window.PLOTLYENV=window.PLOTLYENV || {};\n",
       "                    window.PLOTLYENV.BASE_URL='https://plot.ly';                                    if (document.getElementById(\"66c8f2ed-ad34-4c59-8d86-7e92234be258\")) {                    Plotly.newPlot(                        \"66c8f2ed-ad34-4c59-8d86-7e92234be258\",                        [{\"colorscale\":[[0.0,\"rgb(255, 153, 51)\"],[0.1111111111111111,\"rgb(55, 128, 191)\"],[0.2222222222222222,\"rgb(50, 171, 96)\"],[0.3333333333333333,\"rgb(128, 0, 128)\"],[0.4444444444444444,\"rgb(219, 64, 82)\"],[0.5555555555555556,\"rgb(0, 128, 128)\"],[0.6666666666666666,\"rgb(255, 255, 51)\"],[0.7777777777777778,\"rgb(128, 128, 0)\"],[0.8888888888888888,\"rgb(251, 128, 114)\"],[1.0,\"rgb(128, 177, 211)\"]],\"x\":[0,1,2,3,4],\"y\":[\"x\",\"y\",\"z\"],\"z\":[[1,2,3,4,5],[10,20,30,20,10],[5,4,3,2,1]],\"type\":\"surface\"}],                        {\"legend\":{\"bgcolor\":\"#F5F6F9\",\"font\":{\"color\":\"#4D5663\"}},\"paper_bgcolor\":\"#F5F6F9\",\"plot_bgcolor\":\"#F5F6F9\",\"template\":{\"data\":{\"barpolar\":[{\"marker\":{\"line\":{\"color\":\"#E5ECF6\",\"width\":0.5},\"pattern\":{\"fillmode\":\"overlay\",\"size\":10,\"solidity\":0.2}},\"type\":\"barpolar\"}],\"bar\":[{\"error_x\":{\"color\":\"#2a3f5f\"},\"error_y\":{\"color\":\"#2a3f5f\"},\"marker\":{\"line\":{\"color\":\"#E5ECF6\",\"width\":0.5},\"pattern\":{\"fillmode\":\"overlay\",\"size\":10,\"solidity\":0.2}},\"type\":\"bar\"}],\"carpet\":[{\"aaxis\":{\"endlinecolor\":\"#2a3f5f\",\"gridcolor\":\"white\",\"linecolor\":\"white\",\"minorgridcolor\":\"white\",\"startlinecolor\":\"#2a3f5f\"},\"baxis\":{\"endlinecolor\":\"#2a3f5f\",\"gridcolor\":\"white\",\"linecolor\":\"white\",\"minorgridcolor\":\"white\",\"startlinecolor\":\"#2a3f5f\"},\"type\":\"carpet\"}],\"choropleth\":[{\"colorbar\":{\"outlinewidth\":0,\"ticks\":\"\"},\"type\":\"choropleth\"}],\"contourcarpet\":[{\"colorbar\":{\"outlinewidth\":0,\"ticks\":\"\"},\"type\":\"contourcarpet\"}],\"contour\":[{\"colorbar\":{\"outlinewidth\":0,\"ticks\":\"\"},\"colorscale\":[[0.0,\"#0d0887\"],[0.1111111111111111,\"#46039f\"],[0.2222222222222222,\"#7201a8\"],[0.3333333333333333,\"#9c179e\"],[0.4444444444444444,\"#bd3786\"],[0.5555555555555556,\"#d8576b\"],[0.6666666666666666,\"#ed7953\"],[0.7777777777777778,\"#fb9f3a\"],[0.8888888888888888,\"#fdca26\"],[1.0,\"#f0f921\"]],\"type\":\"contour\"}],\"heatmapgl\":[{\"colorbar\":{\"outlinewidth\":0,\"ticks\":\"\"},\"colorscale\":[[0.0,\"#0d0887\"],[0.1111111111111111,\"#46039f\"],[0.2222222222222222,\"#7201a8\"],[0.3333333333333333,\"#9c179e\"],[0.4444444444444444,\"#bd3786\"],[0.5555555555555556,\"#d8576b\"],[0.6666666666666666,\"#ed7953\"],[0.7777777777777778,\"#fb9f3a\"],[0.8888888888888888,\"#fdca26\"],[1.0,\"#f0f921\"]],\"type\":\"heatmapgl\"}],\"heatmap\":[{\"colorbar\":{\"outlinewidth\":0,\"ticks\":\"\"},\"colorscale\":[[0.0,\"#0d0887\"],[0.1111111111111111,\"#46039f\"],[0.2222222222222222,\"#7201a8\"],[0.3333333333333333,\"#9c179e\"],[0.4444444444444444,\"#bd3786\"],[0.5555555555555556,\"#d8576b\"],[0.6666666666666666,\"#ed7953\"],[0.7777777777777778,\"#fb9f3a\"],[0.8888888888888888,\"#fdca26\"],[1.0,\"#f0f921\"]],\"type\":\"heatmap\"}],\"histogram2dcontour\":[{\"colorbar\":{\"outlinewidth\":0,\"ticks\":\"\"},\"colorscale\":[[0.0,\"#0d0887\"],[0.1111111111111111,\"#46039f\"],[0.2222222222222222,\"#7201a8\"],[0.3333333333333333,\"#9c179e\"],[0.4444444444444444,\"#bd3786\"],[0.5555555555555556,\"#d8576b\"],[0.6666666666666666,\"#ed7953\"],[0.7777777777777778,\"#fb9f3a\"],[0.8888888888888888,\"#fdca26\"],[1.0,\"#f0f921\"]],\"type\":\"histogram2dcontour\"}],\"histogram2d\":[{\"colorbar\":{\"outlinewidth\":0,\"ticks\":\"\"},\"colorscale\":[[0.0,\"#0d0887\"],[0.1111111111111111,\"#46039f\"],[0.2222222222222222,\"#7201a8\"],[0.3333333333333333,\"#9c179e\"],[0.4444444444444444,\"#bd3786\"],[0.5555555555555556,\"#d8576b\"],[0.6666666666666666,\"#ed7953\"],[0.7777777777777778,\"#fb9f3a\"],[0.8888888888888888,\"#fdca26\"],[1.0,\"#f0f921\"]],\"type\":\"histogram2d\"}],\"histogram\":[{\"marker\":{\"pattern\":{\"fillmode\":\"overlay\",\"size\":10,\"solidity\":0.2}},\"type\":\"histogram\"}],\"mesh3d\":[{\"colorbar\":{\"outlinewidth\":0,\"ticks\":\"\"},\"type\":\"mesh3d\"}],\"parcoords\":[{\"line\":{\"colorbar\":{\"outlinewidth\":0,\"ticks\":\"\"}},\"type\":\"parcoords\"}],\"pie\":[{\"automargin\":true,\"type\":\"pie\"}],\"scatter3d\":[{\"line\":{\"colorbar\":{\"outlinewidth\":0,\"ticks\":\"\"}},\"marker\":{\"colorbar\":{\"outlinewidth\":0,\"ticks\":\"\"}},\"type\":\"scatter3d\"}],\"scattercarpet\":[{\"marker\":{\"colorbar\":{\"outlinewidth\":0,\"ticks\":\"\"}},\"type\":\"scattercarpet\"}],\"scattergeo\":[{\"marker\":{\"colorbar\":{\"outlinewidth\":0,\"ticks\":\"\"}},\"type\":\"scattergeo\"}],\"scattergl\":[{\"marker\":{\"colorbar\":{\"outlinewidth\":0,\"ticks\":\"\"}},\"type\":\"scattergl\"}],\"scattermapbox\":[{\"marker\":{\"colorbar\":{\"outlinewidth\":0,\"ticks\":\"\"}},\"type\":\"scattermapbox\"}],\"scatterpolargl\":[{\"marker\":{\"colorbar\":{\"outlinewidth\":0,\"ticks\":\"\"}},\"type\":\"scatterpolargl\"}],\"scatterpolar\":[{\"marker\":{\"colorbar\":{\"outlinewidth\":0,\"ticks\":\"\"}},\"type\":\"scatterpolar\"}],\"scatter\":[{\"marker\":{\"colorbar\":{\"outlinewidth\":0,\"ticks\":\"\"}},\"type\":\"scatter\"}],\"scatterternary\":[{\"marker\":{\"colorbar\":{\"outlinewidth\":0,\"ticks\":\"\"}},\"type\":\"scatterternary\"}],\"surface\":[{\"colorbar\":{\"outlinewidth\":0,\"ticks\":\"\"},\"colorscale\":[[0.0,\"#0d0887\"],[0.1111111111111111,\"#46039f\"],[0.2222222222222222,\"#7201a8\"],[0.3333333333333333,\"#9c179e\"],[0.4444444444444444,\"#bd3786\"],[0.5555555555555556,\"#d8576b\"],[0.6666666666666666,\"#ed7953\"],[0.7777777777777778,\"#fb9f3a\"],[0.8888888888888888,\"#fdca26\"],[1.0,\"#f0f921\"]],\"type\":\"surface\"}],\"table\":[{\"cells\":{\"fill\":{\"color\":\"#EBF0F8\"},\"line\":{\"color\":\"white\"}},\"header\":{\"fill\":{\"color\":\"#C8D4E3\"},\"line\":{\"color\":\"white\"}},\"type\":\"table\"}]},\"layout\":{\"annotationdefaults\":{\"arrowcolor\":\"#2a3f5f\",\"arrowhead\":0,\"arrowwidth\":1},\"autotypenumbers\":\"strict\",\"coloraxis\":{\"colorbar\":{\"outlinewidth\":0,\"ticks\":\"\"}},\"colorscale\":{\"diverging\":[[0,\"#8e0152\"],[0.1,\"#c51b7d\"],[0.2,\"#de77ae\"],[0.3,\"#f1b6da\"],[0.4,\"#fde0ef\"],[0.5,\"#f7f7f7\"],[0.6,\"#e6f5d0\"],[0.7,\"#b8e186\"],[0.8,\"#7fbc41\"],[0.9,\"#4d9221\"],[1,\"#276419\"]],\"sequential\":[[0.0,\"#0d0887\"],[0.1111111111111111,\"#46039f\"],[0.2222222222222222,\"#7201a8\"],[0.3333333333333333,\"#9c179e\"],[0.4444444444444444,\"#bd3786\"],[0.5555555555555556,\"#d8576b\"],[0.6666666666666666,\"#ed7953\"],[0.7777777777777778,\"#fb9f3a\"],[0.8888888888888888,\"#fdca26\"],[1.0,\"#f0f921\"]],\"sequentialminus\":[[0.0,\"#0d0887\"],[0.1111111111111111,\"#46039f\"],[0.2222222222222222,\"#7201a8\"],[0.3333333333333333,\"#9c179e\"],[0.4444444444444444,\"#bd3786\"],[0.5555555555555556,\"#d8576b\"],[0.6666666666666666,\"#ed7953\"],[0.7777777777777778,\"#fb9f3a\"],[0.8888888888888888,\"#fdca26\"],[1.0,\"#f0f921\"]]},\"colorway\":[\"#636efa\",\"#EF553B\",\"#00cc96\",\"#ab63fa\",\"#FFA15A\",\"#19d3f3\",\"#FF6692\",\"#B6E880\",\"#FF97FF\",\"#FECB52\"],\"font\":{\"color\":\"#2a3f5f\"},\"geo\":{\"bgcolor\":\"white\",\"lakecolor\":\"white\",\"landcolor\":\"#E5ECF6\",\"showlakes\":true,\"showland\":true,\"subunitcolor\":\"white\"},\"hoverlabel\":{\"align\":\"left\"},\"hovermode\":\"closest\",\"mapbox\":{\"style\":\"light\"},\"paper_bgcolor\":\"white\",\"plot_bgcolor\":\"#E5ECF6\",\"polar\":{\"angularaxis\":{\"gridcolor\":\"white\",\"linecolor\":\"white\",\"ticks\":\"\"},\"bgcolor\":\"#E5ECF6\",\"radialaxis\":{\"gridcolor\":\"white\",\"linecolor\":\"white\",\"ticks\":\"\"}},\"scene\":{\"xaxis\":{\"backgroundcolor\":\"#E5ECF6\",\"gridcolor\":\"white\",\"gridwidth\":2,\"linecolor\":\"white\",\"showbackground\":true,\"ticks\":\"\",\"zerolinecolor\":\"white\"},\"yaxis\":{\"backgroundcolor\":\"#E5ECF6\",\"gridcolor\":\"white\",\"gridwidth\":2,\"linecolor\":\"white\",\"showbackground\":true,\"ticks\":\"\",\"zerolinecolor\":\"white\"},\"zaxis\":{\"backgroundcolor\":\"#E5ECF6\",\"gridcolor\":\"white\",\"gridwidth\":2,\"linecolor\":\"white\",\"showbackground\":true,\"ticks\":\"\",\"zerolinecolor\":\"white\"}},\"shapedefaults\":{\"line\":{\"color\":\"#2a3f5f\"}},\"ternary\":{\"aaxis\":{\"gridcolor\":\"white\",\"linecolor\":\"white\",\"ticks\":\"\"},\"baxis\":{\"gridcolor\":\"white\",\"linecolor\":\"white\",\"ticks\":\"\"},\"bgcolor\":\"#E5ECF6\",\"caxis\":{\"gridcolor\":\"white\",\"linecolor\":\"white\",\"ticks\":\"\"}},\"title\":{\"x\":0.05},\"xaxis\":{\"automargin\":true,\"gridcolor\":\"white\",\"linecolor\":\"white\",\"ticks\":\"\",\"title\":{\"standoff\":15},\"zerolinecolor\":\"white\",\"zerolinewidth\":2},\"yaxis\":{\"automargin\":true,\"gridcolor\":\"white\",\"linecolor\":\"white\",\"ticks\":\"\",\"title\":{\"standoff\":15},\"zerolinecolor\":\"white\",\"zerolinewidth\":2}}},\"title\":{\"font\":{\"color\":\"#4D5663\"}},\"xaxis\":{\"gridcolor\":\"#E1E5ED\",\"showgrid\":true,\"tickfont\":{\"color\":\"#4D5663\"},\"title\":{\"font\":{\"color\":\"#4D5663\"},\"text\":\"\"},\"zerolinecolor\":\"#E1E5ED\"},\"yaxis\":{\"gridcolor\":\"#E1E5ED\",\"showgrid\":true,\"tickfont\":{\"color\":\"#4D5663\"},\"title\":{\"font\":{\"color\":\"#4D5663\"},\"text\":\"\"},\"zerolinecolor\":\"#E1E5ED\"}},                        {\"showLink\": true, \"linkText\": \"Export to plot.ly\", \"plotlyServerURL\": \"https://plot.ly\", \"responsive\": true}                    ).then(function(){\n",
       "                            \n",
       "var gd = document.getElementById('66c8f2ed-ad34-4c59-8d86-7e92234be258');\n",
       "var x = new MutationObserver(function (mutations, observer) {{\n",
       "        var display = window.getComputedStyle(gd).display;\n",
       "        if (!display || display === 'none') {{\n",
       "            console.log([gd, 'removed!']);\n",
       "            Plotly.purge(gd);\n",
       "            observer.disconnect();\n",
       "        }}\n",
       "}});\n",
       "\n",
       "// Listen for the removal of the full notebook cells\n",
       "var notebookContainer = gd.closest('#notebook-container');\n",
       "if (notebookContainer) {{\n",
       "    x.observe(notebookContainer, {childList: true});\n",
       "}}\n",
       "\n",
       "// Listen for the clearing of the current output cell\n",
       "var outputEl = gd.closest('.output');\n",
       "if (outputEl) {{\n",
       "    x.observe(outputEl, {childList: true});\n",
       "}}\n",
       "\n",
       "                        })                };                });            </script>        </div>"
      ]
     },
     "metadata": {},
     "output_type": "display_data"
    }
   ],
   "source": [
    "df4.iplot(kind='surface')"
   ]
  },
  {
   "cell_type": "code",
   "execution_count": 20,
   "id": "3e7dbe90",
   "metadata": {},
   "outputs": [
    {
     "data": {
      "application/vnd.plotly.v1+json": {
       "config": {
        "linkText": "Export to plot.ly",
        "plotlyServerURL": "https://plot.ly",
        "showLink": true
       },
       "data": [
        {
         "colorscale": [
          [
           0,
           "rgb(165,0,38)"
          ],
          [
           0.1,
           "rgb(215,48,39)"
          ],
          [
           0.2,
           "rgb(244,109,67)"
          ],
          [
           0.3,
           "rgb(253,174,97)"
          ],
          [
           0.4,
           "rgb(254,224,144)"
          ],
          [
           0.5,
           "rgb(255,255,191)"
          ],
          [
           0.6,
           "rgb(224,243,248)"
          ],
          [
           0.7,
           "rgb(171,217,233)"
          ],
          [
           0.8,
           "rgb(116,173,209)"
          ],
          [
           0.9,
           "rgb(69,117,180)"
          ],
          [
           1,
           "rgb(49,54,149)"
          ]
         ],
         "type": "surface",
         "x": [
          0,
          1,
          2,
          3,
          4
         ],
         "y": [
          "x",
          "y",
          "z"
         ],
         "z": [
          [
           1,
           2,
           3,
           4,
           5
          ],
          [
           10,
           20,
           30,
           20,
           10
          ],
          [
           5,
           4,
           3,
           2,
           1
          ]
         ]
        }
       ],
       "layout": {
        "legend": {
         "bgcolor": "#F5F6F9",
         "font": {
          "color": "#4D5663"
         }
        },
        "paper_bgcolor": "#F5F6F9",
        "plot_bgcolor": "#F5F6F9",
        "template": {
         "data": {
          "bar": [
           {
            "error_x": {
             "color": "#2a3f5f"
            },
            "error_y": {
             "color": "#2a3f5f"
            },
            "marker": {
             "line": {
              "color": "#E5ECF6",
              "width": 0.5
             },
             "pattern": {
              "fillmode": "overlay",
              "size": 10,
              "solidity": 0.2
             }
            },
            "type": "bar"
           }
          ],
          "barpolar": [
           {
            "marker": {
             "line": {
              "color": "#E5ECF6",
              "width": 0.5
             },
             "pattern": {
              "fillmode": "overlay",
              "size": 10,
              "solidity": 0.2
             }
            },
            "type": "barpolar"
           }
          ],
          "carpet": [
           {
            "aaxis": {
             "endlinecolor": "#2a3f5f",
             "gridcolor": "white",
             "linecolor": "white",
             "minorgridcolor": "white",
             "startlinecolor": "#2a3f5f"
            },
            "baxis": {
             "endlinecolor": "#2a3f5f",
             "gridcolor": "white",
             "linecolor": "white",
             "minorgridcolor": "white",
             "startlinecolor": "#2a3f5f"
            },
            "type": "carpet"
           }
          ],
          "choropleth": [
           {
            "colorbar": {
             "outlinewidth": 0,
             "ticks": ""
            },
            "type": "choropleth"
           }
          ],
          "contour": [
           {
            "colorbar": {
             "outlinewidth": 0,
             "ticks": ""
            },
            "colorscale": [
             [
              0,
              "#0d0887"
             ],
             [
              0.1111111111111111,
              "#46039f"
             ],
             [
              0.2222222222222222,
              "#7201a8"
             ],
             [
              0.3333333333333333,
              "#9c179e"
             ],
             [
              0.4444444444444444,
              "#bd3786"
             ],
             [
              0.5555555555555556,
              "#d8576b"
             ],
             [
              0.6666666666666666,
              "#ed7953"
             ],
             [
              0.7777777777777778,
              "#fb9f3a"
             ],
             [
              0.8888888888888888,
              "#fdca26"
             ],
             [
              1,
              "#f0f921"
             ]
            ],
            "type": "contour"
           }
          ],
          "contourcarpet": [
           {
            "colorbar": {
             "outlinewidth": 0,
             "ticks": ""
            },
            "type": "contourcarpet"
           }
          ],
          "heatmap": [
           {
            "colorbar": {
             "outlinewidth": 0,
             "ticks": ""
            },
            "colorscale": [
             [
              0,
              "#0d0887"
             ],
             [
              0.1111111111111111,
              "#46039f"
             ],
             [
              0.2222222222222222,
              "#7201a8"
             ],
             [
              0.3333333333333333,
              "#9c179e"
             ],
             [
              0.4444444444444444,
              "#bd3786"
             ],
             [
              0.5555555555555556,
              "#d8576b"
             ],
             [
              0.6666666666666666,
              "#ed7953"
             ],
             [
              0.7777777777777778,
              "#fb9f3a"
             ],
             [
              0.8888888888888888,
              "#fdca26"
             ],
             [
              1,
              "#f0f921"
             ]
            ],
            "type": "heatmap"
           }
          ],
          "heatmapgl": [
           {
            "colorbar": {
             "outlinewidth": 0,
             "ticks": ""
            },
            "colorscale": [
             [
              0,
              "#0d0887"
             ],
             [
              0.1111111111111111,
              "#46039f"
             ],
             [
              0.2222222222222222,
              "#7201a8"
             ],
             [
              0.3333333333333333,
              "#9c179e"
             ],
             [
              0.4444444444444444,
              "#bd3786"
             ],
             [
              0.5555555555555556,
              "#d8576b"
             ],
             [
              0.6666666666666666,
              "#ed7953"
             ],
             [
              0.7777777777777778,
              "#fb9f3a"
             ],
             [
              0.8888888888888888,
              "#fdca26"
             ],
             [
              1,
              "#f0f921"
             ]
            ],
            "type": "heatmapgl"
           }
          ],
          "histogram": [
           {
            "marker": {
             "pattern": {
              "fillmode": "overlay",
              "size": 10,
              "solidity": 0.2
             }
            },
            "type": "histogram"
           }
          ],
          "histogram2d": [
           {
            "colorbar": {
             "outlinewidth": 0,
             "ticks": ""
            },
            "colorscale": [
             [
              0,
              "#0d0887"
             ],
             [
              0.1111111111111111,
              "#46039f"
             ],
             [
              0.2222222222222222,
              "#7201a8"
             ],
             [
              0.3333333333333333,
              "#9c179e"
             ],
             [
              0.4444444444444444,
              "#bd3786"
             ],
             [
              0.5555555555555556,
              "#d8576b"
             ],
             [
              0.6666666666666666,
              "#ed7953"
             ],
             [
              0.7777777777777778,
              "#fb9f3a"
             ],
             [
              0.8888888888888888,
              "#fdca26"
             ],
             [
              1,
              "#f0f921"
             ]
            ],
            "type": "histogram2d"
           }
          ],
          "histogram2dcontour": [
           {
            "colorbar": {
             "outlinewidth": 0,
             "ticks": ""
            },
            "colorscale": [
             [
              0,
              "#0d0887"
             ],
             [
              0.1111111111111111,
              "#46039f"
             ],
             [
              0.2222222222222222,
              "#7201a8"
             ],
             [
              0.3333333333333333,
              "#9c179e"
             ],
             [
              0.4444444444444444,
              "#bd3786"
             ],
             [
              0.5555555555555556,
              "#d8576b"
             ],
             [
              0.6666666666666666,
              "#ed7953"
             ],
             [
              0.7777777777777778,
              "#fb9f3a"
             ],
             [
              0.8888888888888888,
              "#fdca26"
             ],
             [
              1,
              "#f0f921"
             ]
            ],
            "type": "histogram2dcontour"
           }
          ],
          "mesh3d": [
           {
            "colorbar": {
             "outlinewidth": 0,
             "ticks": ""
            },
            "type": "mesh3d"
           }
          ],
          "parcoords": [
           {
            "line": {
             "colorbar": {
              "outlinewidth": 0,
              "ticks": ""
             }
            },
            "type": "parcoords"
           }
          ],
          "pie": [
           {
            "automargin": true,
            "type": "pie"
           }
          ],
          "scatter": [
           {
            "marker": {
             "colorbar": {
              "outlinewidth": 0,
              "ticks": ""
             }
            },
            "type": "scatter"
           }
          ],
          "scatter3d": [
           {
            "line": {
             "colorbar": {
              "outlinewidth": 0,
              "ticks": ""
             }
            },
            "marker": {
             "colorbar": {
              "outlinewidth": 0,
              "ticks": ""
             }
            },
            "type": "scatter3d"
           }
          ],
          "scattercarpet": [
           {
            "marker": {
             "colorbar": {
              "outlinewidth": 0,
              "ticks": ""
             }
            },
            "type": "scattercarpet"
           }
          ],
          "scattergeo": [
           {
            "marker": {
             "colorbar": {
              "outlinewidth": 0,
              "ticks": ""
             }
            },
            "type": "scattergeo"
           }
          ],
          "scattergl": [
           {
            "marker": {
             "colorbar": {
              "outlinewidth": 0,
              "ticks": ""
             }
            },
            "type": "scattergl"
           }
          ],
          "scattermapbox": [
           {
            "marker": {
             "colorbar": {
              "outlinewidth": 0,
              "ticks": ""
             }
            },
            "type": "scattermapbox"
           }
          ],
          "scatterpolar": [
           {
            "marker": {
             "colorbar": {
              "outlinewidth": 0,
              "ticks": ""
             }
            },
            "type": "scatterpolar"
           }
          ],
          "scatterpolargl": [
           {
            "marker": {
             "colorbar": {
              "outlinewidth": 0,
              "ticks": ""
             }
            },
            "type": "scatterpolargl"
           }
          ],
          "scatterternary": [
           {
            "marker": {
             "colorbar": {
              "outlinewidth": 0,
              "ticks": ""
             }
            },
            "type": "scatterternary"
           }
          ],
          "surface": [
           {
            "colorbar": {
             "outlinewidth": 0,
             "ticks": ""
            },
            "colorscale": [
             [
              0,
              "#0d0887"
             ],
             [
              0.1111111111111111,
              "#46039f"
             ],
             [
              0.2222222222222222,
              "#7201a8"
             ],
             [
              0.3333333333333333,
              "#9c179e"
             ],
             [
              0.4444444444444444,
              "#bd3786"
             ],
             [
              0.5555555555555556,
              "#d8576b"
             ],
             [
              0.6666666666666666,
              "#ed7953"
             ],
             [
              0.7777777777777778,
              "#fb9f3a"
             ],
             [
              0.8888888888888888,
              "#fdca26"
             ],
             [
              1,
              "#f0f921"
             ]
            ],
            "type": "surface"
           }
          ],
          "table": [
           {
            "cells": {
             "fill": {
              "color": "#EBF0F8"
             },
             "line": {
              "color": "white"
             }
            },
            "header": {
             "fill": {
              "color": "#C8D4E3"
             },
             "line": {
              "color": "white"
             }
            },
            "type": "table"
           }
          ]
         },
         "layout": {
          "annotationdefaults": {
           "arrowcolor": "#2a3f5f",
           "arrowhead": 0,
           "arrowwidth": 1
          },
          "autotypenumbers": "strict",
          "coloraxis": {
           "colorbar": {
            "outlinewidth": 0,
            "ticks": ""
           }
          },
          "colorscale": {
           "diverging": [
            [
             0,
             "#8e0152"
            ],
            [
             0.1,
             "#c51b7d"
            ],
            [
             0.2,
             "#de77ae"
            ],
            [
             0.3,
             "#f1b6da"
            ],
            [
             0.4,
             "#fde0ef"
            ],
            [
             0.5,
             "#f7f7f7"
            ],
            [
             0.6,
             "#e6f5d0"
            ],
            [
             0.7,
             "#b8e186"
            ],
            [
             0.8,
             "#7fbc41"
            ],
            [
             0.9,
             "#4d9221"
            ],
            [
             1,
             "#276419"
            ]
           ],
           "sequential": [
            [
             0,
             "#0d0887"
            ],
            [
             0.1111111111111111,
             "#46039f"
            ],
            [
             0.2222222222222222,
             "#7201a8"
            ],
            [
             0.3333333333333333,
             "#9c179e"
            ],
            [
             0.4444444444444444,
             "#bd3786"
            ],
            [
             0.5555555555555556,
             "#d8576b"
            ],
            [
             0.6666666666666666,
             "#ed7953"
            ],
            [
             0.7777777777777778,
             "#fb9f3a"
            ],
            [
             0.8888888888888888,
             "#fdca26"
            ],
            [
             1,
             "#f0f921"
            ]
           ],
           "sequentialminus": [
            [
             0,
             "#0d0887"
            ],
            [
             0.1111111111111111,
             "#46039f"
            ],
            [
             0.2222222222222222,
             "#7201a8"
            ],
            [
             0.3333333333333333,
             "#9c179e"
            ],
            [
             0.4444444444444444,
             "#bd3786"
            ],
            [
             0.5555555555555556,
             "#d8576b"
            ],
            [
             0.6666666666666666,
             "#ed7953"
            ],
            [
             0.7777777777777778,
             "#fb9f3a"
            ],
            [
             0.8888888888888888,
             "#fdca26"
            ],
            [
             1,
             "#f0f921"
            ]
           ]
          },
          "colorway": [
           "#636efa",
           "#EF553B",
           "#00cc96",
           "#ab63fa",
           "#FFA15A",
           "#19d3f3",
           "#FF6692",
           "#B6E880",
           "#FF97FF",
           "#FECB52"
          ],
          "font": {
           "color": "#2a3f5f"
          },
          "geo": {
           "bgcolor": "white",
           "lakecolor": "white",
           "landcolor": "#E5ECF6",
           "showlakes": true,
           "showland": true,
           "subunitcolor": "white"
          },
          "hoverlabel": {
           "align": "left"
          },
          "hovermode": "closest",
          "mapbox": {
           "style": "light"
          },
          "paper_bgcolor": "white",
          "plot_bgcolor": "#E5ECF6",
          "polar": {
           "angularaxis": {
            "gridcolor": "white",
            "linecolor": "white",
            "ticks": ""
           },
           "bgcolor": "#E5ECF6",
           "radialaxis": {
            "gridcolor": "white",
            "linecolor": "white",
            "ticks": ""
           }
          },
          "scene": {
           "xaxis": {
            "backgroundcolor": "#E5ECF6",
            "gridcolor": "white",
            "gridwidth": 2,
            "linecolor": "white",
            "showbackground": true,
            "ticks": "",
            "zerolinecolor": "white"
           },
           "yaxis": {
            "backgroundcolor": "#E5ECF6",
            "gridcolor": "white",
            "gridwidth": 2,
            "linecolor": "white",
            "showbackground": true,
            "ticks": "",
            "zerolinecolor": "white"
           },
           "zaxis": {
            "backgroundcolor": "#E5ECF6",
            "gridcolor": "white",
            "gridwidth": 2,
            "linecolor": "white",
            "showbackground": true,
            "ticks": "",
            "zerolinecolor": "white"
           }
          },
          "shapedefaults": {
           "line": {
            "color": "#2a3f5f"
           }
          },
          "ternary": {
           "aaxis": {
            "gridcolor": "white",
            "linecolor": "white",
            "ticks": ""
           },
           "baxis": {
            "gridcolor": "white",
            "linecolor": "white",
            "ticks": ""
           },
           "bgcolor": "#E5ECF6",
           "caxis": {
            "gridcolor": "white",
            "linecolor": "white",
            "ticks": ""
           }
          },
          "title": {
           "x": 0.05
          },
          "xaxis": {
           "automargin": true,
           "gridcolor": "white",
           "linecolor": "white",
           "ticks": "",
           "title": {
            "standoff": 15
           },
           "zerolinecolor": "white",
           "zerolinewidth": 2
          },
          "yaxis": {
           "automargin": true,
           "gridcolor": "white",
           "linecolor": "white",
           "ticks": "",
           "title": {
            "standoff": 15
           },
           "zerolinecolor": "white",
           "zerolinewidth": 2
          }
         }
        },
        "title": {
         "font": {
          "color": "#4D5663"
         }
        },
        "xaxis": {
         "gridcolor": "#E1E5ED",
         "showgrid": true,
         "tickfont": {
          "color": "#4D5663"
         },
         "title": {
          "font": {
           "color": "#4D5663"
          },
          "text": ""
         },
         "zerolinecolor": "#E1E5ED"
        },
        "yaxis": {
         "gridcolor": "#E1E5ED",
         "showgrid": true,
         "tickfont": {
          "color": "#4D5663"
         },
         "title": {
          "font": {
           "color": "#4D5663"
          },
          "text": ""
         },
         "zerolinecolor": "#E1E5ED"
        }
       }
      },
      "text/html": [
       "<div>                            <div id=\"7d4cc102-ac63-4b35-8700-bad58236bb3e\" class=\"plotly-graph-div\" style=\"height:525px; width:100%;\"></div>            <script type=\"text/javascript\">                require([\"plotly\"], function(Plotly) {                    window.PLOTLYENV=window.PLOTLYENV || {};\n",
       "                    window.PLOTLYENV.BASE_URL='https://plot.ly';                                    if (document.getElementById(\"7d4cc102-ac63-4b35-8700-bad58236bb3e\")) {                    Plotly.newPlot(                        \"7d4cc102-ac63-4b35-8700-bad58236bb3e\",                        [{\"colorscale\":[[0.0,\"rgb(165,0,38)\"],[0.1,\"rgb(215,48,39)\"],[0.2,\"rgb(244,109,67)\"],[0.3,\"rgb(253,174,97)\"],[0.4,\"rgb(254,224,144)\"],[0.5,\"rgb(255,255,191)\"],[0.6,\"rgb(224,243,248)\"],[0.7,\"rgb(171,217,233)\"],[0.8,\"rgb(116,173,209)\"],[0.9,\"rgb(69,117,180)\"],[1.0,\"rgb(49,54,149)\"]],\"x\":[0,1,2,3,4],\"y\":[\"x\",\"y\",\"z\"],\"z\":[[1,2,3,4,5],[10,20,30,20,10],[5,4,3,2,1]],\"type\":\"surface\"}],                        {\"legend\":{\"bgcolor\":\"#F5F6F9\",\"font\":{\"color\":\"#4D5663\"}},\"paper_bgcolor\":\"#F5F6F9\",\"plot_bgcolor\":\"#F5F6F9\",\"template\":{\"data\":{\"barpolar\":[{\"marker\":{\"line\":{\"color\":\"#E5ECF6\",\"width\":0.5},\"pattern\":{\"fillmode\":\"overlay\",\"size\":10,\"solidity\":0.2}},\"type\":\"barpolar\"}],\"bar\":[{\"error_x\":{\"color\":\"#2a3f5f\"},\"error_y\":{\"color\":\"#2a3f5f\"},\"marker\":{\"line\":{\"color\":\"#E5ECF6\",\"width\":0.5},\"pattern\":{\"fillmode\":\"overlay\",\"size\":10,\"solidity\":0.2}},\"type\":\"bar\"}],\"carpet\":[{\"aaxis\":{\"endlinecolor\":\"#2a3f5f\",\"gridcolor\":\"white\",\"linecolor\":\"white\",\"minorgridcolor\":\"white\",\"startlinecolor\":\"#2a3f5f\"},\"baxis\":{\"endlinecolor\":\"#2a3f5f\",\"gridcolor\":\"white\",\"linecolor\":\"white\",\"minorgridcolor\":\"white\",\"startlinecolor\":\"#2a3f5f\"},\"type\":\"carpet\"}],\"choropleth\":[{\"colorbar\":{\"outlinewidth\":0,\"ticks\":\"\"},\"type\":\"choropleth\"}],\"contourcarpet\":[{\"colorbar\":{\"outlinewidth\":0,\"ticks\":\"\"},\"type\":\"contourcarpet\"}],\"contour\":[{\"colorbar\":{\"outlinewidth\":0,\"ticks\":\"\"},\"colorscale\":[[0.0,\"#0d0887\"],[0.1111111111111111,\"#46039f\"],[0.2222222222222222,\"#7201a8\"],[0.3333333333333333,\"#9c179e\"],[0.4444444444444444,\"#bd3786\"],[0.5555555555555556,\"#d8576b\"],[0.6666666666666666,\"#ed7953\"],[0.7777777777777778,\"#fb9f3a\"],[0.8888888888888888,\"#fdca26\"],[1.0,\"#f0f921\"]],\"type\":\"contour\"}],\"heatmapgl\":[{\"colorbar\":{\"outlinewidth\":0,\"ticks\":\"\"},\"colorscale\":[[0.0,\"#0d0887\"],[0.1111111111111111,\"#46039f\"],[0.2222222222222222,\"#7201a8\"],[0.3333333333333333,\"#9c179e\"],[0.4444444444444444,\"#bd3786\"],[0.5555555555555556,\"#d8576b\"],[0.6666666666666666,\"#ed7953\"],[0.7777777777777778,\"#fb9f3a\"],[0.8888888888888888,\"#fdca26\"],[1.0,\"#f0f921\"]],\"type\":\"heatmapgl\"}],\"heatmap\":[{\"colorbar\":{\"outlinewidth\":0,\"ticks\":\"\"},\"colorscale\":[[0.0,\"#0d0887\"],[0.1111111111111111,\"#46039f\"],[0.2222222222222222,\"#7201a8\"],[0.3333333333333333,\"#9c179e\"],[0.4444444444444444,\"#bd3786\"],[0.5555555555555556,\"#d8576b\"],[0.6666666666666666,\"#ed7953\"],[0.7777777777777778,\"#fb9f3a\"],[0.8888888888888888,\"#fdca26\"],[1.0,\"#f0f921\"]],\"type\":\"heatmap\"}],\"histogram2dcontour\":[{\"colorbar\":{\"outlinewidth\":0,\"ticks\":\"\"},\"colorscale\":[[0.0,\"#0d0887\"],[0.1111111111111111,\"#46039f\"],[0.2222222222222222,\"#7201a8\"],[0.3333333333333333,\"#9c179e\"],[0.4444444444444444,\"#bd3786\"],[0.5555555555555556,\"#d8576b\"],[0.6666666666666666,\"#ed7953\"],[0.7777777777777778,\"#fb9f3a\"],[0.8888888888888888,\"#fdca26\"],[1.0,\"#f0f921\"]],\"type\":\"histogram2dcontour\"}],\"histogram2d\":[{\"colorbar\":{\"outlinewidth\":0,\"ticks\":\"\"},\"colorscale\":[[0.0,\"#0d0887\"],[0.1111111111111111,\"#46039f\"],[0.2222222222222222,\"#7201a8\"],[0.3333333333333333,\"#9c179e\"],[0.4444444444444444,\"#bd3786\"],[0.5555555555555556,\"#d8576b\"],[0.6666666666666666,\"#ed7953\"],[0.7777777777777778,\"#fb9f3a\"],[0.8888888888888888,\"#fdca26\"],[1.0,\"#f0f921\"]],\"type\":\"histogram2d\"}],\"histogram\":[{\"marker\":{\"pattern\":{\"fillmode\":\"overlay\",\"size\":10,\"solidity\":0.2}},\"type\":\"histogram\"}],\"mesh3d\":[{\"colorbar\":{\"outlinewidth\":0,\"ticks\":\"\"},\"type\":\"mesh3d\"}],\"parcoords\":[{\"line\":{\"colorbar\":{\"outlinewidth\":0,\"ticks\":\"\"}},\"type\":\"parcoords\"}],\"pie\":[{\"automargin\":true,\"type\":\"pie\"}],\"scatter3d\":[{\"line\":{\"colorbar\":{\"outlinewidth\":0,\"ticks\":\"\"}},\"marker\":{\"colorbar\":{\"outlinewidth\":0,\"ticks\":\"\"}},\"type\":\"scatter3d\"}],\"scattercarpet\":[{\"marker\":{\"colorbar\":{\"outlinewidth\":0,\"ticks\":\"\"}},\"type\":\"scattercarpet\"}],\"scattergeo\":[{\"marker\":{\"colorbar\":{\"outlinewidth\":0,\"ticks\":\"\"}},\"type\":\"scattergeo\"}],\"scattergl\":[{\"marker\":{\"colorbar\":{\"outlinewidth\":0,\"ticks\":\"\"}},\"type\":\"scattergl\"}],\"scattermapbox\":[{\"marker\":{\"colorbar\":{\"outlinewidth\":0,\"ticks\":\"\"}},\"type\":\"scattermapbox\"}],\"scatterpolargl\":[{\"marker\":{\"colorbar\":{\"outlinewidth\":0,\"ticks\":\"\"}},\"type\":\"scatterpolargl\"}],\"scatterpolar\":[{\"marker\":{\"colorbar\":{\"outlinewidth\":0,\"ticks\":\"\"}},\"type\":\"scatterpolar\"}],\"scatter\":[{\"marker\":{\"colorbar\":{\"outlinewidth\":0,\"ticks\":\"\"}},\"type\":\"scatter\"}],\"scatterternary\":[{\"marker\":{\"colorbar\":{\"outlinewidth\":0,\"ticks\":\"\"}},\"type\":\"scatterternary\"}],\"surface\":[{\"colorbar\":{\"outlinewidth\":0,\"ticks\":\"\"},\"colorscale\":[[0.0,\"#0d0887\"],[0.1111111111111111,\"#46039f\"],[0.2222222222222222,\"#7201a8\"],[0.3333333333333333,\"#9c179e\"],[0.4444444444444444,\"#bd3786\"],[0.5555555555555556,\"#d8576b\"],[0.6666666666666666,\"#ed7953\"],[0.7777777777777778,\"#fb9f3a\"],[0.8888888888888888,\"#fdca26\"],[1.0,\"#f0f921\"]],\"type\":\"surface\"}],\"table\":[{\"cells\":{\"fill\":{\"color\":\"#EBF0F8\"},\"line\":{\"color\":\"white\"}},\"header\":{\"fill\":{\"color\":\"#C8D4E3\"},\"line\":{\"color\":\"white\"}},\"type\":\"table\"}]},\"layout\":{\"annotationdefaults\":{\"arrowcolor\":\"#2a3f5f\",\"arrowhead\":0,\"arrowwidth\":1},\"autotypenumbers\":\"strict\",\"coloraxis\":{\"colorbar\":{\"outlinewidth\":0,\"ticks\":\"\"}},\"colorscale\":{\"diverging\":[[0,\"#8e0152\"],[0.1,\"#c51b7d\"],[0.2,\"#de77ae\"],[0.3,\"#f1b6da\"],[0.4,\"#fde0ef\"],[0.5,\"#f7f7f7\"],[0.6,\"#e6f5d0\"],[0.7,\"#b8e186\"],[0.8,\"#7fbc41\"],[0.9,\"#4d9221\"],[1,\"#276419\"]],\"sequential\":[[0.0,\"#0d0887\"],[0.1111111111111111,\"#46039f\"],[0.2222222222222222,\"#7201a8\"],[0.3333333333333333,\"#9c179e\"],[0.4444444444444444,\"#bd3786\"],[0.5555555555555556,\"#d8576b\"],[0.6666666666666666,\"#ed7953\"],[0.7777777777777778,\"#fb9f3a\"],[0.8888888888888888,\"#fdca26\"],[1.0,\"#f0f921\"]],\"sequentialminus\":[[0.0,\"#0d0887\"],[0.1111111111111111,\"#46039f\"],[0.2222222222222222,\"#7201a8\"],[0.3333333333333333,\"#9c179e\"],[0.4444444444444444,\"#bd3786\"],[0.5555555555555556,\"#d8576b\"],[0.6666666666666666,\"#ed7953\"],[0.7777777777777778,\"#fb9f3a\"],[0.8888888888888888,\"#fdca26\"],[1.0,\"#f0f921\"]]},\"colorway\":[\"#636efa\",\"#EF553B\",\"#00cc96\",\"#ab63fa\",\"#FFA15A\",\"#19d3f3\",\"#FF6692\",\"#B6E880\",\"#FF97FF\",\"#FECB52\"],\"font\":{\"color\":\"#2a3f5f\"},\"geo\":{\"bgcolor\":\"white\",\"lakecolor\":\"white\",\"landcolor\":\"#E5ECF6\",\"showlakes\":true,\"showland\":true,\"subunitcolor\":\"white\"},\"hoverlabel\":{\"align\":\"left\"},\"hovermode\":\"closest\",\"mapbox\":{\"style\":\"light\"},\"paper_bgcolor\":\"white\",\"plot_bgcolor\":\"#E5ECF6\",\"polar\":{\"angularaxis\":{\"gridcolor\":\"white\",\"linecolor\":\"white\",\"ticks\":\"\"},\"bgcolor\":\"#E5ECF6\",\"radialaxis\":{\"gridcolor\":\"white\",\"linecolor\":\"white\",\"ticks\":\"\"}},\"scene\":{\"xaxis\":{\"backgroundcolor\":\"#E5ECF6\",\"gridcolor\":\"white\",\"gridwidth\":2,\"linecolor\":\"white\",\"showbackground\":true,\"ticks\":\"\",\"zerolinecolor\":\"white\"},\"yaxis\":{\"backgroundcolor\":\"#E5ECF6\",\"gridcolor\":\"white\",\"gridwidth\":2,\"linecolor\":\"white\",\"showbackground\":true,\"ticks\":\"\",\"zerolinecolor\":\"white\"},\"zaxis\":{\"backgroundcolor\":\"#E5ECF6\",\"gridcolor\":\"white\",\"gridwidth\":2,\"linecolor\":\"white\",\"showbackground\":true,\"ticks\":\"\",\"zerolinecolor\":\"white\"}},\"shapedefaults\":{\"line\":{\"color\":\"#2a3f5f\"}},\"ternary\":{\"aaxis\":{\"gridcolor\":\"white\",\"linecolor\":\"white\",\"ticks\":\"\"},\"baxis\":{\"gridcolor\":\"white\",\"linecolor\":\"white\",\"ticks\":\"\"},\"bgcolor\":\"#E5ECF6\",\"caxis\":{\"gridcolor\":\"white\",\"linecolor\":\"white\",\"ticks\":\"\"}},\"title\":{\"x\":0.05},\"xaxis\":{\"automargin\":true,\"gridcolor\":\"white\",\"linecolor\":\"white\",\"ticks\":\"\",\"title\":{\"standoff\":15},\"zerolinecolor\":\"white\",\"zerolinewidth\":2},\"yaxis\":{\"automargin\":true,\"gridcolor\":\"white\",\"linecolor\":\"white\",\"ticks\":\"\",\"title\":{\"standoff\":15},\"zerolinecolor\":\"white\",\"zerolinewidth\":2}}},\"title\":{\"font\":{\"color\":\"#4D5663\"}},\"xaxis\":{\"gridcolor\":\"#E1E5ED\",\"showgrid\":true,\"tickfont\":{\"color\":\"#4D5663\"},\"title\":{\"font\":{\"color\":\"#4D5663\"},\"text\":\"\"},\"zerolinecolor\":\"#E1E5ED\"},\"yaxis\":{\"gridcolor\":\"#E1E5ED\",\"showgrid\":true,\"tickfont\":{\"color\":\"#4D5663\"},\"title\":{\"font\":{\"color\":\"#4D5663\"},\"text\":\"\"},\"zerolinecolor\":\"#E1E5ED\"}},                        {\"showLink\": true, \"linkText\": \"Export to plot.ly\", \"plotlyServerURL\": \"https://plot.ly\", \"responsive\": true}                    ).then(function(){\n",
       "                            \n",
       "var gd = document.getElementById('7d4cc102-ac63-4b35-8700-bad58236bb3e');\n",
       "var x = new MutationObserver(function (mutations, observer) {{\n",
       "        var display = window.getComputedStyle(gd).display;\n",
       "        if (!display || display === 'none') {{\n",
       "            console.log([gd, 'removed!']);\n",
       "            Plotly.purge(gd);\n",
       "            observer.disconnect();\n",
       "        }}\n",
       "}});\n",
       "\n",
       "// Listen for the removal of the full notebook cells\n",
       "var notebookContainer = gd.closest('#notebook-container');\n",
       "if (notebookContainer) {{\n",
       "    x.observe(notebookContainer, {childList: true});\n",
       "}}\n",
       "\n",
       "// Listen for the clearing of the current output cell\n",
       "var outputEl = gd.closest('.output');\n",
       "if (outputEl) {{\n",
       "    x.observe(outputEl, {childList: true});\n",
       "}}\n",
       "\n",
       "                        })                };                });            </script>        </div>"
      ]
     },
     "metadata": {},
     "output_type": "display_data"
    }
   ],
   "source": [
    "df4.iplot(kind='surface', colorscale='rdylbu')"
   ]
  },
  {
   "cell_type": "code",
   "execution_count": 21,
   "id": "e200ce3b",
   "metadata": {},
   "outputs": [
    {
     "data": {
      "application/vnd.plotly.v1+json": {
       "config": {
        "linkText": "Export to plot.ly",
        "plotlyServerURL": "https://plot.ly",
        "showLink": true
       },
       "data": [
        {
         "histfunc": "count",
         "histnorm": "",
         "marker": {
          "color": "rgba(255, 153, 51, 1.0)",
          "line": {
           "color": "#4D5663",
           "width": 1.3
          }
         },
         "name": "A",
         "nbinsx": 25,
         "opacity": 0.8,
         "orientation": "v",
         "type": "histogram",
         "x": [
          -1.817020332442591,
          -0.48098196817947747,
          1.295157066086587,
          0.07915703940954168,
          -1.3099989138475427,
          0.06443502722863953,
          0.8429902338467029,
          -0.8773579775586074,
          0.46296346004057504,
          0.3460066752440415,
          -1.5090964258815225,
          -0.17929767315087017,
          1.3597925620525149,
          0.1044132807162975,
          0.634140345548099,
          0.6449694398149307,
          0.682739029598082,
          -1.071423148713151,
          1.3412141907457804,
          -2.0253607604150097,
          -0.6575006829762641,
          -0.17629534526442286,
          0.4323052492839113,
          0.6061579721571336,
          0.3390538872710677,
          0.2136221498914424,
          -0.9248743336982881,
          -0.4923106494685157,
          -0.14027220727513648,
          -0.1245854157414283,
          0.3754070935314772,
          0.6687968436024946,
          0.46090626794999184,
          0.6478439273174318,
          0.183863668146813,
          -1.279265961558031,
          0.802914519502553,
          -0.6617214233024067,
          0.40798053779705845,
          0.23659524715385208,
          -1.3116089276171852,
          -1.2724481063971438,
          -0.15342270238770084,
          -0.19734938689819756,
          1.1596643166619882,
          -0.005636088219923547,
          -0.6354557112936142,
          0.00841157757449361,
          0.48174320134418314,
          1.0213266264062488,
          0.3470778151363638,
          1.0253128059996828,
          0.7018347168264457,
          -2.009558285503277,
          0.403384354603036,
          -0.3462865536610784,
          0.6035616992595493,
          -0.30964050576847196,
          0.12320701101952627,
          1.335591270886312,
          0.36552633076117713,
          -1.3009197808756756,
          0.849189361840498,
          0.48156360348950894,
          -0.017253276895772475,
          -0.13428667687120988,
          -0.528177970082618,
          1.0196902755316413,
          1.3853643896167271,
          -0.6250839679301746,
          -1.3060891778316646,
          0.2980133963267906,
          -2.160297033004496,
          0.2376514887002878,
          0.6392880065901926,
          0.13454348300356517,
          -1.4637409882823738,
          1.0202755563129895,
          1.5880348353414337,
          0.07489399111775881,
          2.037016478459296,
          -0.251972946031691,
          0.8288506740682722,
          0.8955414611825695,
          1.2165389060864282,
          1.5064457727306413,
          0.061859146980210056,
          0.16475560467364941,
          0.728842764778092,
          0.38589650375284085,
          0.9594389862303899,
          -0.4598951496142224,
          -0.4720031339202954,
          1.0154972016695023,
          -0.3445588930132589,
          0.7210756485242339,
          -0.6826130598079807,
          0.5697110560318015,
          0.024064000147705544,
          -1.4702867469315202
         ]
        }
       ],
       "layout": {
        "barmode": "overlay",
        "legend": {
         "bgcolor": "#F5F6F9",
         "font": {
          "color": "#4D5663"
         }
        },
        "paper_bgcolor": "#F5F6F9",
        "plot_bgcolor": "#F5F6F9",
        "template": {
         "data": {
          "bar": [
           {
            "error_x": {
             "color": "#2a3f5f"
            },
            "error_y": {
             "color": "#2a3f5f"
            },
            "marker": {
             "line": {
              "color": "#E5ECF6",
              "width": 0.5
             },
             "pattern": {
              "fillmode": "overlay",
              "size": 10,
              "solidity": 0.2
             }
            },
            "type": "bar"
           }
          ],
          "barpolar": [
           {
            "marker": {
             "line": {
              "color": "#E5ECF6",
              "width": 0.5
             },
             "pattern": {
              "fillmode": "overlay",
              "size": 10,
              "solidity": 0.2
             }
            },
            "type": "barpolar"
           }
          ],
          "carpet": [
           {
            "aaxis": {
             "endlinecolor": "#2a3f5f",
             "gridcolor": "white",
             "linecolor": "white",
             "minorgridcolor": "white",
             "startlinecolor": "#2a3f5f"
            },
            "baxis": {
             "endlinecolor": "#2a3f5f",
             "gridcolor": "white",
             "linecolor": "white",
             "minorgridcolor": "white",
             "startlinecolor": "#2a3f5f"
            },
            "type": "carpet"
           }
          ],
          "choropleth": [
           {
            "colorbar": {
             "outlinewidth": 0,
             "ticks": ""
            },
            "type": "choropleth"
           }
          ],
          "contour": [
           {
            "colorbar": {
             "outlinewidth": 0,
             "ticks": ""
            },
            "colorscale": [
             [
              0,
              "#0d0887"
             ],
             [
              0.1111111111111111,
              "#46039f"
             ],
             [
              0.2222222222222222,
              "#7201a8"
             ],
             [
              0.3333333333333333,
              "#9c179e"
             ],
             [
              0.4444444444444444,
              "#bd3786"
             ],
             [
              0.5555555555555556,
              "#d8576b"
             ],
             [
              0.6666666666666666,
              "#ed7953"
             ],
             [
              0.7777777777777778,
              "#fb9f3a"
             ],
             [
              0.8888888888888888,
              "#fdca26"
             ],
             [
              1,
              "#f0f921"
             ]
            ],
            "type": "contour"
           }
          ],
          "contourcarpet": [
           {
            "colorbar": {
             "outlinewidth": 0,
             "ticks": ""
            },
            "type": "contourcarpet"
           }
          ],
          "heatmap": [
           {
            "colorbar": {
             "outlinewidth": 0,
             "ticks": ""
            },
            "colorscale": [
             [
              0,
              "#0d0887"
             ],
             [
              0.1111111111111111,
              "#46039f"
             ],
             [
              0.2222222222222222,
              "#7201a8"
             ],
             [
              0.3333333333333333,
              "#9c179e"
             ],
             [
              0.4444444444444444,
              "#bd3786"
             ],
             [
              0.5555555555555556,
              "#d8576b"
             ],
             [
              0.6666666666666666,
              "#ed7953"
             ],
             [
              0.7777777777777778,
              "#fb9f3a"
             ],
             [
              0.8888888888888888,
              "#fdca26"
             ],
             [
              1,
              "#f0f921"
             ]
            ],
            "type": "heatmap"
           }
          ],
          "heatmapgl": [
           {
            "colorbar": {
             "outlinewidth": 0,
             "ticks": ""
            },
            "colorscale": [
             [
              0,
              "#0d0887"
             ],
             [
              0.1111111111111111,
              "#46039f"
             ],
             [
              0.2222222222222222,
              "#7201a8"
             ],
             [
              0.3333333333333333,
              "#9c179e"
             ],
             [
              0.4444444444444444,
              "#bd3786"
             ],
             [
              0.5555555555555556,
              "#d8576b"
             ],
             [
              0.6666666666666666,
              "#ed7953"
             ],
             [
              0.7777777777777778,
              "#fb9f3a"
             ],
             [
              0.8888888888888888,
              "#fdca26"
             ],
             [
              1,
              "#f0f921"
             ]
            ],
            "type": "heatmapgl"
           }
          ],
          "histogram": [
           {
            "marker": {
             "pattern": {
              "fillmode": "overlay",
              "size": 10,
              "solidity": 0.2
             }
            },
            "type": "histogram"
           }
          ],
          "histogram2d": [
           {
            "colorbar": {
             "outlinewidth": 0,
             "ticks": ""
            },
            "colorscale": [
             [
              0,
              "#0d0887"
             ],
             [
              0.1111111111111111,
              "#46039f"
             ],
             [
              0.2222222222222222,
              "#7201a8"
             ],
             [
              0.3333333333333333,
              "#9c179e"
             ],
             [
              0.4444444444444444,
              "#bd3786"
             ],
             [
              0.5555555555555556,
              "#d8576b"
             ],
             [
              0.6666666666666666,
              "#ed7953"
             ],
             [
              0.7777777777777778,
              "#fb9f3a"
             ],
             [
              0.8888888888888888,
              "#fdca26"
             ],
             [
              1,
              "#f0f921"
             ]
            ],
            "type": "histogram2d"
           }
          ],
          "histogram2dcontour": [
           {
            "colorbar": {
             "outlinewidth": 0,
             "ticks": ""
            },
            "colorscale": [
             [
              0,
              "#0d0887"
             ],
             [
              0.1111111111111111,
              "#46039f"
             ],
             [
              0.2222222222222222,
              "#7201a8"
             ],
             [
              0.3333333333333333,
              "#9c179e"
             ],
             [
              0.4444444444444444,
              "#bd3786"
             ],
             [
              0.5555555555555556,
              "#d8576b"
             ],
             [
              0.6666666666666666,
              "#ed7953"
             ],
             [
              0.7777777777777778,
              "#fb9f3a"
             ],
             [
              0.8888888888888888,
              "#fdca26"
             ],
             [
              1,
              "#f0f921"
             ]
            ],
            "type": "histogram2dcontour"
           }
          ],
          "mesh3d": [
           {
            "colorbar": {
             "outlinewidth": 0,
             "ticks": ""
            },
            "type": "mesh3d"
           }
          ],
          "parcoords": [
           {
            "line": {
             "colorbar": {
              "outlinewidth": 0,
              "ticks": ""
             }
            },
            "type": "parcoords"
           }
          ],
          "pie": [
           {
            "automargin": true,
            "type": "pie"
           }
          ],
          "scatter": [
           {
            "marker": {
             "colorbar": {
              "outlinewidth": 0,
              "ticks": ""
             }
            },
            "type": "scatter"
           }
          ],
          "scatter3d": [
           {
            "line": {
             "colorbar": {
              "outlinewidth": 0,
              "ticks": ""
             }
            },
            "marker": {
             "colorbar": {
              "outlinewidth": 0,
              "ticks": ""
             }
            },
            "type": "scatter3d"
           }
          ],
          "scattercarpet": [
           {
            "marker": {
             "colorbar": {
              "outlinewidth": 0,
              "ticks": ""
             }
            },
            "type": "scattercarpet"
           }
          ],
          "scattergeo": [
           {
            "marker": {
             "colorbar": {
              "outlinewidth": 0,
              "ticks": ""
             }
            },
            "type": "scattergeo"
           }
          ],
          "scattergl": [
           {
            "marker": {
             "colorbar": {
              "outlinewidth": 0,
              "ticks": ""
             }
            },
            "type": "scattergl"
           }
          ],
          "scattermapbox": [
           {
            "marker": {
             "colorbar": {
              "outlinewidth": 0,
              "ticks": ""
             }
            },
            "type": "scattermapbox"
           }
          ],
          "scatterpolar": [
           {
            "marker": {
             "colorbar": {
              "outlinewidth": 0,
              "ticks": ""
             }
            },
            "type": "scatterpolar"
           }
          ],
          "scatterpolargl": [
           {
            "marker": {
             "colorbar": {
              "outlinewidth": 0,
              "ticks": ""
             }
            },
            "type": "scatterpolargl"
           }
          ],
          "scatterternary": [
           {
            "marker": {
             "colorbar": {
              "outlinewidth": 0,
              "ticks": ""
             }
            },
            "type": "scatterternary"
           }
          ],
          "surface": [
           {
            "colorbar": {
             "outlinewidth": 0,
             "ticks": ""
            },
            "colorscale": [
             [
              0,
              "#0d0887"
             ],
             [
              0.1111111111111111,
              "#46039f"
             ],
             [
              0.2222222222222222,
              "#7201a8"
             ],
             [
              0.3333333333333333,
              "#9c179e"
             ],
             [
              0.4444444444444444,
              "#bd3786"
             ],
             [
              0.5555555555555556,
              "#d8576b"
             ],
             [
              0.6666666666666666,
              "#ed7953"
             ],
             [
              0.7777777777777778,
              "#fb9f3a"
             ],
             [
              0.8888888888888888,
              "#fdca26"
             ],
             [
              1,
              "#f0f921"
             ]
            ],
            "type": "surface"
           }
          ],
          "table": [
           {
            "cells": {
             "fill": {
              "color": "#EBF0F8"
             },
             "line": {
              "color": "white"
             }
            },
            "header": {
             "fill": {
              "color": "#C8D4E3"
             },
             "line": {
              "color": "white"
             }
            },
            "type": "table"
           }
          ]
         },
         "layout": {
          "annotationdefaults": {
           "arrowcolor": "#2a3f5f",
           "arrowhead": 0,
           "arrowwidth": 1
          },
          "autotypenumbers": "strict",
          "coloraxis": {
           "colorbar": {
            "outlinewidth": 0,
            "ticks": ""
           }
          },
          "colorscale": {
           "diverging": [
            [
             0,
             "#8e0152"
            ],
            [
             0.1,
             "#c51b7d"
            ],
            [
             0.2,
             "#de77ae"
            ],
            [
             0.3,
             "#f1b6da"
            ],
            [
             0.4,
             "#fde0ef"
            ],
            [
             0.5,
             "#f7f7f7"
            ],
            [
             0.6,
             "#e6f5d0"
            ],
            [
             0.7,
             "#b8e186"
            ],
            [
             0.8,
             "#7fbc41"
            ],
            [
             0.9,
             "#4d9221"
            ],
            [
             1,
             "#276419"
            ]
           ],
           "sequential": [
            [
             0,
             "#0d0887"
            ],
            [
             0.1111111111111111,
             "#46039f"
            ],
            [
             0.2222222222222222,
             "#7201a8"
            ],
            [
             0.3333333333333333,
             "#9c179e"
            ],
            [
             0.4444444444444444,
             "#bd3786"
            ],
            [
             0.5555555555555556,
             "#d8576b"
            ],
            [
             0.6666666666666666,
             "#ed7953"
            ],
            [
             0.7777777777777778,
             "#fb9f3a"
            ],
            [
             0.8888888888888888,
             "#fdca26"
            ],
            [
             1,
             "#f0f921"
            ]
           ],
           "sequentialminus": [
            [
             0,
             "#0d0887"
            ],
            [
             0.1111111111111111,
             "#46039f"
            ],
            [
             0.2222222222222222,
             "#7201a8"
            ],
            [
             0.3333333333333333,
             "#9c179e"
            ],
            [
             0.4444444444444444,
             "#bd3786"
            ],
            [
             0.5555555555555556,
             "#d8576b"
            ],
            [
             0.6666666666666666,
             "#ed7953"
            ],
            [
             0.7777777777777778,
             "#fb9f3a"
            ],
            [
             0.8888888888888888,
             "#fdca26"
            ],
            [
             1,
             "#f0f921"
            ]
           ]
          },
          "colorway": [
           "#636efa",
           "#EF553B",
           "#00cc96",
           "#ab63fa",
           "#FFA15A",
           "#19d3f3",
           "#FF6692",
           "#B6E880",
           "#FF97FF",
           "#FECB52"
          ],
          "font": {
           "color": "#2a3f5f"
          },
          "geo": {
           "bgcolor": "white",
           "lakecolor": "white",
           "landcolor": "#E5ECF6",
           "showlakes": true,
           "showland": true,
           "subunitcolor": "white"
          },
          "hoverlabel": {
           "align": "left"
          },
          "hovermode": "closest",
          "mapbox": {
           "style": "light"
          },
          "paper_bgcolor": "white",
          "plot_bgcolor": "#E5ECF6",
          "polar": {
           "angularaxis": {
            "gridcolor": "white",
            "linecolor": "white",
            "ticks": ""
           },
           "bgcolor": "#E5ECF6",
           "radialaxis": {
            "gridcolor": "white",
            "linecolor": "white",
            "ticks": ""
           }
          },
          "scene": {
           "xaxis": {
            "backgroundcolor": "#E5ECF6",
            "gridcolor": "white",
            "gridwidth": 2,
            "linecolor": "white",
            "showbackground": true,
            "ticks": "",
            "zerolinecolor": "white"
           },
           "yaxis": {
            "backgroundcolor": "#E5ECF6",
            "gridcolor": "white",
            "gridwidth": 2,
            "linecolor": "white",
            "showbackground": true,
            "ticks": "",
            "zerolinecolor": "white"
           },
           "zaxis": {
            "backgroundcolor": "#E5ECF6",
            "gridcolor": "white",
            "gridwidth": 2,
            "linecolor": "white",
            "showbackground": true,
            "ticks": "",
            "zerolinecolor": "white"
           }
          },
          "shapedefaults": {
           "line": {
            "color": "#2a3f5f"
           }
          },
          "ternary": {
           "aaxis": {
            "gridcolor": "white",
            "linecolor": "white",
            "ticks": ""
           },
           "baxis": {
            "gridcolor": "white",
            "linecolor": "white",
            "ticks": ""
           },
           "bgcolor": "#E5ECF6",
           "caxis": {
            "gridcolor": "white",
            "linecolor": "white",
            "ticks": ""
           }
          },
          "title": {
           "x": 0.05
          },
          "xaxis": {
           "automargin": true,
           "gridcolor": "white",
           "linecolor": "white",
           "ticks": "",
           "title": {
            "standoff": 15
           },
           "zerolinecolor": "white",
           "zerolinewidth": 2
          },
          "yaxis": {
           "automargin": true,
           "gridcolor": "white",
           "linecolor": "white",
           "ticks": "",
           "title": {
            "standoff": 15
           },
           "zerolinecolor": "white",
           "zerolinewidth": 2
          }
         }
        },
        "title": {
         "font": {
          "color": "#4D5663"
         }
        },
        "xaxis": {
         "gridcolor": "#E1E5ED",
         "showgrid": true,
         "tickfont": {
          "color": "#4D5663"
         },
         "title": {
          "font": {
           "color": "#4D5663"
          },
          "text": ""
         },
         "zerolinecolor": "#E1E5ED"
        },
        "yaxis": {
         "gridcolor": "#E1E5ED",
         "showgrid": true,
         "tickfont": {
          "color": "#4D5663"
         },
         "title": {
          "font": {
           "color": "#4D5663"
          },
          "text": ""
         },
         "zerolinecolor": "#E1E5ED"
        }
       }
      },
      "text/html": [
       "<div>                            <div id=\"9204ab81-e478-4272-a503-125090e44642\" class=\"plotly-graph-div\" style=\"height:525px; width:100%;\"></div>            <script type=\"text/javascript\">                require([\"plotly\"], function(Plotly) {                    window.PLOTLYENV=window.PLOTLYENV || {};\n",
       "                    window.PLOTLYENV.BASE_URL='https://plot.ly';                                    if (document.getElementById(\"9204ab81-e478-4272-a503-125090e44642\")) {                    Plotly.newPlot(                        \"9204ab81-e478-4272-a503-125090e44642\",                        [{\"histfunc\":\"count\",\"histnorm\":\"\",\"marker\":{\"color\":\"rgba(255, 153, 51, 1.0)\",\"line\":{\"color\":\"#4D5663\",\"width\":1.3}},\"name\":\"A\",\"nbinsx\":25,\"opacity\":0.8,\"orientation\":\"v\",\"x\":[-1.817020332442591,-0.48098196817947747,1.295157066086587,0.07915703940954168,-1.3099989138475427,0.06443502722863953,0.8429902338467029,-0.8773579775586074,0.46296346004057504,0.3460066752440415,-1.5090964258815225,-0.17929767315087017,1.3597925620525149,0.1044132807162975,0.634140345548099,0.6449694398149307,0.682739029598082,-1.071423148713151,1.3412141907457804,-2.0253607604150097,-0.6575006829762641,-0.17629534526442286,0.4323052492839113,0.6061579721571336,0.3390538872710677,0.2136221498914424,-0.9248743336982881,-0.4923106494685157,-0.14027220727513648,-0.1245854157414283,0.3754070935314772,0.6687968436024946,0.46090626794999184,0.6478439273174318,0.183863668146813,-1.279265961558031,0.802914519502553,-0.6617214233024067,0.40798053779705845,0.23659524715385208,-1.3116089276171852,-1.2724481063971438,-0.15342270238770084,-0.19734938689819756,1.1596643166619882,-0.005636088219923547,-0.6354557112936142,0.00841157757449361,0.48174320134418314,1.0213266264062488,0.3470778151363638,1.0253128059996828,0.7018347168264457,-2.009558285503277,0.403384354603036,-0.3462865536610784,0.6035616992595493,-0.30964050576847196,0.12320701101952627,1.335591270886312,0.36552633076117713,-1.3009197808756756,0.849189361840498,0.48156360348950894,-0.017253276895772475,-0.13428667687120988,-0.528177970082618,1.0196902755316413,1.3853643896167271,-0.6250839679301746,-1.3060891778316646,0.2980133963267906,-2.160297033004496,0.2376514887002878,0.6392880065901926,0.13454348300356517,-1.4637409882823738,1.0202755563129895,1.5880348353414337,0.07489399111775881,2.037016478459296,-0.251972946031691,0.8288506740682722,0.8955414611825695,1.2165389060864282,1.5064457727306413,0.061859146980210056,0.16475560467364941,0.728842764778092,0.38589650375284085,0.9594389862303899,-0.4598951496142224,-0.4720031339202954,1.0154972016695023,-0.3445588930132589,0.7210756485242339,-0.6826130598079807,0.5697110560318015,0.024064000147705544,-1.4702867469315202],\"type\":\"histogram\"}],                        {\"barmode\":\"overlay\",\"legend\":{\"bgcolor\":\"#F5F6F9\",\"font\":{\"color\":\"#4D5663\"}},\"paper_bgcolor\":\"#F5F6F9\",\"plot_bgcolor\":\"#F5F6F9\",\"template\":{\"data\":{\"barpolar\":[{\"marker\":{\"line\":{\"color\":\"#E5ECF6\",\"width\":0.5},\"pattern\":{\"fillmode\":\"overlay\",\"size\":10,\"solidity\":0.2}},\"type\":\"barpolar\"}],\"bar\":[{\"error_x\":{\"color\":\"#2a3f5f\"},\"error_y\":{\"color\":\"#2a3f5f\"},\"marker\":{\"line\":{\"color\":\"#E5ECF6\",\"width\":0.5},\"pattern\":{\"fillmode\":\"overlay\",\"size\":10,\"solidity\":0.2}},\"type\":\"bar\"}],\"carpet\":[{\"aaxis\":{\"endlinecolor\":\"#2a3f5f\",\"gridcolor\":\"white\",\"linecolor\":\"white\",\"minorgridcolor\":\"white\",\"startlinecolor\":\"#2a3f5f\"},\"baxis\":{\"endlinecolor\":\"#2a3f5f\",\"gridcolor\":\"white\",\"linecolor\":\"white\",\"minorgridcolor\":\"white\",\"startlinecolor\":\"#2a3f5f\"},\"type\":\"carpet\"}],\"choropleth\":[{\"colorbar\":{\"outlinewidth\":0,\"ticks\":\"\"},\"type\":\"choropleth\"}],\"contourcarpet\":[{\"colorbar\":{\"outlinewidth\":0,\"ticks\":\"\"},\"type\":\"contourcarpet\"}],\"contour\":[{\"colorbar\":{\"outlinewidth\":0,\"ticks\":\"\"},\"colorscale\":[[0.0,\"#0d0887\"],[0.1111111111111111,\"#46039f\"],[0.2222222222222222,\"#7201a8\"],[0.3333333333333333,\"#9c179e\"],[0.4444444444444444,\"#bd3786\"],[0.5555555555555556,\"#d8576b\"],[0.6666666666666666,\"#ed7953\"],[0.7777777777777778,\"#fb9f3a\"],[0.8888888888888888,\"#fdca26\"],[1.0,\"#f0f921\"]],\"type\":\"contour\"}],\"heatmapgl\":[{\"colorbar\":{\"outlinewidth\":0,\"ticks\":\"\"},\"colorscale\":[[0.0,\"#0d0887\"],[0.1111111111111111,\"#46039f\"],[0.2222222222222222,\"#7201a8\"],[0.3333333333333333,\"#9c179e\"],[0.4444444444444444,\"#bd3786\"],[0.5555555555555556,\"#d8576b\"],[0.6666666666666666,\"#ed7953\"],[0.7777777777777778,\"#fb9f3a\"],[0.8888888888888888,\"#fdca26\"],[1.0,\"#f0f921\"]],\"type\":\"heatmapgl\"}],\"heatmap\":[{\"colorbar\":{\"outlinewidth\":0,\"ticks\":\"\"},\"colorscale\":[[0.0,\"#0d0887\"],[0.1111111111111111,\"#46039f\"],[0.2222222222222222,\"#7201a8\"],[0.3333333333333333,\"#9c179e\"],[0.4444444444444444,\"#bd3786\"],[0.5555555555555556,\"#d8576b\"],[0.6666666666666666,\"#ed7953\"],[0.7777777777777778,\"#fb9f3a\"],[0.8888888888888888,\"#fdca26\"],[1.0,\"#f0f921\"]],\"type\":\"heatmap\"}],\"histogram2dcontour\":[{\"colorbar\":{\"outlinewidth\":0,\"ticks\":\"\"},\"colorscale\":[[0.0,\"#0d0887\"],[0.1111111111111111,\"#46039f\"],[0.2222222222222222,\"#7201a8\"],[0.3333333333333333,\"#9c179e\"],[0.4444444444444444,\"#bd3786\"],[0.5555555555555556,\"#d8576b\"],[0.6666666666666666,\"#ed7953\"],[0.7777777777777778,\"#fb9f3a\"],[0.8888888888888888,\"#fdca26\"],[1.0,\"#f0f921\"]],\"type\":\"histogram2dcontour\"}],\"histogram2d\":[{\"colorbar\":{\"outlinewidth\":0,\"ticks\":\"\"},\"colorscale\":[[0.0,\"#0d0887\"],[0.1111111111111111,\"#46039f\"],[0.2222222222222222,\"#7201a8\"],[0.3333333333333333,\"#9c179e\"],[0.4444444444444444,\"#bd3786\"],[0.5555555555555556,\"#d8576b\"],[0.6666666666666666,\"#ed7953\"],[0.7777777777777778,\"#fb9f3a\"],[0.8888888888888888,\"#fdca26\"],[1.0,\"#f0f921\"]],\"type\":\"histogram2d\"}],\"histogram\":[{\"marker\":{\"pattern\":{\"fillmode\":\"overlay\",\"size\":10,\"solidity\":0.2}},\"type\":\"histogram\"}],\"mesh3d\":[{\"colorbar\":{\"outlinewidth\":0,\"ticks\":\"\"},\"type\":\"mesh3d\"}],\"parcoords\":[{\"line\":{\"colorbar\":{\"outlinewidth\":0,\"ticks\":\"\"}},\"type\":\"parcoords\"}],\"pie\":[{\"automargin\":true,\"type\":\"pie\"}],\"scatter3d\":[{\"line\":{\"colorbar\":{\"outlinewidth\":0,\"ticks\":\"\"}},\"marker\":{\"colorbar\":{\"outlinewidth\":0,\"ticks\":\"\"}},\"type\":\"scatter3d\"}],\"scattercarpet\":[{\"marker\":{\"colorbar\":{\"outlinewidth\":0,\"ticks\":\"\"}},\"type\":\"scattercarpet\"}],\"scattergeo\":[{\"marker\":{\"colorbar\":{\"outlinewidth\":0,\"ticks\":\"\"}},\"type\":\"scattergeo\"}],\"scattergl\":[{\"marker\":{\"colorbar\":{\"outlinewidth\":0,\"ticks\":\"\"}},\"type\":\"scattergl\"}],\"scattermapbox\":[{\"marker\":{\"colorbar\":{\"outlinewidth\":0,\"ticks\":\"\"}},\"type\":\"scattermapbox\"}],\"scatterpolargl\":[{\"marker\":{\"colorbar\":{\"outlinewidth\":0,\"ticks\":\"\"}},\"type\":\"scatterpolargl\"}],\"scatterpolar\":[{\"marker\":{\"colorbar\":{\"outlinewidth\":0,\"ticks\":\"\"}},\"type\":\"scatterpolar\"}],\"scatter\":[{\"marker\":{\"colorbar\":{\"outlinewidth\":0,\"ticks\":\"\"}},\"type\":\"scatter\"}],\"scatterternary\":[{\"marker\":{\"colorbar\":{\"outlinewidth\":0,\"ticks\":\"\"}},\"type\":\"scatterternary\"}],\"surface\":[{\"colorbar\":{\"outlinewidth\":0,\"ticks\":\"\"},\"colorscale\":[[0.0,\"#0d0887\"],[0.1111111111111111,\"#46039f\"],[0.2222222222222222,\"#7201a8\"],[0.3333333333333333,\"#9c179e\"],[0.4444444444444444,\"#bd3786\"],[0.5555555555555556,\"#d8576b\"],[0.6666666666666666,\"#ed7953\"],[0.7777777777777778,\"#fb9f3a\"],[0.8888888888888888,\"#fdca26\"],[1.0,\"#f0f921\"]],\"type\":\"surface\"}],\"table\":[{\"cells\":{\"fill\":{\"color\":\"#EBF0F8\"},\"line\":{\"color\":\"white\"}},\"header\":{\"fill\":{\"color\":\"#C8D4E3\"},\"line\":{\"color\":\"white\"}},\"type\":\"table\"}]},\"layout\":{\"annotationdefaults\":{\"arrowcolor\":\"#2a3f5f\",\"arrowhead\":0,\"arrowwidth\":1},\"autotypenumbers\":\"strict\",\"coloraxis\":{\"colorbar\":{\"outlinewidth\":0,\"ticks\":\"\"}},\"colorscale\":{\"diverging\":[[0,\"#8e0152\"],[0.1,\"#c51b7d\"],[0.2,\"#de77ae\"],[0.3,\"#f1b6da\"],[0.4,\"#fde0ef\"],[0.5,\"#f7f7f7\"],[0.6,\"#e6f5d0\"],[0.7,\"#b8e186\"],[0.8,\"#7fbc41\"],[0.9,\"#4d9221\"],[1,\"#276419\"]],\"sequential\":[[0.0,\"#0d0887\"],[0.1111111111111111,\"#46039f\"],[0.2222222222222222,\"#7201a8\"],[0.3333333333333333,\"#9c179e\"],[0.4444444444444444,\"#bd3786\"],[0.5555555555555556,\"#d8576b\"],[0.6666666666666666,\"#ed7953\"],[0.7777777777777778,\"#fb9f3a\"],[0.8888888888888888,\"#fdca26\"],[1.0,\"#f0f921\"]],\"sequentialminus\":[[0.0,\"#0d0887\"],[0.1111111111111111,\"#46039f\"],[0.2222222222222222,\"#7201a8\"],[0.3333333333333333,\"#9c179e\"],[0.4444444444444444,\"#bd3786\"],[0.5555555555555556,\"#d8576b\"],[0.6666666666666666,\"#ed7953\"],[0.7777777777777778,\"#fb9f3a\"],[0.8888888888888888,\"#fdca26\"],[1.0,\"#f0f921\"]]},\"colorway\":[\"#636efa\",\"#EF553B\",\"#00cc96\",\"#ab63fa\",\"#FFA15A\",\"#19d3f3\",\"#FF6692\",\"#B6E880\",\"#FF97FF\",\"#FECB52\"],\"font\":{\"color\":\"#2a3f5f\"},\"geo\":{\"bgcolor\":\"white\",\"lakecolor\":\"white\",\"landcolor\":\"#E5ECF6\",\"showlakes\":true,\"showland\":true,\"subunitcolor\":\"white\"},\"hoverlabel\":{\"align\":\"left\"},\"hovermode\":\"closest\",\"mapbox\":{\"style\":\"light\"},\"paper_bgcolor\":\"white\",\"plot_bgcolor\":\"#E5ECF6\",\"polar\":{\"angularaxis\":{\"gridcolor\":\"white\",\"linecolor\":\"white\",\"ticks\":\"\"},\"bgcolor\":\"#E5ECF6\",\"radialaxis\":{\"gridcolor\":\"white\",\"linecolor\":\"white\",\"ticks\":\"\"}},\"scene\":{\"xaxis\":{\"backgroundcolor\":\"#E5ECF6\",\"gridcolor\":\"white\",\"gridwidth\":2,\"linecolor\":\"white\",\"showbackground\":true,\"ticks\":\"\",\"zerolinecolor\":\"white\"},\"yaxis\":{\"backgroundcolor\":\"#E5ECF6\",\"gridcolor\":\"white\",\"gridwidth\":2,\"linecolor\":\"white\",\"showbackground\":true,\"ticks\":\"\",\"zerolinecolor\":\"white\"},\"zaxis\":{\"backgroundcolor\":\"#E5ECF6\",\"gridcolor\":\"white\",\"gridwidth\":2,\"linecolor\":\"white\",\"showbackground\":true,\"ticks\":\"\",\"zerolinecolor\":\"white\"}},\"shapedefaults\":{\"line\":{\"color\":\"#2a3f5f\"}},\"ternary\":{\"aaxis\":{\"gridcolor\":\"white\",\"linecolor\":\"white\",\"ticks\":\"\"},\"baxis\":{\"gridcolor\":\"white\",\"linecolor\":\"white\",\"ticks\":\"\"},\"bgcolor\":\"#E5ECF6\",\"caxis\":{\"gridcolor\":\"white\",\"linecolor\":\"white\",\"ticks\":\"\"}},\"title\":{\"x\":0.05},\"xaxis\":{\"automargin\":true,\"gridcolor\":\"white\",\"linecolor\":\"white\",\"ticks\":\"\",\"title\":{\"standoff\":15},\"zerolinecolor\":\"white\",\"zerolinewidth\":2},\"yaxis\":{\"automargin\":true,\"gridcolor\":\"white\",\"linecolor\":\"white\",\"ticks\":\"\",\"title\":{\"standoff\":15},\"zerolinecolor\":\"white\",\"zerolinewidth\":2}}},\"title\":{\"font\":{\"color\":\"#4D5663\"}},\"xaxis\":{\"gridcolor\":\"#E1E5ED\",\"showgrid\":true,\"tickfont\":{\"color\":\"#4D5663\"},\"title\":{\"font\":{\"color\":\"#4D5663\"},\"text\":\"\"},\"zerolinecolor\":\"#E1E5ED\"},\"yaxis\":{\"gridcolor\":\"#E1E5ED\",\"showgrid\":true,\"tickfont\":{\"color\":\"#4D5663\"},\"title\":{\"font\":{\"color\":\"#4D5663\"},\"text\":\"\"},\"zerolinecolor\":\"#E1E5ED\"}},                        {\"showLink\": true, \"linkText\": \"Export to plot.ly\", \"plotlyServerURL\": \"https://plot.ly\", \"responsive\": true}                    ).then(function(){\n",
       "                            \n",
       "var gd = document.getElementById('9204ab81-e478-4272-a503-125090e44642');\n",
       "var x = new MutationObserver(function (mutations, observer) {{\n",
       "        var display = window.getComputedStyle(gd).display;\n",
       "        if (!display || display === 'none') {{\n",
       "            console.log([gd, 'removed!']);\n",
       "            Plotly.purge(gd);\n",
       "            observer.disconnect();\n",
       "        }}\n",
       "}});\n",
       "\n",
       "// Listen for the removal of the full notebook cells\n",
       "var notebookContainer = gd.closest('#notebook-container');\n",
       "if (notebookContainer) {{\n",
       "    x.observe(notebookContainer, {childList: true});\n",
       "}}\n",
       "\n",
       "// Listen for the clearing of the current output cell\n",
       "var outputEl = gd.closest('.output');\n",
       "if (outputEl) {{\n",
       "    x.observe(outputEl, {childList: true});\n",
       "}}\n",
       "\n",
       "                        })                };                });            </script>        </div>"
      ]
     },
     "metadata": {},
     "output_type": "display_data"
    }
   ],
   "source": [
    "df['A'].iplot(kind='hist',bins=25)"
   ]
  },
  {
   "cell_type": "code",
   "execution_count": 22,
   "id": "e09ba69f",
   "metadata": {},
   "outputs": [
    {
     "data": {
      "application/vnd.plotly.v1+json": {
       "config": {
        "linkText": "Export to plot.ly",
        "plotlyServerURL": "https://plot.ly",
        "showLink": true
       },
       "data": [
        {
         "histfunc": "count",
         "histnorm": "",
         "marker": {
          "color": "rgba(255, 153, 51, 1.0)",
          "line": {
           "color": "#4D5663",
           "width": 1.3
          }
         },
         "name": "A",
         "nbinsx": 25,
         "opacity": 0.8,
         "orientation": "v",
         "type": "histogram",
         "x": [
          -1.817020332442591,
          -0.48098196817947747,
          1.295157066086587,
          0.07915703940954168,
          -1.3099989138475427,
          0.06443502722863953,
          0.8429902338467029,
          -0.8773579775586074,
          0.46296346004057504,
          0.3460066752440415,
          -1.5090964258815225,
          -0.17929767315087017,
          1.3597925620525149,
          0.1044132807162975,
          0.634140345548099,
          0.6449694398149307,
          0.682739029598082,
          -1.071423148713151,
          1.3412141907457804,
          -2.0253607604150097,
          -0.6575006829762641,
          -0.17629534526442286,
          0.4323052492839113,
          0.6061579721571336,
          0.3390538872710677,
          0.2136221498914424,
          -0.9248743336982881,
          -0.4923106494685157,
          -0.14027220727513648,
          -0.1245854157414283,
          0.3754070935314772,
          0.6687968436024946,
          0.46090626794999184,
          0.6478439273174318,
          0.183863668146813,
          -1.279265961558031,
          0.802914519502553,
          -0.6617214233024067,
          0.40798053779705845,
          0.23659524715385208,
          -1.3116089276171852,
          -1.2724481063971438,
          -0.15342270238770084,
          -0.19734938689819756,
          1.1596643166619882,
          -0.005636088219923547,
          -0.6354557112936142,
          0.00841157757449361,
          0.48174320134418314,
          1.0213266264062488,
          0.3470778151363638,
          1.0253128059996828,
          0.7018347168264457,
          -2.009558285503277,
          0.403384354603036,
          -0.3462865536610784,
          0.6035616992595493,
          -0.30964050576847196,
          0.12320701101952627,
          1.335591270886312,
          0.36552633076117713,
          -1.3009197808756756,
          0.849189361840498,
          0.48156360348950894,
          -0.017253276895772475,
          -0.13428667687120988,
          -0.528177970082618,
          1.0196902755316413,
          1.3853643896167271,
          -0.6250839679301746,
          -1.3060891778316646,
          0.2980133963267906,
          -2.160297033004496,
          0.2376514887002878,
          0.6392880065901926,
          0.13454348300356517,
          -1.4637409882823738,
          1.0202755563129895,
          1.5880348353414337,
          0.07489399111775881,
          2.037016478459296,
          -0.251972946031691,
          0.8288506740682722,
          0.8955414611825695,
          1.2165389060864282,
          1.5064457727306413,
          0.061859146980210056,
          0.16475560467364941,
          0.728842764778092,
          0.38589650375284085,
          0.9594389862303899,
          -0.4598951496142224,
          -0.4720031339202954,
          1.0154972016695023,
          -0.3445588930132589,
          0.7210756485242339,
          -0.6826130598079807,
          0.5697110560318015,
          0.024064000147705544,
          -1.4702867469315202
         ]
        },
        {
         "histfunc": "count",
         "histnorm": "",
         "marker": {
          "color": "rgba(55, 128, 191, 1.0)",
          "line": {
           "color": "#4D5663",
           "width": 1.3
          }
         },
         "name": "B",
         "nbinsx": 25,
         "opacity": 0.8,
         "orientation": "v",
         "type": "histogram",
         "x": [
          -0.31958619878517447,
          0.12236833492550536,
          1.0005911448273535,
          0.11683245642945675,
          -0.036646303682910455,
          -1.4565555238871013,
          -0.22388894852612648,
          -0.6443526534508569,
          -1.2341426709423384,
          -0.26248492339228313,
          -1.3301360207440114,
          2.181530294928258,
          -0.7188285551019108,
          0.6261584800289558,
          1.0790046987515314,
          0.36993092952973244,
          -0.14854986225876715,
          -1.0551292102728689,
          -1.163712033089909,
          -1.035174477226583,
          -0.6923472344281039,
          -0.5829820471725831,
          0.10688564903208736,
          1.2901016578643634,
          -0.9861439072349416,
          -1.3403639860404626,
          0.5640300562054309,
          0.8521914504785596,
          -1.7725146263589386,
          -1.8445411092343604,
          -0.06880251081990287,
          1.250121225492265,
          0.06930813405963215,
          -1.0204497934376948,
          2.896448885000695,
          0.5435331300317845,
          1.1293824517425086,
          -0.3226727193654007,
          0.16828865849728697,
          -0.6309354652434254,
          -0.9557360051920409,
          -0.608525762156937,
          -0.2877608080766827,
          -0.767421864672971,
          0.8747239125952794,
          -1.5836537405323652,
          0.5932317169378237,
          0.22155467596449682,
          -0.2946398656833748,
          0.501013083160056,
          -1.4595035573437123,
          -0.600133196317449,
          0.4371009535768002,
          -2.210211643664322,
          0.3987946242518368,
          0.9673048599268973,
          -0.991473339820769,
          1.481431234489536,
          -0.03793162416476574,
          1.1079397655393566,
          -1.369508046106604,
          -0.1649378380752962,
          -0.7352150191288587,
          -1.4239325906110716,
          0.44200726961262254,
          1.0425740063040825,
          0.8844989386981145,
          -2.5816261775021685,
          -0.2990031997249988,
          0.039030433549701274,
          0.8455972801354262,
          0.4294742344327642,
          -0.43682471944814016,
          1.0841609285508675,
          1.1469454716518857,
          -0.2054363362461187,
          -0.5466324358704335,
          -0.7389366044575378,
          -0.16902628340572434,
          -0.19004248977568786,
          -0.49727220556567836,
          0.2796113263981927,
          -1.6861463695938166,
          0.17628961485402045,
          0.3854415954185394,
          -0.35792778347898646,
          -0.056004840344292366,
          0.7640036412727731,
          -1.3155218371664341,
          0.8607461279866138,
          -0.9632096083138955,
          0.2013845338042852,
          0.3273678055928306,
          2.151982269773717,
          -0.3337367592014226,
          -0.6715793937101349,
          -0.02262627338355212,
          -0.7333371089900023,
          0.3689449330022981,
          1.8709776079342886
         ]
        },
        {
         "histfunc": "count",
         "histnorm": "",
         "marker": {
          "color": "rgba(50, 171, 96, 1.0)",
          "line": {
           "color": "#4D5663",
           "width": 1.3
          }
         },
         "name": "C",
         "nbinsx": 25,
         "opacity": 0.8,
         "orientation": "v",
         "type": "histogram",
         "x": [
          1.0953767652329516,
          1.0674885235210942,
          0.10702710741239999,
          -0.954153685946803,
          -1.0117846817687348,
          -1.248748546330939,
          0.33573629591591553,
          0.09105282444780213,
          -0.740669148990467,
          0.5604153074363686,
          -1.156263488934967,
          0.14141745220162819,
          -0.02195036741740686,
          -2.574394766813021,
          1.112972665858067,
          -1.3959559717282959,
          -1.1084197955034893,
          0.9397167813130121,
          0.35865379355073923,
          -0.04091216165564142,
          0.5917460927696595,
          0.5633415574373425,
          1.0768777697973806,
          -0.580001604449778,
          -0.5408884505927388,
          -0.5570533340947074,
          -0.2794306786219015,
          -0.3758900285760739,
          -0.8436557055097003,
          0.9017423987486539,
          1.2137921129836033,
          -1.232651901917362,
          -0.4152255020506121,
          -0.5550741829104553,
          0.005357956882898781,
          0.7483435968141808,
          1.0011756713653068,
          0.5027780048241728,
          2.7357929212343897,
          1.074126071465053,
          0.5005699474096457,
          -0.5532408933133417,
          -1.2726558386937958,
          0.23731753540874181,
          -0.46520338349774676,
          -0.18438834613668895,
          1.2077286521868627,
          0.7236261545462045,
          -1.7204816845343944,
          -0.6023030332880979,
          0.7561440210904469,
          0.3021160942655366,
          -1.026907699608662,
          -1.2295098597943062,
          0.008325636100983063,
          0.8393746117529984,
          0.447264874149784,
          -0.27278041071657666,
          -0.15423198109448072,
          1.1368568316257275,
          0.4083911186319793,
          -0.07808427251102533,
          -1.1823655795878965,
          1.350417628424253,
          -1.7389847911330285,
          -2.5111769110929747,
          1.2373754600798792,
          -0.31803011445916834,
          0.8351509287147442,
          -0.30933408602372775,
          -0.1067106096295591,
          1.1586410521599493,
          0.1932555811594735,
          0.5076663310320605,
          0.5205839863841363,
          0.7794023849824213,
          -0.8454694626466698,
          0.8667120603331698,
          0.44391874737678555,
          -0.3923489773262638,
          1.3049769621906229,
          -1.3216687973535155,
          -0.8227690572169466,
          -0.36828489240639184,
          0.8637341876668951,
          -0.9498737456139357,
          -1.2237244938865248,
          -1.71936208493555,
          1.264675054118327,
          1.8082347255878342,
          -0.29550822133963267,
          -1.8490463992435888,
          -0.44822613089839825,
          -0.5180106310307114,
          -0.7485568101153796,
          1.6027585948517178,
          0.9627790218198398,
          -0.09776738470744424,
          -0.4061162842529637,
          -0.5613978392914967
         ]
        },
        {
         "histfunc": "count",
         "histnorm": "",
         "marker": {
          "color": "rgba(128, 0, 128, 1.0)",
          "line": {
           "color": "#4D5663",
           "width": 1.3
          }
         },
         "name": "D",
         "nbinsx": 25,
         "opacity": 0.8,
         "orientation": "v",
         "type": "histogram",
         "x": [
          -0.16698152242796563,
          0.26909329242327334,
          1.5100358375326823,
          0.08893402499514612,
          0.3796726622869942,
          1.8466081554109595,
          0.7040953011510183,
          1.2107636630222662,
          -1.2132296943762197,
          0.879627776754263,
          0.5684442976238012,
          0.5298693940071432,
          -1.674269720437406,
          -0.912630414643611,
          -0.7450917733255941,
          0.0422315272816017,
          -0.3515786869274323,
          1.128527129929655,
          0.9006598876114357,
          -0.34734454559643285,
          -0.3775530324157638,
          -0.21896031926161155,
          0.6478642022089207,
          0.03343285934465391,
          0.8527080991567603,
          -1.1969041163602225,
          1.9810558476039732,
          1.120547376095395,
          -1.9054245027503434,
          0.006929944895255636,
          -1.659883647300653,
          0.51534756102324,
          -0.6176288613825067,
          0.4894694399004788,
          0.5476513689136442,
          0.23584525422475605,
          0.6765460870220769,
          1.916526649821652,
          -0.5729473164384696,
          -1.1853537263517948,
          0.5250366640704713,
          0.03116538517875106,
          -1.243805002108966,
          2.5054193469654042,
          -0.931674239439011,
          -0.4407047224344251,
          -1.2779631173347277,
          -0.7451552297858708,
          0.16478287627577923,
          -1.536865594100219,
          -0.5492611476389664,
          -1.2020303838909674,
          1.337800596471134,
          -0.7980175083892986,
          -1.7696049050138287,
          1.7205949177799915,
          -0.8374118874503188,
          -0.10200136859410983,
          0.01089359859617445,
          0.38358872385159665,
          -0.6160978721745863,
          1.4212623611327182,
          -0.6977551920042057,
          -0.5392560208548826,
          -0.6798260298979372,
          1.2506897853538967,
          -0.23508022203878431,
          0.051804134866280695,
          1.421969711559989,
          -0.5014909849806081,
          1.3379500662712527,
          0.05097568818349346,
          0.3678045414217921,
          0.7844918957876057,
          -0.705664301427625,
          1.908043541102815,
          0.4547664385782509,
          -0.14515610401424958,
          0.8650018400071103,
          0.20120409997833696,
          -1.3480905218314831,
          -1.1842695424955942,
          0.035976627980285544,
          -1.1762328800400228,
          0.5653576799028618,
          0.20074002962261614,
          0.4340173162164649,
          1.3918213975265494,
          0.05222207533041211,
          0.858455625929984,
          -0.7802769532459792,
          -0.12769731696154077,
          -0.04299642426099226,
          0.7761664124267653,
          -0.2950514354006721,
          1.9645412563420428,
          -0.5112906137510908,
          0.7658714369035079,
          -2.0785366758572157,
          -0.8881901513191027
         ]
        }
       ],
       "layout": {
        "barmode": "overlay",
        "legend": {
         "bgcolor": "#F5F6F9",
         "font": {
          "color": "#4D5663"
         }
        },
        "paper_bgcolor": "#F5F6F9",
        "plot_bgcolor": "#F5F6F9",
        "template": {
         "data": {
          "bar": [
           {
            "error_x": {
             "color": "#2a3f5f"
            },
            "error_y": {
             "color": "#2a3f5f"
            },
            "marker": {
             "line": {
              "color": "#E5ECF6",
              "width": 0.5
             },
             "pattern": {
              "fillmode": "overlay",
              "size": 10,
              "solidity": 0.2
             }
            },
            "type": "bar"
           }
          ],
          "barpolar": [
           {
            "marker": {
             "line": {
              "color": "#E5ECF6",
              "width": 0.5
             },
             "pattern": {
              "fillmode": "overlay",
              "size": 10,
              "solidity": 0.2
             }
            },
            "type": "barpolar"
           }
          ],
          "carpet": [
           {
            "aaxis": {
             "endlinecolor": "#2a3f5f",
             "gridcolor": "white",
             "linecolor": "white",
             "minorgridcolor": "white",
             "startlinecolor": "#2a3f5f"
            },
            "baxis": {
             "endlinecolor": "#2a3f5f",
             "gridcolor": "white",
             "linecolor": "white",
             "minorgridcolor": "white",
             "startlinecolor": "#2a3f5f"
            },
            "type": "carpet"
           }
          ],
          "choropleth": [
           {
            "colorbar": {
             "outlinewidth": 0,
             "ticks": ""
            },
            "type": "choropleth"
           }
          ],
          "contour": [
           {
            "colorbar": {
             "outlinewidth": 0,
             "ticks": ""
            },
            "colorscale": [
             [
              0,
              "#0d0887"
             ],
             [
              0.1111111111111111,
              "#46039f"
             ],
             [
              0.2222222222222222,
              "#7201a8"
             ],
             [
              0.3333333333333333,
              "#9c179e"
             ],
             [
              0.4444444444444444,
              "#bd3786"
             ],
             [
              0.5555555555555556,
              "#d8576b"
             ],
             [
              0.6666666666666666,
              "#ed7953"
             ],
             [
              0.7777777777777778,
              "#fb9f3a"
             ],
             [
              0.8888888888888888,
              "#fdca26"
             ],
             [
              1,
              "#f0f921"
             ]
            ],
            "type": "contour"
           }
          ],
          "contourcarpet": [
           {
            "colorbar": {
             "outlinewidth": 0,
             "ticks": ""
            },
            "type": "contourcarpet"
           }
          ],
          "heatmap": [
           {
            "colorbar": {
             "outlinewidth": 0,
             "ticks": ""
            },
            "colorscale": [
             [
              0,
              "#0d0887"
             ],
             [
              0.1111111111111111,
              "#46039f"
             ],
             [
              0.2222222222222222,
              "#7201a8"
             ],
             [
              0.3333333333333333,
              "#9c179e"
             ],
             [
              0.4444444444444444,
              "#bd3786"
             ],
             [
              0.5555555555555556,
              "#d8576b"
             ],
             [
              0.6666666666666666,
              "#ed7953"
             ],
             [
              0.7777777777777778,
              "#fb9f3a"
             ],
             [
              0.8888888888888888,
              "#fdca26"
             ],
             [
              1,
              "#f0f921"
             ]
            ],
            "type": "heatmap"
           }
          ],
          "heatmapgl": [
           {
            "colorbar": {
             "outlinewidth": 0,
             "ticks": ""
            },
            "colorscale": [
             [
              0,
              "#0d0887"
             ],
             [
              0.1111111111111111,
              "#46039f"
             ],
             [
              0.2222222222222222,
              "#7201a8"
             ],
             [
              0.3333333333333333,
              "#9c179e"
             ],
             [
              0.4444444444444444,
              "#bd3786"
             ],
             [
              0.5555555555555556,
              "#d8576b"
             ],
             [
              0.6666666666666666,
              "#ed7953"
             ],
             [
              0.7777777777777778,
              "#fb9f3a"
             ],
             [
              0.8888888888888888,
              "#fdca26"
             ],
             [
              1,
              "#f0f921"
             ]
            ],
            "type": "heatmapgl"
           }
          ],
          "histogram": [
           {
            "marker": {
             "pattern": {
              "fillmode": "overlay",
              "size": 10,
              "solidity": 0.2
             }
            },
            "type": "histogram"
           }
          ],
          "histogram2d": [
           {
            "colorbar": {
             "outlinewidth": 0,
             "ticks": ""
            },
            "colorscale": [
             [
              0,
              "#0d0887"
             ],
             [
              0.1111111111111111,
              "#46039f"
             ],
             [
              0.2222222222222222,
              "#7201a8"
             ],
             [
              0.3333333333333333,
              "#9c179e"
             ],
             [
              0.4444444444444444,
              "#bd3786"
             ],
             [
              0.5555555555555556,
              "#d8576b"
             ],
             [
              0.6666666666666666,
              "#ed7953"
             ],
             [
              0.7777777777777778,
              "#fb9f3a"
             ],
             [
              0.8888888888888888,
              "#fdca26"
             ],
             [
              1,
              "#f0f921"
             ]
            ],
            "type": "histogram2d"
           }
          ],
          "histogram2dcontour": [
           {
            "colorbar": {
             "outlinewidth": 0,
             "ticks": ""
            },
            "colorscale": [
             [
              0,
              "#0d0887"
             ],
             [
              0.1111111111111111,
              "#46039f"
             ],
             [
              0.2222222222222222,
              "#7201a8"
             ],
             [
              0.3333333333333333,
              "#9c179e"
             ],
             [
              0.4444444444444444,
              "#bd3786"
             ],
             [
              0.5555555555555556,
              "#d8576b"
             ],
             [
              0.6666666666666666,
              "#ed7953"
             ],
             [
              0.7777777777777778,
              "#fb9f3a"
             ],
             [
              0.8888888888888888,
              "#fdca26"
             ],
             [
              1,
              "#f0f921"
             ]
            ],
            "type": "histogram2dcontour"
           }
          ],
          "mesh3d": [
           {
            "colorbar": {
             "outlinewidth": 0,
             "ticks": ""
            },
            "type": "mesh3d"
           }
          ],
          "parcoords": [
           {
            "line": {
             "colorbar": {
              "outlinewidth": 0,
              "ticks": ""
             }
            },
            "type": "parcoords"
           }
          ],
          "pie": [
           {
            "automargin": true,
            "type": "pie"
           }
          ],
          "scatter": [
           {
            "marker": {
             "colorbar": {
              "outlinewidth": 0,
              "ticks": ""
             }
            },
            "type": "scatter"
           }
          ],
          "scatter3d": [
           {
            "line": {
             "colorbar": {
              "outlinewidth": 0,
              "ticks": ""
             }
            },
            "marker": {
             "colorbar": {
              "outlinewidth": 0,
              "ticks": ""
             }
            },
            "type": "scatter3d"
           }
          ],
          "scattercarpet": [
           {
            "marker": {
             "colorbar": {
              "outlinewidth": 0,
              "ticks": ""
             }
            },
            "type": "scattercarpet"
           }
          ],
          "scattergeo": [
           {
            "marker": {
             "colorbar": {
              "outlinewidth": 0,
              "ticks": ""
             }
            },
            "type": "scattergeo"
           }
          ],
          "scattergl": [
           {
            "marker": {
             "colorbar": {
              "outlinewidth": 0,
              "ticks": ""
             }
            },
            "type": "scattergl"
           }
          ],
          "scattermapbox": [
           {
            "marker": {
             "colorbar": {
              "outlinewidth": 0,
              "ticks": ""
             }
            },
            "type": "scattermapbox"
           }
          ],
          "scatterpolar": [
           {
            "marker": {
             "colorbar": {
              "outlinewidth": 0,
              "ticks": ""
             }
            },
            "type": "scatterpolar"
           }
          ],
          "scatterpolargl": [
           {
            "marker": {
             "colorbar": {
              "outlinewidth": 0,
              "ticks": ""
             }
            },
            "type": "scatterpolargl"
           }
          ],
          "scatterternary": [
           {
            "marker": {
             "colorbar": {
              "outlinewidth": 0,
              "ticks": ""
             }
            },
            "type": "scatterternary"
           }
          ],
          "surface": [
           {
            "colorbar": {
             "outlinewidth": 0,
             "ticks": ""
            },
            "colorscale": [
             [
              0,
              "#0d0887"
             ],
             [
              0.1111111111111111,
              "#46039f"
             ],
             [
              0.2222222222222222,
              "#7201a8"
             ],
             [
              0.3333333333333333,
              "#9c179e"
             ],
             [
              0.4444444444444444,
              "#bd3786"
             ],
             [
              0.5555555555555556,
              "#d8576b"
             ],
             [
              0.6666666666666666,
              "#ed7953"
             ],
             [
              0.7777777777777778,
              "#fb9f3a"
             ],
             [
              0.8888888888888888,
              "#fdca26"
             ],
             [
              1,
              "#f0f921"
             ]
            ],
            "type": "surface"
           }
          ],
          "table": [
           {
            "cells": {
             "fill": {
              "color": "#EBF0F8"
             },
             "line": {
              "color": "white"
             }
            },
            "header": {
             "fill": {
              "color": "#C8D4E3"
             },
             "line": {
              "color": "white"
             }
            },
            "type": "table"
           }
          ]
         },
         "layout": {
          "annotationdefaults": {
           "arrowcolor": "#2a3f5f",
           "arrowhead": 0,
           "arrowwidth": 1
          },
          "autotypenumbers": "strict",
          "coloraxis": {
           "colorbar": {
            "outlinewidth": 0,
            "ticks": ""
           }
          },
          "colorscale": {
           "diverging": [
            [
             0,
             "#8e0152"
            ],
            [
             0.1,
             "#c51b7d"
            ],
            [
             0.2,
             "#de77ae"
            ],
            [
             0.3,
             "#f1b6da"
            ],
            [
             0.4,
             "#fde0ef"
            ],
            [
             0.5,
             "#f7f7f7"
            ],
            [
             0.6,
             "#e6f5d0"
            ],
            [
             0.7,
             "#b8e186"
            ],
            [
             0.8,
             "#7fbc41"
            ],
            [
             0.9,
             "#4d9221"
            ],
            [
             1,
             "#276419"
            ]
           ],
           "sequential": [
            [
             0,
             "#0d0887"
            ],
            [
             0.1111111111111111,
             "#46039f"
            ],
            [
             0.2222222222222222,
             "#7201a8"
            ],
            [
             0.3333333333333333,
             "#9c179e"
            ],
            [
             0.4444444444444444,
             "#bd3786"
            ],
            [
             0.5555555555555556,
             "#d8576b"
            ],
            [
             0.6666666666666666,
             "#ed7953"
            ],
            [
             0.7777777777777778,
             "#fb9f3a"
            ],
            [
             0.8888888888888888,
             "#fdca26"
            ],
            [
             1,
             "#f0f921"
            ]
           ],
           "sequentialminus": [
            [
             0,
             "#0d0887"
            ],
            [
             0.1111111111111111,
             "#46039f"
            ],
            [
             0.2222222222222222,
             "#7201a8"
            ],
            [
             0.3333333333333333,
             "#9c179e"
            ],
            [
             0.4444444444444444,
             "#bd3786"
            ],
            [
             0.5555555555555556,
             "#d8576b"
            ],
            [
             0.6666666666666666,
             "#ed7953"
            ],
            [
             0.7777777777777778,
             "#fb9f3a"
            ],
            [
             0.8888888888888888,
             "#fdca26"
            ],
            [
             1,
             "#f0f921"
            ]
           ]
          },
          "colorway": [
           "#636efa",
           "#EF553B",
           "#00cc96",
           "#ab63fa",
           "#FFA15A",
           "#19d3f3",
           "#FF6692",
           "#B6E880",
           "#FF97FF",
           "#FECB52"
          ],
          "font": {
           "color": "#2a3f5f"
          },
          "geo": {
           "bgcolor": "white",
           "lakecolor": "white",
           "landcolor": "#E5ECF6",
           "showlakes": true,
           "showland": true,
           "subunitcolor": "white"
          },
          "hoverlabel": {
           "align": "left"
          },
          "hovermode": "closest",
          "mapbox": {
           "style": "light"
          },
          "paper_bgcolor": "white",
          "plot_bgcolor": "#E5ECF6",
          "polar": {
           "angularaxis": {
            "gridcolor": "white",
            "linecolor": "white",
            "ticks": ""
           },
           "bgcolor": "#E5ECF6",
           "radialaxis": {
            "gridcolor": "white",
            "linecolor": "white",
            "ticks": ""
           }
          },
          "scene": {
           "xaxis": {
            "backgroundcolor": "#E5ECF6",
            "gridcolor": "white",
            "gridwidth": 2,
            "linecolor": "white",
            "showbackground": true,
            "ticks": "",
            "zerolinecolor": "white"
           },
           "yaxis": {
            "backgroundcolor": "#E5ECF6",
            "gridcolor": "white",
            "gridwidth": 2,
            "linecolor": "white",
            "showbackground": true,
            "ticks": "",
            "zerolinecolor": "white"
           },
           "zaxis": {
            "backgroundcolor": "#E5ECF6",
            "gridcolor": "white",
            "gridwidth": 2,
            "linecolor": "white",
            "showbackground": true,
            "ticks": "",
            "zerolinecolor": "white"
           }
          },
          "shapedefaults": {
           "line": {
            "color": "#2a3f5f"
           }
          },
          "ternary": {
           "aaxis": {
            "gridcolor": "white",
            "linecolor": "white",
            "ticks": ""
           },
           "baxis": {
            "gridcolor": "white",
            "linecolor": "white",
            "ticks": ""
           },
           "bgcolor": "#E5ECF6",
           "caxis": {
            "gridcolor": "white",
            "linecolor": "white",
            "ticks": ""
           }
          },
          "title": {
           "x": 0.05
          },
          "xaxis": {
           "automargin": true,
           "gridcolor": "white",
           "linecolor": "white",
           "ticks": "",
           "title": {
            "standoff": 15
           },
           "zerolinecolor": "white",
           "zerolinewidth": 2
          },
          "yaxis": {
           "automargin": true,
           "gridcolor": "white",
           "linecolor": "white",
           "ticks": "",
           "title": {
            "standoff": 15
           },
           "zerolinecolor": "white",
           "zerolinewidth": 2
          }
         }
        },
        "title": {
         "font": {
          "color": "#4D5663"
         }
        },
        "xaxis": {
         "gridcolor": "#E1E5ED",
         "showgrid": true,
         "tickfont": {
          "color": "#4D5663"
         },
         "title": {
          "font": {
           "color": "#4D5663"
          },
          "text": ""
         },
         "zerolinecolor": "#E1E5ED"
        },
        "yaxis": {
         "gridcolor": "#E1E5ED",
         "showgrid": true,
         "tickfont": {
          "color": "#4D5663"
         },
         "title": {
          "font": {
           "color": "#4D5663"
          },
          "text": ""
         },
         "zerolinecolor": "#E1E5ED"
        }
       }
      },
      "text/html": [
       "<div>                            <div id=\"6a03abd4-5c0c-4558-9775-1200cf42356c\" class=\"plotly-graph-div\" style=\"height:525px; width:100%;\"></div>            <script type=\"text/javascript\">                require([\"plotly\"], function(Plotly) {                    window.PLOTLYENV=window.PLOTLYENV || {};\n",
       "                    window.PLOTLYENV.BASE_URL='https://plot.ly';                                    if (document.getElementById(\"6a03abd4-5c0c-4558-9775-1200cf42356c\")) {                    Plotly.newPlot(                        \"6a03abd4-5c0c-4558-9775-1200cf42356c\",                        [{\"histfunc\":\"count\",\"histnorm\":\"\",\"marker\":{\"color\":\"rgba(255, 153, 51, 1.0)\",\"line\":{\"color\":\"#4D5663\",\"width\":1.3}},\"name\":\"A\",\"nbinsx\":25,\"opacity\":0.8,\"orientation\":\"v\",\"x\":[-1.817020332442591,-0.48098196817947747,1.295157066086587,0.07915703940954168,-1.3099989138475427,0.06443502722863953,0.8429902338467029,-0.8773579775586074,0.46296346004057504,0.3460066752440415,-1.5090964258815225,-0.17929767315087017,1.3597925620525149,0.1044132807162975,0.634140345548099,0.6449694398149307,0.682739029598082,-1.071423148713151,1.3412141907457804,-2.0253607604150097,-0.6575006829762641,-0.17629534526442286,0.4323052492839113,0.6061579721571336,0.3390538872710677,0.2136221498914424,-0.9248743336982881,-0.4923106494685157,-0.14027220727513648,-0.1245854157414283,0.3754070935314772,0.6687968436024946,0.46090626794999184,0.6478439273174318,0.183863668146813,-1.279265961558031,0.802914519502553,-0.6617214233024067,0.40798053779705845,0.23659524715385208,-1.3116089276171852,-1.2724481063971438,-0.15342270238770084,-0.19734938689819756,1.1596643166619882,-0.005636088219923547,-0.6354557112936142,0.00841157757449361,0.48174320134418314,1.0213266264062488,0.3470778151363638,1.0253128059996828,0.7018347168264457,-2.009558285503277,0.403384354603036,-0.3462865536610784,0.6035616992595493,-0.30964050576847196,0.12320701101952627,1.335591270886312,0.36552633076117713,-1.3009197808756756,0.849189361840498,0.48156360348950894,-0.017253276895772475,-0.13428667687120988,-0.528177970082618,1.0196902755316413,1.3853643896167271,-0.6250839679301746,-1.3060891778316646,0.2980133963267906,-2.160297033004496,0.2376514887002878,0.6392880065901926,0.13454348300356517,-1.4637409882823738,1.0202755563129895,1.5880348353414337,0.07489399111775881,2.037016478459296,-0.251972946031691,0.8288506740682722,0.8955414611825695,1.2165389060864282,1.5064457727306413,0.061859146980210056,0.16475560467364941,0.728842764778092,0.38589650375284085,0.9594389862303899,-0.4598951496142224,-0.4720031339202954,1.0154972016695023,-0.3445588930132589,0.7210756485242339,-0.6826130598079807,0.5697110560318015,0.024064000147705544,-1.4702867469315202],\"type\":\"histogram\"},{\"histfunc\":\"count\",\"histnorm\":\"\",\"marker\":{\"color\":\"rgba(55, 128, 191, 1.0)\",\"line\":{\"color\":\"#4D5663\",\"width\":1.3}},\"name\":\"B\",\"nbinsx\":25,\"opacity\":0.8,\"orientation\":\"v\",\"x\":[-0.31958619878517447,0.12236833492550536,1.0005911448273535,0.11683245642945675,-0.036646303682910455,-1.4565555238871013,-0.22388894852612648,-0.6443526534508569,-1.2341426709423384,-0.26248492339228313,-1.3301360207440114,2.181530294928258,-0.7188285551019108,0.6261584800289558,1.0790046987515314,0.36993092952973244,-0.14854986225876715,-1.0551292102728689,-1.163712033089909,-1.035174477226583,-0.6923472344281039,-0.5829820471725831,0.10688564903208736,1.2901016578643634,-0.9861439072349416,-1.3403639860404626,0.5640300562054309,0.8521914504785596,-1.7725146263589386,-1.8445411092343604,-0.06880251081990287,1.250121225492265,0.06930813405963215,-1.0204497934376948,2.896448885000695,0.5435331300317845,1.1293824517425086,-0.3226727193654007,0.16828865849728697,-0.6309354652434254,-0.9557360051920409,-0.608525762156937,-0.2877608080766827,-0.767421864672971,0.8747239125952794,-1.5836537405323652,0.5932317169378237,0.22155467596449682,-0.2946398656833748,0.501013083160056,-1.4595035573437123,-0.600133196317449,0.4371009535768002,-2.210211643664322,0.3987946242518368,0.9673048599268973,-0.991473339820769,1.481431234489536,-0.03793162416476574,1.1079397655393566,-1.369508046106604,-0.1649378380752962,-0.7352150191288587,-1.4239325906110716,0.44200726961262254,1.0425740063040825,0.8844989386981145,-2.5816261775021685,-0.2990031997249988,0.039030433549701274,0.8455972801354262,0.4294742344327642,-0.43682471944814016,1.0841609285508675,1.1469454716518857,-0.2054363362461187,-0.5466324358704335,-0.7389366044575378,-0.16902628340572434,-0.19004248977568786,-0.49727220556567836,0.2796113263981927,-1.6861463695938166,0.17628961485402045,0.3854415954185394,-0.35792778347898646,-0.056004840344292366,0.7640036412727731,-1.3155218371664341,0.8607461279866138,-0.9632096083138955,0.2013845338042852,0.3273678055928306,2.151982269773717,-0.3337367592014226,-0.6715793937101349,-0.02262627338355212,-0.7333371089900023,0.3689449330022981,1.8709776079342886],\"type\":\"histogram\"},{\"histfunc\":\"count\",\"histnorm\":\"\",\"marker\":{\"color\":\"rgba(50, 171, 96, 1.0)\",\"line\":{\"color\":\"#4D5663\",\"width\":1.3}},\"name\":\"C\",\"nbinsx\":25,\"opacity\":0.8,\"orientation\":\"v\",\"x\":[1.0953767652329516,1.0674885235210942,0.10702710741239999,-0.954153685946803,-1.0117846817687348,-1.248748546330939,0.33573629591591553,0.09105282444780213,-0.740669148990467,0.5604153074363686,-1.156263488934967,0.14141745220162819,-0.02195036741740686,-2.574394766813021,1.112972665858067,-1.3959559717282959,-1.1084197955034893,0.9397167813130121,0.35865379355073923,-0.04091216165564142,0.5917460927696595,0.5633415574373425,1.0768777697973806,-0.580001604449778,-0.5408884505927388,-0.5570533340947074,-0.2794306786219015,-0.3758900285760739,-0.8436557055097003,0.9017423987486539,1.2137921129836033,-1.232651901917362,-0.4152255020506121,-0.5550741829104553,0.005357956882898781,0.7483435968141808,1.0011756713653068,0.5027780048241728,2.7357929212343897,1.074126071465053,0.5005699474096457,-0.5532408933133417,-1.2726558386937958,0.23731753540874181,-0.46520338349774676,-0.18438834613668895,1.2077286521868627,0.7236261545462045,-1.7204816845343944,-0.6023030332880979,0.7561440210904469,0.3021160942655366,-1.026907699608662,-1.2295098597943062,0.008325636100983063,0.8393746117529984,0.447264874149784,-0.27278041071657666,-0.15423198109448072,1.1368568316257275,0.4083911186319793,-0.07808427251102533,-1.1823655795878965,1.350417628424253,-1.7389847911330285,-2.5111769110929747,1.2373754600798792,-0.31803011445916834,0.8351509287147442,-0.30933408602372775,-0.1067106096295591,1.1586410521599493,0.1932555811594735,0.5076663310320605,0.5205839863841363,0.7794023849824213,-0.8454694626466698,0.8667120603331698,0.44391874737678555,-0.3923489773262638,1.3049769621906229,-1.3216687973535155,-0.8227690572169466,-0.36828489240639184,0.8637341876668951,-0.9498737456139357,-1.2237244938865248,-1.71936208493555,1.264675054118327,1.8082347255878342,-0.29550822133963267,-1.8490463992435888,-0.44822613089839825,-0.5180106310307114,-0.7485568101153796,1.6027585948517178,0.9627790218198398,-0.09776738470744424,-0.4061162842529637,-0.5613978392914967],\"type\":\"histogram\"},{\"histfunc\":\"count\",\"histnorm\":\"\",\"marker\":{\"color\":\"rgba(128, 0, 128, 1.0)\",\"line\":{\"color\":\"#4D5663\",\"width\":1.3}},\"name\":\"D\",\"nbinsx\":25,\"opacity\":0.8,\"orientation\":\"v\",\"x\":[-0.16698152242796563,0.26909329242327334,1.5100358375326823,0.08893402499514612,0.3796726622869942,1.8466081554109595,0.7040953011510183,1.2107636630222662,-1.2132296943762197,0.879627776754263,0.5684442976238012,0.5298693940071432,-1.674269720437406,-0.912630414643611,-0.7450917733255941,0.0422315272816017,-0.3515786869274323,1.128527129929655,0.9006598876114357,-0.34734454559643285,-0.3775530324157638,-0.21896031926161155,0.6478642022089207,0.03343285934465391,0.8527080991567603,-1.1969041163602225,1.9810558476039732,1.120547376095395,-1.9054245027503434,0.006929944895255636,-1.659883647300653,0.51534756102324,-0.6176288613825067,0.4894694399004788,0.5476513689136442,0.23584525422475605,0.6765460870220769,1.916526649821652,-0.5729473164384696,-1.1853537263517948,0.5250366640704713,0.03116538517875106,-1.243805002108966,2.5054193469654042,-0.931674239439011,-0.4407047224344251,-1.2779631173347277,-0.7451552297858708,0.16478287627577923,-1.536865594100219,-0.5492611476389664,-1.2020303838909674,1.337800596471134,-0.7980175083892986,-1.7696049050138287,1.7205949177799915,-0.8374118874503188,-0.10200136859410983,0.01089359859617445,0.38358872385159665,-0.6160978721745863,1.4212623611327182,-0.6977551920042057,-0.5392560208548826,-0.6798260298979372,1.2506897853538967,-0.23508022203878431,0.051804134866280695,1.421969711559989,-0.5014909849806081,1.3379500662712527,0.05097568818349346,0.3678045414217921,0.7844918957876057,-0.705664301427625,1.908043541102815,0.4547664385782509,-0.14515610401424958,0.8650018400071103,0.20120409997833696,-1.3480905218314831,-1.1842695424955942,0.035976627980285544,-1.1762328800400228,0.5653576799028618,0.20074002962261614,0.4340173162164649,1.3918213975265494,0.05222207533041211,0.858455625929984,-0.7802769532459792,-0.12769731696154077,-0.04299642426099226,0.7761664124267653,-0.2950514354006721,1.9645412563420428,-0.5112906137510908,0.7658714369035079,-2.0785366758572157,-0.8881901513191027],\"type\":\"histogram\"}],                        {\"barmode\":\"overlay\",\"legend\":{\"bgcolor\":\"#F5F6F9\",\"font\":{\"color\":\"#4D5663\"}},\"paper_bgcolor\":\"#F5F6F9\",\"plot_bgcolor\":\"#F5F6F9\",\"template\":{\"data\":{\"barpolar\":[{\"marker\":{\"line\":{\"color\":\"#E5ECF6\",\"width\":0.5},\"pattern\":{\"fillmode\":\"overlay\",\"size\":10,\"solidity\":0.2}},\"type\":\"barpolar\"}],\"bar\":[{\"error_x\":{\"color\":\"#2a3f5f\"},\"error_y\":{\"color\":\"#2a3f5f\"},\"marker\":{\"line\":{\"color\":\"#E5ECF6\",\"width\":0.5},\"pattern\":{\"fillmode\":\"overlay\",\"size\":10,\"solidity\":0.2}},\"type\":\"bar\"}],\"carpet\":[{\"aaxis\":{\"endlinecolor\":\"#2a3f5f\",\"gridcolor\":\"white\",\"linecolor\":\"white\",\"minorgridcolor\":\"white\",\"startlinecolor\":\"#2a3f5f\"},\"baxis\":{\"endlinecolor\":\"#2a3f5f\",\"gridcolor\":\"white\",\"linecolor\":\"white\",\"minorgridcolor\":\"white\",\"startlinecolor\":\"#2a3f5f\"},\"type\":\"carpet\"}],\"choropleth\":[{\"colorbar\":{\"outlinewidth\":0,\"ticks\":\"\"},\"type\":\"choropleth\"}],\"contourcarpet\":[{\"colorbar\":{\"outlinewidth\":0,\"ticks\":\"\"},\"type\":\"contourcarpet\"}],\"contour\":[{\"colorbar\":{\"outlinewidth\":0,\"ticks\":\"\"},\"colorscale\":[[0.0,\"#0d0887\"],[0.1111111111111111,\"#46039f\"],[0.2222222222222222,\"#7201a8\"],[0.3333333333333333,\"#9c179e\"],[0.4444444444444444,\"#bd3786\"],[0.5555555555555556,\"#d8576b\"],[0.6666666666666666,\"#ed7953\"],[0.7777777777777778,\"#fb9f3a\"],[0.8888888888888888,\"#fdca26\"],[1.0,\"#f0f921\"]],\"type\":\"contour\"}],\"heatmapgl\":[{\"colorbar\":{\"outlinewidth\":0,\"ticks\":\"\"},\"colorscale\":[[0.0,\"#0d0887\"],[0.1111111111111111,\"#46039f\"],[0.2222222222222222,\"#7201a8\"],[0.3333333333333333,\"#9c179e\"],[0.4444444444444444,\"#bd3786\"],[0.5555555555555556,\"#d8576b\"],[0.6666666666666666,\"#ed7953\"],[0.7777777777777778,\"#fb9f3a\"],[0.8888888888888888,\"#fdca26\"],[1.0,\"#f0f921\"]],\"type\":\"heatmapgl\"}],\"heatmap\":[{\"colorbar\":{\"outlinewidth\":0,\"ticks\":\"\"},\"colorscale\":[[0.0,\"#0d0887\"],[0.1111111111111111,\"#46039f\"],[0.2222222222222222,\"#7201a8\"],[0.3333333333333333,\"#9c179e\"],[0.4444444444444444,\"#bd3786\"],[0.5555555555555556,\"#d8576b\"],[0.6666666666666666,\"#ed7953\"],[0.7777777777777778,\"#fb9f3a\"],[0.8888888888888888,\"#fdca26\"],[1.0,\"#f0f921\"]],\"type\":\"heatmap\"}],\"histogram2dcontour\":[{\"colorbar\":{\"outlinewidth\":0,\"ticks\":\"\"},\"colorscale\":[[0.0,\"#0d0887\"],[0.1111111111111111,\"#46039f\"],[0.2222222222222222,\"#7201a8\"],[0.3333333333333333,\"#9c179e\"],[0.4444444444444444,\"#bd3786\"],[0.5555555555555556,\"#d8576b\"],[0.6666666666666666,\"#ed7953\"],[0.7777777777777778,\"#fb9f3a\"],[0.8888888888888888,\"#fdca26\"],[1.0,\"#f0f921\"]],\"type\":\"histogram2dcontour\"}],\"histogram2d\":[{\"colorbar\":{\"outlinewidth\":0,\"ticks\":\"\"},\"colorscale\":[[0.0,\"#0d0887\"],[0.1111111111111111,\"#46039f\"],[0.2222222222222222,\"#7201a8\"],[0.3333333333333333,\"#9c179e\"],[0.4444444444444444,\"#bd3786\"],[0.5555555555555556,\"#d8576b\"],[0.6666666666666666,\"#ed7953\"],[0.7777777777777778,\"#fb9f3a\"],[0.8888888888888888,\"#fdca26\"],[1.0,\"#f0f921\"]],\"type\":\"histogram2d\"}],\"histogram\":[{\"marker\":{\"pattern\":{\"fillmode\":\"overlay\",\"size\":10,\"solidity\":0.2}},\"type\":\"histogram\"}],\"mesh3d\":[{\"colorbar\":{\"outlinewidth\":0,\"ticks\":\"\"},\"type\":\"mesh3d\"}],\"parcoords\":[{\"line\":{\"colorbar\":{\"outlinewidth\":0,\"ticks\":\"\"}},\"type\":\"parcoords\"}],\"pie\":[{\"automargin\":true,\"type\":\"pie\"}],\"scatter3d\":[{\"line\":{\"colorbar\":{\"outlinewidth\":0,\"ticks\":\"\"}},\"marker\":{\"colorbar\":{\"outlinewidth\":0,\"ticks\":\"\"}},\"type\":\"scatter3d\"}],\"scattercarpet\":[{\"marker\":{\"colorbar\":{\"outlinewidth\":0,\"ticks\":\"\"}},\"type\":\"scattercarpet\"}],\"scattergeo\":[{\"marker\":{\"colorbar\":{\"outlinewidth\":0,\"ticks\":\"\"}},\"type\":\"scattergeo\"}],\"scattergl\":[{\"marker\":{\"colorbar\":{\"outlinewidth\":0,\"ticks\":\"\"}},\"type\":\"scattergl\"}],\"scattermapbox\":[{\"marker\":{\"colorbar\":{\"outlinewidth\":0,\"ticks\":\"\"}},\"type\":\"scattermapbox\"}],\"scatterpolargl\":[{\"marker\":{\"colorbar\":{\"outlinewidth\":0,\"ticks\":\"\"}},\"type\":\"scatterpolargl\"}],\"scatterpolar\":[{\"marker\":{\"colorbar\":{\"outlinewidth\":0,\"ticks\":\"\"}},\"type\":\"scatterpolar\"}],\"scatter\":[{\"marker\":{\"colorbar\":{\"outlinewidth\":0,\"ticks\":\"\"}},\"type\":\"scatter\"}],\"scatterternary\":[{\"marker\":{\"colorbar\":{\"outlinewidth\":0,\"ticks\":\"\"}},\"type\":\"scatterternary\"}],\"surface\":[{\"colorbar\":{\"outlinewidth\":0,\"ticks\":\"\"},\"colorscale\":[[0.0,\"#0d0887\"],[0.1111111111111111,\"#46039f\"],[0.2222222222222222,\"#7201a8\"],[0.3333333333333333,\"#9c179e\"],[0.4444444444444444,\"#bd3786\"],[0.5555555555555556,\"#d8576b\"],[0.6666666666666666,\"#ed7953\"],[0.7777777777777778,\"#fb9f3a\"],[0.8888888888888888,\"#fdca26\"],[1.0,\"#f0f921\"]],\"type\":\"surface\"}],\"table\":[{\"cells\":{\"fill\":{\"color\":\"#EBF0F8\"},\"line\":{\"color\":\"white\"}},\"header\":{\"fill\":{\"color\":\"#C8D4E3\"},\"line\":{\"color\":\"white\"}},\"type\":\"table\"}]},\"layout\":{\"annotationdefaults\":{\"arrowcolor\":\"#2a3f5f\",\"arrowhead\":0,\"arrowwidth\":1},\"autotypenumbers\":\"strict\",\"coloraxis\":{\"colorbar\":{\"outlinewidth\":0,\"ticks\":\"\"}},\"colorscale\":{\"diverging\":[[0,\"#8e0152\"],[0.1,\"#c51b7d\"],[0.2,\"#de77ae\"],[0.3,\"#f1b6da\"],[0.4,\"#fde0ef\"],[0.5,\"#f7f7f7\"],[0.6,\"#e6f5d0\"],[0.7,\"#b8e186\"],[0.8,\"#7fbc41\"],[0.9,\"#4d9221\"],[1,\"#276419\"]],\"sequential\":[[0.0,\"#0d0887\"],[0.1111111111111111,\"#46039f\"],[0.2222222222222222,\"#7201a8\"],[0.3333333333333333,\"#9c179e\"],[0.4444444444444444,\"#bd3786\"],[0.5555555555555556,\"#d8576b\"],[0.6666666666666666,\"#ed7953\"],[0.7777777777777778,\"#fb9f3a\"],[0.8888888888888888,\"#fdca26\"],[1.0,\"#f0f921\"]],\"sequentialminus\":[[0.0,\"#0d0887\"],[0.1111111111111111,\"#46039f\"],[0.2222222222222222,\"#7201a8\"],[0.3333333333333333,\"#9c179e\"],[0.4444444444444444,\"#bd3786\"],[0.5555555555555556,\"#d8576b\"],[0.6666666666666666,\"#ed7953\"],[0.7777777777777778,\"#fb9f3a\"],[0.8888888888888888,\"#fdca26\"],[1.0,\"#f0f921\"]]},\"colorway\":[\"#636efa\",\"#EF553B\",\"#00cc96\",\"#ab63fa\",\"#FFA15A\",\"#19d3f3\",\"#FF6692\",\"#B6E880\",\"#FF97FF\",\"#FECB52\"],\"font\":{\"color\":\"#2a3f5f\"},\"geo\":{\"bgcolor\":\"white\",\"lakecolor\":\"white\",\"landcolor\":\"#E5ECF6\",\"showlakes\":true,\"showland\":true,\"subunitcolor\":\"white\"},\"hoverlabel\":{\"align\":\"left\"},\"hovermode\":\"closest\",\"mapbox\":{\"style\":\"light\"},\"paper_bgcolor\":\"white\",\"plot_bgcolor\":\"#E5ECF6\",\"polar\":{\"angularaxis\":{\"gridcolor\":\"white\",\"linecolor\":\"white\",\"ticks\":\"\"},\"bgcolor\":\"#E5ECF6\",\"radialaxis\":{\"gridcolor\":\"white\",\"linecolor\":\"white\",\"ticks\":\"\"}},\"scene\":{\"xaxis\":{\"backgroundcolor\":\"#E5ECF6\",\"gridcolor\":\"white\",\"gridwidth\":2,\"linecolor\":\"white\",\"showbackground\":true,\"ticks\":\"\",\"zerolinecolor\":\"white\"},\"yaxis\":{\"backgroundcolor\":\"#E5ECF6\",\"gridcolor\":\"white\",\"gridwidth\":2,\"linecolor\":\"white\",\"showbackground\":true,\"ticks\":\"\",\"zerolinecolor\":\"white\"},\"zaxis\":{\"backgroundcolor\":\"#E5ECF6\",\"gridcolor\":\"white\",\"gridwidth\":2,\"linecolor\":\"white\",\"showbackground\":true,\"ticks\":\"\",\"zerolinecolor\":\"white\"}},\"shapedefaults\":{\"line\":{\"color\":\"#2a3f5f\"}},\"ternary\":{\"aaxis\":{\"gridcolor\":\"white\",\"linecolor\":\"white\",\"ticks\":\"\"},\"baxis\":{\"gridcolor\":\"white\",\"linecolor\":\"white\",\"ticks\":\"\"},\"bgcolor\":\"#E5ECF6\",\"caxis\":{\"gridcolor\":\"white\",\"linecolor\":\"white\",\"ticks\":\"\"}},\"title\":{\"x\":0.05},\"xaxis\":{\"automargin\":true,\"gridcolor\":\"white\",\"linecolor\":\"white\",\"ticks\":\"\",\"title\":{\"standoff\":15},\"zerolinecolor\":\"white\",\"zerolinewidth\":2},\"yaxis\":{\"automargin\":true,\"gridcolor\":\"white\",\"linecolor\":\"white\",\"ticks\":\"\",\"title\":{\"standoff\":15},\"zerolinecolor\":\"white\",\"zerolinewidth\":2}}},\"title\":{\"font\":{\"color\":\"#4D5663\"}},\"xaxis\":{\"gridcolor\":\"#E1E5ED\",\"showgrid\":true,\"tickfont\":{\"color\":\"#4D5663\"},\"title\":{\"font\":{\"color\":\"#4D5663\"},\"text\":\"\"},\"zerolinecolor\":\"#E1E5ED\"},\"yaxis\":{\"gridcolor\":\"#E1E5ED\",\"showgrid\":true,\"tickfont\":{\"color\":\"#4D5663\"},\"title\":{\"font\":{\"color\":\"#4D5663\"},\"text\":\"\"},\"zerolinecolor\":\"#E1E5ED\"}},                        {\"showLink\": true, \"linkText\": \"Export to plot.ly\", \"plotlyServerURL\": \"https://plot.ly\", \"responsive\": true}                    ).then(function(){\n",
       "                            \n",
       "var gd = document.getElementById('6a03abd4-5c0c-4558-9775-1200cf42356c');\n",
       "var x = new MutationObserver(function (mutations, observer) {{\n",
       "        var display = window.getComputedStyle(gd).display;\n",
       "        if (!display || display === 'none') {{\n",
       "            console.log([gd, 'removed!']);\n",
       "            Plotly.purge(gd);\n",
       "            observer.disconnect();\n",
       "        }}\n",
       "}});\n",
       "\n",
       "// Listen for the removal of the full notebook cells\n",
       "var notebookContainer = gd.closest('#notebook-container');\n",
       "if (notebookContainer) {{\n",
       "    x.observe(notebookContainer, {childList: true});\n",
       "}}\n",
       "\n",
       "// Listen for the clearing of the current output cell\n",
       "var outputEl = gd.closest('.output');\n",
       "if (outputEl) {{\n",
       "    x.observe(outputEl, {childList: true});\n",
       "}}\n",
       "\n",
       "                        })                };                });            </script>        </div>"
      ]
     },
     "metadata": {},
     "output_type": "display_data"
    }
   ],
   "source": [
    "df.iplot(kind='hist',bins=25)"
   ]
  },
  {
   "cell_type": "code",
   "execution_count": 27,
   "id": "d06cd97b",
   "metadata": {
    "scrolled": false
   },
   "outputs": [
    {
     "name": "stderr",
     "output_type": "stream",
     "text": [
      "/home/acr/anaconda3/lib/python3.9/site-packages/cufflinks/plotlytools.py:849: FutureWarning:\n",
      "\n",
      "The pandas.np module is deprecated and will be removed from pandas in a future version. Import numpy directly instead\n",
      "\n",
      "/home/acr/anaconda3/lib/python3.9/site-packages/cufflinks/plotlytools.py:850: FutureWarning:\n",
      "\n",
      "The pandas.np module is deprecated and will be removed from pandas in a future version. Import numpy directly instead\n",
      "\n"
     ]
    },
    {
     "data": {
      "application/vnd.plotly.v1+json": {
       "config": {
        "linkText": "Export to plot.ly",
        "plotlyServerURL": "https://plot.ly",
        "showLink": true
       },
       "data": [
        {
         "line": {
          "color": "rgba(255, 153, 51, 1.0)",
          "dash": "solid",
          "shape": "linear",
          "width": 1.3
         },
         "mode": "lines",
         "name": "A",
         "text": "",
         "type": "scatter",
         "x": [
          0,
          1,
          2,
          3,
          4,
          5,
          6,
          7,
          8,
          9,
          10,
          11,
          12,
          13,
          14,
          15,
          16,
          17,
          18,
          19,
          20,
          21,
          22,
          23,
          24,
          25,
          26,
          27,
          28,
          29,
          30,
          31,
          32,
          33,
          34,
          35,
          36,
          37,
          38,
          39,
          40,
          41,
          42,
          43,
          44,
          45,
          46,
          47,
          48,
          49,
          50,
          51,
          52,
          53,
          54,
          55,
          56,
          57,
          58,
          59,
          60,
          61,
          62,
          63,
          64,
          65,
          66,
          67,
          68,
          69,
          70,
          71,
          72,
          73,
          74,
          75,
          76,
          77,
          78,
          79,
          80,
          81,
          82,
          83,
          84,
          85,
          86,
          87,
          88,
          89,
          90,
          91,
          92,
          93,
          94,
          95,
          96,
          97,
          98,
          99
         ],
         "y": [
          -1.817020332442591,
          -0.48098196817947747,
          1.295157066086587,
          0.07915703940954168,
          -1.3099989138475427,
          0.06443502722863953,
          0.8429902338467029,
          -0.8773579775586074,
          0.46296346004057504,
          0.3460066752440415,
          -1.5090964258815225,
          -0.17929767315087017,
          1.3597925620525149,
          0.1044132807162975,
          0.634140345548099,
          0.6449694398149307,
          0.682739029598082,
          -1.071423148713151,
          1.3412141907457804,
          -2.0253607604150097,
          -0.6575006829762641,
          -0.17629534526442286,
          0.4323052492839113,
          0.6061579721571336,
          0.3390538872710677,
          0.2136221498914424,
          -0.9248743336982881,
          -0.4923106494685157,
          -0.14027220727513648,
          -0.1245854157414283,
          0.3754070935314772,
          0.6687968436024946,
          0.46090626794999184,
          0.6478439273174318,
          0.183863668146813,
          -1.279265961558031,
          0.802914519502553,
          -0.6617214233024067,
          0.40798053779705845,
          0.23659524715385208,
          -1.3116089276171852,
          -1.2724481063971438,
          -0.15342270238770084,
          -0.19734938689819756,
          1.1596643166619882,
          -0.005636088219923547,
          -0.6354557112936142,
          0.00841157757449361,
          0.48174320134418314,
          1.0213266264062488,
          0.3470778151363638,
          1.0253128059996828,
          0.7018347168264457,
          -2.009558285503277,
          0.403384354603036,
          -0.3462865536610784,
          0.6035616992595493,
          -0.30964050576847196,
          0.12320701101952627,
          1.335591270886312,
          0.36552633076117713,
          -1.3009197808756756,
          0.849189361840498,
          0.48156360348950894,
          -0.017253276895772475,
          -0.13428667687120988,
          -0.528177970082618,
          1.0196902755316413,
          1.3853643896167271,
          -0.6250839679301746,
          -1.3060891778316646,
          0.2980133963267906,
          -2.160297033004496,
          0.2376514887002878,
          0.6392880065901926,
          0.13454348300356517,
          -1.4637409882823738,
          1.0202755563129895,
          1.5880348353414337,
          0.07489399111775881,
          2.037016478459296,
          -0.251972946031691,
          0.8288506740682722,
          0.8955414611825695,
          1.2165389060864282,
          1.5064457727306413,
          0.061859146980210056,
          0.16475560467364941,
          0.728842764778092,
          0.38589650375284085,
          0.9594389862303899,
          -0.4598951496142224,
          -0.4720031339202954,
          1.0154972016695023,
          -0.3445588930132589,
          0.7210756485242339,
          -0.6826130598079807,
          0.5697110560318015,
          0.024064000147705544,
          -1.4702867469315202
         ]
        },
        {
         "line": {
          "color": "rgba(55, 128, 191, 1.0)",
          "dash": "solid",
          "shape": "linear",
          "width": 1.3
         },
         "mode": "lines",
         "name": "B",
         "text": "",
         "type": "scatter",
         "x": [
          0,
          1,
          2,
          3,
          4,
          5,
          6,
          7,
          8,
          9,
          10,
          11,
          12,
          13,
          14,
          15,
          16,
          17,
          18,
          19,
          20,
          21,
          22,
          23,
          24,
          25,
          26,
          27,
          28,
          29,
          30,
          31,
          32,
          33,
          34,
          35,
          36,
          37,
          38,
          39,
          40,
          41,
          42,
          43,
          44,
          45,
          46,
          47,
          48,
          49,
          50,
          51,
          52,
          53,
          54,
          55,
          56,
          57,
          58,
          59,
          60,
          61,
          62,
          63,
          64,
          65,
          66,
          67,
          68,
          69,
          70,
          71,
          72,
          73,
          74,
          75,
          76,
          77,
          78,
          79,
          80,
          81,
          82,
          83,
          84,
          85,
          86,
          87,
          88,
          89,
          90,
          91,
          92,
          93,
          94,
          95,
          96,
          97,
          98,
          99
         ],
         "y": [
          -0.31958619878517447,
          0.12236833492550536,
          1.0005911448273535,
          0.11683245642945675,
          -0.036646303682910455,
          -1.4565555238871013,
          -0.22388894852612648,
          -0.6443526534508569,
          -1.2341426709423384,
          -0.26248492339228313,
          -1.3301360207440114,
          2.181530294928258,
          -0.7188285551019108,
          0.6261584800289558,
          1.0790046987515314,
          0.36993092952973244,
          -0.14854986225876715,
          -1.0551292102728689,
          -1.163712033089909,
          -1.035174477226583,
          -0.6923472344281039,
          -0.5829820471725831,
          0.10688564903208736,
          1.2901016578643634,
          -0.9861439072349416,
          -1.3403639860404626,
          0.5640300562054309,
          0.8521914504785596,
          -1.7725146263589386,
          -1.8445411092343604,
          -0.06880251081990287,
          1.250121225492265,
          0.06930813405963215,
          -1.0204497934376948,
          2.896448885000695,
          0.5435331300317845,
          1.1293824517425086,
          -0.3226727193654007,
          0.16828865849728697,
          -0.6309354652434254,
          -0.9557360051920409,
          -0.608525762156937,
          -0.2877608080766827,
          -0.767421864672971,
          0.8747239125952794,
          -1.5836537405323652,
          0.5932317169378237,
          0.22155467596449682,
          -0.2946398656833748,
          0.501013083160056,
          -1.4595035573437123,
          -0.600133196317449,
          0.4371009535768002,
          -2.210211643664322,
          0.3987946242518368,
          0.9673048599268973,
          -0.991473339820769,
          1.481431234489536,
          -0.03793162416476574,
          1.1079397655393566,
          -1.369508046106604,
          -0.1649378380752962,
          -0.7352150191288587,
          -1.4239325906110716,
          0.44200726961262254,
          1.0425740063040825,
          0.8844989386981145,
          -2.5816261775021685,
          -0.2990031997249988,
          0.039030433549701274,
          0.8455972801354262,
          0.4294742344327642,
          -0.43682471944814016,
          1.0841609285508675,
          1.1469454716518857,
          -0.2054363362461187,
          -0.5466324358704335,
          -0.7389366044575378,
          -0.16902628340572434,
          -0.19004248977568786,
          -0.49727220556567836,
          0.2796113263981927,
          -1.6861463695938166,
          0.17628961485402045,
          0.3854415954185394,
          -0.35792778347898646,
          -0.056004840344292366,
          0.7640036412727731,
          -1.3155218371664341,
          0.8607461279866138,
          -0.9632096083138955,
          0.2013845338042852,
          0.3273678055928306,
          2.151982269773717,
          -0.3337367592014226,
          -0.6715793937101349,
          -0.02262627338355212,
          -0.7333371089900023,
          0.3689449330022981,
          1.8709776079342886
         ]
        },
        {
         "connectgaps": false,
         "fill": "tozeroy",
         "line": {
          "color": "green",
          "dash": "solid",
          "shape": "linear",
          "width": 0.5
         },
         "mode": "lines",
         "name": "Spread",
         "showlegend": false,
         "type": "scatter",
         "x": [
          0,
          1,
          2,
          3,
          4,
          5,
          6,
          7,
          8,
          9,
          10,
          11,
          12,
          13,
          14,
          15,
          16,
          17,
          18,
          19,
          20,
          21,
          22,
          23,
          24,
          25,
          26,
          27,
          28,
          29,
          30,
          31,
          32,
          33,
          34,
          35,
          36,
          37,
          38,
          39,
          40,
          41,
          42,
          43,
          44,
          45,
          46,
          47,
          48,
          49,
          50,
          51,
          52,
          53,
          54,
          55,
          56,
          57,
          58,
          59,
          60,
          61,
          62,
          63,
          64,
          65,
          66,
          67,
          68,
          69,
          70,
          71,
          72,
          73,
          74,
          75,
          76,
          77,
          78,
          79,
          80,
          81,
          82,
          83,
          84,
          85,
          86,
          87,
          88,
          89,
          90,
          91,
          92,
          93,
          94,
          95,
          96,
          97,
          98,
          99
         ],
         "xaxis": "x2",
         "y": [
          "",
          "",
          0.29456592125923353,
          "",
          "",
          1.5209905511157409,
          1.0668791823728294,
          "",
          1.6971061309829134,
          0.6084915986363246,
          "",
          "",
          2.0786211171544258,
          "",
          "",
          0.27503851028519827,
          0.8312888918568491,
          "",
          2.5049262238356893,
          "",
          0.03484655145183979,
          0.4066867019081602,
          0.3254196002518239,
          "",
          1.3251977945060094,
          1.553986135931905,
          "",
          "",
          1.632242419083802,
          1.719955693492932,
          0.44420960435138007,
          "",
          0.3915981338903597,
          1.6682937207551265,
          "",
          "",
          "",
          "",
          0.23969187929977148,
          0.8675307123972774,
          "",
          "",
          0.13433810568898186,
          0.5700724777747734,
          0.28494040406670884,
          1.5780176523124416,
          "",
          "",
          0.776383067027558,
          0.5203135432461928,
          1.806581372480076,
          1.6254460023171318,
          0.26473376324964554,
          0.2006533581610448,
          0.004589730351199195,
          "",
          1.5950350390803183,
          "",
          0.161138635184292,
          0.22765150534695544,
          1.7350343768677812,
          "",
          1.5844043809693567,
          1.9054961941005806,
          "",
          "",
          "",
          3.6013164530338098,
          1.684367589341726,
          "",
          "",
          "",
          "",
          "",
          "",
          0.3399798192496839,
          "",
          1.7592121607705273,
          1.757061118747158,
          0.2649364808934467,
          2.5342886840249745,
          "",
          2.5149970436620888,
          0.7192518463285491,
          0.8310973106678888,
          1.8643735562096277,
          0.11786398732450243,
          "",
          2.044364601944526,
          "",
          1.9226485945442855,
          "",
          "",
          "",
          "",
          1.3926550422343689,
          "",
          1.3030481650218038,
          "",
          ""
         ],
         "yaxis": "y2"
        },
        {
         "connectgaps": false,
         "fill": "tozeroy",
         "line": {
          "color": "red",
          "dash": "solid",
          "shape": "linear",
          "width": 0.5
         },
         "mode": "lines",
         "name": "Spread",
         "showlegend": false,
         "type": "scatter",
         "x": [
          0,
          1,
          2,
          3,
          4,
          5,
          6,
          7,
          8,
          9,
          10,
          11,
          12,
          13,
          14,
          15,
          16,
          17,
          18,
          19,
          20,
          21,
          22,
          23,
          24,
          25,
          26,
          27,
          28,
          29,
          30,
          31,
          32,
          33,
          34,
          35,
          36,
          37,
          38,
          39,
          40,
          41,
          42,
          43,
          44,
          45,
          46,
          47,
          48,
          49,
          50,
          51,
          52,
          53,
          54,
          55,
          56,
          57,
          58,
          59,
          60,
          61,
          62,
          63,
          64,
          65,
          66,
          67,
          68,
          69,
          70,
          71,
          72,
          73,
          74,
          75,
          76,
          77,
          78,
          79,
          80,
          81,
          82,
          83,
          84,
          85,
          86,
          87,
          88,
          89,
          90,
          91,
          92,
          93,
          94,
          95,
          96,
          97,
          98,
          99
         ],
         "xaxis": "x2",
         "y": [
          -1.4974341336574166,
          -0.6033503031049828,
          "",
          -0.03767541701991507,
          -1.2733526101646322,
          "",
          "",
          -0.23300532410775054,
          "",
          "",
          -0.1789604051375111,
          -2.360827968079128,
          "",
          -0.5217451993126583,
          -0.4448643532034324,
          "",
          "",
          -0.01629393844028204,
          "",
          -0.9901862831884267,
          "",
          "",
          "",
          -0.6839436857072297,
          "",
          "",
          -1.4889043899037189,
          -1.3445020999470754,
          "",
          "",
          "",
          -0.5813243818897703,
          "",
          "",
          -2.7125852168538818,
          -1.8227990915898156,
          -0.3264679322399556,
          -0.339048703937006,
          "",
          "",
          -0.35587292242514423,
          -0.6639223442402068,
          "",
          "",
          "",
          "",
          -1.228687428231438,
          -0.2131430983900032,
          "",
          "",
          "",
          "",
          "",
          "",
          "",
          -1.3135914135879756,
          "",
          -1.7910717402580079,
          "",
          "",
          "",
          -1.1359819428003795,
          "",
          "",
          -0.45926054650839504,
          -1.1768606831752924,
          -1.4126769087807325,
          "",
          "",
          -0.6641144014798759,
          -2.1516864579670907,
          -0.13146083810597364,
          -1.7234723135563557,
          -0.8465094398505797,
          -0.5076574650616931,
          "",
          -0.9171085524119402,
          "",
          "",
          "",
          "",
          -0.5315842724298837,
          "",
          "",
          "",
          "",
          "",
          -0.5992480365991237,
          "",
          -0.4748496242337729,
          "",
          -0.6612796834185076,
          -0.799370939513126,
          -1.1364850681042147,
          -0.010822133811836332,
          "",
          -0.6599867864244285,
          "",
          -0.34488093285459254,
          -3.3412643548658085
         ],
         "yaxis": "y2"
        }
       ],
       "layout": {
        "hovermode": "x",
        "legend": {
         "bgcolor": "#F5F6F9",
         "font": {
          "color": "#4D5663"
         }
        },
        "paper_bgcolor": "#F5F6F9",
        "plot_bgcolor": "#F5F6F9",
        "template": {
         "data": {
          "bar": [
           {
            "error_x": {
             "color": "#2a3f5f"
            },
            "error_y": {
             "color": "#2a3f5f"
            },
            "marker": {
             "line": {
              "color": "#E5ECF6",
              "width": 0.5
             },
             "pattern": {
              "fillmode": "overlay",
              "size": 10,
              "solidity": 0.2
             }
            },
            "type": "bar"
           }
          ],
          "barpolar": [
           {
            "marker": {
             "line": {
              "color": "#E5ECF6",
              "width": 0.5
             },
             "pattern": {
              "fillmode": "overlay",
              "size": 10,
              "solidity": 0.2
             }
            },
            "type": "barpolar"
           }
          ],
          "carpet": [
           {
            "aaxis": {
             "endlinecolor": "#2a3f5f",
             "gridcolor": "white",
             "linecolor": "white",
             "minorgridcolor": "white",
             "startlinecolor": "#2a3f5f"
            },
            "baxis": {
             "endlinecolor": "#2a3f5f",
             "gridcolor": "white",
             "linecolor": "white",
             "minorgridcolor": "white",
             "startlinecolor": "#2a3f5f"
            },
            "type": "carpet"
           }
          ],
          "choropleth": [
           {
            "colorbar": {
             "outlinewidth": 0,
             "ticks": ""
            },
            "type": "choropleth"
           }
          ],
          "contour": [
           {
            "colorbar": {
             "outlinewidth": 0,
             "ticks": ""
            },
            "colorscale": [
             [
              0,
              "#0d0887"
             ],
             [
              0.1111111111111111,
              "#46039f"
             ],
             [
              0.2222222222222222,
              "#7201a8"
             ],
             [
              0.3333333333333333,
              "#9c179e"
             ],
             [
              0.4444444444444444,
              "#bd3786"
             ],
             [
              0.5555555555555556,
              "#d8576b"
             ],
             [
              0.6666666666666666,
              "#ed7953"
             ],
             [
              0.7777777777777778,
              "#fb9f3a"
             ],
             [
              0.8888888888888888,
              "#fdca26"
             ],
             [
              1,
              "#f0f921"
             ]
            ],
            "type": "contour"
           }
          ],
          "contourcarpet": [
           {
            "colorbar": {
             "outlinewidth": 0,
             "ticks": ""
            },
            "type": "contourcarpet"
           }
          ],
          "heatmap": [
           {
            "colorbar": {
             "outlinewidth": 0,
             "ticks": ""
            },
            "colorscale": [
             [
              0,
              "#0d0887"
             ],
             [
              0.1111111111111111,
              "#46039f"
             ],
             [
              0.2222222222222222,
              "#7201a8"
             ],
             [
              0.3333333333333333,
              "#9c179e"
             ],
             [
              0.4444444444444444,
              "#bd3786"
             ],
             [
              0.5555555555555556,
              "#d8576b"
             ],
             [
              0.6666666666666666,
              "#ed7953"
             ],
             [
              0.7777777777777778,
              "#fb9f3a"
             ],
             [
              0.8888888888888888,
              "#fdca26"
             ],
             [
              1,
              "#f0f921"
             ]
            ],
            "type": "heatmap"
           }
          ],
          "heatmapgl": [
           {
            "colorbar": {
             "outlinewidth": 0,
             "ticks": ""
            },
            "colorscale": [
             [
              0,
              "#0d0887"
             ],
             [
              0.1111111111111111,
              "#46039f"
             ],
             [
              0.2222222222222222,
              "#7201a8"
             ],
             [
              0.3333333333333333,
              "#9c179e"
             ],
             [
              0.4444444444444444,
              "#bd3786"
             ],
             [
              0.5555555555555556,
              "#d8576b"
             ],
             [
              0.6666666666666666,
              "#ed7953"
             ],
             [
              0.7777777777777778,
              "#fb9f3a"
             ],
             [
              0.8888888888888888,
              "#fdca26"
             ],
             [
              1,
              "#f0f921"
             ]
            ],
            "type": "heatmapgl"
           }
          ],
          "histogram": [
           {
            "marker": {
             "pattern": {
              "fillmode": "overlay",
              "size": 10,
              "solidity": 0.2
             }
            },
            "type": "histogram"
           }
          ],
          "histogram2d": [
           {
            "colorbar": {
             "outlinewidth": 0,
             "ticks": ""
            },
            "colorscale": [
             [
              0,
              "#0d0887"
             ],
             [
              0.1111111111111111,
              "#46039f"
             ],
             [
              0.2222222222222222,
              "#7201a8"
             ],
             [
              0.3333333333333333,
              "#9c179e"
             ],
             [
              0.4444444444444444,
              "#bd3786"
             ],
             [
              0.5555555555555556,
              "#d8576b"
             ],
             [
              0.6666666666666666,
              "#ed7953"
             ],
             [
              0.7777777777777778,
              "#fb9f3a"
             ],
             [
              0.8888888888888888,
              "#fdca26"
             ],
             [
              1,
              "#f0f921"
             ]
            ],
            "type": "histogram2d"
           }
          ],
          "histogram2dcontour": [
           {
            "colorbar": {
             "outlinewidth": 0,
             "ticks": ""
            },
            "colorscale": [
             [
              0,
              "#0d0887"
             ],
             [
              0.1111111111111111,
              "#46039f"
             ],
             [
              0.2222222222222222,
              "#7201a8"
             ],
             [
              0.3333333333333333,
              "#9c179e"
             ],
             [
              0.4444444444444444,
              "#bd3786"
             ],
             [
              0.5555555555555556,
              "#d8576b"
             ],
             [
              0.6666666666666666,
              "#ed7953"
             ],
             [
              0.7777777777777778,
              "#fb9f3a"
             ],
             [
              0.8888888888888888,
              "#fdca26"
             ],
             [
              1,
              "#f0f921"
             ]
            ],
            "type": "histogram2dcontour"
           }
          ],
          "mesh3d": [
           {
            "colorbar": {
             "outlinewidth": 0,
             "ticks": ""
            },
            "type": "mesh3d"
           }
          ],
          "parcoords": [
           {
            "line": {
             "colorbar": {
              "outlinewidth": 0,
              "ticks": ""
             }
            },
            "type": "parcoords"
           }
          ],
          "pie": [
           {
            "automargin": true,
            "type": "pie"
           }
          ],
          "scatter": [
           {
            "marker": {
             "colorbar": {
              "outlinewidth": 0,
              "ticks": ""
             }
            },
            "type": "scatter"
           }
          ],
          "scatter3d": [
           {
            "line": {
             "colorbar": {
              "outlinewidth": 0,
              "ticks": ""
             }
            },
            "marker": {
             "colorbar": {
              "outlinewidth": 0,
              "ticks": ""
             }
            },
            "type": "scatter3d"
           }
          ],
          "scattercarpet": [
           {
            "marker": {
             "colorbar": {
              "outlinewidth": 0,
              "ticks": ""
             }
            },
            "type": "scattercarpet"
           }
          ],
          "scattergeo": [
           {
            "marker": {
             "colorbar": {
              "outlinewidth": 0,
              "ticks": ""
             }
            },
            "type": "scattergeo"
           }
          ],
          "scattergl": [
           {
            "marker": {
             "colorbar": {
              "outlinewidth": 0,
              "ticks": ""
             }
            },
            "type": "scattergl"
           }
          ],
          "scattermapbox": [
           {
            "marker": {
             "colorbar": {
              "outlinewidth": 0,
              "ticks": ""
             }
            },
            "type": "scattermapbox"
           }
          ],
          "scatterpolar": [
           {
            "marker": {
             "colorbar": {
              "outlinewidth": 0,
              "ticks": ""
             }
            },
            "type": "scatterpolar"
           }
          ],
          "scatterpolargl": [
           {
            "marker": {
             "colorbar": {
              "outlinewidth": 0,
              "ticks": ""
             }
            },
            "type": "scatterpolargl"
           }
          ],
          "scatterternary": [
           {
            "marker": {
             "colorbar": {
              "outlinewidth": 0,
              "ticks": ""
             }
            },
            "type": "scatterternary"
           }
          ],
          "surface": [
           {
            "colorbar": {
             "outlinewidth": 0,
             "ticks": ""
            },
            "colorscale": [
             [
              0,
              "#0d0887"
             ],
             [
              0.1111111111111111,
              "#46039f"
             ],
             [
              0.2222222222222222,
              "#7201a8"
             ],
             [
              0.3333333333333333,
              "#9c179e"
             ],
             [
              0.4444444444444444,
              "#bd3786"
             ],
             [
              0.5555555555555556,
              "#d8576b"
             ],
             [
              0.6666666666666666,
              "#ed7953"
             ],
             [
              0.7777777777777778,
              "#fb9f3a"
             ],
             [
              0.8888888888888888,
              "#fdca26"
             ],
             [
              1,
              "#f0f921"
             ]
            ],
            "type": "surface"
           }
          ],
          "table": [
           {
            "cells": {
             "fill": {
              "color": "#EBF0F8"
             },
             "line": {
              "color": "white"
             }
            },
            "header": {
             "fill": {
              "color": "#C8D4E3"
             },
             "line": {
              "color": "white"
             }
            },
            "type": "table"
           }
          ]
         },
         "layout": {
          "annotationdefaults": {
           "arrowcolor": "#2a3f5f",
           "arrowhead": 0,
           "arrowwidth": 1
          },
          "autotypenumbers": "strict",
          "coloraxis": {
           "colorbar": {
            "outlinewidth": 0,
            "ticks": ""
           }
          },
          "colorscale": {
           "diverging": [
            [
             0,
             "#8e0152"
            ],
            [
             0.1,
             "#c51b7d"
            ],
            [
             0.2,
             "#de77ae"
            ],
            [
             0.3,
             "#f1b6da"
            ],
            [
             0.4,
             "#fde0ef"
            ],
            [
             0.5,
             "#f7f7f7"
            ],
            [
             0.6,
             "#e6f5d0"
            ],
            [
             0.7,
             "#b8e186"
            ],
            [
             0.8,
             "#7fbc41"
            ],
            [
             0.9,
             "#4d9221"
            ],
            [
             1,
             "#276419"
            ]
           ],
           "sequential": [
            [
             0,
             "#0d0887"
            ],
            [
             0.1111111111111111,
             "#46039f"
            ],
            [
             0.2222222222222222,
             "#7201a8"
            ],
            [
             0.3333333333333333,
             "#9c179e"
            ],
            [
             0.4444444444444444,
             "#bd3786"
            ],
            [
             0.5555555555555556,
             "#d8576b"
            ],
            [
             0.6666666666666666,
             "#ed7953"
            ],
            [
             0.7777777777777778,
             "#fb9f3a"
            ],
            [
             0.8888888888888888,
             "#fdca26"
            ],
            [
             1,
             "#f0f921"
            ]
           ],
           "sequentialminus": [
            [
             0,
             "#0d0887"
            ],
            [
             0.1111111111111111,
             "#46039f"
            ],
            [
             0.2222222222222222,
             "#7201a8"
            ],
            [
             0.3333333333333333,
             "#9c179e"
            ],
            [
             0.4444444444444444,
             "#bd3786"
            ],
            [
             0.5555555555555556,
             "#d8576b"
            ],
            [
             0.6666666666666666,
             "#ed7953"
            ],
            [
             0.7777777777777778,
             "#fb9f3a"
            ],
            [
             0.8888888888888888,
             "#fdca26"
            ],
            [
             1,
             "#f0f921"
            ]
           ]
          },
          "colorway": [
           "#636efa",
           "#EF553B",
           "#00cc96",
           "#ab63fa",
           "#FFA15A",
           "#19d3f3",
           "#FF6692",
           "#B6E880",
           "#FF97FF",
           "#FECB52"
          ],
          "font": {
           "color": "#2a3f5f"
          },
          "geo": {
           "bgcolor": "white",
           "lakecolor": "white",
           "landcolor": "#E5ECF6",
           "showlakes": true,
           "showland": true,
           "subunitcolor": "white"
          },
          "hoverlabel": {
           "align": "left"
          },
          "hovermode": "closest",
          "mapbox": {
           "style": "light"
          },
          "paper_bgcolor": "white",
          "plot_bgcolor": "#E5ECF6",
          "polar": {
           "angularaxis": {
            "gridcolor": "white",
            "linecolor": "white",
            "ticks": ""
           },
           "bgcolor": "#E5ECF6",
           "radialaxis": {
            "gridcolor": "white",
            "linecolor": "white",
            "ticks": ""
           }
          },
          "scene": {
           "xaxis": {
            "backgroundcolor": "#E5ECF6",
            "gridcolor": "white",
            "gridwidth": 2,
            "linecolor": "white",
            "showbackground": true,
            "ticks": "",
            "zerolinecolor": "white"
           },
           "yaxis": {
            "backgroundcolor": "#E5ECF6",
            "gridcolor": "white",
            "gridwidth": 2,
            "linecolor": "white",
            "showbackground": true,
            "ticks": "",
            "zerolinecolor": "white"
           },
           "zaxis": {
            "backgroundcolor": "#E5ECF6",
            "gridcolor": "white",
            "gridwidth": 2,
            "linecolor": "white",
            "showbackground": true,
            "ticks": "",
            "zerolinecolor": "white"
           }
          },
          "shapedefaults": {
           "line": {
            "color": "#2a3f5f"
           }
          },
          "ternary": {
           "aaxis": {
            "gridcolor": "white",
            "linecolor": "white",
            "ticks": ""
           },
           "baxis": {
            "gridcolor": "white",
            "linecolor": "white",
            "ticks": ""
           },
           "bgcolor": "#E5ECF6",
           "caxis": {
            "gridcolor": "white",
            "linecolor": "white",
            "ticks": ""
           }
          },
          "title": {
           "x": 0.05
          },
          "xaxis": {
           "automargin": true,
           "gridcolor": "white",
           "linecolor": "white",
           "ticks": "",
           "title": {
            "standoff": 15
           },
           "zerolinecolor": "white",
           "zerolinewidth": 2
          },
          "yaxis": {
           "automargin": true,
           "gridcolor": "white",
           "linecolor": "white",
           "ticks": "",
           "title": {
            "standoff": 15
           },
           "zerolinecolor": "white",
           "zerolinewidth": 2
          }
         }
        },
        "title": {
         "font": {
          "color": "#4D5663"
         }
        },
        "xaxis": {
         "gridcolor": "#E1E5ED",
         "showgrid": true,
         "tickfont": {
          "color": "#4D5663"
         },
         "title": {
          "font": {
           "color": "#4D5663"
          },
          "text": ""
         },
         "zerolinecolor": "#E1E5ED"
        },
        "xaxis2": {
         "anchor": "y2",
         "gridcolor": "#E1E5ED",
         "showgrid": true,
         "showticklabels": false,
         "tickfont": {
          "color": "#4D5663"
         },
         "title": {
          "font": {
           "color": "#4D5663"
          },
          "text": ""
         },
         "zerolinecolor": "#E1E5ED"
        },
        "yaxis": {
         "domain": [
          0.3,
          1
         ],
         "gridcolor": "#E1E5ED",
         "showgrid": true,
         "tickfont": {
          "color": "#4D5663"
         },
         "title": {
          "font": {
           "color": "#4D5663"
          },
          "text": ""
         },
         "zerolinecolor": "#E1E5ED"
        },
        "yaxis2": {
         "domain": [
          0,
          0.25
         ],
         "gridcolor": "#E1E5ED",
         "showgrid": true,
         "tickfont": {
          "color": "#4D5663"
         },
         "title": {
          "font": {
           "color": "#4D5663"
          },
          "text": "Spread"
         },
         "zerolinecolor": "#E1E5ED"
        }
       }
      },
      "text/html": [
       "<div>                            <div id=\"fa212732-17b7-41fa-b45d-e1b0271d428e\" class=\"plotly-graph-div\" style=\"height:525px; width:100%;\"></div>            <script type=\"text/javascript\">                require([\"plotly\"], function(Plotly) {                    window.PLOTLYENV=window.PLOTLYENV || {};\n",
       "                    window.PLOTLYENV.BASE_URL='https://plot.ly';                                    if (document.getElementById(\"fa212732-17b7-41fa-b45d-e1b0271d428e\")) {                    Plotly.newPlot(                        \"fa212732-17b7-41fa-b45d-e1b0271d428e\",                        [{\"line\":{\"color\":\"rgba(255, 153, 51, 1.0)\",\"dash\":\"solid\",\"shape\":\"linear\",\"width\":1.3},\"mode\":\"lines\",\"name\":\"A\",\"text\":\"\",\"x\":[0,1,2,3,4,5,6,7,8,9,10,11,12,13,14,15,16,17,18,19,20,21,22,23,24,25,26,27,28,29,30,31,32,33,34,35,36,37,38,39,40,41,42,43,44,45,46,47,48,49,50,51,52,53,54,55,56,57,58,59,60,61,62,63,64,65,66,67,68,69,70,71,72,73,74,75,76,77,78,79,80,81,82,83,84,85,86,87,88,89,90,91,92,93,94,95,96,97,98,99],\"y\":[-1.817020332442591,-0.48098196817947747,1.295157066086587,0.07915703940954168,-1.3099989138475427,0.06443502722863953,0.8429902338467029,-0.8773579775586074,0.46296346004057504,0.3460066752440415,-1.5090964258815225,-0.17929767315087017,1.3597925620525149,0.1044132807162975,0.634140345548099,0.6449694398149307,0.682739029598082,-1.071423148713151,1.3412141907457804,-2.0253607604150097,-0.6575006829762641,-0.17629534526442286,0.4323052492839113,0.6061579721571336,0.3390538872710677,0.2136221498914424,-0.9248743336982881,-0.4923106494685157,-0.14027220727513648,-0.1245854157414283,0.3754070935314772,0.6687968436024946,0.46090626794999184,0.6478439273174318,0.183863668146813,-1.279265961558031,0.802914519502553,-0.6617214233024067,0.40798053779705845,0.23659524715385208,-1.3116089276171852,-1.2724481063971438,-0.15342270238770084,-0.19734938689819756,1.1596643166619882,-0.005636088219923547,-0.6354557112936142,0.00841157757449361,0.48174320134418314,1.0213266264062488,0.3470778151363638,1.0253128059996828,0.7018347168264457,-2.009558285503277,0.403384354603036,-0.3462865536610784,0.6035616992595493,-0.30964050576847196,0.12320701101952627,1.335591270886312,0.36552633076117713,-1.3009197808756756,0.849189361840498,0.48156360348950894,-0.017253276895772475,-0.13428667687120988,-0.528177970082618,1.0196902755316413,1.3853643896167271,-0.6250839679301746,-1.3060891778316646,0.2980133963267906,-2.160297033004496,0.2376514887002878,0.6392880065901926,0.13454348300356517,-1.4637409882823738,1.0202755563129895,1.5880348353414337,0.07489399111775881,2.037016478459296,-0.251972946031691,0.8288506740682722,0.8955414611825695,1.2165389060864282,1.5064457727306413,0.061859146980210056,0.16475560467364941,0.728842764778092,0.38589650375284085,0.9594389862303899,-0.4598951496142224,-0.4720031339202954,1.0154972016695023,-0.3445588930132589,0.7210756485242339,-0.6826130598079807,0.5697110560318015,0.024064000147705544,-1.4702867469315202],\"type\":\"scatter\"},{\"line\":{\"color\":\"rgba(55, 128, 191, 1.0)\",\"dash\":\"solid\",\"shape\":\"linear\",\"width\":1.3},\"mode\":\"lines\",\"name\":\"B\",\"text\":\"\",\"x\":[0,1,2,3,4,5,6,7,8,9,10,11,12,13,14,15,16,17,18,19,20,21,22,23,24,25,26,27,28,29,30,31,32,33,34,35,36,37,38,39,40,41,42,43,44,45,46,47,48,49,50,51,52,53,54,55,56,57,58,59,60,61,62,63,64,65,66,67,68,69,70,71,72,73,74,75,76,77,78,79,80,81,82,83,84,85,86,87,88,89,90,91,92,93,94,95,96,97,98,99],\"y\":[-0.31958619878517447,0.12236833492550536,1.0005911448273535,0.11683245642945675,-0.036646303682910455,-1.4565555238871013,-0.22388894852612648,-0.6443526534508569,-1.2341426709423384,-0.26248492339228313,-1.3301360207440114,2.181530294928258,-0.7188285551019108,0.6261584800289558,1.0790046987515314,0.36993092952973244,-0.14854986225876715,-1.0551292102728689,-1.163712033089909,-1.035174477226583,-0.6923472344281039,-0.5829820471725831,0.10688564903208736,1.2901016578643634,-0.9861439072349416,-1.3403639860404626,0.5640300562054309,0.8521914504785596,-1.7725146263589386,-1.8445411092343604,-0.06880251081990287,1.250121225492265,0.06930813405963215,-1.0204497934376948,2.896448885000695,0.5435331300317845,1.1293824517425086,-0.3226727193654007,0.16828865849728697,-0.6309354652434254,-0.9557360051920409,-0.608525762156937,-0.2877608080766827,-0.767421864672971,0.8747239125952794,-1.5836537405323652,0.5932317169378237,0.22155467596449682,-0.2946398656833748,0.501013083160056,-1.4595035573437123,-0.600133196317449,0.4371009535768002,-2.210211643664322,0.3987946242518368,0.9673048599268973,-0.991473339820769,1.481431234489536,-0.03793162416476574,1.1079397655393566,-1.369508046106604,-0.1649378380752962,-0.7352150191288587,-1.4239325906110716,0.44200726961262254,1.0425740063040825,0.8844989386981145,-2.5816261775021685,-0.2990031997249988,0.039030433549701274,0.8455972801354262,0.4294742344327642,-0.43682471944814016,1.0841609285508675,1.1469454716518857,-0.2054363362461187,-0.5466324358704335,-0.7389366044575378,-0.16902628340572434,-0.19004248977568786,-0.49727220556567836,0.2796113263981927,-1.6861463695938166,0.17628961485402045,0.3854415954185394,-0.35792778347898646,-0.056004840344292366,0.7640036412727731,-1.3155218371664341,0.8607461279866138,-0.9632096083138955,0.2013845338042852,0.3273678055928306,2.151982269773717,-0.3337367592014226,-0.6715793937101349,-0.02262627338355212,-0.7333371089900023,0.3689449330022981,1.8709776079342886],\"type\":\"scatter\"},{\"connectgaps\":false,\"fill\":\"tozeroy\",\"line\":{\"color\":\"green\",\"dash\":\"solid\",\"shape\":\"linear\",\"width\":0.5},\"mode\":\"lines\",\"name\":\"Spread\",\"showlegend\":false,\"x\":[0,1,2,3,4,5,6,7,8,9,10,11,12,13,14,15,16,17,18,19,20,21,22,23,24,25,26,27,28,29,30,31,32,33,34,35,36,37,38,39,40,41,42,43,44,45,46,47,48,49,50,51,52,53,54,55,56,57,58,59,60,61,62,63,64,65,66,67,68,69,70,71,72,73,74,75,76,77,78,79,80,81,82,83,84,85,86,87,88,89,90,91,92,93,94,95,96,97,98,99],\"xaxis\":\"x2\",\"y\":[\"\",\"\",0.29456592125923353,\"\",\"\",1.5209905511157409,1.0668791823728294,\"\",1.6971061309829134,0.6084915986363246,\"\",\"\",2.0786211171544258,\"\",\"\",0.27503851028519827,0.8312888918568491,\"\",2.5049262238356893,\"\",0.03484655145183979,0.4066867019081602,0.3254196002518239,\"\",1.3251977945060094,1.553986135931905,\"\",\"\",1.632242419083802,1.719955693492932,0.44420960435138007,\"\",0.3915981338903597,1.6682937207551265,\"\",\"\",\"\",\"\",0.23969187929977148,0.8675307123972774,\"\",\"\",0.13433810568898186,0.5700724777747734,0.28494040406670884,1.5780176523124416,\"\",\"\",0.776383067027558,0.5203135432461928,1.806581372480076,1.6254460023171318,0.26473376324964554,0.2006533581610448,0.004589730351199195,\"\",1.5950350390803183,\"\",0.161138635184292,0.22765150534695544,1.7350343768677812,\"\",1.5844043809693567,1.9054961941005806,\"\",\"\",\"\",3.6013164530338098,1.684367589341726,\"\",\"\",\"\",\"\",\"\",\"\",0.3399798192496839,\"\",1.7592121607705273,1.757061118747158,0.2649364808934467,2.5342886840249745,\"\",2.5149970436620888,0.7192518463285491,0.8310973106678888,1.8643735562096277,0.11786398732450243,\"\",2.044364601944526,\"\",1.9226485945442855,\"\",\"\",\"\",\"\",1.3926550422343689,\"\",1.3030481650218038,\"\",\"\"],\"yaxis\":\"y2\",\"type\":\"scatter\"},{\"connectgaps\":false,\"fill\":\"tozeroy\",\"line\":{\"color\":\"red\",\"dash\":\"solid\",\"shape\":\"linear\",\"width\":0.5},\"mode\":\"lines\",\"name\":\"Spread\",\"showlegend\":false,\"x\":[0,1,2,3,4,5,6,7,8,9,10,11,12,13,14,15,16,17,18,19,20,21,22,23,24,25,26,27,28,29,30,31,32,33,34,35,36,37,38,39,40,41,42,43,44,45,46,47,48,49,50,51,52,53,54,55,56,57,58,59,60,61,62,63,64,65,66,67,68,69,70,71,72,73,74,75,76,77,78,79,80,81,82,83,84,85,86,87,88,89,90,91,92,93,94,95,96,97,98,99],\"xaxis\":\"x2\",\"y\":[-1.4974341336574166,-0.6033503031049828,\"\",-0.03767541701991507,-1.2733526101646322,\"\",\"\",-0.23300532410775054,\"\",\"\",-0.1789604051375111,-2.360827968079128,\"\",-0.5217451993126583,-0.4448643532034324,\"\",\"\",-0.01629393844028204,\"\",-0.9901862831884267,\"\",\"\",\"\",-0.6839436857072297,\"\",\"\",-1.4889043899037189,-1.3445020999470754,\"\",\"\",\"\",-0.5813243818897703,\"\",\"\",-2.7125852168538818,-1.8227990915898156,-0.3264679322399556,-0.339048703937006,\"\",\"\",-0.35587292242514423,-0.6639223442402068,\"\",\"\",\"\",\"\",-1.228687428231438,-0.2131430983900032,\"\",\"\",\"\",\"\",\"\",\"\",\"\",-1.3135914135879756,\"\",-1.7910717402580079,\"\",\"\",\"\",-1.1359819428003795,\"\",\"\",-0.45926054650839504,-1.1768606831752924,-1.4126769087807325,\"\",\"\",-0.6641144014798759,-2.1516864579670907,-0.13146083810597364,-1.7234723135563557,-0.8465094398505797,-0.5076574650616931,\"\",-0.9171085524119402,\"\",\"\",\"\",\"\",-0.5315842724298837,\"\",\"\",\"\",\"\",\"\",-0.5992480365991237,\"\",-0.4748496242337729,\"\",-0.6612796834185076,-0.799370939513126,-1.1364850681042147,-0.010822133811836332,\"\",-0.6599867864244285,\"\",-0.34488093285459254,-3.3412643548658085],\"yaxis\":\"y2\",\"type\":\"scatter\"}],                        {\"hovermode\":\"x\",\"legend\":{\"bgcolor\":\"#F5F6F9\",\"font\":{\"color\":\"#4D5663\"}},\"paper_bgcolor\":\"#F5F6F9\",\"plot_bgcolor\":\"#F5F6F9\",\"template\":{\"data\":{\"barpolar\":[{\"marker\":{\"line\":{\"color\":\"#E5ECF6\",\"width\":0.5},\"pattern\":{\"fillmode\":\"overlay\",\"size\":10,\"solidity\":0.2}},\"type\":\"barpolar\"}],\"bar\":[{\"error_x\":{\"color\":\"#2a3f5f\"},\"error_y\":{\"color\":\"#2a3f5f\"},\"marker\":{\"line\":{\"color\":\"#E5ECF6\",\"width\":0.5},\"pattern\":{\"fillmode\":\"overlay\",\"size\":10,\"solidity\":0.2}},\"type\":\"bar\"}],\"carpet\":[{\"aaxis\":{\"endlinecolor\":\"#2a3f5f\",\"gridcolor\":\"white\",\"linecolor\":\"white\",\"minorgridcolor\":\"white\",\"startlinecolor\":\"#2a3f5f\"},\"baxis\":{\"endlinecolor\":\"#2a3f5f\",\"gridcolor\":\"white\",\"linecolor\":\"white\",\"minorgridcolor\":\"white\",\"startlinecolor\":\"#2a3f5f\"},\"type\":\"carpet\"}],\"choropleth\":[{\"colorbar\":{\"outlinewidth\":0,\"ticks\":\"\"},\"type\":\"choropleth\"}],\"contourcarpet\":[{\"colorbar\":{\"outlinewidth\":0,\"ticks\":\"\"},\"type\":\"contourcarpet\"}],\"contour\":[{\"colorbar\":{\"outlinewidth\":0,\"ticks\":\"\"},\"colorscale\":[[0.0,\"#0d0887\"],[0.1111111111111111,\"#46039f\"],[0.2222222222222222,\"#7201a8\"],[0.3333333333333333,\"#9c179e\"],[0.4444444444444444,\"#bd3786\"],[0.5555555555555556,\"#d8576b\"],[0.6666666666666666,\"#ed7953\"],[0.7777777777777778,\"#fb9f3a\"],[0.8888888888888888,\"#fdca26\"],[1.0,\"#f0f921\"]],\"type\":\"contour\"}],\"heatmapgl\":[{\"colorbar\":{\"outlinewidth\":0,\"ticks\":\"\"},\"colorscale\":[[0.0,\"#0d0887\"],[0.1111111111111111,\"#46039f\"],[0.2222222222222222,\"#7201a8\"],[0.3333333333333333,\"#9c179e\"],[0.4444444444444444,\"#bd3786\"],[0.5555555555555556,\"#d8576b\"],[0.6666666666666666,\"#ed7953\"],[0.7777777777777778,\"#fb9f3a\"],[0.8888888888888888,\"#fdca26\"],[1.0,\"#f0f921\"]],\"type\":\"heatmapgl\"}],\"heatmap\":[{\"colorbar\":{\"outlinewidth\":0,\"ticks\":\"\"},\"colorscale\":[[0.0,\"#0d0887\"],[0.1111111111111111,\"#46039f\"],[0.2222222222222222,\"#7201a8\"],[0.3333333333333333,\"#9c179e\"],[0.4444444444444444,\"#bd3786\"],[0.5555555555555556,\"#d8576b\"],[0.6666666666666666,\"#ed7953\"],[0.7777777777777778,\"#fb9f3a\"],[0.8888888888888888,\"#fdca26\"],[1.0,\"#f0f921\"]],\"type\":\"heatmap\"}],\"histogram2dcontour\":[{\"colorbar\":{\"outlinewidth\":0,\"ticks\":\"\"},\"colorscale\":[[0.0,\"#0d0887\"],[0.1111111111111111,\"#46039f\"],[0.2222222222222222,\"#7201a8\"],[0.3333333333333333,\"#9c179e\"],[0.4444444444444444,\"#bd3786\"],[0.5555555555555556,\"#d8576b\"],[0.6666666666666666,\"#ed7953\"],[0.7777777777777778,\"#fb9f3a\"],[0.8888888888888888,\"#fdca26\"],[1.0,\"#f0f921\"]],\"type\":\"histogram2dcontour\"}],\"histogram2d\":[{\"colorbar\":{\"outlinewidth\":0,\"ticks\":\"\"},\"colorscale\":[[0.0,\"#0d0887\"],[0.1111111111111111,\"#46039f\"],[0.2222222222222222,\"#7201a8\"],[0.3333333333333333,\"#9c179e\"],[0.4444444444444444,\"#bd3786\"],[0.5555555555555556,\"#d8576b\"],[0.6666666666666666,\"#ed7953\"],[0.7777777777777778,\"#fb9f3a\"],[0.8888888888888888,\"#fdca26\"],[1.0,\"#f0f921\"]],\"type\":\"histogram2d\"}],\"histogram\":[{\"marker\":{\"pattern\":{\"fillmode\":\"overlay\",\"size\":10,\"solidity\":0.2}},\"type\":\"histogram\"}],\"mesh3d\":[{\"colorbar\":{\"outlinewidth\":0,\"ticks\":\"\"},\"type\":\"mesh3d\"}],\"parcoords\":[{\"line\":{\"colorbar\":{\"outlinewidth\":0,\"ticks\":\"\"}},\"type\":\"parcoords\"}],\"pie\":[{\"automargin\":true,\"type\":\"pie\"}],\"scatter3d\":[{\"line\":{\"colorbar\":{\"outlinewidth\":0,\"ticks\":\"\"}},\"marker\":{\"colorbar\":{\"outlinewidth\":0,\"ticks\":\"\"}},\"type\":\"scatter3d\"}],\"scattercarpet\":[{\"marker\":{\"colorbar\":{\"outlinewidth\":0,\"ticks\":\"\"}},\"type\":\"scattercarpet\"}],\"scattergeo\":[{\"marker\":{\"colorbar\":{\"outlinewidth\":0,\"ticks\":\"\"}},\"type\":\"scattergeo\"}],\"scattergl\":[{\"marker\":{\"colorbar\":{\"outlinewidth\":0,\"ticks\":\"\"}},\"type\":\"scattergl\"}],\"scattermapbox\":[{\"marker\":{\"colorbar\":{\"outlinewidth\":0,\"ticks\":\"\"}},\"type\":\"scattermapbox\"}],\"scatterpolargl\":[{\"marker\":{\"colorbar\":{\"outlinewidth\":0,\"ticks\":\"\"}},\"type\":\"scatterpolargl\"}],\"scatterpolar\":[{\"marker\":{\"colorbar\":{\"outlinewidth\":0,\"ticks\":\"\"}},\"type\":\"scatterpolar\"}],\"scatter\":[{\"marker\":{\"colorbar\":{\"outlinewidth\":0,\"ticks\":\"\"}},\"type\":\"scatter\"}],\"scatterternary\":[{\"marker\":{\"colorbar\":{\"outlinewidth\":0,\"ticks\":\"\"}},\"type\":\"scatterternary\"}],\"surface\":[{\"colorbar\":{\"outlinewidth\":0,\"ticks\":\"\"},\"colorscale\":[[0.0,\"#0d0887\"],[0.1111111111111111,\"#46039f\"],[0.2222222222222222,\"#7201a8\"],[0.3333333333333333,\"#9c179e\"],[0.4444444444444444,\"#bd3786\"],[0.5555555555555556,\"#d8576b\"],[0.6666666666666666,\"#ed7953\"],[0.7777777777777778,\"#fb9f3a\"],[0.8888888888888888,\"#fdca26\"],[1.0,\"#f0f921\"]],\"type\":\"surface\"}],\"table\":[{\"cells\":{\"fill\":{\"color\":\"#EBF0F8\"},\"line\":{\"color\":\"white\"}},\"header\":{\"fill\":{\"color\":\"#C8D4E3\"},\"line\":{\"color\":\"white\"}},\"type\":\"table\"}]},\"layout\":{\"annotationdefaults\":{\"arrowcolor\":\"#2a3f5f\",\"arrowhead\":0,\"arrowwidth\":1},\"autotypenumbers\":\"strict\",\"coloraxis\":{\"colorbar\":{\"outlinewidth\":0,\"ticks\":\"\"}},\"colorscale\":{\"diverging\":[[0,\"#8e0152\"],[0.1,\"#c51b7d\"],[0.2,\"#de77ae\"],[0.3,\"#f1b6da\"],[0.4,\"#fde0ef\"],[0.5,\"#f7f7f7\"],[0.6,\"#e6f5d0\"],[0.7,\"#b8e186\"],[0.8,\"#7fbc41\"],[0.9,\"#4d9221\"],[1,\"#276419\"]],\"sequential\":[[0.0,\"#0d0887\"],[0.1111111111111111,\"#46039f\"],[0.2222222222222222,\"#7201a8\"],[0.3333333333333333,\"#9c179e\"],[0.4444444444444444,\"#bd3786\"],[0.5555555555555556,\"#d8576b\"],[0.6666666666666666,\"#ed7953\"],[0.7777777777777778,\"#fb9f3a\"],[0.8888888888888888,\"#fdca26\"],[1.0,\"#f0f921\"]],\"sequentialminus\":[[0.0,\"#0d0887\"],[0.1111111111111111,\"#46039f\"],[0.2222222222222222,\"#7201a8\"],[0.3333333333333333,\"#9c179e\"],[0.4444444444444444,\"#bd3786\"],[0.5555555555555556,\"#d8576b\"],[0.6666666666666666,\"#ed7953\"],[0.7777777777777778,\"#fb9f3a\"],[0.8888888888888888,\"#fdca26\"],[1.0,\"#f0f921\"]]},\"colorway\":[\"#636efa\",\"#EF553B\",\"#00cc96\",\"#ab63fa\",\"#FFA15A\",\"#19d3f3\",\"#FF6692\",\"#B6E880\",\"#FF97FF\",\"#FECB52\"],\"font\":{\"color\":\"#2a3f5f\"},\"geo\":{\"bgcolor\":\"white\",\"lakecolor\":\"white\",\"landcolor\":\"#E5ECF6\",\"showlakes\":true,\"showland\":true,\"subunitcolor\":\"white\"},\"hoverlabel\":{\"align\":\"left\"},\"hovermode\":\"closest\",\"mapbox\":{\"style\":\"light\"},\"paper_bgcolor\":\"white\",\"plot_bgcolor\":\"#E5ECF6\",\"polar\":{\"angularaxis\":{\"gridcolor\":\"white\",\"linecolor\":\"white\",\"ticks\":\"\"},\"bgcolor\":\"#E5ECF6\",\"radialaxis\":{\"gridcolor\":\"white\",\"linecolor\":\"white\",\"ticks\":\"\"}},\"scene\":{\"xaxis\":{\"backgroundcolor\":\"#E5ECF6\",\"gridcolor\":\"white\",\"gridwidth\":2,\"linecolor\":\"white\",\"showbackground\":true,\"ticks\":\"\",\"zerolinecolor\":\"white\"},\"yaxis\":{\"backgroundcolor\":\"#E5ECF6\",\"gridcolor\":\"white\",\"gridwidth\":2,\"linecolor\":\"white\",\"showbackground\":true,\"ticks\":\"\",\"zerolinecolor\":\"white\"},\"zaxis\":{\"backgroundcolor\":\"#E5ECF6\",\"gridcolor\":\"white\",\"gridwidth\":2,\"linecolor\":\"white\",\"showbackground\":true,\"ticks\":\"\",\"zerolinecolor\":\"white\"}},\"shapedefaults\":{\"line\":{\"color\":\"#2a3f5f\"}},\"ternary\":{\"aaxis\":{\"gridcolor\":\"white\",\"linecolor\":\"white\",\"ticks\":\"\"},\"baxis\":{\"gridcolor\":\"white\",\"linecolor\":\"white\",\"ticks\":\"\"},\"bgcolor\":\"#E5ECF6\",\"caxis\":{\"gridcolor\":\"white\",\"linecolor\":\"white\",\"ticks\":\"\"}},\"title\":{\"x\":0.05},\"xaxis\":{\"automargin\":true,\"gridcolor\":\"white\",\"linecolor\":\"white\",\"ticks\":\"\",\"title\":{\"standoff\":15},\"zerolinecolor\":\"white\",\"zerolinewidth\":2},\"yaxis\":{\"automargin\":true,\"gridcolor\":\"white\",\"linecolor\":\"white\",\"ticks\":\"\",\"title\":{\"standoff\":15},\"zerolinecolor\":\"white\",\"zerolinewidth\":2}}},\"title\":{\"font\":{\"color\":\"#4D5663\"}},\"xaxis\":{\"gridcolor\":\"#E1E5ED\",\"showgrid\":true,\"tickfont\":{\"color\":\"#4D5663\"},\"title\":{\"font\":{\"color\":\"#4D5663\"},\"text\":\"\"},\"zerolinecolor\":\"#E1E5ED\"},\"yaxis\":{\"domain\":[0.3,1],\"gridcolor\":\"#E1E5ED\",\"showgrid\":true,\"tickfont\":{\"color\":\"#4D5663\"},\"title\":{\"font\":{\"color\":\"#4D5663\"},\"text\":\"\"},\"zerolinecolor\":\"#E1E5ED\"},\"yaxis2\":{\"domain\":[0,0.25],\"gridcolor\":\"#E1E5ED\",\"showgrid\":true,\"tickfont\":{\"color\":\"#4D5663\"},\"title\":{\"font\":{\"color\":\"#4D5663\"},\"text\":\"Spread\"},\"zerolinecolor\":\"#E1E5ED\"},\"xaxis2\":{\"anchor\":\"y2\",\"gridcolor\":\"#E1E5ED\",\"showgrid\":true,\"showticklabels\":false,\"tickfont\":{\"color\":\"#4D5663\"},\"title\":{\"font\":{\"color\":\"#4D5663\"},\"text\":\"\"},\"zerolinecolor\":\"#E1E5ED\"}},                        {\"showLink\": true, \"linkText\": \"Export to plot.ly\", \"plotlyServerURL\": \"https://plot.ly\", \"responsive\": true}                    ).then(function(){\n",
       "                            \n",
       "var gd = document.getElementById('fa212732-17b7-41fa-b45d-e1b0271d428e');\n",
       "var x = new MutationObserver(function (mutations, observer) {{\n",
       "        var display = window.getComputedStyle(gd).display;\n",
       "        if (!display || display === 'none') {{\n",
       "            console.log([gd, 'removed!']);\n",
       "            Plotly.purge(gd);\n",
       "            observer.disconnect();\n",
       "        }}\n",
       "}});\n",
       "\n",
       "// Listen for the removal of the full notebook cells\n",
       "var notebookContainer = gd.closest('#notebook-container');\n",
       "if (notebookContainer) {{\n",
       "    x.observe(notebookContainer, {childList: true});\n",
       "}}\n",
       "\n",
       "// Listen for the clearing of the current output cell\n",
       "var outputEl = gd.closest('.output');\n",
       "if (outputEl) {{\n",
       "    x.observe(outputEl, {childList: true});\n",
       "}}\n",
       "\n",
       "                        })                };                });            </script>        </div>"
      ]
     },
     "metadata": {},
     "output_type": "display_data"
    }
   ],
   "source": [
    "df[['A','B']].iplot(kind='spread')"
   ]
  },
  {
   "cell_type": "code",
   "execution_count": 24,
   "id": "d72a336c",
   "metadata": {
    "scrolled": false
   },
   "outputs": [
    {
     "data": {
      "application/vnd.plotly.v1+json": {
       "config": {
        "linkText": "Export to plot.ly",
        "plotlyServerURL": "https://plot.ly",
        "showLink": true
       },
       "data": [
        {
         "marker": {
          "color": [
           "rgb(255, 153, 51)",
           "rgb(55, 128, 191)",
           "rgb(50, 171, 96)",
           "rgb(128, 0, 128)",
           "rgb(219, 64, 82)",
           "rgb(0, 128, 128)",
           "rgb(255, 255, 51)",
           "rgb(128, 128, 0)",
           "rgb(251, 128, 114)",
           "rgb(128, 177, 211)"
          ],
          "line": {
           "width": 1.3
          },
          "size": [
           81,
           80,
           62,
           42,
           41,
           36,
           66,
           62,
           46,
           71,
           38,
           63,
           60,
           12,
           81,
           34,
           39,
           78,
           67,
           59,
           71,
           71,
           80,
           49,
           50,
           49,
           55,
           53,
           44,
           77,
           83,
           37,
           52,
           50,
           60,
           74,
           79,
           69,
           112,
           80,
           69,
           50,
           36,
           64,
           51,
           57,
           83,
           74,
           28,
           49,
           74,
           66,
           41,
           37,
           60,
           76,
           68,
           55,
           57,
           81,
           68,
           59,
           38,
           85,
           27,
           13,
           83,
           54,
           76,
           54,
           58,
           82,
           64,
           70,
           70,
           75,
           44,
           76,
           68,
           53,
           85,
           35,
           44,
           53,
           76,
           42,
           37,
           28,
           84,
           94,
           54,
           25,
           52,
           50,
           46,
           90,
           78,
           58,
           52,
           49
          ],
          "symbol": "circle"
         },
         "mode": "markers",
         "text": "",
         "type": "scatter",
         "x": [
          -1.817020332442591,
          -0.48098196817947747,
          1.295157066086587,
          0.07915703940954168,
          -1.3099989138475427,
          0.06443502722863953,
          0.8429902338467029,
          -0.8773579775586074,
          0.46296346004057504,
          0.3460066752440415,
          -1.5090964258815225,
          -0.17929767315087017,
          1.3597925620525149,
          0.1044132807162975,
          0.634140345548099,
          0.6449694398149307,
          0.682739029598082,
          -1.071423148713151,
          1.3412141907457804,
          -2.0253607604150097,
          -0.6575006829762641,
          -0.17629534526442286,
          0.4323052492839113,
          0.6061579721571336,
          0.3390538872710677,
          0.2136221498914424,
          -0.9248743336982881,
          -0.4923106494685157,
          -0.14027220727513648,
          -0.1245854157414283,
          0.3754070935314772,
          0.6687968436024946,
          0.46090626794999184,
          0.6478439273174318,
          0.183863668146813,
          -1.279265961558031,
          0.802914519502553,
          -0.6617214233024067,
          0.40798053779705845,
          0.23659524715385208,
          -1.3116089276171852,
          -1.2724481063971438,
          -0.15342270238770084,
          -0.19734938689819756,
          1.1596643166619882,
          -0.005636088219923547,
          -0.6354557112936142,
          0.00841157757449361,
          0.48174320134418314,
          1.0213266264062488,
          0.3470778151363638,
          1.0253128059996828,
          0.7018347168264457,
          -2.009558285503277,
          0.403384354603036,
          -0.3462865536610784,
          0.6035616992595493,
          -0.30964050576847196,
          0.12320701101952627,
          1.335591270886312,
          0.36552633076117713,
          -1.3009197808756756,
          0.849189361840498,
          0.48156360348950894,
          -0.017253276895772475,
          -0.13428667687120988,
          -0.528177970082618,
          1.0196902755316413,
          1.3853643896167271,
          -0.6250839679301746,
          -1.3060891778316646,
          0.2980133963267906,
          -2.160297033004496,
          0.2376514887002878,
          0.6392880065901926,
          0.13454348300356517,
          -1.4637409882823738,
          1.0202755563129895,
          1.5880348353414337,
          0.07489399111775881,
          2.037016478459296,
          -0.251972946031691,
          0.8288506740682722,
          0.8955414611825695,
          1.2165389060864282,
          1.5064457727306413,
          0.061859146980210056,
          0.16475560467364941,
          0.728842764778092,
          0.38589650375284085,
          0.9594389862303899,
          -0.4598951496142224,
          -0.4720031339202954,
          1.0154972016695023,
          -0.3445588930132589,
          0.7210756485242339,
          -0.6826130598079807,
          0.5697110560318015,
          0.024064000147705544,
          -1.4702867469315202
         ],
         "y": [
          -0.31958619878517447,
          0.12236833492550536,
          1.0005911448273535,
          0.11683245642945675,
          -0.036646303682910455,
          -1.4565555238871013,
          -0.22388894852612648,
          -0.6443526534508569,
          -1.2341426709423384,
          -0.26248492339228313,
          -1.3301360207440114,
          2.181530294928258,
          -0.7188285551019108,
          0.6261584800289558,
          1.0790046987515314,
          0.36993092952973244,
          -0.14854986225876715,
          -1.0551292102728689,
          -1.163712033089909,
          -1.035174477226583,
          -0.6923472344281039,
          -0.5829820471725831,
          0.10688564903208736,
          1.2901016578643634,
          -0.9861439072349416,
          -1.3403639860404626,
          0.5640300562054309,
          0.8521914504785596,
          -1.7725146263589386,
          -1.8445411092343604,
          -0.06880251081990287,
          1.250121225492265,
          0.06930813405963215,
          -1.0204497934376948,
          2.896448885000695,
          0.5435331300317845,
          1.1293824517425086,
          -0.3226727193654007,
          0.16828865849728697,
          -0.6309354652434254,
          -0.9557360051920409,
          -0.608525762156937,
          -0.2877608080766827,
          -0.767421864672971,
          0.8747239125952794,
          -1.5836537405323652,
          0.5932317169378237,
          0.22155467596449682,
          -0.2946398656833748,
          0.501013083160056,
          -1.4595035573437123,
          -0.600133196317449,
          0.4371009535768002,
          -2.210211643664322,
          0.3987946242518368,
          0.9673048599268973,
          -0.991473339820769,
          1.481431234489536,
          -0.03793162416476574,
          1.1079397655393566,
          -1.369508046106604,
          -0.1649378380752962,
          -0.7352150191288587,
          -1.4239325906110716,
          0.44200726961262254,
          1.0425740063040825,
          0.8844989386981145,
          -2.5816261775021685,
          -0.2990031997249988,
          0.039030433549701274,
          0.8455972801354262,
          0.4294742344327642,
          -0.43682471944814016,
          1.0841609285508675,
          1.1469454716518857,
          -0.2054363362461187,
          -0.5466324358704335,
          -0.7389366044575378,
          -0.16902628340572434,
          -0.19004248977568786,
          -0.49727220556567836,
          0.2796113263981927,
          -1.6861463695938166,
          0.17628961485402045,
          0.3854415954185394,
          -0.35792778347898646,
          -0.056004840344292366,
          0.7640036412727731,
          -1.3155218371664341,
          0.8607461279866138,
          -0.9632096083138955,
          0.2013845338042852,
          0.3273678055928306,
          2.151982269773717,
          -0.3337367592014226,
          -0.6715793937101349,
          -0.02262627338355212,
          -0.7333371089900023,
          0.3689449330022981,
          1.8709776079342886
         ]
        }
       ],
       "layout": {
        "legend": {
         "bgcolor": "#F5F6F9",
         "font": {
          "color": "#4D5663"
         }
        },
        "paper_bgcolor": "#F5F6F9",
        "plot_bgcolor": "#F5F6F9",
        "template": {
         "data": {
          "bar": [
           {
            "error_x": {
             "color": "#2a3f5f"
            },
            "error_y": {
             "color": "#2a3f5f"
            },
            "marker": {
             "line": {
              "color": "#E5ECF6",
              "width": 0.5
             },
             "pattern": {
              "fillmode": "overlay",
              "size": 10,
              "solidity": 0.2
             }
            },
            "type": "bar"
           }
          ],
          "barpolar": [
           {
            "marker": {
             "line": {
              "color": "#E5ECF6",
              "width": 0.5
             },
             "pattern": {
              "fillmode": "overlay",
              "size": 10,
              "solidity": 0.2
             }
            },
            "type": "barpolar"
           }
          ],
          "carpet": [
           {
            "aaxis": {
             "endlinecolor": "#2a3f5f",
             "gridcolor": "white",
             "linecolor": "white",
             "minorgridcolor": "white",
             "startlinecolor": "#2a3f5f"
            },
            "baxis": {
             "endlinecolor": "#2a3f5f",
             "gridcolor": "white",
             "linecolor": "white",
             "minorgridcolor": "white",
             "startlinecolor": "#2a3f5f"
            },
            "type": "carpet"
           }
          ],
          "choropleth": [
           {
            "colorbar": {
             "outlinewidth": 0,
             "ticks": ""
            },
            "type": "choropleth"
           }
          ],
          "contour": [
           {
            "colorbar": {
             "outlinewidth": 0,
             "ticks": ""
            },
            "colorscale": [
             [
              0,
              "#0d0887"
             ],
             [
              0.1111111111111111,
              "#46039f"
             ],
             [
              0.2222222222222222,
              "#7201a8"
             ],
             [
              0.3333333333333333,
              "#9c179e"
             ],
             [
              0.4444444444444444,
              "#bd3786"
             ],
             [
              0.5555555555555556,
              "#d8576b"
             ],
             [
              0.6666666666666666,
              "#ed7953"
             ],
             [
              0.7777777777777778,
              "#fb9f3a"
             ],
             [
              0.8888888888888888,
              "#fdca26"
             ],
             [
              1,
              "#f0f921"
             ]
            ],
            "type": "contour"
           }
          ],
          "contourcarpet": [
           {
            "colorbar": {
             "outlinewidth": 0,
             "ticks": ""
            },
            "type": "contourcarpet"
           }
          ],
          "heatmap": [
           {
            "colorbar": {
             "outlinewidth": 0,
             "ticks": ""
            },
            "colorscale": [
             [
              0,
              "#0d0887"
             ],
             [
              0.1111111111111111,
              "#46039f"
             ],
             [
              0.2222222222222222,
              "#7201a8"
             ],
             [
              0.3333333333333333,
              "#9c179e"
             ],
             [
              0.4444444444444444,
              "#bd3786"
             ],
             [
              0.5555555555555556,
              "#d8576b"
             ],
             [
              0.6666666666666666,
              "#ed7953"
             ],
             [
              0.7777777777777778,
              "#fb9f3a"
             ],
             [
              0.8888888888888888,
              "#fdca26"
             ],
             [
              1,
              "#f0f921"
             ]
            ],
            "type": "heatmap"
           }
          ],
          "heatmapgl": [
           {
            "colorbar": {
             "outlinewidth": 0,
             "ticks": ""
            },
            "colorscale": [
             [
              0,
              "#0d0887"
             ],
             [
              0.1111111111111111,
              "#46039f"
             ],
             [
              0.2222222222222222,
              "#7201a8"
             ],
             [
              0.3333333333333333,
              "#9c179e"
             ],
             [
              0.4444444444444444,
              "#bd3786"
             ],
             [
              0.5555555555555556,
              "#d8576b"
             ],
             [
              0.6666666666666666,
              "#ed7953"
             ],
             [
              0.7777777777777778,
              "#fb9f3a"
             ],
             [
              0.8888888888888888,
              "#fdca26"
             ],
             [
              1,
              "#f0f921"
             ]
            ],
            "type": "heatmapgl"
           }
          ],
          "histogram": [
           {
            "marker": {
             "pattern": {
              "fillmode": "overlay",
              "size": 10,
              "solidity": 0.2
             }
            },
            "type": "histogram"
           }
          ],
          "histogram2d": [
           {
            "colorbar": {
             "outlinewidth": 0,
             "ticks": ""
            },
            "colorscale": [
             [
              0,
              "#0d0887"
             ],
             [
              0.1111111111111111,
              "#46039f"
             ],
             [
              0.2222222222222222,
              "#7201a8"
             ],
             [
              0.3333333333333333,
              "#9c179e"
             ],
             [
              0.4444444444444444,
              "#bd3786"
             ],
             [
              0.5555555555555556,
              "#d8576b"
             ],
             [
              0.6666666666666666,
              "#ed7953"
             ],
             [
              0.7777777777777778,
              "#fb9f3a"
             ],
             [
              0.8888888888888888,
              "#fdca26"
             ],
             [
              1,
              "#f0f921"
             ]
            ],
            "type": "histogram2d"
           }
          ],
          "histogram2dcontour": [
           {
            "colorbar": {
             "outlinewidth": 0,
             "ticks": ""
            },
            "colorscale": [
             [
              0,
              "#0d0887"
             ],
             [
              0.1111111111111111,
              "#46039f"
             ],
             [
              0.2222222222222222,
              "#7201a8"
             ],
             [
              0.3333333333333333,
              "#9c179e"
             ],
             [
              0.4444444444444444,
              "#bd3786"
             ],
             [
              0.5555555555555556,
              "#d8576b"
             ],
             [
              0.6666666666666666,
              "#ed7953"
             ],
             [
              0.7777777777777778,
              "#fb9f3a"
             ],
             [
              0.8888888888888888,
              "#fdca26"
             ],
             [
              1,
              "#f0f921"
             ]
            ],
            "type": "histogram2dcontour"
           }
          ],
          "mesh3d": [
           {
            "colorbar": {
             "outlinewidth": 0,
             "ticks": ""
            },
            "type": "mesh3d"
           }
          ],
          "parcoords": [
           {
            "line": {
             "colorbar": {
              "outlinewidth": 0,
              "ticks": ""
             }
            },
            "type": "parcoords"
           }
          ],
          "pie": [
           {
            "automargin": true,
            "type": "pie"
           }
          ],
          "scatter": [
           {
            "marker": {
             "colorbar": {
              "outlinewidth": 0,
              "ticks": ""
             }
            },
            "type": "scatter"
           }
          ],
          "scatter3d": [
           {
            "line": {
             "colorbar": {
              "outlinewidth": 0,
              "ticks": ""
             }
            },
            "marker": {
             "colorbar": {
              "outlinewidth": 0,
              "ticks": ""
             }
            },
            "type": "scatter3d"
           }
          ],
          "scattercarpet": [
           {
            "marker": {
             "colorbar": {
              "outlinewidth": 0,
              "ticks": ""
             }
            },
            "type": "scattercarpet"
           }
          ],
          "scattergeo": [
           {
            "marker": {
             "colorbar": {
              "outlinewidth": 0,
              "ticks": ""
             }
            },
            "type": "scattergeo"
           }
          ],
          "scattergl": [
           {
            "marker": {
             "colorbar": {
              "outlinewidth": 0,
              "ticks": ""
             }
            },
            "type": "scattergl"
           }
          ],
          "scattermapbox": [
           {
            "marker": {
             "colorbar": {
              "outlinewidth": 0,
              "ticks": ""
             }
            },
            "type": "scattermapbox"
           }
          ],
          "scatterpolar": [
           {
            "marker": {
             "colorbar": {
              "outlinewidth": 0,
              "ticks": ""
             }
            },
            "type": "scatterpolar"
           }
          ],
          "scatterpolargl": [
           {
            "marker": {
             "colorbar": {
              "outlinewidth": 0,
              "ticks": ""
             }
            },
            "type": "scatterpolargl"
           }
          ],
          "scatterternary": [
           {
            "marker": {
             "colorbar": {
              "outlinewidth": 0,
              "ticks": ""
             }
            },
            "type": "scatterternary"
           }
          ],
          "surface": [
           {
            "colorbar": {
             "outlinewidth": 0,
             "ticks": ""
            },
            "colorscale": [
             [
              0,
              "#0d0887"
             ],
             [
              0.1111111111111111,
              "#46039f"
             ],
             [
              0.2222222222222222,
              "#7201a8"
             ],
             [
              0.3333333333333333,
              "#9c179e"
             ],
             [
              0.4444444444444444,
              "#bd3786"
             ],
             [
              0.5555555555555556,
              "#d8576b"
             ],
             [
              0.6666666666666666,
              "#ed7953"
             ],
             [
              0.7777777777777778,
              "#fb9f3a"
             ],
             [
              0.8888888888888888,
              "#fdca26"
             ],
             [
              1,
              "#f0f921"
             ]
            ],
            "type": "surface"
           }
          ],
          "table": [
           {
            "cells": {
             "fill": {
              "color": "#EBF0F8"
             },
             "line": {
              "color": "white"
             }
            },
            "header": {
             "fill": {
              "color": "#C8D4E3"
             },
             "line": {
              "color": "white"
             }
            },
            "type": "table"
           }
          ]
         },
         "layout": {
          "annotationdefaults": {
           "arrowcolor": "#2a3f5f",
           "arrowhead": 0,
           "arrowwidth": 1
          },
          "autotypenumbers": "strict",
          "coloraxis": {
           "colorbar": {
            "outlinewidth": 0,
            "ticks": ""
           }
          },
          "colorscale": {
           "diverging": [
            [
             0,
             "#8e0152"
            ],
            [
             0.1,
             "#c51b7d"
            ],
            [
             0.2,
             "#de77ae"
            ],
            [
             0.3,
             "#f1b6da"
            ],
            [
             0.4,
             "#fde0ef"
            ],
            [
             0.5,
             "#f7f7f7"
            ],
            [
             0.6,
             "#e6f5d0"
            ],
            [
             0.7,
             "#b8e186"
            ],
            [
             0.8,
             "#7fbc41"
            ],
            [
             0.9,
             "#4d9221"
            ],
            [
             1,
             "#276419"
            ]
           ],
           "sequential": [
            [
             0,
             "#0d0887"
            ],
            [
             0.1111111111111111,
             "#46039f"
            ],
            [
             0.2222222222222222,
             "#7201a8"
            ],
            [
             0.3333333333333333,
             "#9c179e"
            ],
            [
             0.4444444444444444,
             "#bd3786"
            ],
            [
             0.5555555555555556,
             "#d8576b"
            ],
            [
             0.6666666666666666,
             "#ed7953"
            ],
            [
             0.7777777777777778,
             "#fb9f3a"
            ],
            [
             0.8888888888888888,
             "#fdca26"
            ],
            [
             1,
             "#f0f921"
            ]
           ],
           "sequentialminus": [
            [
             0,
             "#0d0887"
            ],
            [
             0.1111111111111111,
             "#46039f"
            ],
            [
             0.2222222222222222,
             "#7201a8"
            ],
            [
             0.3333333333333333,
             "#9c179e"
            ],
            [
             0.4444444444444444,
             "#bd3786"
            ],
            [
             0.5555555555555556,
             "#d8576b"
            ],
            [
             0.6666666666666666,
             "#ed7953"
            ],
            [
             0.7777777777777778,
             "#fb9f3a"
            ],
            [
             0.8888888888888888,
             "#fdca26"
            ],
            [
             1,
             "#f0f921"
            ]
           ]
          },
          "colorway": [
           "#636efa",
           "#EF553B",
           "#00cc96",
           "#ab63fa",
           "#FFA15A",
           "#19d3f3",
           "#FF6692",
           "#B6E880",
           "#FF97FF",
           "#FECB52"
          ],
          "font": {
           "color": "#2a3f5f"
          },
          "geo": {
           "bgcolor": "white",
           "lakecolor": "white",
           "landcolor": "#E5ECF6",
           "showlakes": true,
           "showland": true,
           "subunitcolor": "white"
          },
          "hoverlabel": {
           "align": "left"
          },
          "hovermode": "closest",
          "mapbox": {
           "style": "light"
          },
          "paper_bgcolor": "white",
          "plot_bgcolor": "#E5ECF6",
          "polar": {
           "angularaxis": {
            "gridcolor": "white",
            "linecolor": "white",
            "ticks": ""
           },
           "bgcolor": "#E5ECF6",
           "radialaxis": {
            "gridcolor": "white",
            "linecolor": "white",
            "ticks": ""
           }
          },
          "scene": {
           "xaxis": {
            "backgroundcolor": "#E5ECF6",
            "gridcolor": "white",
            "gridwidth": 2,
            "linecolor": "white",
            "showbackground": true,
            "ticks": "",
            "zerolinecolor": "white"
           },
           "yaxis": {
            "backgroundcolor": "#E5ECF6",
            "gridcolor": "white",
            "gridwidth": 2,
            "linecolor": "white",
            "showbackground": true,
            "ticks": "",
            "zerolinecolor": "white"
           },
           "zaxis": {
            "backgroundcolor": "#E5ECF6",
            "gridcolor": "white",
            "gridwidth": 2,
            "linecolor": "white",
            "showbackground": true,
            "ticks": "",
            "zerolinecolor": "white"
           }
          },
          "shapedefaults": {
           "line": {
            "color": "#2a3f5f"
           }
          },
          "ternary": {
           "aaxis": {
            "gridcolor": "white",
            "linecolor": "white",
            "ticks": ""
           },
           "baxis": {
            "gridcolor": "white",
            "linecolor": "white",
            "ticks": ""
           },
           "bgcolor": "#E5ECF6",
           "caxis": {
            "gridcolor": "white",
            "linecolor": "white",
            "ticks": ""
           }
          },
          "title": {
           "x": 0.05
          },
          "xaxis": {
           "automargin": true,
           "gridcolor": "white",
           "linecolor": "white",
           "ticks": "",
           "title": {
            "standoff": 15
           },
           "zerolinecolor": "white",
           "zerolinewidth": 2
          },
          "yaxis": {
           "automargin": true,
           "gridcolor": "white",
           "linecolor": "white",
           "ticks": "",
           "title": {
            "standoff": 15
           },
           "zerolinecolor": "white",
           "zerolinewidth": 2
          }
         }
        },
        "title": {
         "font": {
          "color": "#4D5663"
         }
        },
        "xaxis": {
         "gridcolor": "#E1E5ED",
         "showgrid": true,
         "tickfont": {
          "color": "#4D5663"
         },
         "title": {
          "font": {
           "color": "#4D5663"
          },
          "text": ""
         },
         "zerolinecolor": "#E1E5ED"
        },
        "yaxis": {
         "gridcolor": "#E1E5ED",
         "showgrid": true,
         "tickfont": {
          "color": "#4D5663"
         },
         "title": {
          "font": {
           "color": "#4D5663"
          },
          "text": ""
         },
         "zerolinecolor": "#E1E5ED"
        }
       }
      },
      "text/html": [
       "<div>                            <div id=\"7a621fe1-3c09-4983-96e3-fdcf3cf88ba2\" class=\"plotly-graph-div\" style=\"height:525px; width:100%;\"></div>            <script type=\"text/javascript\">                require([\"plotly\"], function(Plotly) {                    window.PLOTLYENV=window.PLOTLYENV || {};\n",
       "                    window.PLOTLYENV.BASE_URL='https://plot.ly';                                    if (document.getElementById(\"7a621fe1-3c09-4983-96e3-fdcf3cf88ba2\")) {                    Plotly.newPlot(                        \"7a621fe1-3c09-4983-96e3-fdcf3cf88ba2\",                        [{\"marker\":{\"color\":[\"rgb(255, 153, 51)\",\"rgb(55, 128, 191)\",\"rgb(50, 171, 96)\",\"rgb(128, 0, 128)\",\"rgb(219, 64, 82)\",\"rgb(0, 128, 128)\",\"rgb(255, 255, 51)\",\"rgb(128, 128, 0)\",\"rgb(251, 128, 114)\",\"rgb(128, 177, 211)\"],\"line\":{\"width\":1.3},\"size\":[81,80,62,42,41,36,66,62,46,71,38,63,60,12,81,34,39,78,67,59,71,71,80,49,50,49,55,53,44,77,83,37,52,50,60,74,79,69,112,80,69,50,36,64,51,57,83,74,28,49,74,66,41,37,60,76,68,55,57,81,68,59,38,85,27,13,83,54,76,54,58,82,64,70,70,75,44,76,68,53,85,35,44,53,76,42,37,28,84,94,54,25,52,50,46,90,78,58,52,49],\"symbol\":\"circle\"},\"mode\":\"markers\",\"text\":\"\",\"x\":[-1.817020332442591,-0.48098196817947747,1.295157066086587,0.07915703940954168,-1.3099989138475427,0.06443502722863953,0.8429902338467029,-0.8773579775586074,0.46296346004057504,0.3460066752440415,-1.5090964258815225,-0.17929767315087017,1.3597925620525149,0.1044132807162975,0.634140345548099,0.6449694398149307,0.682739029598082,-1.071423148713151,1.3412141907457804,-2.0253607604150097,-0.6575006829762641,-0.17629534526442286,0.4323052492839113,0.6061579721571336,0.3390538872710677,0.2136221498914424,-0.9248743336982881,-0.4923106494685157,-0.14027220727513648,-0.1245854157414283,0.3754070935314772,0.6687968436024946,0.46090626794999184,0.6478439273174318,0.183863668146813,-1.279265961558031,0.802914519502553,-0.6617214233024067,0.40798053779705845,0.23659524715385208,-1.3116089276171852,-1.2724481063971438,-0.15342270238770084,-0.19734938689819756,1.1596643166619882,-0.005636088219923547,-0.6354557112936142,0.00841157757449361,0.48174320134418314,1.0213266264062488,0.3470778151363638,1.0253128059996828,0.7018347168264457,-2.009558285503277,0.403384354603036,-0.3462865536610784,0.6035616992595493,-0.30964050576847196,0.12320701101952627,1.335591270886312,0.36552633076117713,-1.3009197808756756,0.849189361840498,0.48156360348950894,-0.017253276895772475,-0.13428667687120988,-0.528177970082618,1.0196902755316413,1.3853643896167271,-0.6250839679301746,-1.3060891778316646,0.2980133963267906,-2.160297033004496,0.2376514887002878,0.6392880065901926,0.13454348300356517,-1.4637409882823738,1.0202755563129895,1.5880348353414337,0.07489399111775881,2.037016478459296,-0.251972946031691,0.8288506740682722,0.8955414611825695,1.2165389060864282,1.5064457727306413,0.061859146980210056,0.16475560467364941,0.728842764778092,0.38589650375284085,0.9594389862303899,-0.4598951496142224,-0.4720031339202954,1.0154972016695023,-0.3445588930132589,0.7210756485242339,-0.6826130598079807,0.5697110560318015,0.024064000147705544,-1.4702867469315202],\"y\":[-0.31958619878517447,0.12236833492550536,1.0005911448273535,0.11683245642945675,-0.036646303682910455,-1.4565555238871013,-0.22388894852612648,-0.6443526534508569,-1.2341426709423384,-0.26248492339228313,-1.3301360207440114,2.181530294928258,-0.7188285551019108,0.6261584800289558,1.0790046987515314,0.36993092952973244,-0.14854986225876715,-1.0551292102728689,-1.163712033089909,-1.035174477226583,-0.6923472344281039,-0.5829820471725831,0.10688564903208736,1.2901016578643634,-0.9861439072349416,-1.3403639860404626,0.5640300562054309,0.8521914504785596,-1.7725146263589386,-1.8445411092343604,-0.06880251081990287,1.250121225492265,0.06930813405963215,-1.0204497934376948,2.896448885000695,0.5435331300317845,1.1293824517425086,-0.3226727193654007,0.16828865849728697,-0.6309354652434254,-0.9557360051920409,-0.608525762156937,-0.2877608080766827,-0.767421864672971,0.8747239125952794,-1.5836537405323652,0.5932317169378237,0.22155467596449682,-0.2946398656833748,0.501013083160056,-1.4595035573437123,-0.600133196317449,0.4371009535768002,-2.210211643664322,0.3987946242518368,0.9673048599268973,-0.991473339820769,1.481431234489536,-0.03793162416476574,1.1079397655393566,-1.369508046106604,-0.1649378380752962,-0.7352150191288587,-1.4239325906110716,0.44200726961262254,1.0425740063040825,0.8844989386981145,-2.5816261775021685,-0.2990031997249988,0.039030433549701274,0.8455972801354262,0.4294742344327642,-0.43682471944814016,1.0841609285508675,1.1469454716518857,-0.2054363362461187,-0.5466324358704335,-0.7389366044575378,-0.16902628340572434,-0.19004248977568786,-0.49727220556567836,0.2796113263981927,-1.6861463695938166,0.17628961485402045,0.3854415954185394,-0.35792778347898646,-0.056004840344292366,0.7640036412727731,-1.3155218371664341,0.8607461279866138,-0.9632096083138955,0.2013845338042852,0.3273678055928306,2.151982269773717,-0.3337367592014226,-0.6715793937101349,-0.02262627338355212,-0.7333371089900023,0.3689449330022981,1.8709776079342886],\"type\":\"scatter\"}],                        {\"legend\":{\"bgcolor\":\"#F5F6F9\",\"font\":{\"color\":\"#4D5663\"}},\"paper_bgcolor\":\"#F5F6F9\",\"plot_bgcolor\":\"#F5F6F9\",\"template\":{\"data\":{\"barpolar\":[{\"marker\":{\"line\":{\"color\":\"#E5ECF6\",\"width\":0.5},\"pattern\":{\"fillmode\":\"overlay\",\"size\":10,\"solidity\":0.2}},\"type\":\"barpolar\"}],\"bar\":[{\"error_x\":{\"color\":\"#2a3f5f\"},\"error_y\":{\"color\":\"#2a3f5f\"},\"marker\":{\"line\":{\"color\":\"#E5ECF6\",\"width\":0.5},\"pattern\":{\"fillmode\":\"overlay\",\"size\":10,\"solidity\":0.2}},\"type\":\"bar\"}],\"carpet\":[{\"aaxis\":{\"endlinecolor\":\"#2a3f5f\",\"gridcolor\":\"white\",\"linecolor\":\"white\",\"minorgridcolor\":\"white\",\"startlinecolor\":\"#2a3f5f\"},\"baxis\":{\"endlinecolor\":\"#2a3f5f\",\"gridcolor\":\"white\",\"linecolor\":\"white\",\"minorgridcolor\":\"white\",\"startlinecolor\":\"#2a3f5f\"},\"type\":\"carpet\"}],\"choropleth\":[{\"colorbar\":{\"outlinewidth\":0,\"ticks\":\"\"},\"type\":\"choropleth\"}],\"contourcarpet\":[{\"colorbar\":{\"outlinewidth\":0,\"ticks\":\"\"},\"type\":\"contourcarpet\"}],\"contour\":[{\"colorbar\":{\"outlinewidth\":0,\"ticks\":\"\"},\"colorscale\":[[0.0,\"#0d0887\"],[0.1111111111111111,\"#46039f\"],[0.2222222222222222,\"#7201a8\"],[0.3333333333333333,\"#9c179e\"],[0.4444444444444444,\"#bd3786\"],[0.5555555555555556,\"#d8576b\"],[0.6666666666666666,\"#ed7953\"],[0.7777777777777778,\"#fb9f3a\"],[0.8888888888888888,\"#fdca26\"],[1.0,\"#f0f921\"]],\"type\":\"contour\"}],\"heatmapgl\":[{\"colorbar\":{\"outlinewidth\":0,\"ticks\":\"\"},\"colorscale\":[[0.0,\"#0d0887\"],[0.1111111111111111,\"#46039f\"],[0.2222222222222222,\"#7201a8\"],[0.3333333333333333,\"#9c179e\"],[0.4444444444444444,\"#bd3786\"],[0.5555555555555556,\"#d8576b\"],[0.6666666666666666,\"#ed7953\"],[0.7777777777777778,\"#fb9f3a\"],[0.8888888888888888,\"#fdca26\"],[1.0,\"#f0f921\"]],\"type\":\"heatmapgl\"}],\"heatmap\":[{\"colorbar\":{\"outlinewidth\":0,\"ticks\":\"\"},\"colorscale\":[[0.0,\"#0d0887\"],[0.1111111111111111,\"#46039f\"],[0.2222222222222222,\"#7201a8\"],[0.3333333333333333,\"#9c179e\"],[0.4444444444444444,\"#bd3786\"],[0.5555555555555556,\"#d8576b\"],[0.6666666666666666,\"#ed7953\"],[0.7777777777777778,\"#fb9f3a\"],[0.8888888888888888,\"#fdca26\"],[1.0,\"#f0f921\"]],\"type\":\"heatmap\"}],\"histogram2dcontour\":[{\"colorbar\":{\"outlinewidth\":0,\"ticks\":\"\"},\"colorscale\":[[0.0,\"#0d0887\"],[0.1111111111111111,\"#46039f\"],[0.2222222222222222,\"#7201a8\"],[0.3333333333333333,\"#9c179e\"],[0.4444444444444444,\"#bd3786\"],[0.5555555555555556,\"#d8576b\"],[0.6666666666666666,\"#ed7953\"],[0.7777777777777778,\"#fb9f3a\"],[0.8888888888888888,\"#fdca26\"],[1.0,\"#f0f921\"]],\"type\":\"histogram2dcontour\"}],\"histogram2d\":[{\"colorbar\":{\"outlinewidth\":0,\"ticks\":\"\"},\"colorscale\":[[0.0,\"#0d0887\"],[0.1111111111111111,\"#46039f\"],[0.2222222222222222,\"#7201a8\"],[0.3333333333333333,\"#9c179e\"],[0.4444444444444444,\"#bd3786\"],[0.5555555555555556,\"#d8576b\"],[0.6666666666666666,\"#ed7953\"],[0.7777777777777778,\"#fb9f3a\"],[0.8888888888888888,\"#fdca26\"],[1.0,\"#f0f921\"]],\"type\":\"histogram2d\"}],\"histogram\":[{\"marker\":{\"pattern\":{\"fillmode\":\"overlay\",\"size\":10,\"solidity\":0.2}},\"type\":\"histogram\"}],\"mesh3d\":[{\"colorbar\":{\"outlinewidth\":0,\"ticks\":\"\"},\"type\":\"mesh3d\"}],\"parcoords\":[{\"line\":{\"colorbar\":{\"outlinewidth\":0,\"ticks\":\"\"}},\"type\":\"parcoords\"}],\"pie\":[{\"automargin\":true,\"type\":\"pie\"}],\"scatter3d\":[{\"line\":{\"colorbar\":{\"outlinewidth\":0,\"ticks\":\"\"}},\"marker\":{\"colorbar\":{\"outlinewidth\":0,\"ticks\":\"\"}},\"type\":\"scatter3d\"}],\"scattercarpet\":[{\"marker\":{\"colorbar\":{\"outlinewidth\":0,\"ticks\":\"\"}},\"type\":\"scattercarpet\"}],\"scattergeo\":[{\"marker\":{\"colorbar\":{\"outlinewidth\":0,\"ticks\":\"\"}},\"type\":\"scattergeo\"}],\"scattergl\":[{\"marker\":{\"colorbar\":{\"outlinewidth\":0,\"ticks\":\"\"}},\"type\":\"scattergl\"}],\"scattermapbox\":[{\"marker\":{\"colorbar\":{\"outlinewidth\":0,\"ticks\":\"\"}},\"type\":\"scattermapbox\"}],\"scatterpolargl\":[{\"marker\":{\"colorbar\":{\"outlinewidth\":0,\"ticks\":\"\"}},\"type\":\"scatterpolargl\"}],\"scatterpolar\":[{\"marker\":{\"colorbar\":{\"outlinewidth\":0,\"ticks\":\"\"}},\"type\":\"scatterpolar\"}],\"scatter\":[{\"marker\":{\"colorbar\":{\"outlinewidth\":0,\"ticks\":\"\"}},\"type\":\"scatter\"}],\"scatterternary\":[{\"marker\":{\"colorbar\":{\"outlinewidth\":0,\"ticks\":\"\"}},\"type\":\"scatterternary\"}],\"surface\":[{\"colorbar\":{\"outlinewidth\":0,\"ticks\":\"\"},\"colorscale\":[[0.0,\"#0d0887\"],[0.1111111111111111,\"#46039f\"],[0.2222222222222222,\"#7201a8\"],[0.3333333333333333,\"#9c179e\"],[0.4444444444444444,\"#bd3786\"],[0.5555555555555556,\"#d8576b\"],[0.6666666666666666,\"#ed7953\"],[0.7777777777777778,\"#fb9f3a\"],[0.8888888888888888,\"#fdca26\"],[1.0,\"#f0f921\"]],\"type\":\"surface\"}],\"table\":[{\"cells\":{\"fill\":{\"color\":\"#EBF0F8\"},\"line\":{\"color\":\"white\"}},\"header\":{\"fill\":{\"color\":\"#C8D4E3\"},\"line\":{\"color\":\"white\"}},\"type\":\"table\"}]},\"layout\":{\"annotationdefaults\":{\"arrowcolor\":\"#2a3f5f\",\"arrowhead\":0,\"arrowwidth\":1},\"autotypenumbers\":\"strict\",\"coloraxis\":{\"colorbar\":{\"outlinewidth\":0,\"ticks\":\"\"}},\"colorscale\":{\"diverging\":[[0,\"#8e0152\"],[0.1,\"#c51b7d\"],[0.2,\"#de77ae\"],[0.3,\"#f1b6da\"],[0.4,\"#fde0ef\"],[0.5,\"#f7f7f7\"],[0.6,\"#e6f5d0\"],[0.7,\"#b8e186\"],[0.8,\"#7fbc41\"],[0.9,\"#4d9221\"],[1,\"#276419\"]],\"sequential\":[[0.0,\"#0d0887\"],[0.1111111111111111,\"#46039f\"],[0.2222222222222222,\"#7201a8\"],[0.3333333333333333,\"#9c179e\"],[0.4444444444444444,\"#bd3786\"],[0.5555555555555556,\"#d8576b\"],[0.6666666666666666,\"#ed7953\"],[0.7777777777777778,\"#fb9f3a\"],[0.8888888888888888,\"#fdca26\"],[1.0,\"#f0f921\"]],\"sequentialminus\":[[0.0,\"#0d0887\"],[0.1111111111111111,\"#46039f\"],[0.2222222222222222,\"#7201a8\"],[0.3333333333333333,\"#9c179e\"],[0.4444444444444444,\"#bd3786\"],[0.5555555555555556,\"#d8576b\"],[0.6666666666666666,\"#ed7953\"],[0.7777777777777778,\"#fb9f3a\"],[0.8888888888888888,\"#fdca26\"],[1.0,\"#f0f921\"]]},\"colorway\":[\"#636efa\",\"#EF553B\",\"#00cc96\",\"#ab63fa\",\"#FFA15A\",\"#19d3f3\",\"#FF6692\",\"#B6E880\",\"#FF97FF\",\"#FECB52\"],\"font\":{\"color\":\"#2a3f5f\"},\"geo\":{\"bgcolor\":\"white\",\"lakecolor\":\"white\",\"landcolor\":\"#E5ECF6\",\"showlakes\":true,\"showland\":true,\"subunitcolor\":\"white\"},\"hoverlabel\":{\"align\":\"left\"},\"hovermode\":\"closest\",\"mapbox\":{\"style\":\"light\"},\"paper_bgcolor\":\"white\",\"plot_bgcolor\":\"#E5ECF6\",\"polar\":{\"angularaxis\":{\"gridcolor\":\"white\",\"linecolor\":\"white\",\"ticks\":\"\"},\"bgcolor\":\"#E5ECF6\",\"radialaxis\":{\"gridcolor\":\"white\",\"linecolor\":\"white\",\"ticks\":\"\"}},\"scene\":{\"xaxis\":{\"backgroundcolor\":\"#E5ECF6\",\"gridcolor\":\"white\",\"gridwidth\":2,\"linecolor\":\"white\",\"showbackground\":true,\"ticks\":\"\",\"zerolinecolor\":\"white\"},\"yaxis\":{\"backgroundcolor\":\"#E5ECF6\",\"gridcolor\":\"white\",\"gridwidth\":2,\"linecolor\":\"white\",\"showbackground\":true,\"ticks\":\"\",\"zerolinecolor\":\"white\"},\"zaxis\":{\"backgroundcolor\":\"#E5ECF6\",\"gridcolor\":\"white\",\"gridwidth\":2,\"linecolor\":\"white\",\"showbackground\":true,\"ticks\":\"\",\"zerolinecolor\":\"white\"}},\"shapedefaults\":{\"line\":{\"color\":\"#2a3f5f\"}},\"ternary\":{\"aaxis\":{\"gridcolor\":\"white\",\"linecolor\":\"white\",\"ticks\":\"\"},\"baxis\":{\"gridcolor\":\"white\",\"linecolor\":\"white\",\"ticks\":\"\"},\"bgcolor\":\"#E5ECF6\",\"caxis\":{\"gridcolor\":\"white\",\"linecolor\":\"white\",\"ticks\":\"\"}},\"title\":{\"x\":0.05},\"xaxis\":{\"automargin\":true,\"gridcolor\":\"white\",\"linecolor\":\"white\",\"ticks\":\"\",\"title\":{\"standoff\":15},\"zerolinecolor\":\"white\",\"zerolinewidth\":2},\"yaxis\":{\"automargin\":true,\"gridcolor\":\"white\",\"linecolor\":\"white\",\"ticks\":\"\",\"title\":{\"standoff\":15},\"zerolinecolor\":\"white\",\"zerolinewidth\":2}}},\"title\":{\"font\":{\"color\":\"#4D5663\"}},\"xaxis\":{\"gridcolor\":\"#E1E5ED\",\"showgrid\":true,\"tickfont\":{\"color\":\"#4D5663\"},\"title\":{\"font\":{\"color\":\"#4D5663\"},\"text\":\"\"},\"zerolinecolor\":\"#E1E5ED\"},\"yaxis\":{\"gridcolor\":\"#E1E5ED\",\"showgrid\":true,\"tickfont\":{\"color\":\"#4D5663\"},\"title\":{\"font\":{\"color\":\"#4D5663\"},\"text\":\"\"},\"zerolinecolor\":\"#E1E5ED\"}},                        {\"showLink\": true, \"linkText\": \"Export to plot.ly\", \"plotlyServerURL\": \"https://plot.ly\", \"responsive\": true}                    ).then(function(){\n",
       "                            \n",
       "var gd = document.getElementById('7a621fe1-3c09-4983-96e3-fdcf3cf88ba2');\n",
       "var x = new MutationObserver(function (mutations, observer) {{\n",
       "        var display = window.getComputedStyle(gd).display;\n",
       "        if (!display || display === 'none') {{\n",
       "            console.log([gd, 'removed!']);\n",
       "            Plotly.purge(gd);\n",
       "            observer.disconnect();\n",
       "        }}\n",
       "}});\n",
       "\n",
       "// Listen for the removal of the full notebook cells\n",
       "var notebookContainer = gd.closest('#notebook-container');\n",
       "if (notebookContainer) {{\n",
       "    x.observe(notebookContainer, {childList: true});\n",
       "}}\n",
       "\n",
       "// Listen for the clearing of the current output cell\n",
       "var outputEl = gd.closest('.output');\n",
       "if (outputEl) {{\n",
       "    x.observe(outputEl, {childList: true});\n",
       "}}\n",
       "\n",
       "                        })                };                });            </script>        </div>"
      ]
     },
     "metadata": {},
     "output_type": "display_data"
    }
   ],
   "source": [
    "df.iplot(kind='bubble',x='A',y='B',size='C')"
   ]
  },
  {
   "cell_type": "code",
   "execution_count": 25,
   "id": "6fde267f",
   "metadata": {
    "scrolled": false
   },
   "outputs": [
    {
     "data": {
      "application/vnd.plotly.v1+json": {
       "config": {
        "linkText": "Export to plot.ly",
        "plotlyServerURL": "https://plot.ly",
        "showLink": true
       },
       "data": [
        {
         "histfunc": "count",
         "histnorm": "",
         "marker": {
          "color": "rgba(255, 153, 51, 1.0)",
          "line": {
           "color": "#4D5663",
           "width": 1.3
          }
         },
         "name": "A",
         "nbinsx": 10,
         "opacity": 0.8,
         "orientation": "v",
         "type": "histogram",
         "x": [
          -1.817020332442591,
          -0.48098196817947747,
          1.295157066086587,
          0.07915703940954168,
          -1.3099989138475427,
          0.06443502722863953,
          0.8429902338467029,
          -0.8773579775586074,
          0.46296346004057504,
          0.3460066752440415,
          -1.5090964258815225,
          -0.17929767315087017,
          1.3597925620525149,
          0.1044132807162975,
          0.634140345548099,
          0.6449694398149307,
          0.682739029598082,
          -1.071423148713151,
          1.3412141907457804,
          -2.0253607604150097,
          -0.6575006829762641,
          -0.17629534526442286,
          0.4323052492839113,
          0.6061579721571336,
          0.3390538872710677,
          0.2136221498914424,
          -0.9248743336982881,
          -0.4923106494685157,
          -0.14027220727513648,
          -0.1245854157414283,
          0.3754070935314772,
          0.6687968436024946,
          0.46090626794999184,
          0.6478439273174318,
          0.183863668146813,
          -1.279265961558031,
          0.802914519502553,
          -0.6617214233024067,
          0.40798053779705845,
          0.23659524715385208,
          -1.3116089276171852,
          -1.2724481063971438,
          -0.15342270238770084,
          -0.19734938689819756,
          1.1596643166619882,
          -0.005636088219923547,
          -0.6354557112936142,
          0.00841157757449361,
          0.48174320134418314,
          1.0213266264062488,
          0.3470778151363638,
          1.0253128059996828,
          0.7018347168264457,
          -2.009558285503277,
          0.403384354603036,
          -0.3462865536610784,
          0.6035616992595493,
          -0.30964050576847196,
          0.12320701101952627,
          1.335591270886312,
          0.36552633076117713,
          -1.3009197808756756,
          0.849189361840498,
          0.48156360348950894,
          -0.017253276895772475,
          -0.13428667687120988,
          -0.528177970082618,
          1.0196902755316413,
          1.3853643896167271,
          -0.6250839679301746,
          -1.3060891778316646,
          0.2980133963267906,
          -2.160297033004496,
          0.2376514887002878,
          0.6392880065901926,
          0.13454348300356517,
          -1.4637409882823738,
          1.0202755563129895,
          1.5880348353414337,
          0.07489399111775881,
          2.037016478459296,
          -0.251972946031691,
          0.8288506740682722,
          0.8955414611825695,
          1.2165389060864282,
          1.5064457727306413,
          0.061859146980210056,
          0.16475560467364941,
          0.728842764778092,
          0.38589650375284085,
          0.9594389862303899,
          -0.4598951496142224,
          -0.4720031339202954,
          1.0154972016695023,
          -0.3445588930132589,
          0.7210756485242339,
          -0.6826130598079807,
          0.5697110560318015,
          0.024064000147705544,
          -1.4702867469315202
         ],
         "xaxis": "x",
         "yaxis": "y"
        },
        {
         "line": {
          "color": "rgba(128, 128, 128, 1.0)",
          "dash": "solid",
          "shape": "linear",
          "width": 1.3
         },
         "marker": {
          "size": 2,
          "symbol": "circle"
         },
         "mode": "markers",
         "name": "A",
         "text": "",
         "type": "scatter",
         "x": [
          -0.31958619878517447,
          0.12236833492550536,
          1.0005911448273535,
          0.11683245642945675,
          -0.036646303682910455,
          -1.4565555238871013,
          -0.22388894852612648,
          -0.6443526534508569,
          -1.2341426709423384,
          -0.26248492339228313,
          -1.3301360207440114,
          2.181530294928258,
          -0.7188285551019108,
          0.6261584800289558,
          1.0790046987515314,
          0.36993092952973244,
          -0.14854986225876715,
          -1.0551292102728689,
          -1.163712033089909,
          -1.035174477226583,
          -0.6923472344281039,
          -0.5829820471725831,
          0.10688564903208736,
          1.2901016578643634,
          -0.9861439072349416,
          -1.3403639860404626,
          0.5640300562054309,
          0.8521914504785596,
          -1.7725146263589386,
          -1.8445411092343604,
          -0.06880251081990287,
          1.250121225492265,
          0.06930813405963215,
          -1.0204497934376948,
          2.896448885000695,
          0.5435331300317845,
          1.1293824517425086,
          -0.3226727193654007,
          0.16828865849728697,
          -0.6309354652434254,
          -0.9557360051920409,
          -0.608525762156937,
          -0.2877608080766827,
          -0.767421864672971,
          0.8747239125952794,
          -1.5836537405323652,
          0.5932317169378237,
          0.22155467596449682,
          -0.2946398656833748,
          0.501013083160056,
          -1.4595035573437123,
          -0.600133196317449,
          0.4371009535768002,
          -2.210211643664322,
          0.3987946242518368,
          0.9673048599268973,
          -0.991473339820769,
          1.481431234489536,
          -0.03793162416476574,
          1.1079397655393566,
          -1.369508046106604,
          -0.1649378380752962,
          -0.7352150191288587,
          -1.4239325906110716,
          0.44200726961262254,
          1.0425740063040825,
          0.8844989386981145,
          -2.5816261775021685,
          -0.2990031997249988,
          0.039030433549701274,
          0.8455972801354262,
          0.4294742344327642,
          -0.43682471944814016,
          1.0841609285508675,
          1.1469454716518857,
          -0.2054363362461187,
          -0.5466324358704335,
          -0.7389366044575378,
          -0.16902628340572434,
          -0.19004248977568786,
          -0.49727220556567836,
          0.2796113263981927,
          -1.6861463695938166,
          0.17628961485402045,
          0.3854415954185394,
          -0.35792778347898646,
          -0.056004840344292366,
          0.7640036412727731,
          -1.3155218371664341,
          0.8607461279866138,
          -0.9632096083138955,
          0.2013845338042852,
          0.3273678055928306,
          2.151982269773717,
          -0.3337367592014226,
          -0.6715793937101349,
          -0.02262627338355212,
          -0.7333371089900023,
          0.3689449330022981,
          1.8709776079342886
         ],
         "xaxis": "x2",
         "y": [
          -1.817020332442591,
          -0.48098196817947747,
          1.295157066086587,
          0.07915703940954168,
          -1.3099989138475427,
          0.06443502722863953,
          0.8429902338467029,
          -0.8773579775586074,
          0.46296346004057504,
          0.3460066752440415,
          -1.5090964258815225,
          -0.17929767315087017,
          1.3597925620525149,
          0.1044132807162975,
          0.634140345548099,
          0.6449694398149307,
          0.682739029598082,
          -1.071423148713151,
          1.3412141907457804,
          -2.0253607604150097,
          -0.6575006829762641,
          -0.17629534526442286,
          0.4323052492839113,
          0.6061579721571336,
          0.3390538872710677,
          0.2136221498914424,
          -0.9248743336982881,
          -0.4923106494685157,
          -0.14027220727513648,
          -0.1245854157414283,
          0.3754070935314772,
          0.6687968436024946,
          0.46090626794999184,
          0.6478439273174318,
          0.183863668146813,
          -1.279265961558031,
          0.802914519502553,
          -0.6617214233024067,
          0.40798053779705845,
          0.23659524715385208,
          -1.3116089276171852,
          -1.2724481063971438,
          -0.15342270238770084,
          -0.19734938689819756,
          1.1596643166619882,
          -0.005636088219923547,
          -0.6354557112936142,
          0.00841157757449361,
          0.48174320134418314,
          1.0213266264062488,
          0.3470778151363638,
          1.0253128059996828,
          0.7018347168264457,
          -2.009558285503277,
          0.403384354603036,
          -0.3462865536610784,
          0.6035616992595493,
          -0.30964050576847196,
          0.12320701101952627,
          1.335591270886312,
          0.36552633076117713,
          -1.3009197808756756,
          0.849189361840498,
          0.48156360348950894,
          -0.017253276895772475,
          -0.13428667687120988,
          -0.528177970082618,
          1.0196902755316413,
          1.3853643896167271,
          -0.6250839679301746,
          -1.3060891778316646,
          0.2980133963267906,
          -2.160297033004496,
          0.2376514887002878,
          0.6392880065901926,
          0.13454348300356517,
          -1.4637409882823738,
          1.0202755563129895,
          1.5880348353414337,
          0.07489399111775881,
          2.037016478459296,
          -0.251972946031691,
          0.8288506740682722,
          0.8955414611825695,
          1.2165389060864282,
          1.5064457727306413,
          0.061859146980210056,
          0.16475560467364941,
          0.728842764778092,
          0.38589650375284085,
          0.9594389862303899,
          -0.4598951496142224,
          -0.4720031339202954,
          1.0154972016695023,
          -0.3445588930132589,
          0.7210756485242339,
          -0.6826130598079807,
          0.5697110560318015,
          0.024064000147705544,
          -1.4702867469315202
         ],
         "yaxis": "y2"
        },
        {
         "line": {
          "color": "rgba(128, 128, 128, 1.0)",
          "dash": "solid",
          "shape": "linear",
          "width": 1.3
         },
         "marker": {
          "size": 2,
          "symbol": "circle"
         },
         "mode": "markers",
         "name": "A",
         "text": "",
         "type": "scatter",
         "x": [
          1.0953767652329516,
          1.0674885235210942,
          0.10702710741239999,
          -0.954153685946803,
          -1.0117846817687348,
          -1.248748546330939,
          0.33573629591591553,
          0.09105282444780213,
          -0.740669148990467,
          0.5604153074363686,
          -1.156263488934967,
          0.14141745220162819,
          -0.02195036741740686,
          -2.574394766813021,
          1.112972665858067,
          -1.3959559717282959,
          -1.1084197955034893,
          0.9397167813130121,
          0.35865379355073923,
          -0.04091216165564142,
          0.5917460927696595,
          0.5633415574373425,
          1.0768777697973806,
          -0.580001604449778,
          -0.5408884505927388,
          -0.5570533340947074,
          -0.2794306786219015,
          -0.3758900285760739,
          -0.8436557055097003,
          0.9017423987486539,
          1.2137921129836033,
          -1.232651901917362,
          -0.4152255020506121,
          -0.5550741829104553,
          0.005357956882898781,
          0.7483435968141808,
          1.0011756713653068,
          0.5027780048241728,
          2.7357929212343897,
          1.074126071465053,
          0.5005699474096457,
          -0.5532408933133417,
          -1.2726558386937958,
          0.23731753540874181,
          -0.46520338349774676,
          -0.18438834613668895,
          1.2077286521868627,
          0.7236261545462045,
          -1.7204816845343944,
          -0.6023030332880979,
          0.7561440210904469,
          0.3021160942655366,
          -1.026907699608662,
          -1.2295098597943062,
          0.008325636100983063,
          0.8393746117529984,
          0.447264874149784,
          -0.27278041071657666,
          -0.15423198109448072,
          1.1368568316257275,
          0.4083911186319793,
          -0.07808427251102533,
          -1.1823655795878965,
          1.350417628424253,
          -1.7389847911330285,
          -2.5111769110929747,
          1.2373754600798792,
          -0.31803011445916834,
          0.8351509287147442,
          -0.30933408602372775,
          -0.1067106096295591,
          1.1586410521599493,
          0.1932555811594735,
          0.5076663310320605,
          0.5205839863841363,
          0.7794023849824213,
          -0.8454694626466698,
          0.8667120603331698,
          0.44391874737678555,
          -0.3923489773262638,
          1.3049769621906229,
          -1.3216687973535155,
          -0.8227690572169466,
          -0.36828489240639184,
          0.8637341876668951,
          -0.9498737456139357,
          -1.2237244938865248,
          -1.71936208493555,
          1.264675054118327,
          1.8082347255878342,
          -0.29550822133963267,
          -1.8490463992435888,
          -0.44822613089839825,
          -0.5180106310307114,
          -0.7485568101153796,
          1.6027585948517178,
          0.9627790218198398,
          -0.09776738470744424,
          -0.4061162842529637,
          -0.5613978392914967
         ],
         "xaxis": "x3",
         "y": [
          -1.817020332442591,
          -0.48098196817947747,
          1.295157066086587,
          0.07915703940954168,
          -1.3099989138475427,
          0.06443502722863953,
          0.8429902338467029,
          -0.8773579775586074,
          0.46296346004057504,
          0.3460066752440415,
          -1.5090964258815225,
          -0.17929767315087017,
          1.3597925620525149,
          0.1044132807162975,
          0.634140345548099,
          0.6449694398149307,
          0.682739029598082,
          -1.071423148713151,
          1.3412141907457804,
          -2.0253607604150097,
          -0.6575006829762641,
          -0.17629534526442286,
          0.4323052492839113,
          0.6061579721571336,
          0.3390538872710677,
          0.2136221498914424,
          -0.9248743336982881,
          -0.4923106494685157,
          -0.14027220727513648,
          -0.1245854157414283,
          0.3754070935314772,
          0.6687968436024946,
          0.46090626794999184,
          0.6478439273174318,
          0.183863668146813,
          -1.279265961558031,
          0.802914519502553,
          -0.6617214233024067,
          0.40798053779705845,
          0.23659524715385208,
          -1.3116089276171852,
          -1.2724481063971438,
          -0.15342270238770084,
          -0.19734938689819756,
          1.1596643166619882,
          -0.005636088219923547,
          -0.6354557112936142,
          0.00841157757449361,
          0.48174320134418314,
          1.0213266264062488,
          0.3470778151363638,
          1.0253128059996828,
          0.7018347168264457,
          -2.009558285503277,
          0.403384354603036,
          -0.3462865536610784,
          0.6035616992595493,
          -0.30964050576847196,
          0.12320701101952627,
          1.335591270886312,
          0.36552633076117713,
          -1.3009197808756756,
          0.849189361840498,
          0.48156360348950894,
          -0.017253276895772475,
          -0.13428667687120988,
          -0.528177970082618,
          1.0196902755316413,
          1.3853643896167271,
          -0.6250839679301746,
          -1.3060891778316646,
          0.2980133963267906,
          -2.160297033004496,
          0.2376514887002878,
          0.6392880065901926,
          0.13454348300356517,
          -1.4637409882823738,
          1.0202755563129895,
          1.5880348353414337,
          0.07489399111775881,
          2.037016478459296,
          -0.251972946031691,
          0.8288506740682722,
          0.8955414611825695,
          1.2165389060864282,
          1.5064457727306413,
          0.061859146980210056,
          0.16475560467364941,
          0.728842764778092,
          0.38589650375284085,
          0.9594389862303899,
          -0.4598951496142224,
          -0.4720031339202954,
          1.0154972016695023,
          -0.3445588930132589,
          0.7210756485242339,
          -0.6826130598079807,
          0.5697110560318015,
          0.024064000147705544,
          -1.4702867469315202
         ],
         "yaxis": "y3"
        },
        {
         "line": {
          "color": "rgba(128, 128, 128, 1.0)",
          "dash": "solid",
          "shape": "linear",
          "width": 1.3
         },
         "marker": {
          "size": 2,
          "symbol": "circle"
         },
         "mode": "markers",
         "name": "A",
         "text": "",
         "type": "scatter",
         "x": [
          -0.16698152242796563,
          0.26909329242327334,
          1.5100358375326823,
          0.08893402499514612,
          0.3796726622869942,
          1.8466081554109595,
          0.7040953011510183,
          1.2107636630222662,
          -1.2132296943762197,
          0.879627776754263,
          0.5684442976238012,
          0.5298693940071432,
          -1.674269720437406,
          -0.912630414643611,
          -0.7450917733255941,
          0.0422315272816017,
          -0.3515786869274323,
          1.128527129929655,
          0.9006598876114357,
          -0.34734454559643285,
          -0.3775530324157638,
          -0.21896031926161155,
          0.6478642022089207,
          0.03343285934465391,
          0.8527080991567603,
          -1.1969041163602225,
          1.9810558476039732,
          1.120547376095395,
          -1.9054245027503434,
          0.006929944895255636,
          -1.659883647300653,
          0.51534756102324,
          -0.6176288613825067,
          0.4894694399004788,
          0.5476513689136442,
          0.23584525422475605,
          0.6765460870220769,
          1.916526649821652,
          -0.5729473164384696,
          -1.1853537263517948,
          0.5250366640704713,
          0.03116538517875106,
          -1.243805002108966,
          2.5054193469654042,
          -0.931674239439011,
          -0.4407047224344251,
          -1.2779631173347277,
          -0.7451552297858708,
          0.16478287627577923,
          -1.536865594100219,
          -0.5492611476389664,
          -1.2020303838909674,
          1.337800596471134,
          -0.7980175083892986,
          -1.7696049050138287,
          1.7205949177799915,
          -0.8374118874503188,
          -0.10200136859410983,
          0.01089359859617445,
          0.38358872385159665,
          -0.6160978721745863,
          1.4212623611327182,
          -0.6977551920042057,
          -0.5392560208548826,
          -0.6798260298979372,
          1.2506897853538967,
          -0.23508022203878431,
          0.051804134866280695,
          1.421969711559989,
          -0.5014909849806081,
          1.3379500662712527,
          0.05097568818349346,
          0.3678045414217921,
          0.7844918957876057,
          -0.705664301427625,
          1.908043541102815,
          0.4547664385782509,
          -0.14515610401424958,
          0.8650018400071103,
          0.20120409997833696,
          -1.3480905218314831,
          -1.1842695424955942,
          0.035976627980285544,
          -1.1762328800400228,
          0.5653576799028618,
          0.20074002962261614,
          0.4340173162164649,
          1.3918213975265494,
          0.05222207533041211,
          0.858455625929984,
          -0.7802769532459792,
          -0.12769731696154077,
          -0.04299642426099226,
          0.7761664124267653,
          -0.2950514354006721,
          1.9645412563420428,
          -0.5112906137510908,
          0.7658714369035079,
          -2.0785366758572157,
          -0.8881901513191027
         ],
         "xaxis": "x4",
         "y": [
          -1.817020332442591,
          -0.48098196817947747,
          1.295157066086587,
          0.07915703940954168,
          -1.3099989138475427,
          0.06443502722863953,
          0.8429902338467029,
          -0.8773579775586074,
          0.46296346004057504,
          0.3460066752440415,
          -1.5090964258815225,
          -0.17929767315087017,
          1.3597925620525149,
          0.1044132807162975,
          0.634140345548099,
          0.6449694398149307,
          0.682739029598082,
          -1.071423148713151,
          1.3412141907457804,
          -2.0253607604150097,
          -0.6575006829762641,
          -0.17629534526442286,
          0.4323052492839113,
          0.6061579721571336,
          0.3390538872710677,
          0.2136221498914424,
          -0.9248743336982881,
          -0.4923106494685157,
          -0.14027220727513648,
          -0.1245854157414283,
          0.3754070935314772,
          0.6687968436024946,
          0.46090626794999184,
          0.6478439273174318,
          0.183863668146813,
          -1.279265961558031,
          0.802914519502553,
          -0.6617214233024067,
          0.40798053779705845,
          0.23659524715385208,
          -1.3116089276171852,
          -1.2724481063971438,
          -0.15342270238770084,
          -0.19734938689819756,
          1.1596643166619882,
          -0.005636088219923547,
          -0.6354557112936142,
          0.00841157757449361,
          0.48174320134418314,
          1.0213266264062488,
          0.3470778151363638,
          1.0253128059996828,
          0.7018347168264457,
          -2.009558285503277,
          0.403384354603036,
          -0.3462865536610784,
          0.6035616992595493,
          -0.30964050576847196,
          0.12320701101952627,
          1.335591270886312,
          0.36552633076117713,
          -1.3009197808756756,
          0.849189361840498,
          0.48156360348950894,
          -0.017253276895772475,
          -0.13428667687120988,
          -0.528177970082618,
          1.0196902755316413,
          1.3853643896167271,
          -0.6250839679301746,
          -1.3060891778316646,
          0.2980133963267906,
          -2.160297033004496,
          0.2376514887002878,
          0.6392880065901926,
          0.13454348300356517,
          -1.4637409882823738,
          1.0202755563129895,
          1.5880348353414337,
          0.07489399111775881,
          2.037016478459296,
          -0.251972946031691,
          0.8288506740682722,
          0.8955414611825695,
          1.2165389060864282,
          1.5064457727306413,
          0.061859146980210056,
          0.16475560467364941,
          0.728842764778092,
          0.38589650375284085,
          0.9594389862303899,
          -0.4598951496142224,
          -0.4720031339202954,
          1.0154972016695023,
          -0.3445588930132589,
          0.7210756485242339,
          -0.6826130598079807,
          0.5697110560318015,
          0.024064000147705544,
          -1.4702867469315202
         ],
         "yaxis": "y4"
        },
        {
         "line": {
          "color": "rgba(128, 128, 128, 1.0)",
          "dash": "solid",
          "shape": "linear",
          "width": 1.3
         },
         "marker": {
          "size": 2,
          "symbol": "circle"
         },
         "mode": "markers",
         "name": "B",
         "text": "",
         "type": "scatter",
         "x": [
          -1.817020332442591,
          -0.48098196817947747,
          1.295157066086587,
          0.07915703940954168,
          -1.3099989138475427,
          0.06443502722863953,
          0.8429902338467029,
          -0.8773579775586074,
          0.46296346004057504,
          0.3460066752440415,
          -1.5090964258815225,
          -0.17929767315087017,
          1.3597925620525149,
          0.1044132807162975,
          0.634140345548099,
          0.6449694398149307,
          0.682739029598082,
          -1.071423148713151,
          1.3412141907457804,
          -2.0253607604150097,
          -0.6575006829762641,
          -0.17629534526442286,
          0.4323052492839113,
          0.6061579721571336,
          0.3390538872710677,
          0.2136221498914424,
          -0.9248743336982881,
          -0.4923106494685157,
          -0.14027220727513648,
          -0.1245854157414283,
          0.3754070935314772,
          0.6687968436024946,
          0.46090626794999184,
          0.6478439273174318,
          0.183863668146813,
          -1.279265961558031,
          0.802914519502553,
          -0.6617214233024067,
          0.40798053779705845,
          0.23659524715385208,
          -1.3116089276171852,
          -1.2724481063971438,
          -0.15342270238770084,
          -0.19734938689819756,
          1.1596643166619882,
          -0.005636088219923547,
          -0.6354557112936142,
          0.00841157757449361,
          0.48174320134418314,
          1.0213266264062488,
          0.3470778151363638,
          1.0253128059996828,
          0.7018347168264457,
          -2.009558285503277,
          0.403384354603036,
          -0.3462865536610784,
          0.6035616992595493,
          -0.30964050576847196,
          0.12320701101952627,
          1.335591270886312,
          0.36552633076117713,
          -1.3009197808756756,
          0.849189361840498,
          0.48156360348950894,
          -0.017253276895772475,
          -0.13428667687120988,
          -0.528177970082618,
          1.0196902755316413,
          1.3853643896167271,
          -0.6250839679301746,
          -1.3060891778316646,
          0.2980133963267906,
          -2.160297033004496,
          0.2376514887002878,
          0.6392880065901926,
          0.13454348300356517,
          -1.4637409882823738,
          1.0202755563129895,
          1.5880348353414337,
          0.07489399111775881,
          2.037016478459296,
          -0.251972946031691,
          0.8288506740682722,
          0.8955414611825695,
          1.2165389060864282,
          1.5064457727306413,
          0.061859146980210056,
          0.16475560467364941,
          0.728842764778092,
          0.38589650375284085,
          0.9594389862303899,
          -0.4598951496142224,
          -0.4720031339202954,
          1.0154972016695023,
          -0.3445588930132589,
          0.7210756485242339,
          -0.6826130598079807,
          0.5697110560318015,
          0.024064000147705544,
          -1.4702867469315202
         ],
         "xaxis": "x5",
         "y": [
          -0.31958619878517447,
          0.12236833492550536,
          1.0005911448273535,
          0.11683245642945675,
          -0.036646303682910455,
          -1.4565555238871013,
          -0.22388894852612648,
          -0.6443526534508569,
          -1.2341426709423384,
          -0.26248492339228313,
          -1.3301360207440114,
          2.181530294928258,
          -0.7188285551019108,
          0.6261584800289558,
          1.0790046987515314,
          0.36993092952973244,
          -0.14854986225876715,
          -1.0551292102728689,
          -1.163712033089909,
          -1.035174477226583,
          -0.6923472344281039,
          -0.5829820471725831,
          0.10688564903208736,
          1.2901016578643634,
          -0.9861439072349416,
          -1.3403639860404626,
          0.5640300562054309,
          0.8521914504785596,
          -1.7725146263589386,
          -1.8445411092343604,
          -0.06880251081990287,
          1.250121225492265,
          0.06930813405963215,
          -1.0204497934376948,
          2.896448885000695,
          0.5435331300317845,
          1.1293824517425086,
          -0.3226727193654007,
          0.16828865849728697,
          -0.6309354652434254,
          -0.9557360051920409,
          -0.608525762156937,
          -0.2877608080766827,
          -0.767421864672971,
          0.8747239125952794,
          -1.5836537405323652,
          0.5932317169378237,
          0.22155467596449682,
          -0.2946398656833748,
          0.501013083160056,
          -1.4595035573437123,
          -0.600133196317449,
          0.4371009535768002,
          -2.210211643664322,
          0.3987946242518368,
          0.9673048599268973,
          -0.991473339820769,
          1.481431234489536,
          -0.03793162416476574,
          1.1079397655393566,
          -1.369508046106604,
          -0.1649378380752962,
          -0.7352150191288587,
          -1.4239325906110716,
          0.44200726961262254,
          1.0425740063040825,
          0.8844989386981145,
          -2.5816261775021685,
          -0.2990031997249988,
          0.039030433549701274,
          0.8455972801354262,
          0.4294742344327642,
          -0.43682471944814016,
          1.0841609285508675,
          1.1469454716518857,
          -0.2054363362461187,
          -0.5466324358704335,
          -0.7389366044575378,
          -0.16902628340572434,
          -0.19004248977568786,
          -0.49727220556567836,
          0.2796113263981927,
          -1.6861463695938166,
          0.17628961485402045,
          0.3854415954185394,
          -0.35792778347898646,
          -0.056004840344292366,
          0.7640036412727731,
          -1.3155218371664341,
          0.8607461279866138,
          -0.9632096083138955,
          0.2013845338042852,
          0.3273678055928306,
          2.151982269773717,
          -0.3337367592014226,
          -0.6715793937101349,
          -0.02262627338355212,
          -0.7333371089900023,
          0.3689449330022981,
          1.8709776079342886
         ],
         "yaxis": "y5"
        },
        {
         "histfunc": "count",
         "histnorm": "",
         "marker": {
          "color": "rgba(55, 128, 191, 1.0)",
          "line": {
           "color": "#4D5663",
           "width": 1.3
          }
         },
         "name": "B",
         "nbinsx": 10,
         "opacity": 0.8,
         "orientation": "v",
         "type": "histogram",
         "x": [
          -0.31958619878517447,
          0.12236833492550536,
          1.0005911448273535,
          0.11683245642945675,
          -0.036646303682910455,
          -1.4565555238871013,
          -0.22388894852612648,
          -0.6443526534508569,
          -1.2341426709423384,
          -0.26248492339228313,
          -1.3301360207440114,
          2.181530294928258,
          -0.7188285551019108,
          0.6261584800289558,
          1.0790046987515314,
          0.36993092952973244,
          -0.14854986225876715,
          -1.0551292102728689,
          -1.163712033089909,
          -1.035174477226583,
          -0.6923472344281039,
          -0.5829820471725831,
          0.10688564903208736,
          1.2901016578643634,
          -0.9861439072349416,
          -1.3403639860404626,
          0.5640300562054309,
          0.8521914504785596,
          -1.7725146263589386,
          -1.8445411092343604,
          -0.06880251081990287,
          1.250121225492265,
          0.06930813405963215,
          -1.0204497934376948,
          2.896448885000695,
          0.5435331300317845,
          1.1293824517425086,
          -0.3226727193654007,
          0.16828865849728697,
          -0.6309354652434254,
          -0.9557360051920409,
          -0.608525762156937,
          -0.2877608080766827,
          -0.767421864672971,
          0.8747239125952794,
          -1.5836537405323652,
          0.5932317169378237,
          0.22155467596449682,
          -0.2946398656833748,
          0.501013083160056,
          -1.4595035573437123,
          -0.600133196317449,
          0.4371009535768002,
          -2.210211643664322,
          0.3987946242518368,
          0.9673048599268973,
          -0.991473339820769,
          1.481431234489536,
          -0.03793162416476574,
          1.1079397655393566,
          -1.369508046106604,
          -0.1649378380752962,
          -0.7352150191288587,
          -1.4239325906110716,
          0.44200726961262254,
          1.0425740063040825,
          0.8844989386981145,
          -2.5816261775021685,
          -0.2990031997249988,
          0.039030433549701274,
          0.8455972801354262,
          0.4294742344327642,
          -0.43682471944814016,
          1.0841609285508675,
          1.1469454716518857,
          -0.2054363362461187,
          -0.5466324358704335,
          -0.7389366044575378,
          -0.16902628340572434,
          -0.19004248977568786,
          -0.49727220556567836,
          0.2796113263981927,
          -1.6861463695938166,
          0.17628961485402045,
          0.3854415954185394,
          -0.35792778347898646,
          -0.056004840344292366,
          0.7640036412727731,
          -1.3155218371664341,
          0.8607461279866138,
          -0.9632096083138955,
          0.2013845338042852,
          0.3273678055928306,
          2.151982269773717,
          -0.3337367592014226,
          -0.6715793937101349,
          -0.02262627338355212,
          -0.7333371089900023,
          0.3689449330022981,
          1.8709776079342886
         ],
         "xaxis": "x6",
         "yaxis": "y6"
        },
        {
         "line": {
          "color": "rgba(128, 128, 128, 1.0)",
          "dash": "solid",
          "shape": "linear",
          "width": 1.3
         },
         "marker": {
          "size": 2,
          "symbol": "circle"
         },
         "mode": "markers",
         "name": "B",
         "text": "",
         "type": "scatter",
         "x": [
          1.0953767652329516,
          1.0674885235210942,
          0.10702710741239999,
          -0.954153685946803,
          -1.0117846817687348,
          -1.248748546330939,
          0.33573629591591553,
          0.09105282444780213,
          -0.740669148990467,
          0.5604153074363686,
          -1.156263488934967,
          0.14141745220162819,
          -0.02195036741740686,
          -2.574394766813021,
          1.112972665858067,
          -1.3959559717282959,
          -1.1084197955034893,
          0.9397167813130121,
          0.35865379355073923,
          -0.04091216165564142,
          0.5917460927696595,
          0.5633415574373425,
          1.0768777697973806,
          -0.580001604449778,
          -0.5408884505927388,
          -0.5570533340947074,
          -0.2794306786219015,
          -0.3758900285760739,
          -0.8436557055097003,
          0.9017423987486539,
          1.2137921129836033,
          -1.232651901917362,
          -0.4152255020506121,
          -0.5550741829104553,
          0.005357956882898781,
          0.7483435968141808,
          1.0011756713653068,
          0.5027780048241728,
          2.7357929212343897,
          1.074126071465053,
          0.5005699474096457,
          -0.5532408933133417,
          -1.2726558386937958,
          0.23731753540874181,
          -0.46520338349774676,
          -0.18438834613668895,
          1.2077286521868627,
          0.7236261545462045,
          -1.7204816845343944,
          -0.6023030332880979,
          0.7561440210904469,
          0.3021160942655366,
          -1.026907699608662,
          -1.2295098597943062,
          0.008325636100983063,
          0.8393746117529984,
          0.447264874149784,
          -0.27278041071657666,
          -0.15423198109448072,
          1.1368568316257275,
          0.4083911186319793,
          -0.07808427251102533,
          -1.1823655795878965,
          1.350417628424253,
          -1.7389847911330285,
          -2.5111769110929747,
          1.2373754600798792,
          -0.31803011445916834,
          0.8351509287147442,
          -0.30933408602372775,
          -0.1067106096295591,
          1.1586410521599493,
          0.1932555811594735,
          0.5076663310320605,
          0.5205839863841363,
          0.7794023849824213,
          -0.8454694626466698,
          0.8667120603331698,
          0.44391874737678555,
          -0.3923489773262638,
          1.3049769621906229,
          -1.3216687973535155,
          -0.8227690572169466,
          -0.36828489240639184,
          0.8637341876668951,
          -0.9498737456139357,
          -1.2237244938865248,
          -1.71936208493555,
          1.264675054118327,
          1.8082347255878342,
          -0.29550822133963267,
          -1.8490463992435888,
          -0.44822613089839825,
          -0.5180106310307114,
          -0.7485568101153796,
          1.6027585948517178,
          0.9627790218198398,
          -0.09776738470744424,
          -0.4061162842529637,
          -0.5613978392914967
         ],
         "xaxis": "x7",
         "y": [
          -0.31958619878517447,
          0.12236833492550536,
          1.0005911448273535,
          0.11683245642945675,
          -0.036646303682910455,
          -1.4565555238871013,
          -0.22388894852612648,
          -0.6443526534508569,
          -1.2341426709423384,
          -0.26248492339228313,
          -1.3301360207440114,
          2.181530294928258,
          -0.7188285551019108,
          0.6261584800289558,
          1.0790046987515314,
          0.36993092952973244,
          -0.14854986225876715,
          -1.0551292102728689,
          -1.163712033089909,
          -1.035174477226583,
          -0.6923472344281039,
          -0.5829820471725831,
          0.10688564903208736,
          1.2901016578643634,
          -0.9861439072349416,
          -1.3403639860404626,
          0.5640300562054309,
          0.8521914504785596,
          -1.7725146263589386,
          -1.8445411092343604,
          -0.06880251081990287,
          1.250121225492265,
          0.06930813405963215,
          -1.0204497934376948,
          2.896448885000695,
          0.5435331300317845,
          1.1293824517425086,
          -0.3226727193654007,
          0.16828865849728697,
          -0.6309354652434254,
          -0.9557360051920409,
          -0.608525762156937,
          -0.2877608080766827,
          -0.767421864672971,
          0.8747239125952794,
          -1.5836537405323652,
          0.5932317169378237,
          0.22155467596449682,
          -0.2946398656833748,
          0.501013083160056,
          -1.4595035573437123,
          -0.600133196317449,
          0.4371009535768002,
          -2.210211643664322,
          0.3987946242518368,
          0.9673048599268973,
          -0.991473339820769,
          1.481431234489536,
          -0.03793162416476574,
          1.1079397655393566,
          -1.369508046106604,
          -0.1649378380752962,
          -0.7352150191288587,
          -1.4239325906110716,
          0.44200726961262254,
          1.0425740063040825,
          0.8844989386981145,
          -2.5816261775021685,
          -0.2990031997249988,
          0.039030433549701274,
          0.8455972801354262,
          0.4294742344327642,
          -0.43682471944814016,
          1.0841609285508675,
          1.1469454716518857,
          -0.2054363362461187,
          -0.5466324358704335,
          -0.7389366044575378,
          -0.16902628340572434,
          -0.19004248977568786,
          -0.49727220556567836,
          0.2796113263981927,
          -1.6861463695938166,
          0.17628961485402045,
          0.3854415954185394,
          -0.35792778347898646,
          -0.056004840344292366,
          0.7640036412727731,
          -1.3155218371664341,
          0.8607461279866138,
          -0.9632096083138955,
          0.2013845338042852,
          0.3273678055928306,
          2.151982269773717,
          -0.3337367592014226,
          -0.6715793937101349,
          -0.02262627338355212,
          -0.7333371089900023,
          0.3689449330022981,
          1.8709776079342886
         ],
         "yaxis": "y7"
        },
        {
         "line": {
          "color": "rgba(128, 128, 128, 1.0)",
          "dash": "solid",
          "shape": "linear",
          "width": 1.3
         },
         "marker": {
          "size": 2,
          "symbol": "circle"
         },
         "mode": "markers",
         "name": "B",
         "text": "",
         "type": "scatter",
         "x": [
          -0.16698152242796563,
          0.26909329242327334,
          1.5100358375326823,
          0.08893402499514612,
          0.3796726622869942,
          1.8466081554109595,
          0.7040953011510183,
          1.2107636630222662,
          -1.2132296943762197,
          0.879627776754263,
          0.5684442976238012,
          0.5298693940071432,
          -1.674269720437406,
          -0.912630414643611,
          -0.7450917733255941,
          0.0422315272816017,
          -0.3515786869274323,
          1.128527129929655,
          0.9006598876114357,
          -0.34734454559643285,
          -0.3775530324157638,
          -0.21896031926161155,
          0.6478642022089207,
          0.03343285934465391,
          0.8527080991567603,
          -1.1969041163602225,
          1.9810558476039732,
          1.120547376095395,
          -1.9054245027503434,
          0.006929944895255636,
          -1.659883647300653,
          0.51534756102324,
          -0.6176288613825067,
          0.4894694399004788,
          0.5476513689136442,
          0.23584525422475605,
          0.6765460870220769,
          1.916526649821652,
          -0.5729473164384696,
          -1.1853537263517948,
          0.5250366640704713,
          0.03116538517875106,
          -1.243805002108966,
          2.5054193469654042,
          -0.931674239439011,
          -0.4407047224344251,
          -1.2779631173347277,
          -0.7451552297858708,
          0.16478287627577923,
          -1.536865594100219,
          -0.5492611476389664,
          -1.2020303838909674,
          1.337800596471134,
          -0.7980175083892986,
          -1.7696049050138287,
          1.7205949177799915,
          -0.8374118874503188,
          -0.10200136859410983,
          0.01089359859617445,
          0.38358872385159665,
          -0.6160978721745863,
          1.4212623611327182,
          -0.6977551920042057,
          -0.5392560208548826,
          -0.6798260298979372,
          1.2506897853538967,
          -0.23508022203878431,
          0.051804134866280695,
          1.421969711559989,
          -0.5014909849806081,
          1.3379500662712527,
          0.05097568818349346,
          0.3678045414217921,
          0.7844918957876057,
          -0.705664301427625,
          1.908043541102815,
          0.4547664385782509,
          -0.14515610401424958,
          0.8650018400071103,
          0.20120409997833696,
          -1.3480905218314831,
          -1.1842695424955942,
          0.035976627980285544,
          -1.1762328800400228,
          0.5653576799028618,
          0.20074002962261614,
          0.4340173162164649,
          1.3918213975265494,
          0.05222207533041211,
          0.858455625929984,
          -0.7802769532459792,
          -0.12769731696154077,
          -0.04299642426099226,
          0.7761664124267653,
          -0.2950514354006721,
          1.9645412563420428,
          -0.5112906137510908,
          0.7658714369035079,
          -2.0785366758572157,
          -0.8881901513191027
         ],
         "xaxis": "x8",
         "y": [
          -0.31958619878517447,
          0.12236833492550536,
          1.0005911448273535,
          0.11683245642945675,
          -0.036646303682910455,
          -1.4565555238871013,
          -0.22388894852612648,
          -0.6443526534508569,
          -1.2341426709423384,
          -0.26248492339228313,
          -1.3301360207440114,
          2.181530294928258,
          -0.7188285551019108,
          0.6261584800289558,
          1.0790046987515314,
          0.36993092952973244,
          -0.14854986225876715,
          -1.0551292102728689,
          -1.163712033089909,
          -1.035174477226583,
          -0.6923472344281039,
          -0.5829820471725831,
          0.10688564903208736,
          1.2901016578643634,
          -0.9861439072349416,
          -1.3403639860404626,
          0.5640300562054309,
          0.8521914504785596,
          -1.7725146263589386,
          -1.8445411092343604,
          -0.06880251081990287,
          1.250121225492265,
          0.06930813405963215,
          -1.0204497934376948,
          2.896448885000695,
          0.5435331300317845,
          1.1293824517425086,
          -0.3226727193654007,
          0.16828865849728697,
          -0.6309354652434254,
          -0.9557360051920409,
          -0.608525762156937,
          -0.2877608080766827,
          -0.767421864672971,
          0.8747239125952794,
          -1.5836537405323652,
          0.5932317169378237,
          0.22155467596449682,
          -0.2946398656833748,
          0.501013083160056,
          -1.4595035573437123,
          -0.600133196317449,
          0.4371009535768002,
          -2.210211643664322,
          0.3987946242518368,
          0.9673048599268973,
          -0.991473339820769,
          1.481431234489536,
          -0.03793162416476574,
          1.1079397655393566,
          -1.369508046106604,
          -0.1649378380752962,
          -0.7352150191288587,
          -1.4239325906110716,
          0.44200726961262254,
          1.0425740063040825,
          0.8844989386981145,
          -2.5816261775021685,
          -0.2990031997249988,
          0.039030433549701274,
          0.8455972801354262,
          0.4294742344327642,
          -0.43682471944814016,
          1.0841609285508675,
          1.1469454716518857,
          -0.2054363362461187,
          -0.5466324358704335,
          -0.7389366044575378,
          -0.16902628340572434,
          -0.19004248977568786,
          -0.49727220556567836,
          0.2796113263981927,
          -1.6861463695938166,
          0.17628961485402045,
          0.3854415954185394,
          -0.35792778347898646,
          -0.056004840344292366,
          0.7640036412727731,
          -1.3155218371664341,
          0.8607461279866138,
          -0.9632096083138955,
          0.2013845338042852,
          0.3273678055928306,
          2.151982269773717,
          -0.3337367592014226,
          -0.6715793937101349,
          -0.02262627338355212,
          -0.7333371089900023,
          0.3689449330022981,
          1.8709776079342886
         ],
         "yaxis": "y8"
        },
        {
         "line": {
          "color": "rgba(128, 128, 128, 1.0)",
          "dash": "solid",
          "shape": "linear",
          "width": 1.3
         },
         "marker": {
          "size": 2,
          "symbol": "circle"
         },
         "mode": "markers",
         "name": "C",
         "text": "",
         "type": "scatter",
         "x": [
          -1.817020332442591,
          -0.48098196817947747,
          1.295157066086587,
          0.07915703940954168,
          -1.3099989138475427,
          0.06443502722863953,
          0.8429902338467029,
          -0.8773579775586074,
          0.46296346004057504,
          0.3460066752440415,
          -1.5090964258815225,
          -0.17929767315087017,
          1.3597925620525149,
          0.1044132807162975,
          0.634140345548099,
          0.6449694398149307,
          0.682739029598082,
          -1.071423148713151,
          1.3412141907457804,
          -2.0253607604150097,
          -0.6575006829762641,
          -0.17629534526442286,
          0.4323052492839113,
          0.6061579721571336,
          0.3390538872710677,
          0.2136221498914424,
          -0.9248743336982881,
          -0.4923106494685157,
          -0.14027220727513648,
          -0.1245854157414283,
          0.3754070935314772,
          0.6687968436024946,
          0.46090626794999184,
          0.6478439273174318,
          0.183863668146813,
          -1.279265961558031,
          0.802914519502553,
          -0.6617214233024067,
          0.40798053779705845,
          0.23659524715385208,
          -1.3116089276171852,
          -1.2724481063971438,
          -0.15342270238770084,
          -0.19734938689819756,
          1.1596643166619882,
          -0.005636088219923547,
          -0.6354557112936142,
          0.00841157757449361,
          0.48174320134418314,
          1.0213266264062488,
          0.3470778151363638,
          1.0253128059996828,
          0.7018347168264457,
          -2.009558285503277,
          0.403384354603036,
          -0.3462865536610784,
          0.6035616992595493,
          -0.30964050576847196,
          0.12320701101952627,
          1.335591270886312,
          0.36552633076117713,
          -1.3009197808756756,
          0.849189361840498,
          0.48156360348950894,
          -0.017253276895772475,
          -0.13428667687120988,
          -0.528177970082618,
          1.0196902755316413,
          1.3853643896167271,
          -0.6250839679301746,
          -1.3060891778316646,
          0.2980133963267906,
          -2.160297033004496,
          0.2376514887002878,
          0.6392880065901926,
          0.13454348300356517,
          -1.4637409882823738,
          1.0202755563129895,
          1.5880348353414337,
          0.07489399111775881,
          2.037016478459296,
          -0.251972946031691,
          0.8288506740682722,
          0.8955414611825695,
          1.2165389060864282,
          1.5064457727306413,
          0.061859146980210056,
          0.16475560467364941,
          0.728842764778092,
          0.38589650375284085,
          0.9594389862303899,
          -0.4598951496142224,
          -0.4720031339202954,
          1.0154972016695023,
          -0.3445588930132589,
          0.7210756485242339,
          -0.6826130598079807,
          0.5697110560318015,
          0.024064000147705544,
          -1.4702867469315202
         ],
         "xaxis": "x9",
         "y": [
          1.0953767652329516,
          1.0674885235210942,
          0.10702710741239999,
          -0.954153685946803,
          -1.0117846817687348,
          -1.248748546330939,
          0.33573629591591553,
          0.09105282444780213,
          -0.740669148990467,
          0.5604153074363686,
          -1.156263488934967,
          0.14141745220162819,
          -0.02195036741740686,
          -2.574394766813021,
          1.112972665858067,
          -1.3959559717282959,
          -1.1084197955034893,
          0.9397167813130121,
          0.35865379355073923,
          -0.04091216165564142,
          0.5917460927696595,
          0.5633415574373425,
          1.0768777697973806,
          -0.580001604449778,
          -0.5408884505927388,
          -0.5570533340947074,
          -0.2794306786219015,
          -0.3758900285760739,
          -0.8436557055097003,
          0.9017423987486539,
          1.2137921129836033,
          -1.232651901917362,
          -0.4152255020506121,
          -0.5550741829104553,
          0.005357956882898781,
          0.7483435968141808,
          1.0011756713653068,
          0.5027780048241728,
          2.7357929212343897,
          1.074126071465053,
          0.5005699474096457,
          -0.5532408933133417,
          -1.2726558386937958,
          0.23731753540874181,
          -0.46520338349774676,
          -0.18438834613668895,
          1.2077286521868627,
          0.7236261545462045,
          -1.7204816845343944,
          -0.6023030332880979,
          0.7561440210904469,
          0.3021160942655366,
          -1.026907699608662,
          -1.2295098597943062,
          0.008325636100983063,
          0.8393746117529984,
          0.447264874149784,
          -0.27278041071657666,
          -0.15423198109448072,
          1.1368568316257275,
          0.4083911186319793,
          -0.07808427251102533,
          -1.1823655795878965,
          1.350417628424253,
          -1.7389847911330285,
          -2.5111769110929747,
          1.2373754600798792,
          -0.31803011445916834,
          0.8351509287147442,
          -0.30933408602372775,
          -0.1067106096295591,
          1.1586410521599493,
          0.1932555811594735,
          0.5076663310320605,
          0.5205839863841363,
          0.7794023849824213,
          -0.8454694626466698,
          0.8667120603331698,
          0.44391874737678555,
          -0.3923489773262638,
          1.3049769621906229,
          -1.3216687973535155,
          -0.8227690572169466,
          -0.36828489240639184,
          0.8637341876668951,
          -0.9498737456139357,
          -1.2237244938865248,
          -1.71936208493555,
          1.264675054118327,
          1.8082347255878342,
          -0.29550822133963267,
          -1.8490463992435888,
          -0.44822613089839825,
          -0.5180106310307114,
          -0.7485568101153796,
          1.6027585948517178,
          0.9627790218198398,
          -0.09776738470744424,
          -0.4061162842529637,
          -0.5613978392914967
         ],
         "yaxis": "y9"
        },
        {
         "line": {
          "color": "rgba(128, 128, 128, 1.0)",
          "dash": "solid",
          "shape": "linear",
          "width": 1.3
         },
         "marker": {
          "size": 2,
          "symbol": "circle"
         },
         "mode": "markers",
         "name": "C",
         "text": "",
         "type": "scatter",
         "x": [
          -0.31958619878517447,
          0.12236833492550536,
          1.0005911448273535,
          0.11683245642945675,
          -0.036646303682910455,
          -1.4565555238871013,
          -0.22388894852612648,
          -0.6443526534508569,
          -1.2341426709423384,
          -0.26248492339228313,
          -1.3301360207440114,
          2.181530294928258,
          -0.7188285551019108,
          0.6261584800289558,
          1.0790046987515314,
          0.36993092952973244,
          -0.14854986225876715,
          -1.0551292102728689,
          -1.163712033089909,
          -1.035174477226583,
          -0.6923472344281039,
          -0.5829820471725831,
          0.10688564903208736,
          1.2901016578643634,
          -0.9861439072349416,
          -1.3403639860404626,
          0.5640300562054309,
          0.8521914504785596,
          -1.7725146263589386,
          -1.8445411092343604,
          -0.06880251081990287,
          1.250121225492265,
          0.06930813405963215,
          -1.0204497934376948,
          2.896448885000695,
          0.5435331300317845,
          1.1293824517425086,
          -0.3226727193654007,
          0.16828865849728697,
          -0.6309354652434254,
          -0.9557360051920409,
          -0.608525762156937,
          -0.2877608080766827,
          -0.767421864672971,
          0.8747239125952794,
          -1.5836537405323652,
          0.5932317169378237,
          0.22155467596449682,
          -0.2946398656833748,
          0.501013083160056,
          -1.4595035573437123,
          -0.600133196317449,
          0.4371009535768002,
          -2.210211643664322,
          0.3987946242518368,
          0.9673048599268973,
          -0.991473339820769,
          1.481431234489536,
          -0.03793162416476574,
          1.1079397655393566,
          -1.369508046106604,
          -0.1649378380752962,
          -0.7352150191288587,
          -1.4239325906110716,
          0.44200726961262254,
          1.0425740063040825,
          0.8844989386981145,
          -2.5816261775021685,
          -0.2990031997249988,
          0.039030433549701274,
          0.8455972801354262,
          0.4294742344327642,
          -0.43682471944814016,
          1.0841609285508675,
          1.1469454716518857,
          -0.2054363362461187,
          -0.5466324358704335,
          -0.7389366044575378,
          -0.16902628340572434,
          -0.19004248977568786,
          -0.49727220556567836,
          0.2796113263981927,
          -1.6861463695938166,
          0.17628961485402045,
          0.3854415954185394,
          -0.35792778347898646,
          -0.056004840344292366,
          0.7640036412727731,
          -1.3155218371664341,
          0.8607461279866138,
          -0.9632096083138955,
          0.2013845338042852,
          0.3273678055928306,
          2.151982269773717,
          -0.3337367592014226,
          -0.6715793937101349,
          -0.02262627338355212,
          -0.7333371089900023,
          0.3689449330022981,
          1.8709776079342886
         ],
         "xaxis": "x10",
         "y": [
          1.0953767652329516,
          1.0674885235210942,
          0.10702710741239999,
          -0.954153685946803,
          -1.0117846817687348,
          -1.248748546330939,
          0.33573629591591553,
          0.09105282444780213,
          -0.740669148990467,
          0.5604153074363686,
          -1.156263488934967,
          0.14141745220162819,
          -0.02195036741740686,
          -2.574394766813021,
          1.112972665858067,
          -1.3959559717282959,
          -1.1084197955034893,
          0.9397167813130121,
          0.35865379355073923,
          -0.04091216165564142,
          0.5917460927696595,
          0.5633415574373425,
          1.0768777697973806,
          -0.580001604449778,
          -0.5408884505927388,
          -0.5570533340947074,
          -0.2794306786219015,
          -0.3758900285760739,
          -0.8436557055097003,
          0.9017423987486539,
          1.2137921129836033,
          -1.232651901917362,
          -0.4152255020506121,
          -0.5550741829104553,
          0.005357956882898781,
          0.7483435968141808,
          1.0011756713653068,
          0.5027780048241728,
          2.7357929212343897,
          1.074126071465053,
          0.5005699474096457,
          -0.5532408933133417,
          -1.2726558386937958,
          0.23731753540874181,
          -0.46520338349774676,
          -0.18438834613668895,
          1.2077286521868627,
          0.7236261545462045,
          -1.7204816845343944,
          -0.6023030332880979,
          0.7561440210904469,
          0.3021160942655366,
          -1.026907699608662,
          -1.2295098597943062,
          0.008325636100983063,
          0.8393746117529984,
          0.447264874149784,
          -0.27278041071657666,
          -0.15423198109448072,
          1.1368568316257275,
          0.4083911186319793,
          -0.07808427251102533,
          -1.1823655795878965,
          1.350417628424253,
          -1.7389847911330285,
          -2.5111769110929747,
          1.2373754600798792,
          -0.31803011445916834,
          0.8351509287147442,
          -0.30933408602372775,
          -0.1067106096295591,
          1.1586410521599493,
          0.1932555811594735,
          0.5076663310320605,
          0.5205839863841363,
          0.7794023849824213,
          -0.8454694626466698,
          0.8667120603331698,
          0.44391874737678555,
          -0.3923489773262638,
          1.3049769621906229,
          -1.3216687973535155,
          -0.8227690572169466,
          -0.36828489240639184,
          0.8637341876668951,
          -0.9498737456139357,
          -1.2237244938865248,
          -1.71936208493555,
          1.264675054118327,
          1.8082347255878342,
          -0.29550822133963267,
          -1.8490463992435888,
          -0.44822613089839825,
          -0.5180106310307114,
          -0.7485568101153796,
          1.6027585948517178,
          0.9627790218198398,
          -0.09776738470744424,
          -0.4061162842529637,
          -0.5613978392914967
         ],
         "yaxis": "y10"
        },
        {
         "histfunc": "count",
         "histnorm": "",
         "marker": {
          "color": "rgba(50, 171, 96, 1.0)",
          "line": {
           "color": "#4D5663",
           "width": 1.3
          }
         },
         "name": "C",
         "nbinsx": 10,
         "opacity": 0.8,
         "orientation": "v",
         "type": "histogram",
         "x": [
          1.0953767652329516,
          1.0674885235210942,
          0.10702710741239999,
          -0.954153685946803,
          -1.0117846817687348,
          -1.248748546330939,
          0.33573629591591553,
          0.09105282444780213,
          -0.740669148990467,
          0.5604153074363686,
          -1.156263488934967,
          0.14141745220162819,
          -0.02195036741740686,
          -2.574394766813021,
          1.112972665858067,
          -1.3959559717282959,
          -1.1084197955034893,
          0.9397167813130121,
          0.35865379355073923,
          -0.04091216165564142,
          0.5917460927696595,
          0.5633415574373425,
          1.0768777697973806,
          -0.580001604449778,
          -0.5408884505927388,
          -0.5570533340947074,
          -0.2794306786219015,
          -0.3758900285760739,
          -0.8436557055097003,
          0.9017423987486539,
          1.2137921129836033,
          -1.232651901917362,
          -0.4152255020506121,
          -0.5550741829104553,
          0.005357956882898781,
          0.7483435968141808,
          1.0011756713653068,
          0.5027780048241728,
          2.7357929212343897,
          1.074126071465053,
          0.5005699474096457,
          -0.5532408933133417,
          -1.2726558386937958,
          0.23731753540874181,
          -0.46520338349774676,
          -0.18438834613668895,
          1.2077286521868627,
          0.7236261545462045,
          -1.7204816845343944,
          -0.6023030332880979,
          0.7561440210904469,
          0.3021160942655366,
          -1.026907699608662,
          -1.2295098597943062,
          0.008325636100983063,
          0.8393746117529984,
          0.447264874149784,
          -0.27278041071657666,
          -0.15423198109448072,
          1.1368568316257275,
          0.4083911186319793,
          -0.07808427251102533,
          -1.1823655795878965,
          1.350417628424253,
          -1.7389847911330285,
          -2.5111769110929747,
          1.2373754600798792,
          -0.31803011445916834,
          0.8351509287147442,
          -0.30933408602372775,
          -0.1067106096295591,
          1.1586410521599493,
          0.1932555811594735,
          0.5076663310320605,
          0.5205839863841363,
          0.7794023849824213,
          -0.8454694626466698,
          0.8667120603331698,
          0.44391874737678555,
          -0.3923489773262638,
          1.3049769621906229,
          -1.3216687973535155,
          -0.8227690572169466,
          -0.36828489240639184,
          0.8637341876668951,
          -0.9498737456139357,
          -1.2237244938865248,
          -1.71936208493555,
          1.264675054118327,
          1.8082347255878342,
          -0.29550822133963267,
          -1.8490463992435888,
          -0.44822613089839825,
          -0.5180106310307114,
          -0.7485568101153796,
          1.6027585948517178,
          0.9627790218198398,
          -0.09776738470744424,
          -0.4061162842529637,
          -0.5613978392914967
         ],
         "xaxis": "x11",
         "yaxis": "y11"
        },
        {
         "line": {
          "color": "rgba(128, 128, 128, 1.0)",
          "dash": "solid",
          "shape": "linear",
          "width": 1.3
         },
         "marker": {
          "size": 2,
          "symbol": "circle"
         },
         "mode": "markers",
         "name": "C",
         "text": "",
         "type": "scatter",
         "x": [
          -0.16698152242796563,
          0.26909329242327334,
          1.5100358375326823,
          0.08893402499514612,
          0.3796726622869942,
          1.8466081554109595,
          0.7040953011510183,
          1.2107636630222662,
          -1.2132296943762197,
          0.879627776754263,
          0.5684442976238012,
          0.5298693940071432,
          -1.674269720437406,
          -0.912630414643611,
          -0.7450917733255941,
          0.0422315272816017,
          -0.3515786869274323,
          1.128527129929655,
          0.9006598876114357,
          -0.34734454559643285,
          -0.3775530324157638,
          -0.21896031926161155,
          0.6478642022089207,
          0.03343285934465391,
          0.8527080991567603,
          -1.1969041163602225,
          1.9810558476039732,
          1.120547376095395,
          -1.9054245027503434,
          0.006929944895255636,
          -1.659883647300653,
          0.51534756102324,
          -0.6176288613825067,
          0.4894694399004788,
          0.5476513689136442,
          0.23584525422475605,
          0.6765460870220769,
          1.916526649821652,
          -0.5729473164384696,
          -1.1853537263517948,
          0.5250366640704713,
          0.03116538517875106,
          -1.243805002108966,
          2.5054193469654042,
          -0.931674239439011,
          -0.4407047224344251,
          -1.2779631173347277,
          -0.7451552297858708,
          0.16478287627577923,
          -1.536865594100219,
          -0.5492611476389664,
          -1.2020303838909674,
          1.337800596471134,
          -0.7980175083892986,
          -1.7696049050138287,
          1.7205949177799915,
          -0.8374118874503188,
          -0.10200136859410983,
          0.01089359859617445,
          0.38358872385159665,
          -0.6160978721745863,
          1.4212623611327182,
          -0.6977551920042057,
          -0.5392560208548826,
          -0.6798260298979372,
          1.2506897853538967,
          -0.23508022203878431,
          0.051804134866280695,
          1.421969711559989,
          -0.5014909849806081,
          1.3379500662712527,
          0.05097568818349346,
          0.3678045414217921,
          0.7844918957876057,
          -0.705664301427625,
          1.908043541102815,
          0.4547664385782509,
          -0.14515610401424958,
          0.8650018400071103,
          0.20120409997833696,
          -1.3480905218314831,
          -1.1842695424955942,
          0.035976627980285544,
          -1.1762328800400228,
          0.5653576799028618,
          0.20074002962261614,
          0.4340173162164649,
          1.3918213975265494,
          0.05222207533041211,
          0.858455625929984,
          -0.7802769532459792,
          -0.12769731696154077,
          -0.04299642426099226,
          0.7761664124267653,
          -0.2950514354006721,
          1.9645412563420428,
          -0.5112906137510908,
          0.7658714369035079,
          -2.0785366758572157,
          -0.8881901513191027
         ],
         "xaxis": "x12",
         "y": [
          1.0953767652329516,
          1.0674885235210942,
          0.10702710741239999,
          -0.954153685946803,
          -1.0117846817687348,
          -1.248748546330939,
          0.33573629591591553,
          0.09105282444780213,
          -0.740669148990467,
          0.5604153074363686,
          -1.156263488934967,
          0.14141745220162819,
          -0.02195036741740686,
          -2.574394766813021,
          1.112972665858067,
          -1.3959559717282959,
          -1.1084197955034893,
          0.9397167813130121,
          0.35865379355073923,
          -0.04091216165564142,
          0.5917460927696595,
          0.5633415574373425,
          1.0768777697973806,
          -0.580001604449778,
          -0.5408884505927388,
          -0.5570533340947074,
          -0.2794306786219015,
          -0.3758900285760739,
          -0.8436557055097003,
          0.9017423987486539,
          1.2137921129836033,
          -1.232651901917362,
          -0.4152255020506121,
          -0.5550741829104553,
          0.005357956882898781,
          0.7483435968141808,
          1.0011756713653068,
          0.5027780048241728,
          2.7357929212343897,
          1.074126071465053,
          0.5005699474096457,
          -0.5532408933133417,
          -1.2726558386937958,
          0.23731753540874181,
          -0.46520338349774676,
          -0.18438834613668895,
          1.2077286521868627,
          0.7236261545462045,
          -1.7204816845343944,
          -0.6023030332880979,
          0.7561440210904469,
          0.3021160942655366,
          -1.026907699608662,
          -1.2295098597943062,
          0.008325636100983063,
          0.8393746117529984,
          0.447264874149784,
          -0.27278041071657666,
          -0.15423198109448072,
          1.1368568316257275,
          0.4083911186319793,
          -0.07808427251102533,
          -1.1823655795878965,
          1.350417628424253,
          -1.7389847911330285,
          -2.5111769110929747,
          1.2373754600798792,
          -0.31803011445916834,
          0.8351509287147442,
          -0.30933408602372775,
          -0.1067106096295591,
          1.1586410521599493,
          0.1932555811594735,
          0.5076663310320605,
          0.5205839863841363,
          0.7794023849824213,
          -0.8454694626466698,
          0.8667120603331698,
          0.44391874737678555,
          -0.3923489773262638,
          1.3049769621906229,
          -1.3216687973535155,
          -0.8227690572169466,
          -0.36828489240639184,
          0.8637341876668951,
          -0.9498737456139357,
          -1.2237244938865248,
          -1.71936208493555,
          1.264675054118327,
          1.8082347255878342,
          -0.29550822133963267,
          -1.8490463992435888,
          -0.44822613089839825,
          -0.5180106310307114,
          -0.7485568101153796,
          1.6027585948517178,
          0.9627790218198398,
          -0.09776738470744424,
          -0.4061162842529637,
          -0.5613978392914967
         ],
         "yaxis": "y12"
        },
        {
         "line": {
          "color": "rgba(128, 128, 128, 1.0)",
          "dash": "solid",
          "shape": "linear",
          "width": 1.3
         },
         "marker": {
          "size": 2,
          "symbol": "circle"
         },
         "mode": "markers",
         "name": "D",
         "text": "",
         "type": "scatter",
         "x": [
          -1.817020332442591,
          -0.48098196817947747,
          1.295157066086587,
          0.07915703940954168,
          -1.3099989138475427,
          0.06443502722863953,
          0.8429902338467029,
          -0.8773579775586074,
          0.46296346004057504,
          0.3460066752440415,
          -1.5090964258815225,
          -0.17929767315087017,
          1.3597925620525149,
          0.1044132807162975,
          0.634140345548099,
          0.6449694398149307,
          0.682739029598082,
          -1.071423148713151,
          1.3412141907457804,
          -2.0253607604150097,
          -0.6575006829762641,
          -0.17629534526442286,
          0.4323052492839113,
          0.6061579721571336,
          0.3390538872710677,
          0.2136221498914424,
          -0.9248743336982881,
          -0.4923106494685157,
          -0.14027220727513648,
          -0.1245854157414283,
          0.3754070935314772,
          0.6687968436024946,
          0.46090626794999184,
          0.6478439273174318,
          0.183863668146813,
          -1.279265961558031,
          0.802914519502553,
          -0.6617214233024067,
          0.40798053779705845,
          0.23659524715385208,
          -1.3116089276171852,
          -1.2724481063971438,
          -0.15342270238770084,
          -0.19734938689819756,
          1.1596643166619882,
          -0.005636088219923547,
          -0.6354557112936142,
          0.00841157757449361,
          0.48174320134418314,
          1.0213266264062488,
          0.3470778151363638,
          1.0253128059996828,
          0.7018347168264457,
          -2.009558285503277,
          0.403384354603036,
          -0.3462865536610784,
          0.6035616992595493,
          -0.30964050576847196,
          0.12320701101952627,
          1.335591270886312,
          0.36552633076117713,
          -1.3009197808756756,
          0.849189361840498,
          0.48156360348950894,
          -0.017253276895772475,
          -0.13428667687120988,
          -0.528177970082618,
          1.0196902755316413,
          1.3853643896167271,
          -0.6250839679301746,
          -1.3060891778316646,
          0.2980133963267906,
          -2.160297033004496,
          0.2376514887002878,
          0.6392880065901926,
          0.13454348300356517,
          -1.4637409882823738,
          1.0202755563129895,
          1.5880348353414337,
          0.07489399111775881,
          2.037016478459296,
          -0.251972946031691,
          0.8288506740682722,
          0.8955414611825695,
          1.2165389060864282,
          1.5064457727306413,
          0.061859146980210056,
          0.16475560467364941,
          0.728842764778092,
          0.38589650375284085,
          0.9594389862303899,
          -0.4598951496142224,
          -0.4720031339202954,
          1.0154972016695023,
          -0.3445588930132589,
          0.7210756485242339,
          -0.6826130598079807,
          0.5697110560318015,
          0.024064000147705544,
          -1.4702867469315202
         ],
         "xaxis": "x13",
         "y": [
          -0.16698152242796563,
          0.26909329242327334,
          1.5100358375326823,
          0.08893402499514612,
          0.3796726622869942,
          1.8466081554109595,
          0.7040953011510183,
          1.2107636630222662,
          -1.2132296943762197,
          0.879627776754263,
          0.5684442976238012,
          0.5298693940071432,
          -1.674269720437406,
          -0.912630414643611,
          -0.7450917733255941,
          0.0422315272816017,
          -0.3515786869274323,
          1.128527129929655,
          0.9006598876114357,
          -0.34734454559643285,
          -0.3775530324157638,
          -0.21896031926161155,
          0.6478642022089207,
          0.03343285934465391,
          0.8527080991567603,
          -1.1969041163602225,
          1.9810558476039732,
          1.120547376095395,
          -1.9054245027503434,
          0.006929944895255636,
          -1.659883647300653,
          0.51534756102324,
          -0.6176288613825067,
          0.4894694399004788,
          0.5476513689136442,
          0.23584525422475605,
          0.6765460870220769,
          1.916526649821652,
          -0.5729473164384696,
          -1.1853537263517948,
          0.5250366640704713,
          0.03116538517875106,
          -1.243805002108966,
          2.5054193469654042,
          -0.931674239439011,
          -0.4407047224344251,
          -1.2779631173347277,
          -0.7451552297858708,
          0.16478287627577923,
          -1.536865594100219,
          -0.5492611476389664,
          -1.2020303838909674,
          1.337800596471134,
          -0.7980175083892986,
          -1.7696049050138287,
          1.7205949177799915,
          -0.8374118874503188,
          -0.10200136859410983,
          0.01089359859617445,
          0.38358872385159665,
          -0.6160978721745863,
          1.4212623611327182,
          -0.6977551920042057,
          -0.5392560208548826,
          -0.6798260298979372,
          1.2506897853538967,
          -0.23508022203878431,
          0.051804134866280695,
          1.421969711559989,
          -0.5014909849806081,
          1.3379500662712527,
          0.05097568818349346,
          0.3678045414217921,
          0.7844918957876057,
          -0.705664301427625,
          1.908043541102815,
          0.4547664385782509,
          -0.14515610401424958,
          0.8650018400071103,
          0.20120409997833696,
          -1.3480905218314831,
          -1.1842695424955942,
          0.035976627980285544,
          -1.1762328800400228,
          0.5653576799028618,
          0.20074002962261614,
          0.4340173162164649,
          1.3918213975265494,
          0.05222207533041211,
          0.858455625929984,
          -0.7802769532459792,
          -0.12769731696154077,
          -0.04299642426099226,
          0.7761664124267653,
          -0.2950514354006721,
          1.9645412563420428,
          -0.5112906137510908,
          0.7658714369035079,
          -2.0785366758572157,
          -0.8881901513191027
         ],
         "yaxis": "y13"
        },
        {
         "line": {
          "color": "rgba(128, 128, 128, 1.0)",
          "dash": "solid",
          "shape": "linear",
          "width": 1.3
         },
         "marker": {
          "size": 2,
          "symbol": "circle"
         },
         "mode": "markers",
         "name": "D",
         "text": "",
         "type": "scatter",
         "x": [
          -0.31958619878517447,
          0.12236833492550536,
          1.0005911448273535,
          0.11683245642945675,
          -0.036646303682910455,
          -1.4565555238871013,
          -0.22388894852612648,
          -0.6443526534508569,
          -1.2341426709423384,
          -0.26248492339228313,
          -1.3301360207440114,
          2.181530294928258,
          -0.7188285551019108,
          0.6261584800289558,
          1.0790046987515314,
          0.36993092952973244,
          -0.14854986225876715,
          -1.0551292102728689,
          -1.163712033089909,
          -1.035174477226583,
          -0.6923472344281039,
          -0.5829820471725831,
          0.10688564903208736,
          1.2901016578643634,
          -0.9861439072349416,
          -1.3403639860404626,
          0.5640300562054309,
          0.8521914504785596,
          -1.7725146263589386,
          -1.8445411092343604,
          -0.06880251081990287,
          1.250121225492265,
          0.06930813405963215,
          -1.0204497934376948,
          2.896448885000695,
          0.5435331300317845,
          1.1293824517425086,
          -0.3226727193654007,
          0.16828865849728697,
          -0.6309354652434254,
          -0.9557360051920409,
          -0.608525762156937,
          -0.2877608080766827,
          -0.767421864672971,
          0.8747239125952794,
          -1.5836537405323652,
          0.5932317169378237,
          0.22155467596449682,
          -0.2946398656833748,
          0.501013083160056,
          -1.4595035573437123,
          -0.600133196317449,
          0.4371009535768002,
          -2.210211643664322,
          0.3987946242518368,
          0.9673048599268973,
          -0.991473339820769,
          1.481431234489536,
          -0.03793162416476574,
          1.1079397655393566,
          -1.369508046106604,
          -0.1649378380752962,
          -0.7352150191288587,
          -1.4239325906110716,
          0.44200726961262254,
          1.0425740063040825,
          0.8844989386981145,
          -2.5816261775021685,
          -0.2990031997249988,
          0.039030433549701274,
          0.8455972801354262,
          0.4294742344327642,
          -0.43682471944814016,
          1.0841609285508675,
          1.1469454716518857,
          -0.2054363362461187,
          -0.5466324358704335,
          -0.7389366044575378,
          -0.16902628340572434,
          -0.19004248977568786,
          -0.49727220556567836,
          0.2796113263981927,
          -1.6861463695938166,
          0.17628961485402045,
          0.3854415954185394,
          -0.35792778347898646,
          -0.056004840344292366,
          0.7640036412727731,
          -1.3155218371664341,
          0.8607461279866138,
          -0.9632096083138955,
          0.2013845338042852,
          0.3273678055928306,
          2.151982269773717,
          -0.3337367592014226,
          -0.6715793937101349,
          -0.02262627338355212,
          -0.7333371089900023,
          0.3689449330022981,
          1.8709776079342886
         ],
         "xaxis": "x14",
         "y": [
          -0.16698152242796563,
          0.26909329242327334,
          1.5100358375326823,
          0.08893402499514612,
          0.3796726622869942,
          1.8466081554109595,
          0.7040953011510183,
          1.2107636630222662,
          -1.2132296943762197,
          0.879627776754263,
          0.5684442976238012,
          0.5298693940071432,
          -1.674269720437406,
          -0.912630414643611,
          -0.7450917733255941,
          0.0422315272816017,
          -0.3515786869274323,
          1.128527129929655,
          0.9006598876114357,
          -0.34734454559643285,
          -0.3775530324157638,
          -0.21896031926161155,
          0.6478642022089207,
          0.03343285934465391,
          0.8527080991567603,
          -1.1969041163602225,
          1.9810558476039732,
          1.120547376095395,
          -1.9054245027503434,
          0.006929944895255636,
          -1.659883647300653,
          0.51534756102324,
          -0.6176288613825067,
          0.4894694399004788,
          0.5476513689136442,
          0.23584525422475605,
          0.6765460870220769,
          1.916526649821652,
          -0.5729473164384696,
          -1.1853537263517948,
          0.5250366640704713,
          0.03116538517875106,
          -1.243805002108966,
          2.5054193469654042,
          -0.931674239439011,
          -0.4407047224344251,
          -1.2779631173347277,
          -0.7451552297858708,
          0.16478287627577923,
          -1.536865594100219,
          -0.5492611476389664,
          -1.2020303838909674,
          1.337800596471134,
          -0.7980175083892986,
          -1.7696049050138287,
          1.7205949177799915,
          -0.8374118874503188,
          -0.10200136859410983,
          0.01089359859617445,
          0.38358872385159665,
          -0.6160978721745863,
          1.4212623611327182,
          -0.6977551920042057,
          -0.5392560208548826,
          -0.6798260298979372,
          1.2506897853538967,
          -0.23508022203878431,
          0.051804134866280695,
          1.421969711559989,
          -0.5014909849806081,
          1.3379500662712527,
          0.05097568818349346,
          0.3678045414217921,
          0.7844918957876057,
          -0.705664301427625,
          1.908043541102815,
          0.4547664385782509,
          -0.14515610401424958,
          0.8650018400071103,
          0.20120409997833696,
          -1.3480905218314831,
          -1.1842695424955942,
          0.035976627980285544,
          -1.1762328800400228,
          0.5653576799028618,
          0.20074002962261614,
          0.4340173162164649,
          1.3918213975265494,
          0.05222207533041211,
          0.858455625929984,
          -0.7802769532459792,
          -0.12769731696154077,
          -0.04299642426099226,
          0.7761664124267653,
          -0.2950514354006721,
          1.9645412563420428,
          -0.5112906137510908,
          0.7658714369035079,
          -2.0785366758572157,
          -0.8881901513191027
         ],
         "yaxis": "y14"
        },
        {
         "line": {
          "color": "rgba(128, 128, 128, 1.0)",
          "dash": "solid",
          "shape": "linear",
          "width": 1.3
         },
         "marker": {
          "size": 2,
          "symbol": "circle"
         },
         "mode": "markers",
         "name": "D",
         "text": "",
         "type": "scatter",
         "x": [
          1.0953767652329516,
          1.0674885235210942,
          0.10702710741239999,
          -0.954153685946803,
          -1.0117846817687348,
          -1.248748546330939,
          0.33573629591591553,
          0.09105282444780213,
          -0.740669148990467,
          0.5604153074363686,
          -1.156263488934967,
          0.14141745220162819,
          -0.02195036741740686,
          -2.574394766813021,
          1.112972665858067,
          -1.3959559717282959,
          -1.1084197955034893,
          0.9397167813130121,
          0.35865379355073923,
          -0.04091216165564142,
          0.5917460927696595,
          0.5633415574373425,
          1.0768777697973806,
          -0.580001604449778,
          -0.5408884505927388,
          -0.5570533340947074,
          -0.2794306786219015,
          -0.3758900285760739,
          -0.8436557055097003,
          0.9017423987486539,
          1.2137921129836033,
          -1.232651901917362,
          -0.4152255020506121,
          -0.5550741829104553,
          0.005357956882898781,
          0.7483435968141808,
          1.0011756713653068,
          0.5027780048241728,
          2.7357929212343897,
          1.074126071465053,
          0.5005699474096457,
          -0.5532408933133417,
          -1.2726558386937958,
          0.23731753540874181,
          -0.46520338349774676,
          -0.18438834613668895,
          1.2077286521868627,
          0.7236261545462045,
          -1.7204816845343944,
          -0.6023030332880979,
          0.7561440210904469,
          0.3021160942655366,
          -1.026907699608662,
          -1.2295098597943062,
          0.008325636100983063,
          0.8393746117529984,
          0.447264874149784,
          -0.27278041071657666,
          -0.15423198109448072,
          1.1368568316257275,
          0.4083911186319793,
          -0.07808427251102533,
          -1.1823655795878965,
          1.350417628424253,
          -1.7389847911330285,
          -2.5111769110929747,
          1.2373754600798792,
          -0.31803011445916834,
          0.8351509287147442,
          -0.30933408602372775,
          -0.1067106096295591,
          1.1586410521599493,
          0.1932555811594735,
          0.5076663310320605,
          0.5205839863841363,
          0.7794023849824213,
          -0.8454694626466698,
          0.8667120603331698,
          0.44391874737678555,
          -0.3923489773262638,
          1.3049769621906229,
          -1.3216687973535155,
          -0.8227690572169466,
          -0.36828489240639184,
          0.8637341876668951,
          -0.9498737456139357,
          -1.2237244938865248,
          -1.71936208493555,
          1.264675054118327,
          1.8082347255878342,
          -0.29550822133963267,
          -1.8490463992435888,
          -0.44822613089839825,
          -0.5180106310307114,
          -0.7485568101153796,
          1.6027585948517178,
          0.9627790218198398,
          -0.09776738470744424,
          -0.4061162842529637,
          -0.5613978392914967
         ],
         "xaxis": "x15",
         "y": [
          -0.16698152242796563,
          0.26909329242327334,
          1.5100358375326823,
          0.08893402499514612,
          0.3796726622869942,
          1.8466081554109595,
          0.7040953011510183,
          1.2107636630222662,
          -1.2132296943762197,
          0.879627776754263,
          0.5684442976238012,
          0.5298693940071432,
          -1.674269720437406,
          -0.912630414643611,
          -0.7450917733255941,
          0.0422315272816017,
          -0.3515786869274323,
          1.128527129929655,
          0.9006598876114357,
          -0.34734454559643285,
          -0.3775530324157638,
          -0.21896031926161155,
          0.6478642022089207,
          0.03343285934465391,
          0.8527080991567603,
          -1.1969041163602225,
          1.9810558476039732,
          1.120547376095395,
          -1.9054245027503434,
          0.006929944895255636,
          -1.659883647300653,
          0.51534756102324,
          -0.6176288613825067,
          0.4894694399004788,
          0.5476513689136442,
          0.23584525422475605,
          0.6765460870220769,
          1.916526649821652,
          -0.5729473164384696,
          -1.1853537263517948,
          0.5250366640704713,
          0.03116538517875106,
          -1.243805002108966,
          2.5054193469654042,
          -0.931674239439011,
          -0.4407047224344251,
          -1.2779631173347277,
          -0.7451552297858708,
          0.16478287627577923,
          -1.536865594100219,
          -0.5492611476389664,
          -1.2020303838909674,
          1.337800596471134,
          -0.7980175083892986,
          -1.7696049050138287,
          1.7205949177799915,
          -0.8374118874503188,
          -0.10200136859410983,
          0.01089359859617445,
          0.38358872385159665,
          -0.6160978721745863,
          1.4212623611327182,
          -0.6977551920042057,
          -0.5392560208548826,
          -0.6798260298979372,
          1.2506897853538967,
          -0.23508022203878431,
          0.051804134866280695,
          1.421969711559989,
          -0.5014909849806081,
          1.3379500662712527,
          0.05097568818349346,
          0.3678045414217921,
          0.7844918957876057,
          -0.705664301427625,
          1.908043541102815,
          0.4547664385782509,
          -0.14515610401424958,
          0.8650018400071103,
          0.20120409997833696,
          -1.3480905218314831,
          -1.1842695424955942,
          0.035976627980285544,
          -1.1762328800400228,
          0.5653576799028618,
          0.20074002962261614,
          0.4340173162164649,
          1.3918213975265494,
          0.05222207533041211,
          0.858455625929984,
          -0.7802769532459792,
          -0.12769731696154077,
          -0.04299642426099226,
          0.7761664124267653,
          -0.2950514354006721,
          1.9645412563420428,
          -0.5112906137510908,
          0.7658714369035079,
          -2.0785366758572157,
          -0.8881901513191027
         ],
         "yaxis": "y15"
        },
        {
         "histfunc": "count",
         "histnorm": "",
         "marker": {
          "color": "rgba(128, 0, 128, 1.0)",
          "line": {
           "color": "#4D5663",
           "width": 1.3
          }
         },
         "name": "D",
         "nbinsx": 10,
         "opacity": 0.8,
         "orientation": "v",
         "type": "histogram",
         "x": [
          -0.16698152242796563,
          0.26909329242327334,
          1.5100358375326823,
          0.08893402499514612,
          0.3796726622869942,
          1.8466081554109595,
          0.7040953011510183,
          1.2107636630222662,
          -1.2132296943762197,
          0.879627776754263,
          0.5684442976238012,
          0.5298693940071432,
          -1.674269720437406,
          -0.912630414643611,
          -0.7450917733255941,
          0.0422315272816017,
          -0.3515786869274323,
          1.128527129929655,
          0.9006598876114357,
          -0.34734454559643285,
          -0.3775530324157638,
          -0.21896031926161155,
          0.6478642022089207,
          0.03343285934465391,
          0.8527080991567603,
          -1.1969041163602225,
          1.9810558476039732,
          1.120547376095395,
          -1.9054245027503434,
          0.006929944895255636,
          -1.659883647300653,
          0.51534756102324,
          -0.6176288613825067,
          0.4894694399004788,
          0.5476513689136442,
          0.23584525422475605,
          0.6765460870220769,
          1.916526649821652,
          -0.5729473164384696,
          -1.1853537263517948,
          0.5250366640704713,
          0.03116538517875106,
          -1.243805002108966,
          2.5054193469654042,
          -0.931674239439011,
          -0.4407047224344251,
          -1.2779631173347277,
          -0.7451552297858708,
          0.16478287627577923,
          -1.536865594100219,
          -0.5492611476389664,
          -1.2020303838909674,
          1.337800596471134,
          -0.7980175083892986,
          -1.7696049050138287,
          1.7205949177799915,
          -0.8374118874503188,
          -0.10200136859410983,
          0.01089359859617445,
          0.38358872385159665,
          -0.6160978721745863,
          1.4212623611327182,
          -0.6977551920042057,
          -0.5392560208548826,
          -0.6798260298979372,
          1.2506897853538967,
          -0.23508022203878431,
          0.051804134866280695,
          1.421969711559989,
          -0.5014909849806081,
          1.3379500662712527,
          0.05097568818349346,
          0.3678045414217921,
          0.7844918957876057,
          -0.705664301427625,
          1.908043541102815,
          0.4547664385782509,
          -0.14515610401424958,
          0.8650018400071103,
          0.20120409997833696,
          -1.3480905218314831,
          -1.1842695424955942,
          0.035976627980285544,
          -1.1762328800400228,
          0.5653576799028618,
          0.20074002962261614,
          0.4340173162164649,
          1.3918213975265494,
          0.05222207533041211,
          0.858455625929984,
          -0.7802769532459792,
          -0.12769731696154077,
          -0.04299642426099226,
          0.7761664124267653,
          -0.2950514354006721,
          1.9645412563420428,
          -0.5112906137510908,
          0.7658714369035079,
          -2.0785366758572157,
          -0.8881901513191027
         ],
         "xaxis": "x16",
         "yaxis": "y16"
        }
       ],
       "layout": {
        "bargap": 0.02,
        "legend": {
         "bgcolor": "#F5F6F9",
         "font": {
          "color": "#4D5663"
         }
        },
        "paper_bgcolor": "#F5F6F9",
        "plot_bgcolor": "#F5F6F9",
        "showlegend": false,
        "template": {
         "data": {
          "bar": [
           {
            "error_x": {
             "color": "#2a3f5f"
            },
            "error_y": {
             "color": "#2a3f5f"
            },
            "marker": {
             "line": {
              "color": "#E5ECF6",
              "width": 0.5
             },
             "pattern": {
              "fillmode": "overlay",
              "size": 10,
              "solidity": 0.2
             }
            },
            "type": "bar"
           }
          ],
          "barpolar": [
           {
            "marker": {
             "line": {
              "color": "#E5ECF6",
              "width": 0.5
             },
             "pattern": {
              "fillmode": "overlay",
              "size": 10,
              "solidity": 0.2
             }
            },
            "type": "barpolar"
           }
          ],
          "carpet": [
           {
            "aaxis": {
             "endlinecolor": "#2a3f5f",
             "gridcolor": "white",
             "linecolor": "white",
             "minorgridcolor": "white",
             "startlinecolor": "#2a3f5f"
            },
            "baxis": {
             "endlinecolor": "#2a3f5f",
             "gridcolor": "white",
             "linecolor": "white",
             "minorgridcolor": "white",
             "startlinecolor": "#2a3f5f"
            },
            "type": "carpet"
           }
          ],
          "choropleth": [
           {
            "colorbar": {
             "outlinewidth": 0,
             "ticks": ""
            },
            "type": "choropleth"
           }
          ],
          "contour": [
           {
            "colorbar": {
             "outlinewidth": 0,
             "ticks": ""
            },
            "colorscale": [
             [
              0,
              "#0d0887"
             ],
             [
              0.1111111111111111,
              "#46039f"
             ],
             [
              0.2222222222222222,
              "#7201a8"
             ],
             [
              0.3333333333333333,
              "#9c179e"
             ],
             [
              0.4444444444444444,
              "#bd3786"
             ],
             [
              0.5555555555555556,
              "#d8576b"
             ],
             [
              0.6666666666666666,
              "#ed7953"
             ],
             [
              0.7777777777777778,
              "#fb9f3a"
             ],
             [
              0.8888888888888888,
              "#fdca26"
             ],
             [
              1,
              "#f0f921"
             ]
            ],
            "type": "contour"
           }
          ],
          "contourcarpet": [
           {
            "colorbar": {
             "outlinewidth": 0,
             "ticks": ""
            },
            "type": "contourcarpet"
           }
          ],
          "heatmap": [
           {
            "colorbar": {
             "outlinewidth": 0,
             "ticks": ""
            },
            "colorscale": [
             [
              0,
              "#0d0887"
             ],
             [
              0.1111111111111111,
              "#46039f"
             ],
             [
              0.2222222222222222,
              "#7201a8"
             ],
             [
              0.3333333333333333,
              "#9c179e"
             ],
             [
              0.4444444444444444,
              "#bd3786"
             ],
             [
              0.5555555555555556,
              "#d8576b"
             ],
             [
              0.6666666666666666,
              "#ed7953"
             ],
             [
              0.7777777777777778,
              "#fb9f3a"
             ],
             [
              0.8888888888888888,
              "#fdca26"
             ],
             [
              1,
              "#f0f921"
             ]
            ],
            "type": "heatmap"
           }
          ],
          "heatmapgl": [
           {
            "colorbar": {
             "outlinewidth": 0,
             "ticks": ""
            },
            "colorscale": [
             [
              0,
              "#0d0887"
             ],
             [
              0.1111111111111111,
              "#46039f"
             ],
             [
              0.2222222222222222,
              "#7201a8"
             ],
             [
              0.3333333333333333,
              "#9c179e"
             ],
             [
              0.4444444444444444,
              "#bd3786"
             ],
             [
              0.5555555555555556,
              "#d8576b"
             ],
             [
              0.6666666666666666,
              "#ed7953"
             ],
             [
              0.7777777777777778,
              "#fb9f3a"
             ],
             [
              0.8888888888888888,
              "#fdca26"
             ],
             [
              1,
              "#f0f921"
             ]
            ],
            "type": "heatmapgl"
           }
          ],
          "histogram": [
           {
            "marker": {
             "pattern": {
              "fillmode": "overlay",
              "size": 10,
              "solidity": 0.2
             }
            },
            "type": "histogram"
           }
          ],
          "histogram2d": [
           {
            "colorbar": {
             "outlinewidth": 0,
             "ticks": ""
            },
            "colorscale": [
             [
              0,
              "#0d0887"
             ],
             [
              0.1111111111111111,
              "#46039f"
             ],
             [
              0.2222222222222222,
              "#7201a8"
             ],
             [
              0.3333333333333333,
              "#9c179e"
             ],
             [
              0.4444444444444444,
              "#bd3786"
             ],
             [
              0.5555555555555556,
              "#d8576b"
             ],
             [
              0.6666666666666666,
              "#ed7953"
             ],
             [
              0.7777777777777778,
              "#fb9f3a"
             ],
             [
              0.8888888888888888,
              "#fdca26"
             ],
             [
              1,
              "#f0f921"
             ]
            ],
            "type": "histogram2d"
           }
          ],
          "histogram2dcontour": [
           {
            "colorbar": {
             "outlinewidth": 0,
             "ticks": ""
            },
            "colorscale": [
             [
              0,
              "#0d0887"
             ],
             [
              0.1111111111111111,
              "#46039f"
             ],
             [
              0.2222222222222222,
              "#7201a8"
             ],
             [
              0.3333333333333333,
              "#9c179e"
             ],
             [
              0.4444444444444444,
              "#bd3786"
             ],
             [
              0.5555555555555556,
              "#d8576b"
             ],
             [
              0.6666666666666666,
              "#ed7953"
             ],
             [
              0.7777777777777778,
              "#fb9f3a"
             ],
             [
              0.8888888888888888,
              "#fdca26"
             ],
             [
              1,
              "#f0f921"
             ]
            ],
            "type": "histogram2dcontour"
           }
          ],
          "mesh3d": [
           {
            "colorbar": {
             "outlinewidth": 0,
             "ticks": ""
            },
            "type": "mesh3d"
           }
          ],
          "parcoords": [
           {
            "line": {
             "colorbar": {
              "outlinewidth": 0,
              "ticks": ""
             }
            },
            "type": "parcoords"
           }
          ],
          "pie": [
           {
            "automargin": true,
            "type": "pie"
           }
          ],
          "scatter": [
           {
            "marker": {
             "colorbar": {
              "outlinewidth": 0,
              "ticks": ""
             }
            },
            "type": "scatter"
           }
          ],
          "scatter3d": [
           {
            "line": {
             "colorbar": {
              "outlinewidth": 0,
              "ticks": ""
             }
            },
            "marker": {
             "colorbar": {
              "outlinewidth": 0,
              "ticks": ""
             }
            },
            "type": "scatter3d"
           }
          ],
          "scattercarpet": [
           {
            "marker": {
             "colorbar": {
              "outlinewidth": 0,
              "ticks": ""
             }
            },
            "type": "scattercarpet"
           }
          ],
          "scattergeo": [
           {
            "marker": {
             "colorbar": {
              "outlinewidth": 0,
              "ticks": ""
             }
            },
            "type": "scattergeo"
           }
          ],
          "scattergl": [
           {
            "marker": {
             "colorbar": {
              "outlinewidth": 0,
              "ticks": ""
             }
            },
            "type": "scattergl"
           }
          ],
          "scattermapbox": [
           {
            "marker": {
             "colorbar": {
              "outlinewidth": 0,
              "ticks": ""
             }
            },
            "type": "scattermapbox"
           }
          ],
          "scatterpolar": [
           {
            "marker": {
             "colorbar": {
              "outlinewidth": 0,
              "ticks": ""
             }
            },
            "type": "scatterpolar"
           }
          ],
          "scatterpolargl": [
           {
            "marker": {
             "colorbar": {
              "outlinewidth": 0,
              "ticks": ""
             }
            },
            "type": "scatterpolargl"
           }
          ],
          "scatterternary": [
           {
            "marker": {
             "colorbar": {
              "outlinewidth": 0,
              "ticks": ""
             }
            },
            "type": "scatterternary"
           }
          ],
          "surface": [
           {
            "colorbar": {
             "outlinewidth": 0,
             "ticks": ""
            },
            "colorscale": [
             [
              0,
              "#0d0887"
             ],
             [
              0.1111111111111111,
              "#46039f"
             ],
             [
              0.2222222222222222,
              "#7201a8"
             ],
             [
              0.3333333333333333,
              "#9c179e"
             ],
             [
              0.4444444444444444,
              "#bd3786"
             ],
             [
              0.5555555555555556,
              "#d8576b"
             ],
             [
              0.6666666666666666,
              "#ed7953"
             ],
             [
              0.7777777777777778,
              "#fb9f3a"
             ],
             [
              0.8888888888888888,
              "#fdca26"
             ],
             [
              1,
              "#f0f921"
             ]
            ],
            "type": "surface"
           }
          ],
          "table": [
           {
            "cells": {
             "fill": {
              "color": "#EBF0F8"
             },
             "line": {
              "color": "white"
             }
            },
            "header": {
             "fill": {
              "color": "#C8D4E3"
             },
             "line": {
              "color": "white"
             }
            },
            "type": "table"
           }
          ]
         },
         "layout": {
          "annotationdefaults": {
           "arrowcolor": "#2a3f5f",
           "arrowhead": 0,
           "arrowwidth": 1
          },
          "autotypenumbers": "strict",
          "coloraxis": {
           "colorbar": {
            "outlinewidth": 0,
            "ticks": ""
           }
          },
          "colorscale": {
           "diverging": [
            [
             0,
             "#8e0152"
            ],
            [
             0.1,
             "#c51b7d"
            ],
            [
             0.2,
             "#de77ae"
            ],
            [
             0.3,
             "#f1b6da"
            ],
            [
             0.4,
             "#fde0ef"
            ],
            [
             0.5,
             "#f7f7f7"
            ],
            [
             0.6,
             "#e6f5d0"
            ],
            [
             0.7,
             "#b8e186"
            ],
            [
             0.8,
             "#7fbc41"
            ],
            [
             0.9,
             "#4d9221"
            ],
            [
             1,
             "#276419"
            ]
           ],
           "sequential": [
            [
             0,
             "#0d0887"
            ],
            [
             0.1111111111111111,
             "#46039f"
            ],
            [
             0.2222222222222222,
             "#7201a8"
            ],
            [
             0.3333333333333333,
             "#9c179e"
            ],
            [
             0.4444444444444444,
             "#bd3786"
            ],
            [
             0.5555555555555556,
             "#d8576b"
            ],
            [
             0.6666666666666666,
             "#ed7953"
            ],
            [
             0.7777777777777778,
             "#fb9f3a"
            ],
            [
             0.8888888888888888,
             "#fdca26"
            ],
            [
             1,
             "#f0f921"
            ]
           ],
           "sequentialminus": [
            [
             0,
             "#0d0887"
            ],
            [
             0.1111111111111111,
             "#46039f"
            ],
            [
             0.2222222222222222,
             "#7201a8"
            ],
            [
             0.3333333333333333,
             "#9c179e"
            ],
            [
             0.4444444444444444,
             "#bd3786"
            ],
            [
             0.5555555555555556,
             "#d8576b"
            ],
            [
             0.6666666666666666,
             "#ed7953"
            ],
            [
             0.7777777777777778,
             "#fb9f3a"
            ],
            [
             0.8888888888888888,
             "#fdca26"
            ],
            [
             1,
             "#f0f921"
            ]
           ]
          },
          "colorway": [
           "#636efa",
           "#EF553B",
           "#00cc96",
           "#ab63fa",
           "#FFA15A",
           "#19d3f3",
           "#FF6692",
           "#B6E880",
           "#FF97FF",
           "#FECB52"
          ],
          "font": {
           "color": "#2a3f5f"
          },
          "geo": {
           "bgcolor": "white",
           "lakecolor": "white",
           "landcolor": "#E5ECF6",
           "showlakes": true,
           "showland": true,
           "subunitcolor": "white"
          },
          "hoverlabel": {
           "align": "left"
          },
          "hovermode": "closest",
          "mapbox": {
           "style": "light"
          },
          "paper_bgcolor": "white",
          "plot_bgcolor": "#E5ECF6",
          "polar": {
           "angularaxis": {
            "gridcolor": "white",
            "linecolor": "white",
            "ticks": ""
           },
           "bgcolor": "#E5ECF6",
           "radialaxis": {
            "gridcolor": "white",
            "linecolor": "white",
            "ticks": ""
           }
          },
          "scene": {
           "xaxis": {
            "backgroundcolor": "#E5ECF6",
            "gridcolor": "white",
            "gridwidth": 2,
            "linecolor": "white",
            "showbackground": true,
            "ticks": "",
            "zerolinecolor": "white"
           },
           "yaxis": {
            "backgroundcolor": "#E5ECF6",
            "gridcolor": "white",
            "gridwidth": 2,
            "linecolor": "white",
            "showbackground": true,
            "ticks": "",
            "zerolinecolor": "white"
           },
           "zaxis": {
            "backgroundcolor": "#E5ECF6",
            "gridcolor": "white",
            "gridwidth": 2,
            "linecolor": "white",
            "showbackground": true,
            "ticks": "",
            "zerolinecolor": "white"
           }
          },
          "shapedefaults": {
           "line": {
            "color": "#2a3f5f"
           }
          },
          "ternary": {
           "aaxis": {
            "gridcolor": "white",
            "linecolor": "white",
            "ticks": ""
           },
           "baxis": {
            "gridcolor": "white",
            "linecolor": "white",
            "ticks": ""
           },
           "bgcolor": "#E5ECF6",
           "caxis": {
            "gridcolor": "white",
            "linecolor": "white",
            "ticks": ""
           }
          },
          "title": {
           "x": 0.05
          },
          "xaxis": {
           "automargin": true,
           "gridcolor": "white",
           "linecolor": "white",
           "ticks": "",
           "title": {
            "standoff": 15
           },
           "zerolinecolor": "white",
           "zerolinewidth": 2
          },
          "yaxis": {
           "automargin": true,
           "gridcolor": "white",
           "linecolor": "white",
           "ticks": "",
           "title": {
            "standoff": 15
           },
           "zerolinecolor": "white",
           "zerolinewidth": 2
          }
         }
        },
        "title": {
         "font": {
          "color": "#4D5663"
         }
        },
        "xaxis": {
         "anchor": "y",
         "domain": [
          0,
          0.2125
         ],
         "gridcolor": "#E1E5ED",
         "showgrid": false,
         "tickfont": {
          "color": "#4D5663"
         },
         "title": {
          "font": {
           "color": "#4D5663"
          },
          "text": ""
         },
         "zerolinecolor": "#E1E5ED"
        },
        "xaxis10": {
         "anchor": "y10",
         "domain": [
          0.2625,
          0.475
         ],
         "gridcolor": "#E1E5ED",
         "showgrid": false,
         "tickfont": {
          "color": "#4D5663"
         },
         "title": {
          "font": {
           "color": "#4D5663"
          },
          "text": ""
         },
         "zerolinecolor": "#E1E5ED"
        },
        "xaxis11": {
         "anchor": "y11",
         "domain": [
          0.525,
          0.7375
         ],
         "gridcolor": "#E1E5ED",
         "showgrid": false,
         "tickfont": {
          "color": "#4D5663"
         },
         "title": {
          "font": {
           "color": "#4D5663"
          },
          "text": ""
         },
         "zerolinecolor": "#E1E5ED"
        },
        "xaxis12": {
         "anchor": "y12",
         "domain": [
          0.7875,
          1
         ],
         "gridcolor": "#E1E5ED",
         "showgrid": false,
         "tickfont": {
          "color": "#4D5663"
         },
         "title": {
          "font": {
           "color": "#4D5663"
          },
          "text": ""
         },
         "zerolinecolor": "#E1E5ED"
        },
        "xaxis13": {
         "anchor": "y13",
         "domain": [
          0,
          0.2125
         ],
         "gridcolor": "#E1E5ED",
         "showgrid": false,
         "tickfont": {
          "color": "#4D5663"
         },
         "title": {
          "font": {
           "color": "#4D5663"
          },
          "text": ""
         },
         "zerolinecolor": "#E1E5ED"
        },
        "xaxis14": {
         "anchor": "y14",
         "domain": [
          0.2625,
          0.475
         ],
         "gridcolor": "#E1E5ED",
         "showgrid": false,
         "tickfont": {
          "color": "#4D5663"
         },
         "title": {
          "font": {
           "color": "#4D5663"
          },
          "text": ""
         },
         "zerolinecolor": "#E1E5ED"
        },
        "xaxis15": {
         "anchor": "y15",
         "domain": [
          0.525,
          0.7375
         ],
         "gridcolor": "#E1E5ED",
         "showgrid": false,
         "tickfont": {
          "color": "#4D5663"
         },
         "title": {
          "font": {
           "color": "#4D5663"
          },
          "text": ""
         },
         "zerolinecolor": "#E1E5ED"
        },
        "xaxis16": {
         "anchor": "y16",
         "domain": [
          0.7875,
          1
         ],
         "gridcolor": "#E1E5ED",
         "showgrid": false,
         "tickfont": {
          "color": "#4D5663"
         },
         "title": {
          "font": {
           "color": "#4D5663"
          },
          "text": ""
         },
         "zerolinecolor": "#E1E5ED"
        },
        "xaxis2": {
         "anchor": "y2",
         "domain": [
          0.2625,
          0.475
         ],
         "gridcolor": "#E1E5ED",
         "showgrid": false,
         "tickfont": {
          "color": "#4D5663"
         },
         "title": {
          "font": {
           "color": "#4D5663"
          },
          "text": ""
         },
         "zerolinecolor": "#E1E5ED"
        },
        "xaxis3": {
         "anchor": "y3",
         "domain": [
          0.525,
          0.7375
         ],
         "gridcolor": "#E1E5ED",
         "showgrid": false,
         "tickfont": {
          "color": "#4D5663"
         },
         "title": {
          "font": {
           "color": "#4D5663"
          },
          "text": ""
         },
         "zerolinecolor": "#E1E5ED"
        },
        "xaxis4": {
         "anchor": "y4",
         "domain": [
          0.7875,
          1
         ],
         "gridcolor": "#E1E5ED",
         "showgrid": false,
         "tickfont": {
          "color": "#4D5663"
         },
         "title": {
          "font": {
           "color": "#4D5663"
          },
          "text": ""
         },
         "zerolinecolor": "#E1E5ED"
        },
        "xaxis5": {
         "anchor": "y5",
         "domain": [
          0,
          0.2125
         ],
         "gridcolor": "#E1E5ED",
         "showgrid": false,
         "tickfont": {
          "color": "#4D5663"
         },
         "title": {
          "font": {
           "color": "#4D5663"
          },
          "text": ""
         },
         "zerolinecolor": "#E1E5ED"
        },
        "xaxis6": {
         "anchor": "y6",
         "domain": [
          0.2625,
          0.475
         ],
         "gridcolor": "#E1E5ED",
         "showgrid": false,
         "tickfont": {
          "color": "#4D5663"
         },
         "title": {
          "font": {
           "color": "#4D5663"
          },
          "text": ""
         },
         "zerolinecolor": "#E1E5ED"
        },
        "xaxis7": {
         "anchor": "y7",
         "domain": [
          0.525,
          0.7375
         ],
         "gridcolor": "#E1E5ED",
         "showgrid": false,
         "tickfont": {
          "color": "#4D5663"
         },
         "title": {
          "font": {
           "color": "#4D5663"
          },
          "text": ""
         },
         "zerolinecolor": "#E1E5ED"
        },
        "xaxis8": {
         "anchor": "y8",
         "domain": [
          0.7875,
          1
         ],
         "gridcolor": "#E1E5ED",
         "showgrid": false,
         "tickfont": {
          "color": "#4D5663"
         },
         "title": {
          "font": {
           "color": "#4D5663"
          },
          "text": ""
         },
         "zerolinecolor": "#E1E5ED"
        },
        "xaxis9": {
         "anchor": "y9",
         "domain": [
          0,
          0.2125
         ],
         "gridcolor": "#E1E5ED",
         "showgrid": false,
         "tickfont": {
          "color": "#4D5663"
         },
         "title": {
          "font": {
           "color": "#4D5663"
          },
          "text": ""
         },
         "zerolinecolor": "#E1E5ED"
        },
        "yaxis": {
         "anchor": "x",
         "domain": [
          0.8025,
          1
         ],
         "gridcolor": "#E1E5ED",
         "showgrid": false,
         "tickfont": {
          "color": "#4D5663"
         },
         "title": {
          "font": {
           "color": "#4D5663"
          },
          "text": ""
         },
         "zerolinecolor": "#E1E5ED"
        },
        "yaxis10": {
         "anchor": "x10",
         "domain": [
          0.2675,
          0.465
         ],
         "gridcolor": "#E1E5ED",
         "showgrid": false,
         "tickfont": {
          "color": "#4D5663"
         },
         "title": {
          "font": {
           "color": "#4D5663"
          },
          "text": ""
         },
         "zerolinecolor": "#E1E5ED"
        },
        "yaxis11": {
         "anchor": "x11",
         "domain": [
          0.2675,
          0.465
         ],
         "gridcolor": "#E1E5ED",
         "showgrid": false,
         "tickfont": {
          "color": "#4D5663"
         },
         "title": {
          "font": {
           "color": "#4D5663"
          },
          "text": ""
         },
         "zerolinecolor": "#E1E5ED"
        },
        "yaxis12": {
         "anchor": "x12",
         "domain": [
          0.2675,
          0.465
         ],
         "gridcolor": "#E1E5ED",
         "showgrid": false,
         "tickfont": {
          "color": "#4D5663"
         },
         "title": {
          "font": {
           "color": "#4D5663"
          },
          "text": ""
         },
         "zerolinecolor": "#E1E5ED"
        },
        "yaxis13": {
         "anchor": "x13",
         "domain": [
          0,
          0.1975
         ],
         "gridcolor": "#E1E5ED",
         "showgrid": false,
         "tickfont": {
          "color": "#4D5663"
         },
         "title": {
          "font": {
           "color": "#4D5663"
          },
          "text": ""
         },
         "zerolinecolor": "#E1E5ED"
        },
        "yaxis14": {
         "anchor": "x14",
         "domain": [
          0,
          0.1975
         ],
         "gridcolor": "#E1E5ED",
         "showgrid": false,
         "tickfont": {
          "color": "#4D5663"
         },
         "title": {
          "font": {
           "color": "#4D5663"
          },
          "text": ""
         },
         "zerolinecolor": "#E1E5ED"
        },
        "yaxis15": {
         "anchor": "x15",
         "domain": [
          0,
          0.1975
         ],
         "gridcolor": "#E1E5ED",
         "showgrid": false,
         "tickfont": {
          "color": "#4D5663"
         },
         "title": {
          "font": {
           "color": "#4D5663"
          },
          "text": ""
         },
         "zerolinecolor": "#E1E5ED"
        },
        "yaxis16": {
         "anchor": "x16",
         "domain": [
          0,
          0.1975
         ],
         "gridcolor": "#E1E5ED",
         "showgrid": false,
         "tickfont": {
          "color": "#4D5663"
         },
         "title": {
          "font": {
           "color": "#4D5663"
          },
          "text": ""
         },
         "zerolinecolor": "#E1E5ED"
        },
        "yaxis2": {
         "anchor": "x2",
         "domain": [
          0.8025,
          1
         ],
         "gridcolor": "#E1E5ED",
         "showgrid": false,
         "tickfont": {
          "color": "#4D5663"
         },
         "title": {
          "font": {
           "color": "#4D5663"
          },
          "text": ""
         },
         "zerolinecolor": "#E1E5ED"
        },
        "yaxis3": {
         "anchor": "x3",
         "domain": [
          0.8025,
          1
         ],
         "gridcolor": "#E1E5ED",
         "showgrid": false,
         "tickfont": {
          "color": "#4D5663"
         },
         "title": {
          "font": {
           "color": "#4D5663"
          },
          "text": ""
         },
         "zerolinecolor": "#E1E5ED"
        },
        "yaxis4": {
         "anchor": "x4",
         "domain": [
          0.8025,
          1
         ],
         "gridcolor": "#E1E5ED",
         "showgrid": false,
         "tickfont": {
          "color": "#4D5663"
         },
         "title": {
          "font": {
           "color": "#4D5663"
          },
          "text": ""
         },
         "zerolinecolor": "#E1E5ED"
        },
        "yaxis5": {
         "anchor": "x5",
         "domain": [
          0.535,
          0.7325
         ],
         "gridcolor": "#E1E5ED",
         "showgrid": false,
         "tickfont": {
          "color": "#4D5663"
         },
         "title": {
          "font": {
           "color": "#4D5663"
          },
          "text": ""
         },
         "zerolinecolor": "#E1E5ED"
        },
        "yaxis6": {
         "anchor": "x6",
         "domain": [
          0.535,
          0.7325
         ],
         "gridcolor": "#E1E5ED",
         "showgrid": false,
         "tickfont": {
          "color": "#4D5663"
         },
         "title": {
          "font": {
           "color": "#4D5663"
          },
          "text": ""
         },
         "zerolinecolor": "#E1E5ED"
        },
        "yaxis7": {
         "anchor": "x7",
         "domain": [
          0.535,
          0.7325
         ],
         "gridcolor": "#E1E5ED",
         "showgrid": false,
         "tickfont": {
          "color": "#4D5663"
         },
         "title": {
          "font": {
           "color": "#4D5663"
          },
          "text": ""
         },
         "zerolinecolor": "#E1E5ED"
        },
        "yaxis8": {
         "anchor": "x8",
         "domain": [
          0.535,
          0.7325
         ],
         "gridcolor": "#E1E5ED",
         "showgrid": false,
         "tickfont": {
          "color": "#4D5663"
         },
         "title": {
          "font": {
           "color": "#4D5663"
          },
          "text": ""
         },
         "zerolinecolor": "#E1E5ED"
        },
        "yaxis9": {
         "anchor": "x9",
         "domain": [
          0.2675,
          0.465
         ],
         "gridcolor": "#E1E5ED",
         "showgrid": false,
         "tickfont": {
          "color": "#4D5663"
         },
         "title": {
          "font": {
           "color": "#4D5663"
          },
          "text": ""
         },
         "zerolinecolor": "#E1E5ED"
        }
       }
      },
      "text/html": [
       "<div>                            <div id=\"c2cc864c-c69f-47cd-bf5f-5c787152412f\" class=\"plotly-graph-div\" style=\"height:525px; width:100%;\"></div>            <script type=\"text/javascript\">                require([\"plotly\"], function(Plotly) {                    window.PLOTLYENV=window.PLOTLYENV || {};\n",
       "                    window.PLOTLYENV.BASE_URL='https://plot.ly';                                    if (document.getElementById(\"c2cc864c-c69f-47cd-bf5f-5c787152412f\")) {                    Plotly.newPlot(                        \"c2cc864c-c69f-47cd-bf5f-5c787152412f\",                        [{\"histfunc\":\"count\",\"histnorm\":\"\",\"marker\":{\"color\":\"rgba(255, 153, 51, 1.0)\",\"line\":{\"color\":\"#4D5663\",\"width\":1.3}},\"name\":\"A\",\"nbinsx\":10,\"opacity\":0.8,\"orientation\":\"v\",\"x\":[-1.817020332442591,-0.48098196817947747,1.295157066086587,0.07915703940954168,-1.3099989138475427,0.06443502722863953,0.8429902338467029,-0.8773579775586074,0.46296346004057504,0.3460066752440415,-1.5090964258815225,-0.17929767315087017,1.3597925620525149,0.1044132807162975,0.634140345548099,0.6449694398149307,0.682739029598082,-1.071423148713151,1.3412141907457804,-2.0253607604150097,-0.6575006829762641,-0.17629534526442286,0.4323052492839113,0.6061579721571336,0.3390538872710677,0.2136221498914424,-0.9248743336982881,-0.4923106494685157,-0.14027220727513648,-0.1245854157414283,0.3754070935314772,0.6687968436024946,0.46090626794999184,0.6478439273174318,0.183863668146813,-1.279265961558031,0.802914519502553,-0.6617214233024067,0.40798053779705845,0.23659524715385208,-1.3116089276171852,-1.2724481063971438,-0.15342270238770084,-0.19734938689819756,1.1596643166619882,-0.005636088219923547,-0.6354557112936142,0.00841157757449361,0.48174320134418314,1.0213266264062488,0.3470778151363638,1.0253128059996828,0.7018347168264457,-2.009558285503277,0.403384354603036,-0.3462865536610784,0.6035616992595493,-0.30964050576847196,0.12320701101952627,1.335591270886312,0.36552633076117713,-1.3009197808756756,0.849189361840498,0.48156360348950894,-0.017253276895772475,-0.13428667687120988,-0.528177970082618,1.0196902755316413,1.3853643896167271,-0.6250839679301746,-1.3060891778316646,0.2980133963267906,-2.160297033004496,0.2376514887002878,0.6392880065901926,0.13454348300356517,-1.4637409882823738,1.0202755563129895,1.5880348353414337,0.07489399111775881,2.037016478459296,-0.251972946031691,0.8288506740682722,0.8955414611825695,1.2165389060864282,1.5064457727306413,0.061859146980210056,0.16475560467364941,0.728842764778092,0.38589650375284085,0.9594389862303899,-0.4598951496142224,-0.4720031339202954,1.0154972016695023,-0.3445588930132589,0.7210756485242339,-0.6826130598079807,0.5697110560318015,0.024064000147705544,-1.4702867469315202],\"xaxis\":\"x\",\"yaxis\":\"y\",\"type\":\"histogram\"},{\"line\":{\"color\":\"rgba(128, 128, 128, 1.0)\",\"dash\":\"solid\",\"shape\":\"linear\",\"width\":1.3},\"marker\":{\"size\":2,\"symbol\":\"circle\"},\"mode\":\"markers\",\"name\":\"A\",\"text\":\"\",\"x\":[-0.31958619878517447,0.12236833492550536,1.0005911448273535,0.11683245642945675,-0.036646303682910455,-1.4565555238871013,-0.22388894852612648,-0.6443526534508569,-1.2341426709423384,-0.26248492339228313,-1.3301360207440114,2.181530294928258,-0.7188285551019108,0.6261584800289558,1.0790046987515314,0.36993092952973244,-0.14854986225876715,-1.0551292102728689,-1.163712033089909,-1.035174477226583,-0.6923472344281039,-0.5829820471725831,0.10688564903208736,1.2901016578643634,-0.9861439072349416,-1.3403639860404626,0.5640300562054309,0.8521914504785596,-1.7725146263589386,-1.8445411092343604,-0.06880251081990287,1.250121225492265,0.06930813405963215,-1.0204497934376948,2.896448885000695,0.5435331300317845,1.1293824517425086,-0.3226727193654007,0.16828865849728697,-0.6309354652434254,-0.9557360051920409,-0.608525762156937,-0.2877608080766827,-0.767421864672971,0.8747239125952794,-1.5836537405323652,0.5932317169378237,0.22155467596449682,-0.2946398656833748,0.501013083160056,-1.4595035573437123,-0.600133196317449,0.4371009535768002,-2.210211643664322,0.3987946242518368,0.9673048599268973,-0.991473339820769,1.481431234489536,-0.03793162416476574,1.1079397655393566,-1.369508046106604,-0.1649378380752962,-0.7352150191288587,-1.4239325906110716,0.44200726961262254,1.0425740063040825,0.8844989386981145,-2.5816261775021685,-0.2990031997249988,0.039030433549701274,0.8455972801354262,0.4294742344327642,-0.43682471944814016,1.0841609285508675,1.1469454716518857,-0.2054363362461187,-0.5466324358704335,-0.7389366044575378,-0.16902628340572434,-0.19004248977568786,-0.49727220556567836,0.2796113263981927,-1.6861463695938166,0.17628961485402045,0.3854415954185394,-0.35792778347898646,-0.056004840344292366,0.7640036412727731,-1.3155218371664341,0.8607461279866138,-0.9632096083138955,0.2013845338042852,0.3273678055928306,2.151982269773717,-0.3337367592014226,-0.6715793937101349,-0.02262627338355212,-0.7333371089900023,0.3689449330022981,1.8709776079342886],\"xaxis\":\"x2\",\"y\":[-1.817020332442591,-0.48098196817947747,1.295157066086587,0.07915703940954168,-1.3099989138475427,0.06443502722863953,0.8429902338467029,-0.8773579775586074,0.46296346004057504,0.3460066752440415,-1.5090964258815225,-0.17929767315087017,1.3597925620525149,0.1044132807162975,0.634140345548099,0.6449694398149307,0.682739029598082,-1.071423148713151,1.3412141907457804,-2.0253607604150097,-0.6575006829762641,-0.17629534526442286,0.4323052492839113,0.6061579721571336,0.3390538872710677,0.2136221498914424,-0.9248743336982881,-0.4923106494685157,-0.14027220727513648,-0.1245854157414283,0.3754070935314772,0.6687968436024946,0.46090626794999184,0.6478439273174318,0.183863668146813,-1.279265961558031,0.802914519502553,-0.6617214233024067,0.40798053779705845,0.23659524715385208,-1.3116089276171852,-1.2724481063971438,-0.15342270238770084,-0.19734938689819756,1.1596643166619882,-0.005636088219923547,-0.6354557112936142,0.00841157757449361,0.48174320134418314,1.0213266264062488,0.3470778151363638,1.0253128059996828,0.7018347168264457,-2.009558285503277,0.403384354603036,-0.3462865536610784,0.6035616992595493,-0.30964050576847196,0.12320701101952627,1.335591270886312,0.36552633076117713,-1.3009197808756756,0.849189361840498,0.48156360348950894,-0.017253276895772475,-0.13428667687120988,-0.528177970082618,1.0196902755316413,1.3853643896167271,-0.6250839679301746,-1.3060891778316646,0.2980133963267906,-2.160297033004496,0.2376514887002878,0.6392880065901926,0.13454348300356517,-1.4637409882823738,1.0202755563129895,1.5880348353414337,0.07489399111775881,2.037016478459296,-0.251972946031691,0.8288506740682722,0.8955414611825695,1.2165389060864282,1.5064457727306413,0.061859146980210056,0.16475560467364941,0.728842764778092,0.38589650375284085,0.9594389862303899,-0.4598951496142224,-0.4720031339202954,1.0154972016695023,-0.3445588930132589,0.7210756485242339,-0.6826130598079807,0.5697110560318015,0.024064000147705544,-1.4702867469315202],\"yaxis\":\"y2\",\"type\":\"scatter\"},{\"line\":{\"color\":\"rgba(128, 128, 128, 1.0)\",\"dash\":\"solid\",\"shape\":\"linear\",\"width\":1.3},\"marker\":{\"size\":2,\"symbol\":\"circle\"},\"mode\":\"markers\",\"name\":\"A\",\"text\":\"\",\"x\":[1.0953767652329516,1.0674885235210942,0.10702710741239999,-0.954153685946803,-1.0117846817687348,-1.248748546330939,0.33573629591591553,0.09105282444780213,-0.740669148990467,0.5604153074363686,-1.156263488934967,0.14141745220162819,-0.02195036741740686,-2.574394766813021,1.112972665858067,-1.3959559717282959,-1.1084197955034893,0.9397167813130121,0.35865379355073923,-0.04091216165564142,0.5917460927696595,0.5633415574373425,1.0768777697973806,-0.580001604449778,-0.5408884505927388,-0.5570533340947074,-0.2794306786219015,-0.3758900285760739,-0.8436557055097003,0.9017423987486539,1.2137921129836033,-1.232651901917362,-0.4152255020506121,-0.5550741829104553,0.005357956882898781,0.7483435968141808,1.0011756713653068,0.5027780048241728,2.7357929212343897,1.074126071465053,0.5005699474096457,-0.5532408933133417,-1.2726558386937958,0.23731753540874181,-0.46520338349774676,-0.18438834613668895,1.2077286521868627,0.7236261545462045,-1.7204816845343944,-0.6023030332880979,0.7561440210904469,0.3021160942655366,-1.026907699608662,-1.2295098597943062,0.008325636100983063,0.8393746117529984,0.447264874149784,-0.27278041071657666,-0.15423198109448072,1.1368568316257275,0.4083911186319793,-0.07808427251102533,-1.1823655795878965,1.350417628424253,-1.7389847911330285,-2.5111769110929747,1.2373754600798792,-0.31803011445916834,0.8351509287147442,-0.30933408602372775,-0.1067106096295591,1.1586410521599493,0.1932555811594735,0.5076663310320605,0.5205839863841363,0.7794023849824213,-0.8454694626466698,0.8667120603331698,0.44391874737678555,-0.3923489773262638,1.3049769621906229,-1.3216687973535155,-0.8227690572169466,-0.36828489240639184,0.8637341876668951,-0.9498737456139357,-1.2237244938865248,-1.71936208493555,1.264675054118327,1.8082347255878342,-0.29550822133963267,-1.8490463992435888,-0.44822613089839825,-0.5180106310307114,-0.7485568101153796,1.6027585948517178,0.9627790218198398,-0.09776738470744424,-0.4061162842529637,-0.5613978392914967],\"xaxis\":\"x3\",\"y\":[-1.817020332442591,-0.48098196817947747,1.295157066086587,0.07915703940954168,-1.3099989138475427,0.06443502722863953,0.8429902338467029,-0.8773579775586074,0.46296346004057504,0.3460066752440415,-1.5090964258815225,-0.17929767315087017,1.3597925620525149,0.1044132807162975,0.634140345548099,0.6449694398149307,0.682739029598082,-1.071423148713151,1.3412141907457804,-2.0253607604150097,-0.6575006829762641,-0.17629534526442286,0.4323052492839113,0.6061579721571336,0.3390538872710677,0.2136221498914424,-0.9248743336982881,-0.4923106494685157,-0.14027220727513648,-0.1245854157414283,0.3754070935314772,0.6687968436024946,0.46090626794999184,0.6478439273174318,0.183863668146813,-1.279265961558031,0.802914519502553,-0.6617214233024067,0.40798053779705845,0.23659524715385208,-1.3116089276171852,-1.2724481063971438,-0.15342270238770084,-0.19734938689819756,1.1596643166619882,-0.005636088219923547,-0.6354557112936142,0.00841157757449361,0.48174320134418314,1.0213266264062488,0.3470778151363638,1.0253128059996828,0.7018347168264457,-2.009558285503277,0.403384354603036,-0.3462865536610784,0.6035616992595493,-0.30964050576847196,0.12320701101952627,1.335591270886312,0.36552633076117713,-1.3009197808756756,0.849189361840498,0.48156360348950894,-0.017253276895772475,-0.13428667687120988,-0.528177970082618,1.0196902755316413,1.3853643896167271,-0.6250839679301746,-1.3060891778316646,0.2980133963267906,-2.160297033004496,0.2376514887002878,0.6392880065901926,0.13454348300356517,-1.4637409882823738,1.0202755563129895,1.5880348353414337,0.07489399111775881,2.037016478459296,-0.251972946031691,0.8288506740682722,0.8955414611825695,1.2165389060864282,1.5064457727306413,0.061859146980210056,0.16475560467364941,0.728842764778092,0.38589650375284085,0.9594389862303899,-0.4598951496142224,-0.4720031339202954,1.0154972016695023,-0.3445588930132589,0.7210756485242339,-0.6826130598079807,0.5697110560318015,0.024064000147705544,-1.4702867469315202],\"yaxis\":\"y3\",\"type\":\"scatter\"},{\"line\":{\"color\":\"rgba(128, 128, 128, 1.0)\",\"dash\":\"solid\",\"shape\":\"linear\",\"width\":1.3},\"marker\":{\"size\":2,\"symbol\":\"circle\"},\"mode\":\"markers\",\"name\":\"A\",\"text\":\"\",\"x\":[-0.16698152242796563,0.26909329242327334,1.5100358375326823,0.08893402499514612,0.3796726622869942,1.8466081554109595,0.7040953011510183,1.2107636630222662,-1.2132296943762197,0.879627776754263,0.5684442976238012,0.5298693940071432,-1.674269720437406,-0.912630414643611,-0.7450917733255941,0.0422315272816017,-0.3515786869274323,1.128527129929655,0.9006598876114357,-0.34734454559643285,-0.3775530324157638,-0.21896031926161155,0.6478642022089207,0.03343285934465391,0.8527080991567603,-1.1969041163602225,1.9810558476039732,1.120547376095395,-1.9054245027503434,0.006929944895255636,-1.659883647300653,0.51534756102324,-0.6176288613825067,0.4894694399004788,0.5476513689136442,0.23584525422475605,0.6765460870220769,1.916526649821652,-0.5729473164384696,-1.1853537263517948,0.5250366640704713,0.03116538517875106,-1.243805002108966,2.5054193469654042,-0.931674239439011,-0.4407047224344251,-1.2779631173347277,-0.7451552297858708,0.16478287627577923,-1.536865594100219,-0.5492611476389664,-1.2020303838909674,1.337800596471134,-0.7980175083892986,-1.7696049050138287,1.7205949177799915,-0.8374118874503188,-0.10200136859410983,0.01089359859617445,0.38358872385159665,-0.6160978721745863,1.4212623611327182,-0.6977551920042057,-0.5392560208548826,-0.6798260298979372,1.2506897853538967,-0.23508022203878431,0.051804134866280695,1.421969711559989,-0.5014909849806081,1.3379500662712527,0.05097568818349346,0.3678045414217921,0.7844918957876057,-0.705664301427625,1.908043541102815,0.4547664385782509,-0.14515610401424958,0.8650018400071103,0.20120409997833696,-1.3480905218314831,-1.1842695424955942,0.035976627980285544,-1.1762328800400228,0.5653576799028618,0.20074002962261614,0.4340173162164649,1.3918213975265494,0.05222207533041211,0.858455625929984,-0.7802769532459792,-0.12769731696154077,-0.04299642426099226,0.7761664124267653,-0.2950514354006721,1.9645412563420428,-0.5112906137510908,0.7658714369035079,-2.0785366758572157,-0.8881901513191027],\"xaxis\":\"x4\",\"y\":[-1.817020332442591,-0.48098196817947747,1.295157066086587,0.07915703940954168,-1.3099989138475427,0.06443502722863953,0.8429902338467029,-0.8773579775586074,0.46296346004057504,0.3460066752440415,-1.5090964258815225,-0.17929767315087017,1.3597925620525149,0.1044132807162975,0.634140345548099,0.6449694398149307,0.682739029598082,-1.071423148713151,1.3412141907457804,-2.0253607604150097,-0.6575006829762641,-0.17629534526442286,0.4323052492839113,0.6061579721571336,0.3390538872710677,0.2136221498914424,-0.9248743336982881,-0.4923106494685157,-0.14027220727513648,-0.1245854157414283,0.3754070935314772,0.6687968436024946,0.46090626794999184,0.6478439273174318,0.183863668146813,-1.279265961558031,0.802914519502553,-0.6617214233024067,0.40798053779705845,0.23659524715385208,-1.3116089276171852,-1.2724481063971438,-0.15342270238770084,-0.19734938689819756,1.1596643166619882,-0.005636088219923547,-0.6354557112936142,0.00841157757449361,0.48174320134418314,1.0213266264062488,0.3470778151363638,1.0253128059996828,0.7018347168264457,-2.009558285503277,0.403384354603036,-0.3462865536610784,0.6035616992595493,-0.30964050576847196,0.12320701101952627,1.335591270886312,0.36552633076117713,-1.3009197808756756,0.849189361840498,0.48156360348950894,-0.017253276895772475,-0.13428667687120988,-0.528177970082618,1.0196902755316413,1.3853643896167271,-0.6250839679301746,-1.3060891778316646,0.2980133963267906,-2.160297033004496,0.2376514887002878,0.6392880065901926,0.13454348300356517,-1.4637409882823738,1.0202755563129895,1.5880348353414337,0.07489399111775881,2.037016478459296,-0.251972946031691,0.8288506740682722,0.8955414611825695,1.2165389060864282,1.5064457727306413,0.061859146980210056,0.16475560467364941,0.728842764778092,0.38589650375284085,0.9594389862303899,-0.4598951496142224,-0.4720031339202954,1.0154972016695023,-0.3445588930132589,0.7210756485242339,-0.6826130598079807,0.5697110560318015,0.024064000147705544,-1.4702867469315202],\"yaxis\":\"y4\",\"type\":\"scatter\"},{\"line\":{\"color\":\"rgba(128, 128, 128, 1.0)\",\"dash\":\"solid\",\"shape\":\"linear\",\"width\":1.3},\"marker\":{\"size\":2,\"symbol\":\"circle\"},\"mode\":\"markers\",\"name\":\"B\",\"text\":\"\",\"x\":[-1.817020332442591,-0.48098196817947747,1.295157066086587,0.07915703940954168,-1.3099989138475427,0.06443502722863953,0.8429902338467029,-0.8773579775586074,0.46296346004057504,0.3460066752440415,-1.5090964258815225,-0.17929767315087017,1.3597925620525149,0.1044132807162975,0.634140345548099,0.6449694398149307,0.682739029598082,-1.071423148713151,1.3412141907457804,-2.0253607604150097,-0.6575006829762641,-0.17629534526442286,0.4323052492839113,0.6061579721571336,0.3390538872710677,0.2136221498914424,-0.9248743336982881,-0.4923106494685157,-0.14027220727513648,-0.1245854157414283,0.3754070935314772,0.6687968436024946,0.46090626794999184,0.6478439273174318,0.183863668146813,-1.279265961558031,0.802914519502553,-0.6617214233024067,0.40798053779705845,0.23659524715385208,-1.3116089276171852,-1.2724481063971438,-0.15342270238770084,-0.19734938689819756,1.1596643166619882,-0.005636088219923547,-0.6354557112936142,0.00841157757449361,0.48174320134418314,1.0213266264062488,0.3470778151363638,1.0253128059996828,0.7018347168264457,-2.009558285503277,0.403384354603036,-0.3462865536610784,0.6035616992595493,-0.30964050576847196,0.12320701101952627,1.335591270886312,0.36552633076117713,-1.3009197808756756,0.849189361840498,0.48156360348950894,-0.017253276895772475,-0.13428667687120988,-0.528177970082618,1.0196902755316413,1.3853643896167271,-0.6250839679301746,-1.3060891778316646,0.2980133963267906,-2.160297033004496,0.2376514887002878,0.6392880065901926,0.13454348300356517,-1.4637409882823738,1.0202755563129895,1.5880348353414337,0.07489399111775881,2.037016478459296,-0.251972946031691,0.8288506740682722,0.8955414611825695,1.2165389060864282,1.5064457727306413,0.061859146980210056,0.16475560467364941,0.728842764778092,0.38589650375284085,0.9594389862303899,-0.4598951496142224,-0.4720031339202954,1.0154972016695023,-0.3445588930132589,0.7210756485242339,-0.6826130598079807,0.5697110560318015,0.024064000147705544,-1.4702867469315202],\"xaxis\":\"x5\",\"y\":[-0.31958619878517447,0.12236833492550536,1.0005911448273535,0.11683245642945675,-0.036646303682910455,-1.4565555238871013,-0.22388894852612648,-0.6443526534508569,-1.2341426709423384,-0.26248492339228313,-1.3301360207440114,2.181530294928258,-0.7188285551019108,0.6261584800289558,1.0790046987515314,0.36993092952973244,-0.14854986225876715,-1.0551292102728689,-1.163712033089909,-1.035174477226583,-0.6923472344281039,-0.5829820471725831,0.10688564903208736,1.2901016578643634,-0.9861439072349416,-1.3403639860404626,0.5640300562054309,0.8521914504785596,-1.7725146263589386,-1.8445411092343604,-0.06880251081990287,1.250121225492265,0.06930813405963215,-1.0204497934376948,2.896448885000695,0.5435331300317845,1.1293824517425086,-0.3226727193654007,0.16828865849728697,-0.6309354652434254,-0.9557360051920409,-0.608525762156937,-0.2877608080766827,-0.767421864672971,0.8747239125952794,-1.5836537405323652,0.5932317169378237,0.22155467596449682,-0.2946398656833748,0.501013083160056,-1.4595035573437123,-0.600133196317449,0.4371009535768002,-2.210211643664322,0.3987946242518368,0.9673048599268973,-0.991473339820769,1.481431234489536,-0.03793162416476574,1.1079397655393566,-1.369508046106604,-0.1649378380752962,-0.7352150191288587,-1.4239325906110716,0.44200726961262254,1.0425740063040825,0.8844989386981145,-2.5816261775021685,-0.2990031997249988,0.039030433549701274,0.8455972801354262,0.4294742344327642,-0.43682471944814016,1.0841609285508675,1.1469454716518857,-0.2054363362461187,-0.5466324358704335,-0.7389366044575378,-0.16902628340572434,-0.19004248977568786,-0.49727220556567836,0.2796113263981927,-1.6861463695938166,0.17628961485402045,0.3854415954185394,-0.35792778347898646,-0.056004840344292366,0.7640036412727731,-1.3155218371664341,0.8607461279866138,-0.9632096083138955,0.2013845338042852,0.3273678055928306,2.151982269773717,-0.3337367592014226,-0.6715793937101349,-0.02262627338355212,-0.7333371089900023,0.3689449330022981,1.8709776079342886],\"yaxis\":\"y5\",\"type\":\"scatter\"},{\"histfunc\":\"count\",\"histnorm\":\"\",\"marker\":{\"color\":\"rgba(55, 128, 191, 1.0)\",\"line\":{\"color\":\"#4D5663\",\"width\":1.3}},\"name\":\"B\",\"nbinsx\":10,\"opacity\":0.8,\"orientation\":\"v\",\"x\":[-0.31958619878517447,0.12236833492550536,1.0005911448273535,0.11683245642945675,-0.036646303682910455,-1.4565555238871013,-0.22388894852612648,-0.6443526534508569,-1.2341426709423384,-0.26248492339228313,-1.3301360207440114,2.181530294928258,-0.7188285551019108,0.6261584800289558,1.0790046987515314,0.36993092952973244,-0.14854986225876715,-1.0551292102728689,-1.163712033089909,-1.035174477226583,-0.6923472344281039,-0.5829820471725831,0.10688564903208736,1.2901016578643634,-0.9861439072349416,-1.3403639860404626,0.5640300562054309,0.8521914504785596,-1.7725146263589386,-1.8445411092343604,-0.06880251081990287,1.250121225492265,0.06930813405963215,-1.0204497934376948,2.896448885000695,0.5435331300317845,1.1293824517425086,-0.3226727193654007,0.16828865849728697,-0.6309354652434254,-0.9557360051920409,-0.608525762156937,-0.2877608080766827,-0.767421864672971,0.8747239125952794,-1.5836537405323652,0.5932317169378237,0.22155467596449682,-0.2946398656833748,0.501013083160056,-1.4595035573437123,-0.600133196317449,0.4371009535768002,-2.210211643664322,0.3987946242518368,0.9673048599268973,-0.991473339820769,1.481431234489536,-0.03793162416476574,1.1079397655393566,-1.369508046106604,-0.1649378380752962,-0.7352150191288587,-1.4239325906110716,0.44200726961262254,1.0425740063040825,0.8844989386981145,-2.5816261775021685,-0.2990031997249988,0.039030433549701274,0.8455972801354262,0.4294742344327642,-0.43682471944814016,1.0841609285508675,1.1469454716518857,-0.2054363362461187,-0.5466324358704335,-0.7389366044575378,-0.16902628340572434,-0.19004248977568786,-0.49727220556567836,0.2796113263981927,-1.6861463695938166,0.17628961485402045,0.3854415954185394,-0.35792778347898646,-0.056004840344292366,0.7640036412727731,-1.3155218371664341,0.8607461279866138,-0.9632096083138955,0.2013845338042852,0.3273678055928306,2.151982269773717,-0.3337367592014226,-0.6715793937101349,-0.02262627338355212,-0.7333371089900023,0.3689449330022981,1.8709776079342886],\"xaxis\":\"x6\",\"yaxis\":\"y6\",\"type\":\"histogram\"},{\"line\":{\"color\":\"rgba(128, 128, 128, 1.0)\",\"dash\":\"solid\",\"shape\":\"linear\",\"width\":1.3},\"marker\":{\"size\":2,\"symbol\":\"circle\"},\"mode\":\"markers\",\"name\":\"B\",\"text\":\"\",\"x\":[1.0953767652329516,1.0674885235210942,0.10702710741239999,-0.954153685946803,-1.0117846817687348,-1.248748546330939,0.33573629591591553,0.09105282444780213,-0.740669148990467,0.5604153074363686,-1.156263488934967,0.14141745220162819,-0.02195036741740686,-2.574394766813021,1.112972665858067,-1.3959559717282959,-1.1084197955034893,0.9397167813130121,0.35865379355073923,-0.04091216165564142,0.5917460927696595,0.5633415574373425,1.0768777697973806,-0.580001604449778,-0.5408884505927388,-0.5570533340947074,-0.2794306786219015,-0.3758900285760739,-0.8436557055097003,0.9017423987486539,1.2137921129836033,-1.232651901917362,-0.4152255020506121,-0.5550741829104553,0.005357956882898781,0.7483435968141808,1.0011756713653068,0.5027780048241728,2.7357929212343897,1.074126071465053,0.5005699474096457,-0.5532408933133417,-1.2726558386937958,0.23731753540874181,-0.46520338349774676,-0.18438834613668895,1.2077286521868627,0.7236261545462045,-1.7204816845343944,-0.6023030332880979,0.7561440210904469,0.3021160942655366,-1.026907699608662,-1.2295098597943062,0.008325636100983063,0.8393746117529984,0.447264874149784,-0.27278041071657666,-0.15423198109448072,1.1368568316257275,0.4083911186319793,-0.07808427251102533,-1.1823655795878965,1.350417628424253,-1.7389847911330285,-2.5111769110929747,1.2373754600798792,-0.31803011445916834,0.8351509287147442,-0.30933408602372775,-0.1067106096295591,1.1586410521599493,0.1932555811594735,0.5076663310320605,0.5205839863841363,0.7794023849824213,-0.8454694626466698,0.8667120603331698,0.44391874737678555,-0.3923489773262638,1.3049769621906229,-1.3216687973535155,-0.8227690572169466,-0.36828489240639184,0.8637341876668951,-0.9498737456139357,-1.2237244938865248,-1.71936208493555,1.264675054118327,1.8082347255878342,-0.29550822133963267,-1.8490463992435888,-0.44822613089839825,-0.5180106310307114,-0.7485568101153796,1.6027585948517178,0.9627790218198398,-0.09776738470744424,-0.4061162842529637,-0.5613978392914967],\"xaxis\":\"x7\",\"y\":[-0.31958619878517447,0.12236833492550536,1.0005911448273535,0.11683245642945675,-0.036646303682910455,-1.4565555238871013,-0.22388894852612648,-0.6443526534508569,-1.2341426709423384,-0.26248492339228313,-1.3301360207440114,2.181530294928258,-0.7188285551019108,0.6261584800289558,1.0790046987515314,0.36993092952973244,-0.14854986225876715,-1.0551292102728689,-1.163712033089909,-1.035174477226583,-0.6923472344281039,-0.5829820471725831,0.10688564903208736,1.2901016578643634,-0.9861439072349416,-1.3403639860404626,0.5640300562054309,0.8521914504785596,-1.7725146263589386,-1.8445411092343604,-0.06880251081990287,1.250121225492265,0.06930813405963215,-1.0204497934376948,2.896448885000695,0.5435331300317845,1.1293824517425086,-0.3226727193654007,0.16828865849728697,-0.6309354652434254,-0.9557360051920409,-0.608525762156937,-0.2877608080766827,-0.767421864672971,0.8747239125952794,-1.5836537405323652,0.5932317169378237,0.22155467596449682,-0.2946398656833748,0.501013083160056,-1.4595035573437123,-0.600133196317449,0.4371009535768002,-2.210211643664322,0.3987946242518368,0.9673048599268973,-0.991473339820769,1.481431234489536,-0.03793162416476574,1.1079397655393566,-1.369508046106604,-0.1649378380752962,-0.7352150191288587,-1.4239325906110716,0.44200726961262254,1.0425740063040825,0.8844989386981145,-2.5816261775021685,-0.2990031997249988,0.039030433549701274,0.8455972801354262,0.4294742344327642,-0.43682471944814016,1.0841609285508675,1.1469454716518857,-0.2054363362461187,-0.5466324358704335,-0.7389366044575378,-0.16902628340572434,-0.19004248977568786,-0.49727220556567836,0.2796113263981927,-1.6861463695938166,0.17628961485402045,0.3854415954185394,-0.35792778347898646,-0.056004840344292366,0.7640036412727731,-1.3155218371664341,0.8607461279866138,-0.9632096083138955,0.2013845338042852,0.3273678055928306,2.151982269773717,-0.3337367592014226,-0.6715793937101349,-0.02262627338355212,-0.7333371089900023,0.3689449330022981,1.8709776079342886],\"yaxis\":\"y7\",\"type\":\"scatter\"},{\"line\":{\"color\":\"rgba(128, 128, 128, 1.0)\",\"dash\":\"solid\",\"shape\":\"linear\",\"width\":1.3},\"marker\":{\"size\":2,\"symbol\":\"circle\"},\"mode\":\"markers\",\"name\":\"B\",\"text\":\"\",\"x\":[-0.16698152242796563,0.26909329242327334,1.5100358375326823,0.08893402499514612,0.3796726622869942,1.8466081554109595,0.7040953011510183,1.2107636630222662,-1.2132296943762197,0.879627776754263,0.5684442976238012,0.5298693940071432,-1.674269720437406,-0.912630414643611,-0.7450917733255941,0.0422315272816017,-0.3515786869274323,1.128527129929655,0.9006598876114357,-0.34734454559643285,-0.3775530324157638,-0.21896031926161155,0.6478642022089207,0.03343285934465391,0.8527080991567603,-1.1969041163602225,1.9810558476039732,1.120547376095395,-1.9054245027503434,0.006929944895255636,-1.659883647300653,0.51534756102324,-0.6176288613825067,0.4894694399004788,0.5476513689136442,0.23584525422475605,0.6765460870220769,1.916526649821652,-0.5729473164384696,-1.1853537263517948,0.5250366640704713,0.03116538517875106,-1.243805002108966,2.5054193469654042,-0.931674239439011,-0.4407047224344251,-1.2779631173347277,-0.7451552297858708,0.16478287627577923,-1.536865594100219,-0.5492611476389664,-1.2020303838909674,1.337800596471134,-0.7980175083892986,-1.7696049050138287,1.7205949177799915,-0.8374118874503188,-0.10200136859410983,0.01089359859617445,0.38358872385159665,-0.6160978721745863,1.4212623611327182,-0.6977551920042057,-0.5392560208548826,-0.6798260298979372,1.2506897853538967,-0.23508022203878431,0.051804134866280695,1.421969711559989,-0.5014909849806081,1.3379500662712527,0.05097568818349346,0.3678045414217921,0.7844918957876057,-0.705664301427625,1.908043541102815,0.4547664385782509,-0.14515610401424958,0.8650018400071103,0.20120409997833696,-1.3480905218314831,-1.1842695424955942,0.035976627980285544,-1.1762328800400228,0.5653576799028618,0.20074002962261614,0.4340173162164649,1.3918213975265494,0.05222207533041211,0.858455625929984,-0.7802769532459792,-0.12769731696154077,-0.04299642426099226,0.7761664124267653,-0.2950514354006721,1.9645412563420428,-0.5112906137510908,0.7658714369035079,-2.0785366758572157,-0.8881901513191027],\"xaxis\":\"x8\",\"y\":[-0.31958619878517447,0.12236833492550536,1.0005911448273535,0.11683245642945675,-0.036646303682910455,-1.4565555238871013,-0.22388894852612648,-0.6443526534508569,-1.2341426709423384,-0.26248492339228313,-1.3301360207440114,2.181530294928258,-0.7188285551019108,0.6261584800289558,1.0790046987515314,0.36993092952973244,-0.14854986225876715,-1.0551292102728689,-1.163712033089909,-1.035174477226583,-0.6923472344281039,-0.5829820471725831,0.10688564903208736,1.2901016578643634,-0.9861439072349416,-1.3403639860404626,0.5640300562054309,0.8521914504785596,-1.7725146263589386,-1.8445411092343604,-0.06880251081990287,1.250121225492265,0.06930813405963215,-1.0204497934376948,2.896448885000695,0.5435331300317845,1.1293824517425086,-0.3226727193654007,0.16828865849728697,-0.6309354652434254,-0.9557360051920409,-0.608525762156937,-0.2877608080766827,-0.767421864672971,0.8747239125952794,-1.5836537405323652,0.5932317169378237,0.22155467596449682,-0.2946398656833748,0.501013083160056,-1.4595035573437123,-0.600133196317449,0.4371009535768002,-2.210211643664322,0.3987946242518368,0.9673048599268973,-0.991473339820769,1.481431234489536,-0.03793162416476574,1.1079397655393566,-1.369508046106604,-0.1649378380752962,-0.7352150191288587,-1.4239325906110716,0.44200726961262254,1.0425740063040825,0.8844989386981145,-2.5816261775021685,-0.2990031997249988,0.039030433549701274,0.8455972801354262,0.4294742344327642,-0.43682471944814016,1.0841609285508675,1.1469454716518857,-0.2054363362461187,-0.5466324358704335,-0.7389366044575378,-0.16902628340572434,-0.19004248977568786,-0.49727220556567836,0.2796113263981927,-1.6861463695938166,0.17628961485402045,0.3854415954185394,-0.35792778347898646,-0.056004840344292366,0.7640036412727731,-1.3155218371664341,0.8607461279866138,-0.9632096083138955,0.2013845338042852,0.3273678055928306,2.151982269773717,-0.3337367592014226,-0.6715793937101349,-0.02262627338355212,-0.7333371089900023,0.3689449330022981,1.8709776079342886],\"yaxis\":\"y8\",\"type\":\"scatter\"},{\"line\":{\"color\":\"rgba(128, 128, 128, 1.0)\",\"dash\":\"solid\",\"shape\":\"linear\",\"width\":1.3},\"marker\":{\"size\":2,\"symbol\":\"circle\"},\"mode\":\"markers\",\"name\":\"C\",\"text\":\"\",\"x\":[-1.817020332442591,-0.48098196817947747,1.295157066086587,0.07915703940954168,-1.3099989138475427,0.06443502722863953,0.8429902338467029,-0.8773579775586074,0.46296346004057504,0.3460066752440415,-1.5090964258815225,-0.17929767315087017,1.3597925620525149,0.1044132807162975,0.634140345548099,0.6449694398149307,0.682739029598082,-1.071423148713151,1.3412141907457804,-2.0253607604150097,-0.6575006829762641,-0.17629534526442286,0.4323052492839113,0.6061579721571336,0.3390538872710677,0.2136221498914424,-0.9248743336982881,-0.4923106494685157,-0.14027220727513648,-0.1245854157414283,0.3754070935314772,0.6687968436024946,0.46090626794999184,0.6478439273174318,0.183863668146813,-1.279265961558031,0.802914519502553,-0.6617214233024067,0.40798053779705845,0.23659524715385208,-1.3116089276171852,-1.2724481063971438,-0.15342270238770084,-0.19734938689819756,1.1596643166619882,-0.005636088219923547,-0.6354557112936142,0.00841157757449361,0.48174320134418314,1.0213266264062488,0.3470778151363638,1.0253128059996828,0.7018347168264457,-2.009558285503277,0.403384354603036,-0.3462865536610784,0.6035616992595493,-0.30964050576847196,0.12320701101952627,1.335591270886312,0.36552633076117713,-1.3009197808756756,0.849189361840498,0.48156360348950894,-0.017253276895772475,-0.13428667687120988,-0.528177970082618,1.0196902755316413,1.3853643896167271,-0.6250839679301746,-1.3060891778316646,0.2980133963267906,-2.160297033004496,0.2376514887002878,0.6392880065901926,0.13454348300356517,-1.4637409882823738,1.0202755563129895,1.5880348353414337,0.07489399111775881,2.037016478459296,-0.251972946031691,0.8288506740682722,0.8955414611825695,1.2165389060864282,1.5064457727306413,0.061859146980210056,0.16475560467364941,0.728842764778092,0.38589650375284085,0.9594389862303899,-0.4598951496142224,-0.4720031339202954,1.0154972016695023,-0.3445588930132589,0.7210756485242339,-0.6826130598079807,0.5697110560318015,0.024064000147705544,-1.4702867469315202],\"xaxis\":\"x9\",\"y\":[1.0953767652329516,1.0674885235210942,0.10702710741239999,-0.954153685946803,-1.0117846817687348,-1.248748546330939,0.33573629591591553,0.09105282444780213,-0.740669148990467,0.5604153074363686,-1.156263488934967,0.14141745220162819,-0.02195036741740686,-2.574394766813021,1.112972665858067,-1.3959559717282959,-1.1084197955034893,0.9397167813130121,0.35865379355073923,-0.04091216165564142,0.5917460927696595,0.5633415574373425,1.0768777697973806,-0.580001604449778,-0.5408884505927388,-0.5570533340947074,-0.2794306786219015,-0.3758900285760739,-0.8436557055097003,0.9017423987486539,1.2137921129836033,-1.232651901917362,-0.4152255020506121,-0.5550741829104553,0.005357956882898781,0.7483435968141808,1.0011756713653068,0.5027780048241728,2.7357929212343897,1.074126071465053,0.5005699474096457,-0.5532408933133417,-1.2726558386937958,0.23731753540874181,-0.46520338349774676,-0.18438834613668895,1.2077286521868627,0.7236261545462045,-1.7204816845343944,-0.6023030332880979,0.7561440210904469,0.3021160942655366,-1.026907699608662,-1.2295098597943062,0.008325636100983063,0.8393746117529984,0.447264874149784,-0.27278041071657666,-0.15423198109448072,1.1368568316257275,0.4083911186319793,-0.07808427251102533,-1.1823655795878965,1.350417628424253,-1.7389847911330285,-2.5111769110929747,1.2373754600798792,-0.31803011445916834,0.8351509287147442,-0.30933408602372775,-0.1067106096295591,1.1586410521599493,0.1932555811594735,0.5076663310320605,0.5205839863841363,0.7794023849824213,-0.8454694626466698,0.8667120603331698,0.44391874737678555,-0.3923489773262638,1.3049769621906229,-1.3216687973535155,-0.8227690572169466,-0.36828489240639184,0.8637341876668951,-0.9498737456139357,-1.2237244938865248,-1.71936208493555,1.264675054118327,1.8082347255878342,-0.29550822133963267,-1.8490463992435888,-0.44822613089839825,-0.5180106310307114,-0.7485568101153796,1.6027585948517178,0.9627790218198398,-0.09776738470744424,-0.4061162842529637,-0.5613978392914967],\"yaxis\":\"y9\",\"type\":\"scatter\"},{\"line\":{\"color\":\"rgba(128, 128, 128, 1.0)\",\"dash\":\"solid\",\"shape\":\"linear\",\"width\":1.3},\"marker\":{\"size\":2,\"symbol\":\"circle\"},\"mode\":\"markers\",\"name\":\"C\",\"text\":\"\",\"x\":[-0.31958619878517447,0.12236833492550536,1.0005911448273535,0.11683245642945675,-0.036646303682910455,-1.4565555238871013,-0.22388894852612648,-0.6443526534508569,-1.2341426709423384,-0.26248492339228313,-1.3301360207440114,2.181530294928258,-0.7188285551019108,0.6261584800289558,1.0790046987515314,0.36993092952973244,-0.14854986225876715,-1.0551292102728689,-1.163712033089909,-1.035174477226583,-0.6923472344281039,-0.5829820471725831,0.10688564903208736,1.2901016578643634,-0.9861439072349416,-1.3403639860404626,0.5640300562054309,0.8521914504785596,-1.7725146263589386,-1.8445411092343604,-0.06880251081990287,1.250121225492265,0.06930813405963215,-1.0204497934376948,2.896448885000695,0.5435331300317845,1.1293824517425086,-0.3226727193654007,0.16828865849728697,-0.6309354652434254,-0.9557360051920409,-0.608525762156937,-0.2877608080766827,-0.767421864672971,0.8747239125952794,-1.5836537405323652,0.5932317169378237,0.22155467596449682,-0.2946398656833748,0.501013083160056,-1.4595035573437123,-0.600133196317449,0.4371009535768002,-2.210211643664322,0.3987946242518368,0.9673048599268973,-0.991473339820769,1.481431234489536,-0.03793162416476574,1.1079397655393566,-1.369508046106604,-0.1649378380752962,-0.7352150191288587,-1.4239325906110716,0.44200726961262254,1.0425740063040825,0.8844989386981145,-2.5816261775021685,-0.2990031997249988,0.039030433549701274,0.8455972801354262,0.4294742344327642,-0.43682471944814016,1.0841609285508675,1.1469454716518857,-0.2054363362461187,-0.5466324358704335,-0.7389366044575378,-0.16902628340572434,-0.19004248977568786,-0.49727220556567836,0.2796113263981927,-1.6861463695938166,0.17628961485402045,0.3854415954185394,-0.35792778347898646,-0.056004840344292366,0.7640036412727731,-1.3155218371664341,0.8607461279866138,-0.9632096083138955,0.2013845338042852,0.3273678055928306,2.151982269773717,-0.3337367592014226,-0.6715793937101349,-0.02262627338355212,-0.7333371089900023,0.3689449330022981,1.8709776079342886],\"xaxis\":\"x10\",\"y\":[1.0953767652329516,1.0674885235210942,0.10702710741239999,-0.954153685946803,-1.0117846817687348,-1.248748546330939,0.33573629591591553,0.09105282444780213,-0.740669148990467,0.5604153074363686,-1.156263488934967,0.14141745220162819,-0.02195036741740686,-2.574394766813021,1.112972665858067,-1.3959559717282959,-1.1084197955034893,0.9397167813130121,0.35865379355073923,-0.04091216165564142,0.5917460927696595,0.5633415574373425,1.0768777697973806,-0.580001604449778,-0.5408884505927388,-0.5570533340947074,-0.2794306786219015,-0.3758900285760739,-0.8436557055097003,0.9017423987486539,1.2137921129836033,-1.232651901917362,-0.4152255020506121,-0.5550741829104553,0.005357956882898781,0.7483435968141808,1.0011756713653068,0.5027780048241728,2.7357929212343897,1.074126071465053,0.5005699474096457,-0.5532408933133417,-1.2726558386937958,0.23731753540874181,-0.46520338349774676,-0.18438834613668895,1.2077286521868627,0.7236261545462045,-1.7204816845343944,-0.6023030332880979,0.7561440210904469,0.3021160942655366,-1.026907699608662,-1.2295098597943062,0.008325636100983063,0.8393746117529984,0.447264874149784,-0.27278041071657666,-0.15423198109448072,1.1368568316257275,0.4083911186319793,-0.07808427251102533,-1.1823655795878965,1.350417628424253,-1.7389847911330285,-2.5111769110929747,1.2373754600798792,-0.31803011445916834,0.8351509287147442,-0.30933408602372775,-0.1067106096295591,1.1586410521599493,0.1932555811594735,0.5076663310320605,0.5205839863841363,0.7794023849824213,-0.8454694626466698,0.8667120603331698,0.44391874737678555,-0.3923489773262638,1.3049769621906229,-1.3216687973535155,-0.8227690572169466,-0.36828489240639184,0.8637341876668951,-0.9498737456139357,-1.2237244938865248,-1.71936208493555,1.264675054118327,1.8082347255878342,-0.29550822133963267,-1.8490463992435888,-0.44822613089839825,-0.5180106310307114,-0.7485568101153796,1.6027585948517178,0.9627790218198398,-0.09776738470744424,-0.4061162842529637,-0.5613978392914967],\"yaxis\":\"y10\",\"type\":\"scatter\"},{\"histfunc\":\"count\",\"histnorm\":\"\",\"marker\":{\"color\":\"rgba(50, 171, 96, 1.0)\",\"line\":{\"color\":\"#4D5663\",\"width\":1.3}},\"name\":\"C\",\"nbinsx\":10,\"opacity\":0.8,\"orientation\":\"v\",\"x\":[1.0953767652329516,1.0674885235210942,0.10702710741239999,-0.954153685946803,-1.0117846817687348,-1.248748546330939,0.33573629591591553,0.09105282444780213,-0.740669148990467,0.5604153074363686,-1.156263488934967,0.14141745220162819,-0.02195036741740686,-2.574394766813021,1.112972665858067,-1.3959559717282959,-1.1084197955034893,0.9397167813130121,0.35865379355073923,-0.04091216165564142,0.5917460927696595,0.5633415574373425,1.0768777697973806,-0.580001604449778,-0.5408884505927388,-0.5570533340947074,-0.2794306786219015,-0.3758900285760739,-0.8436557055097003,0.9017423987486539,1.2137921129836033,-1.232651901917362,-0.4152255020506121,-0.5550741829104553,0.005357956882898781,0.7483435968141808,1.0011756713653068,0.5027780048241728,2.7357929212343897,1.074126071465053,0.5005699474096457,-0.5532408933133417,-1.2726558386937958,0.23731753540874181,-0.46520338349774676,-0.18438834613668895,1.2077286521868627,0.7236261545462045,-1.7204816845343944,-0.6023030332880979,0.7561440210904469,0.3021160942655366,-1.026907699608662,-1.2295098597943062,0.008325636100983063,0.8393746117529984,0.447264874149784,-0.27278041071657666,-0.15423198109448072,1.1368568316257275,0.4083911186319793,-0.07808427251102533,-1.1823655795878965,1.350417628424253,-1.7389847911330285,-2.5111769110929747,1.2373754600798792,-0.31803011445916834,0.8351509287147442,-0.30933408602372775,-0.1067106096295591,1.1586410521599493,0.1932555811594735,0.5076663310320605,0.5205839863841363,0.7794023849824213,-0.8454694626466698,0.8667120603331698,0.44391874737678555,-0.3923489773262638,1.3049769621906229,-1.3216687973535155,-0.8227690572169466,-0.36828489240639184,0.8637341876668951,-0.9498737456139357,-1.2237244938865248,-1.71936208493555,1.264675054118327,1.8082347255878342,-0.29550822133963267,-1.8490463992435888,-0.44822613089839825,-0.5180106310307114,-0.7485568101153796,1.6027585948517178,0.9627790218198398,-0.09776738470744424,-0.4061162842529637,-0.5613978392914967],\"xaxis\":\"x11\",\"yaxis\":\"y11\",\"type\":\"histogram\"},{\"line\":{\"color\":\"rgba(128, 128, 128, 1.0)\",\"dash\":\"solid\",\"shape\":\"linear\",\"width\":1.3},\"marker\":{\"size\":2,\"symbol\":\"circle\"},\"mode\":\"markers\",\"name\":\"C\",\"text\":\"\",\"x\":[-0.16698152242796563,0.26909329242327334,1.5100358375326823,0.08893402499514612,0.3796726622869942,1.8466081554109595,0.7040953011510183,1.2107636630222662,-1.2132296943762197,0.879627776754263,0.5684442976238012,0.5298693940071432,-1.674269720437406,-0.912630414643611,-0.7450917733255941,0.0422315272816017,-0.3515786869274323,1.128527129929655,0.9006598876114357,-0.34734454559643285,-0.3775530324157638,-0.21896031926161155,0.6478642022089207,0.03343285934465391,0.8527080991567603,-1.1969041163602225,1.9810558476039732,1.120547376095395,-1.9054245027503434,0.006929944895255636,-1.659883647300653,0.51534756102324,-0.6176288613825067,0.4894694399004788,0.5476513689136442,0.23584525422475605,0.6765460870220769,1.916526649821652,-0.5729473164384696,-1.1853537263517948,0.5250366640704713,0.03116538517875106,-1.243805002108966,2.5054193469654042,-0.931674239439011,-0.4407047224344251,-1.2779631173347277,-0.7451552297858708,0.16478287627577923,-1.536865594100219,-0.5492611476389664,-1.2020303838909674,1.337800596471134,-0.7980175083892986,-1.7696049050138287,1.7205949177799915,-0.8374118874503188,-0.10200136859410983,0.01089359859617445,0.38358872385159665,-0.6160978721745863,1.4212623611327182,-0.6977551920042057,-0.5392560208548826,-0.6798260298979372,1.2506897853538967,-0.23508022203878431,0.051804134866280695,1.421969711559989,-0.5014909849806081,1.3379500662712527,0.05097568818349346,0.3678045414217921,0.7844918957876057,-0.705664301427625,1.908043541102815,0.4547664385782509,-0.14515610401424958,0.8650018400071103,0.20120409997833696,-1.3480905218314831,-1.1842695424955942,0.035976627980285544,-1.1762328800400228,0.5653576799028618,0.20074002962261614,0.4340173162164649,1.3918213975265494,0.05222207533041211,0.858455625929984,-0.7802769532459792,-0.12769731696154077,-0.04299642426099226,0.7761664124267653,-0.2950514354006721,1.9645412563420428,-0.5112906137510908,0.7658714369035079,-2.0785366758572157,-0.8881901513191027],\"xaxis\":\"x12\",\"y\":[1.0953767652329516,1.0674885235210942,0.10702710741239999,-0.954153685946803,-1.0117846817687348,-1.248748546330939,0.33573629591591553,0.09105282444780213,-0.740669148990467,0.5604153074363686,-1.156263488934967,0.14141745220162819,-0.02195036741740686,-2.574394766813021,1.112972665858067,-1.3959559717282959,-1.1084197955034893,0.9397167813130121,0.35865379355073923,-0.04091216165564142,0.5917460927696595,0.5633415574373425,1.0768777697973806,-0.580001604449778,-0.5408884505927388,-0.5570533340947074,-0.2794306786219015,-0.3758900285760739,-0.8436557055097003,0.9017423987486539,1.2137921129836033,-1.232651901917362,-0.4152255020506121,-0.5550741829104553,0.005357956882898781,0.7483435968141808,1.0011756713653068,0.5027780048241728,2.7357929212343897,1.074126071465053,0.5005699474096457,-0.5532408933133417,-1.2726558386937958,0.23731753540874181,-0.46520338349774676,-0.18438834613668895,1.2077286521868627,0.7236261545462045,-1.7204816845343944,-0.6023030332880979,0.7561440210904469,0.3021160942655366,-1.026907699608662,-1.2295098597943062,0.008325636100983063,0.8393746117529984,0.447264874149784,-0.27278041071657666,-0.15423198109448072,1.1368568316257275,0.4083911186319793,-0.07808427251102533,-1.1823655795878965,1.350417628424253,-1.7389847911330285,-2.5111769110929747,1.2373754600798792,-0.31803011445916834,0.8351509287147442,-0.30933408602372775,-0.1067106096295591,1.1586410521599493,0.1932555811594735,0.5076663310320605,0.5205839863841363,0.7794023849824213,-0.8454694626466698,0.8667120603331698,0.44391874737678555,-0.3923489773262638,1.3049769621906229,-1.3216687973535155,-0.8227690572169466,-0.36828489240639184,0.8637341876668951,-0.9498737456139357,-1.2237244938865248,-1.71936208493555,1.264675054118327,1.8082347255878342,-0.29550822133963267,-1.8490463992435888,-0.44822613089839825,-0.5180106310307114,-0.7485568101153796,1.6027585948517178,0.9627790218198398,-0.09776738470744424,-0.4061162842529637,-0.5613978392914967],\"yaxis\":\"y12\",\"type\":\"scatter\"},{\"line\":{\"color\":\"rgba(128, 128, 128, 1.0)\",\"dash\":\"solid\",\"shape\":\"linear\",\"width\":1.3},\"marker\":{\"size\":2,\"symbol\":\"circle\"},\"mode\":\"markers\",\"name\":\"D\",\"text\":\"\",\"x\":[-1.817020332442591,-0.48098196817947747,1.295157066086587,0.07915703940954168,-1.3099989138475427,0.06443502722863953,0.8429902338467029,-0.8773579775586074,0.46296346004057504,0.3460066752440415,-1.5090964258815225,-0.17929767315087017,1.3597925620525149,0.1044132807162975,0.634140345548099,0.6449694398149307,0.682739029598082,-1.071423148713151,1.3412141907457804,-2.0253607604150097,-0.6575006829762641,-0.17629534526442286,0.4323052492839113,0.6061579721571336,0.3390538872710677,0.2136221498914424,-0.9248743336982881,-0.4923106494685157,-0.14027220727513648,-0.1245854157414283,0.3754070935314772,0.6687968436024946,0.46090626794999184,0.6478439273174318,0.183863668146813,-1.279265961558031,0.802914519502553,-0.6617214233024067,0.40798053779705845,0.23659524715385208,-1.3116089276171852,-1.2724481063971438,-0.15342270238770084,-0.19734938689819756,1.1596643166619882,-0.005636088219923547,-0.6354557112936142,0.00841157757449361,0.48174320134418314,1.0213266264062488,0.3470778151363638,1.0253128059996828,0.7018347168264457,-2.009558285503277,0.403384354603036,-0.3462865536610784,0.6035616992595493,-0.30964050576847196,0.12320701101952627,1.335591270886312,0.36552633076117713,-1.3009197808756756,0.849189361840498,0.48156360348950894,-0.017253276895772475,-0.13428667687120988,-0.528177970082618,1.0196902755316413,1.3853643896167271,-0.6250839679301746,-1.3060891778316646,0.2980133963267906,-2.160297033004496,0.2376514887002878,0.6392880065901926,0.13454348300356517,-1.4637409882823738,1.0202755563129895,1.5880348353414337,0.07489399111775881,2.037016478459296,-0.251972946031691,0.8288506740682722,0.8955414611825695,1.2165389060864282,1.5064457727306413,0.061859146980210056,0.16475560467364941,0.728842764778092,0.38589650375284085,0.9594389862303899,-0.4598951496142224,-0.4720031339202954,1.0154972016695023,-0.3445588930132589,0.7210756485242339,-0.6826130598079807,0.5697110560318015,0.024064000147705544,-1.4702867469315202],\"xaxis\":\"x13\",\"y\":[-0.16698152242796563,0.26909329242327334,1.5100358375326823,0.08893402499514612,0.3796726622869942,1.8466081554109595,0.7040953011510183,1.2107636630222662,-1.2132296943762197,0.879627776754263,0.5684442976238012,0.5298693940071432,-1.674269720437406,-0.912630414643611,-0.7450917733255941,0.0422315272816017,-0.3515786869274323,1.128527129929655,0.9006598876114357,-0.34734454559643285,-0.3775530324157638,-0.21896031926161155,0.6478642022089207,0.03343285934465391,0.8527080991567603,-1.1969041163602225,1.9810558476039732,1.120547376095395,-1.9054245027503434,0.006929944895255636,-1.659883647300653,0.51534756102324,-0.6176288613825067,0.4894694399004788,0.5476513689136442,0.23584525422475605,0.6765460870220769,1.916526649821652,-0.5729473164384696,-1.1853537263517948,0.5250366640704713,0.03116538517875106,-1.243805002108966,2.5054193469654042,-0.931674239439011,-0.4407047224344251,-1.2779631173347277,-0.7451552297858708,0.16478287627577923,-1.536865594100219,-0.5492611476389664,-1.2020303838909674,1.337800596471134,-0.7980175083892986,-1.7696049050138287,1.7205949177799915,-0.8374118874503188,-0.10200136859410983,0.01089359859617445,0.38358872385159665,-0.6160978721745863,1.4212623611327182,-0.6977551920042057,-0.5392560208548826,-0.6798260298979372,1.2506897853538967,-0.23508022203878431,0.051804134866280695,1.421969711559989,-0.5014909849806081,1.3379500662712527,0.05097568818349346,0.3678045414217921,0.7844918957876057,-0.705664301427625,1.908043541102815,0.4547664385782509,-0.14515610401424958,0.8650018400071103,0.20120409997833696,-1.3480905218314831,-1.1842695424955942,0.035976627980285544,-1.1762328800400228,0.5653576799028618,0.20074002962261614,0.4340173162164649,1.3918213975265494,0.05222207533041211,0.858455625929984,-0.7802769532459792,-0.12769731696154077,-0.04299642426099226,0.7761664124267653,-0.2950514354006721,1.9645412563420428,-0.5112906137510908,0.7658714369035079,-2.0785366758572157,-0.8881901513191027],\"yaxis\":\"y13\",\"type\":\"scatter\"},{\"line\":{\"color\":\"rgba(128, 128, 128, 1.0)\",\"dash\":\"solid\",\"shape\":\"linear\",\"width\":1.3},\"marker\":{\"size\":2,\"symbol\":\"circle\"},\"mode\":\"markers\",\"name\":\"D\",\"text\":\"\",\"x\":[-0.31958619878517447,0.12236833492550536,1.0005911448273535,0.11683245642945675,-0.036646303682910455,-1.4565555238871013,-0.22388894852612648,-0.6443526534508569,-1.2341426709423384,-0.26248492339228313,-1.3301360207440114,2.181530294928258,-0.7188285551019108,0.6261584800289558,1.0790046987515314,0.36993092952973244,-0.14854986225876715,-1.0551292102728689,-1.163712033089909,-1.035174477226583,-0.6923472344281039,-0.5829820471725831,0.10688564903208736,1.2901016578643634,-0.9861439072349416,-1.3403639860404626,0.5640300562054309,0.8521914504785596,-1.7725146263589386,-1.8445411092343604,-0.06880251081990287,1.250121225492265,0.06930813405963215,-1.0204497934376948,2.896448885000695,0.5435331300317845,1.1293824517425086,-0.3226727193654007,0.16828865849728697,-0.6309354652434254,-0.9557360051920409,-0.608525762156937,-0.2877608080766827,-0.767421864672971,0.8747239125952794,-1.5836537405323652,0.5932317169378237,0.22155467596449682,-0.2946398656833748,0.501013083160056,-1.4595035573437123,-0.600133196317449,0.4371009535768002,-2.210211643664322,0.3987946242518368,0.9673048599268973,-0.991473339820769,1.481431234489536,-0.03793162416476574,1.1079397655393566,-1.369508046106604,-0.1649378380752962,-0.7352150191288587,-1.4239325906110716,0.44200726961262254,1.0425740063040825,0.8844989386981145,-2.5816261775021685,-0.2990031997249988,0.039030433549701274,0.8455972801354262,0.4294742344327642,-0.43682471944814016,1.0841609285508675,1.1469454716518857,-0.2054363362461187,-0.5466324358704335,-0.7389366044575378,-0.16902628340572434,-0.19004248977568786,-0.49727220556567836,0.2796113263981927,-1.6861463695938166,0.17628961485402045,0.3854415954185394,-0.35792778347898646,-0.056004840344292366,0.7640036412727731,-1.3155218371664341,0.8607461279866138,-0.9632096083138955,0.2013845338042852,0.3273678055928306,2.151982269773717,-0.3337367592014226,-0.6715793937101349,-0.02262627338355212,-0.7333371089900023,0.3689449330022981,1.8709776079342886],\"xaxis\":\"x14\",\"y\":[-0.16698152242796563,0.26909329242327334,1.5100358375326823,0.08893402499514612,0.3796726622869942,1.8466081554109595,0.7040953011510183,1.2107636630222662,-1.2132296943762197,0.879627776754263,0.5684442976238012,0.5298693940071432,-1.674269720437406,-0.912630414643611,-0.7450917733255941,0.0422315272816017,-0.3515786869274323,1.128527129929655,0.9006598876114357,-0.34734454559643285,-0.3775530324157638,-0.21896031926161155,0.6478642022089207,0.03343285934465391,0.8527080991567603,-1.1969041163602225,1.9810558476039732,1.120547376095395,-1.9054245027503434,0.006929944895255636,-1.659883647300653,0.51534756102324,-0.6176288613825067,0.4894694399004788,0.5476513689136442,0.23584525422475605,0.6765460870220769,1.916526649821652,-0.5729473164384696,-1.1853537263517948,0.5250366640704713,0.03116538517875106,-1.243805002108966,2.5054193469654042,-0.931674239439011,-0.4407047224344251,-1.2779631173347277,-0.7451552297858708,0.16478287627577923,-1.536865594100219,-0.5492611476389664,-1.2020303838909674,1.337800596471134,-0.7980175083892986,-1.7696049050138287,1.7205949177799915,-0.8374118874503188,-0.10200136859410983,0.01089359859617445,0.38358872385159665,-0.6160978721745863,1.4212623611327182,-0.6977551920042057,-0.5392560208548826,-0.6798260298979372,1.2506897853538967,-0.23508022203878431,0.051804134866280695,1.421969711559989,-0.5014909849806081,1.3379500662712527,0.05097568818349346,0.3678045414217921,0.7844918957876057,-0.705664301427625,1.908043541102815,0.4547664385782509,-0.14515610401424958,0.8650018400071103,0.20120409997833696,-1.3480905218314831,-1.1842695424955942,0.035976627980285544,-1.1762328800400228,0.5653576799028618,0.20074002962261614,0.4340173162164649,1.3918213975265494,0.05222207533041211,0.858455625929984,-0.7802769532459792,-0.12769731696154077,-0.04299642426099226,0.7761664124267653,-0.2950514354006721,1.9645412563420428,-0.5112906137510908,0.7658714369035079,-2.0785366758572157,-0.8881901513191027],\"yaxis\":\"y14\",\"type\":\"scatter\"},{\"line\":{\"color\":\"rgba(128, 128, 128, 1.0)\",\"dash\":\"solid\",\"shape\":\"linear\",\"width\":1.3},\"marker\":{\"size\":2,\"symbol\":\"circle\"},\"mode\":\"markers\",\"name\":\"D\",\"text\":\"\",\"x\":[1.0953767652329516,1.0674885235210942,0.10702710741239999,-0.954153685946803,-1.0117846817687348,-1.248748546330939,0.33573629591591553,0.09105282444780213,-0.740669148990467,0.5604153074363686,-1.156263488934967,0.14141745220162819,-0.02195036741740686,-2.574394766813021,1.112972665858067,-1.3959559717282959,-1.1084197955034893,0.9397167813130121,0.35865379355073923,-0.04091216165564142,0.5917460927696595,0.5633415574373425,1.0768777697973806,-0.580001604449778,-0.5408884505927388,-0.5570533340947074,-0.2794306786219015,-0.3758900285760739,-0.8436557055097003,0.9017423987486539,1.2137921129836033,-1.232651901917362,-0.4152255020506121,-0.5550741829104553,0.005357956882898781,0.7483435968141808,1.0011756713653068,0.5027780048241728,2.7357929212343897,1.074126071465053,0.5005699474096457,-0.5532408933133417,-1.2726558386937958,0.23731753540874181,-0.46520338349774676,-0.18438834613668895,1.2077286521868627,0.7236261545462045,-1.7204816845343944,-0.6023030332880979,0.7561440210904469,0.3021160942655366,-1.026907699608662,-1.2295098597943062,0.008325636100983063,0.8393746117529984,0.447264874149784,-0.27278041071657666,-0.15423198109448072,1.1368568316257275,0.4083911186319793,-0.07808427251102533,-1.1823655795878965,1.350417628424253,-1.7389847911330285,-2.5111769110929747,1.2373754600798792,-0.31803011445916834,0.8351509287147442,-0.30933408602372775,-0.1067106096295591,1.1586410521599493,0.1932555811594735,0.5076663310320605,0.5205839863841363,0.7794023849824213,-0.8454694626466698,0.8667120603331698,0.44391874737678555,-0.3923489773262638,1.3049769621906229,-1.3216687973535155,-0.8227690572169466,-0.36828489240639184,0.8637341876668951,-0.9498737456139357,-1.2237244938865248,-1.71936208493555,1.264675054118327,1.8082347255878342,-0.29550822133963267,-1.8490463992435888,-0.44822613089839825,-0.5180106310307114,-0.7485568101153796,1.6027585948517178,0.9627790218198398,-0.09776738470744424,-0.4061162842529637,-0.5613978392914967],\"xaxis\":\"x15\",\"y\":[-0.16698152242796563,0.26909329242327334,1.5100358375326823,0.08893402499514612,0.3796726622869942,1.8466081554109595,0.7040953011510183,1.2107636630222662,-1.2132296943762197,0.879627776754263,0.5684442976238012,0.5298693940071432,-1.674269720437406,-0.912630414643611,-0.7450917733255941,0.0422315272816017,-0.3515786869274323,1.128527129929655,0.9006598876114357,-0.34734454559643285,-0.3775530324157638,-0.21896031926161155,0.6478642022089207,0.03343285934465391,0.8527080991567603,-1.1969041163602225,1.9810558476039732,1.120547376095395,-1.9054245027503434,0.006929944895255636,-1.659883647300653,0.51534756102324,-0.6176288613825067,0.4894694399004788,0.5476513689136442,0.23584525422475605,0.6765460870220769,1.916526649821652,-0.5729473164384696,-1.1853537263517948,0.5250366640704713,0.03116538517875106,-1.243805002108966,2.5054193469654042,-0.931674239439011,-0.4407047224344251,-1.2779631173347277,-0.7451552297858708,0.16478287627577923,-1.536865594100219,-0.5492611476389664,-1.2020303838909674,1.337800596471134,-0.7980175083892986,-1.7696049050138287,1.7205949177799915,-0.8374118874503188,-0.10200136859410983,0.01089359859617445,0.38358872385159665,-0.6160978721745863,1.4212623611327182,-0.6977551920042057,-0.5392560208548826,-0.6798260298979372,1.2506897853538967,-0.23508022203878431,0.051804134866280695,1.421969711559989,-0.5014909849806081,1.3379500662712527,0.05097568818349346,0.3678045414217921,0.7844918957876057,-0.705664301427625,1.908043541102815,0.4547664385782509,-0.14515610401424958,0.8650018400071103,0.20120409997833696,-1.3480905218314831,-1.1842695424955942,0.035976627980285544,-1.1762328800400228,0.5653576799028618,0.20074002962261614,0.4340173162164649,1.3918213975265494,0.05222207533041211,0.858455625929984,-0.7802769532459792,-0.12769731696154077,-0.04299642426099226,0.7761664124267653,-0.2950514354006721,1.9645412563420428,-0.5112906137510908,0.7658714369035079,-2.0785366758572157,-0.8881901513191027],\"yaxis\":\"y15\",\"type\":\"scatter\"},{\"histfunc\":\"count\",\"histnorm\":\"\",\"marker\":{\"color\":\"rgba(128, 0, 128, 1.0)\",\"line\":{\"color\":\"#4D5663\",\"width\":1.3}},\"name\":\"D\",\"nbinsx\":10,\"opacity\":0.8,\"orientation\":\"v\",\"x\":[-0.16698152242796563,0.26909329242327334,1.5100358375326823,0.08893402499514612,0.3796726622869942,1.8466081554109595,0.7040953011510183,1.2107636630222662,-1.2132296943762197,0.879627776754263,0.5684442976238012,0.5298693940071432,-1.674269720437406,-0.912630414643611,-0.7450917733255941,0.0422315272816017,-0.3515786869274323,1.128527129929655,0.9006598876114357,-0.34734454559643285,-0.3775530324157638,-0.21896031926161155,0.6478642022089207,0.03343285934465391,0.8527080991567603,-1.1969041163602225,1.9810558476039732,1.120547376095395,-1.9054245027503434,0.006929944895255636,-1.659883647300653,0.51534756102324,-0.6176288613825067,0.4894694399004788,0.5476513689136442,0.23584525422475605,0.6765460870220769,1.916526649821652,-0.5729473164384696,-1.1853537263517948,0.5250366640704713,0.03116538517875106,-1.243805002108966,2.5054193469654042,-0.931674239439011,-0.4407047224344251,-1.2779631173347277,-0.7451552297858708,0.16478287627577923,-1.536865594100219,-0.5492611476389664,-1.2020303838909674,1.337800596471134,-0.7980175083892986,-1.7696049050138287,1.7205949177799915,-0.8374118874503188,-0.10200136859410983,0.01089359859617445,0.38358872385159665,-0.6160978721745863,1.4212623611327182,-0.6977551920042057,-0.5392560208548826,-0.6798260298979372,1.2506897853538967,-0.23508022203878431,0.051804134866280695,1.421969711559989,-0.5014909849806081,1.3379500662712527,0.05097568818349346,0.3678045414217921,0.7844918957876057,-0.705664301427625,1.908043541102815,0.4547664385782509,-0.14515610401424958,0.8650018400071103,0.20120409997833696,-1.3480905218314831,-1.1842695424955942,0.035976627980285544,-1.1762328800400228,0.5653576799028618,0.20074002962261614,0.4340173162164649,1.3918213975265494,0.05222207533041211,0.858455625929984,-0.7802769532459792,-0.12769731696154077,-0.04299642426099226,0.7761664124267653,-0.2950514354006721,1.9645412563420428,-0.5112906137510908,0.7658714369035079,-2.0785366758572157,-0.8881901513191027],\"xaxis\":\"x16\",\"yaxis\":\"y16\",\"type\":\"histogram\"}],                        {\"bargap\":0.02,\"legend\":{\"bgcolor\":\"#F5F6F9\",\"font\":{\"color\":\"#4D5663\"}},\"paper_bgcolor\":\"#F5F6F9\",\"plot_bgcolor\":\"#F5F6F9\",\"showlegend\":false,\"template\":{\"data\":{\"barpolar\":[{\"marker\":{\"line\":{\"color\":\"#E5ECF6\",\"width\":0.5},\"pattern\":{\"fillmode\":\"overlay\",\"size\":10,\"solidity\":0.2}},\"type\":\"barpolar\"}],\"bar\":[{\"error_x\":{\"color\":\"#2a3f5f\"},\"error_y\":{\"color\":\"#2a3f5f\"},\"marker\":{\"line\":{\"color\":\"#E5ECF6\",\"width\":0.5},\"pattern\":{\"fillmode\":\"overlay\",\"size\":10,\"solidity\":0.2}},\"type\":\"bar\"}],\"carpet\":[{\"aaxis\":{\"endlinecolor\":\"#2a3f5f\",\"gridcolor\":\"white\",\"linecolor\":\"white\",\"minorgridcolor\":\"white\",\"startlinecolor\":\"#2a3f5f\"},\"baxis\":{\"endlinecolor\":\"#2a3f5f\",\"gridcolor\":\"white\",\"linecolor\":\"white\",\"minorgridcolor\":\"white\",\"startlinecolor\":\"#2a3f5f\"},\"type\":\"carpet\"}],\"choropleth\":[{\"colorbar\":{\"outlinewidth\":0,\"ticks\":\"\"},\"type\":\"choropleth\"}],\"contourcarpet\":[{\"colorbar\":{\"outlinewidth\":0,\"ticks\":\"\"},\"type\":\"contourcarpet\"}],\"contour\":[{\"colorbar\":{\"outlinewidth\":0,\"ticks\":\"\"},\"colorscale\":[[0.0,\"#0d0887\"],[0.1111111111111111,\"#46039f\"],[0.2222222222222222,\"#7201a8\"],[0.3333333333333333,\"#9c179e\"],[0.4444444444444444,\"#bd3786\"],[0.5555555555555556,\"#d8576b\"],[0.6666666666666666,\"#ed7953\"],[0.7777777777777778,\"#fb9f3a\"],[0.8888888888888888,\"#fdca26\"],[1.0,\"#f0f921\"]],\"type\":\"contour\"}],\"heatmapgl\":[{\"colorbar\":{\"outlinewidth\":0,\"ticks\":\"\"},\"colorscale\":[[0.0,\"#0d0887\"],[0.1111111111111111,\"#46039f\"],[0.2222222222222222,\"#7201a8\"],[0.3333333333333333,\"#9c179e\"],[0.4444444444444444,\"#bd3786\"],[0.5555555555555556,\"#d8576b\"],[0.6666666666666666,\"#ed7953\"],[0.7777777777777778,\"#fb9f3a\"],[0.8888888888888888,\"#fdca26\"],[1.0,\"#f0f921\"]],\"type\":\"heatmapgl\"}],\"heatmap\":[{\"colorbar\":{\"outlinewidth\":0,\"ticks\":\"\"},\"colorscale\":[[0.0,\"#0d0887\"],[0.1111111111111111,\"#46039f\"],[0.2222222222222222,\"#7201a8\"],[0.3333333333333333,\"#9c179e\"],[0.4444444444444444,\"#bd3786\"],[0.5555555555555556,\"#d8576b\"],[0.6666666666666666,\"#ed7953\"],[0.7777777777777778,\"#fb9f3a\"],[0.8888888888888888,\"#fdca26\"],[1.0,\"#f0f921\"]],\"type\":\"heatmap\"}],\"histogram2dcontour\":[{\"colorbar\":{\"outlinewidth\":0,\"ticks\":\"\"},\"colorscale\":[[0.0,\"#0d0887\"],[0.1111111111111111,\"#46039f\"],[0.2222222222222222,\"#7201a8\"],[0.3333333333333333,\"#9c179e\"],[0.4444444444444444,\"#bd3786\"],[0.5555555555555556,\"#d8576b\"],[0.6666666666666666,\"#ed7953\"],[0.7777777777777778,\"#fb9f3a\"],[0.8888888888888888,\"#fdca26\"],[1.0,\"#f0f921\"]],\"type\":\"histogram2dcontour\"}],\"histogram2d\":[{\"colorbar\":{\"outlinewidth\":0,\"ticks\":\"\"},\"colorscale\":[[0.0,\"#0d0887\"],[0.1111111111111111,\"#46039f\"],[0.2222222222222222,\"#7201a8\"],[0.3333333333333333,\"#9c179e\"],[0.4444444444444444,\"#bd3786\"],[0.5555555555555556,\"#d8576b\"],[0.6666666666666666,\"#ed7953\"],[0.7777777777777778,\"#fb9f3a\"],[0.8888888888888888,\"#fdca26\"],[1.0,\"#f0f921\"]],\"type\":\"histogram2d\"}],\"histogram\":[{\"marker\":{\"pattern\":{\"fillmode\":\"overlay\",\"size\":10,\"solidity\":0.2}},\"type\":\"histogram\"}],\"mesh3d\":[{\"colorbar\":{\"outlinewidth\":0,\"ticks\":\"\"},\"type\":\"mesh3d\"}],\"parcoords\":[{\"line\":{\"colorbar\":{\"outlinewidth\":0,\"ticks\":\"\"}},\"type\":\"parcoords\"}],\"pie\":[{\"automargin\":true,\"type\":\"pie\"}],\"scatter3d\":[{\"line\":{\"colorbar\":{\"outlinewidth\":0,\"ticks\":\"\"}},\"marker\":{\"colorbar\":{\"outlinewidth\":0,\"ticks\":\"\"}},\"type\":\"scatter3d\"}],\"scattercarpet\":[{\"marker\":{\"colorbar\":{\"outlinewidth\":0,\"ticks\":\"\"}},\"type\":\"scattercarpet\"}],\"scattergeo\":[{\"marker\":{\"colorbar\":{\"outlinewidth\":0,\"ticks\":\"\"}},\"type\":\"scattergeo\"}],\"scattergl\":[{\"marker\":{\"colorbar\":{\"outlinewidth\":0,\"ticks\":\"\"}},\"type\":\"scattergl\"}],\"scattermapbox\":[{\"marker\":{\"colorbar\":{\"outlinewidth\":0,\"ticks\":\"\"}},\"type\":\"scattermapbox\"}],\"scatterpolargl\":[{\"marker\":{\"colorbar\":{\"outlinewidth\":0,\"ticks\":\"\"}},\"type\":\"scatterpolargl\"}],\"scatterpolar\":[{\"marker\":{\"colorbar\":{\"outlinewidth\":0,\"ticks\":\"\"}},\"type\":\"scatterpolar\"}],\"scatter\":[{\"marker\":{\"colorbar\":{\"outlinewidth\":0,\"ticks\":\"\"}},\"type\":\"scatter\"}],\"scatterternary\":[{\"marker\":{\"colorbar\":{\"outlinewidth\":0,\"ticks\":\"\"}},\"type\":\"scatterternary\"}],\"surface\":[{\"colorbar\":{\"outlinewidth\":0,\"ticks\":\"\"},\"colorscale\":[[0.0,\"#0d0887\"],[0.1111111111111111,\"#46039f\"],[0.2222222222222222,\"#7201a8\"],[0.3333333333333333,\"#9c179e\"],[0.4444444444444444,\"#bd3786\"],[0.5555555555555556,\"#d8576b\"],[0.6666666666666666,\"#ed7953\"],[0.7777777777777778,\"#fb9f3a\"],[0.8888888888888888,\"#fdca26\"],[1.0,\"#f0f921\"]],\"type\":\"surface\"}],\"table\":[{\"cells\":{\"fill\":{\"color\":\"#EBF0F8\"},\"line\":{\"color\":\"white\"}},\"header\":{\"fill\":{\"color\":\"#C8D4E3\"},\"line\":{\"color\":\"white\"}},\"type\":\"table\"}]},\"layout\":{\"annotationdefaults\":{\"arrowcolor\":\"#2a3f5f\",\"arrowhead\":0,\"arrowwidth\":1},\"autotypenumbers\":\"strict\",\"coloraxis\":{\"colorbar\":{\"outlinewidth\":0,\"ticks\":\"\"}},\"colorscale\":{\"diverging\":[[0,\"#8e0152\"],[0.1,\"#c51b7d\"],[0.2,\"#de77ae\"],[0.3,\"#f1b6da\"],[0.4,\"#fde0ef\"],[0.5,\"#f7f7f7\"],[0.6,\"#e6f5d0\"],[0.7,\"#b8e186\"],[0.8,\"#7fbc41\"],[0.9,\"#4d9221\"],[1,\"#276419\"]],\"sequential\":[[0.0,\"#0d0887\"],[0.1111111111111111,\"#46039f\"],[0.2222222222222222,\"#7201a8\"],[0.3333333333333333,\"#9c179e\"],[0.4444444444444444,\"#bd3786\"],[0.5555555555555556,\"#d8576b\"],[0.6666666666666666,\"#ed7953\"],[0.7777777777777778,\"#fb9f3a\"],[0.8888888888888888,\"#fdca26\"],[1.0,\"#f0f921\"]],\"sequentialminus\":[[0.0,\"#0d0887\"],[0.1111111111111111,\"#46039f\"],[0.2222222222222222,\"#7201a8\"],[0.3333333333333333,\"#9c179e\"],[0.4444444444444444,\"#bd3786\"],[0.5555555555555556,\"#d8576b\"],[0.6666666666666666,\"#ed7953\"],[0.7777777777777778,\"#fb9f3a\"],[0.8888888888888888,\"#fdca26\"],[1.0,\"#f0f921\"]]},\"colorway\":[\"#636efa\",\"#EF553B\",\"#00cc96\",\"#ab63fa\",\"#FFA15A\",\"#19d3f3\",\"#FF6692\",\"#B6E880\",\"#FF97FF\",\"#FECB52\"],\"font\":{\"color\":\"#2a3f5f\"},\"geo\":{\"bgcolor\":\"white\",\"lakecolor\":\"white\",\"landcolor\":\"#E5ECF6\",\"showlakes\":true,\"showland\":true,\"subunitcolor\":\"white\"},\"hoverlabel\":{\"align\":\"left\"},\"hovermode\":\"closest\",\"mapbox\":{\"style\":\"light\"},\"paper_bgcolor\":\"white\",\"plot_bgcolor\":\"#E5ECF6\",\"polar\":{\"angularaxis\":{\"gridcolor\":\"white\",\"linecolor\":\"white\",\"ticks\":\"\"},\"bgcolor\":\"#E5ECF6\",\"radialaxis\":{\"gridcolor\":\"white\",\"linecolor\":\"white\",\"ticks\":\"\"}},\"scene\":{\"xaxis\":{\"backgroundcolor\":\"#E5ECF6\",\"gridcolor\":\"white\",\"gridwidth\":2,\"linecolor\":\"white\",\"showbackground\":true,\"ticks\":\"\",\"zerolinecolor\":\"white\"},\"yaxis\":{\"backgroundcolor\":\"#E5ECF6\",\"gridcolor\":\"white\",\"gridwidth\":2,\"linecolor\":\"white\",\"showbackground\":true,\"ticks\":\"\",\"zerolinecolor\":\"white\"},\"zaxis\":{\"backgroundcolor\":\"#E5ECF6\",\"gridcolor\":\"white\",\"gridwidth\":2,\"linecolor\":\"white\",\"showbackground\":true,\"ticks\":\"\",\"zerolinecolor\":\"white\"}},\"shapedefaults\":{\"line\":{\"color\":\"#2a3f5f\"}},\"ternary\":{\"aaxis\":{\"gridcolor\":\"white\",\"linecolor\":\"white\",\"ticks\":\"\"},\"baxis\":{\"gridcolor\":\"white\",\"linecolor\":\"white\",\"ticks\":\"\"},\"bgcolor\":\"#E5ECF6\",\"caxis\":{\"gridcolor\":\"white\",\"linecolor\":\"white\",\"ticks\":\"\"}},\"title\":{\"x\":0.05},\"xaxis\":{\"automargin\":true,\"gridcolor\":\"white\",\"linecolor\":\"white\",\"ticks\":\"\",\"title\":{\"standoff\":15},\"zerolinecolor\":\"white\",\"zerolinewidth\":2},\"yaxis\":{\"automargin\":true,\"gridcolor\":\"white\",\"linecolor\":\"white\",\"ticks\":\"\",\"title\":{\"standoff\":15},\"zerolinecolor\":\"white\",\"zerolinewidth\":2}}},\"title\":{\"font\":{\"color\":\"#4D5663\"}},\"xaxis\":{\"anchor\":\"y\",\"domain\":[0.0,0.2125],\"gridcolor\":\"#E1E5ED\",\"showgrid\":false,\"tickfont\":{\"color\":\"#4D5663\"},\"title\":{\"font\":{\"color\":\"#4D5663\"},\"text\":\"\"},\"zerolinecolor\":\"#E1E5ED\"},\"yaxis\":{\"anchor\":\"x\",\"domain\":[0.8025,1.0],\"gridcolor\":\"#E1E5ED\",\"showgrid\":false,\"tickfont\":{\"color\":\"#4D5663\"},\"title\":{\"font\":{\"color\":\"#4D5663\"},\"text\":\"\"},\"zerolinecolor\":\"#E1E5ED\"},\"xaxis2\":{\"anchor\":\"y2\",\"domain\":[0.2625,0.475],\"gridcolor\":\"#E1E5ED\",\"showgrid\":false,\"tickfont\":{\"color\":\"#4D5663\"},\"title\":{\"font\":{\"color\":\"#4D5663\"},\"text\":\"\"},\"zerolinecolor\":\"#E1E5ED\"},\"yaxis2\":{\"anchor\":\"x2\",\"domain\":[0.8025,1.0],\"gridcolor\":\"#E1E5ED\",\"showgrid\":false,\"tickfont\":{\"color\":\"#4D5663\"},\"title\":{\"font\":{\"color\":\"#4D5663\"},\"text\":\"\"},\"zerolinecolor\":\"#E1E5ED\"},\"xaxis3\":{\"anchor\":\"y3\",\"domain\":[0.525,0.7375],\"gridcolor\":\"#E1E5ED\",\"showgrid\":false,\"tickfont\":{\"color\":\"#4D5663\"},\"title\":{\"font\":{\"color\":\"#4D5663\"},\"text\":\"\"},\"zerolinecolor\":\"#E1E5ED\"},\"yaxis3\":{\"anchor\":\"x3\",\"domain\":[0.8025,1.0],\"gridcolor\":\"#E1E5ED\",\"showgrid\":false,\"tickfont\":{\"color\":\"#4D5663\"},\"title\":{\"font\":{\"color\":\"#4D5663\"},\"text\":\"\"},\"zerolinecolor\":\"#E1E5ED\"},\"xaxis4\":{\"anchor\":\"y4\",\"domain\":[0.7875,1.0],\"gridcolor\":\"#E1E5ED\",\"showgrid\":false,\"tickfont\":{\"color\":\"#4D5663\"},\"title\":{\"font\":{\"color\":\"#4D5663\"},\"text\":\"\"},\"zerolinecolor\":\"#E1E5ED\"},\"yaxis4\":{\"anchor\":\"x4\",\"domain\":[0.8025,1.0],\"gridcolor\":\"#E1E5ED\",\"showgrid\":false,\"tickfont\":{\"color\":\"#4D5663\"},\"title\":{\"font\":{\"color\":\"#4D5663\"},\"text\":\"\"},\"zerolinecolor\":\"#E1E5ED\"},\"xaxis5\":{\"anchor\":\"y5\",\"domain\":[0.0,0.2125],\"gridcolor\":\"#E1E5ED\",\"showgrid\":false,\"tickfont\":{\"color\":\"#4D5663\"},\"title\":{\"font\":{\"color\":\"#4D5663\"},\"text\":\"\"},\"zerolinecolor\":\"#E1E5ED\"},\"yaxis5\":{\"anchor\":\"x5\",\"domain\":[0.535,0.7325],\"gridcolor\":\"#E1E5ED\",\"showgrid\":false,\"tickfont\":{\"color\":\"#4D5663\"},\"title\":{\"font\":{\"color\":\"#4D5663\"},\"text\":\"\"},\"zerolinecolor\":\"#E1E5ED\"},\"xaxis6\":{\"anchor\":\"y6\",\"domain\":[0.2625,0.475],\"gridcolor\":\"#E1E5ED\",\"showgrid\":false,\"tickfont\":{\"color\":\"#4D5663\"},\"title\":{\"font\":{\"color\":\"#4D5663\"},\"text\":\"\"},\"zerolinecolor\":\"#E1E5ED\"},\"yaxis6\":{\"anchor\":\"x6\",\"domain\":[0.535,0.7325],\"gridcolor\":\"#E1E5ED\",\"showgrid\":false,\"tickfont\":{\"color\":\"#4D5663\"},\"title\":{\"font\":{\"color\":\"#4D5663\"},\"text\":\"\"},\"zerolinecolor\":\"#E1E5ED\"},\"xaxis7\":{\"anchor\":\"y7\",\"domain\":[0.525,0.7375],\"gridcolor\":\"#E1E5ED\",\"showgrid\":false,\"tickfont\":{\"color\":\"#4D5663\"},\"title\":{\"font\":{\"color\":\"#4D5663\"},\"text\":\"\"},\"zerolinecolor\":\"#E1E5ED\"},\"yaxis7\":{\"anchor\":\"x7\",\"domain\":[0.535,0.7325],\"gridcolor\":\"#E1E5ED\",\"showgrid\":false,\"tickfont\":{\"color\":\"#4D5663\"},\"title\":{\"font\":{\"color\":\"#4D5663\"},\"text\":\"\"},\"zerolinecolor\":\"#E1E5ED\"},\"xaxis8\":{\"anchor\":\"y8\",\"domain\":[0.7875,1.0],\"gridcolor\":\"#E1E5ED\",\"showgrid\":false,\"tickfont\":{\"color\":\"#4D5663\"},\"title\":{\"font\":{\"color\":\"#4D5663\"},\"text\":\"\"},\"zerolinecolor\":\"#E1E5ED\"},\"yaxis8\":{\"anchor\":\"x8\",\"domain\":[0.535,0.7325],\"gridcolor\":\"#E1E5ED\",\"showgrid\":false,\"tickfont\":{\"color\":\"#4D5663\"},\"title\":{\"font\":{\"color\":\"#4D5663\"},\"text\":\"\"},\"zerolinecolor\":\"#E1E5ED\"},\"xaxis9\":{\"anchor\":\"y9\",\"domain\":[0.0,0.2125],\"gridcolor\":\"#E1E5ED\",\"showgrid\":false,\"tickfont\":{\"color\":\"#4D5663\"},\"title\":{\"font\":{\"color\":\"#4D5663\"},\"text\":\"\"},\"zerolinecolor\":\"#E1E5ED\"},\"yaxis9\":{\"anchor\":\"x9\",\"domain\":[0.2675,0.465],\"gridcolor\":\"#E1E5ED\",\"showgrid\":false,\"tickfont\":{\"color\":\"#4D5663\"},\"title\":{\"font\":{\"color\":\"#4D5663\"},\"text\":\"\"},\"zerolinecolor\":\"#E1E5ED\"},\"xaxis10\":{\"anchor\":\"y10\",\"domain\":[0.2625,0.475],\"gridcolor\":\"#E1E5ED\",\"showgrid\":false,\"tickfont\":{\"color\":\"#4D5663\"},\"title\":{\"font\":{\"color\":\"#4D5663\"},\"text\":\"\"},\"zerolinecolor\":\"#E1E5ED\"},\"yaxis10\":{\"anchor\":\"x10\",\"domain\":[0.2675,0.465],\"gridcolor\":\"#E1E5ED\",\"showgrid\":false,\"tickfont\":{\"color\":\"#4D5663\"},\"title\":{\"font\":{\"color\":\"#4D5663\"},\"text\":\"\"},\"zerolinecolor\":\"#E1E5ED\"},\"xaxis11\":{\"anchor\":\"y11\",\"domain\":[0.525,0.7375],\"gridcolor\":\"#E1E5ED\",\"showgrid\":false,\"tickfont\":{\"color\":\"#4D5663\"},\"title\":{\"font\":{\"color\":\"#4D5663\"},\"text\":\"\"},\"zerolinecolor\":\"#E1E5ED\"},\"yaxis11\":{\"anchor\":\"x11\",\"domain\":[0.2675,0.465],\"gridcolor\":\"#E1E5ED\",\"showgrid\":false,\"tickfont\":{\"color\":\"#4D5663\"},\"title\":{\"font\":{\"color\":\"#4D5663\"},\"text\":\"\"},\"zerolinecolor\":\"#E1E5ED\"},\"xaxis12\":{\"anchor\":\"y12\",\"domain\":[0.7875,1.0],\"gridcolor\":\"#E1E5ED\",\"showgrid\":false,\"tickfont\":{\"color\":\"#4D5663\"},\"title\":{\"font\":{\"color\":\"#4D5663\"},\"text\":\"\"},\"zerolinecolor\":\"#E1E5ED\"},\"yaxis12\":{\"anchor\":\"x12\",\"domain\":[0.2675,0.465],\"gridcolor\":\"#E1E5ED\",\"showgrid\":false,\"tickfont\":{\"color\":\"#4D5663\"},\"title\":{\"font\":{\"color\":\"#4D5663\"},\"text\":\"\"},\"zerolinecolor\":\"#E1E5ED\"},\"xaxis13\":{\"anchor\":\"y13\",\"domain\":[0.0,0.2125],\"gridcolor\":\"#E1E5ED\",\"showgrid\":false,\"tickfont\":{\"color\":\"#4D5663\"},\"title\":{\"font\":{\"color\":\"#4D5663\"},\"text\":\"\"},\"zerolinecolor\":\"#E1E5ED\"},\"yaxis13\":{\"anchor\":\"x13\",\"domain\":[0.0,0.1975],\"gridcolor\":\"#E1E5ED\",\"showgrid\":false,\"tickfont\":{\"color\":\"#4D5663\"},\"title\":{\"font\":{\"color\":\"#4D5663\"},\"text\":\"\"},\"zerolinecolor\":\"#E1E5ED\"},\"xaxis14\":{\"anchor\":\"y14\",\"domain\":[0.2625,0.475],\"gridcolor\":\"#E1E5ED\",\"showgrid\":false,\"tickfont\":{\"color\":\"#4D5663\"},\"title\":{\"font\":{\"color\":\"#4D5663\"},\"text\":\"\"},\"zerolinecolor\":\"#E1E5ED\"},\"yaxis14\":{\"anchor\":\"x14\",\"domain\":[0.0,0.1975],\"gridcolor\":\"#E1E5ED\",\"showgrid\":false,\"tickfont\":{\"color\":\"#4D5663\"},\"title\":{\"font\":{\"color\":\"#4D5663\"},\"text\":\"\"},\"zerolinecolor\":\"#E1E5ED\"},\"xaxis15\":{\"anchor\":\"y15\",\"domain\":[0.525,0.7375],\"gridcolor\":\"#E1E5ED\",\"showgrid\":false,\"tickfont\":{\"color\":\"#4D5663\"},\"title\":{\"font\":{\"color\":\"#4D5663\"},\"text\":\"\"},\"zerolinecolor\":\"#E1E5ED\"},\"yaxis15\":{\"anchor\":\"x15\",\"domain\":[0.0,0.1975],\"gridcolor\":\"#E1E5ED\",\"showgrid\":false,\"tickfont\":{\"color\":\"#4D5663\"},\"title\":{\"font\":{\"color\":\"#4D5663\"},\"text\":\"\"},\"zerolinecolor\":\"#E1E5ED\"},\"xaxis16\":{\"anchor\":\"y16\",\"domain\":[0.7875,1.0],\"gridcolor\":\"#E1E5ED\",\"showgrid\":false,\"tickfont\":{\"color\":\"#4D5663\"},\"title\":{\"font\":{\"color\":\"#4D5663\"},\"text\":\"\"},\"zerolinecolor\":\"#E1E5ED\"},\"yaxis16\":{\"anchor\":\"x16\",\"domain\":[0.0,0.1975],\"gridcolor\":\"#E1E5ED\",\"showgrid\":false,\"tickfont\":{\"color\":\"#4D5663\"},\"title\":{\"font\":{\"color\":\"#4D5663\"},\"text\":\"\"},\"zerolinecolor\":\"#E1E5ED\"}},                        {\"showLink\": true, \"linkText\": \"Export to plot.ly\", \"plotlyServerURL\": \"https://plot.ly\", \"responsive\": true}                    ).then(function(){\n",
       "                            \n",
       "var gd = document.getElementById('c2cc864c-c69f-47cd-bf5f-5c787152412f');\n",
       "var x = new MutationObserver(function (mutations, observer) {{\n",
       "        var display = window.getComputedStyle(gd).display;\n",
       "        if (!display || display === 'none') {{\n",
       "            console.log([gd, 'removed!']);\n",
       "            Plotly.purge(gd);\n",
       "            observer.disconnect();\n",
       "        }}\n",
       "}});\n",
       "\n",
       "// Listen for the removal of the full notebook cells\n",
       "var notebookContainer = gd.closest('#notebook-container');\n",
       "if (notebookContainer) {{\n",
       "    x.observe(notebookContainer, {childList: true});\n",
       "}}\n",
       "\n",
       "// Listen for the clearing of the current output cell\n",
       "var outputEl = gd.closest('.output');\n",
       "if (outputEl) {{\n",
       "    x.observe(outputEl, {childList: true});\n",
       "}}\n",
       "\n",
       "                        })                };                });            </script>        </div>"
      ]
     },
     "metadata": {},
     "output_type": "display_data"
    }
   ],
   "source": [
    "df.scatter_matrix()"
   ]
  },
  {
   "cell_type": "code",
   "execution_count": null,
   "id": "b52612b8",
   "metadata": {},
   "outputs": [],
   "source": []
  }
 ],
 "metadata": {
  "kernelspec": {
   "display_name": "Python 3 (ipykernel)",
   "language": "python",
   "name": "python3"
  },
  "language_info": {
   "codemirror_mode": {
    "name": "ipython",
    "version": 3
   },
   "file_extension": ".py",
   "mimetype": "text/x-python",
   "name": "python",
   "nbconvert_exporter": "python",
   "pygments_lexer": "ipython3",
   "version": "3.9.7"
  }
 },
 "nbformat": 4,
 "nbformat_minor": 5
}
