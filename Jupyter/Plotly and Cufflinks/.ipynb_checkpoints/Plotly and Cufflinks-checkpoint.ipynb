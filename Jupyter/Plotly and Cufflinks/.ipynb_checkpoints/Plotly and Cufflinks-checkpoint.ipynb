{
 "cells": [
  {
   "cell_type": "code",
   "execution_count": 48,
   "id": "775db5c6",
   "metadata": {},
   "outputs": [],
   "source": [
    "import pandas as pd \n",
    "import numpy as np\n",
    "%matplotlib inline"
   ]
  },
  {
   "cell_type": "code",
   "execution_count": 49,
   "id": "19593f02",
   "metadata": {},
   "outputs": [],
   "source": [
    "from plotly import __version__"
   ]
  },
  {
   "cell_type": "code",
   "execution_count": 50,
   "id": "49fbb83c",
   "metadata": {},
   "outputs": [],
   "source": [
    "import cufflinks as cf"
   ]
  },
  {
   "cell_type": "code",
   "execution_count": 51,
   "id": "34d53f9d",
   "metadata": {},
   "outputs": [],
   "source": [
    "from plotly.offline import download_plotlyjs,init_notebook_mode,plot,iplot"
   ]
  },
  {
   "cell_type": "code",
   "execution_count": 52,
   "id": "4f596810",
   "metadata": {},
   "outputs": [
    {
     "data": {
      "text/html": [
       "        <script type=\"text/javascript\">\n",
       "        window.PlotlyConfig = {MathJaxConfig: 'local'};\n",
       "        if (window.MathJax) {MathJax.Hub.Config({SVG: {font: \"STIX-Web\"}});}\n",
       "        if (typeof require !== 'undefined') {\n",
       "        require.undef(\"plotly\");\n",
       "        requirejs.config({\n",
       "            paths: {\n",
       "                'plotly': ['https://cdn.plot.ly/plotly-2.6.3.min']\n",
       "            }\n",
       "        });\n",
       "        require(['plotly'], function(Plotly) {\n",
       "            window._Plotly = Plotly;\n",
       "        });\n",
       "        }\n",
       "        </script>\n",
       "        "
      ]
     },
     "metadata": {},
     "output_type": "display_data"
    }
   ],
   "source": [
    "init_notebook_mode(connected=True)"
   ]
  },
  {
   "cell_type": "code",
   "execution_count": 53,
   "id": "062bd69c",
   "metadata": {},
   "outputs": [
    {
     "data": {
      "text/html": [
       "        <script type=\"text/javascript\">\n",
       "        window.PlotlyConfig = {MathJaxConfig: 'local'};\n",
       "        if (window.MathJax) {MathJax.Hub.Config({SVG: {font: \"STIX-Web\"}});}\n",
       "        if (typeof require !== 'undefined') {\n",
       "        require.undef(\"plotly\");\n",
       "        requirejs.config({\n",
       "            paths: {\n",
       "                'plotly': ['https://cdn.plot.ly/plotly-2.6.3.min']\n",
       "            }\n",
       "        });\n",
       "        require(['plotly'], function(Plotly) {\n",
       "            window._Plotly = Plotly;\n",
       "        });\n",
       "        }\n",
       "        </script>\n",
       "        "
      ]
     },
     "metadata": {},
     "output_type": "display_data"
    }
   ],
   "source": [
    "cf.go_offline()"
   ]
  },
  {
   "cell_type": "code",
   "execution_count": 54,
   "id": "05b21429",
   "metadata": {},
   "outputs": [
    {
     "data": {
      "text/html": [
       "<div>\n",
       "<style scoped>\n",
       "    .dataframe tbody tr th:only-of-type {\n",
       "        vertical-align: middle;\n",
       "    }\n",
       "\n",
       "    .dataframe tbody tr th {\n",
       "        vertical-align: top;\n",
       "    }\n",
       "\n",
       "    .dataframe thead th {\n",
       "        text-align: right;\n",
       "    }\n",
       "</style>\n",
       "<table border=\"1\" class=\"dataframe\">\n",
       "  <thead>\n",
       "    <tr style=\"text-align: right;\">\n",
       "      <th></th>\n",
       "      <th>A</th>\n",
       "      <th>B</th>\n",
       "      <th>C</th>\n",
       "      <th>D</th>\n",
       "    </tr>\n",
       "  </thead>\n",
       "  <tbody>\n",
       "    <tr>\n",
       "      <th>0</th>\n",
       "      <td>0.004624</td>\n",
       "      <td>-1.168551</td>\n",
       "      <td>1.877585</td>\n",
       "      <td>0.017994</td>\n",
       "    </tr>\n",
       "    <tr>\n",
       "      <th>1</th>\n",
       "      <td>0.162816</td>\n",
       "      <td>-1.567802</td>\n",
       "      <td>1.163414</td>\n",
       "      <td>-0.065338</td>\n",
       "    </tr>\n",
       "    <tr>\n",
       "      <th>2</th>\n",
       "      <td>1.422443</td>\n",
       "      <td>0.787010</td>\n",
       "      <td>0.446146</td>\n",
       "      <td>0.620926</td>\n",
       "    </tr>\n",
       "    <tr>\n",
       "      <th>3</th>\n",
       "      <td>1.046588</td>\n",
       "      <td>-0.862902</td>\n",
       "      <td>-0.630625</td>\n",
       "      <td>2.282638</td>\n",
       "    </tr>\n",
       "    <tr>\n",
       "      <th>4</th>\n",
       "      <td>1.184258</td>\n",
       "      <td>-0.485706</td>\n",
       "      <td>2.107803</td>\n",
       "      <td>0.779157</td>\n",
       "    </tr>\n",
       "    <tr>\n",
       "      <th>...</th>\n",
       "      <td>...</td>\n",
       "      <td>...</td>\n",
       "      <td>...</td>\n",
       "      <td>...</td>\n",
       "    </tr>\n",
       "    <tr>\n",
       "      <th>95</th>\n",
       "      <td>-0.590362</td>\n",
       "      <td>0.445623</td>\n",
       "      <td>0.073127</td>\n",
       "      <td>1.142515</td>\n",
       "    </tr>\n",
       "    <tr>\n",
       "      <th>96</th>\n",
       "      <td>-1.312537</td>\n",
       "      <td>-0.077127</td>\n",
       "      <td>0.850579</td>\n",
       "      <td>-0.720653</td>\n",
       "    </tr>\n",
       "    <tr>\n",
       "      <th>97</th>\n",
       "      <td>0.618274</td>\n",
       "      <td>1.386708</td>\n",
       "      <td>0.540739</td>\n",
       "      <td>-1.319504</td>\n",
       "    </tr>\n",
       "    <tr>\n",
       "      <th>98</th>\n",
       "      <td>0.057286</td>\n",
       "      <td>-0.252014</td>\n",
       "      <td>-0.321287</td>\n",
       "      <td>-1.142737</td>\n",
       "    </tr>\n",
       "    <tr>\n",
       "      <th>99</th>\n",
       "      <td>1.436429</td>\n",
       "      <td>1.505744</td>\n",
       "      <td>0.447118</td>\n",
       "      <td>0.174300</td>\n",
       "    </tr>\n",
       "  </tbody>\n",
       "</table>\n",
       "<p>100 rows × 4 columns</p>\n",
       "</div>"
      ],
      "text/plain": [
       "           A         B         C         D\n",
       "0   0.004624 -1.168551  1.877585  0.017994\n",
       "1   0.162816 -1.567802  1.163414 -0.065338\n",
       "2   1.422443  0.787010  0.446146  0.620926\n",
       "3   1.046588 -0.862902 -0.630625  2.282638\n",
       "4   1.184258 -0.485706  2.107803  0.779157\n",
       "..       ...       ...       ...       ...\n",
       "95 -0.590362  0.445623  0.073127  1.142515\n",
       "96 -1.312537 -0.077127  0.850579 -0.720653\n",
       "97  0.618274  1.386708  0.540739 -1.319504\n",
       "98  0.057286 -0.252014 -0.321287 -1.142737\n",
       "99  1.436429  1.505744  0.447118  0.174300\n",
       "\n",
       "[100 rows x 4 columns]"
      ]
     },
     "execution_count": 54,
     "metadata": {},
     "output_type": "execute_result"
    }
   ],
   "source": [
    "# Data\n",
    "df=pd.DataFrame(np.random.randn(100,4),columns='A B C D'.split())\n",
    "df"
   ]
  },
  {
   "cell_type": "code",
   "execution_count": 55,
   "id": "2b1250c2",
   "metadata": {},
   "outputs": [
    {
     "data": {
      "text/html": [
       "<div>\n",
       "<style scoped>\n",
       "    .dataframe tbody tr th:only-of-type {\n",
       "        vertical-align: middle;\n",
       "    }\n",
       "\n",
       "    .dataframe tbody tr th {\n",
       "        vertical-align: top;\n",
       "    }\n",
       "\n",
       "    .dataframe thead th {\n",
       "        text-align: right;\n",
       "    }\n",
       "</style>\n",
       "<table border=\"1\" class=\"dataframe\">\n",
       "  <thead>\n",
       "    <tr style=\"text-align: right;\">\n",
       "      <th></th>\n",
       "      <th>Category</th>\n",
       "      <th>Values</th>\n",
       "    </tr>\n",
       "  </thead>\n",
       "  <tbody>\n",
       "    <tr>\n",
       "      <th>0</th>\n",
       "      <td>A</td>\n",
       "      <td>32</td>\n",
       "    </tr>\n",
       "    <tr>\n",
       "      <th>1</th>\n",
       "      <td>B</td>\n",
       "      <td>43</td>\n",
       "    </tr>\n",
       "    <tr>\n",
       "      <th>2</th>\n",
       "      <td>C</td>\n",
       "      <td>50</td>\n",
       "    </tr>\n",
       "  </tbody>\n",
       "</table>\n",
       "</div>"
      ],
      "text/plain": [
       "  Category  Values\n",
       "0        A      32\n",
       "1        B      43\n",
       "2        C      50"
      ]
     },
     "execution_count": 55,
     "metadata": {},
     "output_type": "execute_result"
    }
   ],
   "source": [
    "df2= pd.DataFrame({'Category':['A','B','C'],'Values':[32,43,50]})\n",
    "df2"
   ]
  },
  {
   "cell_type": "code",
   "execution_count": 56,
   "id": "ed6ba4b1",
   "metadata": {
    "scrolled": true
   },
   "outputs": [
    {
     "data": {
      "text/plain": [
       "<AxesSubplot:>"
      ]
     },
     "execution_count": 56,
     "metadata": {},
     "output_type": "execute_result"
    },
    {
     "data": {
      "image/png": "[encoded data removed]",
      "text/plain": [
       "<Figure size 432x288 with 1 Axes>"
      ]
     },
     "metadata": {
      "needs_background": "light"
     },
     "output_type": "display_data"
    }
   ],
   "source": [
    "df.plot()"
   ]
  },
  {
   "cell_type": "code",
   "execution_count": 57,
   "id": "de5033e8",
   "metadata": {
    "scrolled": true
   },
   "outputs": [
    {
     "data": {
      "application/vnd.plotly.v1+json": {
       "config": {
        "linkText": "Export to plot.ly",
        "plotlyServerURL": "https://plot.ly",
        "showLink": true
       },
       "data": [
        {
         "line": {
          "color": "rgba(255, 153, 51, 1.0)",
          "dash": "solid",
          "shape": "linear",
          "width": 1.3
         },
         "mode": "lines",
         "name": "A",
         "text": "",
         "type": "scatter",
         "x": [
          0,
          1,
          2,
          3,
          4,
          5,
          6,
          7,
          8,
          9,
          10,
          11,
          12,
          13,
          14,
          15,
          16,
          17,
          18,
          19,
          20,
          21,
          22,
          23,
          24,
          25,
          26,
          27,
          28,
          29,
          30,
          31,
          32,
          33,
          34,
          35,
          36,
          37,
          38,
          39,
          40,
          41,
          42,
          43,
          44,
          45,
          46,
          47,
          48,
          49,
          50,
          51,
          52,
          53,
          54,
          55,
          56,
          57,
          58,
          59,
          60,
          61,
          62,
          63,
          64,
          65,
          66,
          67,
          68,
          69,
          70,
          71,
          72,
          73,
          74,
          75,
          76,
          77,
          78,
          79,
          80,
          81,
          82,
          83,
          84,
          85,
          86,
          87,
          88,
          89,
          90,
          91,
          92,
          93,
          94,
          95,
          96,
          97,
          98,
          99
         ],
         "y": [
          0.004623521176124493,
          0.16281569506746615,
          1.4224425740072002,
          1.0465883726312297,
          1.1842576898475108,
          -0.9430017076288162,
          -0.6085150350497329,
          0.8327710604567566,
          0.7349610260402549,
          -0.2490841883443285,
          0.2219721971076617,
          -1.2381344162131944,
          0.2422425588075395,
          0.6651871185074474,
          0.08648920725692612,
          1.0069096722828492,
          0.5135885685395674,
          1.2510550806883736,
          -1.0764907866006002,
          1.5131900701575884,
          -0.21516214636280803,
          -0.9908219512508374,
          -0.48304635726610295,
          -0.3309062206065575,
          -0.5997402907722839,
          -0.2226520133817669,
          -0.09223681807908718,
          -0.9320599965705885,
          -0.6146119575534867,
          -1.8405985217209972,
          -0.07196636464122422,
          -1.1917272842793725,
          -0.1212696899713353,
          0.41431577966805777,
          1.1104672706779055,
          -0.9576385942121362,
          -0.06294522738310888,
          -0.207259397445168,
          -1.0449588125891485,
          0.7724106256129741,
          0.09848545584616183,
          -1.855603203676661,
          -0.19908444045357243,
          0.8807303289230828,
          -0.6436409911582044,
          -1.2394950322721574,
          -0.5333903959015579,
          0.08113009265143066,
          0.3121856933497823,
          -1.6231237399849323,
          0.4262435294386619,
          -0.5754254419012534,
          1.472988451795054,
          -0.48801630030810406,
          0.31591838578850046,
          -0.20911915762697417,
          0.513052823155541,
          -0.894640737393719,
          0.11303368243634235,
          0.08126390492515637,
          0.8265265186825116,
          1.5199902351604946,
          0.20409263911347916,
          -0.549468299736583,
          1.6351857717316323,
          -1.3272902155743422,
          0.3882066558678317,
          0.3584136011973048,
          2.315912702942067,
          1.104337817545148,
          0.33035701635016934,
          -1.2452283168205998,
          -0.5958689580863932,
          -0.06441653627456218,
          0.5647656230700507,
          0.9987758735688422,
          -0.141260329807457,
          -0.5973353039913025,
          0.4786330161546429,
          0.5501368588768211,
          0.8511598466974138,
          0.3742405334903403,
          -0.30177615255004636,
          1.7609112031453364,
          -0.24623366538207506,
          -0.014729716842070764,
          -2.121790882536806,
          -1.3267770846391103,
          -0.8570527379474144,
          -0.24849451967740438,
          -0.22805041501320314,
          0.527751794561854,
          1.3824145693759025,
          0.748002990817415,
          -1.216462277265814,
          -0.590361800281665,
          -1.3125371550384277,
          0.6182744698313806,
          0.05728572122844015,
          1.4364291765621007
         ]
        },
        {
         "line": {
          "color": "rgba(55, 128, 191, 1.0)",
          "dash": "solid",
          "shape": "linear",
          "width": 1.3
         },
         "mode": "lines",
         "name": "B",
         "text": "",
         "type": "scatter",
         "x": [
          0,
          1,
          2,
          3,
          4,
          5,
          6,
          7,
          8,
          9,
          10,
          11,
          12,
          13,
          14,
          15,
          16,
          17,
          18,
          19,
          20,
          21,
          22,
          23,
          24,
          25,
          26,
          27,
          28,
          29,
          30,
          31,
          32,
          33,
          34,
          35,
          36,
          37,
          38,
          39,
          40,
          41,
          42,
          43,
          44,
          45,
          46,
          47,
          48,
          49,
          50,
          51,
          52,
          53,
          54,
          55,
          56,
          57,
          58,
          59,
          60,
          61,
          62,
          63,
          64,
          65,
          66,
          67,
          68,
          69,
          70,
          71,
          72,
          73,
          74,
          75,
          76,
          77,
          78,
          79,
          80,
          81,
          82,
          83,
          84,
          85,
          86,
          87,
          88,
          89,
          90,
          91,
          92,
          93,
          94,
          95,
          96,
          97,
          98,
          99
         ],
         "y": [
          -1.1685508459194196,
          -1.5678017169000267,
          0.7870096262915491,
          -0.8629018468596408,
          -0.4857063865991016,
          -1.2626627412225944,
          1.2373205481923955,
          -0.48136229667102254,
          -0.4841128843538882,
          2.2915504567809273,
          -1.8664420703542837,
          -0.3822593347390874,
          -1.5464233121595794,
          0.8960317044216001,
          1.3738712750986215,
          1.3667016898736501,
          0.5931001857431492,
          -0.13608533179952403,
          -0.5226691150373612,
          0.9141181315239653,
          0.49588820121766547,
          0.7033452801787391,
          2.4161083229749805,
          0.9857082531792529,
          -0.5962036008775079,
          -2.3054551237669423,
          0.4595523549181218,
          2.1584557914506686,
          -0.21623673210559943,
          1.0268827658340507,
          -0.187361346602335,
          0.5586823673587367,
          -0.1425368574028095,
          0.47553084882931335,
          -0.8580278596709993,
          -1.3840740509849458,
          1.9078167471910268,
          -1.9298295674593051,
          0.4677649023118192,
          -0.6407645824728198,
          -0.20067105431129048,
          0.4535733758491212,
          -1.1594832090728682,
          -0.09834601975589295,
          -1.6057415274987874,
          -0.02923005850628262,
          1.0665687194053277,
          0.031731913806326804,
          1.6100699600708939,
          1.170010139117584,
          -1.3106350714837576,
          0.1503924243963787,
          -1.3108968820881353,
          -0.9241700441770824,
          0.5538224449867233,
          0.3999246772427607,
          0.24728761416851122,
          1.0347732797668334,
          0.6481309846764085,
          0.5225298542908703,
          -1.062807219692614,
          0.5389291711078632,
          0.3170946057858498,
          0.3113248214184092,
          -0.8779209994399148,
          -1.3103464725219607,
          -0.65146827356122,
          0.7838595330287975,
          -2.46586859817618,
          0.876539850402602,
          -0.838483575748058,
          3.023749502888475,
          0.4886405578618137,
          0.260885477893154,
          1.0195973638202933,
          0.8338732369478434,
          0.8553153295633149,
          -0.4904208832131635,
          0.3099140989134931,
          0.4674350174993666,
          1.6269411857138247,
          0.8377177915316513,
          -1.6344733353409773,
          0.5492777836028785,
          0.6287451281691209,
          -0.5570959640127177,
          2.1634854232289333,
          1.0158940604922302,
          -1.1812765625882486,
          0.8490929033497668,
          -0.2777383095778188,
          -1.539004318952743,
          0.38280204428729375,
          1.3083873098925314,
          0.8264927471174891,
          0.4456229526669064,
          -0.07712727689375366,
          1.3867079546845034,
          -0.2520138485006433,
          1.5057440934761228
         ]
        },
        {
         "line": {
          "color": "rgba(50, 171, 96, 1.0)",
          "dash": "solid",
          "shape": "linear",
          "width": 1.3
         },
         "mode": "lines",
         "name": "C",
         "text": "",
         "type": "scatter",
         "x": [
          0,
          1,
          2,
          3,
          4,
          5,
          6,
          7,
          8,
          9,
          10,
          11,
          12,
          13,
          14,
          15,
          16,
          17,
          18,
          19,
          20,
          21,
          22,
          23,
          24,
          25,
          26,
          27,
          28,
          29,
          30,
          31,
          32,
          33,
          34,
          35,
          36,
          37,
          38,
          39,
          40,
          41,
          42,
          43,
          44,
          45,
          46,
          47,
          48,
          49,
          50,
          51,
          52,
          53,
          54,
          55,
          56,
          57,
          58,
          59,
          60,
          61,
          62,
          63,
          64,
          65,
          66,
          67,
          68,
          69,
          70,
          71,
          72,
          73,
          74,
          75,
          76,
          77,
          78,
          79,
          80,
          81,
          82,
          83,
          84,
          85,
          86,
          87,
          88,
          89,
          90,
          91,
          92,
          93,
          94,
          95,
          96,
          97,
          98,
          99
         ],
         "y": [
          1.8775853248219743,
          1.1634138874701658,
          0.4461462012951521,
          -0.630624769338649,
          2.1078034957109053,
          -0.9482366110800454,
          2.3374606688456554,
          -0.679065383221523,
          0.38377185432970784,
          1.5537342535800607,
          -0.30904709094909677,
          0.6620405516788332,
          0.3587890963955483,
          -0.9621814942267252,
          -1.4076529625364693,
          0.8406620342661275,
          -0.19167605225737872,
          0.07085336292954711,
          -0.41536402355468804,
          -0.6526583034337081,
          0.8953472080675058,
          -0.7927090917157454,
          -0.18504205933124068,
          -2.1844554211545013,
          -0.34928948363733436,
          0.9824393337572949,
          -0.18103284009489634,
          1.2235484395296887,
          0.8925359803657423,
          -0.46265299214822686,
          0.5316146639769636,
          1.1141688952959876,
          -0.8211688679945353,
          -0.4378686464586095,
          -1.5813213284574152,
          -0.1835676074821394,
          0.3635537816869505,
          0.292409384725485,
          -1.9292642402610856,
          -0.02109065033916954,
          -0.6500499929198842,
          -1.0706479780393594,
          1.4810807680195102,
          1.630294092771878,
          1.437547802195289,
          0.1612706125131396,
          1.0347881245359465,
          -0.5153424725683133,
          -1.853413964971279,
          -0.10138460345739685,
          -0.11374182274874095,
          0.7199491131082625,
          -0.8079590917446239,
          1.6050403523925685,
          1.3705705373156225,
          -3.7000867425385264,
          -0.7990098105675697,
          -0.78798107887203,
          0.043511496311365645,
          1.3127181160199133,
          0.5361353718531487,
          -0.10185322125127683,
          -0.2738025230244527,
          1.0602797063746061,
          -0.4626325274765146,
          0.18241675634136165,
          -0.06547590029811755,
          -0.8001702022637728,
          -1.1856462858028625,
          -0.6801324022438168,
          -2.701244480900419,
          -0.3740019761449056,
          0.6291185609341405,
          -1.3562555539381782,
          -0.1323317334140988,
          1.1587415899315627,
          1.3136982038489562,
          0.056299150576219766,
          0.2107247171069781,
          -0.23792370643470714,
          1.0088798622079589,
          0.7617470824000864,
          0.021279115740499545,
          -0.5371997831801028,
          0.43251449785168766,
          -0.05054466631950313,
          1.9377628526721993,
          3.9430366917901165,
          1.770493094498392,
          0.4878354231461598,
          -0.7745409475417855,
          -1.0331047085352125,
          0.3705350822079853,
          0.17892303678959548,
          0.7634234146163706,
          0.07312674885361234,
          0.8505793751346387,
          0.5407389794242599,
          -0.32128688659668025,
          0.44711829829526967
         ]
        },
        {
         "line": {
          "color": "rgba(128, 0, 128, 1.0)",
          "dash": "solid",
          "shape": "linear",
          "width": 1.3
         },
         "mode": "lines",
         "name": "D",
         "text": "",
         "type": "scatter",
         "x": [
          0,
          1,
          2,
          3,
          4,
          5,
          6,
          7,
          8,
          9,
          10,
          11,
          12,
          13,
          14,
          15,
          16,
          17,
          18,
          19,
          20,
          21,
          22,
          23,
          24,
          25,
          26,
          27,
          28,
          29,
          30,
          31,
          32,
          33,
          34,
          35,
          36,
          37,
          38,
          39,
          40,
          41,
          42,
          43,
          44,
          45,
          46,
          47,
          48,
          49,
          50,
          51,
          52,
          53,
          54,
          55,
          56,
          57,
          58,
          59,
          60,
          61,
          62,
          63,
          64,
          65,
          66,
          67,
          68,
          69,
          70,
          71,
          72,
          73,
          74,
          75,
          76,
          77,
          78,
          79,
          80,
          81,
          82,
          83,
          84,
          85,
          86,
          87,
          88,
          89,
          90,
          91,
          92,
          93,
          94,
          95,
          96,
          97,
          98,
          99
         ],
         "y": [
          0.017994340381227145,
          -0.0653382085123521,
          0.6209264594991536,
          2.2826379372455197,
          0.7791573041836941,
          0.5072557716396099,
          0.2755242714684649,
          -0.6258208695941796,
          0.4693555786538185,
          -0.7208591531367468,
          0.42462242625489244,
          -1.9130505336414327,
          -0.8005255136044629,
          -0.11014504329317058,
          -1.5786485033992341,
          -1.3584660670467765,
          0.8554119234219554,
          0.6621662696420444,
          1.057233165320333,
          0.48229008348264657,
          1.3258226343578399,
          0.38911290504859075,
          0.5552410324849885,
          -1.113214333902142,
          1.601900234464146,
          0.8465429410097408,
          -0.02929303998629881,
          1.4651861522637595,
          1.6043335311238451,
          1.1861501805532806,
          2.288301812396918,
          -0.24144017822599984,
          1.074119518410007,
          0.14898849148633259,
          -0.21959247846775123,
          -0.4842991280081334,
          -0.5980875083709224,
          -0.6965258592933425,
          0.3752982937419125,
          -0.7405377346691557,
          1.4404124597838097,
          -2.458134592213451,
          -0.47260729864100204,
          0.003728348811584746,
          1.2722021246585768,
          0.3422839657249093,
          -1.591342881881602,
          -1.029037761921719,
          -0.16164559078402468,
          -0.46780869601705866,
          -0.20909695044526982,
          -0.15882282057795602,
          -0.33284057418607227,
          1.0513284800699878,
          -0.29257393956132854,
          0.41951762976242507,
          -1.5772488030443022,
          -0.0020039985250401744,
          -0.4764832163085147,
          -1.360639971697527,
          -0.7690296609146785,
          0.7584178969102826,
          -0.4513941465121298,
          0.2733591602541416,
          -0.4312651269411663,
          -1.3505952616061818,
          1.3718235501994085,
          -0.5501653282490452,
          0.4283274396211519,
          0.14583143659223802,
          1.0987555962936866,
          0.8624745086082322,
          0.5191588818768138,
          1.3848027984846778,
          0.6308443959533383,
          -0.8457552243986087,
          -0.23763820875389796,
          0.19990236397564415,
          -1.0157103003006478,
          -0.12688143526493068,
          -0.5796559515504119,
          -1.33437379644634,
          1.373035470199231,
          -0.09271868702696864,
          -0.108021289348484,
          0.2737362662435419,
          0.4153984048634312,
          -0.7277323409497012,
          0.12723409734090813,
          -1.7216795181560658,
          0.404075271990034,
          0.4813947761270504,
          -0.038503348254368845,
          -2.273437715572669,
          -0.7087437240167911,
          1.1425153969404258,
          -0.7206530960574146,
          -1.3195043732791696,
          -1.1427367809772713,
          0.17430027676471116
         ]
        }
       ],
       "layout": {
        "legend": {
         "bgcolor": "#F5F6F9",
         "font": {
          "color": "#4D5663"
         }
        },
        "paper_bgcolor": "#F5F6F9",
        "plot_bgcolor": "#F5F6F9",
        "template": {
         "data": {
          "bar": [
           {
            "error_x": {
             "color": "#2a3f5f"
            },
            "error_y": {
             "color": "#2a3f5f"
            },
            "marker": {
             "line": {
              "color": "#E5ECF6",
              "width": 0.5
             },
             "pattern": {
              "fillmode": "overlay",
              "size": 10,
              "solidity": 0.2
             }
            },
            "type": "bar"
           }
          ],
          "barpolar": [
           {
            "marker": {
             "line": {
              "color": "#E5ECF6",
              "width": 0.5
             },
             "pattern": {
              "fillmode": "overlay",
              "size": 10,
              "solidity": 0.2
             }
            },
            "type": "barpolar"
           }
          ],
          "carpet": [
           {
            "aaxis": {
             "endlinecolor": "#2a3f5f",
             "gridcolor": "white",
             "linecolor": "white",
             "minorgridcolor": "white",
             "startlinecolor": "#2a3f5f"
            },
            "baxis": {
             "endlinecolor": "#2a3f5f",
             "gridcolor": "white",
             "linecolor": "white",
             "minorgridcolor": "white",
             "startlinecolor": "#2a3f5f"
            },
            "type": "carpet"
           }
          ],
          "choropleth": [
           {
            "colorbar": {
             "outlinewidth": 0,
             "ticks": ""
            },
            "type": "choropleth"
           }
          ],
          "contour": [
           {
            "colorbar": {
             "outlinewidth": 0,
             "ticks": ""
            },
            "colorscale": [
             [
              0,
              "#0d0887"
             ],
             [
              0.1111111111111111,
              "#46039f"
             ],
             [
              0.2222222222222222,
              "#7201a8"
             ],
             [
              0.3333333333333333,
              "#9c179e"
             ],
             [
              0.4444444444444444,
              "#bd3786"
             ],
             [
              0.5555555555555556,
              "#d8576b"
             ],
             [
              0.6666666666666666,
              "#ed7953"
             ],
             [
              0.7777777777777778,
              "#fb9f3a"
             ],
             [
              0.8888888888888888,
              "#fdca26"
             ],
             [
              1,
              "#f0f921"
             ]
            ],
            "type": "contour"
           }
          ],
          "contourcarpet": [
           {
            "colorbar": {
             "outlinewidth": 0,
             "ticks": ""
            },
            "type": "contourcarpet"
           }
          ],
          "heatmap": [
           {
            "colorbar": {
             "outlinewidth": 0,
             "ticks": ""
            },
            "colorscale": [
             [
              0,
              "#0d0887"
             ],
             [
              0.1111111111111111,
              "#46039f"
             ],
             [
              0.2222222222222222,
              "#7201a8"
             ],
             [
              0.3333333333333333,
              "#9c179e"
             ],
             [
              0.4444444444444444,
              "#bd3786"
             ],
             [
              0.5555555555555556,
              "#d8576b"
             ],
             [
              0.6666666666666666,
              "#ed7953"
             ],
             [
              0.7777777777777778,
              "#fb9f3a"
             ],
             [
              0.8888888888888888,
              "#fdca26"
             ],
             [
              1,
              "#f0f921"
             ]
            ],
            "type": "heatmap"
           }
          ],
          "heatmapgl": [
           {
            "colorbar": {
             "outlinewidth": 0,
             "ticks": ""
            },
            "colorscale": [
             [
              0,
              "#0d0887"
             ],
             [
              0.1111111111111111,
              "#46039f"
             ],
             [
              0.2222222222222222,
              "#7201a8"
             ],
             [
              0.3333333333333333,
              "#9c179e"
             ],
             [
              0.4444444444444444,
              "#bd3786"
             ],
             [
              0.5555555555555556,
              "#d8576b"
             ],
             [
              0.6666666666666666,
              "#ed7953"
             ],
             [
              0.7777777777777778,
              "#fb9f3a"
             ],
             [
              0.8888888888888888,
              "#fdca26"
             ],
             [
              1,
              "#f0f921"
             ]
            ],
            "type": "heatmapgl"
           }
          ],
          "histogram": [
           {
            "marker": {
             "pattern": {
              "fillmode": "overlay",
              "size": 10,
              "solidity": 0.2
             }
            },
            "type": "histogram"
           }
          ],
          "histogram2d": [
           {
            "colorbar": {
             "outlinewidth": 0,
             "ticks": ""
            },
            "colorscale": [
             [
              0,
              "#0d0887"
             ],
             [
              0.1111111111111111,
              "#46039f"
             ],
             [
              0.2222222222222222,
              "#7201a8"
             ],
             [
              0.3333333333333333,
              "#9c179e"
             ],
             [
              0.4444444444444444,
              "#bd3786"
             ],
             [
              0.5555555555555556,
              "#d8576b"
             ],
             [
              0.6666666666666666,
              "#ed7953"
             ],
             [
              0.7777777777777778,
              "#fb9f3a"
             ],
             [
              0.8888888888888888,
              "#fdca26"
             ],
             [
              1,
              "#f0f921"
             ]
            ],
            "type": "histogram2d"
           }
          ],
          "histogram2dcontour": [
           {
            "colorbar": {
             "outlinewidth": 0,
             "ticks": ""
            },
            "colorscale": [
             [
              0,
              "#0d0887"
             ],
             [
              0.1111111111111111,
              "#46039f"
             ],
             [
              0.2222222222222222,
              "#7201a8"
             ],
             [
              0.3333333333333333,
              "#9c179e"
             ],
             [
              0.4444444444444444,
              "#bd3786"
             ],
             [
              0.5555555555555556,
              "#d8576b"
             ],
             [
              0.6666666666666666,
              "#ed7953"
             ],
             [
              0.7777777777777778,
              "#fb9f3a"
             ],
             [
              0.8888888888888888,
              "#fdca26"
             ],
             [
              1,
              "#f0f921"
             ]
            ],
            "type": "histogram2dcontour"
           }
          ],
          "mesh3d": [
           {
            "colorbar": {
             "outlinewidth": 0,
             "ticks": ""
            },
            "type": "mesh3d"
           }
          ],
          "parcoords": [
           {
            "line": {
             "colorbar": {
              "outlinewidth": 0,
              "ticks": ""
             }
            },
            "type": "parcoords"
           }
          ],
          "pie": [
           {
            "automargin": true,
            "type": "pie"
           }
          ],
          "scatter": [
           {
            "marker": {
             "colorbar": {
              "outlinewidth": 0,
              "ticks": ""
             }
            },
            "type": "scatter"
           }
          ],
          "scatter3d": [
           {
            "line": {
             "colorbar": {
              "outlinewidth": 0,
              "ticks": ""
             }
            },
            "marker": {
             "colorbar": {
              "outlinewidth": 0,
              "ticks": ""
             }
            },
            "type": "scatter3d"
           }
          ],
          "scattercarpet": [
           {
            "marker": {
             "colorbar": {
              "outlinewidth": 0,
              "ticks": ""
             }
            },
            "type": "scattercarpet"
           }
          ],
          "scattergeo": [
           {
            "marker": {
             "colorbar": {
              "outlinewidth": 0,
              "ticks": ""
             }
            },
            "type": "scattergeo"
           }
          ],
          "scattergl": [
           {
            "marker": {
             "colorbar": {
              "outlinewidth": 0,
              "ticks": ""
             }
            },
            "type": "scattergl"
           }
          ],
          "scattermapbox": [
           {
            "marker": {
             "colorbar": {
              "outlinewidth": 0,
              "ticks": ""
             }
            },
            "type": "scattermapbox"
           }
          ],
          "scatterpolar": [
           {
            "marker": {
             "colorbar": {
              "outlinewidth": 0,
              "ticks": ""
             }
            },
            "type": "scatterpolar"
           }
          ],
          "scatterpolargl": [
           {
            "marker": {
             "colorbar": {
              "outlinewidth": 0,
              "ticks": ""
             }
            },
            "type": "scatterpolargl"
           }
          ],
          "scatterternary": [
           {
            "marker": {
             "colorbar": {
              "outlinewidth": 0,
              "ticks": ""
             }
            },
            "type": "scatterternary"
           }
          ],
          "surface": [
           {
            "colorbar": {
             "outlinewidth": 0,
             "ticks": ""
            },
            "colorscale": [
             [
              0,
              "#0d0887"
             ],
             [
              0.1111111111111111,
              "#46039f"
             ],
             [
              0.2222222222222222,
              "#7201a8"
             ],
             [
              0.3333333333333333,
              "#9c179e"
             ],
             [
              0.4444444444444444,
              "#bd3786"
             ],
             [
              0.5555555555555556,
              "#d8576b"
             ],
             [
              0.6666666666666666,
              "#ed7953"
             ],
             [
              0.7777777777777778,
              "#fb9f3a"
             ],
             [
              0.8888888888888888,
              "#fdca26"
             ],
             [
              1,
              "#f0f921"
             ]
            ],
            "type": "surface"
           }
          ],
          "table": [
           {
            "cells": {
             "fill": {
              "color": "#EBF0F8"
             },
             "line": {
              "color": "white"
             }
            },
            "header": {
             "fill": {
              "color": "#C8D4E3"
             },
             "line": {
              "color": "white"
             }
            },
            "type": "table"
           }
          ]
         },
         "layout": {
          "annotationdefaults": {
           "arrowcolor": "#2a3f5f",
           "arrowhead": 0,
           "arrowwidth": 1
          },
          "autotypenumbers": "strict",
          "coloraxis": {
           "colorbar": {
            "outlinewidth": 0,
            "ticks": ""
           }
          },
          "colorscale": {
           "diverging": [
            [
             0,
             "#8e0152"
            ],
            [
             0.1,
             "#c51b7d"
            ],
            [
             0.2,
             "#de77ae"
            ],
            [
             0.3,
             "#f1b6da"
            ],
            [
             0.4,
             "#fde0ef"
            ],
            [
             0.5,
             "#f7f7f7"
            ],
            [
             0.6,
             "#e6f5d0"
            ],
            [
             0.7,
             "#b8e186"
            ],
            [
             0.8,
             "#7fbc41"
            ],
            [
             0.9,
             "#4d9221"
            ],
            [
             1,
             "#276419"
            ]
           ],
           "sequential": [
            [
             0,
             "#0d0887"
            ],
            [
             0.1111111111111111,
             "#46039f"
            ],
            [
             0.2222222222222222,
             "#7201a8"
            ],
            [
             0.3333333333333333,
             "#9c179e"
            ],
            [
             0.4444444444444444,
             "#bd3786"
            ],
            [
             0.5555555555555556,
             "#d8576b"
            ],
            [
             0.6666666666666666,
             "#ed7953"
            ],
            [
             0.7777777777777778,
             "#fb9f3a"
            ],
            [
             0.8888888888888888,
             "#fdca26"
            ],
            [
             1,
             "#f0f921"
            ]
           ],
           "sequentialminus": [
            [
             0,
             "#0d0887"
            ],
            [
             0.1111111111111111,
             "#46039f"
            ],
            [
             0.2222222222222222,
             "#7201a8"
            ],
            [
             0.3333333333333333,
             "#9c179e"
            ],
            [
             0.4444444444444444,
             "#bd3786"
            ],
            [
             0.5555555555555556,
             "#d8576b"
            ],
            [
             0.6666666666666666,
             "#ed7953"
            ],
            [
             0.7777777777777778,
             "#fb9f3a"
            ],
            [
             0.8888888888888888,
             "#fdca26"
            ],
            [
             1,
             "#f0f921"
            ]
           ]
          },
          "colorway": [
           "#636efa",
           "#EF553B",
           "#00cc96",
           "#ab63fa",
           "#FFA15A",
           "#19d3f3",
           "#FF6692",
           "#B6E880",
           "#FF97FF",
           "#FECB52"
          ],
          "font": {
           "color": "#2a3f5f"
          },
          "geo": {
           "bgcolor": "white",
           "lakecolor": "white",
           "landcolor": "#E5ECF6",
           "showlakes": true,
           "showland": true,
           "subunitcolor": "white"
          },
          "hoverlabel": {
           "align": "left"
          },
          "hovermode": "closest",
          "mapbox": {
           "style": "light"
          },
          "paper_bgcolor": "white",
          "plot_bgcolor": "#E5ECF6",
          "polar": {
           "angularaxis": {
            "gridcolor": "white",
            "linecolor": "white",
            "ticks": ""
           },
           "bgcolor": "#E5ECF6",
           "radialaxis": {
            "gridcolor": "white",
            "linecolor": "white",
            "ticks": ""
           }
          },
          "scene": {
           "xaxis": {
            "backgroundcolor": "#E5ECF6",
            "gridcolor": "white",
            "gridwidth": 2,
            "linecolor": "white",
            "showbackground": true,
            "ticks": "",
            "zerolinecolor": "white"
           },
           "yaxis": {
            "backgroundcolor": "#E5ECF6",
            "gridcolor": "white",
            "gridwidth": 2,
            "linecolor": "white",
            "showbackground": true,
            "ticks": "",
            "zerolinecolor": "white"
           },
           "zaxis": {
            "backgroundcolor": "#E5ECF6",
            "gridcolor": "white",
            "gridwidth": 2,
            "linecolor": "white",
            "showbackground": true,
            "ticks": "",
            "zerolinecolor": "white"
           }
          },
          "shapedefaults": {
           "line": {
            "color": "#2a3f5f"
           }
          },
          "ternary": {
           "aaxis": {
            "gridcolor": "white",
            "linecolor": "white",
            "ticks": ""
           },
           "baxis": {
            "gridcolor": "white",
            "linecolor": "white",
            "ticks": ""
           },
           "bgcolor": "#E5ECF6",
           "caxis": {
            "gridcolor": "white",
            "linecolor": "white",
            "ticks": ""
           }
          },
          "title": {
           "x": 0.05
          },
          "xaxis": {
           "automargin": true,
           "gridcolor": "white",
           "linecolor": "white",
           "ticks": "",
           "title": {
            "standoff": 15
           },
           "zerolinecolor": "white",
           "zerolinewidth": 2
          },
          "yaxis": {
           "automargin": true,
           "gridcolor": "white",
           "linecolor": "white",
           "ticks": "",
           "title": {
            "standoff": 15
           },
           "zerolinecolor": "white",
           "zerolinewidth": 2
          }
         }
        },
        "title": {
         "font": {
          "color": "#4D5663"
         }
        },
        "xaxis": {
         "gridcolor": "#E1E5ED",
         "showgrid": true,
         "tickfont": {
          "color": "#4D5663"
         },
         "title": {
          "font": {
           "color": "#4D5663"
          },
          "text": ""
         },
         "zerolinecolor": "#E1E5ED"
        },
        "yaxis": {
         "gridcolor": "#E1E5ED",
         "showgrid": true,
         "tickfont": {
          "color": "#4D5663"
         },
         "title": {
          "font": {
           "color": "#4D5663"
          },
          "text": ""
         },
         "zerolinecolor": "#E1E5ED"
        }
       }
      },
      "text/html": [
       "<div>                            <div id=\"7b66c50c-666e-40aa-9955-5baa84867cf5\" class=\"plotly-graph-div\" style=\"height:525px; width:100%;\"></div>            <script type=\"text/javascript\">                require([\"plotly\"], function(Plotly) {                    window.PLOTLYENV=window.PLOTLYENV || {};\n",
       "                    window.PLOTLYENV.BASE_URL='https://plot.ly';                                    if (document.getElementById(\"7b66c50c-666e-40aa-9955-5baa84867cf5\")) {                    Plotly.newPlot(                        \"7b66c50c-666e-40aa-9955-5baa84867cf5\",                        [{\"line\":{\"color\":\"rgba(255, 153, 51, 1.0)\",\"dash\":\"solid\",\"shape\":\"linear\",\"width\":1.3},\"mode\":\"lines\",\"name\":\"A\",\"text\":\"\",\"x\":[0,1,2,3,4,5,6,7,8,9,10,11,12,13,14,15,16,17,18,19,20,21,22,23,24,25,26,27,28,29,30,31,32,33,34,35,36,37,38,39,40,41,42,43,44,45,46,47,48,49,50,51,52,53,54,55,56,57,58,59,60,61,62,63,64,65,66,67,68,69,70,71,72,73,74,75,76,77,78,79,80,81,82,83,84,85,86,87,88,89,90,91,92,93,94,95,96,97,98,99],\"y\":[0.004623521176124493,0.16281569506746615,1.4224425740072002,1.0465883726312297,1.1842576898475108,-0.9430017076288162,-0.6085150350497329,0.8327710604567566,0.7349610260402549,-0.2490841883443285,0.2219721971076617,-1.2381344162131944,0.2422425588075395,0.6651871185074474,0.08648920725692612,1.0069096722828492,0.5135885685395674,1.2510550806883736,-1.0764907866006002,1.5131900701575884,-0.21516214636280803,-0.9908219512508374,-0.48304635726610295,-0.3309062206065575,-0.5997402907722839,-0.2226520133817669,-0.09223681807908718,-0.9320599965705885,-0.6146119575534867,-1.8405985217209972,-0.07196636464122422,-1.1917272842793725,-0.1212696899713353,0.41431577966805777,1.1104672706779055,-0.9576385942121362,-0.06294522738310888,-0.207259397445168,-1.0449588125891485,0.7724106256129741,0.09848545584616183,-1.855603203676661,-0.19908444045357243,0.8807303289230828,-0.6436409911582044,-1.2394950322721574,-0.5333903959015579,0.08113009265143066,0.3121856933497823,-1.6231237399849323,0.4262435294386619,-0.5754254419012534,1.472988451795054,-0.48801630030810406,0.31591838578850046,-0.20911915762697417,0.513052823155541,-0.894640737393719,0.11303368243634235,0.08126390492515637,0.8265265186825116,1.5199902351604946,0.20409263911347916,-0.549468299736583,1.6351857717316323,-1.3272902155743422,0.3882066558678317,0.3584136011973048,2.315912702942067,1.104337817545148,0.33035701635016934,-1.2452283168205998,-0.5958689580863932,-0.06441653627456218,0.5647656230700507,0.9987758735688422,-0.141260329807457,-0.5973353039913025,0.4786330161546429,0.5501368588768211,0.8511598466974138,0.3742405334903403,-0.30177615255004636,1.7609112031453364,-0.24623366538207506,-0.014729716842070764,-2.121790882536806,-1.3267770846391103,-0.8570527379474144,-0.24849451967740438,-0.22805041501320314,0.527751794561854,1.3824145693759025,0.748002990817415,-1.216462277265814,-0.590361800281665,-1.3125371550384277,0.6182744698313806,0.05728572122844015,1.4364291765621007],\"type\":\"scatter\"},{\"line\":{\"color\":\"rgba(55, 128, 191, 1.0)\",\"dash\":\"solid\",\"shape\":\"linear\",\"width\":1.3},\"mode\":\"lines\",\"name\":\"B\",\"text\":\"\",\"x\":[0,1,2,3,4,5,6,7,8,9,10,11,12,13,14,15,16,17,18,19,20,21,22,23,24,25,26,27,28,29,30,31,32,33,34,35,36,37,38,39,40,41,42,43,44,45,46,47,48,49,50,51,52,53,54,55,56,57,58,59,60,61,62,63,64,65,66,67,68,69,70,71,72,73,74,75,76,77,78,79,80,81,82,83,84,85,86,87,88,89,90,91,92,93,94,95,96,97,98,99],\"y\":[-1.1685508459194196,-1.5678017169000267,0.7870096262915491,-0.8629018468596408,-0.4857063865991016,-1.2626627412225944,1.2373205481923955,-0.48136229667102254,-0.4841128843538882,2.2915504567809273,-1.8664420703542837,-0.3822593347390874,-1.5464233121595794,0.8960317044216001,1.3738712750986215,1.3667016898736501,0.5931001857431492,-0.13608533179952403,-0.5226691150373612,0.9141181315239653,0.49588820121766547,0.7033452801787391,2.4161083229749805,0.9857082531792529,-0.5962036008775079,-2.3054551237669423,0.4595523549181218,2.1584557914506686,-0.21623673210559943,1.0268827658340507,-0.187361346602335,0.5586823673587367,-0.1425368574028095,0.47553084882931335,-0.8580278596709993,-1.3840740509849458,1.9078167471910268,-1.9298295674593051,0.4677649023118192,-0.6407645824728198,-0.20067105431129048,0.4535733758491212,-1.1594832090728682,-0.09834601975589295,-1.6057415274987874,-0.02923005850628262,1.0665687194053277,0.031731913806326804,1.6100699600708939,1.170010139117584,-1.3106350714837576,0.1503924243963787,-1.3108968820881353,-0.9241700441770824,0.5538224449867233,0.3999246772427607,0.24728761416851122,1.0347732797668334,0.6481309846764085,0.5225298542908703,-1.062807219692614,0.5389291711078632,0.3170946057858498,0.3113248214184092,-0.8779209994399148,-1.3103464725219607,-0.65146827356122,0.7838595330287975,-2.46586859817618,0.876539850402602,-0.838483575748058,3.023749502888475,0.4886405578618137,0.260885477893154,1.0195973638202933,0.8338732369478434,0.8553153295633149,-0.4904208832131635,0.3099140989134931,0.4674350174993666,1.6269411857138247,0.8377177915316513,-1.6344733353409773,0.5492777836028785,0.6287451281691209,-0.5570959640127177,2.1634854232289333,1.0158940604922302,-1.1812765625882486,0.8490929033497668,-0.2777383095778188,-1.539004318952743,0.38280204428729375,1.3083873098925314,0.8264927471174891,0.4456229526669064,-0.07712727689375366,1.3867079546845034,-0.2520138485006433,1.5057440934761228],\"type\":\"scatter\"},{\"line\":{\"color\":\"rgba(50, 171, 96, 1.0)\",\"dash\":\"solid\",\"shape\":\"linear\",\"width\":1.3},\"mode\":\"lines\",\"name\":\"C\",\"text\":\"\",\"x\":[0,1,2,3,4,5,6,7,8,9,10,11,12,13,14,15,16,17,18,19,20,21,22,23,24,25,26,27,28,29,30,31,32,33,34,35,36,37,38,39,40,41,42,43,44,45,46,47,48,49,50,51,52,53,54,55,56,57,58,59,60,61,62,63,64,65,66,67,68,69,70,71,72,73,74,75,76,77,78,79,80,81,82,83,84,85,86,87,88,89,90,91,92,93,94,95,96,97,98,99],\"y\":[1.8775853248219743,1.1634138874701658,0.4461462012951521,-0.630624769338649,2.1078034957109053,-0.9482366110800454,2.3374606688456554,-0.679065383221523,0.38377185432970784,1.5537342535800607,-0.30904709094909677,0.6620405516788332,0.3587890963955483,-0.9621814942267252,-1.4076529625364693,0.8406620342661275,-0.19167605225737872,0.07085336292954711,-0.41536402355468804,-0.6526583034337081,0.8953472080675058,-0.7927090917157454,-0.18504205933124068,-2.1844554211545013,-0.34928948363733436,0.9824393337572949,-0.18103284009489634,1.2235484395296887,0.8925359803657423,-0.46265299214822686,0.5316146639769636,1.1141688952959876,-0.8211688679945353,-0.4378686464586095,-1.5813213284574152,-0.1835676074821394,0.3635537816869505,0.292409384725485,-1.9292642402610856,-0.02109065033916954,-0.6500499929198842,-1.0706479780393594,1.4810807680195102,1.630294092771878,1.437547802195289,0.1612706125131396,1.0347881245359465,-0.5153424725683133,-1.853413964971279,-0.10138460345739685,-0.11374182274874095,0.7199491131082625,-0.8079590917446239,1.6050403523925685,1.3705705373156225,-3.7000867425385264,-0.7990098105675697,-0.78798107887203,0.043511496311365645,1.3127181160199133,0.5361353718531487,-0.10185322125127683,-0.2738025230244527,1.0602797063746061,-0.4626325274765146,0.18241675634136165,-0.06547590029811755,-0.8001702022637728,-1.1856462858028625,-0.6801324022438168,-2.701244480900419,-0.3740019761449056,0.6291185609341405,-1.3562555539381782,-0.1323317334140988,1.1587415899315627,1.3136982038489562,0.056299150576219766,0.2107247171069781,-0.23792370643470714,1.0088798622079589,0.7617470824000864,0.021279115740499545,-0.5371997831801028,0.43251449785168766,-0.05054466631950313,1.9377628526721993,3.9430366917901165,1.770493094498392,0.4878354231461598,-0.7745409475417855,-1.0331047085352125,0.3705350822079853,0.17892303678959548,0.7634234146163706,0.07312674885361234,0.8505793751346387,0.5407389794242599,-0.32128688659668025,0.44711829829526967],\"type\":\"scatter\"},{\"line\":{\"color\":\"rgba(128, 0, 128, 1.0)\",\"dash\":\"solid\",\"shape\":\"linear\",\"width\":1.3},\"mode\":\"lines\",\"name\":\"D\",\"text\":\"\",\"x\":[0,1,2,3,4,5,6,7,8,9,10,11,12,13,14,15,16,17,18,19,20,21,22,23,24,25,26,27,28,29,30,31,32,33,34,35,36,37,38,39,40,41,42,43,44,45,46,47,48,49,50,51,52,53,54,55,56,57,58,59,60,61,62,63,64,65,66,67,68,69,70,71,72,73,74,75,76,77,78,79,80,81,82,83,84,85,86,87,88,89,90,91,92,93,94,95,96,97,98,99],\"y\":[0.017994340381227145,-0.0653382085123521,0.6209264594991536,2.2826379372455197,0.7791573041836941,0.5072557716396099,0.2755242714684649,-0.6258208695941796,0.4693555786538185,-0.7208591531367468,0.42462242625489244,-1.9130505336414327,-0.8005255136044629,-0.11014504329317058,-1.5786485033992341,-1.3584660670467765,0.8554119234219554,0.6621662696420444,1.057233165320333,0.48229008348264657,1.3258226343578399,0.38911290504859075,0.5552410324849885,-1.113214333902142,1.601900234464146,0.8465429410097408,-0.02929303998629881,1.4651861522637595,1.6043335311238451,1.1861501805532806,2.288301812396918,-0.24144017822599984,1.074119518410007,0.14898849148633259,-0.21959247846775123,-0.4842991280081334,-0.5980875083709224,-0.6965258592933425,0.3752982937419125,-0.7405377346691557,1.4404124597838097,-2.458134592213451,-0.47260729864100204,0.003728348811584746,1.2722021246585768,0.3422839657249093,-1.591342881881602,-1.029037761921719,-0.16164559078402468,-0.46780869601705866,-0.20909695044526982,-0.15882282057795602,-0.33284057418607227,1.0513284800699878,-0.29257393956132854,0.41951762976242507,-1.5772488030443022,-0.0020039985250401744,-0.4764832163085147,-1.360639971697527,-0.7690296609146785,0.7584178969102826,-0.4513941465121298,0.2733591602541416,-0.4312651269411663,-1.3505952616061818,1.3718235501994085,-0.5501653282490452,0.4283274396211519,0.14583143659223802,1.0987555962936866,0.8624745086082322,0.5191588818768138,1.3848027984846778,0.6308443959533383,-0.8457552243986087,-0.23763820875389796,0.19990236397564415,-1.0157103003006478,-0.12688143526493068,-0.5796559515504119,-1.33437379644634,1.373035470199231,-0.09271868702696864,-0.108021289348484,0.2737362662435419,0.4153984048634312,-0.7277323409497012,0.12723409734090813,-1.7216795181560658,0.404075271990034,0.4813947761270504,-0.038503348254368845,-2.273437715572669,-0.7087437240167911,1.1425153969404258,-0.7206530960574146,-1.3195043732791696,-1.1427367809772713,0.17430027676471116],\"type\":\"scatter\"}],                        {\"legend\":{\"bgcolor\":\"#F5F6F9\",\"font\":{\"color\":\"#4D5663\"}},\"paper_bgcolor\":\"#F5F6F9\",\"plot_bgcolor\":\"#F5F6F9\",\"template\":{\"data\":{\"barpolar\":[{\"marker\":{\"line\":{\"color\":\"#E5ECF6\",\"width\":0.5},\"pattern\":{\"fillmode\":\"overlay\",\"size\":10,\"solidity\":0.2}},\"type\":\"barpolar\"}],\"bar\":[{\"error_x\":{\"color\":\"#2a3f5f\"},\"error_y\":{\"color\":\"#2a3f5f\"},\"marker\":{\"line\":{\"color\":\"#E5ECF6\",\"width\":0.5},\"pattern\":{\"fillmode\":\"overlay\",\"size\":10,\"solidity\":0.2}},\"type\":\"bar\"}],\"carpet\":[{\"aaxis\":{\"endlinecolor\":\"#2a3f5f\",\"gridcolor\":\"white\",\"linecolor\":\"white\",\"minorgridcolor\":\"white\",\"startlinecolor\":\"#2a3f5f\"},\"baxis\":{\"endlinecolor\":\"#2a3f5f\",\"gridcolor\":\"white\",\"linecolor\":\"white\",\"minorgridcolor\":\"white\",\"startlinecolor\":\"#2a3f5f\"},\"type\":\"carpet\"}],\"choropleth\":[{\"colorbar\":{\"outlinewidth\":0,\"ticks\":\"\"},\"type\":\"choropleth\"}],\"contourcarpet\":[{\"colorbar\":{\"outlinewidth\":0,\"ticks\":\"\"},\"type\":\"contourcarpet\"}],\"contour\":[{\"colorbar\":{\"outlinewidth\":0,\"ticks\":\"\"},\"colorscale\":[[0.0,\"#0d0887\"],[0.1111111111111111,\"#46039f\"],[0.2222222222222222,\"#7201a8\"],[0.3333333333333333,\"#9c179e\"],[0.4444444444444444,\"#bd3786\"],[0.5555555555555556,\"#d8576b\"],[0.6666666666666666,\"#ed7953\"],[0.7777777777777778,\"#fb9f3a\"],[0.8888888888888888,\"#fdca26\"],[1.0,\"#f0f921\"]],\"type\":\"contour\"}],\"heatmapgl\":[{\"colorbar\":{\"outlinewidth\":0,\"ticks\":\"\"},\"colorscale\":[[0.0,\"#0d0887\"],[0.1111111111111111,\"#46039f\"],[0.2222222222222222,\"#7201a8\"],[0.3333333333333333,\"#9c179e\"],[0.4444444444444444,\"#bd3786\"],[0.5555555555555556,\"#d8576b\"],[0.6666666666666666,\"#ed7953\"],[0.7777777777777778,\"#fb9f3a\"],[0.8888888888888888,\"#fdca26\"],[1.0,\"#f0f921\"]],\"type\":\"heatmapgl\"}],\"heatmap\":[{\"colorbar\":{\"outlinewidth\":0,\"ticks\":\"\"},\"colorscale\":[[0.0,\"#0d0887\"],[0.1111111111111111,\"#46039f\"],[0.2222222222222222,\"#7201a8\"],[0.3333333333333333,\"#9c179e\"],[0.4444444444444444,\"#bd3786\"],[0.5555555555555556,\"#d8576b\"],[0.6666666666666666,\"#ed7953\"],[0.7777777777777778,\"#fb9f3a\"],[0.8888888888888888,\"#fdca26\"],[1.0,\"#f0f921\"]],\"type\":\"heatmap\"}],\"histogram2dcontour\":[{\"colorbar\":{\"outlinewidth\":0,\"ticks\":\"\"},\"colorscale\":[[0.0,\"#0d0887\"],[0.1111111111111111,\"#46039f\"],[0.2222222222222222,\"#7201a8\"],[0.3333333333333333,\"#9c179e\"],[0.4444444444444444,\"#bd3786\"],[0.5555555555555556,\"#d8576b\"],[0.6666666666666666,\"#ed7953\"],[0.7777777777777778,\"#fb9f3a\"],[0.8888888888888888,\"#fdca26\"],[1.0,\"#f0f921\"]],\"type\":\"histogram2dcontour\"}],\"histogram2d\":[{\"colorbar\":{\"outlinewidth\":0,\"ticks\":\"\"},\"colorscale\":[[0.0,\"#0d0887\"],[0.1111111111111111,\"#46039f\"],[0.2222222222222222,\"#7201a8\"],[0.3333333333333333,\"#9c179e\"],[0.4444444444444444,\"#bd3786\"],[0.5555555555555556,\"#d8576b\"],[0.6666666666666666,\"#ed7953\"],[0.7777777777777778,\"#fb9f3a\"],[0.8888888888888888,\"#fdca26\"],[1.0,\"#f0f921\"]],\"type\":\"histogram2d\"}],\"histogram\":[{\"marker\":{\"pattern\":{\"fillmode\":\"overlay\",\"size\":10,\"solidity\":0.2}},\"type\":\"histogram\"}],\"mesh3d\":[{\"colorbar\":{\"outlinewidth\":0,\"ticks\":\"\"},\"type\":\"mesh3d\"}],\"parcoords\":[{\"line\":{\"colorbar\":{\"outlinewidth\":0,\"ticks\":\"\"}},\"type\":\"parcoords\"}],\"pie\":[{\"automargin\":true,\"type\":\"pie\"}],\"scatter3d\":[{\"line\":{\"colorbar\":{\"outlinewidth\":0,\"ticks\":\"\"}},\"marker\":{\"colorbar\":{\"outlinewidth\":0,\"ticks\":\"\"}},\"type\":\"scatter3d\"}],\"scattercarpet\":[{\"marker\":{\"colorbar\":{\"outlinewidth\":0,\"ticks\":\"\"}},\"type\":\"scattercarpet\"}],\"scattergeo\":[{\"marker\":{\"colorbar\":{\"outlinewidth\":0,\"ticks\":\"\"}},\"type\":\"scattergeo\"}],\"scattergl\":[{\"marker\":{\"colorbar\":{\"outlinewidth\":0,\"ticks\":\"\"}},\"type\":\"scattergl\"}],\"scattermapbox\":[{\"marker\":{\"colorbar\":{\"outlinewidth\":0,\"ticks\":\"\"}},\"type\":\"scattermapbox\"}],\"scatterpolargl\":[{\"marker\":{\"colorbar\":{\"outlinewidth\":0,\"ticks\":\"\"}},\"type\":\"scatterpolargl\"}],\"scatterpolar\":[{\"marker\":{\"colorbar\":{\"outlinewidth\":0,\"ticks\":\"\"}},\"type\":\"scatterpolar\"}],\"scatter\":[{\"marker\":{\"colorbar\":{\"outlinewidth\":0,\"ticks\":\"\"}},\"type\":\"scatter\"}],\"scatterternary\":[{\"marker\":{\"colorbar\":{\"outlinewidth\":0,\"ticks\":\"\"}},\"type\":\"scatterternary\"}],\"surface\":[{\"colorbar\":{\"outlinewidth\":0,\"ticks\":\"\"},\"colorscale\":[[0.0,\"#0d0887\"],[0.1111111111111111,\"#46039f\"],[0.2222222222222222,\"#7201a8\"],[0.3333333333333333,\"#9c179e\"],[0.4444444444444444,\"#bd3786\"],[0.5555555555555556,\"#d8576b\"],[0.6666666666666666,\"#ed7953\"],[0.7777777777777778,\"#fb9f3a\"],[0.8888888888888888,\"#fdca26\"],[1.0,\"#f0f921\"]],\"type\":\"surface\"}],\"table\":[{\"cells\":{\"fill\":{\"color\":\"#EBF0F8\"},\"line\":{\"color\":\"white\"}},\"header\":{\"fill\":{\"color\":\"#C8D4E3\"},\"line\":{\"color\":\"white\"}},\"type\":\"table\"}]},\"layout\":{\"annotationdefaults\":{\"arrowcolor\":\"#2a3f5f\",\"arrowhead\":0,\"arrowwidth\":1},\"autotypenumbers\":\"strict\",\"coloraxis\":{\"colorbar\":{\"outlinewidth\":0,\"ticks\":\"\"}},\"colorscale\":{\"diverging\":[[0,\"#8e0152\"],[0.1,\"#c51b7d\"],[0.2,\"#de77ae\"],[0.3,\"#f1b6da\"],[0.4,\"#fde0ef\"],[0.5,\"#f7f7f7\"],[0.6,\"#e6f5d0\"],[0.7,\"#b8e186\"],[0.8,\"#7fbc41\"],[0.9,\"#4d9221\"],[1,\"#276419\"]],\"sequential\":[[0.0,\"#0d0887\"],[0.1111111111111111,\"#46039f\"],[0.2222222222222222,\"#7201a8\"],[0.3333333333333333,\"#9c179e\"],[0.4444444444444444,\"#bd3786\"],[0.5555555555555556,\"#d8576b\"],[0.6666666666666666,\"#ed7953\"],[0.7777777777777778,\"#fb9f3a\"],[0.8888888888888888,\"#fdca26\"],[1.0,\"#f0f921\"]],\"sequentialminus\":[[0.0,\"#0d0887\"],[0.1111111111111111,\"#46039f\"],[0.2222222222222222,\"#7201a8\"],[0.3333333333333333,\"#9c179e\"],[0.4444444444444444,\"#bd3786\"],[0.5555555555555556,\"#d8576b\"],[0.6666666666666666,\"#ed7953\"],[0.7777777777777778,\"#fb9f3a\"],[0.8888888888888888,\"#fdca26\"],[1.0,\"#f0f921\"]]},\"colorway\":[\"#636efa\",\"#EF553B\",\"#00cc96\",\"#ab63fa\",\"#FFA15A\",\"#19d3f3\",\"#FF6692\",\"#B6E880\",\"#FF97FF\",\"#FECB52\"],\"font\":{\"color\":\"#2a3f5f\"},\"geo\":{\"bgcolor\":\"white\",\"lakecolor\":\"white\",\"landcolor\":\"#E5ECF6\",\"showlakes\":true,\"showland\":true,\"subunitcolor\":\"white\"},\"hoverlabel\":{\"align\":\"left\"},\"hovermode\":\"closest\",\"mapbox\":{\"style\":\"light\"},\"paper_bgcolor\":\"white\",\"plot_bgcolor\":\"#E5ECF6\",\"polar\":{\"angularaxis\":{\"gridcolor\":\"white\",\"linecolor\":\"white\",\"ticks\":\"\"},\"bgcolor\":\"#E5ECF6\",\"radialaxis\":{\"gridcolor\":\"white\",\"linecolor\":\"white\",\"ticks\":\"\"}},\"scene\":{\"xaxis\":{\"backgroundcolor\":\"#E5ECF6\",\"gridcolor\":\"white\",\"gridwidth\":2,\"linecolor\":\"white\",\"showbackground\":true,\"ticks\":\"\",\"zerolinecolor\":\"white\"},\"yaxis\":{\"backgroundcolor\":\"#E5ECF6\",\"gridcolor\":\"white\",\"gridwidth\":2,\"linecolor\":\"white\",\"showbackground\":true,\"ticks\":\"\",\"zerolinecolor\":\"white\"},\"zaxis\":{\"backgroundcolor\":\"#E5ECF6\",\"gridcolor\":\"white\",\"gridwidth\":2,\"linecolor\":\"white\",\"showbackground\":true,\"ticks\":\"\",\"zerolinecolor\":\"white\"}},\"shapedefaults\":{\"line\":{\"color\":\"#2a3f5f\"}},\"ternary\":{\"aaxis\":{\"gridcolor\":\"white\",\"linecolor\":\"white\",\"ticks\":\"\"},\"baxis\":{\"gridcolor\":\"white\",\"linecolor\":\"white\",\"ticks\":\"\"},\"bgcolor\":\"#E5ECF6\",\"caxis\":{\"gridcolor\":\"white\",\"linecolor\":\"white\",\"ticks\":\"\"}},\"title\":{\"x\":0.05},\"xaxis\":{\"automargin\":true,\"gridcolor\":\"white\",\"linecolor\":\"white\",\"ticks\":\"\",\"title\":{\"standoff\":15},\"zerolinecolor\":\"white\",\"zerolinewidth\":2},\"yaxis\":{\"automargin\":true,\"gridcolor\":\"white\",\"linecolor\":\"white\",\"ticks\":\"\",\"title\":{\"standoff\":15},\"zerolinecolor\":\"white\",\"zerolinewidth\":2}}},\"title\":{\"font\":{\"color\":\"#4D5663\"}},\"xaxis\":{\"gridcolor\":\"#E1E5ED\",\"showgrid\":true,\"tickfont\":{\"color\":\"#4D5663\"},\"title\":{\"font\":{\"color\":\"#4D5663\"},\"text\":\"\"},\"zerolinecolor\":\"#E1E5ED\"},\"yaxis\":{\"gridcolor\":\"#E1E5ED\",\"showgrid\":true,\"tickfont\":{\"color\":\"#4D5663\"},\"title\":{\"font\":{\"color\":\"#4D5663\"},\"text\":\"\"},\"zerolinecolor\":\"#E1E5ED\"}},                        {\"showLink\": true, \"linkText\": \"Export to plot.ly\", \"plotlyServerURL\": \"https://plot.ly\", \"responsive\": true}                    ).then(function(){\n",
       "                            \n",
       "var gd = document.getElementById('7b66c50c-666e-40aa-9955-5baa84867cf5');\n",
       "var x = new MutationObserver(function (mutations, observer) {{\n",
       "        var display = window.getComputedStyle(gd).display;\n",
       "        if (!display || display === 'none') {{\n",
       "            console.log([gd, 'removed!']);\n",
       "            Plotly.purge(gd);\n",
       "            observer.disconnect();\n",
       "        }}\n",
       "}});\n",
       "\n",
       "// Listen for the removal of the full notebook cells\n",
       "var notebookContainer = gd.closest('#notebook-container');\n",
       "if (notebookContainer) {{\n",
       "    x.observe(notebookContainer, {childList: true});\n",
       "}}\n",
       "\n",
       "// Listen for the clearing of the current output cell\n",
       "var outputEl = gd.closest('.output');\n",
       "if (outputEl) {{\n",
       "    x.observe(outputEl, {childList: true});\n",
       "}}\n",
       "\n",
       "                        })                };                });            </script>        </div>"
      ]
     },
     "metadata": {},
     "output_type": "display_data"
    }
   ],
   "source": [
    "df.iplot()"
   ]
  },
  {
   "cell_type": "code",
   "execution_count": 58,
   "id": "616289c1",
   "metadata": {},
   "outputs": [
    {
     "data": {
      "application/vnd.plotly.v1+json": {
       "config": {
        "linkText": "Export to plot.ly",
        "plotlyServerURL": "https://plot.ly",
        "showLink": true
       },
       "data": [
        {
         "line": {
          "color": "rgba(255, 153, 51, 1.0)",
          "dash": "solid",
          "shape": "linear",
          "width": 1.3
         },
         "marker": {
          "size": 20,
          "symbol": "circle"
         },
         "mode": "markers",
         "name": "B",
         "text": "",
         "type": "scatter",
         "x": [
          0.004623521176124493,
          0.16281569506746615,
          1.4224425740072002,
          1.0465883726312297,
          1.1842576898475108,
          -0.9430017076288162,
          -0.6085150350497329,
          0.8327710604567566,
          0.7349610260402549,
          -0.2490841883443285,
          0.2219721971076617,
          -1.2381344162131944,
          0.2422425588075395,
          0.6651871185074474,
          0.08648920725692612,
          1.0069096722828492,
          0.5135885685395674,
          1.2510550806883736,
          -1.0764907866006002,
          1.5131900701575884,
          -0.21516214636280803,
          -0.9908219512508374,
          -0.48304635726610295,
          -0.3309062206065575,
          -0.5997402907722839,
          -0.2226520133817669,
          -0.09223681807908718,
          -0.9320599965705885,
          -0.6146119575534867,
          -1.8405985217209972,
          -0.07196636464122422,
          -1.1917272842793725,
          -0.1212696899713353,
          0.41431577966805777,
          1.1104672706779055,
          -0.9576385942121362,
          -0.06294522738310888,
          -0.207259397445168,
          -1.0449588125891485,
          0.7724106256129741,
          0.09848545584616183,
          -1.855603203676661,
          -0.19908444045357243,
          0.8807303289230828,
          -0.6436409911582044,
          -1.2394950322721574,
          -0.5333903959015579,
          0.08113009265143066,
          0.3121856933497823,
          -1.6231237399849323,
          0.4262435294386619,
          -0.5754254419012534,
          1.472988451795054,
          -0.48801630030810406,
          0.31591838578850046,
          -0.20911915762697417,
          0.513052823155541,
          -0.894640737393719,
          0.11303368243634235,
          0.08126390492515637,
          0.8265265186825116,
          1.5199902351604946,
          0.20409263911347916,
          -0.549468299736583,
          1.6351857717316323,
          -1.3272902155743422,
          0.3882066558678317,
          0.3584136011973048,
          2.315912702942067,
          1.104337817545148,
          0.33035701635016934,
          -1.2452283168205998,
          -0.5958689580863932,
          -0.06441653627456218,
          0.5647656230700507,
          0.9987758735688422,
          -0.141260329807457,
          -0.5973353039913025,
          0.4786330161546429,
          0.5501368588768211,
          0.8511598466974138,
          0.3742405334903403,
          -0.30177615255004636,
          1.7609112031453364,
          -0.24623366538207506,
          -0.014729716842070764,
          -2.121790882536806,
          -1.3267770846391103,
          -0.8570527379474144,
          -0.24849451967740438,
          -0.22805041501320314,
          0.527751794561854,
          1.3824145693759025,
          0.748002990817415,
          -1.216462277265814,
          -0.590361800281665,
          -1.3125371550384277,
          0.6182744698313806,
          0.05728572122844015,
          1.4364291765621007
         ],
         "y": [
          -1.1685508459194196,
          -1.5678017169000267,
          0.7870096262915491,
          -0.8629018468596408,
          -0.4857063865991016,
          -1.2626627412225944,
          1.2373205481923955,
          -0.48136229667102254,
          -0.4841128843538882,
          2.2915504567809273,
          -1.8664420703542837,
          -0.3822593347390874,
          -1.5464233121595794,
          0.8960317044216001,
          1.3738712750986215,
          1.3667016898736501,
          0.5931001857431492,
          -0.13608533179952403,
          -0.5226691150373612,
          0.9141181315239653,
          0.49588820121766547,
          0.7033452801787391,
          2.4161083229749805,
          0.9857082531792529,
          -0.5962036008775079,
          -2.3054551237669423,
          0.4595523549181218,
          2.1584557914506686,
          -0.21623673210559943,
          1.0268827658340507,
          -0.187361346602335,
          0.5586823673587367,
          -0.1425368574028095,
          0.47553084882931335,
          -0.8580278596709993,
          -1.3840740509849458,
          1.9078167471910268,
          -1.9298295674593051,
          0.4677649023118192,
          -0.6407645824728198,
          -0.20067105431129048,
          0.4535733758491212,
          -1.1594832090728682,
          -0.09834601975589295,
          -1.6057415274987874,
          -0.02923005850628262,
          1.0665687194053277,
          0.031731913806326804,
          1.6100699600708939,
          1.170010139117584,
          -1.3106350714837576,
          0.1503924243963787,
          -1.3108968820881353,
          -0.9241700441770824,
          0.5538224449867233,
          0.3999246772427607,
          0.24728761416851122,
          1.0347732797668334,
          0.6481309846764085,
          0.5225298542908703,
          -1.062807219692614,
          0.5389291711078632,
          0.3170946057858498,
          0.3113248214184092,
          -0.8779209994399148,
          -1.3103464725219607,
          -0.65146827356122,
          0.7838595330287975,
          -2.46586859817618,
          0.876539850402602,
          -0.838483575748058,
          3.023749502888475,
          0.4886405578618137,
          0.260885477893154,
          1.0195973638202933,
          0.8338732369478434,
          0.8553153295633149,
          -0.4904208832131635,
          0.3099140989134931,
          0.4674350174993666,
          1.6269411857138247,
          0.8377177915316513,
          -1.6344733353409773,
          0.5492777836028785,
          0.6287451281691209,
          -0.5570959640127177,
          2.1634854232289333,
          1.0158940604922302,
          -1.1812765625882486,
          0.8490929033497668,
          -0.2777383095778188,
          -1.539004318952743,
          0.38280204428729375,
          1.3083873098925314,
          0.8264927471174891,
          0.4456229526669064,
          -0.07712727689375366,
          1.3867079546845034,
          -0.2520138485006433,
          1.5057440934761228
         ]
        }
       ],
       "layout": {
        "legend": {
         "bgcolor": "#F5F6F9",
         "font": {
          "color": "#4D5663"
         }
        },
        "paper_bgcolor": "#F5F6F9",
        "plot_bgcolor": "#F5F6F9",
        "template": {
         "data": {
          "bar": [
           {
            "error_x": {
             "color": "#2a3f5f"
            },
            "error_y": {
             "color": "#2a3f5f"
            },
            "marker": {
             "line": {
              "color": "#E5ECF6",
              "width": 0.5
             },
             "pattern": {
              "fillmode": "overlay",
              "size": 10,
              "solidity": 0.2
             }
            },
            "type": "bar"
           }
          ],
          "barpolar": [
           {
            "marker": {
             "line": {
              "color": "#E5ECF6",
              "width": 0.5
             },
             "pattern": {
              "fillmode": "overlay",
              "size": 10,
              "solidity": 0.2
             }
            },
            "type": "barpolar"
           }
          ],
          "carpet": [
           {
            "aaxis": {
             "endlinecolor": "#2a3f5f",
             "gridcolor": "white",
             "linecolor": "white",
             "minorgridcolor": "white",
             "startlinecolor": "#2a3f5f"
            },
            "baxis": {
             "endlinecolor": "#2a3f5f",
             "gridcolor": "white",
             "linecolor": "white",
             "minorgridcolor": "white",
             "startlinecolor": "#2a3f5f"
            },
            "type": "carpet"
           }
          ],
          "choropleth": [
           {
            "colorbar": {
             "outlinewidth": 0,
             "ticks": ""
            },
            "type": "choropleth"
           }
          ],
          "contour": [
           {
            "colorbar": {
             "outlinewidth": 0,
             "ticks": ""
            },
            "colorscale": [
             [
              0,
              "#0d0887"
             ],
             [
              0.1111111111111111,
              "#46039f"
             ],
             [
              0.2222222222222222,
              "#7201a8"
             ],
             [
              0.3333333333333333,
              "#9c179e"
             ],
             [
              0.4444444444444444,
              "#bd3786"
             ],
             [
              0.5555555555555556,
              "#d8576b"
             ],
             [
              0.6666666666666666,
              "#ed7953"
             ],
             [
              0.7777777777777778,
              "#fb9f3a"
             ],
             [
              0.8888888888888888,
              "#fdca26"
             ],
             [
              1,
              "#f0f921"
             ]
            ],
            "type": "contour"
           }
          ],
          "contourcarpet": [
           {
            "colorbar": {
             "outlinewidth": 0,
             "ticks": ""
            },
            "type": "contourcarpet"
           }
          ],
          "heatmap": [
           {
            "colorbar": {
             "outlinewidth": 0,
             "ticks": ""
            },
            "colorscale": [
             [
              0,
              "#0d0887"
             ],
             [
              0.1111111111111111,
              "#46039f"
             ],
             [
              0.2222222222222222,
              "#7201a8"
             ],
             [
              0.3333333333333333,
              "#9c179e"
             ],
             [
              0.4444444444444444,
              "#bd3786"
             ],
             [
              0.5555555555555556,
              "#d8576b"
             ],
             [
              0.6666666666666666,
              "#ed7953"
             ],
             [
              0.7777777777777778,
              "#fb9f3a"
             ],
             [
              0.8888888888888888,
              "#fdca26"
             ],
             [
              1,
              "#f0f921"
             ]
            ],
            "type": "heatmap"
           }
          ],
          "heatmapgl": [
           {
            "colorbar": {
             "outlinewidth": 0,
             "ticks": ""
            },
            "colorscale": [
             [
              0,
              "#0d0887"
             ],
             [
              0.1111111111111111,
              "#46039f"
             ],
             [
              0.2222222222222222,
              "#7201a8"
             ],
             [
              0.3333333333333333,
              "#9c179e"
             ],
             [
              0.4444444444444444,
              "#bd3786"
             ],
             [
              0.5555555555555556,
              "#d8576b"
             ],
             [
              0.6666666666666666,
              "#ed7953"
             ],
             [
              0.7777777777777778,
              "#fb9f3a"
             ],
             [
              0.8888888888888888,
              "#fdca26"
             ],
             [
              1,
              "#f0f921"
             ]
            ],
            "type": "heatmapgl"
           }
          ],
          "histogram": [
           {
            "marker": {
             "pattern": {
              "fillmode": "overlay",
              "size": 10,
              "solidity": 0.2
             }
            },
            "type": "histogram"
           }
          ],
          "histogram2d": [
           {
            "colorbar": {
             "outlinewidth": 0,
             "ticks": ""
            },
            "colorscale": [
             [
              0,
              "#0d0887"
             ],
             [
              0.1111111111111111,
              "#46039f"
             ],
             [
              0.2222222222222222,
              "#7201a8"
             ],
             [
              0.3333333333333333,
              "#9c179e"
             ],
             [
              0.4444444444444444,
              "#bd3786"
             ],
             [
              0.5555555555555556,
              "#d8576b"
             ],
             [
              0.6666666666666666,
              "#ed7953"
             ],
             [
              0.7777777777777778,
              "#fb9f3a"
             ],
             [
              0.8888888888888888,
              "#fdca26"
             ],
             [
              1,
              "#f0f921"
             ]
            ],
            "type": "histogram2d"
           }
          ],
          "histogram2dcontour": [
           {
            "colorbar": {
             "outlinewidth": 0,
             "ticks": ""
            },
            "colorscale": [
             [
              0,
              "#0d0887"
             ],
             [
              0.1111111111111111,
              "#46039f"
             ],
             [
              0.2222222222222222,
              "#7201a8"
             ],
             [
              0.3333333333333333,
              "#9c179e"
             ],
             [
              0.4444444444444444,
              "#bd3786"
             ],
             [
              0.5555555555555556,
              "#d8576b"
             ],
             [
              0.6666666666666666,
              "#ed7953"
             ],
             [
              0.7777777777777778,
              "#fb9f3a"
             ],
             [
              0.8888888888888888,
              "#fdca26"
             ],
             [
              1,
              "#f0f921"
             ]
            ],
            "type": "histogram2dcontour"
           }
          ],
          "mesh3d": [
           {
            "colorbar": {
             "outlinewidth": 0,
             "ticks": ""
            },
            "type": "mesh3d"
           }
          ],
          "parcoords": [
           {
            "line": {
             "colorbar": {
              "outlinewidth": 0,
              "ticks": ""
             }
            },
            "type": "parcoords"
           }
          ],
          "pie": [
           {
            "automargin": true,
            "type": "pie"
           }
          ],
          "scatter": [
           {
            "marker": {
             "colorbar": {
              "outlinewidth": 0,
              "ticks": ""
             }
            },
            "type": "scatter"
           }
          ],
          "scatter3d": [
           {
            "line": {
             "colorbar": {
              "outlinewidth": 0,
              "ticks": ""
             }
            },
            "marker": {
             "colorbar": {
              "outlinewidth": 0,
              "ticks": ""
             }
            },
            "type": "scatter3d"
           }
          ],
          "scattercarpet": [
           {
            "marker": {
             "colorbar": {
              "outlinewidth": 0,
              "ticks": ""
             }
            },
            "type": "scattercarpet"
           }
          ],
          "scattergeo": [
           {
            "marker": {
             "colorbar": {
              "outlinewidth": 0,
              "ticks": ""
             }
            },
            "type": "scattergeo"
           }
          ],
          "scattergl": [
           {
            "marker": {
             "colorbar": {
              "outlinewidth": 0,
              "ticks": ""
             }
            },
            "type": "scattergl"
           }
          ],
          "scattermapbox": [
           {
            "marker": {
             "colorbar": {
              "outlinewidth": 0,
              "ticks": ""
             }
            },
            "type": "scattermapbox"
           }
          ],
          "scatterpolar": [
           {
            "marker": {
             "colorbar": {
              "outlinewidth": 0,
              "ticks": ""
             }
            },
            "type": "scatterpolar"
           }
          ],
          "scatterpolargl": [
           {
            "marker": {
             "colorbar": {
              "outlinewidth": 0,
              "ticks": ""
             }
            },
            "type": "scatterpolargl"
           }
          ],
          "scatterternary": [
           {
            "marker": {
             "colorbar": {
              "outlinewidth": 0,
              "ticks": ""
             }
            },
            "type": "scatterternary"
           }
          ],
          "surface": [
           {
            "colorbar": {
             "outlinewidth": 0,
             "ticks": ""
            },
            "colorscale": [
             [
              0,
              "#0d0887"
             ],
             [
              0.1111111111111111,
              "#46039f"
             ],
             [
              0.2222222222222222,
              "#7201a8"
             ],
             [
              0.3333333333333333,
              "#9c179e"
             ],
             [
              0.4444444444444444,
              "#bd3786"
             ],
             [
              0.5555555555555556,
              "#d8576b"
             ],
             [
              0.6666666666666666,
              "#ed7953"
             ],
             [
              0.7777777777777778,
              "#fb9f3a"
             ],
             [
              0.8888888888888888,
              "#fdca26"
             ],
             [
              1,
              "#f0f921"
             ]
            ],
            "type": "surface"
           }
          ],
          "table": [
           {
            "cells": {
             "fill": {
              "color": "#EBF0F8"
             },
             "line": {
              "color": "white"
             }
            },
            "header": {
             "fill": {
              "color": "#C8D4E3"
             },
             "line": {
              "color": "white"
             }
            },
            "type": "table"
           }
          ]
         },
         "layout": {
          "annotationdefaults": {
           "arrowcolor": "#2a3f5f",
           "arrowhead": 0,
           "arrowwidth": 1
          },
          "autotypenumbers": "strict",
          "coloraxis": {
           "colorbar": {
            "outlinewidth": 0,
            "ticks": ""
           }
          },
          "colorscale": {
           "diverging": [
            [
             0,
             "#8e0152"
            ],
            [
             0.1,
             "#c51b7d"
            ],
            [
             0.2,
             "#de77ae"
            ],
            [
             0.3,
             "#f1b6da"
            ],
            [
             0.4,
             "#fde0ef"
            ],
            [
             0.5,
             "#f7f7f7"
            ],
            [
             0.6,
             "#e6f5d0"
            ],
            [
             0.7,
             "#b8e186"
            ],
            [
             0.8,
             "#7fbc41"
            ],
            [
             0.9,
             "#4d9221"
            ],
            [
             1,
             "#276419"
            ]
           ],
           "sequential": [
            [
             0,
             "#0d0887"
            ],
            [
             0.1111111111111111,
             "#46039f"
            ],
            [
             0.2222222222222222,
             "#7201a8"
            ],
            [
             0.3333333333333333,
             "#9c179e"
            ],
            [
             0.4444444444444444,
             "#bd3786"
            ],
            [
             0.5555555555555556,
             "#d8576b"
            ],
            [
             0.6666666666666666,
             "#ed7953"
            ],
            [
             0.7777777777777778,
             "#fb9f3a"
            ],
            [
             0.8888888888888888,
             "#fdca26"
            ],
            [
             1,
             "#f0f921"
            ]
           ],
           "sequentialminus": [
            [
             0,
             "#0d0887"
            ],
            [
             0.1111111111111111,
             "#46039f"
            ],
            [
             0.2222222222222222,
             "#7201a8"
            ],
            [
             0.3333333333333333,
             "#9c179e"
            ],
            [
             0.4444444444444444,
             "#bd3786"
            ],
            [
             0.5555555555555556,
             "#d8576b"
            ],
            [
             0.6666666666666666,
             "#ed7953"
            ],
            [
             0.7777777777777778,
             "#fb9f3a"
            ],
            [
             0.8888888888888888,
             "#fdca26"
            ],
            [
             1,
             "#f0f921"
            ]
           ]
          },
          "colorway": [
           "#636efa",
           "#EF553B",
           "#00cc96",
           "#ab63fa",
           "#FFA15A",
           "#19d3f3",
           "#FF6692",
           "#B6E880",
           "#FF97FF",
           "#FECB52"
          ],
          "font": {
           "color": "#2a3f5f"
          },
          "geo": {
           "bgcolor": "white",
           "lakecolor": "white",
           "landcolor": "#E5ECF6",
           "showlakes": true,
           "showland": true,
           "subunitcolor": "white"
          },
          "hoverlabel": {
           "align": "left"
          },
          "hovermode": "closest",
          "mapbox": {
           "style": "light"
          },
          "paper_bgcolor": "white",
          "plot_bgcolor": "#E5ECF6",
          "polar": {
           "angularaxis": {
            "gridcolor": "white",
            "linecolor": "white",
            "ticks": ""
           },
           "bgcolor": "#E5ECF6",
           "radialaxis": {
            "gridcolor": "white",
            "linecolor": "white",
            "ticks": ""
           }
          },
          "scene": {
           "xaxis": {
            "backgroundcolor": "#E5ECF6",
            "gridcolor": "white",
            "gridwidth": 2,
            "linecolor": "white",
            "showbackground": true,
            "ticks": "",
            "zerolinecolor": "white"
           },
           "yaxis": {
            "backgroundcolor": "#E5ECF6",
            "gridcolor": "white",
            "gridwidth": 2,
            "linecolor": "white",
            "showbackground": true,
            "ticks": "",
            "zerolinecolor": "white"
           },
           "zaxis": {
            "backgroundcolor": "#E5ECF6",
            "gridcolor": "white",
            "gridwidth": 2,
            "linecolor": "white",
            "showbackground": true,
            "ticks": "",
            "zerolinecolor": "white"
           }
          },
          "shapedefaults": {
           "line": {
            "color": "#2a3f5f"
           }
          },
          "ternary": {
           "aaxis": {
            "gridcolor": "white",
            "linecolor": "white",
            "ticks": ""
           },
           "baxis": {
            "gridcolor": "white",
            "linecolor": "white",
            "ticks": ""
           },
           "bgcolor": "#E5ECF6",
           "caxis": {
            "gridcolor": "white",
            "linecolor": "white",
            "ticks": ""
           }
          },
          "title": {
           "x": 0.05
          },
          "xaxis": {
           "automargin": true,
           "gridcolor": "white",
           "linecolor": "white",
           "ticks": "",
           "title": {
            "standoff": 15
           },
           "zerolinecolor": "white",
           "zerolinewidth": 2
          },
          "yaxis": {
           "automargin": true,
           "gridcolor": "white",
           "linecolor": "white",
           "ticks": "",
           "title": {
            "standoff": 15
           },
           "zerolinecolor": "white",
           "zerolinewidth": 2
          }
         }
        },
        "title": {
         "font": {
          "color": "#4D5663"
         }
        },
        "xaxis": {
         "gridcolor": "#E1E5ED",
         "showgrid": true,
         "tickfont": {
          "color": "#4D5663"
         },
         "title": {
          "font": {
           "color": "#4D5663"
          },
          "text": ""
         },
         "zerolinecolor": "#E1E5ED"
        },
        "yaxis": {
         "gridcolor": "#E1E5ED",
         "showgrid": true,
         "tickfont": {
          "color": "#4D5663"
         },
         "title": {
          "font": {
           "color": "#4D5663"
          },
          "text": ""
         },
         "zerolinecolor": "#E1E5ED"
        }
       }
      },
      "text/html": [
       "<div>                            <div id=\"c9bf2fdb-1751-4100-a443-434c29744201\" class=\"plotly-graph-div\" style=\"height:525px; width:100%;\"></div>            <script type=\"text/javascript\">                require([\"plotly\"], function(Plotly) {                    window.PLOTLYENV=window.PLOTLYENV || {};\n",
       "                    window.PLOTLYENV.BASE_URL='https://plot.ly';                                    if (document.getElementById(\"c9bf2fdb-1751-4100-a443-434c29744201\")) {                    Plotly.newPlot(                        \"c9bf2fdb-1751-4100-a443-434c29744201\",                        [{\"line\":{\"color\":\"rgba(255, 153, 51, 1.0)\",\"dash\":\"solid\",\"shape\":\"linear\",\"width\":1.3},\"marker\":{\"size\":20,\"symbol\":\"circle\"},\"mode\":\"markers\",\"name\":\"B\",\"text\":\"\",\"x\":[0.004623521176124493,0.16281569506746615,1.4224425740072002,1.0465883726312297,1.1842576898475108,-0.9430017076288162,-0.6085150350497329,0.8327710604567566,0.7349610260402549,-0.2490841883443285,0.2219721971076617,-1.2381344162131944,0.2422425588075395,0.6651871185074474,0.08648920725692612,1.0069096722828492,0.5135885685395674,1.2510550806883736,-1.0764907866006002,1.5131900701575884,-0.21516214636280803,-0.9908219512508374,-0.48304635726610295,-0.3309062206065575,-0.5997402907722839,-0.2226520133817669,-0.09223681807908718,-0.9320599965705885,-0.6146119575534867,-1.8405985217209972,-0.07196636464122422,-1.1917272842793725,-0.1212696899713353,0.41431577966805777,1.1104672706779055,-0.9576385942121362,-0.06294522738310888,-0.207259397445168,-1.0449588125891485,0.7724106256129741,0.09848545584616183,-1.855603203676661,-0.19908444045357243,0.8807303289230828,-0.6436409911582044,-1.2394950322721574,-0.5333903959015579,0.08113009265143066,0.3121856933497823,-1.6231237399849323,0.4262435294386619,-0.5754254419012534,1.472988451795054,-0.48801630030810406,0.31591838578850046,-0.20911915762697417,0.513052823155541,-0.894640737393719,0.11303368243634235,0.08126390492515637,0.8265265186825116,1.5199902351604946,0.20409263911347916,-0.549468299736583,1.6351857717316323,-1.3272902155743422,0.3882066558678317,0.3584136011973048,2.315912702942067,1.104337817545148,0.33035701635016934,-1.2452283168205998,-0.5958689580863932,-0.06441653627456218,0.5647656230700507,0.9987758735688422,-0.141260329807457,-0.5973353039913025,0.4786330161546429,0.5501368588768211,0.8511598466974138,0.3742405334903403,-0.30177615255004636,1.7609112031453364,-0.24623366538207506,-0.014729716842070764,-2.121790882536806,-1.3267770846391103,-0.8570527379474144,-0.24849451967740438,-0.22805041501320314,0.527751794561854,1.3824145693759025,0.748002990817415,-1.216462277265814,-0.590361800281665,-1.3125371550384277,0.6182744698313806,0.05728572122844015,1.4364291765621007],\"y\":[-1.1685508459194196,-1.5678017169000267,0.7870096262915491,-0.8629018468596408,-0.4857063865991016,-1.2626627412225944,1.2373205481923955,-0.48136229667102254,-0.4841128843538882,2.2915504567809273,-1.8664420703542837,-0.3822593347390874,-1.5464233121595794,0.8960317044216001,1.3738712750986215,1.3667016898736501,0.5931001857431492,-0.13608533179952403,-0.5226691150373612,0.9141181315239653,0.49588820121766547,0.7033452801787391,2.4161083229749805,0.9857082531792529,-0.5962036008775079,-2.3054551237669423,0.4595523549181218,2.1584557914506686,-0.21623673210559943,1.0268827658340507,-0.187361346602335,0.5586823673587367,-0.1425368574028095,0.47553084882931335,-0.8580278596709993,-1.3840740509849458,1.9078167471910268,-1.9298295674593051,0.4677649023118192,-0.6407645824728198,-0.20067105431129048,0.4535733758491212,-1.1594832090728682,-0.09834601975589295,-1.6057415274987874,-0.02923005850628262,1.0665687194053277,0.031731913806326804,1.6100699600708939,1.170010139117584,-1.3106350714837576,0.1503924243963787,-1.3108968820881353,-0.9241700441770824,0.5538224449867233,0.3999246772427607,0.24728761416851122,1.0347732797668334,0.6481309846764085,0.5225298542908703,-1.062807219692614,0.5389291711078632,0.3170946057858498,0.3113248214184092,-0.8779209994399148,-1.3103464725219607,-0.65146827356122,0.7838595330287975,-2.46586859817618,0.876539850402602,-0.838483575748058,3.023749502888475,0.4886405578618137,0.260885477893154,1.0195973638202933,0.8338732369478434,0.8553153295633149,-0.4904208832131635,0.3099140989134931,0.4674350174993666,1.6269411857138247,0.8377177915316513,-1.6344733353409773,0.5492777836028785,0.6287451281691209,-0.5570959640127177,2.1634854232289333,1.0158940604922302,-1.1812765625882486,0.8490929033497668,-0.2777383095778188,-1.539004318952743,0.38280204428729375,1.3083873098925314,0.8264927471174891,0.4456229526669064,-0.07712727689375366,1.3867079546845034,-0.2520138485006433,1.5057440934761228],\"type\":\"scatter\"}],                        {\"legend\":{\"bgcolor\":\"#F5F6F9\",\"font\":{\"color\":\"#4D5663\"}},\"paper_bgcolor\":\"#F5F6F9\",\"plot_bgcolor\":\"#F5F6F9\",\"template\":{\"data\":{\"barpolar\":[{\"marker\":{\"line\":{\"color\":\"#E5ECF6\",\"width\":0.5},\"pattern\":{\"fillmode\":\"overlay\",\"size\":10,\"solidity\":0.2}},\"type\":\"barpolar\"}],\"bar\":[{\"error_x\":{\"color\":\"#2a3f5f\"},\"error_y\":{\"color\":\"#2a3f5f\"},\"marker\":{\"line\":{\"color\":\"#E5ECF6\",\"width\":0.5},\"pattern\":{\"fillmode\":\"overlay\",\"size\":10,\"solidity\":0.2}},\"type\":\"bar\"}],\"carpet\":[{\"aaxis\":{\"endlinecolor\":\"#2a3f5f\",\"gridcolor\":\"white\",\"linecolor\":\"white\",\"minorgridcolor\":\"white\",\"startlinecolor\":\"#2a3f5f\"},\"baxis\":{\"endlinecolor\":\"#2a3f5f\",\"gridcolor\":\"white\",\"linecolor\":\"white\",\"minorgridcolor\":\"white\",\"startlinecolor\":\"#2a3f5f\"},\"type\":\"carpet\"}],\"choropleth\":[{\"colorbar\":{\"outlinewidth\":0,\"ticks\":\"\"},\"type\":\"choropleth\"}],\"contourcarpet\":[{\"colorbar\":{\"outlinewidth\":0,\"ticks\":\"\"},\"type\":\"contourcarpet\"}],\"contour\":[{\"colorbar\":{\"outlinewidth\":0,\"ticks\":\"\"},\"colorscale\":[[0.0,\"#0d0887\"],[0.1111111111111111,\"#46039f\"],[0.2222222222222222,\"#7201a8\"],[0.3333333333333333,\"#9c179e\"],[0.4444444444444444,\"#bd3786\"],[0.5555555555555556,\"#d8576b\"],[0.6666666666666666,\"#ed7953\"],[0.7777777777777778,\"#fb9f3a\"],[0.8888888888888888,\"#fdca26\"],[1.0,\"#f0f921\"]],\"type\":\"contour\"}],\"heatmapgl\":[{\"colorbar\":{\"outlinewidth\":0,\"ticks\":\"\"},\"colorscale\":[[0.0,\"#0d0887\"],[0.1111111111111111,\"#46039f\"],[0.2222222222222222,\"#7201a8\"],[0.3333333333333333,\"#9c179e\"],[0.4444444444444444,\"#bd3786\"],[0.5555555555555556,\"#d8576b\"],[0.6666666666666666,\"#ed7953\"],[0.7777777777777778,\"#fb9f3a\"],[0.8888888888888888,\"#fdca26\"],[1.0,\"#f0f921\"]],\"type\":\"heatmapgl\"}],\"heatmap\":[{\"colorbar\":{\"outlinewidth\":0,\"ticks\":\"\"},\"colorscale\":[[0.0,\"#0d0887\"],[0.1111111111111111,\"#46039f\"],[0.2222222222222222,\"#7201a8\"],[0.3333333333333333,\"#9c179e\"],[0.4444444444444444,\"#bd3786\"],[0.5555555555555556,\"#d8576b\"],[0.6666666666666666,\"#ed7953\"],[0.7777777777777778,\"#fb9f3a\"],[0.8888888888888888,\"#fdca26\"],[1.0,\"#f0f921\"]],\"type\":\"heatmap\"}],\"histogram2dcontour\":[{\"colorbar\":{\"outlinewidth\":0,\"ticks\":\"\"},\"colorscale\":[[0.0,\"#0d0887\"],[0.1111111111111111,\"#46039f\"],[0.2222222222222222,\"#7201a8\"],[0.3333333333333333,\"#9c179e\"],[0.4444444444444444,\"#bd3786\"],[0.5555555555555556,\"#d8576b\"],[0.6666666666666666,\"#ed7953\"],[0.7777777777777778,\"#fb9f3a\"],[0.8888888888888888,\"#fdca26\"],[1.0,\"#f0f921\"]],\"type\":\"histogram2dcontour\"}],\"histogram2d\":[{\"colorbar\":{\"outlinewidth\":0,\"ticks\":\"\"},\"colorscale\":[[0.0,\"#0d0887\"],[0.1111111111111111,\"#46039f\"],[0.2222222222222222,\"#7201a8\"],[0.3333333333333333,\"#9c179e\"],[0.4444444444444444,\"#bd3786\"],[0.5555555555555556,\"#d8576b\"],[0.6666666666666666,\"#ed7953\"],[0.7777777777777778,\"#fb9f3a\"],[0.8888888888888888,\"#fdca26\"],[1.0,\"#f0f921\"]],\"type\":\"histogram2d\"}],\"histogram\":[{\"marker\":{\"pattern\":{\"fillmode\":\"overlay\",\"size\":10,\"solidity\":0.2}},\"type\":\"histogram\"}],\"mesh3d\":[{\"colorbar\":{\"outlinewidth\":0,\"ticks\":\"\"},\"type\":\"mesh3d\"}],\"parcoords\":[{\"line\":{\"colorbar\":{\"outlinewidth\":0,\"ticks\":\"\"}},\"type\":\"parcoords\"}],\"pie\":[{\"automargin\":true,\"type\":\"pie\"}],\"scatter3d\":[{\"line\":{\"colorbar\":{\"outlinewidth\":0,\"ticks\":\"\"}},\"marker\":{\"colorbar\":{\"outlinewidth\":0,\"ticks\":\"\"}},\"type\":\"scatter3d\"}],\"scattercarpet\":[{\"marker\":{\"colorbar\":{\"outlinewidth\":0,\"ticks\":\"\"}},\"type\":\"scattercarpet\"}],\"scattergeo\":[{\"marker\":{\"colorbar\":{\"outlinewidth\":0,\"ticks\":\"\"}},\"type\":\"scattergeo\"}],\"scattergl\":[{\"marker\":{\"colorbar\":{\"outlinewidth\":0,\"ticks\":\"\"}},\"type\":\"scattergl\"}],\"scattermapbox\":[{\"marker\":{\"colorbar\":{\"outlinewidth\":0,\"ticks\":\"\"}},\"type\":\"scattermapbox\"}],\"scatterpolargl\":[{\"marker\":{\"colorbar\":{\"outlinewidth\":0,\"ticks\":\"\"}},\"type\":\"scatterpolargl\"}],\"scatterpolar\":[{\"marker\":{\"colorbar\":{\"outlinewidth\":0,\"ticks\":\"\"}},\"type\":\"scatterpolar\"}],\"scatter\":[{\"marker\":{\"colorbar\":{\"outlinewidth\":0,\"ticks\":\"\"}},\"type\":\"scatter\"}],\"scatterternary\":[{\"marker\":{\"colorbar\":{\"outlinewidth\":0,\"ticks\":\"\"}},\"type\":\"scatterternary\"}],\"surface\":[{\"colorbar\":{\"outlinewidth\":0,\"ticks\":\"\"},\"colorscale\":[[0.0,\"#0d0887\"],[0.1111111111111111,\"#46039f\"],[0.2222222222222222,\"#7201a8\"],[0.3333333333333333,\"#9c179e\"],[0.4444444444444444,\"#bd3786\"],[0.5555555555555556,\"#d8576b\"],[0.6666666666666666,\"#ed7953\"],[0.7777777777777778,\"#fb9f3a\"],[0.8888888888888888,\"#fdca26\"],[1.0,\"#f0f921\"]],\"type\":\"surface\"}],\"table\":[{\"cells\":{\"fill\":{\"color\":\"#EBF0F8\"},\"line\":{\"color\":\"white\"}},\"header\":{\"fill\":{\"color\":\"#C8D4E3\"},\"line\":{\"color\":\"white\"}},\"type\":\"table\"}]},\"layout\":{\"annotationdefaults\":{\"arrowcolor\":\"#2a3f5f\",\"arrowhead\":0,\"arrowwidth\":1},\"autotypenumbers\":\"strict\",\"coloraxis\":{\"colorbar\":{\"outlinewidth\":0,\"ticks\":\"\"}},\"colorscale\":{\"diverging\":[[0,\"#8e0152\"],[0.1,\"#c51b7d\"],[0.2,\"#de77ae\"],[0.3,\"#f1b6da\"],[0.4,\"#fde0ef\"],[0.5,\"#f7f7f7\"],[0.6,\"#e6f5d0\"],[0.7,\"#b8e186\"],[0.8,\"#7fbc41\"],[0.9,\"#4d9221\"],[1,\"#276419\"]],\"sequential\":[[0.0,\"#0d0887\"],[0.1111111111111111,\"#46039f\"],[0.2222222222222222,\"#7201a8\"],[0.3333333333333333,\"#9c179e\"],[0.4444444444444444,\"#bd3786\"],[0.5555555555555556,\"#d8576b\"],[0.6666666666666666,\"#ed7953\"],[0.7777777777777778,\"#fb9f3a\"],[0.8888888888888888,\"#fdca26\"],[1.0,\"#f0f921\"]],\"sequentialminus\":[[0.0,\"#0d0887\"],[0.1111111111111111,\"#46039f\"],[0.2222222222222222,\"#7201a8\"],[0.3333333333333333,\"#9c179e\"],[0.4444444444444444,\"#bd3786\"],[0.5555555555555556,\"#d8576b\"],[0.6666666666666666,\"#ed7953\"],[0.7777777777777778,\"#fb9f3a\"],[0.8888888888888888,\"#fdca26\"],[1.0,\"#f0f921\"]]},\"colorway\":[\"#636efa\",\"#EF553B\",\"#00cc96\",\"#ab63fa\",\"#FFA15A\",\"#19d3f3\",\"#FF6692\",\"#B6E880\",\"#FF97FF\",\"#FECB52\"],\"font\":{\"color\":\"#2a3f5f\"},\"geo\":{\"bgcolor\":\"white\",\"lakecolor\":\"white\",\"landcolor\":\"#E5ECF6\",\"showlakes\":true,\"showland\":true,\"subunitcolor\":\"white\"},\"hoverlabel\":{\"align\":\"left\"},\"hovermode\":\"closest\",\"mapbox\":{\"style\":\"light\"},\"paper_bgcolor\":\"white\",\"plot_bgcolor\":\"#E5ECF6\",\"polar\":{\"angularaxis\":{\"gridcolor\":\"white\",\"linecolor\":\"white\",\"ticks\":\"\"},\"bgcolor\":\"#E5ECF6\",\"radialaxis\":{\"gridcolor\":\"white\",\"linecolor\":\"white\",\"ticks\":\"\"}},\"scene\":{\"xaxis\":{\"backgroundcolor\":\"#E5ECF6\",\"gridcolor\":\"white\",\"gridwidth\":2,\"linecolor\":\"white\",\"showbackground\":true,\"ticks\":\"\",\"zerolinecolor\":\"white\"},\"yaxis\":{\"backgroundcolor\":\"#E5ECF6\",\"gridcolor\":\"white\",\"gridwidth\":2,\"linecolor\":\"white\",\"showbackground\":true,\"ticks\":\"\",\"zerolinecolor\":\"white\"},\"zaxis\":{\"backgroundcolor\":\"#E5ECF6\",\"gridcolor\":\"white\",\"gridwidth\":2,\"linecolor\":\"white\",\"showbackground\":true,\"ticks\":\"\",\"zerolinecolor\":\"white\"}},\"shapedefaults\":{\"line\":{\"color\":\"#2a3f5f\"}},\"ternary\":{\"aaxis\":{\"gridcolor\":\"white\",\"linecolor\":\"white\",\"ticks\":\"\"},\"baxis\":{\"gridcolor\":\"white\",\"linecolor\":\"white\",\"ticks\":\"\"},\"bgcolor\":\"#E5ECF6\",\"caxis\":{\"gridcolor\":\"white\",\"linecolor\":\"white\",\"ticks\":\"\"}},\"title\":{\"x\":0.05},\"xaxis\":{\"automargin\":true,\"gridcolor\":\"white\",\"linecolor\":\"white\",\"ticks\":\"\",\"title\":{\"standoff\":15},\"zerolinecolor\":\"white\",\"zerolinewidth\":2},\"yaxis\":{\"automargin\":true,\"gridcolor\":\"white\",\"linecolor\":\"white\",\"ticks\":\"\",\"title\":{\"standoff\":15},\"zerolinecolor\":\"white\",\"zerolinewidth\":2}}},\"title\":{\"font\":{\"color\":\"#4D5663\"}},\"xaxis\":{\"gridcolor\":\"#E1E5ED\",\"showgrid\":true,\"tickfont\":{\"color\":\"#4D5663\"},\"title\":{\"font\":{\"color\":\"#4D5663\"},\"text\":\"\"},\"zerolinecolor\":\"#E1E5ED\"},\"yaxis\":{\"gridcolor\":\"#E1E5ED\",\"showgrid\":true,\"tickfont\":{\"color\":\"#4D5663\"},\"title\":{\"font\":{\"color\":\"#4D5663\"},\"text\":\"\"},\"zerolinecolor\":\"#E1E5ED\"}},                        {\"showLink\": true, \"linkText\": \"Export to plot.ly\", \"plotlyServerURL\": \"https://plot.ly\", \"responsive\": true}                    ).then(function(){\n",
       "                            \n",
       "var gd = document.getElementById('c9bf2fdb-1751-4100-a443-434c29744201');\n",
       "var x = new MutationObserver(function (mutations, observer) {{\n",
       "        var display = window.getComputedStyle(gd).display;\n",
       "        if (!display || display === 'none') {{\n",
       "            console.log([gd, 'removed!']);\n",
       "            Plotly.purge(gd);\n",
       "            observer.disconnect();\n",
       "        }}\n",
       "}});\n",
       "\n",
       "// Listen for the removal of the full notebook cells\n",
       "var notebookContainer = gd.closest('#notebook-container');\n",
       "if (notebookContainer) {{\n",
       "    x.observe(notebookContainer, {childList: true});\n",
       "}}\n",
       "\n",
       "// Listen for the clearing of the current output cell\n",
       "var outputEl = gd.closest('.output');\n",
       "if (outputEl) {{\n",
       "    x.observe(outputEl, {childList: true});\n",
       "}}\n",
       "\n",
       "                        })                };                });            </script>        </div>"
      ]
     },
     "metadata": {},
     "output_type": "display_data"
    }
   ],
   "source": [
    "df.iplot(kind='scatter',x='A',y='B', mode='markers', size=20)"
   ]
  },
  {
   "cell_type": "code",
   "execution_count": 59,
   "id": "d6e017cd",
   "metadata": {},
   "outputs": [
    {
     "data": {
      "application/vnd.plotly.v1+json": {
       "config": {
        "linkText": "Export to plot.ly",
        "plotlyServerURL": "https://plot.ly",
        "showLink": true
       },
       "data": [
        {
         "marker": {
          "color": "rgba(255, 153, 51, 0.6)",
          "line": {
           "color": "rgba(255, 153, 51, 1.0)",
           "width": 1
          }
         },
         "name": "Values",
         "orientation": "v",
         "text": "",
         "type": "bar",
         "x": [
          "A",
          "B",
          "C"
         ],
         "y": [
          32,
          43,
          50
         ]
        }
       ],
       "layout": {
        "legend": {
         "bgcolor": "#F5F6F9",
         "font": {
          "color": "#4D5663"
         }
        },
        "paper_bgcolor": "#F5F6F9",
        "plot_bgcolor": "#F5F6F9",
        "template": {
         "data": {
          "bar": [
           {
            "error_x": {
             "color": "#2a3f5f"
            },
            "error_y": {
             "color": "#2a3f5f"
            },
            "marker": {
             "line": {
              "color": "#E5ECF6",
              "width": 0.5
             },
             "pattern": {
              "fillmode": "overlay",
              "size": 10,
              "solidity": 0.2
             }
            },
            "type": "bar"
           }
          ],
          "barpolar": [
           {
            "marker": {
             "line": {
              "color": "#E5ECF6",
              "width": 0.5
             },
             "pattern": {
              "fillmode": "overlay",
              "size": 10,
              "solidity": 0.2
             }
            },
            "type": "barpolar"
           }
          ],
          "carpet": [
           {
            "aaxis": {
             "endlinecolor": "#2a3f5f",
             "gridcolor": "white",
             "linecolor": "white",
             "minorgridcolor": "white",
             "startlinecolor": "#2a3f5f"
            },
            "baxis": {
             "endlinecolor": "#2a3f5f",
             "gridcolor": "white",
             "linecolor": "white",
             "minorgridcolor": "white",
             "startlinecolor": "#2a3f5f"
            },
            "type": "carpet"
           }
          ],
          "choropleth": [
           {
            "colorbar": {
             "outlinewidth": 0,
             "ticks": ""
            },
            "type": "choropleth"
           }
          ],
          "contour": [
           {
            "colorbar": {
             "outlinewidth": 0,
             "ticks": ""
            },
            "colorscale": [
             [
              0,
              "#0d0887"
             ],
             [
              0.1111111111111111,
              "#46039f"
             ],
             [
              0.2222222222222222,
              "#7201a8"
             ],
             [
              0.3333333333333333,
              "#9c179e"
             ],
             [
              0.4444444444444444,
              "#bd3786"
             ],
             [
              0.5555555555555556,
              "#d8576b"
             ],
             [
              0.6666666666666666,
              "#ed7953"
             ],
             [
              0.7777777777777778,
              "#fb9f3a"
             ],
             [
              0.8888888888888888,
              "#fdca26"
             ],
             [
              1,
              "#f0f921"
             ]
            ],
            "type": "contour"
           }
          ],
          "contourcarpet": [
           {
            "colorbar": {
             "outlinewidth": 0,
             "ticks": ""
            },
            "type": "contourcarpet"
           }
          ],
          "heatmap": [
           {
            "colorbar": {
             "outlinewidth": 0,
             "ticks": ""
            },
            "colorscale": [
             [
              0,
              "#0d0887"
             ],
             [
              0.1111111111111111,
              "#46039f"
             ],
             [
              0.2222222222222222,
              "#7201a8"
             ],
             [
              0.3333333333333333,
              "#9c179e"
             ],
             [
              0.4444444444444444,
              "#bd3786"
             ],
             [
              0.5555555555555556,
              "#d8576b"
             ],
             [
              0.6666666666666666,
              "#ed7953"
             ],
             [
              0.7777777777777778,
              "#fb9f3a"
             ],
             [
              0.8888888888888888,
              "#fdca26"
             ],
             [
              1,
              "#f0f921"
             ]
            ],
            "type": "heatmap"
           }
          ],
          "heatmapgl": [
           {
            "colorbar": {
             "outlinewidth": 0,
             "ticks": ""
            },
            "colorscale": [
             [
              0,
              "#0d0887"
             ],
             [
              0.1111111111111111,
              "#46039f"
             ],
             [
              0.2222222222222222,
              "#7201a8"
             ],
             [
              0.3333333333333333,
              "#9c179e"
             ],
             [
              0.4444444444444444,
              "#bd3786"
             ],
             [
              0.5555555555555556,
              "#d8576b"
             ],
             [
              0.6666666666666666,
              "#ed7953"
             ],
             [
              0.7777777777777778,
              "#fb9f3a"
             ],
             [
              0.8888888888888888,
              "#fdca26"
             ],
             [
              1,
              "#f0f921"
             ]
            ],
            "type": "heatmapgl"
           }
          ],
          "histogram": [
           {
            "marker": {
             "pattern": {
              "fillmode": "overlay",
              "size": 10,
              "solidity": 0.2
             }
            },
            "type": "histogram"
           }
          ],
          "histogram2d": [
           {
            "colorbar": {
             "outlinewidth": 0,
             "ticks": ""
            },
            "colorscale": [
             [
              0,
              "#0d0887"
             ],
             [
              0.1111111111111111,
              "#46039f"
             ],
             [
              0.2222222222222222,
              "#7201a8"
             ],
             [
              0.3333333333333333,
              "#9c179e"
             ],
             [
              0.4444444444444444,
              "#bd3786"
             ],
             [
              0.5555555555555556,
              "#d8576b"
             ],
             [
              0.6666666666666666,
              "#ed7953"
             ],
             [
              0.7777777777777778,
              "#fb9f3a"
             ],
             [
              0.8888888888888888,
              "#fdca26"
             ],
             [
              1,
              "#f0f921"
             ]
            ],
            "type": "histogram2d"
           }
          ],
          "histogram2dcontour": [
           {
            "colorbar": {
             "outlinewidth": 0,
             "ticks": ""
            },
            "colorscale": [
             [
              0,
              "#0d0887"
             ],
             [
              0.1111111111111111,
              "#46039f"
             ],
             [
              0.2222222222222222,
              "#7201a8"
             ],
             [
              0.3333333333333333,
              "#9c179e"
             ],
             [
              0.4444444444444444,
              "#bd3786"
             ],
             [
              0.5555555555555556,
              "#d8576b"
             ],
             [
              0.6666666666666666,
              "#ed7953"
             ],
             [
              0.7777777777777778,
              "#fb9f3a"
             ],
             [
              0.8888888888888888,
              "#fdca26"
             ],
             [
              1,
              "#f0f921"
             ]
            ],
            "type": "histogram2dcontour"
           }
          ],
          "mesh3d": [
           {
            "colorbar": {
             "outlinewidth": 0,
             "ticks": ""
            },
            "type": "mesh3d"
           }
          ],
          "parcoords": [
           {
            "line": {
             "colorbar": {
              "outlinewidth": 0,
              "ticks": ""
             }
            },
            "type": "parcoords"
           }
          ],
          "pie": [
           {
            "automargin": true,
            "type": "pie"
           }
          ],
          "scatter": [
           {
            "marker": {
             "colorbar": {
              "outlinewidth": 0,
              "ticks": ""
             }
            },
            "type": "scatter"
           }
          ],
          "scatter3d": [
           {
            "line": {
             "colorbar": {
              "outlinewidth": 0,
              "ticks": ""
             }
            },
            "marker": {
             "colorbar": {
              "outlinewidth": 0,
              "ticks": ""
             }
            },
            "type": "scatter3d"
           }
          ],
          "scattercarpet": [
           {
            "marker": {
             "colorbar": {
              "outlinewidth": 0,
              "ticks": ""
             }
            },
            "type": "scattercarpet"
           }
          ],
          "scattergeo": [
           {
            "marker": {
             "colorbar": {
              "outlinewidth": 0,
              "ticks": ""
             }
            },
            "type": "scattergeo"
           }
          ],
          "scattergl": [
           {
            "marker": {
             "colorbar": {
              "outlinewidth": 0,
              "ticks": ""
             }
            },
            "type": "scattergl"
           }
          ],
          "scattermapbox": [
           {
            "marker": {
             "colorbar": {
              "outlinewidth": 0,
              "ticks": ""
             }
            },
            "type": "scattermapbox"
           }
          ],
          "scatterpolar": [
           {
            "marker": {
             "colorbar": {
              "outlinewidth": 0,
              "ticks": ""
             }
            },
            "type": "scatterpolar"
           }
          ],
          "scatterpolargl": [
           {
            "marker": {
             "colorbar": {
              "outlinewidth": 0,
              "ticks": ""
             }
            },
            "type": "scatterpolargl"
           }
          ],
          "scatterternary": [
           {
            "marker": {
             "colorbar": {
              "outlinewidth": 0,
              "ticks": ""
             }
            },
            "type": "scatterternary"
           }
          ],
          "surface": [
           {
            "colorbar": {
             "outlinewidth": 0,
             "ticks": ""
            },
            "colorscale": [
             [
              0,
              "#0d0887"
             ],
             [
              0.1111111111111111,
              "#46039f"
             ],
             [
              0.2222222222222222,
              "#7201a8"
             ],
             [
              0.3333333333333333,
              "#9c179e"
             ],
             [
              0.4444444444444444,
              "#bd3786"
             ],
             [
              0.5555555555555556,
              "#d8576b"
             ],
             [
              0.6666666666666666,
              "#ed7953"
             ],
             [
              0.7777777777777778,
              "#fb9f3a"
             ],
             [
              0.8888888888888888,
              "#fdca26"
             ],
             [
              1,
              "#f0f921"
             ]
            ],
            "type": "surface"
           }
          ],
          "table": [
           {
            "cells": {
             "fill": {
              "color": "#EBF0F8"
             },
             "line": {
              "color": "white"
             }
            },
            "header": {
             "fill": {
              "color": "#C8D4E3"
             },
             "line": {
              "color": "white"
             }
            },
            "type": "table"
           }
          ]
         },
         "layout": {
          "annotationdefaults": {
           "arrowcolor": "#2a3f5f",
           "arrowhead": 0,
           "arrowwidth": 1
          },
          "autotypenumbers": "strict",
          "coloraxis": {
           "colorbar": {
            "outlinewidth": 0,
            "ticks": ""
           }
          },
          "colorscale": {
           "diverging": [
            [
             0,
             "#8e0152"
            ],
            [
             0.1,
             "#c51b7d"
            ],
            [
             0.2,
             "#de77ae"
            ],
            [
             0.3,
             "#f1b6da"
            ],
            [
             0.4,
             "#fde0ef"
            ],
            [
             0.5,
             "#f7f7f7"
            ],
            [
             0.6,
             "#e6f5d0"
            ],
            [
             0.7,
             "#b8e186"
            ],
            [
             0.8,
             "#7fbc41"
            ],
            [
             0.9,
             "#4d9221"
            ],
            [
             1,
             "#276419"
            ]
           ],
           "sequential": [
            [
             0,
             "#0d0887"
            ],
            [
             0.1111111111111111,
             "#46039f"
            ],
            [
             0.2222222222222222,
             "#7201a8"
            ],
            [
             0.3333333333333333,
             "#9c179e"
            ],
            [
             0.4444444444444444,
             "#bd3786"
            ],
            [
             0.5555555555555556,
             "#d8576b"
            ],
            [
             0.6666666666666666,
             "#ed7953"
            ],
            [
             0.7777777777777778,
             "#fb9f3a"
            ],
            [
             0.8888888888888888,
             "#fdca26"
            ],
            [
             1,
             "#f0f921"
            ]
           ],
           "sequentialminus": [
            [
             0,
             "#0d0887"
            ],
            [
             0.1111111111111111,
             "#46039f"
            ],
            [
             0.2222222222222222,
             "#7201a8"
            ],
            [
             0.3333333333333333,
             "#9c179e"
            ],
            [
             0.4444444444444444,
             "#bd3786"
            ],
            [
             0.5555555555555556,
             "#d8576b"
            ],
            [
             0.6666666666666666,
             "#ed7953"
            ],
            [
             0.7777777777777778,
             "#fb9f3a"
            ],
            [
             0.8888888888888888,
             "#fdca26"
            ],
            [
             1,
             "#f0f921"
            ]
           ]
          },
          "colorway": [
           "#636efa",
           "#EF553B",
           "#00cc96",
           "#ab63fa",
           "#FFA15A",
           "#19d3f3",
           "#FF6692",
           "#B6E880",
           "#FF97FF",
           "#FECB52"
          ],
          "font": {
           "color": "#2a3f5f"
          },
          "geo": {
           "bgcolor": "white",
           "lakecolor": "white",
           "landcolor": "#E5ECF6",
           "showlakes": true,
           "showland": true,
           "subunitcolor": "white"
          },
          "hoverlabel": {
           "align": "left"
          },
          "hovermode": "closest",
          "mapbox": {
           "style": "light"
          },
          "paper_bgcolor": "white",
          "plot_bgcolor": "#E5ECF6",
          "polar": {
           "angularaxis": {
            "gridcolor": "white",
            "linecolor": "white",
            "ticks": ""
           },
           "bgcolor": "#E5ECF6",
           "radialaxis": {
            "gridcolor": "white",
            "linecolor": "white",
            "ticks": ""
           }
          },
          "scene": {
           "xaxis": {
            "backgroundcolor": "#E5ECF6",
            "gridcolor": "white",
            "gridwidth": 2,
            "linecolor": "white",
            "showbackground": true,
            "ticks": "",
            "zerolinecolor": "white"
           },
           "yaxis": {
            "backgroundcolor": "#E5ECF6",
            "gridcolor": "white",
            "gridwidth": 2,
            "linecolor": "white",
            "showbackground": true,
            "ticks": "",
            "zerolinecolor": "white"
           },
           "zaxis": {
            "backgroundcolor": "#E5ECF6",
            "gridcolor": "white",
            "gridwidth": 2,
            "linecolor": "white",
            "showbackground": true,
            "ticks": "",
            "zerolinecolor": "white"
           }
          },
          "shapedefaults": {
           "line": {
            "color": "#2a3f5f"
           }
          },
          "ternary": {
           "aaxis": {
            "gridcolor": "white",
            "linecolor": "white",
            "ticks": ""
           },
           "baxis": {
            "gridcolor": "white",
            "linecolor": "white",
            "ticks": ""
           },
           "bgcolor": "#E5ECF6",
           "caxis": {
            "gridcolor": "white",
            "linecolor": "white",
            "ticks": ""
           }
          },
          "title": {
           "x": 0.05
          },
          "xaxis": {
           "automargin": true,
           "gridcolor": "white",
           "linecolor": "white",
           "ticks": "",
           "title": {
            "standoff": 15
           },
           "zerolinecolor": "white",
           "zerolinewidth": 2
          },
          "yaxis": {
           "automargin": true,
           "gridcolor": "white",
           "linecolor": "white",
           "ticks": "",
           "title": {
            "standoff": 15
           },
           "zerolinecolor": "white",
           "zerolinewidth": 2
          }
         }
        },
        "title": {
         "font": {
          "color": "#4D5663"
         }
        },
        "xaxis": {
         "gridcolor": "#E1E5ED",
         "showgrid": true,
         "tickfont": {
          "color": "#4D5663"
         },
         "title": {
          "font": {
           "color": "#4D5663"
          },
          "text": ""
         },
         "zerolinecolor": "#E1E5ED"
        },
        "yaxis": {
         "gridcolor": "#E1E5ED",
         "showgrid": true,
         "tickfont": {
          "color": "#4D5663"
         },
         "title": {
          "font": {
           "color": "#4D5663"
          },
          "text": ""
         },
         "zerolinecolor": "#E1E5ED"
        }
       }
      },
      "text/html": [
       "<div>                            <div id=\"820e1eaa-2256-4956-bfb7-c473757e8b69\" class=\"plotly-graph-div\" style=\"height:525px; width:100%;\"></div>            <script type=\"text/javascript\">                require([\"plotly\"], function(Plotly) {                    window.PLOTLYENV=window.PLOTLYENV || {};\n",
       "                    window.PLOTLYENV.BASE_URL='https://plot.ly';                                    if (document.getElementById(\"820e1eaa-2256-4956-bfb7-c473757e8b69\")) {                    Plotly.newPlot(                        \"820e1eaa-2256-4956-bfb7-c473757e8b69\",                        [{\"marker\":{\"color\":\"rgba(255, 153, 51, 0.6)\",\"line\":{\"color\":\"rgba(255, 153, 51, 1.0)\",\"width\":1}},\"name\":\"Values\",\"orientation\":\"v\",\"text\":\"\",\"x\":[\"A\",\"B\",\"C\"],\"y\":[32,43,50],\"type\":\"bar\"}],                        {\"legend\":{\"bgcolor\":\"#F5F6F9\",\"font\":{\"color\":\"#4D5663\"}},\"paper_bgcolor\":\"#F5F6F9\",\"plot_bgcolor\":\"#F5F6F9\",\"template\":{\"data\":{\"barpolar\":[{\"marker\":{\"line\":{\"color\":\"#E5ECF6\",\"width\":0.5},\"pattern\":{\"fillmode\":\"overlay\",\"size\":10,\"solidity\":0.2}},\"type\":\"barpolar\"}],\"bar\":[{\"error_x\":{\"color\":\"#2a3f5f\"},\"error_y\":{\"color\":\"#2a3f5f\"},\"marker\":{\"line\":{\"color\":\"#E5ECF6\",\"width\":0.5},\"pattern\":{\"fillmode\":\"overlay\",\"size\":10,\"solidity\":0.2}},\"type\":\"bar\"}],\"carpet\":[{\"aaxis\":{\"endlinecolor\":\"#2a3f5f\",\"gridcolor\":\"white\",\"linecolor\":\"white\",\"minorgridcolor\":\"white\",\"startlinecolor\":\"#2a3f5f\"},\"baxis\":{\"endlinecolor\":\"#2a3f5f\",\"gridcolor\":\"white\",\"linecolor\":\"white\",\"minorgridcolor\":\"white\",\"startlinecolor\":\"#2a3f5f\"},\"type\":\"carpet\"}],\"choropleth\":[{\"colorbar\":{\"outlinewidth\":0,\"ticks\":\"\"},\"type\":\"choropleth\"}],\"contourcarpet\":[{\"colorbar\":{\"outlinewidth\":0,\"ticks\":\"\"},\"type\":\"contourcarpet\"}],\"contour\":[{\"colorbar\":{\"outlinewidth\":0,\"ticks\":\"\"},\"colorscale\":[[0.0,\"#0d0887\"],[0.1111111111111111,\"#46039f\"],[0.2222222222222222,\"#7201a8\"],[0.3333333333333333,\"#9c179e\"],[0.4444444444444444,\"#bd3786\"],[0.5555555555555556,\"#d8576b\"],[0.6666666666666666,\"#ed7953\"],[0.7777777777777778,\"#fb9f3a\"],[0.8888888888888888,\"#fdca26\"],[1.0,\"#f0f921\"]],\"type\":\"contour\"}],\"heatmapgl\":[{\"colorbar\":{\"outlinewidth\":0,\"ticks\":\"\"},\"colorscale\":[[0.0,\"#0d0887\"],[0.1111111111111111,\"#46039f\"],[0.2222222222222222,\"#7201a8\"],[0.3333333333333333,\"#9c179e\"],[0.4444444444444444,\"#bd3786\"],[0.5555555555555556,\"#d8576b\"],[0.6666666666666666,\"#ed7953\"],[0.7777777777777778,\"#fb9f3a\"],[0.8888888888888888,\"#fdca26\"],[1.0,\"#f0f921\"]],\"type\":\"heatmapgl\"}],\"heatmap\":[{\"colorbar\":{\"outlinewidth\":0,\"ticks\":\"\"},\"colorscale\":[[0.0,\"#0d0887\"],[0.1111111111111111,\"#46039f\"],[0.2222222222222222,\"#7201a8\"],[0.3333333333333333,\"#9c179e\"],[0.4444444444444444,\"#bd3786\"],[0.5555555555555556,\"#d8576b\"],[0.6666666666666666,\"#ed7953\"],[0.7777777777777778,\"#fb9f3a\"],[0.8888888888888888,\"#fdca26\"],[1.0,\"#f0f921\"]],\"type\":\"heatmap\"}],\"histogram2dcontour\":[{\"colorbar\":{\"outlinewidth\":0,\"ticks\":\"\"},\"colorscale\":[[0.0,\"#0d0887\"],[0.1111111111111111,\"#46039f\"],[0.2222222222222222,\"#7201a8\"],[0.3333333333333333,\"#9c179e\"],[0.4444444444444444,\"#bd3786\"],[0.5555555555555556,\"#d8576b\"],[0.6666666666666666,\"#ed7953\"],[0.7777777777777778,\"#fb9f3a\"],[0.8888888888888888,\"#fdca26\"],[1.0,\"#f0f921\"]],\"type\":\"histogram2dcontour\"}],\"histogram2d\":[{\"colorbar\":{\"outlinewidth\":0,\"ticks\":\"\"},\"colorscale\":[[0.0,\"#0d0887\"],[0.1111111111111111,\"#46039f\"],[0.2222222222222222,\"#7201a8\"],[0.3333333333333333,\"#9c179e\"],[0.4444444444444444,\"#bd3786\"],[0.5555555555555556,\"#d8576b\"],[0.6666666666666666,\"#ed7953\"],[0.7777777777777778,\"#fb9f3a\"],[0.8888888888888888,\"#fdca26\"],[1.0,\"#f0f921\"]],\"type\":\"histogram2d\"}],\"histogram\":[{\"marker\":{\"pattern\":{\"fillmode\":\"overlay\",\"size\":10,\"solidity\":0.2}},\"type\":\"histogram\"}],\"mesh3d\":[{\"colorbar\":{\"outlinewidth\":0,\"ticks\":\"\"},\"type\":\"mesh3d\"}],\"parcoords\":[{\"line\":{\"colorbar\":{\"outlinewidth\":0,\"ticks\":\"\"}},\"type\":\"parcoords\"}],\"pie\":[{\"automargin\":true,\"type\":\"pie\"}],\"scatter3d\":[{\"line\":{\"colorbar\":{\"outlinewidth\":0,\"ticks\":\"\"}},\"marker\":{\"colorbar\":{\"outlinewidth\":0,\"ticks\":\"\"}},\"type\":\"scatter3d\"}],\"scattercarpet\":[{\"marker\":{\"colorbar\":{\"outlinewidth\":0,\"ticks\":\"\"}},\"type\":\"scattercarpet\"}],\"scattergeo\":[{\"marker\":{\"colorbar\":{\"outlinewidth\":0,\"ticks\":\"\"}},\"type\":\"scattergeo\"}],\"scattergl\":[{\"marker\":{\"colorbar\":{\"outlinewidth\":0,\"ticks\":\"\"}},\"type\":\"scattergl\"}],\"scattermapbox\":[{\"marker\":{\"colorbar\":{\"outlinewidth\":0,\"ticks\":\"\"}},\"type\":\"scattermapbox\"}],\"scatterpolargl\":[{\"marker\":{\"colorbar\":{\"outlinewidth\":0,\"ticks\":\"\"}},\"type\":\"scatterpolargl\"}],\"scatterpolar\":[{\"marker\":{\"colorbar\":{\"outlinewidth\":0,\"ticks\":\"\"}},\"type\":\"scatterpolar\"}],\"scatter\":[{\"marker\":{\"colorbar\":{\"outlinewidth\":0,\"ticks\":\"\"}},\"type\":\"scatter\"}],\"scatterternary\":[{\"marker\":{\"colorbar\":{\"outlinewidth\":0,\"ticks\":\"\"}},\"type\":\"scatterternary\"}],\"surface\":[{\"colorbar\":{\"outlinewidth\":0,\"ticks\":\"\"},\"colorscale\":[[0.0,\"#0d0887\"],[0.1111111111111111,\"#46039f\"],[0.2222222222222222,\"#7201a8\"],[0.3333333333333333,\"#9c179e\"],[0.4444444444444444,\"#bd3786\"],[0.5555555555555556,\"#d8576b\"],[0.6666666666666666,\"#ed7953\"],[0.7777777777777778,\"#fb9f3a\"],[0.8888888888888888,\"#fdca26\"],[1.0,\"#f0f921\"]],\"type\":\"surface\"}],\"table\":[{\"cells\":{\"fill\":{\"color\":\"#EBF0F8\"},\"line\":{\"color\":\"white\"}},\"header\":{\"fill\":{\"color\":\"#C8D4E3\"},\"line\":{\"color\":\"white\"}},\"type\":\"table\"}]},\"layout\":{\"annotationdefaults\":{\"arrowcolor\":\"#2a3f5f\",\"arrowhead\":0,\"arrowwidth\":1},\"autotypenumbers\":\"strict\",\"coloraxis\":{\"colorbar\":{\"outlinewidth\":0,\"ticks\":\"\"}},\"colorscale\":{\"diverging\":[[0,\"#8e0152\"],[0.1,\"#c51b7d\"],[0.2,\"#de77ae\"],[0.3,\"#f1b6da\"],[0.4,\"#fde0ef\"],[0.5,\"#f7f7f7\"],[0.6,\"#e6f5d0\"],[0.7,\"#b8e186\"],[0.8,\"#7fbc41\"],[0.9,\"#4d9221\"],[1,\"#276419\"]],\"sequential\":[[0.0,\"#0d0887\"],[0.1111111111111111,\"#46039f\"],[0.2222222222222222,\"#7201a8\"],[0.3333333333333333,\"#9c179e\"],[0.4444444444444444,\"#bd3786\"],[0.5555555555555556,\"#d8576b\"],[0.6666666666666666,\"#ed7953\"],[0.7777777777777778,\"#fb9f3a\"],[0.8888888888888888,\"#fdca26\"],[1.0,\"#f0f921\"]],\"sequentialminus\":[[0.0,\"#0d0887\"],[0.1111111111111111,\"#46039f\"],[0.2222222222222222,\"#7201a8\"],[0.3333333333333333,\"#9c179e\"],[0.4444444444444444,\"#bd3786\"],[0.5555555555555556,\"#d8576b\"],[0.6666666666666666,\"#ed7953\"],[0.7777777777777778,\"#fb9f3a\"],[0.8888888888888888,\"#fdca26\"],[1.0,\"#f0f921\"]]},\"colorway\":[\"#636efa\",\"#EF553B\",\"#00cc96\",\"#ab63fa\",\"#FFA15A\",\"#19d3f3\",\"#FF6692\",\"#B6E880\",\"#FF97FF\",\"#FECB52\"],\"font\":{\"color\":\"#2a3f5f\"},\"geo\":{\"bgcolor\":\"white\",\"lakecolor\":\"white\",\"landcolor\":\"#E5ECF6\",\"showlakes\":true,\"showland\":true,\"subunitcolor\":\"white\"},\"hoverlabel\":{\"align\":\"left\"},\"hovermode\":\"closest\",\"mapbox\":{\"style\":\"light\"},\"paper_bgcolor\":\"white\",\"plot_bgcolor\":\"#E5ECF6\",\"polar\":{\"angularaxis\":{\"gridcolor\":\"white\",\"linecolor\":\"white\",\"ticks\":\"\"},\"bgcolor\":\"#E5ECF6\",\"radialaxis\":{\"gridcolor\":\"white\",\"linecolor\":\"white\",\"ticks\":\"\"}},\"scene\":{\"xaxis\":{\"backgroundcolor\":\"#E5ECF6\",\"gridcolor\":\"white\",\"gridwidth\":2,\"linecolor\":\"white\",\"showbackground\":true,\"ticks\":\"\",\"zerolinecolor\":\"white\"},\"yaxis\":{\"backgroundcolor\":\"#E5ECF6\",\"gridcolor\":\"white\",\"gridwidth\":2,\"linecolor\":\"white\",\"showbackground\":true,\"ticks\":\"\",\"zerolinecolor\":\"white\"},\"zaxis\":{\"backgroundcolor\":\"#E5ECF6\",\"gridcolor\":\"white\",\"gridwidth\":2,\"linecolor\":\"white\",\"showbackground\":true,\"ticks\":\"\",\"zerolinecolor\":\"white\"}},\"shapedefaults\":{\"line\":{\"color\":\"#2a3f5f\"}},\"ternary\":{\"aaxis\":{\"gridcolor\":\"white\",\"linecolor\":\"white\",\"ticks\":\"\"},\"baxis\":{\"gridcolor\":\"white\",\"linecolor\":\"white\",\"ticks\":\"\"},\"bgcolor\":\"#E5ECF6\",\"caxis\":{\"gridcolor\":\"white\",\"linecolor\":\"white\",\"ticks\":\"\"}},\"title\":{\"x\":0.05},\"xaxis\":{\"automargin\":true,\"gridcolor\":\"white\",\"linecolor\":\"white\",\"ticks\":\"\",\"title\":{\"standoff\":15},\"zerolinecolor\":\"white\",\"zerolinewidth\":2},\"yaxis\":{\"automargin\":true,\"gridcolor\":\"white\",\"linecolor\":\"white\",\"ticks\":\"\",\"title\":{\"standoff\":15},\"zerolinecolor\":\"white\",\"zerolinewidth\":2}}},\"title\":{\"font\":{\"color\":\"#4D5663\"}},\"xaxis\":{\"gridcolor\":\"#E1E5ED\",\"showgrid\":true,\"tickfont\":{\"color\":\"#4D5663\"},\"title\":{\"font\":{\"color\":\"#4D5663\"},\"text\":\"\"},\"zerolinecolor\":\"#E1E5ED\"},\"yaxis\":{\"gridcolor\":\"#E1E5ED\",\"showgrid\":true,\"tickfont\":{\"color\":\"#4D5663\"},\"title\":{\"font\":{\"color\":\"#4D5663\"},\"text\":\"\"},\"zerolinecolor\":\"#E1E5ED\"}},                        {\"showLink\": true, \"linkText\": \"Export to plot.ly\", \"plotlyServerURL\": \"https://plot.ly\", \"responsive\": true}                    ).then(function(){\n",
       "                            \n",
       "var gd = document.getElementById('820e1eaa-2256-4956-bfb7-c473757e8b69');\n",
       "var x = new MutationObserver(function (mutations, observer) {{\n",
       "        var display = window.getComputedStyle(gd).display;\n",
       "        if (!display || display === 'none') {{\n",
       "            console.log([gd, 'removed!']);\n",
       "            Plotly.purge(gd);\n",
       "            observer.disconnect();\n",
       "        }}\n",
       "}});\n",
       "\n",
       "// Listen for the removal of the full notebook cells\n",
       "var notebookContainer = gd.closest('#notebook-container');\n",
       "if (notebookContainer) {{\n",
       "    x.observe(notebookContainer, {childList: true});\n",
       "}}\n",
       "\n",
       "// Listen for the clearing of the current output cell\n",
       "var outputEl = gd.closest('.output');\n",
       "if (outputEl) {{\n",
       "    x.observe(outputEl, {childList: true});\n",
       "}}\n",
       "\n",
       "                        })                };                });            </script>        </div>"
      ]
     },
     "metadata": {},
     "output_type": "display_data"
    }
   ],
   "source": [
    "df2.iplot(kind='bar',x='Category',y='Values', size=20)"
   ]
  },
  {
   "cell_type": "code",
   "execution_count": 60,
   "id": "5819de25",
   "metadata": {},
   "outputs": [
    {
     "data": {
      "application/vnd.plotly.v1+json": {
       "config": {
        "linkText": "Export to plot.ly",
        "plotlyServerURL": "https://plot.ly",
        "showLink": true
       },
       "data": [
        {
         "marker": {
          "color": "rgba(255, 153, 51, 0.6)",
          "line": {
           "color": "rgba(255, 153, 51, 1.0)",
           "width": 1
          }
         },
         "name": "None",
         "orientation": "v",
         "text": "",
         "type": "bar",
         "x": [
          "A",
          "B",
          "C",
          "D"
         ],
         "y": [
          100,
          100,
          100,
          100
         ]
        }
       ],
       "layout": {
        "legend": {
         "bgcolor": "#F5F6F9",
         "font": {
          "color": "#4D5663"
         }
        },
        "paper_bgcolor": "#F5F6F9",
        "plot_bgcolor": "#F5F6F9",
        "template": {
         "data": {
          "bar": [
           {
            "error_x": {
             "color": "#2a3f5f"
            },
            "error_y": {
             "color": "#2a3f5f"
            },
            "marker": {
             "line": {
              "color": "#E5ECF6",
              "width": 0.5
             },
             "pattern": {
              "fillmode": "overlay",
              "size": 10,
              "solidity": 0.2
             }
            },
            "type": "bar"
           }
          ],
          "barpolar": [
           {
            "marker": {
             "line": {
              "color": "#E5ECF6",
              "width": 0.5
             },
             "pattern": {
              "fillmode": "overlay",
              "size": 10,
              "solidity": 0.2
             }
            },
            "type": "barpolar"
           }
          ],
          "carpet": [
           {
            "aaxis": {
             "endlinecolor": "#2a3f5f",
             "gridcolor": "white",
             "linecolor": "white",
             "minorgridcolor": "white",
             "startlinecolor": "#2a3f5f"
            },
            "baxis": {
             "endlinecolor": "#2a3f5f",
             "gridcolor": "white",
             "linecolor": "white",
             "minorgridcolor": "white",
             "startlinecolor": "#2a3f5f"
            },
            "type": "carpet"
           }
          ],
          "choropleth": [
           {
            "colorbar": {
             "outlinewidth": 0,
             "ticks": ""
            },
            "type": "choropleth"
           }
          ],
          "contour": [
           {
            "colorbar": {
             "outlinewidth": 0,
             "ticks": ""
            },
            "colorscale": [
             [
              0,
              "#0d0887"
             ],
             [
              0.1111111111111111,
              "#46039f"
             ],
             [
              0.2222222222222222,
              "#7201a8"
             ],
             [
              0.3333333333333333,
              "#9c179e"
             ],
             [
              0.4444444444444444,
              "#bd3786"
             ],
             [
              0.5555555555555556,
              "#d8576b"
             ],
             [
              0.6666666666666666,
              "#ed7953"
             ],
             [
              0.7777777777777778,
              "#fb9f3a"
             ],
             [
              0.8888888888888888,
              "#fdca26"
             ],
             [
              1,
              "#f0f921"
             ]
            ],
            "type": "contour"
           }
          ],
          "contourcarpet": [
           {
            "colorbar": {
             "outlinewidth": 0,
             "ticks": ""
            },
            "type": "contourcarpet"
           }
          ],
          "heatmap": [
           {
            "colorbar": {
             "outlinewidth": 0,
             "ticks": ""
            },
            "colorscale": [
             [
              0,
              "#0d0887"
             ],
             [
              0.1111111111111111,
              "#46039f"
             ],
             [
              0.2222222222222222,
              "#7201a8"
             ],
             [
              0.3333333333333333,
              "#9c179e"
             ],
             [
              0.4444444444444444,
              "#bd3786"
             ],
             [
              0.5555555555555556,
              "#d8576b"
             ],
             [
              0.6666666666666666,
              "#ed7953"
             ],
             [
              0.7777777777777778,
              "#fb9f3a"
             ],
             [
              0.8888888888888888,
              "#fdca26"
             ],
             [
              1,
              "#f0f921"
             ]
            ],
            "type": "heatmap"
           }
          ],
          "heatmapgl": [
           {
            "colorbar": {
             "outlinewidth": 0,
             "ticks": ""
            },
            "colorscale": [
             [
              0,
              "#0d0887"
             ],
             [
              0.1111111111111111,
              "#46039f"
             ],
             [
              0.2222222222222222,
              "#7201a8"
             ],
             [
              0.3333333333333333,
              "#9c179e"
             ],
             [
              0.4444444444444444,
              "#bd3786"
             ],
             [
              0.5555555555555556,
              "#d8576b"
             ],
             [
              0.6666666666666666,
              "#ed7953"
             ],
             [
              0.7777777777777778,
              "#fb9f3a"
             ],
             [
              0.8888888888888888,
              "#fdca26"
             ],
             [
              1,
              "#f0f921"
             ]
            ],
            "type": "heatmapgl"
           }
          ],
          "histogram": [
           {
            "marker": {
             "pattern": {
              "fillmode": "overlay",
              "size": 10,
              "solidity": 0.2
             }
            },
            "type": "histogram"
           }
          ],
          "histogram2d": [
           {
            "colorbar": {
             "outlinewidth": 0,
             "ticks": ""
            },
            "colorscale": [
             [
              0,
              "#0d0887"
             ],
             [
              0.1111111111111111,
              "#46039f"
             ],
             [
              0.2222222222222222,
              "#7201a8"
             ],
             [
              0.3333333333333333,
              "#9c179e"
             ],
             [
              0.4444444444444444,
              "#bd3786"
             ],
             [
              0.5555555555555556,
              "#d8576b"
             ],
             [
              0.6666666666666666,
              "#ed7953"
             ],
             [
              0.7777777777777778,
              "#fb9f3a"
             ],
             [
              0.8888888888888888,
              "#fdca26"
             ],
             [
              1,
              "#f0f921"
             ]
            ],
            "type": "histogram2d"
           }
          ],
          "histogram2dcontour": [
           {
            "colorbar": {
             "outlinewidth": 0,
             "ticks": ""
            },
            "colorscale": [
             [
              0,
              "#0d0887"
             ],
             [
              0.1111111111111111,
              "#46039f"
             ],
             [
              0.2222222222222222,
              "#7201a8"
             ],
             [
              0.3333333333333333,
              "#9c179e"
             ],
             [
              0.4444444444444444,
              "#bd3786"
             ],
             [
              0.5555555555555556,
              "#d8576b"
             ],
             [
              0.6666666666666666,
              "#ed7953"
             ],
             [
              0.7777777777777778,
              "#fb9f3a"
             ],
             [
              0.8888888888888888,
              "#fdca26"
             ],
             [
              1,
              "#f0f921"
             ]
            ],
            "type": "histogram2dcontour"
           }
          ],
          "mesh3d": [
           {
            "colorbar": {
             "outlinewidth": 0,
             "ticks": ""
            },
            "type": "mesh3d"
           }
          ],
          "parcoords": [
           {
            "line": {
             "colorbar": {
              "outlinewidth": 0,
              "ticks": ""
             }
            },
            "type": "parcoords"
           }
          ],
          "pie": [
           {
            "automargin": true,
            "type": "pie"
           }
          ],
          "scatter": [
           {
            "marker": {
             "colorbar": {
              "outlinewidth": 0,
              "ticks": ""
             }
            },
            "type": "scatter"
           }
          ],
          "scatter3d": [
           {
            "line": {
             "colorbar": {
              "outlinewidth": 0,
              "ticks": ""
             }
            },
            "marker": {
             "colorbar": {
              "outlinewidth": 0,
              "ticks": ""
             }
            },
            "type": "scatter3d"
           }
          ],
          "scattercarpet": [
           {
            "marker": {
             "colorbar": {
              "outlinewidth": 0,
              "ticks": ""
             }
            },
            "type": "scattercarpet"
           }
          ],
          "scattergeo": [
           {
            "marker": {
             "colorbar": {
              "outlinewidth": 0,
              "ticks": ""
             }
            },
            "type": "scattergeo"
           }
          ],
          "scattergl": [
           {
            "marker": {
             "colorbar": {
              "outlinewidth": 0,
              "ticks": ""
             }
            },
            "type": "scattergl"
           }
          ],
          "scattermapbox": [
           {
            "marker": {
             "colorbar": {
              "outlinewidth": 0,
              "ticks": ""
             }
            },
            "type": "scattermapbox"
           }
          ],
          "scatterpolar": [
           {
            "marker": {
             "colorbar": {
              "outlinewidth": 0,
              "ticks": ""
             }
            },
            "type": "scatterpolar"
           }
          ],
          "scatterpolargl": [
           {
            "marker": {
             "colorbar": {
              "outlinewidth": 0,
              "ticks": ""
             }
            },
            "type": "scatterpolargl"
           }
          ],
          "scatterternary": [
           {
            "marker": {
             "colorbar": {
              "outlinewidth": 0,
              "ticks": ""
             }
            },
            "type": "scatterternary"
           }
          ],
          "surface": [
           {
            "colorbar": {
             "outlinewidth": 0,
             "ticks": ""
            },
            "colorscale": [
             [
              0,
              "#0d0887"
             ],
             [
              0.1111111111111111,
              "#46039f"
             ],
             [
              0.2222222222222222,
              "#7201a8"
             ],
             [
              0.3333333333333333,
              "#9c179e"
             ],
             [
              0.4444444444444444,
              "#bd3786"
             ],
             [
              0.5555555555555556,
              "#d8576b"
             ],
             [
              0.6666666666666666,
              "#ed7953"
             ],
             [
              0.7777777777777778,
              "#fb9f3a"
             ],
             [
              0.8888888888888888,
              "#fdca26"
             ],
             [
              1,
              "#f0f921"
             ]
            ],
            "type": "surface"
           }
          ],
          "table": [
           {
            "cells": {
             "fill": {
              "color": "#EBF0F8"
             },
             "line": {
              "color": "white"
             }
            },
            "header": {
             "fill": {
              "color": "#C8D4E3"
             },
             "line": {
              "color": "white"
             }
            },
            "type": "table"
           }
          ]
         },
         "layout": {
          "annotationdefaults": {
           "arrowcolor": "#2a3f5f",
           "arrowhead": 0,
           "arrowwidth": 1
          },
          "autotypenumbers": "strict",
          "coloraxis": {
           "colorbar": {
            "outlinewidth": 0,
            "ticks": ""
           }
          },
          "colorscale": {
           "diverging": [
            [
             0,
             "#8e0152"
            ],
            [
             0.1,
             "#c51b7d"
            ],
            [
             0.2,
             "#de77ae"
            ],
            [
             0.3,
             "#f1b6da"
            ],
            [
             0.4,
             "#fde0ef"
            ],
            [
             0.5,
             "#f7f7f7"
            ],
            [
             0.6,
             "#e6f5d0"
            ],
            [
             0.7,
             "#b8e186"
            ],
            [
             0.8,
             "#7fbc41"
            ],
            [
             0.9,
             "#4d9221"
            ],
            [
             1,
             "#276419"
            ]
           ],
           "sequential": [
            [
             0,
             "#0d0887"
            ],
            [
             0.1111111111111111,
             "#46039f"
            ],
            [
             0.2222222222222222,
             "#7201a8"
            ],
            [
             0.3333333333333333,
             "#9c179e"
            ],
            [
             0.4444444444444444,
             "#bd3786"
            ],
            [
             0.5555555555555556,
             "#d8576b"
            ],
            [
             0.6666666666666666,
             "#ed7953"
            ],
            [
             0.7777777777777778,
             "#fb9f3a"
            ],
            [
             0.8888888888888888,
             "#fdca26"
            ],
            [
             1,
             "#f0f921"
            ]
           ],
           "sequentialminus": [
            [
             0,
             "#0d0887"
            ],
            [
             0.1111111111111111,
             "#46039f"
            ],
            [
             0.2222222222222222,
             "#7201a8"
            ],
            [
             0.3333333333333333,
             "#9c179e"
            ],
            [
             0.4444444444444444,
             "#bd3786"
            ],
            [
             0.5555555555555556,
             "#d8576b"
            ],
            [
             0.6666666666666666,
             "#ed7953"
            ],
            [
             0.7777777777777778,
             "#fb9f3a"
            ],
            [
             0.8888888888888888,
             "#fdca26"
            ],
            [
             1,
             "#f0f921"
            ]
           ]
          },
          "colorway": [
           "#636efa",
           "#EF553B",
           "#00cc96",
           "#ab63fa",
           "#FFA15A",
           "#19d3f3",
           "#FF6692",
           "#B6E880",
           "#FF97FF",
           "#FECB52"
          ],
          "font": {
           "color": "#2a3f5f"
          },
          "geo": {
           "bgcolor": "white",
           "lakecolor": "white",
           "landcolor": "#E5ECF6",
           "showlakes": true,
           "showland": true,
           "subunitcolor": "white"
          },
          "hoverlabel": {
           "align": "left"
          },
          "hovermode": "closest",
          "mapbox": {
           "style": "light"
          },
          "paper_bgcolor": "white",
          "plot_bgcolor": "#E5ECF6",
          "polar": {
           "angularaxis": {
            "gridcolor": "white",
            "linecolor": "white",
            "ticks": ""
           },
           "bgcolor": "#E5ECF6",
           "radialaxis": {
            "gridcolor": "white",
            "linecolor": "white",
            "ticks": ""
           }
          },
          "scene": {
           "xaxis": {
            "backgroundcolor": "#E5ECF6",
            "gridcolor": "white",
            "gridwidth": 2,
            "linecolor": "white",
            "showbackground": true,
            "ticks": "",
            "zerolinecolor": "white"
           },
           "yaxis": {
            "backgroundcolor": "#E5ECF6",
            "gridcolor": "white",
            "gridwidth": 2,
            "linecolor": "white",
            "showbackground": true,
            "ticks": "",
            "zerolinecolor": "white"
           },
           "zaxis": {
            "backgroundcolor": "#E5ECF6",
            "gridcolor": "white",
            "gridwidth": 2,
            "linecolor": "white",
            "showbackground": true,
            "ticks": "",
            "zerolinecolor": "white"
           }
          },
          "shapedefaults": {
           "line": {
            "color": "#2a3f5f"
           }
          },
          "ternary": {
           "aaxis": {
            "gridcolor": "white",
            "linecolor": "white",
            "ticks": ""
           },
           "baxis": {
            "gridcolor": "white",
            "linecolor": "white",
            "ticks": ""
           },
           "bgcolor": "#E5ECF6",
           "caxis": {
            "gridcolor": "white",
            "linecolor": "white",
            "ticks": ""
           }
          },
          "title": {
           "x": 0.05
          },
          "xaxis": {
           "automargin": true,
           "gridcolor": "white",
           "linecolor": "white",
           "ticks": "",
           "title": {
            "standoff": 15
           },
           "zerolinecolor": "white",
           "zerolinewidth": 2
          },
          "yaxis": {
           "automargin": true,
           "gridcolor": "white",
           "linecolor": "white",
           "ticks": "",
           "title": {
            "standoff": 15
           },
           "zerolinecolor": "white",
           "zerolinewidth": 2
          }
         }
        },
        "title": {
         "font": {
          "color": "#4D5663"
         }
        },
        "xaxis": {
         "gridcolor": "#E1E5ED",
         "showgrid": true,
         "tickfont": {
          "color": "#4D5663"
         },
         "title": {
          "font": {
           "color": "#4D5663"
          },
          "text": ""
         },
         "zerolinecolor": "#E1E5ED"
        },
        "yaxis": {
         "gridcolor": "#E1E5ED",
         "showgrid": true,
         "tickfont": {
          "color": "#4D5663"
         },
         "title": {
          "font": {
           "color": "#4D5663"
          },
          "text": ""
         },
         "zerolinecolor": "#E1E5ED"
        }
       }
      },
      "text/html": [
       "<div>                            <div id=\"533b8d4f-9ff0-4772-a0e4-6a1013058f3a\" class=\"plotly-graph-div\" style=\"height:525px; width:100%;\"></div>            <script type=\"text/javascript\">                require([\"plotly\"], function(Plotly) {                    window.PLOTLYENV=window.PLOTLYENV || {};\n",
       "                    window.PLOTLYENV.BASE_URL='https://plot.ly';                                    if (document.getElementById(\"533b8d4f-9ff0-4772-a0e4-6a1013058f3a\")) {                    Plotly.newPlot(                        \"533b8d4f-9ff0-4772-a0e4-6a1013058f3a\",                        [{\"marker\":{\"color\":\"rgba(255, 153, 51, 0.6)\",\"line\":{\"color\":\"rgba(255, 153, 51, 1.0)\",\"width\":1}},\"name\":\"None\",\"orientation\":\"v\",\"text\":\"\",\"x\":[\"A\",\"B\",\"C\",\"D\"],\"y\":[100,100,100,100],\"type\":\"bar\"}],                        {\"legend\":{\"bgcolor\":\"#F5F6F9\",\"font\":{\"color\":\"#4D5663\"}},\"paper_bgcolor\":\"#F5F6F9\",\"plot_bgcolor\":\"#F5F6F9\",\"template\":{\"data\":{\"barpolar\":[{\"marker\":{\"line\":{\"color\":\"#E5ECF6\",\"width\":0.5},\"pattern\":{\"fillmode\":\"overlay\",\"size\":10,\"solidity\":0.2}},\"type\":\"barpolar\"}],\"bar\":[{\"error_x\":{\"color\":\"#2a3f5f\"},\"error_y\":{\"color\":\"#2a3f5f\"},\"marker\":{\"line\":{\"color\":\"#E5ECF6\",\"width\":0.5},\"pattern\":{\"fillmode\":\"overlay\",\"size\":10,\"solidity\":0.2}},\"type\":\"bar\"}],\"carpet\":[{\"aaxis\":{\"endlinecolor\":\"#2a3f5f\",\"gridcolor\":\"white\",\"linecolor\":\"white\",\"minorgridcolor\":\"white\",\"startlinecolor\":\"#2a3f5f\"},\"baxis\":{\"endlinecolor\":\"#2a3f5f\",\"gridcolor\":\"white\",\"linecolor\":\"white\",\"minorgridcolor\":\"white\",\"startlinecolor\":\"#2a3f5f\"},\"type\":\"carpet\"}],\"choropleth\":[{\"colorbar\":{\"outlinewidth\":0,\"ticks\":\"\"},\"type\":\"choropleth\"}],\"contourcarpet\":[{\"colorbar\":{\"outlinewidth\":0,\"ticks\":\"\"},\"type\":\"contourcarpet\"}],\"contour\":[{\"colorbar\":{\"outlinewidth\":0,\"ticks\":\"\"},\"colorscale\":[[0.0,\"#0d0887\"],[0.1111111111111111,\"#46039f\"],[0.2222222222222222,\"#7201a8\"],[0.3333333333333333,\"#9c179e\"],[0.4444444444444444,\"#bd3786\"],[0.5555555555555556,\"#d8576b\"],[0.6666666666666666,\"#ed7953\"],[0.7777777777777778,\"#fb9f3a\"],[0.8888888888888888,\"#fdca26\"],[1.0,\"#f0f921\"]],\"type\":\"contour\"}],\"heatmapgl\":[{\"colorbar\":{\"outlinewidth\":0,\"ticks\":\"\"},\"colorscale\":[[0.0,\"#0d0887\"],[0.1111111111111111,\"#46039f\"],[0.2222222222222222,\"#7201a8\"],[0.3333333333333333,\"#9c179e\"],[0.4444444444444444,\"#bd3786\"],[0.5555555555555556,\"#d8576b\"],[0.6666666666666666,\"#ed7953\"],[0.7777777777777778,\"#fb9f3a\"],[0.8888888888888888,\"#fdca26\"],[1.0,\"#f0f921\"]],\"type\":\"heatmapgl\"}],\"heatmap\":[{\"colorbar\":{\"outlinewidth\":0,\"ticks\":\"\"},\"colorscale\":[[0.0,\"#0d0887\"],[0.1111111111111111,\"#46039f\"],[0.2222222222222222,\"#7201a8\"],[0.3333333333333333,\"#9c179e\"],[0.4444444444444444,\"#bd3786\"],[0.5555555555555556,\"#d8576b\"],[0.6666666666666666,\"#ed7953\"],[0.7777777777777778,\"#fb9f3a\"],[0.8888888888888888,\"#fdca26\"],[1.0,\"#f0f921\"]],\"type\":\"heatmap\"}],\"histogram2dcontour\":[{\"colorbar\":{\"outlinewidth\":0,\"ticks\":\"\"},\"colorscale\":[[0.0,\"#0d0887\"],[0.1111111111111111,\"#46039f\"],[0.2222222222222222,\"#7201a8\"],[0.3333333333333333,\"#9c179e\"],[0.4444444444444444,\"#bd3786\"],[0.5555555555555556,\"#d8576b\"],[0.6666666666666666,\"#ed7953\"],[0.7777777777777778,\"#fb9f3a\"],[0.8888888888888888,\"#fdca26\"],[1.0,\"#f0f921\"]],\"type\":\"histogram2dcontour\"}],\"histogram2d\":[{\"colorbar\":{\"outlinewidth\":0,\"ticks\":\"\"},\"colorscale\":[[0.0,\"#0d0887\"],[0.1111111111111111,\"#46039f\"],[0.2222222222222222,\"#7201a8\"],[0.3333333333333333,\"#9c179e\"],[0.4444444444444444,\"#bd3786\"],[0.5555555555555556,\"#d8576b\"],[0.6666666666666666,\"#ed7953\"],[0.7777777777777778,\"#fb9f3a\"],[0.8888888888888888,\"#fdca26\"],[1.0,\"#f0f921\"]],\"type\":\"histogram2d\"}],\"histogram\":[{\"marker\":{\"pattern\":{\"fillmode\":\"overlay\",\"size\":10,\"solidity\":0.2}},\"type\":\"histogram\"}],\"mesh3d\":[{\"colorbar\":{\"outlinewidth\":0,\"ticks\":\"\"},\"type\":\"mesh3d\"}],\"parcoords\":[{\"line\":{\"colorbar\":{\"outlinewidth\":0,\"ticks\":\"\"}},\"type\":\"parcoords\"}],\"pie\":[{\"automargin\":true,\"type\":\"pie\"}],\"scatter3d\":[{\"line\":{\"colorbar\":{\"outlinewidth\":0,\"ticks\":\"\"}},\"marker\":{\"colorbar\":{\"outlinewidth\":0,\"ticks\":\"\"}},\"type\":\"scatter3d\"}],\"scattercarpet\":[{\"marker\":{\"colorbar\":{\"outlinewidth\":0,\"ticks\":\"\"}},\"type\":\"scattercarpet\"}],\"scattergeo\":[{\"marker\":{\"colorbar\":{\"outlinewidth\":0,\"ticks\":\"\"}},\"type\":\"scattergeo\"}],\"scattergl\":[{\"marker\":{\"colorbar\":{\"outlinewidth\":0,\"ticks\":\"\"}},\"type\":\"scattergl\"}],\"scattermapbox\":[{\"marker\":{\"colorbar\":{\"outlinewidth\":0,\"ticks\":\"\"}},\"type\":\"scattermapbox\"}],\"scatterpolargl\":[{\"marker\":{\"colorbar\":{\"outlinewidth\":0,\"ticks\":\"\"}},\"type\":\"scatterpolargl\"}],\"scatterpolar\":[{\"marker\":{\"colorbar\":{\"outlinewidth\":0,\"ticks\":\"\"}},\"type\":\"scatterpolar\"}],\"scatter\":[{\"marker\":{\"colorbar\":{\"outlinewidth\":0,\"ticks\":\"\"}},\"type\":\"scatter\"}],\"scatterternary\":[{\"marker\":{\"colorbar\":{\"outlinewidth\":0,\"ticks\":\"\"}},\"type\":\"scatterternary\"}],\"surface\":[{\"colorbar\":{\"outlinewidth\":0,\"ticks\":\"\"},\"colorscale\":[[0.0,\"#0d0887\"],[0.1111111111111111,\"#46039f\"],[0.2222222222222222,\"#7201a8\"],[0.3333333333333333,\"#9c179e\"],[0.4444444444444444,\"#bd3786\"],[0.5555555555555556,\"#d8576b\"],[0.6666666666666666,\"#ed7953\"],[0.7777777777777778,\"#fb9f3a\"],[0.8888888888888888,\"#fdca26\"],[1.0,\"#f0f921\"]],\"type\":\"surface\"}],\"table\":[{\"cells\":{\"fill\":{\"color\":\"#EBF0F8\"},\"line\":{\"color\":\"white\"}},\"header\":{\"fill\":{\"color\":\"#C8D4E3\"},\"line\":{\"color\":\"white\"}},\"type\":\"table\"}]},\"layout\":{\"annotationdefaults\":{\"arrowcolor\":\"#2a3f5f\",\"arrowhead\":0,\"arrowwidth\":1},\"autotypenumbers\":\"strict\",\"coloraxis\":{\"colorbar\":{\"outlinewidth\":0,\"ticks\":\"\"}},\"colorscale\":{\"diverging\":[[0,\"#8e0152\"],[0.1,\"#c51b7d\"],[0.2,\"#de77ae\"],[0.3,\"#f1b6da\"],[0.4,\"#fde0ef\"],[0.5,\"#f7f7f7\"],[0.6,\"#e6f5d0\"],[0.7,\"#b8e186\"],[0.8,\"#7fbc41\"],[0.9,\"#4d9221\"],[1,\"#276419\"]],\"sequential\":[[0.0,\"#0d0887\"],[0.1111111111111111,\"#46039f\"],[0.2222222222222222,\"#7201a8\"],[0.3333333333333333,\"#9c179e\"],[0.4444444444444444,\"#bd3786\"],[0.5555555555555556,\"#d8576b\"],[0.6666666666666666,\"#ed7953\"],[0.7777777777777778,\"#fb9f3a\"],[0.8888888888888888,\"#fdca26\"],[1.0,\"#f0f921\"]],\"sequentialminus\":[[0.0,\"#0d0887\"],[0.1111111111111111,\"#46039f\"],[0.2222222222222222,\"#7201a8\"],[0.3333333333333333,\"#9c179e\"],[0.4444444444444444,\"#bd3786\"],[0.5555555555555556,\"#d8576b\"],[0.6666666666666666,\"#ed7953\"],[0.7777777777777778,\"#fb9f3a\"],[0.8888888888888888,\"#fdca26\"],[1.0,\"#f0f921\"]]},\"colorway\":[\"#636efa\",\"#EF553B\",\"#00cc96\",\"#ab63fa\",\"#FFA15A\",\"#19d3f3\",\"#FF6692\",\"#B6E880\",\"#FF97FF\",\"#FECB52\"],\"font\":{\"color\":\"#2a3f5f\"},\"geo\":{\"bgcolor\":\"white\",\"lakecolor\":\"white\",\"landcolor\":\"#E5ECF6\",\"showlakes\":true,\"showland\":true,\"subunitcolor\":\"white\"},\"hoverlabel\":{\"align\":\"left\"},\"hovermode\":\"closest\",\"mapbox\":{\"style\":\"light\"},\"paper_bgcolor\":\"white\",\"plot_bgcolor\":\"#E5ECF6\",\"polar\":{\"angularaxis\":{\"gridcolor\":\"white\",\"linecolor\":\"white\",\"ticks\":\"\"},\"bgcolor\":\"#E5ECF6\",\"radialaxis\":{\"gridcolor\":\"white\",\"linecolor\":\"white\",\"ticks\":\"\"}},\"scene\":{\"xaxis\":{\"backgroundcolor\":\"#E5ECF6\",\"gridcolor\":\"white\",\"gridwidth\":2,\"linecolor\":\"white\",\"showbackground\":true,\"ticks\":\"\",\"zerolinecolor\":\"white\"},\"yaxis\":{\"backgroundcolor\":\"#E5ECF6\",\"gridcolor\":\"white\",\"gridwidth\":2,\"linecolor\":\"white\",\"showbackground\":true,\"ticks\":\"\",\"zerolinecolor\":\"white\"},\"zaxis\":{\"backgroundcolor\":\"#E5ECF6\",\"gridcolor\":\"white\",\"gridwidth\":2,\"linecolor\":\"white\",\"showbackground\":true,\"ticks\":\"\",\"zerolinecolor\":\"white\"}},\"shapedefaults\":{\"line\":{\"color\":\"#2a3f5f\"}},\"ternary\":{\"aaxis\":{\"gridcolor\":\"white\",\"linecolor\":\"white\",\"ticks\":\"\"},\"baxis\":{\"gridcolor\":\"white\",\"linecolor\":\"white\",\"ticks\":\"\"},\"bgcolor\":\"#E5ECF6\",\"caxis\":{\"gridcolor\":\"white\",\"linecolor\":\"white\",\"ticks\":\"\"}},\"title\":{\"x\":0.05},\"xaxis\":{\"automargin\":true,\"gridcolor\":\"white\",\"linecolor\":\"white\",\"ticks\":\"\",\"title\":{\"standoff\":15},\"zerolinecolor\":\"white\",\"zerolinewidth\":2},\"yaxis\":{\"automargin\":true,\"gridcolor\":\"white\",\"linecolor\":\"white\",\"ticks\":\"\",\"title\":{\"standoff\":15},\"zerolinecolor\":\"white\",\"zerolinewidth\":2}}},\"title\":{\"font\":{\"color\":\"#4D5663\"}},\"xaxis\":{\"gridcolor\":\"#E1E5ED\",\"showgrid\":true,\"tickfont\":{\"color\":\"#4D5663\"},\"title\":{\"font\":{\"color\":\"#4D5663\"},\"text\":\"\"},\"zerolinecolor\":\"#E1E5ED\"},\"yaxis\":{\"gridcolor\":\"#E1E5ED\",\"showgrid\":true,\"tickfont\":{\"color\":\"#4D5663\"},\"title\":{\"font\":{\"color\":\"#4D5663\"},\"text\":\"\"},\"zerolinecolor\":\"#E1E5ED\"}},                        {\"showLink\": true, \"linkText\": \"Export to plot.ly\", \"plotlyServerURL\": \"https://plot.ly\", \"responsive\": true}                    ).then(function(){\n",
       "                            \n",
       "var gd = document.getElementById('533b8d4f-9ff0-4772-a0e4-6a1013058f3a');\n",
       "var x = new MutationObserver(function (mutations, observer) {{\n",
       "        var display = window.getComputedStyle(gd).display;\n",
       "        if (!display || display === 'none') {{\n",
       "            console.log([gd, 'removed!']);\n",
       "            Plotly.purge(gd);\n",
       "            observer.disconnect();\n",
       "        }}\n",
       "}});\n",
       "\n",
       "// Listen for the removal of the full notebook cells\n",
       "var notebookContainer = gd.closest('#notebook-container');\n",
       "if (notebookContainer) {{\n",
       "    x.observe(notebookContainer, {childList: true});\n",
       "}}\n",
       "\n",
       "// Listen for the clearing of the current output cell\n",
       "var outputEl = gd.closest('.output');\n",
       "if (outputEl) {{\n",
       "    x.observe(outputEl, {childList: true});\n",
       "}}\n",
       "\n",
       "                        })                };                });            </script>        </div>"
      ]
     },
     "metadata": {},
     "output_type": "display_data"
    }
   ],
   "source": [
    "df.count().iplot(kind='bar')"
   ]
  },
  {
   "cell_type": "code",
   "execution_count": 61,
   "id": "00810424",
   "metadata": {},
   "outputs": [
    {
     "data": {
      "application/vnd.plotly.v1+json": {
       "config": {
        "linkText": "Export to plot.ly",
        "plotlyServerURL": "https://plot.ly",
        "showLink": true
       },
       "data": [
        {
         "marker": {
          "color": "rgba(255, 153, 51, 0.6)",
          "line": {
           "color": "rgba(255, 153, 51, 1.0)",
           "width": 1
          }
         },
         "name": "None",
         "orientation": "v",
         "text": "",
         "type": "bar",
         "x": [
          "A",
          "B",
          "C",
          "D"
         ],
         "y": [
          1.1716234867492306,
          13.735637677419595,
          10.81632206304128,
          -0.541892306948946
         ]
        }
       ],
       "layout": {
        "legend": {
         "bgcolor": "#F5F6F9",
         "font": {
          "color": "#4D5663"
         }
        },
        "paper_bgcolor": "#F5F6F9",
        "plot_bgcolor": "#F5F6F9",
        "template": {
         "data": {
          "bar": [
           {
            "error_x": {
             "color": "#2a3f5f"
            },
            "error_y": {
             "color": "#2a3f5f"
            },
            "marker": {
             "line": {
              "color": "#E5ECF6",
              "width": 0.5
             },
             "pattern": {
              "fillmode": "overlay",
              "size": 10,
              "solidity": 0.2
             }
            },
            "type": "bar"
           }
          ],
          "barpolar": [
           {
            "marker": {
             "line": {
              "color": "#E5ECF6",
              "width": 0.5
             },
             "pattern": {
              "fillmode": "overlay",
              "size": 10,
              "solidity": 0.2
             }
            },
            "type": "barpolar"
           }
          ],
          "carpet": [
           {
            "aaxis": {
             "endlinecolor": "#2a3f5f",
             "gridcolor": "white",
             "linecolor": "white",
             "minorgridcolor": "white",
             "startlinecolor": "#2a3f5f"
            },
            "baxis": {
             "endlinecolor": "#2a3f5f",
             "gridcolor": "white",
             "linecolor": "white",
             "minorgridcolor": "white",
             "startlinecolor": "#2a3f5f"
            },
            "type": "carpet"
           }
          ],
          "choropleth": [
           {
            "colorbar": {
             "outlinewidth": 0,
             "ticks": ""
            },
            "type": "choropleth"
           }
          ],
          "contour": [
           {
            "colorbar": {
             "outlinewidth": 0,
             "ticks": ""
            },
            "colorscale": [
             [
              0,
              "#0d0887"
             ],
             [
              0.1111111111111111,
              "#46039f"
             ],
             [
              0.2222222222222222,
              "#7201a8"
             ],
             [
              0.3333333333333333,
              "#9c179e"
             ],
             [
              0.4444444444444444,
              "#bd3786"
             ],
             [
              0.5555555555555556,
              "#d8576b"
             ],
             [
              0.6666666666666666,
              "#ed7953"
             ],
             [
              0.7777777777777778,
              "#fb9f3a"
             ],
             [
              0.8888888888888888,
              "#fdca26"
             ],
             [
              1,
              "#f0f921"
             ]
            ],
            "type": "contour"
           }
          ],
          "contourcarpet": [
           {
            "colorbar": {
             "outlinewidth": 0,
             "ticks": ""
            },
            "type": "contourcarpet"
           }
          ],
          "heatmap": [
           {
            "colorbar": {
             "outlinewidth": 0,
             "ticks": ""
            },
            "colorscale": [
             [
              0,
              "#0d0887"
             ],
             [
              0.1111111111111111,
              "#46039f"
             ],
             [
              0.2222222222222222,
              "#7201a8"
             ],
             [
              0.3333333333333333,
              "#9c179e"
             ],
             [
              0.4444444444444444,
              "#bd3786"
             ],
             [
              0.5555555555555556,
              "#d8576b"
             ],
             [
              0.6666666666666666,
              "#ed7953"
             ],
             [
              0.7777777777777778,
              "#fb9f3a"
             ],
             [
              0.8888888888888888,
              "#fdca26"
             ],
             [
              1,
              "#f0f921"
             ]
            ],
            "type": "heatmap"
           }
          ],
          "heatmapgl": [
           {
            "colorbar": {
             "outlinewidth": 0,
             "ticks": ""
            },
            "colorscale": [
             [
              0,
              "#0d0887"
             ],
             [
              0.1111111111111111,
              "#46039f"
             ],
             [
              0.2222222222222222,
              "#7201a8"
             ],
             [
              0.3333333333333333,
              "#9c179e"
             ],
             [
              0.4444444444444444,
              "#bd3786"
             ],
             [
              0.5555555555555556,
              "#d8576b"
             ],
             [
              0.6666666666666666,
              "#ed7953"
             ],
             [
              0.7777777777777778,
              "#fb9f3a"
             ],
             [
              0.8888888888888888,
              "#fdca26"
             ],
             [
              1,
              "#f0f921"
             ]
            ],
            "type": "heatmapgl"
           }
          ],
          "histogram": [
           {
            "marker": {
             "pattern": {
              "fillmode": "overlay",
              "size": 10,
              "solidity": 0.2
             }
            },
            "type": "histogram"
           }
          ],
          "histogram2d": [
           {
            "colorbar": {
             "outlinewidth": 0,
             "ticks": ""
            },
            "colorscale": [
             [
              0,
              "#0d0887"
             ],
             [
              0.1111111111111111,
              "#46039f"
             ],
             [
              0.2222222222222222,
              "#7201a8"
             ],
             [
              0.3333333333333333,
              "#9c179e"
             ],
             [
              0.4444444444444444,
              "#bd3786"
             ],
             [
              0.5555555555555556,
              "#d8576b"
             ],
             [
              0.6666666666666666,
              "#ed7953"
             ],
             [
              0.7777777777777778,
              "#fb9f3a"
             ],
             [
              0.8888888888888888,
              "#fdca26"
             ],
             [
              1,
              "#f0f921"
             ]
            ],
            "type": "histogram2d"
           }
          ],
          "histogram2dcontour": [
           {
            "colorbar": {
             "outlinewidth": 0,
             "ticks": ""
            },
            "colorscale": [
             [
              0,
              "#0d0887"
             ],
             [
              0.1111111111111111,
              "#46039f"
             ],
             [
              0.2222222222222222,
              "#7201a8"
             ],
             [
              0.3333333333333333,
              "#9c179e"
             ],
             [
              0.4444444444444444,
              "#bd3786"
             ],
             [
              0.5555555555555556,
              "#d8576b"
             ],
             [
              0.6666666666666666,
              "#ed7953"
             ],
             [
              0.7777777777777778,
              "#fb9f3a"
             ],
             [
              0.8888888888888888,
              "#fdca26"
             ],
             [
              1,
              "#f0f921"
             ]
            ],
            "type": "histogram2dcontour"
           }
          ],
          "mesh3d": [
           {
            "colorbar": {
             "outlinewidth": 0,
             "ticks": ""
            },
            "type": "mesh3d"
           }
          ],
          "parcoords": [
           {
            "line": {
             "colorbar": {
              "outlinewidth": 0,
              "ticks": ""
             }
            },
            "type": "parcoords"
           }
          ],
          "pie": [
           {
            "automargin": true,
            "type": "pie"
           }
          ],
          "scatter": [
           {
            "marker": {
             "colorbar": {
              "outlinewidth": 0,
              "ticks": ""
             }
            },
            "type": "scatter"
           }
          ],
          "scatter3d": [
           {
            "line": {
             "colorbar": {
              "outlinewidth": 0,
              "ticks": ""
             }
            },
            "marker": {
             "colorbar": {
              "outlinewidth": 0,
              "ticks": ""
             }
            },
            "type": "scatter3d"
           }
          ],
          "scattercarpet": [
           {
            "marker": {
             "colorbar": {
              "outlinewidth": 0,
              "ticks": ""
             }
            },
            "type": "scattercarpet"
           }
          ],
          "scattergeo": [
           {
            "marker": {
             "colorbar": {
              "outlinewidth": 0,
              "ticks": ""
             }
            },
            "type": "scattergeo"
           }
          ],
          "scattergl": [
           {
            "marker": {
             "colorbar": {
              "outlinewidth": 0,
              "ticks": ""
             }
            },
            "type": "scattergl"
           }
          ],
          "scattermapbox": [
           {
            "marker": {
             "colorbar": {
              "outlinewidth": 0,
              "ticks": ""
             }
            },
            "type": "scattermapbox"
           }
          ],
          "scatterpolar": [
           {
            "marker": {
             "colorbar": {
              "outlinewidth": 0,
              "ticks": ""
             }
            },
            "type": "scatterpolar"
           }
          ],
          "scatterpolargl": [
           {
            "marker": {
             "colorbar": {
              "outlinewidth": 0,
              "ticks": ""
             }
            },
            "type": "scatterpolargl"
           }
          ],
          "scatterternary": [
           {
            "marker": {
             "colorbar": {
              "outlinewidth": 0,
              "ticks": ""
             }
            },
            "type": "scatterternary"
           }
          ],
          "surface": [
           {
            "colorbar": {
             "outlinewidth": 0,
             "ticks": ""
            },
            "colorscale": [
             [
              0,
              "#0d0887"
             ],
             [
              0.1111111111111111,
              "#46039f"
             ],
             [
              0.2222222222222222,
              "#7201a8"
             ],
             [
              0.3333333333333333,
              "#9c179e"
             ],
             [
              0.4444444444444444,
              "#bd3786"
             ],
             [
              0.5555555555555556,
              "#d8576b"
             ],
             [
              0.6666666666666666,
              "#ed7953"
             ],
             [
              0.7777777777777778,
              "#fb9f3a"
             ],
             [
              0.8888888888888888,
              "#fdca26"
             ],
             [
              1,
              "#f0f921"
             ]
            ],
            "type": "surface"
           }
          ],
          "table": [
           {
            "cells": {
             "fill": {
              "color": "#EBF0F8"
             },
             "line": {
              "color": "white"
             }
            },
            "header": {
             "fill": {
              "color": "#C8D4E3"
             },
             "line": {
              "color": "white"
             }
            },
            "type": "table"
           }
          ]
         },
         "layout": {
          "annotationdefaults": {
           "arrowcolor": "#2a3f5f",
           "arrowhead": 0,
           "arrowwidth": 1
          },
          "autotypenumbers": "strict",
          "coloraxis": {
           "colorbar": {
            "outlinewidth": 0,
            "ticks": ""
           }
          },
          "colorscale": {
           "diverging": [
            [
             0,
             "#8e0152"
            ],
            [
             0.1,
             "#c51b7d"
            ],
            [
             0.2,
             "#de77ae"
            ],
            [
             0.3,
             "#f1b6da"
            ],
            [
             0.4,
             "#fde0ef"
            ],
            [
             0.5,
             "#f7f7f7"
            ],
            [
             0.6,
             "#e6f5d0"
            ],
            [
             0.7,
             "#b8e186"
            ],
            [
             0.8,
             "#7fbc41"
            ],
            [
             0.9,
             "#4d9221"
            ],
            [
             1,
             "#276419"
            ]
           ],
           "sequential": [
            [
             0,
             "#0d0887"
            ],
            [
             0.1111111111111111,
             "#46039f"
            ],
            [
             0.2222222222222222,
             "#7201a8"
            ],
            [
             0.3333333333333333,
             "#9c179e"
            ],
            [
             0.4444444444444444,
             "#bd3786"
            ],
            [
             0.5555555555555556,
             "#d8576b"
            ],
            [
             0.6666666666666666,
             "#ed7953"
            ],
            [
             0.7777777777777778,
             "#fb9f3a"
            ],
            [
             0.8888888888888888,
             "#fdca26"
            ],
            [
             1,
             "#f0f921"
            ]
           ],
           "sequentialminus": [
            [
             0,
             "#0d0887"
            ],
            [
             0.1111111111111111,
             "#46039f"
            ],
            [
             0.2222222222222222,
             "#7201a8"
            ],
            [
             0.3333333333333333,
             "#9c179e"
            ],
            [
             0.4444444444444444,
             "#bd3786"
            ],
            [
             0.5555555555555556,
             "#d8576b"
            ],
            [
             0.6666666666666666,
             "#ed7953"
            ],
            [
             0.7777777777777778,
             "#fb9f3a"
            ],
            [
             0.8888888888888888,
             "#fdca26"
            ],
            [
             1,
             "#f0f921"
            ]
           ]
          },
          "colorway": [
           "#636efa",
           "#EF553B",
           "#00cc96",
           "#ab63fa",
           "#FFA15A",
           "#19d3f3",
           "#FF6692",
           "#B6E880",
           "#FF97FF",
           "#FECB52"
          ],
          "font": {
           "color": "#2a3f5f"
          },
          "geo": {
           "bgcolor": "white",
           "lakecolor": "white",
           "landcolor": "#E5ECF6",
           "showlakes": true,
           "showland": true,
           "subunitcolor": "white"
          },
          "hoverlabel": {
           "align": "left"
          },
          "hovermode": "closest",
          "mapbox": {
           "style": "light"
          },
          "paper_bgcolor": "white",
          "plot_bgcolor": "#E5ECF6",
          "polar": {
           "angularaxis": {
            "gridcolor": "white",
            "linecolor": "white",
            "ticks": ""
           },
           "bgcolor": "#E5ECF6",
           "radialaxis": {
            "gridcolor": "white",
            "linecolor": "white",
            "ticks": ""
           }
          },
          "scene": {
           "xaxis": {
            "backgroundcolor": "#E5ECF6",
            "gridcolor": "white",
            "gridwidth": 2,
            "linecolor": "white",
            "showbackground": true,
            "ticks": "",
            "zerolinecolor": "white"
           },
           "yaxis": {
            "backgroundcolor": "#E5ECF6",
            "gridcolor": "white",
            "gridwidth": 2,
            "linecolor": "white",
            "showbackground": true,
            "ticks": "",
            "zerolinecolor": "white"
           },
           "zaxis": {
            "backgroundcolor": "#E5ECF6",
            "gridcolor": "white",
            "gridwidth": 2,
            "linecolor": "white",
            "showbackground": true,
            "ticks": "",
            "zerolinecolor": "white"
           }
          },
          "shapedefaults": {
           "line": {
            "color": "#2a3f5f"
           }
          },
          "ternary": {
           "aaxis": {
            "gridcolor": "white",
            "linecolor": "white",
            "ticks": ""
           },
           "baxis": {
            "gridcolor": "white",
            "linecolor": "white",
            "ticks": ""
           },
           "bgcolor": "#E5ECF6",
           "caxis": {
            "gridcolor": "white",
            "linecolor": "white",
            "ticks": ""
           }
          },
          "title": {
           "x": 0.05
          },
          "xaxis": {
           "automargin": true,
           "gridcolor": "white",
           "linecolor": "white",
           "ticks": "",
           "title": {
            "standoff": 15
           },
           "zerolinecolor": "white",
           "zerolinewidth": 2
          },
          "yaxis": {
           "automargin": true,
           "gridcolor": "white",
           "linecolor": "white",
           "ticks": "",
           "title": {
            "standoff": 15
           },
           "zerolinecolor": "white",
           "zerolinewidth": 2
          }
         }
        },
        "title": {
         "font": {
          "color": "#4D5663"
         }
        },
        "xaxis": {
         "gridcolor": "#E1E5ED",
         "showgrid": true,
         "tickfont": {
          "color": "#4D5663"
         },
         "title": {
          "font": {
           "color": "#4D5663"
          },
          "text": ""
         },
         "zerolinecolor": "#E1E5ED"
        },
        "yaxis": {
         "gridcolor": "#E1E5ED",
         "showgrid": true,
         "tickfont": {
          "color": "#4D5663"
         },
         "title": {
          "font": {
           "color": "#4D5663"
          },
          "text": ""
         },
         "zerolinecolor": "#E1E5ED"
        }
       }
      },
      "text/html": [
       "<div>                            <div id=\"15310495-094d-46a7-8e49-fb132a120604\" class=\"plotly-graph-div\" style=\"height:525px; width:100%;\"></div>            <script type=\"text/javascript\">                require([\"plotly\"], function(Plotly) {                    window.PLOTLYENV=window.PLOTLYENV || {};\n",
       "                    window.PLOTLYENV.BASE_URL='https://plot.ly';                                    if (document.getElementById(\"15310495-094d-46a7-8e49-fb132a120604\")) {                    Plotly.newPlot(                        \"15310495-094d-46a7-8e49-fb132a120604\",                        [{\"marker\":{\"color\":\"rgba(255, 153, 51, 0.6)\",\"line\":{\"color\":\"rgba(255, 153, 51, 1.0)\",\"width\":1}},\"name\":\"None\",\"orientation\":\"v\",\"text\":\"\",\"x\":[\"A\",\"B\",\"C\",\"D\"],\"y\":[1.1716234867492306,13.735637677419595,10.81632206304128,-0.541892306948946],\"type\":\"bar\"}],                        {\"legend\":{\"bgcolor\":\"#F5F6F9\",\"font\":{\"color\":\"#4D5663\"}},\"paper_bgcolor\":\"#F5F6F9\",\"plot_bgcolor\":\"#F5F6F9\",\"template\":{\"data\":{\"barpolar\":[{\"marker\":{\"line\":{\"color\":\"#E5ECF6\",\"width\":0.5},\"pattern\":{\"fillmode\":\"overlay\",\"size\":10,\"solidity\":0.2}},\"type\":\"barpolar\"}],\"bar\":[{\"error_x\":{\"color\":\"#2a3f5f\"},\"error_y\":{\"color\":\"#2a3f5f\"},\"marker\":{\"line\":{\"color\":\"#E5ECF6\",\"width\":0.5},\"pattern\":{\"fillmode\":\"overlay\",\"size\":10,\"solidity\":0.2}},\"type\":\"bar\"}],\"carpet\":[{\"aaxis\":{\"endlinecolor\":\"#2a3f5f\",\"gridcolor\":\"white\",\"linecolor\":\"white\",\"minorgridcolor\":\"white\",\"startlinecolor\":\"#2a3f5f\"},\"baxis\":{\"endlinecolor\":\"#2a3f5f\",\"gridcolor\":\"white\",\"linecolor\":\"white\",\"minorgridcolor\":\"white\",\"startlinecolor\":\"#2a3f5f\"},\"type\":\"carpet\"}],\"choropleth\":[{\"colorbar\":{\"outlinewidth\":0,\"ticks\":\"\"},\"type\":\"choropleth\"}],\"contourcarpet\":[{\"colorbar\":{\"outlinewidth\":0,\"ticks\":\"\"},\"type\":\"contourcarpet\"}],\"contour\":[{\"colorbar\":{\"outlinewidth\":0,\"ticks\":\"\"},\"colorscale\":[[0.0,\"#0d0887\"],[0.1111111111111111,\"#46039f\"],[0.2222222222222222,\"#7201a8\"],[0.3333333333333333,\"#9c179e\"],[0.4444444444444444,\"#bd3786\"],[0.5555555555555556,\"#d8576b\"],[0.6666666666666666,\"#ed7953\"],[0.7777777777777778,\"#fb9f3a\"],[0.8888888888888888,\"#fdca26\"],[1.0,\"#f0f921\"]],\"type\":\"contour\"}],\"heatmapgl\":[{\"colorbar\":{\"outlinewidth\":0,\"ticks\":\"\"},\"colorscale\":[[0.0,\"#0d0887\"],[0.1111111111111111,\"#46039f\"],[0.2222222222222222,\"#7201a8\"],[0.3333333333333333,\"#9c179e\"],[0.4444444444444444,\"#bd3786\"],[0.5555555555555556,\"#d8576b\"],[0.6666666666666666,\"#ed7953\"],[0.7777777777777778,\"#fb9f3a\"],[0.8888888888888888,\"#fdca26\"],[1.0,\"#f0f921\"]],\"type\":\"heatmapgl\"}],\"heatmap\":[{\"colorbar\":{\"outlinewidth\":0,\"ticks\":\"\"},\"colorscale\":[[0.0,\"#0d0887\"],[0.1111111111111111,\"#46039f\"],[0.2222222222222222,\"#7201a8\"],[0.3333333333333333,\"#9c179e\"],[0.4444444444444444,\"#bd3786\"],[0.5555555555555556,\"#d8576b\"],[0.6666666666666666,\"#ed7953\"],[0.7777777777777778,\"#fb9f3a\"],[0.8888888888888888,\"#fdca26\"],[1.0,\"#f0f921\"]],\"type\":\"heatmap\"}],\"histogram2dcontour\":[{\"colorbar\":{\"outlinewidth\":0,\"ticks\":\"\"},\"colorscale\":[[0.0,\"#0d0887\"],[0.1111111111111111,\"#46039f\"],[0.2222222222222222,\"#7201a8\"],[0.3333333333333333,\"#9c179e\"],[0.4444444444444444,\"#bd3786\"],[0.5555555555555556,\"#d8576b\"],[0.6666666666666666,\"#ed7953\"],[0.7777777777777778,\"#fb9f3a\"],[0.8888888888888888,\"#fdca26\"],[1.0,\"#f0f921\"]],\"type\":\"histogram2dcontour\"}],\"histogram2d\":[{\"colorbar\":{\"outlinewidth\":0,\"ticks\":\"\"},\"colorscale\":[[0.0,\"#0d0887\"],[0.1111111111111111,\"#46039f\"],[0.2222222222222222,\"#7201a8\"],[0.3333333333333333,\"#9c179e\"],[0.4444444444444444,\"#bd3786\"],[0.5555555555555556,\"#d8576b\"],[0.6666666666666666,\"#ed7953\"],[0.7777777777777778,\"#fb9f3a\"],[0.8888888888888888,\"#fdca26\"],[1.0,\"#f0f921\"]],\"type\":\"histogram2d\"}],\"histogram\":[{\"marker\":{\"pattern\":{\"fillmode\":\"overlay\",\"size\":10,\"solidity\":0.2}},\"type\":\"histogram\"}],\"mesh3d\":[{\"colorbar\":{\"outlinewidth\":0,\"ticks\":\"\"},\"type\":\"mesh3d\"}],\"parcoords\":[{\"line\":{\"colorbar\":{\"outlinewidth\":0,\"ticks\":\"\"}},\"type\":\"parcoords\"}],\"pie\":[{\"automargin\":true,\"type\":\"pie\"}],\"scatter3d\":[{\"line\":{\"colorbar\":{\"outlinewidth\":0,\"ticks\":\"\"}},\"marker\":{\"colorbar\":{\"outlinewidth\":0,\"ticks\":\"\"}},\"type\":\"scatter3d\"}],\"scattercarpet\":[{\"marker\":{\"colorbar\":{\"outlinewidth\":0,\"ticks\":\"\"}},\"type\":\"scattercarpet\"}],\"scattergeo\":[{\"marker\":{\"colorbar\":{\"outlinewidth\":0,\"ticks\":\"\"}},\"type\":\"scattergeo\"}],\"scattergl\":[{\"marker\":{\"colorbar\":{\"outlinewidth\":0,\"ticks\":\"\"}},\"type\":\"scattergl\"}],\"scattermapbox\":[{\"marker\":{\"colorbar\":{\"outlinewidth\":0,\"ticks\":\"\"}},\"type\":\"scattermapbox\"}],\"scatterpolargl\":[{\"marker\":{\"colorbar\":{\"outlinewidth\":0,\"ticks\":\"\"}},\"type\":\"scatterpolargl\"}],\"scatterpolar\":[{\"marker\":{\"colorbar\":{\"outlinewidth\":0,\"ticks\":\"\"}},\"type\":\"scatterpolar\"}],\"scatter\":[{\"marker\":{\"colorbar\":{\"outlinewidth\":0,\"ticks\":\"\"}},\"type\":\"scatter\"}],\"scatterternary\":[{\"marker\":{\"colorbar\":{\"outlinewidth\":0,\"ticks\":\"\"}},\"type\":\"scatterternary\"}],\"surface\":[{\"colorbar\":{\"outlinewidth\":0,\"ticks\":\"\"},\"colorscale\":[[0.0,\"#0d0887\"],[0.1111111111111111,\"#46039f\"],[0.2222222222222222,\"#7201a8\"],[0.3333333333333333,\"#9c179e\"],[0.4444444444444444,\"#bd3786\"],[0.5555555555555556,\"#d8576b\"],[0.6666666666666666,\"#ed7953\"],[0.7777777777777778,\"#fb9f3a\"],[0.8888888888888888,\"#fdca26\"],[1.0,\"#f0f921\"]],\"type\":\"surface\"}],\"table\":[{\"cells\":{\"fill\":{\"color\":\"#EBF0F8\"},\"line\":{\"color\":\"white\"}},\"header\":{\"fill\":{\"color\":\"#C8D4E3\"},\"line\":{\"color\":\"white\"}},\"type\":\"table\"}]},\"layout\":{\"annotationdefaults\":{\"arrowcolor\":\"#2a3f5f\",\"arrowhead\":0,\"arrowwidth\":1},\"autotypenumbers\":\"strict\",\"coloraxis\":{\"colorbar\":{\"outlinewidth\":0,\"ticks\":\"\"}},\"colorscale\":{\"diverging\":[[0,\"#8e0152\"],[0.1,\"#c51b7d\"],[0.2,\"#de77ae\"],[0.3,\"#f1b6da\"],[0.4,\"#fde0ef\"],[0.5,\"#f7f7f7\"],[0.6,\"#e6f5d0\"],[0.7,\"#b8e186\"],[0.8,\"#7fbc41\"],[0.9,\"#4d9221\"],[1,\"#276419\"]],\"sequential\":[[0.0,\"#0d0887\"],[0.1111111111111111,\"#46039f\"],[0.2222222222222222,\"#7201a8\"],[0.3333333333333333,\"#9c179e\"],[0.4444444444444444,\"#bd3786\"],[0.5555555555555556,\"#d8576b\"],[0.6666666666666666,\"#ed7953\"],[0.7777777777777778,\"#fb9f3a\"],[0.8888888888888888,\"#fdca26\"],[1.0,\"#f0f921\"]],\"sequentialminus\":[[0.0,\"#0d0887\"],[0.1111111111111111,\"#46039f\"],[0.2222222222222222,\"#7201a8\"],[0.3333333333333333,\"#9c179e\"],[0.4444444444444444,\"#bd3786\"],[0.5555555555555556,\"#d8576b\"],[0.6666666666666666,\"#ed7953\"],[0.7777777777777778,\"#fb9f3a\"],[0.8888888888888888,\"#fdca26\"],[1.0,\"#f0f921\"]]},\"colorway\":[\"#636efa\",\"#EF553B\",\"#00cc96\",\"#ab63fa\",\"#FFA15A\",\"#19d3f3\",\"#FF6692\",\"#B6E880\",\"#FF97FF\",\"#FECB52\"],\"font\":{\"color\":\"#2a3f5f\"},\"geo\":{\"bgcolor\":\"white\",\"lakecolor\":\"white\",\"landcolor\":\"#E5ECF6\",\"showlakes\":true,\"showland\":true,\"subunitcolor\":\"white\"},\"hoverlabel\":{\"align\":\"left\"},\"hovermode\":\"closest\",\"mapbox\":{\"style\":\"light\"},\"paper_bgcolor\":\"white\",\"plot_bgcolor\":\"#E5ECF6\",\"polar\":{\"angularaxis\":{\"gridcolor\":\"white\",\"linecolor\":\"white\",\"ticks\":\"\"},\"bgcolor\":\"#E5ECF6\",\"radialaxis\":{\"gridcolor\":\"white\",\"linecolor\":\"white\",\"ticks\":\"\"}},\"scene\":{\"xaxis\":{\"backgroundcolor\":\"#E5ECF6\",\"gridcolor\":\"white\",\"gridwidth\":2,\"linecolor\":\"white\",\"showbackground\":true,\"ticks\":\"\",\"zerolinecolor\":\"white\"},\"yaxis\":{\"backgroundcolor\":\"#E5ECF6\",\"gridcolor\":\"white\",\"gridwidth\":2,\"linecolor\":\"white\",\"showbackground\":true,\"ticks\":\"\",\"zerolinecolor\":\"white\"},\"zaxis\":{\"backgroundcolor\":\"#E5ECF6\",\"gridcolor\":\"white\",\"gridwidth\":2,\"linecolor\":\"white\",\"showbackground\":true,\"ticks\":\"\",\"zerolinecolor\":\"white\"}},\"shapedefaults\":{\"line\":{\"color\":\"#2a3f5f\"}},\"ternary\":{\"aaxis\":{\"gridcolor\":\"white\",\"linecolor\":\"white\",\"ticks\":\"\"},\"baxis\":{\"gridcolor\":\"white\",\"linecolor\":\"white\",\"ticks\":\"\"},\"bgcolor\":\"#E5ECF6\",\"caxis\":{\"gridcolor\":\"white\",\"linecolor\":\"white\",\"ticks\":\"\"}},\"title\":{\"x\":0.05},\"xaxis\":{\"automargin\":true,\"gridcolor\":\"white\",\"linecolor\":\"white\",\"ticks\":\"\",\"title\":{\"standoff\":15},\"zerolinecolor\":\"white\",\"zerolinewidth\":2},\"yaxis\":{\"automargin\":true,\"gridcolor\":\"white\",\"linecolor\":\"white\",\"ticks\":\"\",\"title\":{\"standoff\":15},\"zerolinecolor\":\"white\",\"zerolinewidth\":2}}},\"title\":{\"font\":{\"color\":\"#4D5663\"}},\"xaxis\":{\"gridcolor\":\"#E1E5ED\",\"showgrid\":true,\"tickfont\":{\"color\":\"#4D5663\"},\"title\":{\"font\":{\"color\":\"#4D5663\"},\"text\":\"\"},\"zerolinecolor\":\"#E1E5ED\"},\"yaxis\":{\"gridcolor\":\"#E1E5ED\",\"showgrid\":true,\"tickfont\":{\"color\":\"#4D5663\"},\"title\":{\"font\":{\"color\":\"#4D5663\"},\"text\":\"\"},\"zerolinecolor\":\"#E1E5ED\"}},                        {\"showLink\": true, \"linkText\": \"Export to plot.ly\", \"plotlyServerURL\": \"https://plot.ly\", \"responsive\": true}                    ).then(function(){\n",
       "                            \n",
       "var gd = document.getElementById('15310495-094d-46a7-8e49-fb132a120604');\n",
       "var x = new MutationObserver(function (mutations, observer) {{\n",
       "        var display = window.getComputedStyle(gd).display;\n",
       "        if (!display || display === 'none') {{\n",
       "            console.log([gd, 'removed!']);\n",
       "            Plotly.purge(gd);\n",
       "            observer.disconnect();\n",
       "        }}\n",
       "}});\n",
       "\n",
       "// Listen for the removal of the full notebook cells\n",
       "var notebookContainer = gd.closest('#notebook-container');\n",
       "if (notebookContainer) {{\n",
       "    x.observe(notebookContainer, {childList: true});\n",
       "}}\n",
       "\n",
       "// Listen for the clearing of the current output cell\n",
       "var outputEl = gd.closest('.output');\n",
       "if (outputEl) {{\n",
       "    x.observe(outputEl, {childList: true});\n",
       "}}\n",
       "\n",
       "                        })                };                });            </script>        </div>"
      ]
     },
     "metadata": {},
     "output_type": "display_data"
    }
   ],
   "source": [
    "df.sum().iplot(kind='bar')"
   ]
  },
  {
   "cell_type": "code",
   "execution_count": 62,
   "id": "5e2cdfc0",
   "metadata": {},
   "outputs": [
    {
     "data": {
      "application/vnd.plotly.v1+json": {
       "config": {
        "linkText": "Export to plot.ly",
        "plotlyServerURL": "https://plot.ly",
        "showLink": true
       },
       "data": [
        {
         "boxpoints": false,
         "line": {
          "width": 1.3
         },
         "marker": {
          "color": "rgba(255, 153, 51, 1.0)"
         },
         "name": "A",
         "orientation": "v",
         "type": "box",
         "y": [
          0.004623521176124493,
          0.16281569506746615,
          1.4224425740072002,
          1.0465883726312297,
          1.1842576898475108,
          -0.9430017076288162,
          -0.6085150350497329,
          0.8327710604567566,
          0.7349610260402549,
          -0.2490841883443285,
          0.2219721971076617,
          -1.2381344162131944,
          0.2422425588075395,
          0.6651871185074474,
          0.08648920725692612,
          1.0069096722828492,
          0.5135885685395674,
          1.2510550806883736,
          -1.0764907866006002,
          1.5131900701575884,
          -0.21516214636280803,
          -0.9908219512508374,
          -0.48304635726610295,
          -0.3309062206065575,
          -0.5997402907722839,
          -0.2226520133817669,
          -0.09223681807908718,
          -0.9320599965705885,
          -0.6146119575534867,
          -1.8405985217209972,
          -0.07196636464122422,
          -1.1917272842793725,
          -0.1212696899713353,
          0.41431577966805777,
          1.1104672706779055,
          -0.9576385942121362,
          -0.06294522738310888,
          -0.207259397445168,
          -1.0449588125891485,
          0.7724106256129741,
          0.09848545584616183,
          -1.855603203676661,
          -0.19908444045357243,
          0.8807303289230828,
          -0.6436409911582044,
          -1.2394950322721574,
          -0.5333903959015579,
          0.08113009265143066,
          0.3121856933497823,
          -1.6231237399849323,
          0.4262435294386619,
          -0.5754254419012534,
          1.472988451795054,
          -0.48801630030810406,
          0.31591838578850046,
          -0.20911915762697417,
          0.513052823155541,
          -0.894640737393719,
          0.11303368243634235,
          0.08126390492515637,
          0.8265265186825116,
          1.5199902351604946,
          0.20409263911347916,
          -0.549468299736583,
          1.6351857717316323,
          -1.3272902155743422,
          0.3882066558678317,
          0.3584136011973048,
          2.315912702942067,
          1.104337817545148,
          0.33035701635016934,
          -1.2452283168205998,
          -0.5958689580863932,
          -0.06441653627456218,
          0.5647656230700507,
          0.9987758735688422,
          -0.141260329807457,
          -0.5973353039913025,
          0.4786330161546429,
          0.5501368588768211,
          0.8511598466974138,
          0.3742405334903403,
          -0.30177615255004636,
          1.7609112031453364,
          -0.24623366538207506,
          -0.014729716842070764,
          -2.121790882536806,
          -1.3267770846391103,
          -0.8570527379474144,
          -0.24849451967740438,
          -0.22805041501320314,
          0.527751794561854,
          1.3824145693759025,
          0.748002990817415,
          -1.216462277265814,
          -0.590361800281665,
          -1.3125371550384277,
          0.6182744698313806,
          0.05728572122844015,
          1.4364291765621007
         ]
        },
        {
         "boxpoints": false,
         "line": {
          "width": 1.3
         },
         "marker": {
          "color": "rgba(55, 128, 191, 1.0)"
         },
         "name": "B",
         "orientation": "v",
         "type": "box",
         "y": [
          -1.1685508459194196,
          -1.5678017169000267,
          0.7870096262915491,
          -0.8629018468596408,
          -0.4857063865991016,
          -1.2626627412225944,
          1.2373205481923955,
          -0.48136229667102254,
          -0.4841128843538882,
          2.2915504567809273,
          -1.8664420703542837,
          -0.3822593347390874,
          -1.5464233121595794,
          0.8960317044216001,
          1.3738712750986215,
          1.3667016898736501,
          0.5931001857431492,
          -0.13608533179952403,
          -0.5226691150373612,
          0.9141181315239653,
          0.49588820121766547,
          0.7033452801787391,
          2.4161083229749805,
          0.9857082531792529,
          -0.5962036008775079,
          -2.3054551237669423,
          0.4595523549181218,
          2.1584557914506686,
          -0.21623673210559943,
          1.0268827658340507,
          -0.187361346602335,
          0.5586823673587367,
          -0.1425368574028095,
          0.47553084882931335,
          -0.8580278596709993,
          -1.3840740509849458,
          1.9078167471910268,
          -1.9298295674593051,
          0.4677649023118192,
          -0.6407645824728198,
          -0.20067105431129048,
          0.4535733758491212,
          -1.1594832090728682,
          -0.09834601975589295,
          -1.6057415274987874,
          -0.02923005850628262,
          1.0665687194053277,
          0.031731913806326804,
          1.6100699600708939,
          1.170010139117584,
          -1.3106350714837576,
          0.1503924243963787,
          -1.3108968820881353,
          -0.9241700441770824,
          0.5538224449867233,
          0.3999246772427607,
          0.24728761416851122,
          1.0347732797668334,
          0.6481309846764085,
          0.5225298542908703,
          -1.062807219692614,
          0.5389291711078632,
          0.3170946057858498,
          0.3113248214184092,
          -0.8779209994399148,
          -1.3103464725219607,
          -0.65146827356122,
          0.7838595330287975,
          -2.46586859817618,
          0.876539850402602,
          -0.838483575748058,
          3.023749502888475,
          0.4886405578618137,
          0.260885477893154,
          1.0195973638202933,
          0.8338732369478434,
          0.8553153295633149,
          -0.4904208832131635,
          0.3099140989134931,
          0.4674350174993666,
          1.6269411857138247,
          0.8377177915316513,
          -1.6344733353409773,
          0.5492777836028785,
          0.6287451281691209,
          -0.5570959640127177,
          2.1634854232289333,
          1.0158940604922302,
          -1.1812765625882486,
          0.8490929033497668,
          -0.2777383095778188,
          -1.539004318952743,
          0.38280204428729375,
          1.3083873098925314,
          0.8264927471174891,
          0.4456229526669064,
          -0.07712727689375366,
          1.3867079546845034,
          -0.2520138485006433,
          1.5057440934761228
         ]
        },
        {
         "boxpoints": false,
         "line": {
          "width": 1.3
         },
         "marker": {
          "color": "rgba(50, 171, 96, 1.0)"
         },
         "name": "C",
         "orientation": "v",
         "type": "box",
         "y": [
          1.8775853248219743,
          1.1634138874701658,
          0.4461462012951521,
          -0.630624769338649,
          2.1078034957109053,
          -0.9482366110800454,
          2.3374606688456554,
          -0.679065383221523,
          0.38377185432970784,
          1.5537342535800607,
          -0.30904709094909677,
          0.6620405516788332,
          0.3587890963955483,
          -0.9621814942267252,
          -1.4076529625364693,
          0.8406620342661275,
          -0.19167605225737872,
          0.07085336292954711,
          -0.41536402355468804,
          -0.6526583034337081,
          0.8953472080675058,
          -0.7927090917157454,
          -0.18504205933124068,
          -2.1844554211545013,
          -0.34928948363733436,
          0.9824393337572949,
          -0.18103284009489634,
          1.2235484395296887,
          0.8925359803657423,
          -0.46265299214822686,
          0.5316146639769636,
          1.1141688952959876,
          -0.8211688679945353,
          -0.4378686464586095,
          -1.5813213284574152,
          -0.1835676074821394,
          0.3635537816869505,
          0.292409384725485,
          -1.9292642402610856,
          -0.02109065033916954,
          -0.6500499929198842,
          -1.0706479780393594,
          1.4810807680195102,
          1.630294092771878,
          1.437547802195289,
          0.1612706125131396,
          1.0347881245359465,
          -0.5153424725683133,
          -1.853413964971279,
          -0.10138460345739685,
          -0.11374182274874095,
          0.7199491131082625,
          -0.8079590917446239,
          1.6050403523925685,
          1.3705705373156225,
          -3.7000867425385264,
          -0.7990098105675697,
          -0.78798107887203,
          0.043511496311365645,
          1.3127181160199133,
          0.5361353718531487,
          -0.10185322125127683,
          -0.2738025230244527,
          1.0602797063746061,
          -0.4626325274765146,
          0.18241675634136165,
          -0.06547590029811755,
          -0.8001702022637728,
          -1.1856462858028625,
          -0.6801324022438168,
          -2.701244480900419,
          -0.3740019761449056,
          0.6291185609341405,
          -1.3562555539381782,
          -0.1323317334140988,
          1.1587415899315627,
          1.3136982038489562,
          0.056299150576219766,
          0.2107247171069781,
          -0.23792370643470714,
          1.0088798622079589,
          0.7617470824000864,
          0.021279115740499545,
          -0.5371997831801028,
          0.43251449785168766,
          -0.05054466631950313,
          1.9377628526721993,
          3.9430366917901165,
          1.770493094498392,
          0.4878354231461598,
          -0.7745409475417855,
          -1.0331047085352125,
          0.3705350822079853,
          0.17892303678959548,
          0.7634234146163706,
          0.07312674885361234,
          0.8505793751346387,
          0.5407389794242599,
          -0.32128688659668025,
          0.44711829829526967
         ]
        },
        {
         "boxpoints": false,
         "line": {
          "width": 1.3
         },
         "marker": {
          "color": "rgba(128, 0, 128, 1.0)"
         },
         "name": "D",
         "orientation": "v",
         "type": "box",
         "y": [
          0.017994340381227145,
          -0.0653382085123521,
          0.6209264594991536,
          2.2826379372455197,
          0.7791573041836941,
          0.5072557716396099,
          0.2755242714684649,
          -0.6258208695941796,
          0.4693555786538185,
          -0.7208591531367468,
          0.42462242625489244,
          -1.9130505336414327,
          -0.8005255136044629,
          -0.11014504329317058,
          -1.5786485033992341,
          -1.3584660670467765,
          0.8554119234219554,
          0.6621662696420444,
          1.057233165320333,
          0.48229008348264657,
          1.3258226343578399,
          0.38911290504859075,
          0.5552410324849885,
          -1.113214333902142,
          1.601900234464146,
          0.8465429410097408,
          -0.02929303998629881,
          1.4651861522637595,
          1.6043335311238451,
          1.1861501805532806,
          2.288301812396918,
          -0.24144017822599984,
          1.074119518410007,
          0.14898849148633259,
          -0.21959247846775123,
          -0.4842991280081334,
          -0.5980875083709224,
          -0.6965258592933425,
          0.3752982937419125,
          -0.7405377346691557,
          1.4404124597838097,
          -2.458134592213451,
          -0.47260729864100204,
          0.003728348811584746,
          1.2722021246585768,
          0.3422839657249093,
          -1.591342881881602,
          -1.029037761921719,
          -0.16164559078402468,
          -0.46780869601705866,
          -0.20909695044526982,
          -0.15882282057795602,
          -0.33284057418607227,
          1.0513284800699878,
          -0.29257393956132854,
          0.41951762976242507,
          -1.5772488030443022,
          -0.0020039985250401744,
          -0.4764832163085147,
          -1.360639971697527,
          -0.7690296609146785,
          0.7584178969102826,
          -0.4513941465121298,
          0.2733591602541416,
          -0.4312651269411663,
          -1.3505952616061818,
          1.3718235501994085,
          -0.5501653282490452,
          0.4283274396211519,
          0.14583143659223802,
          1.0987555962936866,
          0.8624745086082322,
          0.5191588818768138,
          1.3848027984846778,
          0.6308443959533383,
          -0.8457552243986087,
          -0.23763820875389796,
          0.19990236397564415,
          -1.0157103003006478,
          -0.12688143526493068,
          -0.5796559515504119,
          -1.33437379644634,
          1.373035470199231,
          -0.09271868702696864,
          -0.108021289348484,
          0.2737362662435419,
          0.4153984048634312,
          -0.7277323409497012,
          0.12723409734090813,
          -1.7216795181560658,
          0.404075271990034,
          0.4813947761270504,
          -0.038503348254368845,
          -2.273437715572669,
          -0.7087437240167911,
          1.1425153969404258,
          -0.7206530960574146,
          -1.3195043732791696,
          -1.1427367809772713,
          0.17430027676471116
         ]
        }
       ],
       "layout": {
        "legend": {
         "bgcolor": "#F5F6F9",
         "font": {
          "color": "#4D5663"
         }
        },
        "paper_bgcolor": "#F5F6F9",
        "plot_bgcolor": "#F5F6F9",
        "template": {
         "data": {
          "bar": [
           {
            "error_x": {
             "color": "#2a3f5f"
            },
            "error_y": {
             "color": "#2a3f5f"
            },
            "marker": {
             "line": {
              "color": "#E5ECF6",
              "width": 0.5
             },
             "pattern": {
              "fillmode": "overlay",
              "size": 10,
              "solidity": 0.2
             }
            },
            "type": "bar"
           }
          ],
          "barpolar": [
           {
            "marker": {
             "line": {
              "color": "#E5ECF6",
              "width": 0.5
             },
             "pattern": {
              "fillmode": "overlay",
              "size": 10,
              "solidity": 0.2
             }
            },
            "type": "barpolar"
           }
          ],
          "carpet": [
           {
            "aaxis": {
             "endlinecolor": "#2a3f5f",
             "gridcolor": "white",
             "linecolor": "white",
             "minorgridcolor": "white",
             "startlinecolor": "#2a3f5f"
            },
            "baxis": {
             "endlinecolor": "#2a3f5f",
             "gridcolor": "white",
             "linecolor": "white",
             "minorgridcolor": "white",
             "startlinecolor": "#2a3f5f"
            },
            "type": "carpet"
           }
          ],
          "choropleth": [
           {
            "colorbar": {
             "outlinewidth": 0,
             "ticks": ""
            },
            "type": "choropleth"
           }
          ],
          "contour": [
           {
            "colorbar": {
             "outlinewidth": 0,
             "ticks": ""
            },
            "colorscale": [
             [
              0,
              "#0d0887"
             ],
             [
              0.1111111111111111,
              "#46039f"
             ],
             [
              0.2222222222222222,
              "#7201a8"
             ],
             [
              0.3333333333333333,
              "#9c179e"
             ],
             [
              0.4444444444444444,
              "#bd3786"
             ],
             [
              0.5555555555555556,
              "#d8576b"
             ],
             [
              0.6666666666666666,
              "#ed7953"
             ],
             [
              0.7777777777777778,
              "#fb9f3a"
             ],
             [
              0.8888888888888888,
              "#fdca26"
             ],
             [
              1,
              "#f0f921"
             ]
            ],
            "type": "contour"
           }
          ],
          "contourcarpet": [
           {
            "colorbar": {
             "outlinewidth": 0,
             "ticks": ""
            },
            "type": "contourcarpet"
           }
          ],
          "heatmap": [
           {
            "colorbar": {
             "outlinewidth": 0,
             "ticks": ""
            },
            "colorscale": [
             [
              0,
              "#0d0887"
             ],
             [
              0.1111111111111111,
              "#46039f"
             ],
             [
              0.2222222222222222,
              "#7201a8"
             ],
             [
              0.3333333333333333,
              "#9c179e"
             ],
             [
              0.4444444444444444,
              "#bd3786"
             ],
             [
              0.5555555555555556,
              "#d8576b"
             ],
             [
              0.6666666666666666,
              "#ed7953"
             ],
             [
              0.7777777777777778,
              "#fb9f3a"
             ],
             [
              0.8888888888888888,
              "#fdca26"
             ],
             [
              1,
              "#f0f921"
             ]
            ],
            "type": "heatmap"
           }
          ],
          "heatmapgl": [
           {
            "colorbar": {
             "outlinewidth": 0,
             "ticks": ""
            },
            "colorscale": [
             [
              0,
              "#0d0887"
             ],
             [
              0.1111111111111111,
              "#46039f"
             ],
             [
              0.2222222222222222,
              "#7201a8"
             ],
             [
              0.3333333333333333,
              "#9c179e"
             ],
             [
              0.4444444444444444,
              "#bd3786"
             ],
             [
              0.5555555555555556,
              "#d8576b"
             ],
             [
              0.6666666666666666,
              "#ed7953"
             ],
             [
              0.7777777777777778,
              "#fb9f3a"
             ],
             [
              0.8888888888888888,
              "#fdca26"
             ],
             [
              1,
              "#f0f921"
             ]
            ],
            "type": "heatmapgl"
           }
          ],
          "histogram": [
           {
            "marker": {
             "pattern": {
              "fillmode": "overlay",
              "size": 10,
              "solidity": 0.2
             }
            },
            "type": "histogram"
           }
          ],
          "histogram2d": [
           {
            "colorbar": {
             "outlinewidth": 0,
             "ticks": ""
            },
            "colorscale": [
             [
              0,
              "#0d0887"
             ],
             [
              0.1111111111111111,
              "#46039f"
             ],
             [
              0.2222222222222222,
              "#7201a8"
             ],
             [
              0.3333333333333333,
              "#9c179e"
             ],
             [
              0.4444444444444444,
              "#bd3786"
             ],
             [
              0.5555555555555556,
              "#d8576b"
             ],
             [
              0.6666666666666666,
              "#ed7953"
             ],
             [
              0.7777777777777778,
              "#fb9f3a"
             ],
             [
              0.8888888888888888,
              "#fdca26"
             ],
             [
              1,
              "#f0f921"
             ]
            ],
            "type": "histogram2d"
           }
          ],
          "histogram2dcontour": [
           {
            "colorbar": {
             "outlinewidth": 0,
             "ticks": ""
            },
            "colorscale": [
             [
              0,
              "#0d0887"
             ],
             [
              0.1111111111111111,
              "#46039f"
             ],
             [
              0.2222222222222222,
              "#7201a8"
             ],
             [
              0.3333333333333333,
              "#9c179e"
             ],
             [
              0.4444444444444444,
              "#bd3786"
             ],
             [
              0.5555555555555556,
              "#d8576b"
             ],
             [
              0.6666666666666666,
              "#ed7953"
             ],
             [
              0.7777777777777778,
              "#fb9f3a"
             ],
             [
              0.8888888888888888,
              "#fdca26"
             ],
             [
              1,
              "#f0f921"
             ]
            ],
            "type": "histogram2dcontour"
           }
          ],
          "mesh3d": [
           {
            "colorbar": {
             "outlinewidth": 0,
             "ticks": ""
            },
            "type": "mesh3d"
           }
          ],
          "parcoords": [
           {
            "line": {
             "colorbar": {
              "outlinewidth": 0,
              "ticks": ""
             }
            },
            "type": "parcoords"
           }
          ],
          "pie": [
           {
            "automargin": true,
            "type": "pie"
           }
          ],
          "scatter": [
           {
            "marker": {
             "colorbar": {
              "outlinewidth": 0,
              "ticks": ""
             }
            },
            "type": "scatter"
           }
          ],
          "scatter3d": [
           {
            "line": {
             "colorbar": {
              "outlinewidth": 0,
              "ticks": ""
             }
            },
            "marker": {
             "colorbar": {
              "outlinewidth": 0,
              "ticks": ""
             }
            },
            "type": "scatter3d"
           }
          ],
          "scattercarpet": [
           {
            "marker": {
             "colorbar": {
              "outlinewidth": 0,
              "ticks": ""
             }
            },
            "type": "scattercarpet"
           }
          ],
          "scattergeo": [
           {
            "marker": {
             "colorbar": {
              "outlinewidth": 0,
              "ticks": ""
             }
            },
            "type": "scattergeo"
           }
          ],
          "scattergl": [
           {
            "marker": {
             "colorbar": {
              "outlinewidth": 0,
              "ticks": ""
             }
            },
            "type": "scattergl"
           }
          ],
          "scattermapbox": [
           {
            "marker": {
             "colorbar": {
              "outlinewidth": 0,
              "ticks": ""
             }
            },
            "type": "scattermapbox"
           }
          ],
          "scatterpolar": [
           {
            "marker": {
             "colorbar": {
              "outlinewidth": 0,
              "ticks": ""
             }
            },
            "type": "scatterpolar"
           }
          ],
          "scatterpolargl": [
           {
            "marker": {
             "colorbar": {
              "outlinewidth": 0,
              "ticks": ""
             }
            },
            "type": "scatterpolargl"
           }
          ],
          "scatterternary": [
           {
            "marker": {
             "colorbar": {
              "outlinewidth": 0,
              "ticks": ""
             }
            },
            "type": "scatterternary"
           }
          ],
          "surface": [
           {
            "colorbar": {
             "outlinewidth": 0,
             "ticks": ""
            },
            "colorscale": [
             [
              0,
              "#0d0887"
             ],
             [
              0.1111111111111111,
              "#46039f"
             ],
             [
              0.2222222222222222,
              "#7201a8"
             ],
             [
              0.3333333333333333,
              "#9c179e"
             ],
             [
              0.4444444444444444,
              "#bd3786"
             ],
             [
              0.5555555555555556,
              "#d8576b"
             ],
             [
              0.6666666666666666,
              "#ed7953"
             ],
             [
              0.7777777777777778,
              "#fb9f3a"
             ],
             [
              0.8888888888888888,
              "#fdca26"
             ],
             [
              1,
              "#f0f921"
             ]
            ],
            "type": "surface"
           }
          ],
          "table": [
           {
            "cells": {
             "fill": {
              "color": "#EBF0F8"
             },
             "line": {
              "color": "white"
             }
            },
            "header": {
             "fill": {
              "color": "#C8D4E3"
             },
             "line": {
              "color": "white"
             }
            },
            "type": "table"
           }
          ]
         },
         "layout": {
          "annotationdefaults": {
           "arrowcolor": "#2a3f5f",
           "arrowhead": 0,
           "arrowwidth": 1
          },
          "autotypenumbers": "strict",
          "coloraxis": {
           "colorbar": {
            "outlinewidth": 0,
            "ticks": ""
           }
          },
          "colorscale": {
           "diverging": [
            [
             0,
             "#8e0152"
            ],
            [
             0.1,
             "#c51b7d"
            ],
            [
             0.2,
             "#de77ae"
            ],
            [
             0.3,
             "#f1b6da"
            ],
            [
             0.4,
             "#fde0ef"
            ],
            [
             0.5,
             "#f7f7f7"
            ],
            [
             0.6,
             "#e6f5d0"
            ],
            [
             0.7,
             "#b8e186"
            ],
            [
             0.8,
             "#7fbc41"
            ],
            [
             0.9,
             "#4d9221"
            ],
            [
             1,
             "#276419"
            ]
           ],
           "sequential": [
            [
             0,
             "#0d0887"
            ],
            [
             0.1111111111111111,
             "#46039f"
            ],
            [
             0.2222222222222222,
             "#7201a8"
            ],
            [
             0.3333333333333333,
             "#9c179e"
            ],
            [
             0.4444444444444444,
             "#bd3786"
            ],
            [
             0.5555555555555556,
             "#d8576b"
            ],
            [
             0.6666666666666666,
             "#ed7953"
            ],
            [
             0.7777777777777778,
             "#fb9f3a"
            ],
            [
             0.8888888888888888,
             "#fdca26"
            ],
            [
             1,
             "#f0f921"
            ]
           ],
           "sequentialminus": [
            [
             0,
             "#0d0887"
            ],
            [
             0.1111111111111111,
             "#46039f"
            ],
            [
             0.2222222222222222,
             "#7201a8"
            ],
            [
             0.3333333333333333,
             "#9c179e"
            ],
            [
             0.4444444444444444,
             "#bd3786"
            ],
            [
             0.5555555555555556,
             "#d8576b"
            ],
            [
             0.6666666666666666,
             "#ed7953"
            ],
            [
             0.7777777777777778,
             "#fb9f3a"
            ],
            [
             0.8888888888888888,
             "#fdca26"
            ],
            [
             1,
             "#f0f921"
            ]
           ]
          },
          "colorway": [
           "#636efa",
           "#EF553B",
           "#00cc96",
           "#ab63fa",
           "#FFA15A",
           "#19d3f3",
           "#FF6692",
           "#B6E880",
           "#FF97FF",
           "#FECB52"
          ],
          "font": {
           "color": "#2a3f5f"
          },
          "geo": {
           "bgcolor": "white",
           "lakecolor": "white",
           "landcolor": "#E5ECF6",
           "showlakes": true,
           "showland": true,
           "subunitcolor": "white"
          },
          "hoverlabel": {
           "align": "left"
          },
          "hovermode": "closest",
          "mapbox": {
           "style": "light"
          },
          "paper_bgcolor": "white",
          "plot_bgcolor": "#E5ECF6",
          "polar": {
           "angularaxis": {
            "gridcolor": "white",
            "linecolor": "white",
            "ticks": ""
           },
           "bgcolor": "#E5ECF6",
           "radialaxis": {
            "gridcolor": "white",
            "linecolor": "white",
            "ticks": ""
           }
          },
          "scene": {
           "xaxis": {
            "backgroundcolor": "#E5ECF6",
            "gridcolor": "white",
            "gridwidth": 2,
            "linecolor": "white",
            "showbackground": true,
            "ticks": "",
            "zerolinecolor": "white"
           },
           "yaxis": {
            "backgroundcolor": "#E5ECF6",
            "gridcolor": "white",
            "gridwidth": 2,
            "linecolor": "white",
            "showbackground": true,
            "ticks": "",
            "zerolinecolor": "white"
           },
           "zaxis": {
            "backgroundcolor": "#E5ECF6",
            "gridcolor": "white",
            "gridwidth": 2,
            "linecolor": "white",
            "showbackground": true,
            "ticks": "",
            "zerolinecolor": "white"
           }
          },
          "shapedefaults": {
           "line": {
            "color": "#2a3f5f"
           }
          },
          "ternary": {
           "aaxis": {
            "gridcolor": "white",
            "linecolor": "white",
            "ticks": ""
           },
           "baxis": {
            "gridcolor": "white",
            "linecolor": "white",
            "ticks": ""
           },
           "bgcolor": "#E5ECF6",
           "caxis": {
            "gridcolor": "white",
            "linecolor": "white",
            "ticks": ""
           }
          },
          "title": {
           "x": 0.05
          },
          "xaxis": {
           "automargin": true,
           "gridcolor": "white",
           "linecolor": "white",
           "ticks": "",
           "title": {
            "standoff": 15
           },
           "zerolinecolor": "white",
           "zerolinewidth": 2
          },
          "yaxis": {
           "automargin": true,
           "gridcolor": "white",
           "linecolor": "white",
           "ticks": "",
           "title": {
            "standoff": 15
           },
           "zerolinecolor": "white",
           "zerolinewidth": 2
          }
         }
        },
        "title": {
         "font": {
          "color": "#4D5663"
         }
        },
        "xaxis": {
         "gridcolor": "#E1E5ED",
         "showgrid": true,
         "tickfont": {
          "color": "#4D5663"
         },
         "title": {
          "font": {
           "color": "#4D5663"
          },
          "text": ""
         },
         "zerolinecolor": "#E1E5ED"
        },
        "yaxis": {
         "gridcolor": "#E1E5ED",
         "showgrid": true,
         "tickfont": {
          "color": "#4D5663"
         },
         "title": {
          "font": {
           "color": "#4D5663"
          },
          "text": ""
         },
         "zerolinecolor": "#E1E5ED"
        }
       }
      },
      "text/html": [
       "<div>                            <div id=\"21363d1e-6b53-4495-8458-5e3da6bec538\" class=\"plotly-graph-div\" style=\"height:525px; width:100%;\"></div>            <script type=\"text/javascript\">                require([\"plotly\"], function(Plotly) {                    window.PLOTLYENV=window.PLOTLYENV || {};\n",
       "                    window.PLOTLYENV.BASE_URL='https://plot.ly';                                    if (document.getElementById(\"21363d1e-6b53-4495-8458-5e3da6bec538\")) {                    Plotly.newPlot(                        \"21363d1e-6b53-4495-8458-5e3da6bec538\",                        [{\"boxpoints\":false,\"line\":{\"width\":1.3},\"marker\":{\"color\":\"rgba(255, 153, 51, 1.0)\"},\"name\":\"A\",\"orientation\":\"v\",\"y\":[0.004623521176124493,0.16281569506746615,1.4224425740072002,1.0465883726312297,1.1842576898475108,-0.9430017076288162,-0.6085150350497329,0.8327710604567566,0.7349610260402549,-0.2490841883443285,0.2219721971076617,-1.2381344162131944,0.2422425588075395,0.6651871185074474,0.08648920725692612,1.0069096722828492,0.5135885685395674,1.2510550806883736,-1.0764907866006002,1.5131900701575884,-0.21516214636280803,-0.9908219512508374,-0.48304635726610295,-0.3309062206065575,-0.5997402907722839,-0.2226520133817669,-0.09223681807908718,-0.9320599965705885,-0.6146119575534867,-1.8405985217209972,-0.07196636464122422,-1.1917272842793725,-0.1212696899713353,0.41431577966805777,1.1104672706779055,-0.9576385942121362,-0.06294522738310888,-0.207259397445168,-1.0449588125891485,0.7724106256129741,0.09848545584616183,-1.855603203676661,-0.19908444045357243,0.8807303289230828,-0.6436409911582044,-1.2394950322721574,-0.5333903959015579,0.08113009265143066,0.3121856933497823,-1.6231237399849323,0.4262435294386619,-0.5754254419012534,1.472988451795054,-0.48801630030810406,0.31591838578850046,-0.20911915762697417,0.513052823155541,-0.894640737393719,0.11303368243634235,0.08126390492515637,0.8265265186825116,1.5199902351604946,0.20409263911347916,-0.549468299736583,1.6351857717316323,-1.3272902155743422,0.3882066558678317,0.3584136011973048,2.315912702942067,1.104337817545148,0.33035701635016934,-1.2452283168205998,-0.5958689580863932,-0.06441653627456218,0.5647656230700507,0.9987758735688422,-0.141260329807457,-0.5973353039913025,0.4786330161546429,0.5501368588768211,0.8511598466974138,0.3742405334903403,-0.30177615255004636,1.7609112031453364,-0.24623366538207506,-0.014729716842070764,-2.121790882536806,-1.3267770846391103,-0.8570527379474144,-0.24849451967740438,-0.22805041501320314,0.527751794561854,1.3824145693759025,0.748002990817415,-1.216462277265814,-0.590361800281665,-1.3125371550384277,0.6182744698313806,0.05728572122844015,1.4364291765621007],\"type\":\"box\"},{\"boxpoints\":false,\"line\":{\"width\":1.3},\"marker\":{\"color\":\"rgba(55, 128, 191, 1.0)\"},\"name\":\"B\",\"orientation\":\"v\",\"y\":[-1.1685508459194196,-1.5678017169000267,0.7870096262915491,-0.8629018468596408,-0.4857063865991016,-1.2626627412225944,1.2373205481923955,-0.48136229667102254,-0.4841128843538882,2.2915504567809273,-1.8664420703542837,-0.3822593347390874,-1.5464233121595794,0.8960317044216001,1.3738712750986215,1.3667016898736501,0.5931001857431492,-0.13608533179952403,-0.5226691150373612,0.9141181315239653,0.49588820121766547,0.7033452801787391,2.4161083229749805,0.9857082531792529,-0.5962036008775079,-2.3054551237669423,0.4595523549181218,2.1584557914506686,-0.21623673210559943,1.0268827658340507,-0.187361346602335,0.5586823673587367,-0.1425368574028095,0.47553084882931335,-0.8580278596709993,-1.3840740509849458,1.9078167471910268,-1.9298295674593051,0.4677649023118192,-0.6407645824728198,-0.20067105431129048,0.4535733758491212,-1.1594832090728682,-0.09834601975589295,-1.6057415274987874,-0.02923005850628262,1.0665687194053277,0.031731913806326804,1.6100699600708939,1.170010139117584,-1.3106350714837576,0.1503924243963787,-1.3108968820881353,-0.9241700441770824,0.5538224449867233,0.3999246772427607,0.24728761416851122,1.0347732797668334,0.6481309846764085,0.5225298542908703,-1.062807219692614,0.5389291711078632,0.3170946057858498,0.3113248214184092,-0.8779209994399148,-1.3103464725219607,-0.65146827356122,0.7838595330287975,-2.46586859817618,0.876539850402602,-0.838483575748058,3.023749502888475,0.4886405578618137,0.260885477893154,1.0195973638202933,0.8338732369478434,0.8553153295633149,-0.4904208832131635,0.3099140989134931,0.4674350174993666,1.6269411857138247,0.8377177915316513,-1.6344733353409773,0.5492777836028785,0.6287451281691209,-0.5570959640127177,2.1634854232289333,1.0158940604922302,-1.1812765625882486,0.8490929033497668,-0.2777383095778188,-1.539004318952743,0.38280204428729375,1.3083873098925314,0.8264927471174891,0.4456229526669064,-0.07712727689375366,1.3867079546845034,-0.2520138485006433,1.5057440934761228],\"type\":\"box\"},{\"boxpoints\":false,\"line\":{\"width\":1.3},\"marker\":{\"color\":\"rgba(50, 171, 96, 1.0)\"},\"name\":\"C\",\"orientation\":\"v\",\"y\":[1.8775853248219743,1.1634138874701658,0.4461462012951521,-0.630624769338649,2.1078034957109053,-0.9482366110800454,2.3374606688456554,-0.679065383221523,0.38377185432970784,1.5537342535800607,-0.30904709094909677,0.6620405516788332,0.3587890963955483,-0.9621814942267252,-1.4076529625364693,0.8406620342661275,-0.19167605225737872,0.07085336292954711,-0.41536402355468804,-0.6526583034337081,0.8953472080675058,-0.7927090917157454,-0.18504205933124068,-2.1844554211545013,-0.34928948363733436,0.9824393337572949,-0.18103284009489634,1.2235484395296887,0.8925359803657423,-0.46265299214822686,0.5316146639769636,1.1141688952959876,-0.8211688679945353,-0.4378686464586095,-1.5813213284574152,-0.1835676074821394,0.3635537816869505,0.292409384725485,-1.9292642402610856,-0.02109065033916954,-0.6500499929198842,-1.0706479780393594,1.4810807680195102,1.630294092771878,1.437547802195289,0.1612706125131396,1.0347881245359465,-0.5153424725683133,-1.853413964971279,-0.10138460345739685,-0.11374182274874095,0.7199491131082625,-0.8079590917446239,1.6050403523925685,1.3705705373156225,-3.7000867425385264,-0.7990098105675697,-0.78798107887203,0.043511496311365645,1.3127181160199133,0.5361353718531487,-0.10185322125127683,-0.2738025230244527,1.0602797063746061,-0.4626325274765146,0.18241675634136165,-0.06547590029811755,-0.8001702022637728,-1.1856462858028625,-0.6801324022438168,-2.701244480900419,-0.3740019761449056,0.6291185609341405,-1.3562555539381782,-0.1323317334140988,1.1587415899315627,1.3136982038489562,0.056299150576219766,0.2107247171069781,-0.23792370643470714,1.0088798622079589,0.7617470824000864,0.021279115740499545,-0.5371997831801028,0.43251449785168766,-0.05054466631950313,1.9377628526721993,3.9430366917901165,1.770493094498392,0.4878354231461598,-0.7745409475417855,-1.0331047085352125,0.3705350822079853,0.17892303678959548,0.7634234146163706,0.07312674885361234,0.8505793751346387,0.5407389794242599,-0.32128688659668025,0.44711829829526967],\"type\":\"box\"},{\"boxpoints\":false,\"line\":{\"width\":1.3},\"marker\":{\"color\":\"rgba(128, 0, 128, 1.0)\"},\"name\":\"D\",\"orientation\":\"v\",\"y\":[0.017994340381227145,-0.0653382085123521,0.6209264594991536,2.2826379372455197,0.7791573041836941,0.5072557716396099,0.2755242714684649,-0.6258208695941796,0.4693555786538185,-0.7208591531367468,0.42462242625489244,-1.9130505336414327,-0.8005255136044629,-0.11014504329317058,-1.5786485033992341,-1.3584660670467765,0.8554119234219554,0.6621662696420444,1.057233165320333,0.48229008348264657,1.3258226343578399,0.38911290504859075,0.5552410324849885,-1.113214333902142,1.601900234464146,0.8465429410097408,-0.02929303998629881,1.4651861522637595,1.6043335311238451,1.1861501805532806,2.288301812396918,-0.24144017822599984,1.074119518410007,0.14898849148633259,-0.21959247846775123,-0.4842991280081334,-0.5980875083709224,-0.6965258592933425,0.3752982937419125,-0.7405377346691557,1.4404124597838097,-2.458134592213451,-0.47260729864100204,0.003728348811584746,1.2722021246585768,0.3422839657249093,-1.591342881881602,-1.029037761921719,-0.16164559078402468,-0.46780869601705866,-0.20909695044526982,-0.15882282057795602,-0.33284057418607227,1.0513284800699878,-0.29257393956132854,0.41951762976242507,-1.5772488030443022,-0.0020039985250401744,-0.4764832163085147,-1.360639971697527,-0.7690296609146785,0.7584178969102826,-0.4513941465121298,0.2733591602541416,-0.4312651269411663,-1.3505952616061818,1.3718235501994085,-0.5501653282490452,0.4283274396211519,0.14583143659223802,1.0987555962936866,0.8624745086082322,0.5191588818768138,1.3848027984846778,0.6308443959533383,-0.8457552243986087,-0.23763820875389796,0.19990236397564415,-1.0157103003006478,-0.12688143526493068,-0.5796559515504119,-1.33437379644634,1.373035470199231,-0.09271868702696864,-0.108021289348484,0.2737362662435419,0.4153984048634312,-0.7277323409497012,0.12723409734090813,-1.7216795181560658,0.404075271990034,0.4813947761270504,-0.038503348254368845,-2.273437715572669,-0.7087437240167911,1.1425153969404258,-0.7206530960574146,-1.3195043732791696,-1.1427367809772713,0.17430027676471116],\"type\":\"box\"}],                        {\"legend\":{\"bgcolor\":\"#F5F6F9\",\"font\":{\"color\":\"#4D5663\"}},\"paper_bgcolor\":\"#F5F6F9\",\"plot_bgcolor\":\"#F5F6F9\",\"template\":{\"data\":{\"barpolar\":[{\"marker\":{\"line\":{\"color\":\"#E5ECF6\",\"width\":0.5},\"pattern\":{\"fillmode\":\"overlay\",\"size\":10,\"solidity\":0.2}},\"type\":\"barpolar\"}],\"bar\":[{\"error_x\":{\"color\":\"#2a3f5f\"},\"error_y\":{\"color\":\"#2a3f5f\"},\"marker\":{\"line\":{\"color\":\"#E5ECF6\",\"width\":0.5},\"pattern\":{\"fillmode\":\"overlay\",\"size\":10,\"solidity\":0.2}},\"type\":\"bar\"}],\"carpet\":[{\"aaxis\":{\"endlinecolor\":\"#2a3f5f\",\"gridcolor\":\"white\",\"linecolor\":\"white\",\"minorgridcolor\":\"white\",\"startlinecolor\":\"#2a3f5f\"},\"baxis\":{\"endlinecolor\":\"#2a3f5f\",\"gridcolor\":\"white\",\"linecolor\":\"white\",\"minorgridcolor\":\"white\",\"startlinecolor\":\"#2a3f5f\"},\"type\":\"carpet\"}],\"choropleth\":[{\"colorbar\":{\"outlinewidth\":0,\"ticks\":\"\"},\"type\":\"choropleth\"}],\"contourcarpet\":[{\"colorbar\":{\"outlinewidth\":0,\"ticks\":\"\"},\"type\":\"contourcarpet\"}],\"contour\":[{\"colorbar\":{\"outlinewidth\":0,\"ticks\":\"\"},\"colorscale\":[[0.0,\"#0d0887\"],[0.1111111111111111,\"#46039f\"],[0.2222222222222222,\"#7201a8\"],[0.3333333333333333,\"#9c179e\"],[0.4444444444444444,\"#bd3786\"],[0.5555555555555556,\"#d8576b\"],[0.6666666666666666,\"#ed7953\"],[0.7777777777777778,\"#fb9f3a\"],[0.8888888888888888,\"#fdca26\"],[1.0,\"#f0f921\"]],\"type\":\"contour\"}],\"heatmapgl\":[{\"colorbar\":{\"outlinewidth\":0,\"ticks\":\"\"},\"colorscale\":[[0.0,\"#0d0887\"],[0.1111111111111111,\"#46039f\"],[0.2222222222222222,\"#7201a8\"],[0.3333333333333333,\"#9c179e\"],[0.4444444444444444,\"#bd3786\"],[0.5555555555555556,\"#d8576b\"],[0.6666666666666666,\"#ed7953\"],[0.7777777777777778,\"#fb9f3a\"],[0.8888888888888888,\"#fdca26\"],[1.0,\"#f0f921\"]],\"type\":\"heatmapgl\"}],\"heatmap\":[{\"colorbar\":{\"outlinewidth\":0,\"ticks\":\"\"},\"colorscale\":[[0.0,\"#0d0887\"],[0.1111111111111111,\"#46039f\"],[0.2222222222222222,\"#7201a8\"],[0.3333333333333333,\"#9c179e\"],[0.4444444444444444,\"#bd3786\"],[0.5555555555555556,\"#d8576b\"],[0.6666666666666666,\"#ed7953\"],[0.7777777777777778,\"#fb9f3a\"],[0.8888888888888888,\"#fdca26\"],[1.0,\"#f0f921\"]],\"type\":\"heatmap\"}],\"histogram2dcontour\":[{\"colorbar\":{\"outlinewidth\":0,\"ticks\":\"\"},\"colorscale\":[[0.0,\"#0d0887\"],[0.1111111111111111,\"#46039f\"],[0.2222222222222222,\"#7201a8\"],[0.3333333333333333,\"#9c179e\"],[0.4444444444444444,\"#bd3786\"],[0.5555555555555556,\"#d8576b\"],[0.6666666666666666,\"#ed7953\"],[0.7777777777777778,\"#fb9f3a\"],[0.8888888888888888,\"#fdca26\"],[1.0,\"#f0f921\"]],\"type\":\"histogram2dcontour\"}],\"histogram2d\":[{\"colorbar\":{\"outlinewidth\":0,\"ticks\":\"\"},\"colorscale\":[[0.0,\"#0d0887\"],[0.1111111111111111,\"#46039f\"],[0.2222222222222222,\"#7201a8\"],[0.3333333333333333,\"#9c179e\"],[0.4444444444444444,\"#bd3786\"],[0.5555555555555556,\"#d8576b\"],[0.6666666666666666,\"#ed7953\"],[0.7777777777777778,\"#fb9f3a\"],[0.8888888888888888,\"#fdca26\"],[1.0,\"#f0f921\"]],\"type\":\"histogram2d\"}],\"histogram\":[{\"marker\":{\"pattern\":{\"fillmode\":\"overlay\",\"size\":10,\"solidity\":0.2}},\"type\":\"histogram\"}],\"mesh3d\":[{\"colorbar\":{\"outlinewidth\":0,\"ticks\":\"\"},\"type\":\"mesh3d\"}],\"parcoords\":[{\"line\":{\"colorbar\":{\"outlinewidth\":0,\"ticks\":\"\"}},\"type\":\"parcoords\"}],\"pie\":[{\"automargin\":true,\"type\":\"pie\"}],\"scatter3d\":[{\"line\":{\"colorbar\":{\"outlinewidth\":0,\"ticks\":\"\"}},\"marker\":{\"colorbar\":{\"outlinewidth\":0,\"ticks\":\"\"}},\"type\":\"scatter3d\"}],\"scattercarpet\":[{\"marker\":{\"colorbar\":{\"outlinewidth\":0,\"ticks\":\"\"}},\"type\":\"scattercarpet\"}],\"scattergeo\":[{\"marker\":{\"colorbar\":{\"outlinewidth\":0,\"ticks\":\"\"}},\"type\":\"scattergeo\"}],\"scattergl\":[{\"marker\":{\"colorbar\":{\"outlinewidth\":0,\"ticks\":\"\"}},\"type\":\"scattergl\"}],\"scattermapbox\":[{\"marker\":{\"colorbar\":{\"outlinewidth\":0,\"ticks\":\"\"}},\"type\":\"scattermapbox\"}],\"scatterpolargl\":[{\"marker\":{\"colorbar\":{\"outlinewidth\":0,\"ticks\":\"\"}},\"type\":\"scatterpolargl\"}],\"scatterpolar\":[{\"marker\":{\"colorbar\":{\"outlinewidth\":0,\"ticks\":\"\"}},\"type\":\"scatterpolar\"}],\"scatter\":[{\"marker\":{\"colorbar\":{\"outlinewidth\":0,\"ticks\":\"\"}},\"type\":\"scatter\"}],\"scatterternary\":[{\"marker\":{\"colorbar\":{\"outlinewidth\":0,\"ticks\":\"\"}},\"type\":\"scatterternary\"}],\"surface\":[{\"colorbar\":{\"outlinewidth\":0,\"ticks\":\"\"},\"colorscale\":[[0.0,\"#0d0887\"],[0.1111111111111111,\"#46039f\"],[0.2222222222222222,\"#7201a8\"],[0.3333333333333333,\"#9c179e\"],[0.4444444444444444,\"#bd3786\"],[0.5555555555555556,\"#d8576b\"],[0.6666666666666666,\"#ed7953\"],[0.7777777777777778,\"#fb9f3a\"],[0.8888888888888888,\"#fdca26\"],[1.0,\"#f0f921\"]],\"type\":\"surface\"}],\"table\":[{\"cells\":{\"fill\":{\"color\":\"#EBF0F8\"},\"line\":{\"color\":\"white\"}},\"header\":{\"fill\":{\"color\":\"#C8D4E3\"},\"line\":{\"color\":\"white\"}},\"type\":\"table\"}]},\"layout\":{\"annotationdefaults\":{\"arrowcolor\":\"#2a3f5f\",\"arrowhead\":0,\"arrowwidth\":1},\"autotypenumbers\":\"strict\",\"coloraxis\":{\"colorbar\":{\"outlinewidth\":0,\"ticks\":\"\"}},\"colorscale\":{\"diverging\":[[0,\"#8e0152\"],[0.1,\"#c51b7d\"],[0.2,\"#de77ae\"],[0.3,\"#f1b6da\"],[0.4,\"#fde0ef\"],[0.5,\"#f7f7f7\"],[0.6,\"#e6f5d0\"],[0.7,\"#b8e186\"],[0.8,\"#7fbc41\"],[0.9,\"#4d9221\"],[1,\"#276419\"]],\"sequential\":[[0.0,\"#0d0887\"],[0.1111111111111111,\"#46039f\"],[0.2222222222222222,\"#7201a8\"],[0.3333333333333333,\"#9c179e\"],[0.4444444444444444,\"#bd3786\"],[0.5555555555555556,\"#d8576b\"],[0.6666666666666666,\"#ed7953\"],[0.7777777777777778,\"#fb9f3a\"],[0.8888888888888888,\"#fdca26\"],[1.0,\"#f0f921\"]],\"sequentialminus\":[[0.0,\"#0d0887\"],[0.1111111111111111,\"#46039f\"],[0.2222222222222222,\"#7201a8\"],[0.3333333333333333,\"#9c179e\"],[0.4444444444444444,\"#bd3786\"],[0.5555555555555556,\"#d8576b\"],[0.6666666666666666,\"#ed7953\"],[0.7777777777777778,\"#fb9f3a\"],[0.8888888888888888,\"#fdca26\"],[1.0,\"#f0f921\"]]},\"colorway\":[\"#636efa\",\"#EF553B\",\"#00cc96\",\"#ab63fa\",\"#FFA15A\",\"#19d3f3\",\"#FF6692\",\"#B6E880\",\"#FF97FF\",\"#FECB52\"],\"font\":{\"color\":\"#2a3f5f\"},\"geo\":{\"bgcolor\":\"white\",\"lakecolor\":\"white\",\"landcolor\":\"#E5ECF6\",\"showlakes\":true,\"showland\":true,\"subunitcolor\":\"white\"},\"hoverlabel\":{\"align\":\"left\"},\"hovermode\":\"closest\",\"mapbox\":{\"style\":\"light\"},\"paper_bgcolor\":\"white\",\"plot_bgcolor\":\"#E5ECF6\",\"polar\":{\"angularaxis\":{\"gridcolor\":\"white\",\"linecolor\":\"white\",\"ticks\":\"\"},\"bgcolor\":\"#E5ECF6\",\"radialaxis\":{\"gridcolor\":\"white\",\"linecolor\":\"white\",\"ticks\":\"\"}},\"scene\":{\"xaxis\":{\"backgroundcolor\":\"#E5ECF6\",\"gridcolor\":\"white\",\"gridwidth\":2,\"linecolor\":\"white\",\"showbackground\":true,\"ticks\":\"\",\"zerolinecolor\":\"white\"},\"yaxis\":{\"backgroundcolor\":\"#E5ECF6\",\"gridcolor\":\"white\",\"gridwidth\":2,\"linecolor\":\"white\",\"showbackground\":true,\"ticks\":\"\",\"zerolinecolor\":\"white\"},\"zaxis\":{\"backgroundcolor\":\"#E5ECF6\",\"gridcolor\":\"white\",\"gridwidth\":2,\"linecolor\":\"white\",\"showbackground\":true,\"ticks\":\"\",\"zerolinecolor\":\"white\"}},\"shapedefaults\":{\"line\":{\"color\":\"#2a3f5f\"}},\"ternary\":{\"aaxis\":{\"gridcolor\":\"white\",\"linecolor\":\"white\",\"ticks\":\"\"},\"baxis\":{\"gridcolor\":\"white\",\"linecolor\":\"white\",\"ticks\":\"\"},\"bgcolor\":\"#E5ECF6\",\"caxis\":{\"gridcolor\":\"white\",\"linecolor\":\"white\",\"ticks\":\"\"}},\"title\":{\"x\":0.05},\"xaxis\":{\"automargin\":true,\"gridcolor\":\"white\",\"linecolor\":\"white\",\"ticks\":\"\",\"title\":{\"standoff\":15},\"zerolinecolor\":\"white\",\"zerolinewidth\":2},\"yaxis\":{\"automargin\":true,\"gridcolor\":\"white\",\"linecolor\":\"white\",\"ticks\":\"\",\"title\":{\"standoff\":15},\"zerolinecolor\":\"white\",\"zerolinewidth\":2}}},\"title\":{\"font\":{\"color\":\"#4D5663\"}},\"xaxis\":{\"gridcolor\":\"#E1E5ED\",\"showgrid\":true,\"tickfont\":{\"color\":\"#4D5663\"},\"title\":{\"font\":{\"color\":\"#4D5663\"},\"text\":\"\"},\"zerolinecolor\":\"#E1E5ED\"},\"yaxis\":{\"gridcolor\":\"#E1E5ED\",\"showgrid\":true,\"tickfont\":{\"color\":\"#4D5663\"},\"title\":{\"font\":{\"color\":\"#4D5663\"},\"text\":\"\"},\"zerolinecolor\":\"#E1E5ED\"}},                        {\"showLink\": true, \"linkText\": \"Export to plot.ly\", \"plotlyServerURL\": \"https://plot.ly\", \"responsive\": true}                    ).then(function(){\n",
       "                            \n",
       "var gd = document.getElementById('21363d1e-6b53-4495-8458-5e3da6bec538');\n",
       "var x = new MutationObserver(function (mutations, observer) {{\n",
       "        var display = window.getComputedStyle(gd).display;\n",
       "        if (!display || display === 'none') {{\n",
       "            console.log([gd, 'removed!']);\n",
       "            Plotly.purge(gd);\n",
       "            observer.disconnect();\n",
       "        }}\n",
       "}});\n",
       "\n",
       "// Listen for the removal of the full notebook cells\n",
       "var notebookContainer = gd.closest('#notebook-container');\n",
       "if (notebookContainer) {{\n",
       "    x.observe(notebookContainer, {childList: true});\n",
       "}}\n",
       "\n",
       "// Listen for the clearing of the current output cell\n",
       "var outputEl = gd.closest('.output');\n",
       "if (outputEl) {{\n",
       "    x.observe(outputEl, {childList: true});\n",
       "}}\n",
       "\n",
       "                        })                };                });            </script>        </div>"
      ]
     },
     "metadata": {},
     "output_type": "display_data"
    }
   ],
   "source": [
    "df.iplot(kind='box')"
   ]
  },
  {
   "cell_type": "code",
   "execution_count": 63,
   "id": "fbe4644c",
   "metadata": {},
   "outputs": [
    {
     "data": {
      "text/html": [
       "<div>\n",
       "<style scoped>\n",
       "    .dataframe tbody tr th:only-of-type {\n",
       "        vertical-align: middle;\n",
       "    }\n",
       "\n",
       "    .dataframe tbody tr th {\n",
       "        vertical-align: top;\n",
       "    }\n",
       "\n",
       "    .dataframe thead th {\n",
       "        text-align: right;\n",
       "    }\n",
       "</style>\n",
       "<table border=\"1\" class=\"dataframe\">\n",
       "  <thead>\n",
       "    <tr style=\"text-align: right;\">\n",
       "      <th></th>\n",
       "      <th>x</th>\n",
       "      <th>y</th>\n",
       "      <th>z</th>\n",
       "    </tr>\n",
       "  </thead>\n",
       "  <tbody>\n",
       "    <tr>\n",
       "      <th>0</th>\n",
       "      <td>1</td>\n",
       "      <td>10</td>\n",
       "      <td>500</td>\n",
       "    </tr>\n",
       "    <tr>\n",
       "      <th>1</th>\n",
       "      <td>2</td>\n",
       "      <td>20</td>\n",
       "      <td>400</td>\n",
       "    </tr>\n",
       "    <tr>\n",
       "      <th>2</th>\n",
       "      <td>3</td>\n",
       "      <td>30</td>\n",
       "      <td>300</td>\n",
       "    </tr>\n",
       "    <tr>\n",
       "      <th>3</th>\n",
       "      <td>4</td>\n",
       "      <td>40</td>\n",
       "      <td>200</td>\n",
       "    </tr>\n",
       "    <tr>\n",
       "      <th>4</th>\n",
       "      <td>5</td>\n",
       "      <td>50</td>\n",
       "      <td>100</td>\n",
       "    </tr>\n",
       "  </tbody>\n",
       "</table>\n",
       "</div>"
      ],
      "text/plain": [
       "   x   y    z\n",
       "0  1  10  500\n",
       "1  2  20  400\n",
       "2  3  30  300\n",
       "3  4  40  200\n",
       "4  5  50  100"
      ]
     },
     "execution_count": 63,
     "metadata": {},
     "output_type": "execute_result"
    }
   ],
   "source": [
    "df3=pd.DataFrame({'x':[1,2,3,4,5],'y':[10,20,30,40,50],'z':[500,400,300,200,100]})\n",
    "df3"
   ]
  },
  {
   "cell_type": "code",
   "execution_count": 64,
   "id": "e188e103",
   "metadata": {},
   "outputs": [
    {
     "data": {
      "application/vnd.plotly.v1+json": {
       "config": {
        "linkText": "Export to plot.ly",
        "plotlyServerURL": "https://plot.ly",
        "showLink": true
       },
       "data": [
        {
         "colorscale": [
          [
           0,
           "rgb(255, 153, 51)"
          ],
          [
           0.1111111111111111,
           "rgb(55, 128, 191)"
          ],
          [
           0.2222222222222222,
           "rgb(50, 171, 96)"
          ],
          [
           0.3333333333333333,
           "rgb(128, 0, 128)"
          ],
          [
           0.4444444444444444,
           "rgb(219, 64, 82)"
          ],
          [
           0.5555555555555556,
           "rgb(0, 128, 128)"
          ],
          [
           0.6666666666666666,
           "rgb(255, 255, 51)"
          ],
          [
           0.7777777777777778,
           "rgb(128, 128, 0)"
          ],
          [
           0.8888888888888888,
           "rgb(251, 128, 114)"
          ],
          [
           1,
           "rgb(128, 177, 211)"
          ]
         ],
         "type": "surface",
         "x": [
          0,
          1,
          2,
          3,
          4
         ],
         "y": [
          "x",
          "y",
          "z"
         ],
         "z": [
          [
           1,
           2,
           3,
           4,
           5
          ],
          [
           10,
           20,
           30,
           40,
           50
          ],
          [
           500,
           400,
           300,
           200,
           100
          ]
         ]
        }
       ],
       "layout": {
        "legend": {
         "bgcolor": "#F5F6F9",
         "font": {
          "color": "#4D5663"
         }
        },
        "paper_bgcolor": "#F5F6F9",
        "plot_bgcolor": "#F5F6F9",
        "template": {
         "data": {
          "bar": [
           {
            "error_x": {
             "color": "#2a3f5f"
            },
            "error_y": {
             "color": "#2a3f5f"
            },
            "marker": {
             "line": {
              "color": "#E5ECF6",
              "width": 0.5
             },
             "pattern": {
              "fillmode": "overlay",
              "size": 10,
              "solidity": 0.2
             }
            },
            "type": "bar"
           }
          ],
          "barpolar": [
           {
            "marker": {
             "line": {
              "color": "#E5ECF6",
              "width": 0.5
             },
             "pattern": {
              "fillmode": "overlay",
              "size": 10,
              "solidity": 0.2
             }
            },
            "type": "barpolar"
           }
          ],
          "carpet": [
           {
            "aaxis": {
             "endlinecolor": "#2a3f5f",
             "gridcolor": "white",
             "linecolor": "white",
             "minorgridcolor": "white",
             "startlinecolor": "#2a3f5f"
            },
            "baxis": {
             "endlinecolor": "#2a3f5f",
             "gridcolor": "white",
             "linecolor": "white",
             "minorgridcolor": "white",
             "startlinecolor": "#2a3f5f"
            },
            "type": "carpet"
           }
          ],
          "choropleth": [
           {
            "colorbar": {
             "outlinewidth": 0,
             "ticks": ""
            },
            "type": "choropleth"
           }
          ],
          "contour": [
           {
            "colorbar": {
             "outlinewidth": 0,
             "ticks": ""
            },
            "colorscale": [
             [
              0,
              "#0d0887"
             ],
             [
              0.1111111111111111,
              "#46039f"
             ],
             [
              0.2222222222222222,
              "#7201a8"
             ],
             [
              0.3333333333333333,
              "#9c179e"
             ],
             [
              0.4444444444444444,
              "#bd3786"
             ],
             [
              0.5555555555555556,
              "#d8576b"
             ],
             [
              0.6666666666666666,
              "#ed7953"
             ],
             [
              0.7777777777777778,
              "#fb9f3a"
             ],
             [
              0.8888888888888888,
              "#fdca26"
             ],
             [
              1,
              "#f0f921"
             ]
            ],
            "type": "contour"
           }
          ],
          "contourcarpet": [
           {
            "colorbar": {
             "outlinewidth": 0,
             "ticks": ""
            },
            "type": "contourcarpet"
           }
          ],
          "heatmap": [
           {
            "colorbar": {
             "outlinewidth": 0,
             "ticks": ""
            },
            "colorscale": [
             [
              0,
              "#0d0887"
             ],
             [
              0.1111111111111111,
              "#46039f"
             ],
             [
              0.2222222222222222,
              "#7201a8"
             ],
             [
              0.3333333333333333,
              "#9c179e"
             ],
             [
              0.4444444444444444,
              "#bd3786"
             ],
             [
              0.5555555555555556,
              "#d8576b"
             ],
             [
              0.6666666666666666,
              "#ed7953"
             ],
             [
              0.7777777777777778,
              "#fb9f3a"
             ],
             [
              0.8888888888888888,
              "#fdca26"
             ],
             [
              1,
              "#f0f921"
             ]
            ],
            "type": "heatmap"
           }
          ],
          "heatmapgl": [
           {
            "colorbar": {
             "outlinewidth": 0,
             "ticks": ""
            },
            "colorscale": [
             [
              0,
              "#0d0887"
             ],
             [
              0.1111111111111111,
              "#46039f"
             ],
             [
              0.2222222222222222,
              "#7201a8"
             ],
             [
              0.3333333333333333,
              "#9c179e"
             ],
             [
              0.4444444444444444,
              "#bd3786"
             ],
             [
              0.5555555555555556,
              "#d8576b"
             ],
             [
              0.6666666666666666,
              "#ed7953"
             ],
             [
              0.7777777777777778,
              "#fb9f3a"
             ],
             [
              0.8888888888888888,
              "#fdca26"
             ],
             [
              1,
              "#f0f921"
             ]
            ],
            "type": "heatmapgl"
           }
          ],
          "histogram": [
           {
            "marker": {
             "pattern": {
              "fillmode": "overlay",
              "size": 10,
              "solidity": 0.2
             }
            },
            "type": "histogram"
           }
          ],
          "histogram2d": [
           {
            "colorbar": {
             "outlinewidth": 0,
             "ticks": ""
            },
            "colorscale": [
             [
              0,
              "#0d0887"
             ],
             [
              0.1111111111111111,
              "#46039f"
             ],
             [
              0.2222222222222222,
              "#7201a8"
             ],
             [
              0.3333333333333333,
              "#9c179e"
             ],
             [
              0.4444444444444444,
              "#bd3786"
             ],
             [
              0.5555555555555556,
              "#d8576b"
             ],
             [
              0.6666666666666666,
              "#ed7953"
             ],
             [
              0.7777777777777778,
              "#fb9f3a"
             ],
             [
              0.8888888888888888,
              "#fdca26"
             ],
             [
              1,
              "#f0f921"
             ]
            ],
            "type": "histogram2d"
           }
          ],
          "histogram2dcontour": [
           {
            "colorbar": {
             "outlinewidth": 0,
             "ticks": ""
            },
            "colorscale": [
             [
              0,
              "#0d0887"
             ],
             [
              0.1111111111111111,
              "#46039f"
             ],
             [
              0.2222222222222222,
              "#7201a8"
             ],
             [
              0.3333333333333333,
              "#9c179e"
             ],
             [
              0.4444444444444444,
              "#bd3786"
             ],
             [
              0.5555555555555556,
              "#d8576b"
             ],
             [
              0.6666666666666666,
              "#ed7953"
             ],
             [
              0.7777777777777778,
              "#fb9f3a"
             ],
             [
              0.8888888888888888,
              "#fdca26"
             ],
             [
              1,
              "#f0f921"
             ]
            ],
            "type": "histogram2dcontour"
           }
          ],
          "mesh3d": [
           {
            "colorbar": {
             "outlinewidth": 0,
             "ticks": ""
            },
            "type": "mesh3d"
           }
          ],
          "parcoords": [
           {
            "line": {
             "colorbar": {
              "outlinewidth": 0,
              "ticks": ""
             }
            },
            "type": "parcoords"
           }
          ],
          "pie": [
           {
            "automargin": true,
            "type": "pie"
           }
          ],
          "scatter": [
           {
            "marker": {
             "colorbar": {
              "outlinewidth": 0,
              "ticks": ""
             }
            },
            "type": "scatter"
           }
          ],
          "scatter3d": [
           {
            "line": {
             "colorbar": {
              "outlinewidth": 0,
              "ticks": ""
             }
            },
            "marker": {
             "colorbar": {
              "outlinewidth": 0,
              "ticks": ""
             }
            },
            "type": "scatter3d"
           }
          ],
          "scattercarpet": [
           {
            "marker": {
             "colorbar": {
              "outlinewidth": 0,
              "ticks": ""
             }
            },
            "type": "scattercarpet"
           }
          ],
          "scattergeo": [
           {
            "marker": {
             "colorbar": {
              "outlinewidth": 0,
              "ticks": ""
             }
            },
            "type": "scattergeo"
           }
          ],
          "scattergl": [
           {
            "marker": {
             "colorbar": {
              "outlinewidth": 0,
              "ticks": ""
             }
            },
            "type": "scattergl"
           }
          ],
          "scattermapbox": [
           {
            "marker": {
             "colorbar": {
              "outlinewidth": 0,
              "ticks": ""
             }
            },
            "type": "scattermapbox"
           }
          ],
          "scatterpolar": [
           {
            "marker": {
             "colorbar": {
              "outlinewidth": 0,
              "ticks": ""
             }
            },
            "type": "scatterpolar"
           }
          ],
          "scatterpolargl": [
           {
            "marker": {
             "colorbar": {
              "outlinewidth": 0,
              "ticks": ""
             }
            },
            "type": "scatterpolargl"
           }
          ],
          "scatterternary": [
           {
            "marker": {
             "colorbar": {
              "outlinewidth": 0,
              "ticks": ""
             }
            },
            "type": "scatterternary"
           }
          ],
          "surface": [
           {
            "colorbar": {
             "outlinewidth": 0,
             "ticks": ""
            },
            "colorscale": [
             [
              0,
              "#0d0887"
             ],
             [
              0.1111111111111111,
              "#46039f"
             ],
             [
              0.2222222222222222,
              "#7201a8"
             ],
             [
              0.3333333333333333,
              "#9c179e"
             ],
             [
              0.4444444444444444,
              "#bd3786"
             ],
             [
              0.5555555555555556,
              "#d8576b"
             ],
             [
              0.6666666666666666,
              "#ed7953"
             ],
             [
              0.7777777777777778,
              "#fb9f3a"
             ],
             [
              0.8888888888888888,
              "#fdca26"
             ],
             [
              1,
              "#f0f921"
             ]
            ],
            "type": "surface"
           }
          ],
          "table": [
           {
            "cells": {
             "fill": {
              "color": "#EBF0F8"
             },
             "line": {
              "color": "white"
             }
            },
            "header": {
             "fill": {
              "color": "#C8D4E3"
             },
             "line": {
              "color": "white"
             }
            },
            "type": "table"
           }
          ]
         },
         "layout": {
          "annotationdefaults": {
           "arrowcolor": "#2a3f5f",
           "arrowhead": 0,
           "arrowwidth": 1
          },
          "autotypenumbers": "strict",
          "coloraxis": {
           "colorbar": {
            "outlinewidth": 0,
            "ticks": ""
           }
          },
          "colorscale": {
           "diverging": [
            [
             0,
             "#8e0152"
            ],
            [
             0.1,
             "#c51b7d"
            ],
            [
             0.2,
             "#de77ae"
            ],
            [
             0.3,
             "#f1b6da"
            ],
            [
             0.4,
             "#fde0ef"
            ],
            [
             0.5,
             "#f7f7f7"
            ],
            [
             0.6,
             "#e6f5d0"
            ],
            [
             0.7,
             "#b8e186"
            ],
            [
             0.8,
             "#7fbc41"
            ],
            [
             0.9,
             "#4d9221"
            ],
            [
             1,
             "#276419"
            ]
           ],
           "sequential": [
            [
             0,
             "#0d0887"
            ],
            [
             0.1111111111111111,
             "#46039f"
            ],
            [
             0.2222222222222222,
             "#7201a8"
            ],
            [
             0.3333333333333333,
             "#9c179e"
            ],
            [
             0.4444444444444444,
             "#bd3786"
            ],
            [
             0.5555555555555556,
             "#d8576b"
            ],
            [
             0.6666666666666666,
             "#ed7953"
            ],
            [
             0.7777777777777778,
             "#fb9f3a"
            ],
            [
             0.8888888888888888,
             "#fdca26"
            ],
            [
             1,
             "#f0f921"
            ]
           ],
           "sequentialminus": [
            [
             0,
             "#0d0887"
            ],
            [
             0.1111111111111111,
             "#46039f"
            ],
            [
             0.2222222222222222,
             "#7201a8"
            ],
            [
             0.3333333333333333,
             "#9c179e"
            ],
            [
             0.4444444444444444,
             "#bd3786"
            ],
            [
             0.5555555555555556,
             "#d8576b"
            ],
            [
             0.6666666666666666,
             "#ed7953"
            ],
            [
             0.7777777777777778,
             "#fb9f3a"
            ],
            [
             0.8888888888888888,
             "#fdca26"
            ],
            [
             1,
             "#f0f921"
            ]
           ]
          },
          "colorway": [
           "#636efa",
           "#EF553B",
           "#00cc96",
           "#ab63fa",
           "#FFA15A",
           "#19d3f3",
           "#FF6692",
           "#B6E880",
           "#FF97FF",
           "#FECB52"
          ],
          "font": {
           "color": "#2a3f5f"
          },
          "geo": {
           "bgcolor": "white",
           "lakecolor": "white",
           "landcolor": "#E5ECF6",
           "showlakes": true,
           "showland": true,
           "subunitcolor": "white"
          },
          "hoverlabel": {
           "align": "left"
          },
          "hovermode": "closest",
          "mapbox": {
           "style": "light"
          },
          "paper_bgcolor": "white",
          "plot_bgcolor": "#E5ECF6",
          "polar": {
           "angularaxis": {
            "gridcolor": "white",
            "linecolor": "white",
            "ticks": ""
           },
           "bgcolor": "#E5ECF6",
           "radialaxis": {
            "gridcolor": "white",
            "linecolor": "white",
            "ticks": ""
           }
          },
          "scene": {
           "xaxis": {
            "backgroundcolor": "#E5ECF6",
            "gridcolor": "white",
            "gridwidth": 2,
            "linecolor": "white",
            "showbackground": true,
            "ticks": "",
            "zerolinecolor": "white"
           },
           "yaxis": {
            "backgroundcolor": "#E5ECF6",
            "gridcolor": "white",
            "gridwidth": 2,
            "linecolor": "white",
            "showbackground": true,
            "ticks": "",
            "zerolinecolor": "white"
           },
           "zaxis": {
            "backgroundcolor": "#E5ECF6",
            "gridcolor": "white",
            "gridwidth": 2,
            "linecolor": "white",
            "showbackground": true,
            "ticks": "",
            "zerolinecolor": "white"
           }
          },
          "shapedefaults": {
           "line": {
            "color": "#2a3f5f"
           }
          },
          "ternary": {
           "aaxis": {
            "gridcolor": "white",
            "linecolor": "white",
            "ticks": ""
           },
           "baxis": {
            "gridcolor": "white",
            "linecolor": "white",
            "ticks": ""
           },
           "bgcolor": "#E5ECF6",
           "caxis": {
            "gridcolor": "white",
            "linecolor": "white",
            "ticks": ""
           }
          },
          "title": {
           "x": 0.05
          },
          "xaxis": {
           "automargin": true,
           "gridcolor": "white",
           "linecolor": "white",
           "ticks": "",
           "title": {
            "standoff": 15
           },
           "zerolinecolor": "white",
           "zerolinewidth": 2
          },
          "yaxis": {
           "automargin": true,
           "gridcolor": "white",
           "linecolor": "white",
           "ticks": "",
           "title": {
            "standoff": 15
           },
           "zerolinecolor": "white",
           "zerolinewidth": 2
          }
         }
        },
        "title": {
         "font": {
          "color": "#4D5663"
         }
        },
        "xaxis": {
         "gridcolor": "#E1E5ED",
         "showgrid": true,
         "tickfont": {
          "color": "#4D5663"
         },
         "title": {
          "font": {
           "color": "#4D5663"
          },
          "text": ""
         },
         "zerolinecolor": "#E1E5ED"
        },
        "yaxis": {
         "gridcolor": "#E1E5ED",
         "showgrid": true,
         "tickfont": {
          "color": "#4D5663"
         },
         "title": {
          "font": {
           "color": "#4D5663"
          },
          "text": ""
         },
         "zerolinecolor": "#E1E5ED"
        }
       }
      },
      "text/html": [
       "<div>                            <div id=\"ef0f4622-2d80-4b08-9c25-75972b4fa538\" class=\"plotly-graph-div\" style=\"height:525px; width:100%;\"></div>            <script type=\"text/javascript\">                require([\"plotly\"], function(Plotly) {                    window.PLOTLYENV=window.PLOTLYENV || {};\n",
       "                    window.PLOTLYENV.BASE_URL='https://plot.ly';                                    if (document.getElementById(\"ef0f4622-2d80-4b08-9c25-75972b4fa538\")) {                    Plotly.newPlot(                        \"ef0f4622-2d80-4b08-9c25-75972b4fa538\",                        [{\"colorscale\":[[0.0,\"rgb(255, 153, 51)\"],[0.1111111111111111,\"rgb(55, 128, 191)\"],[0.2222222222222222,\"rgb(50, 171, 96)\"],[0.3333333333333333,\"rgb(128, 0, 128)\"],[0.4444444444444444,\"rgb(219, 64, 82)\"],[0.5555555555555556,\"rgb(0, 128, 128)\"],[0.6666666666666666,\"rgb(255, 255, 51)\"],[0.7777777777777778,\"rgb(128, 128, 0)\"],[0.8888888888888888,\"rgb(251, 128, 114)\"],[1.0,\"rgb(128, 177, 211)\"]],\"x\":[0,1,2,3,4],\"y\":[\"x\",\"y\",\"z\"],\"z\":[[1,2,3,4,5],[10,20,30,40,50],[500,400,300,200,100]],\"type\":\"surface\"}],                        {\"legend\":{\"bgcolor\":\"#F5F6F9\",\"font\":{\"color\":\"#4D5663\"}},\"paper_bgcolor\":\"#F5F6F9\",\"plot_bgcolor\":\"#F5F6F9\",\"template\":{\"data\":{\"barpolar\":[{\"marker\":{\"line\":{\"color\":\"#E5ECF6\",\"width\":0.5},\"pattern\":{\"fillmode\":\"overlay\",\"size\":10,\"solidity\":0.2}},\"type\":\"barpolar\"}],\"bar\":[{\"error_x\":{\"color\":\"#2a3f5f\"},\"error_y\":{\"color\":\"#2a3f5f\"},\"marker\":{\"line\":{\"color\":\"#E5ECF6\",\"width\":0.5},\"pattern\":{\"fillmode\":\"overlay\",\"size\":10,\"solidity\":0.2}},\"type\":\"bar\"}],\"carpet\":[{\"aaxis\":{\"endlinecolor\":\"#2a3f5f\",\"gridcolor\":\"white\",\"linecolor\":\"white\",\"minorgridcolor\":\"white\",\"startlinecolor\":\"#2a3f5f\"},\"baxis\":{\"endlinecolor\":\"#2a3f5f\",\"gridcolor\":\"white\",\"linecolor\":\"white\",\"minorgridcolor\":\"white\",\"startlinecolor\":\"#2a3f5f\"},\"type\":\"carpet\"}],\"choropleth\":[{\"colorbar\":{\"outlinewidth\":0,\"ticks\":\"\"},\"type\":\"choropleth\"}],\"contourcarpet\":[{\"colorbar\":{\"outlinewidth\":0,\"ticks\":\"\"},\"type\":\"contourcarpet\"}],\"contour\":[{\"colorbar\":{\"outlinewidth\":0,\"ticks\":\"\"},\"colorscale\":[[0.0,\"#0d0887\"],[0.1111111111111111,\"#46039f\"],[0.2222222222222222,\"#7201a8\"],[0.3333333333333333,\"#9c179e\"],[0.4444444444444444,\"#bd3786\"],[0.5555555555555556,\"#d8576b\"],[0.6666666666666666,\"#ed7953\"],[0.7777777777777778,\"#fb9f3a\"],[0.8888888888888888,\"#fdca26\"],[1.0,\"#f0f921\"]],\"type\":\"contour\"}],\"heatmapgl\":[{\"colorbar\":{\"outlinewidth\":0,\"ticks\":\"\"},\"colorscale\":[[0.0,\"#0d0887\"],[0.1111111111111111,\"#46039f\"],[0.2222222222222222,\"#7201a8\"],[0.3333333333333333,\"#9c179e\"],[0.4444444444444444,\"#bd3786\"],[0.5555555555555556,\"#d8576b\"],[0.6666666666666666,\"#ed7953\"],[0.7777777777777778,\"#fb9f3a\"],[0.8888888888888888,\"#fdca26\"],[1.0,\"#f0f921\"]],\"type\":\"heatmapgl\"}],\"heatmap\":[{\"colorbar\":{\"outlinewidth\":0,\"ticks\":\"\"},\"colorscale\":[[0.0,\"#0d0887\"],[0.1111111111111111,\"#46039f\"],[0.2222222222222222,\"#7201a8\"],[0.3333333333333333,\"#9c179e\"],[0.4444444444444444,\"#bd3786\"],[0.5555555555555556,\"#d8576b\"],[0.6666666666666666,\"#ed7953\"],[0.7777777777777778,\"#fb9f3a\"],[0.8888888888888888,\"#fdca26\"],[1.0,\"#f0f921\"]],\"type\":\"heatmap\"}],\"histogram2dcontour\":[{\"colorbar\":{\"outlinewidth\":0,\"ticks\":\"\"},\"colorscale\":[[0.0,\"#0d0887\"],[0.1111111111111111,\"#46039f\"],[0.2222222222222222,\"#7201a8\"],[0.3333333333333333,\"#9c179e\"],[0.4444444444444444,\"#bd3786\"],[0.5555555555555556,\"#d8576b\"],[0.6666666666666666,\"#ed7953\"],[0.7777777777777778,\"#fb9f3a\"],[0.8888888888888888,\"#fdca26\"],[1.0,\"#f0f921\"]],\"type\":\"histogram2dcontour\"}],\"histogram2d\":[{\"colorbar\":{\"outlinewidth\":0,\"ticks\":\"\"},\"colorscale\":[[0.0,\"#0d0887\"],[0.1111111111111111,\"#46039f\"],[0.2222222222222222,\"#7201a8\"],[0.3333333333333333,\"#9c179e\"],[0.4444444444444444,\"#bd3786\"],[0.5555555555555556,\"#d8576b\"],[0.6666666666666666,\"#ed7953\"],[0.7777777777777778,\"#fb9f3a\"],[0.8888888888888888,\"#fdca26\"],[1.0,\"#f0f921\"]],\"type\":\"histogram2d\"}],\"histogram\":[{\"marker\":{\"pattern\":{\"fillmode\":\"overlay\",\"size\":10,\"solidity\":0.2}},\"type\":\"histogram\"}],\"mesh3d\":[{\"colorbar\":{\"outlinewidth\":0,\"ticks\":\"\"},\"type\":\"mesh3d\"}],\"parcoords\":[{\"line\":{\"colorbar\":{\"outlinewidth\":0,\"ticks\":\"\"}},\"type\":\"parcoords\"}],\"pie\":[{\"automargin\":true,\"type\":\"pie\"}],\"scatter3d\":[{\"line\":{\"colorbar\":{\"outlinewidth\":0,\"ticks\":\"\"}},\"marker\":{\"colorbar\":{\"outlinewidth\":0,\"ticks\":\"\"}},\"type\":\"scatter3d\"}],\"scattercarpet\":[{\"marker\":{\"colorbar\":{\"outlinewidth\":0,\"ticks\":\"\"}},\"type\":\"scattercarpet\"}],\"scattergeo\":[{\"marker\":{\"colorbar\":{\"outlinewidth\":0,\"ticks\":\"\"}},\"type\":\"scattergeo\"}],\"scattergl\":[{\"marker\":{\"colorbar\":{\"outlinewidth\":0,\"ticks\":\"\"}},\"type\":\"scattergl\"}],\"scattermapbox\":[{\"marker\":{\"colorbar\":{\"outlinewidth\":0,\"ticks\":\"\"}},\"type\":\"scattermapbox\"}],\"scatterpolargl\":[{\"marker\":{\"colorbar\":{\"outlinewidth\":0,\"ticks\":\"\"}},\"type\":\"scatterpolargl\"}],\"scatterpolar\":[{\"marker\":{\"colorbar\":{\"outlinewidth\":0,\"ticks\":\"\"}},\"type\":\"scatterpolar\"}],\"scatter\":[{\"marker\":{\"colorbar\":{\"outlinewidth\":0,\"ticks\":\"\"}},\"type\":\"scatter\"}],\"scatterternary\":[{\"marker\":{\"colorbar\":{\"outlinewidth\":0,\"ticks\":\"\"}},\"type\":\"scatterternary\"}],\"surface\":[{\"colorbar\":{\"outlinewidth\":0,\"ticks\":\"\"},\"colorscale\":[[0.0,\"#0d0887\"],[0.1111111111111111,\"#46039f\"],[0.2222222222222222,\"#7201a8\"],[0.3333333333333333,\"#9c179e\"],[0.4444444444444444,\"#bd3786\"],[0.5555555555555556,\"#d8576b\"],[0.6666666666666666,\"#ed7953\"],[0.7777777777777778,\"#fb9f3a\"],[0.8888888888888888,\"#fdca26\"],[1.0,\"#f0f921\"]],\"type\":\"surface\"}],\"table\":[{\"cells\":{\"fill\":{\"color\":\"#EBF0F8\"},\"line\":{\"color\":\"white\"}},\"header\":{\"fill\":{\"color\":\"#C8D4E3\"},\"line\":{\"color\":\"white\"}},\"type\":\"table\"}]},\"layout\":{\"annotationdefaults\":{\"arrowcolor\":\"#2a3f5f\",\"arrowhead\":0,\"arrowwidth\":1},\"autotypenumbers\":\"strict\",\"coloraxis\":{\"colorbar\":{\"outlinewidth\":0,\"ticks\":\"\"}},\"colorscale\":{\"diverging\":[[0,\"#8e0152\"],[0.1,\"#c51b7d\"],[0.2,\"#de77ae\"],[0.3,\"#f1b6da\"],[0.4,\"#fde0ef\"],[0.5,\"#f7f7f7\"],[0.6,\"#e6f5d0\"],[0.7,\"#b8e186\"],[0.8,\"#7fbc41\"],[0.9,\"#4d9221\"],[1,\"#276419\"]],\"sequential\":[[0.0,\"#0d0887\"],[0.1111111111111111,\"#46039f\"],[0.2222222222222222,\"#7201a8\"],[0.3333333333333333,\"#9c179e\"],[0.4444444444444444,\"#bd3786\"],[0.5555555555555556,\"#d8576b\"],[0.6666666666666666,\"#ed7953\"],[0.7777777777777778,\"#fb9f3a\"],[0.8888888888888888,\"#fdca26\"],[1.0,\"#f0f921\"]],\"sequentialminus\":[[0.0,\"#0d0887\"],[0.1111111111111111,\"#46039f\"],[0.2222222222222222,\"#7201a8\"],[0.3333333333333333,\"#9c179e\"],[0.4444444444444444,\"#bd3786\"],[0.5555555555555556,\"#d8576b\"],[0.6666666666666666,\"#ed7953\"],[0.7777777777777778,\"#fb9f3a\"],[0.8888888888888888,\"#fdca26\"],[1.0,\"#f0f921\"]]},\"colorway\":[\"#636efa\",\"#EF553B\",\"#00cc96\",\"#ab63fa\",\"#FFA15A\",\"#19d3f3\",\"#FF6692\",\"#B6E880\",\"#FF97FF\",\"#FECB52\"],\"font\":{\"color\":\"#2a3f5f\"},\"geo\":{\"bgcolor\":\"white\",\"lakecolor\":\"white\",\"landcolor\":\"#E5ECF6\",\"showlakes\":true,\"showland\":true,\"subunitcolor\":\"white\"},\"hoverlabel\":{\"align\":\"left\"},\"hovermode\":\"closest\",\"mapbox\":{\"style\":\"light\"},\"paper_bgcolor\":\"white\",\"plot_bgcolor\":\"#E5ECF6\",\"polar\":{\"angularaxis\":{\"gridcolor\":\"white\",\"linecolor\":\"white\",\"ticks\":\"\"},\"bgcolor\":\"#E5ECF6\",\"radialaxis\":{\"gridcolor\":\"white\",\"linecolor\":\"white\",\"ticks\":\"\"}},\"scene\":{\"xaxis\":{\"backgroundcolor\":\"#E5ECF6\",\"gridcolor\":\"white\",\"gridwidth\":2,\"linecolor\":\"white\",\"showbackground\":true,\"ticks\":\"\",\"zerolinecolor\":\"white\"},\"yaxis\":{\"backgroundcolor\":\"#E5ECF6\",\"gridcolor\":\"white\",\"gridwidth\":2,\"linecolor\":\"white\",\"showbackground\":true,\"ticks\":\"\",\"zerolinecolor\":\"white\"},\"zaxis\":{\"backgroundcolor\":\"#E5ECF6\",\"gridcolor\":\"white\",\"gridwidth\":2,\"linecolor\":\"white\",\"showbackground\":true,\"ticks\":\"\",\"zerolinecolor\":\"white\"}},\"shapedefaults\":{\"line\":{\"color\":\"#2a3f5f\"}},\"ternary\":{\"aaxis\":{\"gridcolor\":\"white\",\"linecolor\":\"white\",\"ticks\":\"\"},\"baxis\":{\"gridcolor\":\"white\",\"linecolor\":\"white\",\"ticks\":\"\"},\"bgcolor\":\"#E5ECF6\",\"caxis\":{\"gridcolor\":\"white\",\"linecolor\":\"white\",\"ticks\":\"\"}},\"title\":{\"x\":0.05},\"xaxis\":{\"automargin\":true,\"gridcolor\":\"white\",\"linecolor\":\"white\",\"ticks\":\"\",\"title\":{\"standoff\":15},\"zerolinecolor\":\"white\",\"zerolinewidth\":2},\"yaxis\":{\"automargin\":true,\"gridcolor\":\"white\",\"linecolor\":\"white\",\"ticks\":\"\",\"title\":{\"standoff\":15},\"zerolinecolor\":\"white\",\"zerolinewidth\":2}}},\"title\":{\"font\":{\"color\":\"#4D5663\"}},\"xaxis\":{\"gridcolor\":\"#E1E5ED\",\"showgrid\":true,\"tickfont\":{\"color\":\"#4D5663\"},\"title\":{\"font\":{\"color\":\"#4D5663\"},\"text\":\"\"},\"zerolinecolor\":\"#E1E5ED\"},\"yaxis\":{\"gridcolor\":\"#E1E5ED\",\"showgrid\":true,\"tickfont\":{\"color\":\"#4D5663\"},\"title\":{\"font\":{\"color\":\"#4D5663\"},\"text\":\"\"},\"zerolinecolor\":\"#E1E5ED\"}},                        {\"showLink\": true, \"linkText\": \"Export to plot.ly\", \"plotlyServerURL\": \"https://plot.ly\", \"responsive\": true}                    ).then(function(){\n",
       "                            \n",
       "var gd = document.getElementById('ef0f4622-2d80-4b08-9c25-75972b4fa538');\n",
       "var x = new MutationObserver(function (mutations, observer) {{\n",
       "        var display = window.getComputedStyle(gd).display;\n",
       "        if (!display || display === 'none') {{\n",
       "            console.log([gd, 'removed!']);\n",
       "            Plotly.purge(gd);\n",
       "            observer.disconnect();\n",
       "        }}\n",
       "}});\n",
       "\n",
       "// Listen for the removal of the full notebook cells\n",
       "var notebookContainer = gd.closest('#notebook-container');\n",
       "if (notebookContainer) {{\n",
       "    x.observe(notebookContainer, {childList: true});\n",
       "}}\n",
       "\n",
       "// Listen for the clearing of the current output cell\n",
       "var outputEl = gd.closest('.output');\n",
       "if (outputEl) {{\n",
       "    x.observe(outputEl, {childList: true});\n",
       "}}\n",
       "\n",
       "                        })                };                });            </script>        </div>"
      ]
     },
     "metadata": {},
     "output_type": "display_data"
    }
   ],
   "source": [
    "df3.iplot(kind='surface')"
   ]
  },
  {
   "cell_type": "code",
   "execution_count": 65,
   "id": "38eedd1f",
   "metadata": {},
   "outputs": [
    {
     "data": {
      "text/html": [
       "<div>\n",
       "<style scoped>\n",
       "    .dataframe tbody tr th:only-of-type {\n",
       "        vertical-align: middle;\n",
       "    }\n",
       "\n",
       "    .dataframe tbody tr th {\n",
       "        vertical-align: top;\n",
       "    }\n",
       "\n",
       "    .dataframe thead th {\n",
       "        text-align: right;\n",
       "    }\n",
       "</style>\n",
       "<table border=\"1\" class=\"dataframe\">\n",
       "  <thead>\n",
       "    <tr style=\"text-align: right;\">\n",
       "      <th></th>\n",
       "      <th>x</th>\n",
       "      <th>y</th>\n",
       "      <th>z</th>\n",
       "    </tr>\n",
       "  </thead>\n",
       "  <tbody>\n",
       "    <tr>\n",
       "      <th>0</th>\n",
       "      <td>1</td>\n",
       "      <td>10</td>\n",
       "      <td>5</td>\n",
       "    </tr>\n",
       "    <tr>\n",
       "      <th>1</th>\n",
       "      <td>2</td>\n",
       "      <td>20</td>\n",
       "      <td>4</td>\n",
       "    </tr>\n",
       "    <tr>\n",
       "      <th>2</th>\n",
       "      <td>3</td>\n",
       "      <td>30</td>\n",
       "      <td>3</td>\n",
       "    </tr>\n",
       "    <tr>\n",
       "      <th>3</th>\n",
       "      <td>4</td>\n",
       "      <td>20</td>\n",
       "      <td>2</td>\n",
       "    </tr>\n",
       "    <tr>\n",
       "      <th>4</th>\n",
       "      <td>5</td>\n",
       "      <td>10</td>\n",
       "      <td>1</td>\n",
       "    </tr>\n",
       "  </tbody>\n",
       "</table>\n",
       "</div>"
      ],
      "text/plain": [
       "   x   y  z\n",
       "0  1  10  5\n",
       "1  2  20  4\n",
       "2  3  30  3\n",
       "3  4  20  2\n",
       "4  5  10  1"
      ]
     },
     "execution_count": 65,
     "metadata": {},
     "output_type": "execute_result"
    }
   ],
   "source": [
    "df4=pd.DataFrame({'x':[1,2,3,4,5],'y':[10,20,30,20,10],'z':[5,4,3,2,1]})\n",
    "df4"
   ]
  },
  {
   "cell_type": "code",
   "execution_count": 66,
   "id": "abe30e58",
   "metadata": {},
   "outputs": [
    {
     "data": {
      "application/vnd.plotly.v1+json": {
       "config": {
        "linkText": "Export to plot.ly",
        "plotlyServerURL": "https://plot.ly",
        "showLink": true
       },
       "data": [
        {
         "colorscale": [
          [
           0,
           "rgb(255, 153, 51)"
          ],
          [
           0.1111111111111111,
           "rgb(55, 128, 191)"
          ],
          [
           0.2222222222222222,
           "rgb(50, 171, 96)"
          ],
          [
           0.3333333333333333,
           "rgb(128, 0, 128)"
          ],
          [
           0.4444444444444444,
           "rgb(219, 64, 82)"
          ],
          [
           0.5555555555555556,
           "rgb(0, 128, 128)"
          ],
          [
           0.6666666666666666,
           "rgb(255, 255, 51)"
          ],
          [
           0.7777777777777778,
           "rgb(128, 128, 0)"
          ],
          [
           0.8888888888888888,
           "rgb(251, 128, 114)"
          ],
          [
           1,
           "rgb(128, 177, 211)"
          ]
         ],
         "type": "surface",
         "x": [
          0,
          1,
          2,
          3,
          4
         ],
         "y": [
          "x",
          "y",
          "z"
         ],
         "z": [
          [
           1,
           2,
           3,
           4,
           5
          ],
          [
           10,
           20,
           30,
           20,
           10
          ],
          [
           5,
           4,
           3,
           2,
           1
          ]
         ]
        }
       ],
       "layout": {
        "legend": {
         "bgcolor": "#F5F6F9",
         "font": {
          "color": "#4D5663"
         }
        },
        "paper_bgcolor": "#F5F6F9",
        "plot_bgcolor": "#F5F6F9",
        "template": {
         "data": {
          "bar": [
           {
            "error_x": {
             "color": "#2a3f5f"
            },
            "error_y": {
             "color": "#2a3f5f"
            },
            "marker": {
             "line": {
              "color": "#E5ECF6",
              "width": 0.5
             },
             "pattern": {
              "fillmode": "overlay",
              "size": 10,
              "solidity": 0.2
             }
            },
            "type": "bar"
           }
          ],
          "barpolar": [
           {
            "marker": {
             "line": {
              "color": "#E5ECF6",
              "width": 0.5
             },
             "pattern": {
              "fillmode": "overlay",
              "size": 10,
              "solidity": 0.2
             }
            },
            "type": "barpolar"
           }
          ],
          "carpet": [
           {
            "aaxis": {
             "endlinecolor": "#2a3f5f",
             "gridcolor": "white",
             "linecolor": "white",
             "minorgridcolor": "white",
             "startlinecolor": "#2a3f5f"
            },
            "baxis": {
             "endlinecolor": "#2a3f5f",
             "gridcolor": "white",
             "linecolor": "white",
             "minorgridcolor": "white",
             "startlinecolor": "#2a3f5f"
            },
            "type": "carpet"
           }
          ],
          "choropleth": [
           {
            "colorbar": {
             "outlinewidth": 0,
             "ticks": ""
            },
            "type": "choropleth"
           }
          ],
          "contour": [
           {
            "colorbar": {
             "outlinewidth": 0,
             "ticks": ""
            },
            "colorscale": [
             [
              0,
              "#0d0887"
             ],
             [
              0.1111111111111111,
              "#46039f"
             ],
             [
              0.2222222222222222,
              "#7201a8"
             ],
             [
              0.3333333333333333,
              "#9c179e"
             ],
             [
              0.4444444444444444,
              "#bd3786"
             ],
             [
              0.5555555555555556,
              "#d8576b"
             ],
             [
              0.6666666666666666,
              "#ed7953"
             ],
             [
              0.7777777777777778,
              "#fb9f3a"
             ],
             [
              0.8888888888888888,
              "#fdca26"
             ],
             [
              1,
              "#f0f921"
             ]
            ],
            "type": "contour"
           }
          ],
          "contourcarpet": [
           {
            "colorbar": {
             "outlinewidth": 0,
             "ticks": ""
            },
            "type": "contourcarpet"
           }
          ],
          "heatmap": [
           {
            "colorbar": {
             "outlinewidth": 0,
             "ticks": ""
            },
            "colorscale": [
             [
              0,
              "#0d0887"
             ],
             [
              0.1111111111111111,
              "#46039f"
             ],
             [
              0.2222222222222222,
              "#7201a8"
             ],
             [
              0.3333333333333333,
              "#9c179e"
             ],
             [
              0.4444444444444444,
              "#bd3786"
             ],
             [
              0.5555555555555556,
              "#d8576b"
             ],
             [
              0.6666666666666666,
              "#ed7953"
             ],
             [
              0.7777777777777778,
              "#fb9f3a"
             ],
             [
              0.8888888888888888,
              "#fdca26"
             ],
             [
              1,
              "#f0f921"
             ]
            ],
            "type": "heatmap"
           }
          ],
          "heatmapgl": [
           {
            "colorbar": {
             "outlinewidth": 0,
             "ticks": ""
            },
            "colorscale": [
             [
              0,
              "#0d0887"
             ],
             [
              0.1111111111111111,
              "#46039f"
             ],
             [
              0.2222222222222222,
              "#7201a8"
             ],
             [
              0.3333333333333333,
              "#9c179e"
             ],
             [
              0.4444444444444444,
              "#bd3786"
             ],
             [
              0.5555555555555556,
              "#d8576b"
             ],
             [
              0.6666666666666666,
              "#ed7953"
             ],
             [
              0.7777777777777778,
              "#fb9f3a"
             ],
             [
              0.8888888888888888,
              "#fdca26"
             ],
             [
              1,
              "#f0f921"
             ]
            ],
            "type": "heatmapgl"
           }
          ],
          "histogram": [
           {
            "marker": {
             "pattern": {
              "fillmode": "overlay",
              "size": 10,
              "solidity": 0.2
             }
            },
            "type": "histogram"
           }
          ],
          "histogram2d": [
           {
            "colorbar": {
             "outlinewidth": 0,
             "ticks": ""
            },
            "colorscale": [
             [
              0,
              "#0d0887"
             ],
             [
              0.1111111111111111,
              "#46039f"
             ],
             [
              0.2222222222222222,
              "#7201a8"
             ],
             [
              0.3333333333333333,
              "#9c179e"
             ],
             [
              0.4444444444444444,
              "#bd3786"
             ],
             [
              0.5555555555555556,
              "#d8576b"
             ],
             [
              0.6666666666666666,
              "#ed7953"
             ],
             [
              0.7777777777777778,
              "#fb9f3a"
             ],
             [
              0.8888888888888888,
              "#fdca26"
             ],
             [
              1,
              "#f0f921"
             ]
            ],
            "type": "histogram2d"
           }
          ],
          "histogram2dcontour": [
           {
            "colorbar": {
             "outlinewidth": 0,
             "ticks": ""
            },
            "colorscale": [
             [
              0,
              "#0d0887"
             ],
             [
              0.1111111111111111,
              "#46039f"
             ],
             [
              0.2222222222222222,
              "#7201a8"
             ],
             [
              0.3333333333333333,
              "#9c179e"
             ],
             [
              0.4444444444444444,
              "#bd3786"
             ],
             [
              0.5555555555555556,
              "#d8576b"
             ],
             [
              0.6666666666666666,
              "#ed7953"
             ],
             [
              0.7777777777777778,
              "#fb9f3a"
             ],
             [
              0.8888888888888888,
              "#fdca26"
             ],
             [
              1,
              "#f0f921"
             ]
            ],
            "type": "histogram2dcontour"
           }
          ],
          "mesh3d": [
           {
            "colorbar": {
             "outlinewidth": 0,
             "ticks": ""
            },
            "type": "mesh3d"
           }
          ],
          "parcoords": [
           {
            "line": {
             "colorbar": {
              "outlinewidth": 0,
              "ticks": ""
             }
            },
            "type": "parcoords"
           }
          ],
          "pie": [
           {
            "automargin": true,
            "type": "pie"
           }
          ],
          "scatter": [
           {
            "marker": {
             "colorbar": {
              "outlinewidth": 0,
              "ticks": ""
             }
            },
            "type": "scatter"
           }
          ],
          "scatter3d": [
           {
            "line": {
             "colorbar": {
              "outlinewidth": 0,
              "ticks": ""
             }
            },
            "marker": {
             "colorbar": {
              "outlinewidth": 0,
              "ticks": ""
             }
            },
            "type": "scatter3d"
           }
          ],
          "scattercarpet": [
           {
            "marker": {
             "colorbar": {
              "outlinewidth": 0,
              "ticks": ""
             }
            },
            "type": "scattercarpet"
           }
          ],
          "scattergeo": [
           {
            "marker": {
             "colorbar": {
              "outlinewidth": 0,
              "ticks": ""
             }
            },
            "type": "scattergeo"
           }
          ],
          "scattergl": [
           {
            "marker": {
             "colorbar": {
              "outlinewidth": 0,
              "ticks": ""
             }
            },
            "type": "scattergl"
           }
          ],
          "scattermapbox": [
           {
            "marker": {
             "colorbar": {
              "outlinewidth": 0,
              "ticks": ""
             }
            },
            "type": "scattermapbox"
           }
          ],
          "scatterpolar": [
           {
            "marker": {
             "colorbar": {
              "outlinewidth": 0,
              "ticks": ""
             }
            },
            "type": "scatterpolar"
           }
          ],
          "scatterpolargl": [
           {
            "marker": {
             "colorbar": {
              "outlinewidth": 0,
              "ticks": ""
             }
            },
            "type": "scatterpolargl"
           }
          ],
          "scatterternary": [
           {
            "marker": {
             "colorbar": {
              "outlinewidth": 0,
              "ticks": ""
             }
            },
            "type": "scatterternary"
           }
          ],
          "surface": [
           {
            "colorbar": {
             "outlinewidth": 0,
             "ticks": ""
            },
            "colorscale": [
             [
              0,
              "#0d0887"
             ],
             [
              0.1111111111111111,
              "#46039f"
             ],
             [
              0.2222222222222222,
              "#7201a8"
             ],
             [
              0.3333333333333333,
              "#9c179e"
             ],
             [
              0.4444444444444444,
              "#bd3786"
             ],
             [
              0.5555555555555556,
              "#d8576b"
             ],
             [
              0.6666666666666666,
              "#ed7953"
             ],
             [
              0.7777777777777778,
              "#fb9f3a"
             ],
             [
              0.8888888888888888,
              "#fdca26"
             ],
             [
              1,
              "#f0f921"
             ]
            ],
            "type": "surface"
           }
          ],
          "table": [
           {
            "cells": {
             "fill": {
              "color": "#EBF0F8"
             },
             "line": {
              "color": "white"
             }
            },
            "header": {
             "fill": {
              "color": "#C8D4E3"
             },
             "line": {
              "color": "white"
             }
            },
            "type": "table"
           }
          ]
         },
         "layout": {
          "annotationdefaults": {
           "arrowcolor": "#2a3f5f",
           "arrowhead": 0,
           "arrowwidth": 1
          },
          "autotypenumbers": "strict",
          "coloraxis": {
           "colorbar": {
            "outlinewidth": 0,
            "ticks": ""
           }
          },
          "colorscale": {
           "diverging": [
            [
             0,
             "#8e0152"
            ],
            [
             0.1,
             "#c51b7d"
            ],
            [
             0.2,
             "#de77ae"
            ],
            [
             0.3,
             "#f1b6da"
            ],
            [
             0.4,
             "#fde0ef"
            ],
            [
             0.5,
             "#f7f7f7"
            ],
            [
             0.6,
             "#e6f5d0"
            ],
            [
             0.7,
             "#b8e186"
            ],
            [
             0.8,
             "#7fbc41"
            ],
            [
             0.9,
             "#4d9221"
            ],
            [
             1,
             "#276419"
            ]
           ],
           "sequential": [
            [
             0,
             "#0d0887"
            ],
            [
             0.1111111111111111,
             "#46039f"
            ],
            [
             0.2222222222222222,
             "#7201a8"
            ],
            [
             0.3333333333333333,
             "#9c179e"
            ],
            [
             0.4444444444444444,
             "#bd3786"
            ],
            [
             0.5555555555555556,
             "#d8576b"
            ],
            [
             0.6666666666666666,
             "#ed7953"
            ],
            [
             0.7777777777777778,
             "#fb9f3a"
            ],
            [
             0.8888888888888888,
             "#fdca26"
            ],
            [
             1,
             "#f0f921"
            ]
           ],
           "sequentialminus": [
            [
             0,
             "#0d0887"
            ],
            [
             0.1111111111111111,
             "#46039f"
            ],
            [
             0.2222222222222222,
             "#7201a8"
            ],
            [
             0.3333333333333333,
             "#9c179e"
            ],
            [
             0.4444444444444444,
             "#bd3786"
            ],
            [
             0.5555555555555556,
             "#d8576b"
            ],
            [
             0.6666666666666666,
             "#ed7953"
            ],
            [
             0.7777777777777778,
             "#fb9f3a"
            ],
            [
             0.8888888888888888,
             "#fdca26"
            ],
            [
             1,
             "#f0f921"
            ]
           ]
          },
          "colorway": [
           "#636efa",
           "#EF553B",
           "#00cc96",
           "#ab63fa",
           "#FFA15A",
           "#19d3f3",
           "#FF6692",
           "#B6E880",
           "#FF97FF",
           "#FECB52"
          ],
          "font": {
           "color": "#2a3f5f"
          },
          "geo": {
           "bgcolor": "white",
           "lakecolor": "white",
           "landcolor": "#E5ECF6",
           "showlakes": true,
           "showland": true,
           "subunitcolor": "white"
          },
          "hoverlabel": {
           "align": "left"
          },
          "hovermode": "closest",
          "mapbox": {
           "style": "light"
          },
          "paper_bgcolor": "white",
          "plot_bgcolor": "#E5ECF6",
          "polar": {
           "angularaxis": {
            "gridcolor": "white",
            "linecolor": "white",
            "ticks": ""
           },
           "bgcolor": "#E5ECF6",
           "radialaxis": {
            "gridcolor": "white",
            "linecolor": "white",
            "ticks": ""
           }
          },
          "scene": {
           "xaxis": {
            "backgroundcolor": "#E5ECF6",
            "gridcolor": "white",
            "gridwidth": 2,
            "linecolor": "white",
            "showbackground": true,
            "ticks": "",
            "zerolinecolor": "white"
           },
           "yaxis": {
            "backgroundcolor": "#E5ECF6",
            "gridcolor": "white",
            "gridwidth": 2,
            "linecolor": "white",
            "showbackground": true,
            "ticks": "",
            "zerolinecolor": "white"
           },
           "zaxis": {
            "backgroundcolor": "#E5ECF6",
            "gridcolor": "white",
            "gridwidth": 2,
            "linecolor": "white",
            "showbackground": true,
            "ticks": "",
            "zerolinecolor": "white"
           }
          },
          "shapedefaults": {
           "line": {
            "color": "#2a3f5f"
           }
          },
          "ternary": {
           "aaxis": {
            "gridcolor": "white",
            "linecolor": "white",
            "ticks": ""
           },
           "baxis": {
            "gridcolor": "white",
            "linecolor": "white",
            "ticks": ""
           },
           "bgcolor": "#E5ECF6",
           "caxis": {
            "gridcolor": "white",
            "linecolor": "white",
            "ticks": ""
           }
          },
          "title": {
           "x": 0.05
          },
          "xaxis": {
           "automargin": true,
           "gridcolor": "white",
           "linecolor": "white",
           "ticks": "",
           "title": {
            "standoff": 15
           },
           "zerolinecolor": "white",
           "zerolinewidth": 2
          },
          "yaxis": {
           "automargin": true,
           "gridcolor": "white",
           "linecolor": "white",
           "ticks": "",
           "title": {
            "standoff": 15
           },
           "zerolinecolor": "white",
           "zerolinewidth": 2
          }
         }
        },
        "title": {
         "font": {
          "color": "#4D5663"
         }
        },
        "xaxis": {
         "gridcolor": "#E1E5ED",
         "showgrid": true,
         "tickfont": {
          "color": "#4D5663"
         },
         "title": {
          "font": {
           "color": "#4D5663"
          },
          "text": ""
         },
         "zerolinecolor": "#E1E5ED"
        },
        "yaxis": {
         "gridcolor": "#E1E5ED",
         "showgrid": true,
         "tickfont": {
          "color": "#4D5663"
         },
         "title": {
          "font": {
           "color": "#4D5663"
          },
          "text": ""
         },
         "zerolinecolor": "#E1E5ED"
        }
       }
      },
      "text/html": [
       "<div>                            <div id=\"b01b1298-327a-457f-b6d4-a80076b88e81\" class=\"plotly-graph-div\" style=\"height:525px; width:100%;\"></div>            <script type=\"text/javascript\">                require([\"plotly\"], function(Plotly) {                    window.PLOTLYENV=window.PLOTLYENV || {};\n",
       "                    window.PLOTLYENV.BASE_URL='https://plot.ly';                                    if (document.getElementById(\"b01b1298-327a-457f-b6d4-a80076b88e81\")) {                    Plotly.newPlot(                        \"b01b1298-327a-457f-b6d4-a80076b88e81\",                        [{\"colorscale\":[[0.0,\"rgb(255, 153, 51)\"],[0.1111111111111111,\"rgb(55, 128, 191)\"],[0.2222222222222222,\"rgb(50, 171, 96)\"],[0.3333333333333333,\"rgb(128, 0, 128)\"],[0.4444444444444444,\"rgb(219, 64, 82)\"],[0.5555555555555556,\"rgb(0, 128, 128)\"],[0.6666666666666666,\"rgb(255, 255, 51)\"],[0.7777777777777778,\"rgb(128, 128, 0)\"],[0.8888888888888888,\"rgb(251, 128, 114)\"],[1.0,\"rgb(128, 177, 211)\"]],\"x\":[0,1,2,3,4],\"y\":[\"x\",\"y\",\"z\"],\"z\":[[1,2,3,4,5],[10,20,30,20,10],[5,4,3,2,1]],\"type\":\"surface\"}],                        {\"legend\":{\"bgcolor\":\"#F5F6F9\",\"font\":{\"color\":\"#4D5663\"}},\"paper_bgcolor\":\"#F5F6F9\",\"plot_bgcolor\":\"#F5F6F9\",\"template\":{\"data\":{\"barpolar\":[{\"marker\":{\"line\":{\"color\":\"#E5ECF6\",\"width\":0.5},\"pattern\":{\"fillmode\":\"overlay\",\"size\":10,\"solidity\":0.2}},\"type\":\"barpolar\"}],\"bar\":[{\"error_x\":{\"color\":\"#2a3f5f\"},\"error_y\":{\"color\":\"#2a3f5f\"},\"marker\":{\"line\":{\"color\":\"#E5ECF6\",\"width\":0.5},\"pattern\":{\"fillmode\":\"overlay\",\"size\":10,\"solidity\":0.2}},\"type\":\"bar\"}],\"carpet\":[{\"aaxis\":{\"endlinecolor\":\"#2a3f5f\",\"gridcolor\":\"white\",\"linecolor\":\"white\",\"minorgridcolor\":\"white\",\"startlinecolor\":\"#2a3f5f\"},\"baxis\":{\"endlinecolor\":\"#2a3f5f\",\"gridcolor\":\"white\",\"linecolor\":\"white\",\"minorgridcolor\":\"white\",\"startlinecolor\":\"#2a3f5f\"},\"type\":\"carpet\"}],\"choropleth\":[{\"colorbar\":{\"outlinewidth\":0,\"ticks\":\"\"},\"type\":\"choropleth\"}],\"contourcarpet\":[{\"colorbar\":{\"outlinewidth\":0,\"ticks\":\"\"},\"type\":\"contourcarpet\"}],\"contour\":[{\"colorbar\":{\"outlinewidth\":0,\"ticks\":\"\"},\"colorscale\":[[0.0,\"#0d0887\"],[0.1111111111111111,\"#46039f\"],[0.2222222222222222,\"#7201a8\"],[0.3333333333333333,\"#9c179e\"],[0.4444444444444444,\"#bd3786\"],[0.5555555555555556,\"#d8576b\"],[0.6666666666666666,\"#ed7953\"],[0.7777777777777778,\"#fb9f3a\"],[0.8888888888888888,\"#fdca26\"],[1.0,\"#f0f921\"]],\"type\":\"contour\"}],\"heatmapgl\":[{\"colorbar\":{\"outlinewidth\":0,\"ticks\":\"\"},\"colorscale\":[[0.0,\"#0d0887\"],[0.1111111111111111,\"#46039f\"],[0.2222222222222222,\"#7201a8\"],[0.3333333333333333,\"#9c179e\"],[0.4444444444444444,\"#bd3786\"],[0.5555555555555556,\"#d8576b\"],[0.6666666666666666,\"#ed7953\"],[0.7777777777777778,\"#fb9f3a\"],[0.8888888888888888,\"#fdca26\"],[1.0,\"#f0f921\"]],\"type\":\"heatmapgl\"}],\"heatmap\":[{\"colorbar\":{\"outlinewidth\":0,\"ticks\":\"\"},\"colorscale\":[[0.0,\"#0d0887\"],[0.1111111111111111,\"#46039f\"],[0.2222222222222222,\"#7201a8\"],[0.3333333333333333,\"#9c179e\"],[0.4444444444444444,\"#bd3786\"],[0.5555555555555556,\"#d8576b\"],[0.6666666666666666,\"#ed7953\"],[0.7777777777777778,\"#fb9f3a\"],[0.8888888888888888,\"#fdca26\"],[1.0,\"#f0f921\"]],\"type\":\"heatmap\"}],\"histogram2dcontour\":[{\"colorbar\":{\"outlinewidth\":0,\"ticks\":\"\"},\"colorscale\":[[0.0,\"#0d0887\"],[0.1111111111111111,\"#46039f\"],[0.2222222222222222,\"#7201a8\"],[0.3333333333333333,\"#9c179e\"],[0.4444444444444444,\"#bd3786\"],[0.5555555555555556,\"#d8576b\"],[0.6666666666666666,\"#ed7953\"],[0.7777777777777778,\"#fb9f3a\"],[0.8888888888888888,\"#fdca26\"],[1.0,\"#f0f921\"]],\"type\":\"histogram2dcontour\"}],\"histogram2d\":[{\"colorbar\":{\"outlinewidth\":0,\"ticks\":\"\"},\"colorscale\":[[0.0,\"#0d0887\"],[0.1111111111111111,\"#46039f\"],[0.2222222222222222,\"#7201a8\"],[0.3333333333333333,\"#9c179e\"],[0.4444444444444444,\"#bd3786\"],[0.5555555555555556,\"#d8576b\"],[0.6666666666666666,\"#ed7953\"],[0.7777777777777778,\"#fb9f3a\"],[0.8888888888888888,\"#fdca26\"],[1.0,\"#f0f921\"]],\"type\":\"histogram2d\"}],\"histogram\":[{\"marker\":{\"pattern\":{\"fillmode\":\"overlay\",\"size\":10,\"solidity\":0.2}},\"type\":\"histogram\"}],\"mesh3d\":[{\"colorbar\":{\"outlinewidth\":0,\"ticks\":\"\"},\"type\":\"mesh3d\"}],\"parcoords\":[{\"line\":{\"colorbar\":{\"outlinewidth\":0,\"ticks\":\"\"}},\"type\":\"parcoords\"}],\"pie\":[{\"automargin\":true,\"type\":\"pie\"}],\"scatter3d\":[{\"line\":{\"colorbar\":{\"outlinewidth\":0,\"ticks\":\"\"}},\"marker\":{\"colorbar\":{\"outlinewidth\":0,\"ticks\":\"\"}},\"type\":\"scatter3d\"}],\"scattercarpet\":[{\"marker\":{\"colorbar\":{\"outlinewidth\":0,\"ticks\":\"\"}},\"type\":\"scattercarpet\"}],\"scattergeo\":[{\"marker\":{\"colorbar\":{\"outlinewidth\":0,\"ticks\":\"\"}},\"type\":\"scattergeo\"}],\"scattergl\":[{\"marker\":{\"colorbar\":{\"outlinewidth\":0,\"ticks\":\"\"}},\"type\":\"scattergl\"}],\"scattermapbox\":[{\"marker\":{\"colorbar\":{\"outlinewidth\":0,\"ticks\":\"\"}},\"type\":\"scattermapbox\"}],\"scatterpolargl\":[{\"marker\":{\"colorbar\":{\"outlinewidth\":0,\"ticks\":\"\"}},\"type\":\"scatterpolargl\"}],\"scatterpolar\":[{\"marker\":{\"colorbar\":{\"outlinewidth\":0,\"ticks\":\"\"}},\"type\":\"scatterpolar\"}],\"scatter\":[{\"marker\":{\"colorbar\":{\"outlinewidth\":0,\"ticks\":\"\"}},\"type\":\"scatter\"}],\"scatterternary\":[{\"marker\":{\"colorbar\":{\"outlinewidth\":0,\"ticks\":\"\"}},\"type\":\"scatterternary\"}],\"surface\":[{\"colorbar\":{\"outlinewidth\":0,\"ticks\":\"\"},\"colorscale\":[[0.0,\"#0d0887\"],[0.1111111111111111,\"#46039f\"],[0.2222222222222222,\"#7201a8\"],[0.3333333333333333,\"#9c179e\"],[0.4444444444444444,\"#bd3786\"],[0.5555555555555556,\"#d8576b\"],[0.6666666666666666,\"#ed7953\"],[0.7777777777777778,\"#fb9f3a\"],[0.8888888888888888,\"#fdca26\"],[1.0,\"#f0f921\"]],\"type\":\"surface\"}],\"table\":[{\"cells\":{\"fill\":{\"color\":\"#EBF0F8\"},\"line\":{\"color\":\"white\"}},\"header\":{\"fill\":{\"color\":\"#C8D4E3\"},\"line\":{\"color\":\"white\"}},\"type\":\"table\"}]},\"layout\":{\"annotationdefaults\":{\"arrowcolor\":\"#2a3f5f\",\"arrowhead\":0,\"arrowwidth\":1},\"autotypenumbers\":\"strict\",\"coloraxis\":{\"colorbar\":{\"outlinewidth\":0,\"ticks\":\"\"}},\"colorscale\":{\"diverging\":[[0,\"#8e0152\"],[0.1,\"#c51b7d\"],[0.2,\"#de77ae\"],[0.3,\"#f1b6da\"],[0.4,\"#fde0ef\"],[0.5,\"#f7f7f7\"],[0.6,\"#e6f5d0\"],[0.7,\"#b8e186\"],[0.8,\"#7fbc41\"],[0.9,\"#4d9221\"],[1,\"#276419\"]],\"sequential\":[[0.0,\"#0d0887\"],[0.1111111111111111,\"#46039f\"],[0.2222222222222222,\"#7201a8\"],[0.3333333333333333,\"#9c179e\"],[0.4444444444444444,\"#bd3786\"],[0.5555555555555556,\"#d8576b\"],[0.6666666666666666,\"#ed7953\"],[0.7777777777777778,\"#fb9f3a\"],[0.8888888888888888,\"#fdca26\"],[1.0,\"#f0f921\"]],\"sequentialminus\":[[0.0,\"#0d0887\"],[0.1111111111111111,\"#46039f\"],[0.2222222222222222,\"#7201a8\"],[0.3333333333333333,\"#9c179e\"],[0.4444444444444444,\"#bd3786\"],[0.5555555555555556,\"#d8576b\"],[0.6666666666666666,\"#ed7953\"],[0.7777777777777778,\"#fb9f3a\"],[0.8888888888888888,\"#fdca26\"],[1.0,\"#f0f921\"]]},\"colorway\":[\"#636efa\",\"#EF553B\",\"#00cc96\",\"#ab63fa\",\"#FFA15A\",\"#19d3f3\",\"#FF6692\",\"#B6E880\",\"#FF97FF\",\"#FECB52\"],\"font\":{\"color\":\"#2a3f5f\"},\"geo\":{\"bgcolor\":\"white\",\"lakecolor\":\"white\",\"landcolor\":\"#E5ECF6\",\"showlakes\":true,\"showland\":true,\"subunitcolor\":\"white\"},\"hoverlabel\":{\"align\":\"left\"},\"hovermode\":\"closest\",\"mapbox\":{\"style\":\"light\"},\"paper_bgcolor\":\"white\",\"plot_bgcolor\":\"#E5ECF6\",\"polar\":{\"angularaxis\":{\"gridcolor\":\"white\",\"linecolor\":\"white\",\"ticks\":\"\"},\"bgcolor\":\"#E5ECF6\",\"radialaxis\":{\"gridcolor\":\"white\",\"linecolor\":\"white\",\"ticks\":\"\"}},\"scene\":{\"xaxis\":{\"backgroundcolor\":\"#E5ECF6\",\"gridcolor\":\"white\",\"gridwidth\":2,\"linecolor\":\"white\",\"showbackground\":true,\"ticks\":\"\",\"zerolinecolor\":\"white\"},\"yaxis\":{\"backgroundcolor\":\"#E5ECF6\",\"gridcolor\":\"white\",\"gridwidth\":2,\"linecolor\":\"white\",\"showbackground\":true,\"ticks\":\"\",\"zerolinecolor\":\"white\"},\"zaxis\":{\"backgroundcolor\":\"#E5ECF6\",\"gridcolor\":\"white\",\"gridwidth\":2,\"linecolor\":\"white\",\"showbackground\":true,\"ticks\":\"\",\"zerolinecolor\":\"white\"}},\"shapedefaults\":{\"line\":{\"color\":\"#2a3f5f\"}},\"ternary\":{\"aaxis\":{\"gridcolor\":\"white\",\"linecolor\":\"white\",\"ticks\":\"\"},\"baxis\":{\"gridcolor\":\"white\",\"linecolor\":\"white\",\"ticks\":\"\"},\"bgcolor\":\"#E5ECF6\",\"caxis\":{\"gridcolor\":\"white\",\"linecolor\":\"white\",\"ticks\":\"\"}},\"title\":{\"x\":0.05},\"xaxis\":{\"automargin\":true,\"gridcolor\":\"white\",\"linecolor\":\"white\",\"ticks\":\"\",\"title\":{\"standoff\":15},\"zerolinecolor\":\"white\",\"zerolinewidth\":2},\"yaxis\":{\"automargin\":true,\"gridcolor\":\"white\",\"linecolor\":\"white\",\"ticks\":\"\",\"title\":{\"standoff\":15},\"zerolinecolor\":\"white\",\"zerolinewidth\":2}}},\"title\":{\"font\":{\"color\":\"#4D5663\"}},\"xaxis\":{\"gridcolor\":\"#E1E5ED\",\"showgrid\":true,\"tickfont\":{\"color\":\"#4D5663\"},\"title\":{\"font\":{\"color\":\"#4D5663\"},\"text\":\"\"},\"zerolinecolor\":\"#E1E5ED\"},\"yaxis\":{\"gridcolor\":\"#E1E5ED\",\"showgrid\":true,\"tickfont\":{\"color\":\"#4D5663\"},\"title\":{\"font\":{\"color\":\"#4D5663\"},\"text\":\"\"},\"zerolinecolor\":\"#E1E5ED\"}},                        {\"showLink\": true, \"linkText\": \"Export to plot.ly\", \"plotlyServerURL\": \"https://plot.ly\", \"responsive\": true}                    ).then(function(){\n",
       "                            \n",
       "var gd = document.getElementById('b01b1298-327a-457f-b6d4-a80076b88e81');\n",
       "var x = new MutationObserver(function (mutations, observer) {{\n",
       "        var display = window.getComputedStyle(gd).display;\n",
       "        if (!display || display === 'none') {{\n",
       "            console.log([gd, 'removed!']);\n",
       "            Plotly.purge(gd);\n",
       "            observer.disconnect();\n",
       "        }}\n",
       "}});\n",
       "\n",
       "// Listen for the removal of the full notebook cells\n",
       "var notebookContainer = gd.closest('#notebook-container');\n",
       "if (notebookContainer) {{\n",
       "    x.observe(notebookContainer, {childList: true});\n",
       "}}\n",
       "\n",
       "// Listen for the clearing of the current output cell\n",
       "var outputEl = gd.closest('.output');\n",
       "if (outputEl) {{\n",
       "    x.observe(outputEl, {childList: true});\n",
       "}}\n",
       "\n",
       "                        })                };                });            </script>        </div>"
      ]
     },
     "metadata": {},
     "output_type": "display_data"
    }
   ],
   "source": [
    "df4.iplot(kind='surface')"
   ]
  },
  {
   "cell_type": "code",
   "execution_count": 67,
   "id": "3e7dbe90",
   "metadata": {},
   "outputs": [
    {
     "data": {
      "application/vnd.plotly.v1+json": {
       "config": {
        "linkText": "Export to plot.ly",
        "plotlyServerURL": "https://plot.ly",
        "showLink": true
       },
       "data": [
        {
         "colorscale": [
          [
           0,
           "rgb(165,0,38)"
          ],
          [
           0.1,
           "rgb(215,48,39)"
          ],
          [
           0.2,
           "rgb(244,109,67)"
          ],
          [
           0.3,
           "rgb(253,174,97)"
          ],
          [
           0.4,
           "rgb(254,224,144)"
          ],
          [
           0.5,
           "rgb(255,255,191)"
          ],
          [
           0.6,
           "rgb(224,243,248)"
          ],
          [
           0.7,
           "rgb(171,217,233)"
          ],
          [
           0.8,
           "rgb(116,173,209)"
          ],
          [
           0.9,
           "rgb(69,117,180)"
          ],
          [
           1,
           "rgb(49,54,149)"
          ]
         ],
         "type": "surface",
         "x": [
          0,
          1,
          2,
          3,
          4
         ],
         "y": [
          "x",
          "y",
          "z"
         ],
         "z": [
          [
           1,
           2,
           3,
           4,
           5
          ],
          [
           10,
           20,
           30,
           20,
           10
          ],
          [
           5,
           4,
           3,
           2,
           1
          ]
         ]
        }
       ],
       "layout": {
        "legend": {
         "bgcolor": "#F5F6F9",
         "font": {
          "color": "#4D5663"
         }
        },
        "paper_bgcolor": "#F5F6F9",
        "plot_bgcolor": "#F5F6F9",
        "template": {
         "data": {
          "bar": [
           {
            "error_x": {
             "color": "#2a3f5f"
            },
            "error_y": {
             "color": "#2a3f5f"
            },
            "marker": {
             "line": {
              "color": "#E5ECF6",
              "width": 0.5
             },
             "pattern": {
              "fillmode": "overlay",
              "size": 10,
              "solidity": 0.2
             }
            },
            "type": "bar"
           }
          ],
          "barpolar": [
           {
            "marker": {
             "line": {
              "color": "#E5ECF6",
              "width": 0.5
             },
             "pattern": {
              "fillmode": "overlay",
              "size": 10,
              "solidity": 0.2
             }
            },
            "type": "barpolar"
           }
          ],
          "carpet": [
           {
            "aaxis": {
             "endlinecolor": "#2a3f5f",
             "gridcolor": "white",
             "linecolor": "white",
             "minorgridcolor": "white",
             "startlinecolor": "#2a3f5f"
            },
            "baxis": {
             "endlinecolor": "#2a3f5f",
             "gridcolor": "white",
             "linecolor": "white",
             "minorgridcolor": "white",
             "startlinecolor": "#2a3f5f"
            },
            "type": "carpet"
           }
          ],
          "choropleth": [
           {
            "colorbar": {
             "outlinewidth": 0,
             "ticks": ""
            },
            "type": "choropleth"
           }
          ],
          "contour": [
           {
            "colorbar": {
             "outlinewidth": 0,
             "ticks": ""
            },
            "colorscale": [
             [
              0,
              "#0d0887"
             ],
             [
              0.1111111111111111,
              "#46039f"
             ],
             [
              0.2222222222222222,
              "#7201a8"
             ],
             [
              0.3333333333333333,
              "#9c179e"
             ],
             [
              0.4444444444444444,
              "#bd3786"
             ],
             [
              0.5555555555555556,
              "#d8576b"
             ],
             [
              0.6666666666666666,
              "#ed7953"
             ],
             [
              0.7777777777777778,
              "#fb9f3a"
             ],
             [
              0.8888888888888888,
              "#fdca26"
             ],
             [
              1,
              "#f0f921"
             ]
            ],
            "type": "contour"
           }
          ],
          "contourcarpet": [
           {
            "colorbar": {
             "outlinewidth": 0,
             "ticks": ""
            },
            "type": "contourcarpet"
           }
          ],
          "heatmap": [
           {
            "colorbar": {
             "outlinewidth": 0,
             "ticks": ""
            },
            "colorscale": [
             [
              0,
              "#0d0887"
             ],
             [
              0.1111111111111111,
              "#46039f"
             ],
             [
              0.2222222222222222,
              "#7201a8"
             ],
             [
              0.3333333333333333,
              "#9c179e"
             ],
             [
              0.4444444444444444,
              "#bd3786"
             ],
             [
              0.5555555555555556,
              "#d8576b"
             ],
             [
              0.6666666666666666,
              "#ed7953"
             ],
             [
              0.7777777777777778,
              "#fb9f3a"
             ],
             [
              0.8888888888888888,
              "#fdca26"
             ],
             [
              1,
              "#f0f921"
             ]
            ],
            "type": "heatmap"
           }
          ],
          "heatmapgl": [
           {
            "colorbar": {
             "outlinewidth": 0,
             "ticks": ""
            },
            "colorscale": [
             [
              0,
              "#0d0887"
             ],
             [
              0.1111111111111111,
              "#46039f"
             ],
             [
              0.2222222222222222,
              "#7201a8"
             ],
             [
              0.3333333333333333,
              "#9c179e"
             ],
             [
              0.4444444444444444,
              "#bd3786"
             ],
             [
              0.5555555555555556,
              "#d8576b"
             ],
             [
              0.6666666666666666,
              "#ed7953"
             ],
             [
              0.7777777777777778,
              "#fb9f3a"
             ],
             [
              0.8888888888888888,
              "#fdca26"
             ],
             [
              1,
              "#f0f921"
             ]
            ],
            "type": "heatmapgl"
           }
          ],
          "histogram": [
           {
            "marker": {
             "pattern": {
              "fillmode": "overlay",
              "size": 10,
              "solidity": 0.2
             }
            },
            "type": "histogram"
           }
          ],
          "histogram2d": [
           {
            "colorbar": {
             "outlinewidth": 0,
             "ticks": ""
            },
            "colorscale": [
             [
              0,
              "#0d0887"
             ],
             [
              0.1111111111111111,
              "#46039f"
             ],
             [
              0.2222222222222222,
              "#7201a8"
             ],
             [
              0.3333333333333333,
              "#9c179e"
             ],
             [
              0.4444444444444444,
              "#bd3786"
             ],
             [
              0.5555555555555556,
              "#d8576b"
             ],
             [
              0.6666666666666666,
              "#ed7953"
             ],
             [
              0.7777777777777778,
              "#fb9f3a"
             ],
             [
              0.8888888888888888,
              "#fdca26"
             ],
             [
              1,
              "#f0f921"
             ]
            ],
            "type": "histogram2d"
           }
          ],
          "histogram2dcontour": [
           {
            "colorbar": {
             "outlinewidth": 0,
             "ticks": ""
            },
            "colorscale": [
             [
              0,
              "#0d0887"
             ],
             [
              0.1111111111111111,
              "#46039f"
             ],
             [
              0.2222222222222222,
              "#7201a8"
             ],
             [
              0.3333333333333333,
              "#9c179e"
             ],
             [
              0.4444444444444444,
              "#bd3786"
             ],
             [
              0.5555555555555556,
              "#d8576b"
             ],
             [
              0.6666666666666666,
              "#ed7953"
             ],
             [
              0.7777777777777778,
              "#fb9f3a"
             ],
             [
              0.8888888888888888,
              "#fdca26"
             ],
             [
              1,
              "#f0f921"
             ]
            ],
            "type": "histogram2dcontour"
           }
          ],
          "mesh3d": [
           {
            "colorbar": {
             "outlinewidth": 0,
             "ticks": ""
            },
            "type": "mesh3d"
           }
          ],
          "parcoords": [
           {
            "line": {
             "colorbar": {
              "outlinewidth": 0,
              "ticks": ""
             }
            },
            "type": "parcoords"
           }
          ],
          "pie": [
           {
            "automargin": true,
            "type": "pie"
           }
          ],
          "scatter": [
           {
            "marker": {
             "colorbar": {
              "outlinewidth": 0,
              "ticks": ""
             }
            },
            "type": "scatter"
           }
          ],
          "scatter3d": [
           {
            "line": {
             "colorbar": {
              "outlinewidth": 0,
              "ticks": ""
             }
            },
            "marker": {
             "colorbar": {
              "outlinewidth": 0,
              "ticks": ""
             }
            },
            "type": "scatter3d"
           }
          ],
          "scattercarpet": [
           {
            "marker": {
             "colorbar": {
              "outlinewidth": 0,
              "ticks": ""
             }
            },
            "type": "scattercarpet"
           }
          ],
          "scattergeo": [
           {
            "marker": {
             "colorbar": {
              "outlinewidth": 0,
              "ticks": ""
             }
            },
            "type": "scattergeo"
           }
          ],
          "scattergl": [
           {
            "marker": {
             "colorbar": {
              "outlinewidth": 0,
              "ticks": ""
             }
            },
            "type": "scattergl"
           }
          ],
          "scattermapbox": [
           {
            "marker": {
             "colorbar": {
              "outlinewidth": 0,
              "ticks": ""
             }
            },
            "type": "scattermapbox"
           }
          ],
          "scatterpolar": [
           {
            "marker": {
             "colorbar": {
              "outlinewidth": 0,
              "ticks": ""
             }
            },
            "type": "scatterpolar"
           }
          ],
          "scatterpolargl": [
           {
            "marker": {
             "colorbar": {
              "outlinewidth": 0,
              "ticks": ""
             }
            },
            "type": "scatterpolargl"
           }
          ],
          "scatterternary": [
           {
            "marker": {
             "colorbar": {
              "outlinewidth": 0,
              "ticks": ""
             }
            },
            "type": "scatterternary"
           }
          ],
          "surface": [
           {
            "colorbar": {
             "outlinewidth": 0,
             "ticks": ""
            },
            "colorscale": [
             [
              0,
              "#0d0887"
             ],
             [
              0.1111111111111111,
              "#46039f"
             ],
             [
              0.2222222222222222,
              "#7201a8"
             ],
             [
              0.3333333333333333,
              "#9c179e"
             ],
             [
              0.4444444444444444,
              "#bd3786"
             ],
             [
              0.5555555555555556,
              "#d8576b"
             ],
             [
              0.6666666666666666,
              "#ed7953"
             ],
             [
              0.7777777777777778,
              "#fb9f3a"
             ],
             [
              0.8888888888888888,
              "#fdca26"
             ],
             [
              1,
              "#f0f921"
             ]
            ],
            "type": "surface"
           }
          ],
          "table": [
           {
            "cells": {
             "fill": {
              "color": "#EBF0F8"
             },
             "line": {
              "color": "white"
             }
            },
            "header": {
             "fill": {
              "color": "#C8D4E3"
             },
             "line": {
              "color": "white"
             }
            },
            "type": "table"
           }
          ]
         },
         "layout": {
          "annotationdefaults": {
           "arrowcolor": "#2a3f5f",
           "arrowhead": 0,
           "arrowwidth": 1
          },
          "autotypenumbers": "strict",
          "coloraxis": {
           "colorbar": {
            "outlinewidth": 0,
            "ticks": ""
           }
          },
          "colorscale": {
           "diverging": [
            [
             0,
             "#8e0152"
            ],
            [
             0.1,
             "#c51b7d"
            ],
            [
             0.2,
             "#de77ae"
            ],
            [
             0.3,
             "#f1b6da"
            ],
            [
             0.4,
             "#fde0ef"
            ],
            [
             0.5,
             "#f7f7f7"
            ],
            [
             0.6,
             "#e6f5d0"
            ],
            [
             0.7,
             "#b8e186"
            ],
            [
             0.8,
             "#7fbc41"
            ],
            [
             0.9,
             "#4d9221"
            ],
            [
             1,
             "#276419"
            ]
           ],
           "sequential": [
            [
             0,
             "#0d0887"
            ],
            [
             0.1111111111111111,
             "#46039f"
            ],
            [
             0.2222222222222222,
             "#7201a8"
            ],
            [
             0.3333333333333333,
             "#9c179e"
            ],
            [
             0.4444444444444444,
             "#bd3786"
            ],
            [
             0.5555555555555556,
             "#d8576b"
            ],
            [
             0.6666666666666666,
             "#ed7953"
            ],
            [
             0.7777777777777778,
             "#fb9f3a"
            ],
            [
             0.8888888888888888,
             "#fdca26"
            ],
            [
             1,
             "#f0f921"
            ]
           ],
           "sequentialminus": [
            [
             0,
             "#0d0887"
            ],
            [
             0.1111111111111111,
             "#46039f"
            ],
            [
             0.2222222222222222,
             "#7201a8"
            ],
            [
             0.3333333333333333,
             "#9c179e"
            ],
            [
             0.4444444444444444,
             "#bd3786"
            ],
            [
             0.5555555555555556,
             "#d8576b"
            ],
            [
             0.6666666666666666,
             "#ed7953"
            ],
            [
             0.7777777777777778,
             "#fb9f3a"
            ],
            [
             0.8888888888888888,
             "#fdca26"
            ],
            [
             1,
             "#f0f921"
            ]
           ]
          },
          "colorway": [
           "#636efa",
           "#EF553B",
           "#00cc96",
           "#ab63fa",
           "#FFA15A",
           "#19d3f3",
           "#FF6692",
           "#B6E880",
           "#FF97FF",
           "#FECB52"
          ],
          "font": {
           "color": "#2a3f5f"
          },
          "geo": {
           "bgcolor": "white",
           "lakecolor": "white",
           "landcolor": "#E5ECF6",
           "showlakes": true,
           "showland": true,
           "subunitcolor": "white"
          },
          "hoverlabel": {
           "align": "left"
          },
          "hovermode": "closest",
          "mapbox": {
           "style": "light"
          },
          "paper_bgcolor": "white",
          "plot_bgcolor": "#E5ECF6",
          "polar": {
           "angularaxis": {
            "gridcolor": "white",
            "linecolor": "white",
            "ticks": ""
           },
           "bgcolor": "#E5ECF6",
           "radialaxis": {
            "gridcolor": "white",
            "linecolor": "white",
            "ticks": ""
           }
          },
          "scene": {
           "xaxis": {
            "backgroundcolor": "#E5ECF6",
            "gridcolor": "white",
            "gridwidth": 2,
            "linecolor": "white",
            "showbackground": true,
            "ticks": "",
            "zerolinecolor": "white"
           },
           "yaxis": {
            "backgroundcolor": "#E5ECF6",
            "gridcolor": "white",
            "gridwidth": 2,
            "linecolor": "white",
            "showbackground": true,
            "ticks": "",
            "zerolinecolor": "white"
           },
           "zaxis": {
            "backgroundcolor": "#E5ECF6",
            "gridcolor": "white",
            "gridwidth": 2,
            "linecolor": "white",
            "showbackground": true,
            "ticks": "",
            "zerolinecolor": "white"
           }
          },
          "shapedefaults": {
           "line": {
            "color": "#2a3f5f"
           }
          },
          "ternary": {
           "aaxis": {
            "gridcolor": "white",
            "linecolor": "white",
            "ticks": ""
           },
           "baxis": {
            "gridcolor": "white",
            "linecolor": "white",
            "ticks": ""
           },
           "bgcolor": "#E5ECF6",
           "caxis": {
            "gridcolor": "white",
            "linecolor": "white",
            "ticks": ""
           }
          },
          "title": {
           "x": 0.05
          },
          "xaxis": {
           "automargin": true,
           "gridcolor": "white",
           "linecolor": "white",
           "ticks": "",
           "title": {
            "standoff": 15
           },
           "zerolinecolor": "white",
           "zerolinewidth": 2
          },
          "yaxis": {
           "automargin": true,
           "gridcolor": "white",
           "linecolor": "white",
           "ticks": "",
           "title": {
            "standoff": 15
           },
           "zerolinecolor": "white",
           "zerolinewidth": 2
          }
         }
        },
        "title": {
         "font": {
          "color": "#4D5663"
         }
        },
        "xaxis": {
         "gridcolor": "#E1E5ED",
         "showgrid": true,
         "tickfont": {
          "color": "#4D5663"
         },
         "title": {
          "font": {
           "color": "#4D5663"
          },
          "text": ""
         },
         "zerolinecolor": "#E1E5ED"
        },
        "yaxis": {
         "gridcolor": "#E1E5ED",
         "showgrid": true,
         "tickfont": {
          "color": "#4D5663"
         },
         "title": {
          "font": {
           "color": "#4D5663"
          },
          "text": ""
         },
         "zerolinecolor": "#E1E5ED"
        }
       }
      },
      "text/html": [
       "<div>                            <div id=\"7b2ec2c0-d3c9-4148-bd94-a7750dd0327b\" class=\"plotly-graph-div\" style=\"height:525px; width:100%;\"></div>            <script type=\"text/javascript\">                require([\"plotly\"], function(Plotly) {                    window.PLOTLYENV=window.PLOTLYENV || {};\n",
       "                    window.PLOTLYENV.BASE_URL='https://plot.ly';                                    if (document.getElementById(\"7b2ec2c0-d3c9-4148-bd94-a7750dd0327b\")) {                    Plotly.newPlot(                        \"7b2ec2c0-d3c9-4148-bd94-a7750dd0327b\",                        [{\"colorscale\":[[0.0,\"rgb(165,0,38)\"],[0.1,\"rgb(215,48,39)\"],[0.2,\"rgb(244,109,67)\"],[0.3,\"rgb(253,174,97)\"],[0.4,\"rgb(254,224,144)\"],[0.5,\"rgb(255,255,191)\"],[0.6,\"rgb(224,243,248)\"],[0.7,\"rgb(171,217,233)\"],[0.8,\"rgb(116,173,209)\"],[0.9,\"rgb(69,117,180)\"],[1.0,\"rgb(49,54,149)\"]],\"x\":[0,1,2,3,4],\"y\":[\"x\",\"y\",\"z\"],\"z\":[[1,2,3,4,5],[10,20,30,20,10],[5,4,3,2,1]],\"type\":\"surface\"}],                        {\"legend\":{\"bgcolor\":\"#F5F6F9\",\"font\":{\"color\":\"#4D5663\"}},\"paper_bgcolor\":\"#F5F6F9\",\"plot_bgcolor\":\"#F5F6F9\",\"template\":{\"data\":{\"barpolar\":[{\"marker\":{\"line\":{\"color\":\"#E5ECF6\",\"width\":0.5},\"pattern\":{\"fillmode\":\"overlay\",\"size\":10,\"solidity\":0.2}},\"type\":\"barpolar\"}],\"bar\":[{\"error_x\":{\"color\":\"#2a3f5f\"},\"error_y\":{\"color\":\"#2a3f5f\"},\"marker\":{\"line\":{\"color\":\"#E5ECF6\",\"width\":0.5},\"pattern\":{\"fillmode\":\"overlay\",\"size\":10,\"solidity\":0.2}},\"type\":\"bar\"}],\"carpet\":[{\"aaxis\":{\"endlinecolor\":\"#2a3f5f\",\"gridcolor\":\"white\",\"linecolor\":\"white\",\"minorgridcolor\":\"white\",\"startlinecolor\":\"#2a3f5f\"},\"baxis\":{\"endlinecolor\":\"#2a3f5f\",\"gridcolor\":\"white\",\"linecolor\":\"white\",\"minorgridcolor\":\"white\",\"startlinecolor\":\"#2a3f5f\"},\"type\":\"carpet\"}],\"choropleth\":[{\"colorbar\":{\"outlinewidth\":0,\"ticks\":\"\"},\"type\":\"choropleth\"}],\"contourcarpet\":[{\"colorbar\":{\"outlinewidth\":0,\"ticks\":\"\"},\"type\":\"contourcarpet\"}],\"contour\":[{\"colorbar\":{\"outlinewidth\":0,\"ticks\":\"\"},\"colorscale\":[[0.0,\"#0d0887\"],[0.1111111111111111,\"#46039f\"],[0.2222222222222222,\"#7201a8\"],[0.3333333333333333,\"#9c179e\"],[0.4444444444444444,\"#bd3786\"],[0.5555555555555556,\"#d8576b\"],[0.6666666666666666,\"#ed7953\"],[0.7777777777777778,\"#fb9f3a\"],[0.8888888888888888,\"#fdca26\"],[1.0,\"#f0f921\"]],\"type\":\"contour\"}],\"heatmapgl\":[{\"colorbar\":{\"outlinewidth\":0,\"ticks\":\"\"},\"colorscale\":[[0.0,\"#0d0887\"],[0.1111111111111111,\"#46039f\"],[0.2222222222222222,\"#7201a8\"],[0.3333333333333333,\"#9c179e\"],[0.4444444444444444,\"#bd3786\"],[0.5555555555555556,\"#d8576b\"],[0.6666666666666666,\"#ed7953\"],[0.7777777777777778,\"#fb9f3a\"],[0.8888888888888888,\"#fdca26\"],[1.0,\"#f0f921\"]],\"type\":\"heatmapgl\"}],\"heatmap\":[{\"colorbar\":{\"outlinewidth\":0,\"ticks\":\"\"},\"colorscale\":[[0.0,\"#0d0887\"],[0.1111111111111111,\"#46039f\"],[0.2222222222222222,\"#7201a8\"],[0.3333333333333333,\"#9c179e\"],[0.4444444444444444,\"#bd3786\"],[0.5555555555555556,\"#d8576b\"],[0.6666666666666666,\"#ed7953\"],[0.7777777777777778,\"#fb9f3a\"],[0.8888888888888888,\"#fdca26\"],[1.0,\"#f0f921\"]],\"type\":\"heatmap\"}],\"histogram2dcontour\":[{\"colorbar\":{\"outlinewidth\":0,\"ticks\":\"\"},\"colorscale\":[[0.0,\"#0d0887\"],[0.1111111111111111,\"#46039f\"],[0.2222222222222222,\"#7201a8\"],[0.3333333333333333,\"#9c179e\"],[0.4444444444444444,\"#bd3786\"],[0.5555555555555556,\"#d8576b\"],[0.6666666666666666,\"#ed7953\"],[0.7777777777777778,\"#fb9f3a\"],[0.8888888888888888,\"#fdca26\"],[1.0,\"#f0f921\"]],\"type\":\"histogram2dcontour\"}],\"histogram2d\":[{\"colorbar\":{\"outlinewidth\":0,\"ticks\":\"\"},\"colorscale\":[[0.0,\"#0d0887\"],[0.1111111111111111,\"#46039f\"],[0.2222222222222222,\"#7201a8\"],[0.3333333333333333,\"#9c179e\"],[0.4444444444444444,\"#bd3786\"],[0.5555555555555556,\"#d8576b\"],[0.6666666666666666,\"#ed7953\"],[0.7777777777777778,\"#fb9f3a\"],[0.8888888888888888,\"#fdca26\"],[1.0,\"#f0f921\"]],\"type\":\"histogram2d\"}],\"histogram\":[{\"marker\":{\"pattern\":{\"fillmode\":\"overlay\",\"size\":10,\"solidity\":0.2}},\"type\":\"histogram\"}],\"mesh3d\":[{\"colorbar\":{\"outlinewidth\":0,\"ticks\":\"\"},\"type\":\"mesh3d\"}],\"parcoords\":[{\"line\":{\"colorbar\":{\"outlinewidth\":0,\"ticks\":\"\"}},\"type\":\"parcoords\"}],\"pie\":[{\"automargin\":true,\"type\":\"pie\"}],\"scatter3d\":[{\"line\":{\"colorbar\":{\"outlinewidth\":0,\"ticks\":\"\"}},\"marker\":{\"colorbar\":{\"outlinewidth\":0,\"ticks\":\"\"}},\"type\":\"scatter3d\"}],\"scattercarpet\":[{\"marker\":{\"colorbar\":{\"outlinewidth\":0,\"ticks\":\"\"}},\"type\":\"scattercarpet\"}],\"scattergeo\":[{\"marker\":{\"colorbar\":{\"outlinewidth\":0,\"ticks\":\"\"}},\"type\":\"scattergeo\"}],\"scattergl\":[{\"marker\":{\"colorbar\":{\"outlinewidth\":0,\"ticks\":\"\"}},\"type\":\"scattergl\"}],\"scattermapbox\":[{\"marker\":{\"colorbar\":{\"outlinewidth\":0,\"ticks\":\"\"}},\"type\":\"scattermapbox\"}],\"scatterpolargl\":[{\"marker\":{\"colorbar\":{\"outlinewidth\":0,\"ticks\":\"\"}},\"type\":\"scatterpolargl\"}],\"scatterpolar\":[{\"marker\":{\"colorbar\":{\"outlinewidth\":0,\"ticks\":\"\"}},\"type\":\"scatterpolar\"}],\"scatter\":[{\"marker\":{\"colorbar\":{\"outlinewidth\":0,\"ticks\":\"\"}},\"type\":\"scatter\"}],\"scatterternary\":[{\"marker\":{\"colorbar\":{\"outlinewidth\":0,\"ticks\":\"\"}},\"type\":\"scatterternary\"}],\"surface\":[{\"colorbar\":{\"outlinewidth\":0,\"ticks\":\"\"},\"colorscale\":[[0.0,\"#0d0887\"],[0.1111111111111111,\"#46039f\"],[0.2222222222222222,\"#7201a8\"],[0.3333333333333333,\"#9c179e\"],[0.4444444444444444,\"#bd3786\"],[0.5555555555555556,\"#d8576b\"],[0.6666666666666666,\"#ed7953\"],[0.7777777777777778,\"#fb9f3a\"],[0.8888888888888888,\"#fdca26\"],[1.0,\"#f0f921\"]],\"type\":\"surface\"}],\"table\":[{\"cells\":{\"fill\":{\"color\":\"#EBF0F8\"},\"line\":{\"color\":\"white\"}},\"header\":{\"fill\":{\"color\":\"#C8D4E3\"},\"line\":{\"color\":\"white\"}},\"type\":\"table\"}]},\"layout\":{\"annotationdefaults\":{\"arrowcolor\":\"#2a3f5f\",\"arrowhead\":0,\"arrowwidth\":1},\"autotypenumbers\":\"strict\",\"coloraxis\":{\"colorbar\":{\"outlinewidth\":0,\"ticks\":\"\"}},\"colorscale\":{\"diverging\":[[0,\"#8e0152\"],[0.1,\"#c51b7d\"],[0.2,\"#de77ae\"],[0.3,\"#f1b6da\"],[0.4,\"#fde0ef\"],[0.5,\"#f7f7f7\"],[0.6,\"#e6f5d0\"],[0.7,\"#b8e186\"],[0.8,\"#7fbc41\"],[0.9,\"#4d9221\"],[1,\"#276419\"]],\"sequential\":[[0.0,\"#0d0887\"],[0.1111111111111111,\"#46039f\"],[0.2222222222222222,\"#7201a8\"],[0.3333333333333333,\"#9c179e\"],[0.4444444444444444,\"#bd3786\"],[0.5555555555555556,\"#d8576b\"],[0.6666666666666666,\"#ed7953\"],[0.7777777777777778,\"#fb9f3a\"],[0.8888888888888888,\"#fdca26\"],[1.0,\"#f0f921\"]],\"sequentialminus\":[[0.0,\"#0d0887\"],[0.1111111111111111,\"#46039f\"],[0.2222222222222222,\"#7201a8\"],[0.3333333333333333,\"#9c179e\"],[0.4444444444444444,\"#bd3786\"],[0.5555555555555556,\"#d8576b\"],[0.6666666666666666,\"#ed7953\"],[0.7777777777777778,\"#fb9f3a\"],[0.8888888888888888,\"#fdca26\"],[1.0,\"#f0f921\"]]},\"colorway\":[\"#636efa\",\"#EF553B\",\"#00cc96\",\"#ab63fa\",\"#FFA15A\",\"#19d3f3\",\"#FF6692\",\"#B6E880\",\"#FF97FF\",\"#FECB52\"],\"font\":{\"color\":\"#2a3f5f\"},\"geo\":{\"bgcolor\":\"white\",\"lakecolor\":\"white\",\"landcolor\":\"#E5ECF6\",\"showlakes\":true,\"showland\":true,\"subunitcolor\":\"white\"},\"hoverlabel\":{\"align\":\"left\"},\"hovermode\":\"closest\",\"mapbox\":{\"style\":\"light\"},\"paper_bgcolor\":\"white\",\"plot_bgcolor\":\"#E5ECF6\",\"polar\":{\"angularaxis\":{\"gridcolor\":\"white\",\"linecolor\":\"white\",\"ticks\":\"\"},\"bgcolor\":\"#E5ECF6\",\"radialaxis\":{\"gridcolor\":\"white\",\"linecolor\":\"white\",\"ticks\":\"\"}},\"scene\":{\"xaxis\":{\"backgroundcolor\":\"#E5ECF6\",\"gridcolor\":\"white\",\"gridwidth\":2,\"linecolor\":\"white\",\"showbackground\":true,\"ticks\":\"\",\"zerolinecolor\":\"white\"},\"yaxis\":{\"backgroundcolor\":\"#E5ECF6\",\"gridcolor\":\"white\",\"gridwidth\":2,\"linecolor\":\"white\",\"showbackground\":true,\"ticks\":\"\",\"zerolinecolor\":\"white\"},\"zaxis\":{\"backgroundcolor\":\"#E5ECF6\",\"gridcolor\":\"white\",\"gridwidth\":2,\"linecolor\":\"white\",\"showbackground\":true,\"ticks\":\"\",\"zerolinecolor\":\"white\"}},\"shapedefaults\":{\"line\":{\"color\":\"#2a3f5f\"}},\"ternary\":{\"aaxis\":{\"gridcolor\":\"white\",\"linecolor\":\"white\",\"ticks\":\"\"},\"baxis\":{\"gridcolor\":\"white\",\"linecolor\":\"white\",\"ticks\":\"\"},\"bgcolor\":\"#E5ECF6\",\"caxis\":{\"gridcolor\":\"white\",\"linecolor\":\"white\",\"ticks\":\"\"}},\"title\":{\"x\":0.05},\"xaxis\":{\"automargin\":true,\"gridcolor\":\"white\",\"linecolor\":\"white\",\"ticks\":\"\",\"title\":{\"standoff\":15},\"zerolinecolor\":\"white\",\"zerolinewidth\":2},\"yaxis\":{\"automargin\":true,\"gridcolor\":\"white\",\"linecolor\":\"white\",\"ticks\":\"\",\"title\":{\"standoff\":15},\"zerolinecolor\":\"white\",\"zerolinewidth\":2}}},\"title\":{\"font\":{\"color\":\"#4D5663\"}},\"xaxis\":{\"gridcolor\":\"#E1E5ED\",\"showgrid\":true,\"tickfont\":{\"color\":\"#4D5663\"},\"title\":{\"font\":{\"color\":\"#4D5663\"},\"text\":\"\"},\"zerolinecolor\":\"#E1E5ED\"},\"yaxis\":{\"gridcolor\":\"#E1E5ED\",\"showgrid\":true,\"tickfont\":{\"color\":\"#4D5663\"},\"title\":{\"font\":{\"color\":\"#4D5663\"},\"text\":\"\"},\"zerolinecolor\":\"#E1E5ED\"}},                        {\"showLink\": true, \"linkText\": \"Export to plot.ly\", \"plotlyServerURL\": \"https://plot.ly\", \"responsive\": true}                    ).then(function(){\n",
       "                            \n",
       "var gd = document.getElementById('7b2ec2c0-d3c9-4148-bd94-a7750dd0327b');\n",
       "var x = new MutationObserver(function (mutations, observer) {{\n",
       "        var display = window.getComputedStyle(gd).display;\n",
       "        if (!display || display === 'none') {{\n",
       "            console.log([gd, 'removed!']);\n",
       "            Plotly.purge(gd);\n",
       "            observer.disconnect();\n",
       "        }}\n",
       "}});\n",
       "\n",
       "// Listen for the removal of the full notebook cells\n",
       "var notebookContainer = gd.closest('#notebook-container');\n",
       "if (notebookContainer) {{\n",
       "    x.observe(notebookContainer, {childList: true});\n",
       "}}\n",
       "\n",
       "// Listen for the clearing of the current output cell\n",
       "var outputEl = gd.closest('.output');\n",
       "if (outputEl) {{\n",
       "    x.observe(outputEl, {childList: true});\n",
       "}}\n",
       "\n",
       "                        })                };                });            </script>        </div>"
      ]
     },
     "metadata": {},
     "output_type": "display_data"
    }
   ],
   "source": [
    "df4.iplot(kind='surface', colorscale='rdylbu')"
   ]
  },
  {
   "cell_type": "code",
   "execution_count": 68,
   "id": "e200ce3b",
   "metadata": {},
   "outputs": [
    {
     "data": {
      "application/vnd.plotly.v1+json": {
       "config": {
        "linkText": "Export to plot.ly",
        "plotlyServerURL": "https://plot.ly",
        "showLink": true
       },
       "data": [
        {
         "histfunc": "count",
         "histnorm": "",
         "marker": {
          "color": "rgba(255, 153, 51, 1.0)",
          "line": {
           "color": "#4D5663",
           "width": 1.3
          }
         },
         "name": "A",
         "nbinsx": 25,
         "opacity": 0.8,
         "orientation": "v",
         "type": "histogram",
         "x": [
          0.004623521176124493,
          0.16281569506746615,
          1.4224425740072002,
          1.0465883726312297,
          1.1842576898475108,
          -0.9430017076288162,
          -0.6085150350497329,
          0.8327710604567566,
          0.7349610260402549,
          -0.2490841883443285,
          0.2219721971076617,
          -1.2381344162131944,
          0.2422425588075395,
          0.6651871185074474,
          0.08648920725692612,
          1.0069096722828492,
          0.5135885685395674,
          1.2510550806883736,
          -1.0764907866006002,
          1.5131900701575884,
          -0.21516214636280803,
          -0.9908219512508374,
          -0.48304635726610295,
          -0.3309062206065575,
          -0.5997402907722839,
          -0.2226520133817669,
          -0.09223681807908718,
          -0.9320599965705885,
          -0.6146119575534867,
          -1.8405985217209972,
          -0.07196636464122422,
          -1.1917272842793725,
          -0.1212696899713353,
          0.41431577966805777,
          1.1104672706779055,
          -0.9576385942121362,
          -0.06294522738310888,
          -0.207259397445168,
          -1.0449588125891485,
          0.7724106256129741,
          0.09848545584616183,
          -1.855603203676661,
          -0.19908444045357243,
          0.8807303289230828,
          -0.6436409911582044,
          -1.2394950322721574,
          -0.5333903959015579,
          0.08113009265143066,
          0.3121856933497823,
          -1.6231237399849323,
          0.4262435294386619,
          -0.5754254419012534,
          1.472988451795054,
          -0.48801630030810406,
          0.31591838578850046,
          -0.20911915762697417,
          0.513052823155541,
          -0.894640737393719,
          0.11303368243634235,
          0.08126390492515637,
          0.8265265186825116,
          1.5199902351604946,
          0.20409263911347916,
          -0.549468299736583,
          1.6351857717316323,
          -1.3272902155743422,
          0.3882066558678317,
          0.3584136011973048,
          2.315912702942067,
          1.104337817545148,
          0.33035701635016934,
          -1.2452283168205998,
          -0.5958689580863932,
          -0.06441653627456218,
          0.5647656230700507,
          0.9987758735688422,
          -0.141260329807457,
          -0.5973353039913025,
          0.4786330161546429,
          0.5501368588768211,
          0.8511598466974138,
          0.3742405334903403,
          -0.30177615255004636,
          1.7609112031453364,
          -0.24623366538207506,
          -0.014729716842070764,
          -2.121790882536806,
          -1.3267770846391103,
          -0.8570527379474144,
          -0.24849451967740438,
          -0.22805041501320314,
          0.527751794561854,
          1.3824145693759025,
          0.748002990817415,
          -1.216462277265814,
          -0.590361800281665,
          -1.3125371550384277,
          0.6182744698313806,
          0.05728572122844015,
          1.4364291765621007
         ]
        }
       ],
       "layout": {
        "barmode": "overlay",
        "legend": {
         "bgcolor": "#F5F6F9",
         "font": {
          "color": "#4D5663"
         }
        },
        "paper_bgcolor": "#F5F6F9",
        "plot_bgcolor": "#F5F6F9",
        "template": {
         "data": {
          "bar": [
           {
            "error_x": {
             "color": "#2a3f5f"
            },
            "error_y": {
             "color": "#2a3f5f"
            },
            "marker": {
             "line": {
              "color": "#E5ECF6",
              "width": 0.5
             },
             "pattern": {
              "fillmode": "overlay",
              "size": 10,
              "solidity": 0.2
             }
            },
            "type": "bar"
           }
          ],
          "barpolar": [
           {
            "marker": {
             "line": {
              "color": "#E5ECF6",
              "width": 0.5
             },
             "pattern": {
              "fillmode": "overlay",
              "size": 10,
              "solidity": 0.2
             }
            },
            "type": "barpolar"
           }
          ],
          "carpet": [
           {
            "aaxis": {
             "endlinecolor": "#2a3f5f",
             "gridcolor": "white",
             "linecolor": "white",
             "minorgridcolor": "white",
             "startlinecolor": "#2a3f5f"
            },
            "baxis": {
             "endlinecolor": "#2a3f5f",
             "gridcolor": "white",
             "linecolor": "white",
             "minorgridcolor": "white",
             "startlinecolor": "#2a3f5f"
            },
            "type": "carpet"
           }
          ],
          "choropleth": [
           {
            "colorbar": {
             "outlinewidth": 0,
             "ticks": ""
            },
            "type": "choropleth"
           }
          ],
          "contour": [
           {
            "colorbar": {
             "outlinewidth": 0,
             "ticks": ""
            },
            "colorscale": [
             [
              0,
              "#0d0887"
             ],
             [
              0.1111111111111111,
              "#46039f"
             ],
             [
              0.2222222222222222,
              "#7201a8"
             ],
             [
              0.3333333333333333,
              "#9c179e"
             ],
             [
              0.4444444444444444,
              "#bd3786"
             ],
             [
              0.5555555555555556,
              "#d8576b"
             ],
             [
              0.6666666666666666,
              "#ed7953"
             ],
             [
              0.7777777777777778,
              "#fb9f3a"
             ],
             [
              0.8888888888888888,
              "#fdca26"
             ],
             [
              1,
              "#f0f921"
             ]
            ],
            "type": "contour"
           }
          ],
          "contourcarpet": [
           {
            "colorbar": {
             "outlinewidth": 0,
             "ticks": ""
            },
            "type": "contourcarpet"
           }
          ],
          "heatmap": [
           {
            "colorbar": {
             "outlinewidth": 0,
             "ticks": ""
            },
            "colorscale": [
             [
              0,
              "#0d0887"
             ],
             [
              0.1111111111111111,
              "#46039f"
             ],
             [
              0.2222222222222222,
              "#7201a8"
             ],
             [
              0.3333333333333333,
              "#9c179e"
             ],
             [
              0.4444444444444444,
              "#bd3786"
             ],
             [
              0.5555555555555556,
              "#d8576b"
             ],
             [
              0.6666666666666666,
              "#ed7953"
             ],
             [
              0.7777777777777778,
              "#fb9f3a"
             ],
             [
              0.8888888888888888,
              "#fdca26"
             ],
             [
              1,
              "#f0f921"
             ]
            ],
            "type": "heatmap"
           }
          ],
          "heatmapgl": [
           {
            "colorbar": {
             "outlinewidth": 0,
             "ticks": ""
            },
            "colorscale": [
             [
              0,
              "#0d0887"
             ],
             [
              0.1111111111111111,
              "#46039f"
             ],
             [
              0.2222222222222222,
              "#7201a8"
             ],
             [
              0.3333333333333333,
              "#9c179e"
             ],
             [
              0.4444444444444444,
              "#bd3786"
             ],
             [
              0.5555555555555556,
              "#d8576b"
             ],
             [
              0.6666666666666666,
              "#ed7953"
             ],
             [
              0.7777777777777778,
              "#fb9f3a"
             ],
             [
              0.8888888888888888,
              "#fdca26"
             ],
             [
              1,
              "#f0f921"
             ]
            ],
            "type": "heatmapgl"
           }
          ],
          "histogram": [
           {
            "marker": {
             "pattern": {
              "fillmode": "overlay",
              "size": 10,
              "solidity": 0.2
             }
            },
            "type": "histogram"
           }
          ],
          "histogram2d": [
           {
            "colorbar": {
             "outlinewidth": 0,
             "ticks": ""
            },
            "colorscale": [
             [
              0,
              "#0d0887"
             ],
             [
              0.1111111111111111,
              "#46039f"
             ],
             [
              0.2222222222222222,
              "#7201a8"
             ],
             [
              0.3333333333333333,
              "#9c179e"
             ],
             [
              0.4444444444444444,
              "#bd3786"
             ],
             [
              0.5555555555555556,
              "#d8576b"
             ],
             [
              0.6666666666666666,
              "#ed7953"
             ],
             [
              0.7777777777777778,
              "#fb9f3a"
             ],
             [
              0.8888888888888888,
              "#fdca26"
             ],
             [
              1,
              "#f0f921"
             ]
            ],
            "type": "histogram2d"
           }
          ],
          "histogram2dcontour": [
           {
            "colorbar": {
             "outlinewidth": 0,
             "ticks": ""
            },
            "colorscale": [
             [
              0,
              "#0d0887"
             ],
             [
              0.1111111111111111,
              "#46039f"
             ],
             [
              0.2222222222222222,
              "#7201a8"
             ],
             [
              0.3333333333333333,
              "#9c179e"
             ],
             [
              0.4444444444444444,
              "#bd3786"
             ],
             [
              0.5555555555555556,
              "#d8576b"
             ],
             [
              0.6666666666666666,
              "#ed7953"
             ],
             [
              0.7777777777777778,
              "#fb9f3a"
             ],
             [
              0.8888888888888888,
              "#fdca26"
             ],
             [
              1,
              "#f0f921"
             ]
            ],
            "type": "histogram2dcontour"
           }
          ],
          "mesh3d": [
           {
            "colorbar": {
             "outlinewidth": 0,
             "ticks": ""
            },
            "type": "mesh3d"
           }
          ],
          "parcoords": [
           {
            "line": {
             "colorbar": {
              "outlinewidth": 0,
              "ticks": ""
             }
            },
            "type": "parcoords"
           }
          ],
          "pie": [
           {
            "automargin": true,
            "type": "pie"
           }
          ],
          "scatter": [
           {
            "marker": {
             "colorbar": {
              "outlinewidth": 0,
              "ticks": ""
             }
            },
            "type": "scatter"
           }
          ],
          "scatter3d": [
           {
            "line": {
             "colorbar": {
              "outlinewidth": 0,
              "ticks": ""
             }
            },
            "marker": {
             "colorbar": {
              "outlinewidth": 0,
              "ticks": ""
             }
            },
            "type": "scatter3d"
           }
          ],
          "scattercarpet": [
           {
            "marker": {
             "colorbar": {
              "outlinewidth": 0,
              "ticks": ""
             }
            },
            "type": "scattercarpet"
           }
          ],
          "scattergeo": [
           {
            "marker": {
             "colorbar": {
              "outlinewidth": 0,
              "ticks": ""
             }
            },
            "type": "scattergeo"
           }
          ],
          "scattergl": [
           {
            "marker": {
             "colorbar": {
              "outlinewidth": 0,
              "ticks": ""
             }
            },
            "type": "scattergl"
           }
          ],
          "scattermapbox": [
           {
            "marker": {
             "colorbar": {
              "outlinewidth": 0,
              "ticks": ""
             }
            },
            "type": "scattermapbox"
           }
          ],
          "scatterpolar": [
           {
            "marker": {
             "colorbar": {
              "outlinewidth": 0,
              "ticks": ""
             }
            },
            "type": "scatterpolar"
           }
          ],
          "scatterpolargl": [
           {
            "marker": {
             "colorbar": {
              "outlinewidth": 0,
              "ticks": ""
             }
            },
            "type": "scatterpolargl"
           }
          ],
          "scatterternary": [
           {
            "marker": {
             "colorbar": {
              "outlinewidth": 0,
              "ticks": ""
             }
            },
            "type": "scatterternary"
           }
          ],
          "surface": [
           {
            "colorbar": {
             "outlinewidth": 0,
             "ticks": ""
            },
            "colorscale": [
             [
              0,
              "#0d0887"
             ],
             [
              0.1111111111111111,
              "#46039f"
             ],
             [
              0.2222222222222222,
              "#7201a8"
             ],
             [
              0.3333333333333333,
              "#9c179e"
             ],
             [
              0.4444444444444444,
              "#bd3786"
             ],
             [
              0.5555555555555556,
              "#d8576b"
             ],
             [
              0.6666666666666666,
              "#ed7953"
             ],
             [
              0.7777777777777778,
              "#fb9f3a"
             ],
             [
              0.8888888888888888,
              "#fdca26"
             ],
             [
              1,
              "#f0f921"
             ]
            ],
            "type": "surface"
           }
          ],
          "table": [
           {
            "cells": {
             "fill": {
              "color": "#EBF0F8"
             },
             "line": {
              "color": "white"
             }
            },
            "header": {
             "fill": {
              "color": "#C8D4E3"
             },
             "line": {
              "color": "white"
             }
            },
            "type": "table"
           }
          ]
         },
         "layout": {
          "annotationdefaults": {
           "arrowcolor": "#2a3f5f",
           "arrowhead": 0,
           "arrowwidth": 1
          },
          "autotypenumbers": "strict",
          "coloraxis": {
           "colorbar": {
            "outlinewidth": 0,
            "ticks": ""
           }
          },
          "colorscale": {
           "diverging": [
            [
             0,
             "#8e0152"
            ],
            [
             0.1,
             "#c51b7d"
            ],
            [
             0.2,
             "#de77ae"
            ],
            [
             0.3,
             "#f1b6da"
            ],
            [
             0.4,
             "#fde0ef"
            ],
            [
             0.5,
             "#f7f7f7"
            ],
            [
             0.6,
             "#e6f5d0"
            ],
            [
             0.7,
             "#b8e186"
            ],
            [
             0.8,
             "#7fbc41"
            ],
            [
             0.9,
             "#4d9221"
            ],
            [
             1,
             "#276419"
            ]
           ],
           "sequential": [
            [
             0,
             "#0d0887"
            ],
            [
             0.1111111111111111,
             "#46039f"
            ],
            [
             0.2222222222222222,
             "#7201a8"
            ],
            [
             0.3333333333333333,
             "#9c179e"
            ],
            [
             0.4444444444444444,
             "#bd3786"
            ],
            [
             0.5555555555555556,
             "#d8576b"
            ],
            [
             0.6666666666666666,
             "#ed7953"
            ],
            [
             0.7777777777777778,
             "#fb9f3a"
            ],
            [
             0.8888888888888888,
             "#fdca26"
            ],
            [
             1,
             "#f0f921"
            ]
           ],
           "sequentialminus": [
            [
             0,
             "#0d0887"
            ],
            [
             0.1111111111111111,
             "#46039f"
            ],
            [
             0.2222222222222222,
             "#7201a8"
            ],
            [
             0.3333333333333333,
             "#9c179e"
            ],
            [
             0.4444444444444444,
             "#bd3786"
            ],
            [
             0.5555555555555556,
             "#d8576b"
            ],
            [
             0.6666666666666666,
             "#ed7953"
            ],
            [
             0.7777777777777778,
             "#fb9f3a"
            ],
            [
             0.8888888888888888,
             "#fdca26"
            ],
            [
             1,
             "#f0f921"
            ]
           ]
          },
          "colorway": [
           "#636efa",
           "#EF553B",
           "#00cc96",
           "#ab63fa",
           "#FFA15A",
           "#19d3f3",
           "#FF6692",
           "#B6E880",
           "#FF97FF",
           "#FECB52"
          ],
          "font": {
           "color": "#2a3f5f"
          },
          "geo": {
           "bgcolor": "white",
           "lakecolor": "white",
           "landcolor": "#E5ECF6",
           "showlakes": true,
           "showland": true,
           "subunitcolor": "white"
          },
          "hoverlabel": {
           "align": "left"
          },
          "hovermode": "closest",
          "mapbox": {
           "style": "light"
          },
          "paper_bgcolor": "white",
          "plot_bgcolor": "#E5ECF6",
          "polar": {
           "angularaxis": {
            "gridcolor": "white",
            "linecolor": "white",
            "ticks": ""
           },
           "bgcolor": "#E5ECF6",
           "radialaxis": {
            "gridcolor": "white",
            "linecolor": "white",
            "ticks": ""
           }
          },
          "scene": {
           "xaxis": {
            "backgroundcolor": "#E5ECF6",
            "gridcolor": "white",
            "gridwidth": 2,
            "linecolor": "white",
            "showbackground": true,
            "ticks": "",
            "zerolinecolor": "white"
           },
           "yaxis": {
            "backgroundcolor": "#E5ECF6",
            "gridcolor": "white",
            "gridwidth": 2,
            "linecolor": "white",
            "showbackground": true,
            "ticks": "",
            "zerolinecolor": "white"
           },
           "zaxis": {
            "backgroundcolor": "#E5ECF6",
            "gridcolor": "white",
            "gridwidth": 2,
            "linecolor": "white",
            "showbackground": true,
            "ticks": "",
            "zerolinecolor": "white"
           }
          },
          "shapedefaults": {
           "line": {
            "color": "#2a3f5f"
           }
          },
          "ternary": {
           "aaxis": {
            "gridcolor": "white",
            "linecolor": "white",
            "ticks": ""
           },
           "baxis": {
            "gridcolor": "white",
            "linecolor": "white",
            "ticks": ""
           },
           "bgcolor": "#E5ECF6",
           "caxis": {
            "gridcolor": "white",
            "linecolor": "white",
            "ticks": ""
           }
          },
          "title": {
           "x": 0.05
          },
          "xaxis": {
           "automargin": true,
           "gridcolor": "white",
           "linecolor": "white",
           "ticks": "",
           "title": {
            "standoff": 15
           },
           "zerolinecolor": "white",
           "zerolinewidth": 2
          },
          "yaxis": {
           "automargin": true,
           "gridcolor": "white",
           "linecolor": "white",
           "ticks": "",
           "title": {
            "standoff": 15
           },
           "zerolinecolor": "white",
           "zerolinewidth": 2
          }
         }
        },
        "title": {
         "font": {
          "color": "#4D5663"
         }
        },
        "xaxis": {
         "gridcolor": "#E1E5ED",
         "showgrid": true,
         "tickfont": {
          "color": "#4D5663"
         },
         "title": {
          "font": {
           "color": "#4D5663"
          },
          "text": ""
         },
         "zerolinecolor": "#E1E5ED"
        },
        "yaxis": {
         "gridcolor": "#E1E5ED",
         "showgrid": true,
         "tickfont": {
          "color": "#4D5663"
         },
         "title": {
          "font": {
           "color": "#4D5663"
          },
          "text": ""
         },
         "zerolinecolor": "#E1E5ED"
        }
       }
      },
      "text/html": [
       "<div>                            <div id=\"bb9144ef-fe13-402b-bbcf-87e53a3c434d\" class=\"plotly-graph-div\" style=\"height:525px; width:100%;\"></div>            <script type=\"text/javascript\">                require([\"plotly\"], function(Plotly) {                    window.PLOTLYENV=window.PLOTLYENV || {};\n",
       "                    window.PLOTLYENV.BASE_URL='https://plot.ly';                                    if (document.getElementById(\"bb9144ef-fe13-402b-bbcf-87e53a3c434d\")) {                    Plotly.newPlot(                        \"bb9144ef-fe13-402b-bbcf-87e53a3c434d\",                        [{\"histfunc\":\"count\",\"histnorm\":\"\",\"marker\":{\"color\":\"rgba(255, 153, 51, 1.0)\",\"line\":{\"color\":\"#4D5663\",\"width\":1.3}},\"name\":\"A\",\"nbinsx\":25,\"opacity\":0.8,\"orientation\":\"v\",\"x\":[0.004623521176124493,0.16281569506746615,1.4224425740072002,1.0465883726312297,1.1842576898475108,-0.9430017076288162,-0.6085150350497329,0.8327710604567566,0.7349610260402549,-0.2490841883443285,0.2219721971076617,-1.2381344162131944,0.2422425588075395,0.6651871185074474,0.08648920725692612,1.0069096722828492,0.5135885685395674,1.2510550806883736,-1.0764907866006002,1.5131900701575884,-0.21516214636280803,-0.9908219512508374,-0.48304635726610295,-0.3309062206065575,-0.5997402907722839,-0.2226520133817669,-0.09223681807908718,-0.9320599965705885,-0.6146119575534867,-1.8405985217209972,-0.07196636464122422,-1.1917272842793725,-0.1212696899713353,0.41431577966805777,1.1104672706779055,-0.9576385942121362,-0.06294522738310888,-0.207259397445168,-1.0449588125891485,0.7724106256129741,0.09848545584616183,-1.855603203676661,-0.19908444045357243,0.8807303289230828,-0.6436409911582044,-1.2394950322721574,-0.5333903959015579,0.08113009265143066,0.3121856933497823,-1.6231237399849323,0.4262435294386619,-0.5754254419012534,1.472988451795054,-0.48801630030810406,0.31591838578850046,-0.20911915762697417,0.513052823155541,-0.894640737393719,0.11303368243634235,0.08126390492515637,0.8265265186825116,1.5199902351604946,0.20409263911347916,-0.549468299736583,1.6351857717316323,-1.3272902155743422,0.3882066558678317,0.3584136011973048,2.315912702942067,1.104337817545148,0.33035701635016934,-1.2452283168205998,-0.5958689580863932,-0.06441653627456218,0.5647656230700507,0.9987758735688422,-0.141260329807457,-0.5973353039913025,0.4786330161546429,0.5501368588768211,0.8511598466974138,0.3742405334903403,-0.30177615255004636,1.7609112031453364,-0.24623366538207506,-0.014729716842070764,-2.121790882536806,-1.3267770846391103,-0.8570527379474144,-0.24849451967740438,-0.22805041501320314,0.527751794561854,1.3824145693759025,0.748002990817415,-1.216462277265814,-0.590361800281665,-1.3125371550384277,0.6182744698313806,0.05728572122844015,1.4364291765621007],\"type\":\"histogram\"}],                        {\"barmode\":\"overlay\",\"legend\":{\"bgcolor\":\"#F5F6F9\",\"font\":{\"color\":\"#4D5663\"}},\"paper_bgcolor\":\"#F5F6F9\",\"plot_bgcolor\":\"#F5F6F9\",\"template\":{\"data\":{\"barpolar\":[{\"marker\":{\"line\":{\"color\":\"#E5ECF6\",\"width\":0.5},\"pattern\":{\"fillmode\":\"overlay\",\"size\":10,\"solidity\":0.2}},\"type\":\"barpolar\"}],\"bar\":[{\"error_x\":{\"color\":\"#2a3f5f\"},\"error_y\":{\"color\":\"#2a3f5f\"},\"marker\":{\"line\":{\"color\":\"#E5ECF6\",\"width\":0.5},\"pattern\":{\"fillmode\":\"overlay\",\"size\":10,\"solidity\":0.2}},\"type\":\"bar\"}],\"carpet\":[{\"aaxis\":{\"endlinecolor\":\"#2a3f5f\",\"gridcolor\":\"white\",\"linecolor\":\"white\",\"minorgridcolor\":\"white\",\"startlinecolor\":\"#2a3f5f\"},\"baxis\":{\"endlinecolor\":\"#2a3f5f\",\"gridcolor\":\"white\",\"linecolor\":\"white\",\"minorgridcolor\":\"white\",\"startlinecolor\":\"#2a3f5f\"},\"type\":\"carpet\"}],\"choropleth\":[{\"colorbar\":{\"outlinewidth\":0,\"ticks\":\"\"},\"type\":\"choropleth\"}],\"contourcarpet\":[{\"colorbar\":{\"outlinewidth\":0,\"ticks\":\"\"},\"type\":\"contourcarpet\"}],\"contour\":[{\"colorbar\":{\"outlinewidth\":0,\"ticks\":\"\"},\"colorscale\":[[0.0,\"#0d0887\"],[0.1111111111111111,\"#46039f\"],[0.2222222222222222,\"#7201a8\"],[0.3333333333333333,\"#9c179e\"],[0.4444444444444444,\"#bd3786\"],[0.5555555555555556,\"#d8576b\"],[0.6666666666666666,\"#ed7953\"],[0.7777777777777778,\"#fb9f3a\"],[0.8888888888888888,\"#fdca26\"],[1.0,\"#f0f921\"]],\"type\":\"contour\"}],\"heatmapgl\":[{\"colorbar\":{\"outlinewidth\":0,\"ticks\":\"\"},\"colorscale\":[[0.0,\"#0d0887\"],[0.1111111111111111,\"#46039f\"],[0.2222222222222222,\"#7201a8\"],[0.3333333333333333,\"#9c179e\"],[0.4444444444444444,\"#bd3786\"],[0.5555555555555556,\"#d8576b\"],[0.6666666666666666,\"#ed7953\"],[0.7777777777777778,\"#fb9f3a\"],[0.8888888888888888,\"#fdca26\"],[1.0,\"#f0f921\"]],\"type\":\"heatmapgl\"}],\"heatmap\":[{\"colorbar\":{\"outlinewidth\":0,\"ticks\":\"\"},\"colorscale\":[[0.0,\"#0d0887\"],[0.1111111111111111,\"#46039f\"],[0.2222222222222222,\"#7201a8\"],[0.3333333333333333,\"#9c179e\"],[0.4444444444444444,\"#bd3786\"],[0.5555555555555556,\"#d8576b\"],[0.6666666666666666,\"#ed7953\"],[0.7777777777777778,\"#fb9f3a\"],[0.8888888888888888,\"#fdca26\"],[1.0,\"#f0f921\"]],\"type\":\"heatmap\"}],\"histogram2dcontour\":[{\"colorbar\":{\"outlinewidth\":0,\"ticks\":\"\"},\"colorscale\":[[0.0,\"#0d0887\"],[0.1111111111111111,\"#46039f\"],[0.2222222222222222,\"#7201a8\"],[0.3333333333333333,\"#9c179e\"],[0.4444444444444444,\"#bd3786\"],[0.5555555555555556,\"#d8576b\"],[0.6666666666666666,\"#ed7953\"],[0.7777777777777778,\"#fb9f3a\"],[0.8888888888888888,\"#fdca26\"],[1.0,\"#f0f921\"]],\"type\":\"histogram2dcontour\"}],\"histogram2d\":[{\"colorbar\":{\"outlinewidth\":0,\"ticks\":\"\"},\"colorscale\":[[0.0,\"#0d0887\"],[0.1111111111111111,\"#46039f\"],[0.2222222222222222,\"#7201a8\"],[0.3333333333333333,\"#9c179e\"],[0.4444444444444444,\"#bd3786\"],[0.5555555555555556,\"#d8576b\"],[0.6666666666666666,\"#ed7953\"],[0.7777777777777778,\"#fb9f3a\"],[0.8888888888888888,\"#fdca26\"],[1.0,\"#f0f921\"]],\"type\":\"histogram2d\"}],\"histogram\":[{\"marker\":{\"pattern\":{\"fillmode\":\"overlay\",\"size\":10,\"solidity\":0.2}},\"type\":\"histogram\"}],\"mesh3d\":[{\"colorbar\":{\"outlinewidth\":0,\"ticks\":\"\"},\"type\":\"mesh3d\"}],\"parcoords\":[{\"line\":{\"colorbar\":{\"outlinewidth\":0,\"ticks\":\"\"}},\"type\":\"parcoords\"}],\"pie\":[{\"automargin\":true,\"type\":\"pie\"}],\"scatter3d\":[{\"line\":{\"colorbar\":{\"outlinewidth\":0,\"ticks\":\"\"}},\"marker\":{\"colorbar\":{\"outlinewidth\":0,\"ticks\":\"\"}},\"type\":\"scatter3d\"}],\"scattercarpet\":[{\"marker\":{\"colorbar\":{\"outlinewidth\":0,\"ticks\":\"\"}},\"type\":\"scattercarpet\"}],\"scattergeo\":[{\"marker\":{\"colorbar\":{\"outlinewidth\":0,\"ticks\":\"\"}},\"type\":\"scattergeo\"}],\"scattergl\":[{\"marker\":{\"colorbar\":{\"outlinewidth\":0,\"ticks\":\"\"}},\"type\":\"scattergl\"}],\"scattermapbox\":[{\"marker\":{\"colorbar\":{\"outlinewidth\":0,\"ticks\":\"\"}},\"type\":\"scattermapbox\"}],\"scatterpolargl\":[{\"marker\":{\"colorbar\":{\"outlinewidth\":0,\"ticks\":\"\"}},\"type\":\"scatterpolargl\"}],\"scatterpolar\":[{\"marker\":{\"colorbar\":{\"outlinewidth\":0,\"ticks\":\"\"}},\"type\":\"scatterpolar\"}],\"scatter\":[{\"marker\":{\"colorbar\":{\"outlinewidth\":0,\"ticks\":\"\"}},\"type\":\"scatter\"}],\"scatterternary\":[{\"marker\":{\"colorbar\":{\"outlinewidth\":0,\"ticks\":\"\"}},\"type\":\"scatterternary\"}],\"surface\":[{\"colorbar\":{\"outlinewidth\":0,\"ticks\":\"\"},\"colorscale\":[[0.0,\"#0d0887\"],[0.1111111111111111,\"#46039f\"],[0.2222222222222222,\"#7201a8\"],[0.3333333333333333,\"#9c179e\"],[0.4444444444444444,\"#bd3786\"],[0.5555555555555556,\"#d8576b\"],[0.6666666666666666,\"#ed7953\"],[0.7777777777777778,\"#fb9f3a\"],[0.8888888888888888,\"#fdca26\"],[1.0,\"#f0f921\"]],\"type\":\"surface\"}],\"table\":[{\"cells\":{\"fill\":{\"color\":\"#EBF0F8\"},\"line\":{\"color\":\"white\"}},\"header\":{\"fill\":{\"color\":\"#C8D4E3\"},\"line\":{\"color\":\"white\"}},\"type\":\"table\"}]},\"layout\":{\"annotationdefaults\":{\"arrowcolor\":\"#2a3f5f\",\"arrowhead\":0,\"arrowwidth\":1},\"autotypenumbers\":\"strict\",\"coloraxis\":{\"colorbar\":{\"outlinewidth\":0,\"ticks\":\"\"}},\"colorscale\":{\"diverging\":[[0,\"#8e0152\"],[0.1,\"#c51b7d\"],[0.2,\"#de77ae\"],[0.3,\"#f1b6da\"],[0.4,\"#fde0ef\"],[0.5,\"#f7f7f7\"],[0.6,\"#e6f5d0\"],[0.7,\"#b8e186\"],[0.8,\"#7fbc41\"],[0.9,\"#4d9221\"],[1,\"#276419\"]],\"sequential\":[[0.0,\"#0d0887\"],[0.1111111111111111,\"#46039f\"],[0.2222222222222222,\"#7201a8\"],[0.3333333333333333,\"#9c179e\"],[0.4444444444444444,\"#bd3786\"],[0.5555555555555556,\"#d8576b\"],[0.6666666666666666,\"#ed7953\"],[0.7777777777777778,\"#fb9f3a\"],[0.8888888888888888,\"#fdca26\"],[1.0,\"#f0f921\"]],\"sequentialminus\":[[0.0,\"#0d0887\"],[0.1111111111111111,\"#46039f\"],[0.2222222222222222,\"#7201a8\"],[0.3333333333333333,\"#9c179e\"],[0.4444444444444444,\"#bd3786\"],[0.5555555555555556,\"#d8576b\"],[0.6666666666666666,\"#ed7953\"],[0.7777777777777778,\"#fb9f3a\"],[0.8888888888888888,\"#fdca26\"],[1.0,\"#f0f921\"]]},\"colorway\":[\"#636efa\",\"#EF553B\",\"#00cc96\",\"#ab63fa\",\"#FFA15A\",\"#19d3f3\",\"#FF6692\",\"#B6E880\",\"#FF97FF\",\"#FECB52\"],\"font\":{\"color\":\"#2a3f5f\"},\"geo\":{\"bgcolor\":\"white\",\"lakecolor\":\"white\",\"landcolor\":\"#E5ECF6\",\"showlakes\":true,\"showland\":true,\"subunitcolor\":\"white\"},\"hoverlabel\":{\"align\":\"left\"},\"hovermode\":\"closest\",\"mapbox\":{\"style\":\"light\"},\"paper_bgcolor\":\"white\",\"plot_bgcolor\":\"#E5ECF6\",\"polar\":{\"angularaxis\":{\"gridcolor\":\"white\",\"linecolor\":\"white\",\"ticks\":\"\"},\"bgcolor\":\"#E5ECF6\",\"radialaxis\":{\"gridcolor\":\"white\",\"linecolor\":\"white\",\"ticks\":\"\"}},\"scene\":{\"xaxis\":{\"backgroundcolor\":\"#E5ECF6\",\"gridcolor\":\"white\",\"gridwidth\":2,\"linecolor\":\"white\",\"showbackground\":true,\"ticks\":\"\",\"zerolinecolor\":\"white\"},\"yaxis\":{\"backgroundcolor\":\"#E5ECF6\",\"gridcolor\":\"white\",\"gridwidth\":2,\"linecolor\":\"white\",\"showbackground\":true,\"ticks\":\"\",\"zerolinecolor\":\"white\"},\"zaxis\":{\"backgroundcolor\":\"#E5ECF6\",\"gridcolor\":\"white\",\"gridwidth\":2,\"linecolor\":\"white\",\"showbackground\":true,\"ticks\":\"\",\"zerolinecolor\":\"white\"}},\"shapedefaults\":{\"line\":{\"color\":\"#2a3f5f\"}},\"ternary\":{\"aaxis\":{\"gridcolor\":\"white\",\"linecolor\":\"white\",\"ticks\":\"\"},\"baxis\":{\"gridcolor\":\"white\",\"linecolor\":\"white\",\"ticks\":\"\"},\"bgcolor\":\"#E5ECF6\",\"caxis\":{\"gridcolor\":\"white\",\"linecolor\":\"white\",\"ticks\":\"\"}},\"title\":{\"x\":0.05},\"xaxis\":{\"automargin\":true,\"gridcolor\":\"white\",\"linecolor\":\"white\",\"ticks\":\"\",\"title\":{\"standoff\":15},\"zerolinecolor\":\"white\",\"zerolinewidth\":2},\"yaxis\":{\"automargin\":true,\"gridcolor\":\"white\",\"linecolor\":\"white\",\"ticks\":\"\",\"title\":{\"standoff\":15},\"zerolinecolor\":\"white\",\"zerolinewidth\":2}}},\"title\":{\"font\":{\"color\":\"#4D5663\"}},\"xaxis\":{\"gridcolor\":\"#E1E5ED\",\"showgrid\":true,\"tickfont\":{\"color\":\"#4D5663\"},\"title\":{\"font\":{\"color\":\"#4D5663\"},\"text\":\"\"},\"zerolinecolor\":\"#E1E5ED\"},\"yaxis\":{\"gridcolor\":\"#E1E5ED\",\"showgrid\":true,\"tickfont\":{\"color\":\"#4D5663\"},\"title\":{\"font\":{\"color\":\"#4D5663\"},\"text\":\"\"},\"zerolinecolor\":\"#E1E5ED\"}},                        {\"showLink\": true, \"linkText\": \"Export to plot.ly\", \"plotlyServerURL\": \"https://plot.ly\", \"responsive\": true}                    ).then(function(){\n",
       "                            \n",
       "var gd = document.getElementById('bb9144ef-fe13-402b-bbcf-87e53a3c434d');\n",
       "var x = new MutationObserver(function (mutations, observer) {{\n",
       "        var display = window.getComputedStyle(gd).display;\n",
       "        if (!display || display === 'none') {{\n",
       "            console.log([gd, 'removed!']);\n",
       "            Plotly.purge(gd);\n",
       "            observer.disconnect();\n",
       "        }}\n",
       "}});\n",
       "\n",
       "// Listen for the removal of the full notebook cells\n",
       "var notebookContainer = gd.closest('#notebook-container');\n",
       "if (notebookContainer) {{\n",
       "    x.observe(notebookContainer, {childList: true});\n",
       "}}\n",
       "\n",
       "// Listen for the clearing of the current output cell\n",
       "var outputEl = gd.closest('.output');\n",
       "if (outputEl) {{\n",
       "    x.observe(outputEl, {childList: true});\n",
       "}}\n",
       "\n",
       "                        })                };                });            </script>        </div>"
      ]
     },
     "metadata": {},
     "output_type": "display_data"
    }
   ],
   "source": [
    "df['A'].iplot(kind='hist',bins=25)"
   ]
  },
  {
   "cell_type": "code",
   "execution_count": 69,
   "id": "e09ba69f",
   "metadata": {},
   "outputs": [
    {
     "data": {
      "application/vnd.plotly.v1+json": {
       "config": {
        "linkText": "Export to plot.ly",
        "plotlyServerURL": "https://plot.ly",
        "showLink": true
       },
       "data": [
        {
         "histfunc": "count",
         "histnorm": "",
         "marker": {
          "color": "rgba(255, 153, 51, 1.0)",
          "line": {
           "color": "#4D5663",
           "width": 1.3
          }
         },
         "name": "A",
         "nbinsx": 25,
         "opacity": 0.8,
         "orientation": "v",
         "type": "histogram",
         "x": [
          0.004623521176124493,
          0.16281569506746615,
          1.4224425740072002,
          1.0465883726312297,
          1.1842576898475108,
          -0.9430017076288162,
          -0.6085150350497329,
          0.8327710604567566,
          0.7349610260402549,
          -0.2490841883443285,
          0.2219721971076617,
          -1.2381344162131944,
          0.2422425588075395,
          0.6651871185074474,
          0.08648920725692612,
          1.0069096722828492,
          0.5135885685395674,
          1.2510550806883736,
          -1.0764907866006002,
          1.5131900701575884,
          -0.21516214636280803,
          -0.9908219512508374,
          -0.48304635726610295,
          -0.3309062206065575,
          -0.5997402907722839,
          -0.2226520133817669,
          -0.09223681807908718,
          -0.9320599965705885,
          -0.6146119575534867,
          -1.8405985217209972,
          -0.07196636464122422,
          -1.1917272842793725,
          -0.1212696899713353,
          0.41431577966805777,
          1.1104672706779055,
          -0.9576385942121362,
          -0.06294522738310888,
          -0.207259397445168,
          -1.0449588125891485,
          0.7724106256129741,
          0.09848545584616183,
          -1.855603203676661,
          -0.19908444045357243,
          0.8807303289230828,
          -0.6436409911582044,
          -1.2394950322721574,
          -0.5333903959015579,
          0.08113009265143066,
          0.3121856933497823,
          -1.6231237399849323,
          0.4262435294386619,
          -0.5754254419012534,
          1.472988451795054,
          -0.48801630030810406,
          0.31591838578850046,
          -0.20911915762697417,
          0.513052823155541,
          -0.894640737393719,
          0.11303368243634235,
          0.08126390492515637,
          0.8265265186825116,
          1.5199902351604946,
          0.20409263911347916,
          -0.549468299736583,
          1.6351857717316323,
          -1.3272902155743422,
          0.3882066558678317,
          0.3584136011973048,
          2.315912702942067,
          1.104337817545148,
          0.33035701635016934,
          -1.2452283168205998,
          -0.5958689580863932,
          -0.06441653627456218,
          0.5647656230700507,
          0.9987758735688422,
          -0.141260329807457,
          -0.5973353039913025,
          0.4786330161546429,
          0.5501368588768211,
          0.8511598466974138,
          0.3742405334903403,
          -0.30177615255004636,
          1.7609112031453364,
          -0.24623366538207506,
          -0.014729716842070764,
          -2.121790882536806,
          -1.3267770846391103,
          -0.8570527379474144,
          -0.24849451967740438,
          -0.22805041501320314,
          0.527751794561854,
          1.3824145693759025,
          0.748002990817415,
          -1.216462277265814,
          -0.590361800281665,
          -1.3125371550384277,
          0.6182744698313806,
          0.05728572122844015,
          1.4364291765621007
         ]
        },
        {
         "histfunc": "count",
         "histnorm": "",
         "marker": {
          "color": "rgba(55, 128, 191, 1.0)",
          "line": {
           "color": "#4D5663",
           "width": 1.3
          }
         },
         "name": "B",
         "nbinsx": 25,
         "opacity": 0.8,
         "orientation": "v",
         "type": "histogram",
         "x": [
          -1.1685508459194196,
          -1.5678017169000267,
          0.7870096262915491,
          -0.8629018468596408,
          -0.4857063865991016,
          -1.2626627412225944,
          1.2373205481923955,
          -0.48136229667102254,
          -0.4841128843538882,
          2.2915504567809273,
          -1.8664420703542837,
          -0.3822593347390874,
          -1.5464233121595794,
          0.8960317044216001,
          1.3738712750986215,
          1.3667016898736501,
          0.5931001857431492,
          -0.13608533179952403,
          -0.5226691150373612,
          0.9141181315239653,
          0.49588820121766547,
          0.7033452801787391,
          2.4161083229749805,
          0.9857082531792529,
          -0.5962036008775079,
          -2.3054551237669423,
          0.4595523549181218,
          2.1584557914506686,
          -0.21623673210559943,
          1.0268827658340507,
          -0.187361346602335,
          0.5586823673587367,
          -0.1425368574028095,
          0.47553084882931335,
          -0.8580278596709993,
          -1.3840740509849458,
          1.9078167471910268,
          -1.9298295674593051,
          0.4677649023118192,
          -0.6407645824728198,
          -0.20067105431129048,
          0.4535733758491212,
          -1.1594832090728682,
          -0.09834601975589295,
          -1.6057415274987874,
          -0.02923005850628262,
          1.0665687194053277,
          0.031731913806326804,
          1.6100699600708939,
          1.170010139117584,
          -1.3106350714837576,
          0.1503924243963787,
          -1.3108968820881353,
          -0.9241700441770824,
          0.5538224449867233,
          0.3999246772427607,
          0.24728761416851122,
          1.0347732797668334,
          0.6481309846764085,
          0.5225298542908703,
          -1.062807219692614,
          0.5389291711078632,
          0.3170946057858498,
          0.3113248214184092,
          -0.8779209994399148,
          -1.3103464725219607,
          -0.65146827356122,
          0.7838595330287975,
          -2.46586859817618,
          0.876539850402602,
          -0.838483575748058,
          3.023749502888475,
          0.4886405578618137,
          0.260885477893154,
          1.0195973638202933,
          0.8338732369478434,
          0.8553153295633149,
          -0.4904208832131635,
          0.3099140989134931,
          0.4674350174993666,
          1.6269411857138247,
          0.8377177915316513,
          -1.6344733353409773,
          0.5492777836028785,
          0.6287451281691209,
          -0.5570959640127177,
          2.1634854232289333,
          1.0158940604922302,
          -1.1812765625882486,
          0.8490929033497668,
          -0.2777383095778188,
          -1.539004318952743,
          0.38280204428729375,
          1.3083873098925314,
          0.8264927471174891,
          0.4456229526669064,
          -0.07712727689375366,
          1.3867079546845034,
          -0.2520138485006433,
          1.5057440934761228
         ]
        },
        {
         "histfunc": "count",
         "histnorm": "",
         "marker": {
          "color": "rgba(50, 171, 96, 1.0)",
          "line": {
           "color": "#4D5663",
           "width": 1.3
          }
         },
         "name": "C",
         "nbinsx": 25,
         "opacity": 0.8,
         "orientation": "v",
         "type": "histogram",
         "x": [
          1.8775853248219743,
          1.1634138874701658,
          0.4461462012951521,
          -0.630624769338649,
          2.1078034957109053,
          -0.9482366110800454,
          2.3374606688456554,
          -0.679065383221523,
          0.38377185432970784,
          1.5537342535800607,
          -0.30904709094909677,
          0.6620405516788332,
          0.3587890963955483,
          -0.9621814942267252,
          -1.4076529625364693,
          0.8406620342661275,
          -0.19167605225737872,
          0.07085336292954711,
          -0.41536402355468804,
          -0.6526583034337081,
          0.8953472080675058,
          -0.7927090917157454,
          -0.18504205933124068,
          -2.1844554211545013,
          -0.34928948363733436,
          0.9824393337572949,
          -0.18103284009489634,
          1.2235484395296887,
          0.8925359803657423,
          -0.46265299214822686,
          0.5316146639769636,
          1.1141688952959876,
          -0.8211688679945353,
          -0.4378686464586095,
          -1.5813213284574152,
          -0.1835676074821394,
          0.3635537816869505,
          0.292409384725485,
          -1.9292642402610856,
          -0.02109065033916954,
          -0.6500499929198842,
          -1.0706479780393594,
          1.4810807680195102,
          1.630294092771878,
          1.437547802195289,
          0.1612706125131396,
          1.0347881245359465,
          -0.5153424725683133,
          -1.853413964971279,
          -0.10138460345739685,
          -0.11374182274874095,
          0.7199491131082625,
          -0.8079590917446239,
          1.6050403523925685,
          1.3705705373156225,
          -3.7000867425385264,
          -0.7990098105675697,
          -0.78798107887203,
          0.043511496311365645,
          1.3127181160199133,
          0.5361353718531487,
          -0.10185322125127683,
          -0.2738025230244527,
          1.0602797063746061,
          -0.4626325274765146,
          0.18241675634136165,
          -0.06547590029811755,
          -0.8001702022637728,
          -1.1856462858028625,
          -0.6801324022438168,
          -2.701244480900419,
          -0.3740019761449056,
          0.6291185609341405,
          -1.3562555539381782,
          -0.1323317334140988,
          1.1587415899315627,
          1.3136982038489562,
          0.056299150576219766,
          0.2107247171069781,
          -0.23792370643470714,
          1.0088798622079589,
          0.7617470824000864,
          0.021279115740499545,
          -0.5371997831801028,
          0.43251449785168766,
          -0.05054466631950313,
          1.9377628526721993,
          3.9430366917901165,
          1.770493094498392,
          0.4878354231461598,
          -0.7745409475417855,
          -1.0331047085352125,
          0.3705350822079853,
          0.17892303678959548,
          0.7634234146163706,
          0.07312674885361234,
          0.8505793751346387,
          0.5407389794242599,
          -0.32128688659668025,
          0.44711829829526967
         ]
        },
        {
         "histfunc": "count",
         "histnorm": "",
         "marker": {
          "color": "rgba(128, 0, 128, 1.0)",
          "line": {
           "color": "#4D5663",
           "width": 1.3
          }
         },
         "name": "D",
         "nbinsx": 25,
         "opacity": 0.8,
         "orientation": "v",
         "type": "histogram",
         "x": [
          0.017994340381227145,
          -0.0653382085123521,
          0.6209264594991536,
          2.2826379372455197,
          0.7791573041836941,
          0.5072557716396099,
          0.2755242714684649,
          -0.6258208695941796,
          0.4693555786538185,
          -0.7208591531367468,
          0.42462242625489244,
          -1.9130505336414327,
          -0.8005255136044629,
          -0.11014504329317058,
          -1.5786485033992341,
          -1.3584660670467765,
          0.8554119234219554,
          0.6621662696420444,
          1.057233165320333,
          0.48229008348264657,
          1.3258226343578399,
          0.38911290504859075,
          0.5552410324849885,
          -1.113214333902142,
          1.601900234464146,
          0.8465429410097408,
          -0.02929303998629881,
          1.4651861522637595,
          1.6043335311238451,
          1.1861501805532806,
          2.288301812396918,
          -0.24144017822599984,
          1.074119518410007,
          0.14898849148633259,
          -0.21959247846775123,
          -0.4842991280081334,
          -0.5980875083709224,
          -0.6965258592933425,
          0.3752982937419125,
          -0.7405377346691557,
          1.4404124597838097,
          -2.458134592213451,
          -0.47260729864100204,
          0.003728348811584746,
          1.2722021246585768,
          0.3422839657249093,
          -1.591342881881602,
          -1.029037761921719,
          -0.16164559078402468,
          -0.46780869601705866,
          -0.20909695044526982,
          -0.15882282057795602,
          -0.33284057418607227,
          1.0513284800699878,
          -0.29257393956132854,
          0.41951762976242507,
          -1.5772488030443022,
          -0.0020039985250401744,
          -0.4764832163085147,
          -1.360639971697527,
          -0.7690296609146785,
          0.7584178969102826,
          -0.4513941465121298,
          0.2733591602541416,
          -0.4312651269411663,
          -1.3505952616061818,
          1.3718235501994085,
          -0.5501653282490452,
          0.4283274396211519,
          0.14583143659223802,
          1.0987555962936866,
          0.8624745086082322,
          0.5191588818768138,
          1.3848027984846778,
          0.6308443959533383,
          -0.8457552243986087,
          -0.23763820875389796,
          0.19990236397564415,
          -1.0157103003006478,
          -0.12688143526493068,
          -0.5796559515504119,
          -1.33437379644634,
          1.373035470199231,
          -0.09271868702696864,
          -0.108021289348484,
          0.2737362662435419,
          0.4153984048634312,
          -0.7277323409497012,
          0.12723409734090813,
          -1.7216795181560658,
          0.404075271990034,
          0.4813947761270504,
          -0.038503348254368845,
          -2.273437715572669,
          -0.7087437240167911,
          1.1425153969404258,
          -0.7206530960574146,
          -1.3195043732791696,
          -1.1427367809772713,
          0.17430027676471116
         ]
        }
       ],
       "layout": {
        "barmode": "overlay",
        "legend": {
         "bgcolor": "#F5F6F9",
         "font": {
          "color": "#4D5663"
         }
        },
        "paper_bgcolor": "#F5F6F9",
        "plot_bgcolor": "#F5F6F9",
        "template": {
         "data": {
          "bar": [
           {
            "error_x": {
             "color": "#2a3f5f"
            },
            "error_y": {
             "color": "#2a3f5f"
            },
            "marker": {
             "line": {
              "color": "#E5ECF6",
              "width": 0.5
             },
             "pattern": {
              "fillmode": "overlay",
              "size": 10,
              "solidity": 0.2
             }
            },
            "type": "bar"
           }
          ],
          "barpolar": [
           {
            "marker": {
             "line": {
              "color": "#E5ECF6",
              "width": 0.5
             },
             "pattern": {
              "fillmode": "overlay",
              "size": 10,
              "solidity": 0.2
             }
            },
            "type": "barpolar"
           }
          ],
          "carpet": [
           {
            "aaxis": {
             "endlinecolor": "#2a3f5f",
             "gridcolor": "white",
             "linecolor": "white",
             "minorgridcolor": "white",
             "startlinecolor": "#2a3f5f"
            },
            "baxis": {
             "endlinecolor": "#2a3f5f",
             "gridcolor": "white",
             "linecolor": "white",
             "minorgridcolor": "white",
             "startlinecolor": "#2a3f5f"
            },
            "type": "carpet"
           }
          ],
          "choropleth": [
           {
            "colorbar": {
             "outlinewidth": 0,
             "ticks": ""
            },
            "type": "choropleth"
           }
          ],
          "contour": [
           {
            "colorbar": {
             "outlinewidth": 0,
             "ticks": ""
            },
            "colorscale": [
             [
              0,
              "#0d0887"
             ],
             [
              0.1111111111111111,
              "#46039f"
             ],
             [
              0.2222222222222222,
              "#7201a8"
             ],
             [
              0.3333333333333333,
              "#9c179e"
             ],
             [
              0.4444444444444444,
              "#bd3786"
             ],
             [
              0.5555555555555556,
              "#d8576b"
             ],
             [
              0.6666666666666666,
              "#ed7953"
             ],
             [
              0.7777777777777778,
              "#fb9f3a"
             ],
             [
              0.8888888888888888,
              "#fdca26"
             ],
             [
              1,
              "#f0f921"
             ]
            ],
            "type": "contour"
           }
          ],
          "contourcarpet": [
           {
            "colorbar": {
             "outlinewidth": 0,
             "ticks": ""
            },
            "type": "contourcarpet"
           }
          ],
          "heatmap": [
           {
            "colorbar": {
             "outlinewidth": 0,
             "ticks": ""
            },
            "colorscale": [
             [
              0,
              "#0d0887"
             ],
             [
              0.1111111111111111,
              "#46039f"
             ],
             [
              0.2222222222222222,
              "#7201a8"
             ],
             [
              0.3333333333333333,
              "#9c179e"
             ],
             [
              0.4444444444444444,
              "#bd3786"
             ],
             [
              0.5555555555555556,
              "#d8576b"
             ],
             [
              0.6666666666666666,
              "#ed7953"
             ],
             [
              0.7777777777777778,
              "#fb9f3a"
             ],
             [
              0.8888888888888888,
              "#fdca26"
             ],
             [
              1,
              "#f0f921"
             ]
            ],
            "type": "heatmap"
           }
          ],
          "heatmapgl": [
           {
            "colorbar": {
             "outlinewidth": 0,
             "ticks": ""
            },
            "colorscale": [
             [
              0,
              "#0d0887"
             ],
             [
              0.1111111111111111,
              "#46039f"
             ],
             [
              0.2222222222222222,
              "#7201a8"
             ],
             [
              0.3333333333333333,
              "#9c179e"
             ],
             [
              0.4444444444444444,
              "#bd3786"
             ],
             [
              0.5555555555555556,
              "#d8576b"
             ],
             [
              0.6666666666666666,
              "#ed7953"
             ],
             [
              0.7777777777777778,
              "#fb9f3a"
             ],
             [
              0.8888888888888888,
              "#fdca26"
             ],
             [
              1,
              "#f0f921"
             ]
            ],
            "type": "heatmapgl"
           }
          ],
          "histogram": [
           {
            "marker": {
             "pattern": {
              "fillmode": "overlay",
              "size": 10,
              "solidity": 0.2
             }
            },
            "type": "histogram"
           }
          ],
          "histogram2d": [
           {
            "colorbar": {
             "outlinewidth": 0,
             "ticks": ""
            },
            "colorscale": [
             [
              0,
              "#0d0887"
             ],
             [
              0.1111111111111111,
              "#46039f"
             ],
             [
              0.2222222222222222,
              "#7201a8"
             ],
             [
              0.3333333333333333,
              "#9c179e"
             ],
             [
              0.4444444444444444,
              "#bd3786"
             ],
             [
              0.5555555555555556,
              "#d8576b"
             ],
             [
              0.6666666666666666,
              "#ed7953"
             ],
             [
              0.7777777777777778,
              "#fb9f3a"
             ],
             [
              0.8888888888888888,
              "#fdca26"
             ],
             [
              1,
              "#f0f921"
             ]
            ],
            "type": "histogram2d"
           }
          ],
          "histogram2dcontour": [
           {
            "colorbar": {
             "outlinewidth": 0,
             "ticks": ""
            },
            "colorscale": [
             [
              0,
              "#0d0887"
             ],
             [
              0.1111111111111111,
              "#46039f"
             ],
             [
              0.2222222222222222,
              "#7201a8"
             ],
             [
              0.3333333333333333,
              "#9c179e"
             ],
             [
              0.4444444444444444,
              "#bd3786"
             ],
             [
              0.5555555555555556,
              "#d8576b"
             ],
             [
              0.6666666666666666,
              "#ed7953"
             ],
             [
              0.7777777777777778,
              "#fb9f3a"
             ],
             [
              0.8888888888888888,
              "#fdca26"
             ],
             [
              1,
              "#f0f921"
             ]
            ],
            "type": "histogram2dcontour"
           }
          ],
          "mesh3d": [
           {
            "colorbar": {
             "outlinewidth": 0,
             "ticks": ""
            },
            "type": "mesh3d"
           }
          ],
          "parcoords": [
           {
            "line": {
             "colorbar": {
              "outlinewidth": 0,
              "ticks": ""
             }
            },
            "type": "parcoords"
           }
          ],
          "pie": [
           {
            "automargin": true,
            "type": "pie"
           }
          ],
          "scatter": [
           {
            "marker": {
             "colorbar": {
              "outlinewidth": 0,
              "ticks": ""
             }
            },
            "type": "scatter"
           }
          ],
          "scatter3d": [
           {
            "line": {
             "colorbar": {
              "outlinewidth": 0,
              "ticks": ""
             }
            },
            "marker": {
             "colorbar": {
              "outlinewidth": 0,
              "ticks": ""
             }
            },
            "type": "scatter3d"
           }
          ],
          "scattercarpet": [
           {
            "marker": {
             "colorbar": {
              "outlinewidth": 0,
              "ticks": ""
             }
            },
            "type": "scattercarpet"
           }
          ],
          "scattergeo": [
           {
            "marker": {
             "colorbar": {
              "outlinewidth": 0,
              "ticks": ""
             }
            },
            "type": "scattergeo"
           }
          ],
          "scattergl": [
           {
            "marker": {
             "colorbar": {
              "outlinewidth": 0,
              "ticks": ""
             }
            },
            "type": "scattergl"
           }
          ],
          "scattermapbox": [
           {
            "marker": {
             "colorbar": {
              "outlinewidth": 0,
              "ticks": ""
             }
            },
            "type": "scattermapbox"
           }
          ],
          "scatterpolar": [
           {
            "marker": {
             "colorbar": {
              "outlinewidth": 0,
              "ticks": ""
             }
            },
            "type": "scatterpolar"
           }
          ],
          "scatterpolargl": [
           {
            "marker": {
             "colorbar": {
              "outlinewidth": 0,
              "ticks": ""
             }
            },
            "type": "scatterpolargl"
           }
          ],
          "scatterternary": [
           {
            "marker": {
             "colorbar": {
              "outlinewidth": 0,
              "ticks": ""
             }
            },
            "type": "scatterternary"
           }
          ],
          "surface": [
           {
            "colorbar": {
             "outlinewidth": 0,
             "ticks": ""
            },
            "colorscale": [
             [
              0,
              "#0d0887"
             ],
             [
              0.1111111111111111,
              "#46039f"
             ],
             [
              0.2222222222222222,
              "#7201a8"
             ],
             [
              0.3333333333333333,
              "#9c179e"
             ],
             [
              0.4444444444444444,
              "#bd3786"
             ],
             [
              0.5555555555555556,
              "#d8576b"
             ],
             [
              0.6666666666666666,
              "#ed7953"
             ],
             [
              0.7777777777777778,
              "#fb9f3a"
             ],
             [
              0.8888888888888888,
              "#fdca26"
             ],
             [
              1,
              "#f0f921"
             ]
            ],
            "type": "surface"
           }
          ],
          "table": [
           {
            "cells": {
             "fill": {
              "color": "#EBF0F8"
             },
             "line": {
              "color": "white"
             }
            },
            "header": {
             "fill": {
              "color": "#C8D4E3"
             },
             "line": {
              "color": "white"
             }
            },
            "type": "table"
           }
          ]
         },
         "layout": {
          "annotationdefaults": {
           "arrowcolor": "#2a3f5f",
           "arrowhead": 0,
           "arrowwidth": 1
          },
          "autotypenumbers": "strict",
          "coloraxis": {
           "colorbar": {
            "outlinewidth": 0,
            "ticks": ""
           }
          },
          "colorscale": {
           "diverging": [
            [
             0,
             "#8e0152"
            ],
            [
             0.1,
             "#c51b7d"
            ],
            [
             0.2,
             "#de77ae"
            ],
            [
             0.3,
             "#f1b6da"
            ],
            [
             0.4,
             "#fde0ef"
            ],
            [
             0.5,
             "#f7f7f7"
            ],
            [
             0.6,
             "#e6f5d0"
            ],
            [
             0.7,
             "#b8e186"
            ],
            [
             0.8,
             "#7fbc41"
            ],
            [
             0.9,
             "#4d9221"
            ],
            [
             1,
             "#276419"
            ]
           ],
           "sequential": [
            [
             0,
             "#0d0887"
            ],
            [
             0.1111111111111111,
             "#46039f"
            ],
            [
             0.2222222222222222,
             "#7201a8"
            ],
            [
             0.3333333333333333,
             "#9c179e"
            ],
            [
             0.4444444444444444,
             "#bd3786"
            ],
            [
             0.5555555555555556,
             "#d8576b"
            ],
            [
             0.6666666666666666,
             "#ed7953"
            ],
            [
             0.7777777777777778,
             "#fb9f3a"
            ],
            [
             0.8888888888888888,
             "#fdca26"
            ],
            [
             1,
             "#f0f921"
            ]
           ],
           "sequentialminus": [
            [
             0,
             "#0d0887"
            ],
            [
             0.1111111111111111,
             "#46039f"
            ],
            [
             0.2222222222222222,
             "#7201a8"
            ],
            [
             0.3333333333333333,
             "#9c179e"
            ],
            [
             0.4444444444444444,
             "#bd3786"
            ],
            [
             0.5555555555555556,
             "#d8576b"
            ],
            [
             0.6666666666666666,
             "#ed7953"
            ],
            [
             0.7777777777777778,
             "#fb9f3a"
            ],
            [
             0.8888888888888888,
             "#fdca26"
            ],
            [
             1,
             "#f0f921"
            ]
           ]
          },
          "colorway": [
           "#636efa",
           "#EF553B",
           "#00cc96",
           "#ab63fa",
           "#FFA15A",
           "#19d3f3",
           "#FF6692",
           "#B6E880",
           "#FF97FF",
           "#FECB52"
          ],
          "font": {
           "color": "#2a3f5f"
          },
          "geo": {
           "bgcolor": "white",
           "lakecolor": "white",
           "landcolor": "#E5ECF6",
           "showlakes": true,
           "showland": true,
           "subunitcolor": "white"
          },
          "hoverlabel": {
           "align": "left"
          },
          "hovermode": "closest",
          "mapbox": {
           "style": "light"
          },
          "paper_bgcolor": "white",
          "plot_bgcolor": "#E5ECF6",
          "polar": {
           "angularaxis": {
            "gridcolor": "white",
            "linecolor": "white",
            "ticks": ""
           },
           "bgcolor": "#E5ECF6",
           "radialaxis": {
            "gridcolor": "white",
            "linecolor": "white",
            "ticks": ""
           }
          },
          "scene": {
           "xaxis": {
            "backgroundcolor": "#E5ECF6",
            "gridcolor": "white",
            "gridwidth": 2,
            "linecolor": "white",
            "showbackground": true,
            "ticks": "",
            "zerolinecolor": "white"
           },
           "yaxis": {
            "backgroundcolor": "#E5ECF6",
            "gridcolor": "white",
            "gridwidth": 2,
            "linecolor": "white",
            "showbackground": true,
            "ticks": "",
            "zerolinecolor": "white"
           },
           "zaxis": {
            "backgroundcolor": "#E5ECF6",
            "gridcolor": "white",
            "gridwidth": 2,
            "linecolor": "white",
            "showbackground": true,
            "ticks": "",
            "zerolinecolor": "white"
           }
          },
          "shapedefaults": {
           "line": {
            "color": "#2a3f5f"
           }
          },
          "ternary": {
           "aaxis": {
            "gridcolor": "white",
            "linecolor": "white",
            "ticks": ""
           },
           "baxis": {
            "gridcolor": "white",
            "linecolor": "white",
            "ticks": ""
           },
           "bgcolor": "#E5ECF6",
           "caxis": {
            "gridcolor": "white",
            "linecolor": "white",
            "ticks": ""
           }
          },
          "title": {
           "x": 0.05
          },
          "xaxis": {
           "automargin": true,
           "gridcolor": "white",
           "linecolor": "white",
           "ticks": "",
           "title": {
            "standoff": 15
           },
           "zerolinecolor": "white",
           "zerolinewidth": 2
          },
          "yaxis": {
           "automargin": true,
           "gridcolor": "white",
           "linecolor": "white",
           "ticks": "",
           "title": {
            "standoff": 15
           },
           "zerolinecolor": "white",
           "zerolinewidth": 2
          }
         }
        },
        "title": {
         "font": {
          "color": "#4D5663"
         }
        },
        "xaxis": {
         "gridcolor": "#E1E5ED",
         "showgrid": true,
         "tickfont": {
          "color": "#4D5663"
         },
         "title": {
          "font": {
           "color": "#4D5663"
          },
          "text": ""
         },
         "zerolinecolor": "#E1E5ED"
        },
        "yaxis": {
         "gridcolor": "#E1E5ED",
         "showgrid": true,
         "tickfont": {
          "color": "#4D5663"
         },
         "title": {
          "font": {
           "color": "#4D5663"
          },
          "text": ""
         },
         "zerolinecolor": "#E1E5ED"
        }
       }
      },
      "text/html": [
       "<div>                            <div id=\"ae3d4920-e218-48f2-a676-b9f76548336f\" class=\"plotly-graph-div\" style=\"height:525px; width:100%;\"></div>            <script type=\"text/javascript\">                require([\"plotly\"], function(Plotly) {                    window.PLOTLYENV=window.PLOTLYENV || {};\n",
       "                    window.PLOTLYENV.BASE_URL='https://plot.ly';                                    if (document.getElementById(\"ae3d4920-e218-48f2-a676-b9f76548336f\")) {                    Plotly.newPlot(                        \"ae3d4920-e218-48f2-a676-b9f76548336f\",                        [{\"histfunc\":\"count\",\"histnorm\":\"\",\"marker\":{\"color\":\"rgba(255, 153, 51, 1.0)\",\"line\":{\"color\":\"#4D5663\",\"width\":1.3}},\"name\":\"A\",\"nbinsx\":25,\"opacity\":0.8,\"orientation\":\"v\",\"x\":[0.004623521176124493,0.16281569506746615,1.4224425740072002,1.0465883726312297,1.1842576898475108,-0.9430017076288162,-0.6085150350497329,0.8327710604567566,0.7349610260402549,-0.2490841883443285,0.2219721971076617,-1.2381344162131944,0.2422425588075395,0.6651871185074474,0.08648920725692612,1.0069096722828492,0.5135885685395674,1.2510550806883736,-1.0764907866006002,1.5131900701575884,-0.21516214636280803,-0.9908219512508374,-0.48304635726610295,-0.3309062206065575,-0.5997402907722839,-0.2226520133817669,-0.09223681807908718,-0.9320599965705885,-0.6146119575534867,-1.8405985217209972,-0.07196636464122422,-1.1917272842793725,-0.1212696899713353,0.41431577966805777,1.1104672706779055,-0.9576385942121362,-0.06294522738310888,-0.207259397445168,-1.0449588125891485,0.7724106256129741,0.09848545584616183,-1.855603203676661,-0.19908444045357243,0.8807303289230828,-0.6436409911582044,-1.2394950322721574,-0.5333903959015579,0.08113009265143066,0.3121856933497823,-1.6231237399849323,0.4262435294386619,-0.5754254419012534,1.472988451795054,-0.48801630030810406,0.31591838578850046,-0.20911915762697417,0.513052823155541,-0.894640737393719,0.11303368243634235,0.08126390492515637,0.8265265186825116,1.5199902351604946,0.20409263911347916,-0.549468299736583,1.6351857717316323,-1.3272902155743422,0.3882066558678317,0.3584136011973048,2.315912702942067,1.104337817545148,0.33035701635016934,-1.2452283168205998,-0.5958689580863932,-0.06441653627456218,0.5647656230700507,0.9987758735688422,-0.141260329807457,-0.5973353039913025,0.4786330161546429,0.5501368588768211,0.8511598466974138,0.3742405334903403,-0.30177615255004636,1.7609112031453364,-0.24623366538207506,-0.014729716842070764,-2.121790882536806,-1.3267770846391103,-0.8570527379474144,-0.24849451967740438,-0.22805041501320314,0.527751794561854,1.3824145693759025,0.748002990817415,-1.216462277265814,-0.590361800281665,-1.3125371550384277,0.6182744698313806,0.05728572122844015,1.4364291765621007],\"type\":\"histogram\"},{\"histfunc\":\"count\",\"histnorm\":\"\",\"marker\":{\"color\":\"rgba(55, 128, 191, 1.0)\",\"line\":{\"color\":\"#4D5663\",\"width\":1.3}},\"name\":\"B\",\"nbinsx\":25,\"opacity\":0.8,\"orientation\":\"v\",\"x\":[-1.1685508459194196,-1.5678017169000267,0.7870096262915491,-0.8629018468596408,-0.4857063865991016,-1.2626627412225944,1.2373205481923955,-0.48136229667102254,-0.4841128843538882,2.2915504567809273,-1.8664420703542837,-0.3822593347390874,-1.5464233121595794,0.8960317044216001,1.3738712750986215,1.3667016898736501,0.5931001857431492,-0.13608533179952403,-0.5226691150373612,0.9141181315239653,0.49588820121766547,0.7033452801787391,2.4161083229749805,0.9857082531792529,-0.5962036008775079,-2.3054551237669423,0.4595523549181218,2.1584557914506686,-0.21623673210559943,1.0268827658340507,-0.187361346602335,0.5586823673587367,-0.1425368574028095,0.47553084882931335,-0.8580278596709993,-1.3840740509849458,1.9078167471910268,-1.9298295674593051,0.4677649023118192,-0.6407645824728198,-0.20067105431129048,0.4535733758491212,-1.1594832090728682,-0.09834601975589295,-1.6057415274987874,-0.02923005850628262,1.0665687194053277,0.031731913806326804,1.6100699600708939,1.170010139117584,-1.3106350714837576,0.1503924243963787,-1.3108968820881353,-0.9241700441770824,0.5538224449867233,0.3999246772427607,0.24728761416851122,1.0347732797668334,0.6481309846764085,0.5225298542908703,-1.062807219692614,0.5389291711078632,0.3170946057858498,0.3113248214184092,-0.8779209994399148,-1.3103464725219607,-0.65146827356122,0.7838595330287975,-2.46586859817618,0.876539850402602,-0.838483575748058,3.023749502888475,0.4886405578618137,0.260885477893154,1.0195973638202933,0.8338732369478434,0.8553153295633149,-0.4904208832131635,0.3099140989134931,0.4674350174993666,1.6269411857138247,0.8377177915316513,-1.6344733353409773,0.5492777836028785,0.6287451281691209,-0.5570959640127177,2.1634854232289333,1.0158940604922302,-1.1812765625882486,0.8490929033497668,-0.2777383095778188,-1.539004318952743,0.38280204428729375,1.3083873098925314,0.8264927471174891,0.4456229526669064,-0.07712727689375366,1.3867079546845034,-0.2520138485006433,1.5057440934761228],\"type\":\"histogram\"},{\"histfunc\":\"count\",\"histnorm\":\"\",\"marker\":{\"color\":\"rgba(50, 171, 96, 1.0)\",\"line\":{\"color\":\"#4D5663\",\"width\":1.3}},\"name\":\"C\",\"nbinsx\":25,\"opacity\":0.8,\"orientation\":\"v\",\"x\":[1.8775853248219743,1.1634138874701658,0.4461462012951521,-0.630624769338649,2.1078034957109053,-0.9482366110800454,2.3374606688456554,-0.679065383221523,0.38377185432970784,1.5537342535800607,-0.30904709094909677,0.6620405516788332,0.3587890963955483,-0.9621814942267252,-1.4076529625364693,0.8406620342661275,-0.19167605225737872,0.07085336292954711,-0.41536402355468804,-0.6526583034337081,0.8953472080675058,-0.7927090917157454,-0.18504205933124068,-2.1844554211545013,-0.34928948363733436,0.9824393337572949,-0.18103284009489634,1.2235484395296887,0.8925359803657423,-0.46265299214822686,0.5316146639769636,1.1141688952959876,-0.8211688679945353,-0.4378686464586095,-1.5813213284574152,-0.1835676074821394,0.3635537816869505,0.292409384725485,-1.9292642402610856,-0.02109065033916954,-0.6500499929198842,-1.0706479780393594,1.4810807680195102,1.630294092771878,1.437547802195289,0.1612706125131396,1.0347881245359465,-0.5153424725683133,-1.853413964971279,-0.10138460345739685,-0.11374182274874095,0.7199491131082625,-0.8079590917446239,1.6050403523925685,1.3705705373156225,-3.7000867425385264,-0.7990098105675697,-0.78798107887203,0.043511496311365645,1.3127181160199133,0.5361353718531487,-0.10185322125127683,-0.2738025230244527,1.0602797063746061,-0.4626325274765146,0.18241675634136165,-0.06547590029811755,-0.8001702022637728,-1.1856462858028625,-0.6801324022438168,-2.701244480900419,-0.3740019761449056,0.6291185609341405,-1.3562555539381782,-0.1323317334140988,1.1587415899315627,1.3136982038489562,0.056299150576219766,0.2107247171069781,-0.23792370643470714,1.0088798622079589,0.7617470824000864,0.021279115740499545,-0.5371997831801028,0.43251449785168766,-0.05054466631950313,1.9377628526721993,3.9430366917901165,1.770493094498392,0.4878354231461598,-0.7745409475417855,-1.0331047085352125,0.3705350822079853,0.17892303678959548,0.7634234146163706,0.07312674885361234,0.8505793751346387,0.5407389794242599,-0.32128688659668025,0.44711829829526967],\"type\":\"histogram\"},{\"histfunc\":\"count\",\"histnorm\":\"\",\"marker\":{\"color\":\"rgba(128, 0, 128, 1.0)\",\"line\":{\"color\":\"#4D5663\",\"width\":1.3}},\"name\":\"D\",\"nbinsx\":25,\"opacity\":0.8,\"orientation\":\"v\",\"x\":[0.017994340381227145,-0.0653382085123521,0.6209264594991536,2.2826379372455197,0.7791573041836941,0.5072557716396099,0.2755242714684649,-0.6258208695941796,0.4693555786538185,-0.7208591531367468,0.42462242625489244,-1.9130505336414327,-0.8005255136044629,-0.11014504329317058,-1.5786485033992341,-1.3584660670467765,0.8554119234219554,0.6621662696420444,1.057233165320333,0.48229008348264657,1.3258226343578399,0.38911290504859075,0.5552410324849885,-1.113214333902142,1.601900234464146,0.8465429410097408,-0.02929303998629881,1.4651861522637595,1.6043335311238451,1.1861501805532806,2.288301812396918,-0.24144017822599984,1.074119518410007,0.14898849148633259,-0.21959247846775123,-0.4842991280081334,-0.5980875083709224,-0.6965258592933425,0.3752982937419125,-0.7405377346691557,1.4404124597838097,-2.458134592213451,-0.47260729864100204,0.003728348811584746,1.2722021246585768,0.3422839657249093,-1.591342881881602,-1.029037761921719,-0.16164559078402468,-0.46780869601705866,-0.20909695044526982,-0.15882282057795602,-0.33284057418607227,1.0513284800699878,-0.29257393956132854,0.41951762976242507,-1.5772488030443022,-0.0020039985250401744,-0.4764832163085147,-1.360639971697527,-0.7690296609146785,0.7584178969102826,-0.4513941465121298,0.2733591602541416,-0.4312651269411663,-1.3505952616061818,1.3718235501994085,-0.5501653282490452,0.4283274396211519,0.14583143659223802,1.0987555962936866,0.8624745086082322,0.5191588818768138,1.3848027984846778,0.6308443959533383,-0.8457552243986087,-0.23763820875389796,0.19990236397564415,-1.0157103003006478,-0.12688143526493068,-0.5796559515504119,-1.33437379644634,1.373035470199231,-0.09271868702696864,-0.108021289348484,0.2737362662435419,0.4153984048634312,-0.7277323409497012,0.12723409734090813,-1.7216795181560658,0.404075271990034,0.4813947761270504,-0.038503348254368845,-2.273437715572669,-0.7087437240167911,1.1425153969404258,-0.7206530960574146,-1.3195043732791696,-1.1427367809772713,0.17430027676471116],\"type\":\"histogram\"}],                        {\"barmode\":\"overlay\",\"legend\":{\"bgcolor\":\"#F5F6F9\",\"font\":{\"color\":\"#4D5663\"}},\"paper_bgcolor\":\"#F5F6F9\",\"plot_bgcolor\":\"#F5F6F9\",\"template\":{\"data\":{\"barpolar\":[{\"marker\":{\"line\":{\"color\":\"#E5ECF6\",\"width\":0.5},\"pattern\":{\"fillmode\":\"overlay\",\"size\":10,\"solidity\":0.2}},\"type\":\"barpolar\"}],\"bar\":[{\"error_x\":{\"color\":\"#2a3f5f\"},\"error_y\":{\"color\":\"#2a3f5f\"},\"marker\":{\"line\":{\"color\":\"#E5ECF6\",\"width\":0.5},\"pattern\":{\"fillmode\":\"overlay\",\"size\":10,\"solidity\":0.2}},\"type\":\"bar\"}],\"carpet\":[{\"aaxis\":{\"endlinecolor\":\"#2a3f5f\",\"gridcolor\":\"white\",\"linecolor\":\"white\",\"minorgridcolor\":\"white\",\"startlinecolor\":\"#2a3f5f\"},\"baxis\":{\"endlinecolor\":\"#2a3f5f\",\"gridcolor\":\"white\",\"linecolor\":\"white\",\"minorgridcolor\":\"white\",\"startlinecolor\":\"#2a3f5f\"},\"type\":\"carpet\"}],\"choropleth\":[{\"colorbar\":{\"outlinewidth\":0,\"ticks\":\"\"},\"type\":\"choropleth\"}],\"contourcarpet\":[{\"colorbar\":{\"outlinewidth\":0,\"ticks\":\"\"},\"type\":\"contourcarpet\"}],\"contour\":[{\"colorbar\":{\"outlinewidth\":0,\"ticks\":\"\"},\"colorscale\":[[0.0,\"#0d0887\"],[0.1111111111111111,\"#46039f\"],[0.2222222222222222,\"#7201a8\"],[0.3333333333333333,\"#9c179e\"],[0.4444444444444444,\"#bd3786\"],[0.5555555555555556,\"#d8576b\"],[0.6666666666666666,\"#ed7953\"],[0.7777777777777778,\"#fb9f3a\"],[0.8888888888888888,\"#fdca26\"],[1.0,\"#f0f921\"]],\"type\":\"contour\"}],\"heatmapgl\":[{\"colorbar\":{\"outlinewidth\":0,\"ticks\":\"\"},\"colorscale\":[[0.0,\"#0d0887\"],[0.1111111111111111,\"#46039f\"],[0.2222222222222222,\"#7201a8\"],[0.3333333333333333,\"#9c179e\"],[0.4444444444444444,\"#bd3786\"],[0.5555555555555556,\"#d8576b\"],[0.6666666666666666,\"#ed7953\"],[0.7777777777777778,\"#fb9f3a\"],[0.8888888888888888,\"#fdca26\"],[1.0,\"#f0f921\"]],\"type\":\"heatmapgl\"}],\"heatmap\":[{\"colorbar\":{\"outlinewidth\":0,\"ticks\":\"\"},\"colorscale\":[[0.0,\"#0d0887\"],[0.1111111111111111,\"#46039f\"],[0.2222222222222222,\"#7201a8\"],[0.3333333333333333,\"#9c179e\"],[0.4444444444444444,\"#bd3786\"],[0.5555555555555556,\"#d8576b\"],[0.6666666666666666,\"#ed7953\"],[0.7777777777777778,\"#fb9f3a\"],[0.8888888888888888,\"#fdca26\"],[1.0,\"#f0f921\"]],\"type\":\"heatmap\"}],\"histogram2dcontour\":[{\"colorbar\":{\"outlinewidth\":0,\"ticks\":\"\"},\"colorscale\":[[0.0,\"#0d0887\"],[0.1111111111111111,\"#46039f\"],[0.2222222222222222,\"#7201a8\"],[0.3333333333333333,\"#9c179e\"],[0.4444444444444444,\"#bd3786\"],[0.5555555555555556,\"#d8576b\"],[0.6666666666666666,\"#ed7953\"],[0.7777777777777778,\"#fb9f3a\"],[0.8888888888888888,\"#fdca26\"],[1.0,\"#f0f921\"]],\"type\":\"histogram2dcontour\"}],\"histogram2d\":[{\"colorbar\":{\"outlinewidth\":0,\"ticks\":\"\"},\"colorscale\":[[0.0,\"#0d0887\"],[0.1111111111111111,\"#46039f\"],[0.2222222222222222,\"#7201a8\"],[0.3333333333333333,\"#9c179e\"],[0.4444444444444444,\"#bd3786\"],[0.5555555555555556,\"#d8576b\"],[0.6666666666666666,\"#ed7953\"],[0.7777777777777778,\"#fb9f3a\"],[0.8888888888888888,\"#fdca26\"],[1.0,\"#f0f921\"]],\"type\":\"histogram2d\"}],\"histogram\":[{\"marker\":{\"pattern\":{\"fillmode\":\"overlay\",\"size\":10,\"solidity\":0.2}},\"type\":\"histogram\"}],\"mesh3d\":[{\"colorbar\":{\"outlinewidth\":0,\"ticks\":\"\"},\"type\":\"mesh3d\"}],\"parcoords\":[{\"line\":{\"colorbar\":{\"outlinewidth\":0,\"ticks\":\"\"}},\"type\":\"parcoords\"}],\"pie\":[{\"automargin\":true,\"type\":\"pie\"}],\"scatter3d\":[{\"line\":{\"colorbar\":{\"outlinewidth\":0,\"ticks\":\"\"}},\"marker\":{\"colorbar\":{\"outlinewidth\":0,\"ticks\":\"\"}},\"type\":\"scatter3d\"}],\"scattercarpet\":[{\"marker\":{\"colorbar\":{\"outlinewidth\":0,\"ticks\":\"\"}},\"type\":\"scattercarpet\"}],\"scattergeo\":[{\"marker\":{\"colorbar\":{\"outlinewidth\":0,\"ticks\":\"\"}},\"type\":\"scattergeo\"}],\"scattergl\":[{\"marker\":{\"colorbar\":{\"outlinewidth\":0,\"ticks\":\"\"}},\"type\":\"scattergl\"}],\"scattermapbox\":[{\"marker\":{\"colorbar\":{\"outlinewidth\":0,\"ticks\":\"\"}},\"type\":\"scattermapbox\"}],\"scatterpolargl\":[{\"marker\":{\"colorbar\":{\"outlinewidth\":0,\"ticks\":\"\"}},\"type\":\"scatterpolargl\"}],\"scatterpolar\":[{\"marker\":{\"colorbar\":{\"outlinewidth\":0,\"ticks\":\"\"}},\"type\":\"scatterpolar\"}],\"scatter\":[{\"marker\":{\"colorbar\":{\"outlinewidth\":0,\"ticks\":\"\"}},\"type\":\"scatter\"}],\"scatterternary\":[{\"marker\":{\"colorbar\":{\"outlinewidth\":0,\"ticks\":\"\"}},\"type\":\"scatterternary\"}],\"surface\":[{\"colorbar\":{\"outlinewidth\":0,\"ticks\":\"\"},\"colorscale\":[[0.0,\"#0d0887\"],[0.1111111111111111,\"#46039f\"],[0.2222222222222222,\"#7201a8\"],[0.3333333333333333,\"#9c179e\"],[0.4444444444444444,\"#bd3786\"],[0.5555555555555556,\"#d8576b\"],[0.6666666666666666,\"#ed7953\"],[0.7777777777777778,\"#fb9f3a\"],[0.8888888888888888,\"#fdca26\"],[1.0,\"#f0f921\"]],\"type\":\"surface\"}],\"table\":[{\"cells\":{\"fill\":{\"color\":\"#EBF0F8\"},\"line\":{\"color\":\"white\"}},\"header\":{\"fill\":{\"color\":\"#C8D4E3\"},\"line\":{\"color\":\"white\"}},\"type\":\"table\"}]},\"layout\":{\"annotationdefaults\":{\"arrowcolor\":\"#2a3f5f\",\"arrowhead\":0,\"arrowwidth\":1},\"autotypenumbers\":\"strict\",\"coloraxis\":{\"colorbar\":{\"outlinewidth\":0,\"ticks\":\"\"}},\"colorscale\":{\"diverging\":[[0,\"#8e0152\"],[0.1,\"#c51b7d\"],[0.2,\"#de77ae\"],[0.3,\"#f1b6da\"],[0.4,\"#fde0ef\"],[0.5,\"#f7f7f7\"],[0.6,\"#e6f5d0\"],[0.7,\"#b8e186\"],[0.8,\"#7fbc41\"],[0.9,\"#4d9221\"],[1,\"#276419\"]],\"sequential\":[[0.0,\"#0d0887\"],[0.1111111111111111,\"#46039f\"],[0.2222222222222222,\"#7201a8\"],[0.3333333333333333,\"#9c179e\"],[0.4444444444444444,\"#bd3786\"],[0.5555555555555556,\"#d8576b\"],[0.6666666666666666,\"#ed7953\"],[0.7777777777777778,\"#fb9f3a\"],[0.8888888888888888,\"#fdca26\"],[1.0,\"#f0f921\"]],\"sequentialminus\":[[0.0,\"#0d0887\"],[0.1111111111111111,\"#46039f\"],[0.2222222222222222,\"#7201a8\"],[0.3333333333333333,\"#9c179e\"],[0.4444444444444444,\"#bd3786\"],[0.5555555555555556,\"#d8576b\"],[0.6666666666666666,\"#ed7953\"],[0.7777777777777778,\"#fb9f3a\"],[0.8888888888888888,\"#fdca26\"],[1.0,\"#f0f921\"]]},\"colorway\":[\"#636efa\",\"#EF553B\",\"#00cc96\",\"#ab63fa\",\"#FFA15A\",\"#19d3f3\",\"#FF6692\",\"#B6E880\",\"#FF97FF\",\"#FECB52\"],\"font\":{\"color\":\"#2a3f5f\"},\"geo\":{\"bgcolor\":\"white\",\"lakecolor\":\"white\",\"landcolor\":\"#E5ECF6\",\"showlakes\":true,\"showland\":true,\"subunitcolor\":\"white\"},\"hoverlabel\":{\"align\":\"left\"},\"hovermode\":\"closest\",\"mapbox\":{\"style\":\"light\"},\"paper_bgcolor\":\"white\",\"plot_bgcolor\":\"#E5ECF6\",\"polar\":{\"angularaxis\":{\"gridcolor\":\"white\",\"linecolor\":\"white\",\"ticks\":\"\"},\"bgcolor\":\"#E5ECF6\",\"radialaxis\":{\"gridcolor\":\"white\",\"linecolor\":\"white\",\"ticks\":\"\"}},\"scene\":{\"xaxis\":{\"backgroundcolor\":\"#E5ECF6\",\"gridcolor\":\"white\",\"gridwidth\":2,\"linecolor\":\"white\",\"showbackground\":true,\"ticks\":\"\",\"zerolinecolor\":\"white\"},\"yaxis\":{\"backgroundcolor\":\"#E5ECF6\",\"gridcolor\":\"white\",\"gridwidth\":2,\"linecolor\":\"white\",\"showbackground\":true,\"ticks\":\"\",\"zerolinecolor\":\"white\"},\"zaxis\":{\"backgroundcolor\":\"#E5ECF6\",\"gridcolor\":\"white\",\"gridwidth\":2,\"linecolor\":\"white\",\"showbackground\":true,\"ticks\":\"\",\"zerolinecolor\":\"white\"}},\"shapedefaults\":{\"line\":{\"color\":\"#2a3f5f\"}},\"ternary\":{\"aaxis\":{\"gridcolor\":\"white\",\"linecolor\":\"white\",\"ticks\":\"\"},\"baxis\":{\"gridcolor\":\"white\",\"linecolor\":\"white\",\"ticks\":\"\"},\"bgcolor\":\"#E5ECF6\",\"caxis\":{\"gridcolor\":\"white\",\"linecolor\":\"white\",\"ticks\":\"\"}},\"title\":{\"x\":0.05},\"xaxis\":{\"automargin\":true,\"gridcolor\":\"white\",\"linecolor\":\"white\",\"ticks\":\"\",\"title\":{\"standoff\":15},\"zerolinecolor\":\"white\",\"zerolinewidth\":2},\"yaxis\":{\"automargin\":true,\"gridcolor\":\"white\",\"linecolor\":\"white\",\"ticks\":\"\",\"title\":{\"standoff\":15},\"zerolinecolor\":\"white\",\"zerolinewidth\":2}}},\"title\":{\"font\":{\"color\":\"#4D5663\"}},\"xaxis\":{\"gridcolor\":\"#E1E5ED\",\"showgrid\":true,\"tickfont\":{\"color\":\"#4D5663\"},\"title\":{\"font\":{\"color\":\"#4D5663\"},\"text\":\"\"},\"zerolinecolor\":\"#E1E5ED\"},\"yaxis\":{\"gridcolor\":\"#E1E5ED\",\"showgrid\":true,\"tickfont\":{\"color\":\"#4D5663\"},\"title\":{\"font\":{\"color\":\"#4D5663\"},\"text\":\"\"},\"zerolinecolor\":\"#E1E5ED\"}},                        {\"showLink\": true, \"linkText\": \"Export to plot.ly\", \"plotlyServerURL\": \"https://plot.ly\", \"responsive\": true}                    ).then(function(){\n",
       "                            \n",
       "var gd = document.getElementById('ae3d4920-e218-48f2-a676-b9f76548336f');\n",
       "var x = new MutationObserver(function (mutations, observer) {{\n",
       "        var display = window.getComputedStyle(gd).display;\n",
       "        if (!display || display === 'none') {{\n",
       "            console.log([gd, 'removed!']);\n",
       "            Plotly.purge(gd);\n",
       "            observer.disconnect();\n",
       "        }}\n",
       "}});\n",
       "\n",
       "// Listen for the removal of the full notebook cells\n",
       "var notebookContainer = gd.closest('#notebook-container');\n",
       "if (notebookContainer) {{\n",
       "    x.observe(notebookContainer, {childList: true});\n",
       "}}\n",
       "\n",
       "// Listen for the clearing of the current output cell\n",
       "var outputEl = gd.closest('.output');\n",
       "if (outputEl) {{\n",
       "    x.observe(outputEl, {childList: true});\n",
       "}}\n",
       "\n",
       "                        })                };                });            </script>        </div>"
      ]
     },
     "metadata": {},
     "output_type": "display_data"
    }
   ],
   "source": [
    "df.iplot(kind='hist',bins=25)"
   ]
  },
  {
   "cell_type": "code",
   "execution_count": 70,
   "id": "d06cd97b",
   "metadata": {
    "scrolled": false
   },
   "outputs": [
    {
     "name": "stderr",
     "output_type": "stream",
     "text": [
      "/home/acr/anaconda3/lib/python3.9/site-packages/cufflinks/plotlytools.py:849: FutureWarning:\n",
      "\n",
      "The pandas.np module is deprecated and will be removed from pandas in a future version. Import numpy directly instead\n",
      "\n",
      "/home/acr/anaconda3/lib/python3.9/site-packages/cufflinks/plotlytools.py:850: FutureWarning:\n",
      "\n",
      "The pandas.np module is deprecated and will be removed from pandas in a future version. Import numpy directly instead\n",
      "\n"
     ]
    },
    {
     "data": {
      "application/vnd.plotly.v1+json": {
       "config": {
        "linkText": "Export to plot.ly",
        "plotlyServerURL": "https://plot.ly",
        "showLink": true
       },
       "data": [
        {
         "line": {
          "color": "rgba(255, 153, 51, 1.0)",
          "dash": "solid",
          "shape": "linear",
          "width": 1.3
         },
         "mode": "lines",
         "name": "A",
         "text": "",
         "type": "scatter",
         "x": [
          0,
          1,
          2,
          3,
          4,
          5,
          6,
          7,
          8,
          9,
          10,
          11,
          12,
          13,
          14,
          15,
          16,
          17,
          18,
          19,
          20,
          21,
          22,
          23,
          24,
          25,
          26,
          27,
          28,
          29,
          30,
          31,
          32,
          33,
          34,
          35,
          36,
          37,
          38,
          39,
          40,
          41,
          42,
          43,
          44,
          45,
          46,
          47,
          48,
          49,
          50,
          51,
          52,
          53,
          54,
          55,
          56,
          57,
          58,
          59,
          60,
          61,
          62,
          63,
          64,
          65,
          66,
          67,
          68,
          69,
          70,
          71,
          72,
          73,
          74,
          75,
          76,
          77,
          78,
          79,
          80,
          81,
          82,
          83,
          84,
          85,
          86,
          87,
          88,
          89,
          90,
          91,
          92,
          93,
          94,
          95,
          96,
          97,
          98,
          99
         ],
         "y": [
          0.004623521176124493,
          0.16281569506746615,
          1.4224425740072002,
          1.0465883726312297,
          1.1842576898475108,
          -0.9430017076288162,
          -0.6085150350497329,
          0.8327710604567566,
          0.7349610260402549,
          -0.2490841883443285,
          0.2219721971076617,
          -1.2381344162131944,
          0.2422425588075395,
          0.6651871185074474,
          0.08648920725692612,
          1.0069096722828492,
          0.5135885685395674,
          1.2510550806883736,
          -1.0764907866006002,
          1.5131900701575884,
          -0.21516214636280803,
          -0.9908219512508374,
          -0.48304635726610295,
          -0.3309062206065575,
          -0.5997402907722839,
          -0.2226520133817669,
          -0.09223681807908718,
          -0.9320599965705885,
          -0.6146119575534867,
          -1.8405985217209972,
          -0.07196636464122422,
          -1.1917272842793725,
          -0.1212696899713353,
          0.41431577966805777,
          1.1104672706779055,
          -0.9576385942121362,
          -0.06294522738310888,
          -0.207259397445168,
          -1.0449588125891485,
          0.7724106256129741,
          0.09848545584616183,
          -1.855603203676661,
          -0.19908444045357243,
          0.8807303289230828,
          -0.6436409911582044,
          -1.2394950322721574,
          -0.5333903959015579,
          0.08113009265143066,
          0.3121856933497823,
          -1.6231237399849323,
          0.4262435294386619,
          -0.5754254419012534,
          1.472988451795054,
          -0.48801630030810406,
          0.31591838578850046,
          -0.20911915762697417,
          0.513052823155541,
          -0.894640737393719,
          0.11303368243634235,
          0.08126390492515637,
          0.8265265186825116,
          1.5199902351604946,
          0.20409263911347916,
          -0.549468299736583,
          1.6351857717316323,
          -1.3272902155743422,
          0.3882066558678317,
          0.3584136011973048,
          2.315912702942067,
          1.104337817545148,
          0.33035701635016934,
          -1.2452283168205998,
          -0.5958689580863932,
          -0.06441653627456218,
          0.5647656230700507,
          0.9987758735688422,
          -0.141260329807457,
          -0.5973353039913025,
          0.4786330161546429,
          0.5501368588768211,
          0.8511598466974138,
          0.3742405334903403,
          -0.30177615255004636,
          1.7609112031453364,
          -0.24623366538207506,
          -0.014729716842070764,
          -2.121790882536806,
          -1.3267770846391103,
          -0.8570527379474144,
          -0.24849451967740438,
          -0.22805041501320314,
          0.527751794561854,
          1.3824145693759025,
          0.748002990817415,
          -1.216462277265814,
          -0.590361800281665,
          -1.3125371550384277,
          0.6182744698313806,
          0.05728572122844015,
          1.4364291765621007
         ]
        },
        {
         "line": {
          "color": "rgba(55, 128, 191, 1.0)",
          "dash": "solid",
          "shape": "linear",
          "width": 1.3
         },
         "mode": "lines",
         "name": "B",
         "text": "",
         "type": "scatter",
         "x": [
          0,
          1,
          2,
          3,
          4,
          5,
          6,
          7,
          8,
          9,
          10,
          11,
          12,
          13,
          14,
          15,
          16,
          17,
          18,
          19,
          20,
          21,
          22,
          23,
          24,
          25,
          26,
          27,
          28,
          29,
          30,
          31,
          32,
          33,
          34,
          35,
          36,
          37,
          38,
          39,
          40,
          41,
          42,
          43,
          44,
          45,
          46,
          47,
          48,
          49,
          50,
          51,
          52,
          53,
          54,
          55,
          56,
          57,
          58,
          59,
          60,
          61,
          62,
          63,
          64,
          65,
          66,
          67,
          68,
          69,
          70,
          71,
          72,
          73,
          74,
          75,
          76,
          77,
          78,
          79,
          80,
          81,
          82,
          83,
          84,
          85,
          86,
          87,
          88,
          89,
          90,
          91,
          92,
          93,
          94,
          95,
          96,
          97,
          98,
          99
         ],
         "y": [
          -1.1685508459194196,
          -1.5678017169000267,
          0.7870096262915491,
          -0.8629018468596408,
          -0.4857063865991016,
          -1.2626627412225944,
          1.2373205481923955,
          -0.48136229667102254,
          -0.4841128843538882,
          2.2915504567809273,
          -1.8664420703542837,
          -0.3822593347390874,
          -1.5464233121595794,
          0.8960317044216001,
          1.3738712750986215,
          1.3667016898736501,
          0.5931001857431492,
          -0.13608533179952403,
          -0.5226691150373612,
          0.9141181315239653,
          0.49588820121766547,
          0.7033452801787391,
          2.4161083229749805,
          0.9857082531792529,
          -0.5962036008775079,
          -2.3054551237669423,
          0.4595523549181218,
          2.1584557914506686,
          -0.21623673210559943,
          1.0268827658340507,
          -0.187361346602335,
          0.5586823673587367,
          -0.1425368574028095,
          0.47553084882931335,
          -0.8580278596709993,
          -1.3840740509849458,
          1.9078167471910268,
          -1.9298295674593051,
          0.4677649023118192,
          -0.6407645824728198,
          -0.20067105431129048,
          0.4535733758491212,
          -1.1594832090728682,
          -0.09834601975589295,
          -1.6057415274987874,
          -0.02923005850628262,
          1.0665687194053277,
          0.031731913806326804,
          1.6100699600708939,
          1.170010139117584,
          -1.3106350714837576,
          0.1503924243963787,
          -1.3108968820881353,
          -0.9241700441770824,
          0.5538224449867233,
          0.3999246772427607,
          0.24728761416851122,
          1.0347732797668334,
          0.6481309846764085,
          0.5225298542908703,
          -1.062807219692614,
          0.5389291711078632,
          0.3170946057858498,
          0.3113248214184092,
          -0.8779209994399148,
          -1.3103464725219607,
          -0.65146827356122,
          0.7838595330287975,
          -2.46586859817618,
          0.876539850402602,
          -0.838483575748058,
          3.023749502888475,
          0.4886405578618137,
          0.260885477893154,
          1.0195973638202933,
          0.8338732369478434,
          0.8553153295633149,
          -0.4904208832131635,
          0.3099140989134931,
          0.4674350174993666,
          1.6269411857138247,
          0.8377177915316513,
          -1.6344733353409773,
          0.5492777836028785,
          0.6287451281691209,
          -0.5570959640127177,
          2.1634854232289333,
          1.0158940604922302,
          -1.1812765625882486,
          0.8490929033497668,
          -0.2777383095778188,
          -1.539004318952743,
          0.38280204428729375,
          1.3083873098925314,
          0.8264927471174891,
          0.4456229526669064,
          -0.07712727689375366,
          1.3867079546845034,
          -0.2520138485006433,
          1.5057440934761228
         ]
        },
        {
         "connectgaps": false,
         "fill": "tozeroy",
         "line": {
          "color": "green",
          "dash": "solid",
          "shape": "linear",
          "width": 0.5
         },
         "mode": "lines",
         "name": "Spread",
         "showlegend": false,
         "type": "scatter",
         "x": [
          0,
          1,
          2,
          3,
          4,
          5,
          6,
          7,
          8,
          9,
          10,
          11,
          12,
          13,
          14,
          15,
          16,
          17,
          18,
          19,
          20,
          21,
          22,
          23,
          24,
          25,
          26,
          27,
          28,
          29,
          30,
          31,
          32,
          33,
          34,
          35,
          36,
          37,
          38,
          39,
          40,
          41,
          42,
          43,
          44,
          45,
          46,
          47,
          48,
          49,
          50,
          51,
          52,
          53,
          54,
          55,
          56,
          57,
          58,
          59,
          60,
          61,
          62,
          63,
          64,
          65,
          66,
          67,
          68,
          69,
          70,
          71,
          72,
          73,
          74,
          75,
          76,
          77,
          78,
          79,
          80,
          81,
          82,
          83,
          84,
          85,
          86,
          87,
          88,
          89,
          90,
          91,
          92,
          93,
          94,
          95,
          96,
          97,
          98,
          99
         ],
         "xaxis": "x2",
         "y": [
          1.1731743670955441,
          1.7306174119674929,
          0.6354329477156511,
          1.9094902194908705,
          1.6699640764466124,
          0.3196610335937782,
          "",
          1.3141333571277791,
          1.219073910394143,
          "",
          2.0884142674619453,
          "",
          1.7886658709671188,
          "",
          "",
          "",
          "",
          1.3871404124878977,
          "",
          0.5990719386336232,
          "",
          "",
          "",
          "",
          "",
          2.0828031103851754,
          "",
          "",
          "",
          "",
          0.11539498196111078,
          "",
          0.021267167431474193,
          "",
          1.9684951303489049,
          0.4264354567728097,
          "",
          1.7225701700141371,
          "",
          1.4131752080857938,
          0.2991565101574523,
          "",
          0.9603987686192957,
          0.9790763486789757,
          0.962100536340583,
          "",
          "",
          0.049398178845103856,
          "",
          "",
          1.7368786009224195,
          "",
          2.7838853338831893,
          0.4361537438689783,
          "",
          "",
          0.2657652089870298,
          "",
          "",
          "",
          1.8893337383751256,
          0.9810610640526314,
          "",
          "",
          2.513106771171547,
          "",
          1.0396749294290517,
          "",
          4.781781301118247,
          0.22779796714254597,
          1.1688405920982272,
          "",
          "",
          "",
          "",
          0.1649026366209988,
          "",
          "",
          0.1687189172411498,
          0.08270184137745445,
          "",
          "",
          1.3326971827909309,
          1.211633419542458,
          "",
          0.5423662471706469,
          "",
          "",
          0.3242238246408342,
          "",
          0.04968789456461567,
          2.0667561135145966,
          0.9996125250886088,
          "",
          "",
          "",
          "",
          "",
          0.30929956972908346,
          ""
         ],
         "yaxis": "y2"
        },
        {
         "connectgaps": false,
         "fill": "tozeroy",
         "line": {
          "color": "red",
          "dash": "solid",
          "shape": "linear",
          "width": 0.5
         },
         "mode": "lines",
         "name": "Spread",
         "showlegend": false,
         "type": "scatter",
         "x": [
          0,
          1,
          2,
          3,
          4,
          5,
          6,
          7,
          8,
          9,
          10,
          11,
          12,
          13,
          14,
          15,
          16,
          17,
          18,
          19,
          20,
          21,
          22,
          23,
          24,
          25,
          26,
          27,
          28,
          29,
          30,
          31,
          32,
          33,
          34,
          35,
          36,
          37,
          38,
          39,
          40,
          41,
          42,
          43,
          44,
          45,
          46,
          47,
          48,
          49,
          50,
          51,
          52,
          53,
          54,
          55,
          56,
          57,
          58,
          59,
          60,
          61,
          62,
          63,
          64,
          65,
          66,
          67,
          68,
          69,
          70,
          71,
          72,
          73,
          74,
          75,
          76,
          77,
          78,
          79,
          80,
          81,
          82,
          83,
          84,
          85,
          86,
          87,
          88,
          89,
          90,
          91,
          92,
          93,
          94,
          95,
          96,
          97,
          98,
          99
         ],
         "xaxis": "x2",
         "y": [
          "",
          "",
          "",
          "",
          "",
          "",
          -1.8458355832421285,
          "",
          "",
          -2.5406346451252557,
          "",
          -0.855875081474107,
          "",
          -0.2308445859141527,
          -1.2873820678416954,
          -0.3597920175908009,
          -0.0795116172035818,
          "",
          -0.5538216715632389,
          "",
          -0.7110503475804735,
          -1.6941672314295766,
          -2.8991546802410832,
          -1.3166144737858105,
          -0.0035366898947759573,
          "",
          -0.551789172997209,
          -3.090515788021257,
          -0.3983752254478873,
          -2.867481287555048,
          "",
          -1.7504096516381091,
          "",
          -0.061215069161255575,
          "",
          "",
          -1.9707619745741356,
          "",
          -1.5127237149009676,
          "",
          "",
          -2.3091765795257824,
          "",
          "",
          "",
          -1.2102649737658748,
          -1.5999591153068855,
          "",
          -1.2978842667211117,
          -2.793133879102516,
          "",
          -0.7258178662976321,
          "",
          "",
          -0.23790405919822283,
          -0.6090438348697349,
          "",
          -1.9294140171605525,
          -0.5350973022400661,
          -0.44126594936571395,
          "",
          "",
          -0.11300196667237064,
          -0.8607931211549922,
          "",
          -0.016943743052381555,
          "",
          -0.4254459318314927,
          "",
          "",
          "",
          -4.268977819709074,
          -1.084509515948207,
          -0.3253020141677162,
          -0.4548317407502426,
          "",
          -0.996575659370772,
          -0.10691442077813901,
          "",
          "",
          -0.7757813390164109,
          -0.46347725804131096,
          "",
          "",
          -0.8749787935511959,
          "",
          -4.2852763057657395,
          -2.3426711451313404,
          "",
          -1.0975874230271712,
          "",
          "",
          "",
          -0.5603843190751164,
          -2.042955024383303,
          -1.0359847529485713,
          -1.235409878144674,
          -0.7684334848531228,
          "",
          -0.06931491691402214
         ],
         "yaxis": "y2"
        }
       ],
       "layout": {
        "hovermode": "x",
        "legend": {
         "bgcolor": "#F5F6F9",
         "font": {
          "color": "#4D5663"
         }
        },
        "paper_bgcolor": "#F5F6F9",
        "plot_bgcolor": "#F5F6F9",
        "template": {
         "data": {
          "bar": [
           {
            "error_x": {
             "color": "#2a3f5f"
            },
            "error_y": {
             "color": "#2a3f5f"
            },
            "marker": {
             "line": {
              "color": "#E5ECF6",
              "width": 0.5
             },
             "pattern": {
              "fillmode": "overlay",
              "size": 10,
              "solidity": 0.2
             }
            },
            "type": "bar"
           }
          ],
          "barpolar": [
           {
            "marker": {
             "line": {
              "color": "#E5ECF6",
              "width": 0.5
             },
             "pattern": {
              "fillmode": "overlay",
              "size": 10,
              "solidity": 0.2
             }
            },
            "type": "barpolar"
           }
          ],
          "carpet": [
           {
            "aaxis": {
             "endlinecolor": "#2a3f5f",
             "gridcolor": "white",
             "linecolor": "white",
             "minorgridcolor": "white",
             "startlinecolor": "#2a3f5f"
            },
            "baxis": {
             "endlinecolor": "#2a3f5f",
             "gridcolor": "white",
             "linecolor": "white",
             "minorgridcolor": "white",
             "startlinecolor": "#2a3f5f"
            },
            "type": "carpet"
           }
          ],
          "choropleth": [
           {
            "colorbar": {
             "outlinewidth": 0,
             "ticks": ""
            },
            "type": "choropleth"
           }
          ],
          "contour": [
           {
            "colorbar": {
             "outlinewidth": 0,
             "ticks": ""
            },
            "colorscale": [
             [
              0,
              "#0d0887"
             ],
             [
              0.1111111111111111,
              "#46039f"
             ],
             [
              0.2222222222222222,
              "#7201a8"
             ],
             [
              0.3333333333333333,
              "#9c179e"
             ],
             [
              0.4444444444444444,
              "#bd3786"
             ],
             [
              0.5555555555555556,
              "#d8576b"
             ],
             [
              0.6666666666666666,
              "#ed7953"
             ],
             [
              0.7777777777777778,
              "#fb9f3a"
             ],
             [
              0.8888888888888888,
              "#fdca26"
             ],
             [
              1,
              "#f0f921"
             ]
            ],
            "type": "contour"
           }
          ],
          "contourcarpet": [
           {
            "colorbar": {
             "outlinewidth": 0,
             "ticks": ""
            },
            "type": "contourcarpet"
           }
          ],
          "heatmap": [
           {
            "colorbar": {
             "outlinewidth": 0,
             "ticks": ""
            },
            "colorscale": [
             [
              0,
              "#0d0887"
             ],
             [
              0.1111111111111111,
              "#46039f"
             ],
             [
              0.2222222222222222,
              "#7201a8"
             ],
             [
              0.3333333333333333,
              "#9c179e"
             ],
             [
              0.4444444444444444,
              "#bd3786"
             ],
             [
              0.5555555555555556,
              "#d8576b"
             ],
             [
              0.6666666666666666,
              "#ed7953"
             ],
             [
              0.7777777777777778,
              "#fb9f3a"
             ],
             [
              0.8888888888888888,
              "#fdca26"
             ],
             [
              1,
              "#f0f921"
             ]
            ],
            "type": "heatmap"
           }
          ],
          "heatmapgl": [
           {
            "colorbar": {
             "outlinewidth": 0,
             "ticks": ""
            },
            "colorscale": [
             [
              0,
              "#0d0887"
             ],
             [
              0.1111111111111111,
              "#46039f"
             ],
             [
              0.2222222222222222,
              "#7201a8"
             ],
             [
              0.3333333333333333,
              "#9c179e"
             ],
             [
              0.4444444444444444,
              "#bd3786"
             ],
             [
              0.5555555555555556,
              "#d8576b"
             ],
             [
              0.6666666666666666,
              "#ed7953"
             ],
             [
              0.7777777777777778,
              "#fb9f3a"
             ],
             [
              0.8888888888888888,
              "#fdca26"
             ],
             [
              1,
              "#f0f921"
             ]
            ],
            "type": "heatmapgl"
           }
          ],
          "histogram": [
           {
            "marker": {
             "pattern": {
              "fillmode": "overlay",
              "size": 10,
              "solidity": 0.2
             }
            },
            "type": "histogram"
           }
          ],
          "histogram2d": [
           {
            "colorbar": {
             "outlinewidth": 0,
             "ticks": ""
            },
            "colorscale": [
             [
              0,
              "#0d0887"
             ],
             [
              0.1111111111111111,
              "#46039f"
             ],
             [
              0.2222222222222222,
              "#7201a8"
             ],
             [
              0.3333333333333333,
              "#9c179e"
             ],
             [
              0.4444444444444444,
              "#bd3786"
             ],
             [
              0.5555555555555556,
              "#d8576b"
             ],
             [
              0.6666666666666666,
              "#ed7953"
             ],
             [
              0.7777777777777778,
              "#fb9f3a"
             ],
             [
              0.8888888888888888,
              "#fdca26"
             ],
             [
              1,
              "#f0f921"
             ]
            ],
            "type": "histogram2d"
           }
          ],
          "histogram2dcontour": [
           {
            "colorbar": {
             "outlinewidth": 0,
             "ticks": ""
            },
            "colorscale": [
             [
              0,
              "#0d0887"
             ],
             [
              0.1111111111111111,
              "#46039f"
             ],
             [
              0.2222222222222222,
              "#7201a8"
             ],
             [
              0.3333333333333333,
              "#9c179e"
             ],
             [
              0.4444444444444444,
              "#bd3786"
             ],
             [
              0.5555555555555556,
              "#d8576b"
             ],
             [
              0.6666666666666666,
              "#ed7953"
             ],
             [
              0.7777777777777778,
              "#fb9f3a"
             ],
             [
              0.8888888888888888,
              "#fdca26"
             ],
             [
              1,
              "#f0f921"
             ]
            ],
            "type": "histogram2dcontour"
           }
          ],
          "mesh3d": [
           {
            "colorbar": {
             "outlinewidth": 0,
             "ticks": ""
            },
            "type": "mesh3d"
           }
          ],
          "parcoords": [
           {
            "line": {
             "colorbar": {
              "outlinewidth": 0,
              "ticks": ""
             }
            },
            "type": "parcoords"
           }
          ],
          "pie": [
           {
            "automargin": true,
            "type": "pie"
           }
          ],
          "scatter": [
           {
            "marker": {
             "colorbar": {
              "outlinewidth": 0,
              "ticks": ""
             }
            },
            "type": "scatter"
           }
          ],
          "scatter3d": [
           {
            "line": {
             "colorbar": {
              "outlinewidth": 0,
              "ticks": ""
             }
            },
            "marker": {
             "colorbar": {
              "outlinewidth": 0,
              "ticks": ""
             }
            },
            "type": "scatter3d"
           }
          ],
          "scattercarpet": [
           {
            "marker": {
             "colorbar": {
              "outlinewidth": 0,
              "ticks": ""
             }
            },
            "type": "scattercarpet"
           }
          ],
          "scattergeo": [
           {
            "marker": {
             "colorbar": {
              "outlinewidth": 0,
              "ticks": ""
             }
            },
            "type": "scattergeo"
           }
          ],
          "scattergl": [
           {
            "marker": {
             "colorbar": {
              "outlinewidth": 0,
              "ticks": ""
             }
            },
            "type": "scattergl"
           }
          ],
          "scattermapbox": [
           {
            "marker": {
             "colorbar": {
              "outlinewidth": 0,
              "ticks": ""
             }
            },
            "type": "scattermapbox"
           }
          ],
          "scatterpolar": [
           {
            "marker": {
             "colorbar": {
              "outlinewidth": 0,
              "ticks": ""
             }
            },
            "type": "scatterpolar"
           }
          ],
          "scatterpolargl": [
           {
            "marker": {
             "colorbar": {
              "outlinewidth": 0,
              "ticks": ""
             }
            },
            "type": "scatterpolargl"
           }
          ],
          "scatterternary": [
           {
            "marker": {
             "colorbar": {
              "outlinewidth": 0,
              "ticks": ""
             }
            },
            "type": "scatterternary"
           }
          ],
          "surface": [
           {
            "colorbar": {
             "outlinewidth": 0,
             "ticks": ""
            },
            "colorscale": [
             [
              0,
              "#0d0887"
             ],
             [
              0.1111111111111111,
              "#46039f"
             ],
             [
              0.2222222222222222,
              "#7201a8"
             ],
             [
              0.3333333333333333,
              "#9c179e"
             ],
             [
              0.4444444444444444,
              "#bd3786"
             ],
             [
              0.5555555555555556,
              "#d8576b"
             ],
             [
              0.6666666666666666,
              "#ed7953"
             ],
             [
              0.7777777777777778,
              "#fb9f3a"
             ],
             [
              0.8888888888888888,
              "#fdca26"
             ],
             [
              1,
              "#f0f921"
             ]
            ],
            "type": "surface"
           }
          ],
          "table": [
           {
            "cells": {
             "fill": {
              "color": "#EBF0F8"
             },
             "line": {
              "color": "white"
             }
            },
            "header": {
             "fill": {
              "color": "#C8D4E3"
             },
             "line": {
              "color": "white"
             }
            },
            "type": "table"
           }
          ]
         },
         "layout": {
          "annotationdefaults": {
           "arrowcolor": "#2a3f5f",
           "arrowhead": 0,
           "arrowwidth": 1
          },
          "autotypenumbers": "strict",
          "coloraxis": {
           "colorbar": {
            "outlinewidth": 0,
            "ticks": ""
           }
          },
          "colorscale": {
           "diverging": [
            [
             0,
             "#8e0152"
            ],
            [
             0.1,
             "#c51b7d"
            ],
            [
             0.2,
             "#de77ae"
            ],
            [
             0.3,
             "#f1b6da"
            ],
            [
             0.4,
             "#fde0ef"
            ],
            [
             0.5,
             "#f7f7f7"
            ],
            [
             0.6,
             "#e6f5d0"
            ],
            [
             0.7,
             "#b8e186"
            ],
            [
             0.8,
             "#7fbc41"
            ],
            [
             0.9,
             "#4d9221"
            ],
            [
             1,
             "#276419"
            ]
           ],
           "sequential": [
            [
             0,
             "#0d0887"
            ],
            [
             0.1111111111111111,
             "#46039f"
            ],
            [
             0.2222222222222222,
             "#7201a8"
            ],
            [
             0.3333333333333333,
             "#9c179e"
            ],
            [
             0.4444444444444444,
             "#bd3786"
            ],
            [
             0.5555555555555556,
             "#d8576b"
            ],
            [
             0.6666666666666666,
             "#ed7953"
            ],
            [
             0.7777777777777778,
             "#fb9f3a"
            ],
            [
             0.8888888888888888,
             "#fdca26"
            ],
            [
             1,
             "#f0f921"
            ]
           ],
           "sequentialminus": [
            [
             0,
             "#0d0887"
            ],
            [
             0.1111111111111111,
             "#46039f"
            ],
            [
             0.2222222222222222,
             "#7201a8"
            ],
            [
             0.3333333333333333,
             "#9c179e"
            ],
            [
             0.4444444444444444,
             "#bd3786"
            ],
            [
             0.5555555555555556,
             "#d8576b"
            ],
            [
             0.6666666666666666,
             "#ed7953"
            ],
            [
             0.7777777777777778,
             "#fb9f3a"
            ],
            [
             0.8888888888888888,
             "#fdca26"
            ],
            [
             1,
             "#f0f921"
            ]
           ]
          },
          "colorway": [
           "#636efa",
           "#EF553B",
           "#00cc96",
           "#ab63fa",
           "#FFA15A",
           "#19d3f3",
           "#FF6692",
           "#B6E880",
           "#FF97FF",
           "#FECB52"
          ],
          "font": {
           "color": "#2a3f5f"
          },
          "geo": {
           "bgcolor": "white",
           "lakecolor": "white",
           "landcolor": "#E5ECF6",
           "showlakes": true,
           "showland": true,
           "subunitcolor": "white"
          },
          "hoverlabel": {
           "align": "left"
          },
          "hovermode": "closest",
          "mapbox": {
           "style": "light"
          },
          "paper_bgcolor": "white",
          "plot_bgcolor": "#E5ECF6",
          "polar": {
           "angularaxis": {
            "gridcolor": "white",
            "linecolor": "white",
            "ticks": ""
           },
           "bgcolor": "#E5ECF6",
           "radialaxis": {
            "gridcolor": "white",
            "linecolor": "white",
            "ticks": ""
           }
          },
          "scene": {
           "xaxis": {
            "backgroundcolor": "#E5ECF6",
            "gridcolor": "white",
            "gridwidth": 2,
            "linecolor": "white",
            "showbackground": true,
            "ticks": "",
            "zerolinecolor": "white"
           },
           "yaxis": {
            "backgroundcolor": "#E5ECF6",
            "gridcolor": "white",
            "gridwidth": 2,
            "linecolor": "white",
            "showbackground": true,
            "ticks": "",
            "zerolinecolor": "white"
           },
           "zaxis": {
            "backgroundcolor": "#E5ECF6",
            "gridcolor": "white",
            "gridwidth": 2,
            "linecolor": "white",
            "showbackground": true,
            "ticks": "",
            "zerolinecolor": "white"
           }
          },
          "shapedefaults": {
           "line": {
            "color": "#2a3f5f"
           }
          },
          "ternary": {
           "aaxis": {
            "gridcolor": "white",
            "linecolor": "white",
            "ticks": ""
           },
           "baxis": {
            "gridcolor": "white",
            "linecolor": "white",
            "ticks": ""
           },
           "bgcolor": "#E5ECF6",
           "caxis": {
            "gridcolor": "white",
            "linecolor": "white",
            "ticks": ""
           }
          },
          "title": {
           "x": 0.05
          },
          "xaxis": {
           "automargin": true,
           "gridcolor": "white",
           "linecolor": "white",
           "ticks": "",
           "title": {
            "standoff": 15
           },
           "zerolinecolor": "white",
           "zerolinewidth": 2
          },
          "yaxis": {
           "automargin": true,
           "gridcolor": "white",
           "linecolor": "white",
           "ticks": "",
           "title": {
            "standoff": 15
           },
           "zerolinecolor": "white",
           "zerolinewidth": 2
          }
         }
        },
        "title": {
         "font": {
          "color": "#4D5663"
         }
        },
        "xaxis": {
         "gridcolor": "#E1E5ED",
         "showgrid": true,
         "tickfont": {
          "color": "#4D5663"
         },
         "title": {
          "font": {
           "color": "#4D5663"
          },
          "text": ""
         },
         "zerolinecolor": "#E1E5ED"
        },
        "xaxis2": {
         "anchor": "y2",
         "gridcolor": "#E1E5ED",
         "showgrid": true,
         "showticklabels": false,
         "tickfont": {
          "color": "#4D5663"
         },
         "title": {
          "font": {
           "color": "#4D5663"
          },
          "text": ""
         },
         "zerolinecolor": "#E1E5ED"
        },
        "yaxis": {
         "domain": [
          0.3,
          1
         ],
         "gridcolor": "#E1E5ED",
         "showgrid": true,
         "tickfont": {
          "color": "#4D5663"
         },
         "title": {
          "font": {
           "color": "#4D5663"
          },
          "text": ""
         },
         "zerolinecolor": "#E1E5ED"
        },
        "yaxis2": {
         "domain": [
          0,
          0.25
         ],
         "gridcolor": "#E1E5ED",
         "showgrid": true,
         "tickfont": {
          "color": "#4D5663"
         },
         "title": {
          "font": {
           "color": "#4D5663"
          },
          "text": "Spread"
         },
         "zerolinecolor": "#E1E5ED"
        }
       }
      },
      "text/html": [
       "<div>                            <div id=\"8b835041-0ef4-4060-b038-1ac52340f1c2\" class=\"plotly-graph-div\" style=\"height:525px; width:100%;\"></div>            <script type=\"text/javascript\">                require([\"plotly\"], function(Plotly) {                    window.PLOTLYENV=window.PLOTLYENV || {};\n",
       "                    window.PLOTLYENV.BASE_URL='https://plot.ly';                                    if (document.getElementById(\"8b835041-0ef4-4060-b038-1ac52340f1c2\")) {                    Plotly.newPlot(                        \"8b835041-0ef4-4060-b038-1ac52340f1c2\",                        [{\"line\":{\"color\":\"rgba(255, 153, 51, 1.0)\",\"dash\":\"solid\",\"shape\":\"linear\",\"width\":1.3},\"mode\":\"lines\",\"name\":\"A\",\"text\":\"\",\"x\":[0,1,2,3,4,5,6,7,8,9,10,11,12,13,14,15,16,17,18,19,20,21,22,23,24,25,26,27,28,29,30,31,32,33,34,35,36,37,38,39,40,41,42,43,44,45,46,47,48,49,50,51,52,53,54,55,56,57,58,59,60,61,62,63,64,65,66,67,68,69,70,71,72,73,74,75,76,77,78,79,80,81,82,83,84,85,86,87,88,89,90,91,92,93,94,95,96,97,98,99],\"y\":[0.004623521176124493,0.16281569506746615,1.4224425740072002,1.0465883726312297,1.1842576898475108,-0.9430017076288162,-0.6085150350497329,0.8327710604567566,0.7349610260402549,-0.2490841883443285,0.2219721971076617,-1.2381344162131944,0.2422425588075395,0.6651871185074474,0.08648920725692612,1.0069096722828492,0.5135885685395674,1.2510550806883736,-1.0764907866006002,1.5131900701575884,-0.21516214636280803,-0.9908219512508374,-0.48304635726610295,-0.3309062206065575,-0.5997402907722839,-0.2226520133817669,-0.09223681807908718,-0.9320599965705885,-0.6146119575534867,-1.8405985217209972,-0.07196636464122422,-1.1917272842793725,-0.1212696899713353,0.41431577966805777,1.1104672706779055,-0.9576385942121362,-0.06294522738310888,-0.207259397445168,-1.0449588125891485,0.7724106256129741,0.09848545584616183,-1.855603203676661,-0.19908444045357243,0.8807303289230828,-0.6436409911582044,-1.2394950322721574,-0.5333903959015579,0.08113009265143066,0.3121856933497823,-1.6231237399849323,0.4262435294386619,-0.5754254419012534,1.472988451795054,-0.48801630030810406,0.31591838578850046,-0.20911915762697417,0.513052823155541,-0.894640737393719,0.11303368243634235,0.08126390492515637,0.8265265186825116,1.5199902351604946,0.20409263911347916,-0.549468299736583,1.6351857717316323,-1.3272902155743422,0.3882066558678317,0.3584136011973048,2.315912702942067,1.104337817545148,0.33035701635016934,-1.2452283168205998,-0.5958689580863932,-0.06441653627456218,0.5647656230700507,0.9987758735688422,-0.141260329807457,-0.5973353039913025,0.4786330161546429,0.5501368588768211,0.8511598466974138,0.3742405334903403,-0.30177615255004636,1.7609112031453364,-0.24623366538207506,-0.014729716842070764,-2.121790882536806,-1.3267770846391103,-0.8570527379474144,-0.24849451967740438,-0.22805041501320314,0.527751794561854,1.3824145693759025,0.748002990817415,-1.216462277265814,-0.590361800281665,-1.3125371550384277,0.6182744698313806,0.05728572122844015,1.4364291765621007],\"type\":\"scatter\"},{\"line\":{\"color\":\"rgba(55, 128, 191, 1.0)\",\"dash\":\"solid\",\"shape\":\"linear\",\"width\":1.3},\"mode\":\"lines\",\"name\":\"B\",\"text\":\"\",\"x\":[0,1,2,3,4,5,6,7,8,9,10,11,12,13,14,15,16,17,18,19,20,21,22,23,24,25,26,27,28,29,30,31,32,33,34,35,36,37,38,39,40,41,42,43,44,45,46,47,48,49,50,51,52,53,54,55,56,57,58,59,60,61,62,63,64,65,66,67,68,69,70,71,72,73,74,75,76,77,78,79,80,81,82,83,84,85,86,87,88,89,90,91,92,93,94,95,96,97,98,99],\"y\":[-1.1685508459194196,-1.5678017169000267,0.7870096262915491,-0.8629018468596408,-0.4857063865991016,-1.2626627412225944,1.2373205481923955,-0.48136229667102254,-0.4841128843538882,2.2915504567809273,-1.8664420703542837,-0.3822593347390874,-1.5464233121595794,0.8960317044216001,1.3738712750986215,1.3667016898736501,0.5931001857431492,-0.13608533179952403,-0.5226691150373612,0.9141181315239653,0.49588820121766547,0.7033452801787391,2.4161083229749805,0.9857082531792529,-0.5962036008775079,-2.3054551237669423,0.4595523549181218,2.1584557914506686,-0.21623673210559943,1.0268827658340507,-0.187361346602335,0.5586823673587367,-0.1425368574028095,0.47553084882931335,-0.8580278596709993,-1.3840740509849458,1.9078167471910268,-1.9298295674593051,0.4677649023118192,-0.6407645824728198,-0.20067105431129048,0.4535733758491212,-1.1594832090728682,-0.09834601975589295,-1.6057415274987874,-0.02923005850628262,1.0665687194053277,0.031731913806326804,1.6100699600708939,1.170010139117584,-1.3106350714837576,0.1503924243963787,-1.3108968820881353,-0.9241700441770824,0.5538224449867233,0.3999246772427607,0.24728761416851122,1.0347732797668334,0.6481309846764085,0.5225298542908703,-1.062807219692614,0.5389291711078632,0.3170946057858498,0.3113248214184092,-0.8779209994399148,-1.3103464725219607,-0.65146827356122,0.7838595330287975,-2.46586859817618,0.876539850402602,-0.838483575748058,3.023749502888475,0.4886405578618137,0.260885477893154,1.0195973638202933,0.8338732369478434,0.8553153295633149,-0.4904208832131635,0.3099140989134931,0.4674350174993666,1.6269411857138247,0.8377177915316513,-1.6344733353409773,0.5492777836028785,0.6287451281691209,-0.5570959640127177,2.1634854232289333,1.0158940604922302,-1.1812765625882486,0.8490929033497668,-0.2777383095778188,-1.539004318952743,0.38280204428729375,1.3083873098925314,0.8264927471174891,0.4456229526669064,-0.07712727689375366,1.3867079546845034,-0.2520138485006433,1.5057440934761228],\"type\":\"scatter\"},{\"connectgaps\":false,\"fill\":\"tozeroy\",\"line\":{\"color\":\"green\",\"dash\":\"solid\",\"shape\":\"linear\",\"width\":0.5},\"mode\":\"lines\",\"name\":\"Spread\",\"showlegend\":false,\"x\":[0,1,2,3,4,5,6,7,8,9,10,11,12,13,14,15,16,17,18,19,20,21,22,23,24,25,26,27,28,29,30,31,32,33,34,35,36,37,38,39,40,41,42,43,44,45,46,47,48,49,50,51,52,53,54,55,56,57,58,59,60,61,62,63,64,65,66,67,68,69,70,71,72,73,74,75,76,77,78,79,80,81,82,83,84,85,86,87,88,89,90,91,92,93,94,95,96,97,98,99],\"xaxis\":\"x2\",\"y\":[1.1731743670955441,1.7306174119674929,0.6354329477156511,1.9094902194908705,1.6699640764466124,0.3196610335937782,\"\",1.3141333571277791,1.219073910394143,\"\",2.0884142674619453,\"\",1.7886658709671188,\"\",\"\",\"\",\"\",1.3871404124878977,\"\",0.5990719386336232,\"\",\"\",\"\",\"\",\"\",2.0828031103851754,\"\",\"\",\"\",\"\",0.11539498196111078,\"\",0.021267167431474193,\"\",1.9684951303489049,0.4264354567728097,\"\",1.7225701700141371,\"\",1.4131752080857938,0.2991565101574523,\"\",0.9603987686192957,0.9790763486789757,0.962100536340583,\"\",\"\",0.049398178845103856,\"\",\"\",1.7368786009224195,\"\",2.7838853338831893,0.4361537438689783,\"\",\"\",0.2657652089870298,\"\",\"\",\"\",1.8893337383751256,0.9810610640526314,\"\",\"\",2.513106771171547,\"\",1.0396749294290517,\"\",4.781781301118247,0.22779796714254597,1.1688405920982272,\"\",\"\",\"\",\"\",0.1649026366209988,\"\",\"\",0.1687189172411498,0.08270184137745445,\"\",\"\",1.3326971827909309,1.211633419542458,\"\",0.5423662471706469,\"\",\"\",0.3242238246408342,\"\",0.04968789456461567,2.0667561135145966,0.9996125250886088,\"\",\"\",\"\",\"\",\"\",0.30929956972908346,\"\"],\"yaxis\":\"y2\",\"type\":\"scatter\"},{\"connectgaps\":false,\"fill\":\"tozeroy\",\"line\":{\"color\":\"red\",\"dash\":\"solid\",\"shape\":\"linear\",\"width\":0.5},\"mode\":\"lines\",\"name\":\"Spread\",\"showlegend\":false,\"x\":[0,1,2,3,4,5,6,7,8,9,10,11,12,13,14,15,16,17,18,19,20,21,22,23,24,25,26,27,28,29,30,31,32,33,34,35,36,37,38,39,40,41,42,43,44,45,46,47,48,49,50,51,52,53,54,55,56,57,58,59,60,61,62,63,64,65,66,67,68,69,70,71,72,73,74,75,76,77,78,79,80,81,82,83,84,85,86,87,88,89,90,91,92,93,94,95,96,97,98,99],\"xaxis\":\"x2\",\"y\":[\"\",\"\",\"\",\"\",\"\",\"\",-1.8458355832421285,\"\",\"\",-2.5406346451252557,\"\",-0.855875081474107,\"\",-0.2308445859141527,-1.2873820678416954,-0.3597920175908009,-0.0795116172035818,\"\",-0.5538216715632389,\"\",-0.7110503475804735,-1.6941672314295766,-2.8991546802410832,-1.3166144737858105,-0.0035366898947759573,\"\",-0.551789172997209,-3.090515788021257,-0.3983752254478873,-2.867481287555048,\"\",-1.7504096516381091,\"\",-0.061215069161255575,\"\",\"\",-1.9707619745741356,\"\",-1.5127237149009676,\"\",\"\",-2.3091765795257824,\"\",\"\",\"\",-1.2102649737658748,-1.5999591153068855,\"\",-1.2978842667211117,-2.793133879102516,\"\",-0.7258178662976321,\"\",\"\",-0.23790405919822283,-0.6090438348697349,\"\",-1.9294140171605525,-0.5350973022400661,-0.44126594936571395,\"\",\"\",-0.11300196667237064,-0.8607931211549922,\"\",-0.016943743052381555,\"\",-0.4254459318314927,\"\",\"\",\"\",-4.268977819709074,-1.084509515948207,-0.3253020141677162,-0.4548317407502426,\"\",-0.996575659370772,-0.10691442077813901,\"\",\"\",-0.7757813390164109,-0.46347725804131096,\"\",\"\",-0.8749787935511959,\"\",-4.2852763057657395,-2.3426711451313404,\"\",-1.0975874230271712,\"\",\"\",\"\",-0.5603843190751164,-2.042955024383303,-1.0359847529485713,-1.235409878144674,-0.7684334848531228,\"\",-0.06931491691402214],\"yaxis\":\"y2\",\"type\":\"scatter\"}],                        {\"hovermode\":\"x\",\"legend\":{\"bgcolor\":\"#F5F6F9\",\"font\":{\"color\":\"#4D5663\"}},\"paper_bgcolor\":\"#F5F6F9\",\"plot_bgcolor\":\"#F5F6F9\",\"template\":{\"data\":{\"barpolar\":[{\"marker\":{\"line\":{\"color\":\"#E5ECF6\",\"width\":0.5},\"pattern\":{\"fillmode\":\"overlay\",\"size\":10,\"solidity\":0.2}},\"type\":\"barpolar\"}],\"bar\":[{\"error_x\":{\"color\":\"#2a3f5f\"},\"error_y\":{\"color\":\"#2a3f5f\"},\"marker\":{\"line\":{\"color\":\"#E5ECF6\",\"width\":0.5},\"pattern\":{\"fillmode\":\"overlay\",\"size\":10,\"solidity\":0.2}},\"type\":\"bar\"}],\"carpet\":[{\"aaxis\":{\"endlinecolor\":\"#2a3f5f\",\"gridcolor\":\"white\",\"linecolor\":\"white\",\"minorgridcolor\":\"white\",\"startlinecolor\":\"#2a3f5f\"},\"baxis\":{\"endlinecolor\":\"#2a3f5f\",\"gridcolor\":\"white\",\"linecolor\":\"white\",\"minorgridcolor\":\"white\",\"startlinecolor\":\"#2a3f5f\"},\"type\":\"carpet\"}],\"choropleth\":[{\"colorbar\":{\"outlinewidth\":0,\"ticks\":\"\"},\"type\":\"choropleth\"}],\"contourcarpet\":[{\"colorbar\":{\"outlinewidth\":0,\"ticks\":\"\"},\"type\":\"contourcarpet\"}],\"contour\":[{\"colorbar\":{\"outlinewidth\":0,\"ticks\":\"\"},\"colorscale\":[[0.0,\"#0d0887\"],[0.1111111111111111,\"#46039f\"],[0.2222222222222222,\"#7201a8\"],[0.3333333333333333,\"#9c179e\"],[0.4444444444444444,\"#bd3786\"],[0.5555555555555556,\"#d8576b\"],[0.6666666666666666,\"#ed7953\"],[0.7777777777777778,\"#fb9f3a\"],[0.8888888888888888,\"#fdca26\"],[1.0,\"#f0f921\"]],\"type\":\"contour\"}],\"heatmapgl\":[{\"colorbar\":{\"outlinewidth\":0,\"ticks\":\"\"},\"colorscale\":[[0.0,\"#0d0887\"],[0.1111111111111111,\"#46039f\"],[0.2222222222222222,\"#7201a8\"],[0.3333333333333333,\"#9c179e\"],[0.4444444444444444,\"#bd3786\"],[0.5555555555555556,\"#d8576b\"],[0.6666666666666666,\"#ed7953\"],[0.7777777777777778,\"#fb9f3a\"],[0.8888888888888888,\"#fdca26\"],[1.0,\"#f0f921\"]],\"type\":\"heatmapgl\"}],\"heatmap\":[{\"colorbar\":{\"outlinewidth\":0,\"ticks\":\"\"},\"colorscale\":[[0.0,\"#0d0887\"],[0.1111111111111111,\"#46039f\"],[0.2222222222222222,\"#7201a8\"],[0.3333333333333333,\"#9c179e\"],[0.4444444444444444,\"#bd3786\"],[0.5555555555555556,\"#d8576b\"],[0.6666666666666666,\"#ed7953\"],[0.7777777777777778,\"#fb9f3a\"],[0.8888888888888888,\"#fdca26\"],[1.0,\"#f0f921\"]],\"type\":\"heatmap\"}],\"histogram2dcontour\":[{\"colorbar\":{\"outlinewidth\":0,\"ticks\":\"\"},\"colorscale\":[[0.0,\"#0d0887\"],[0.1111111111111111,\"#46039f\"],[0.2222222222222222,\"#7201a8\"],[0.3333333333333333,\"#9c179e\"],[0.4444444444444444,\"#bd3786\"],[0.5555555555555556,\"#d8576b\"],[0.6666666666666666,\"#ed7953\"],[0.7777777777777778,\"#fb9f3a\"],[0.8888888888888888,\"#fdca26\"],[1.0,\"#f0f921\"]],\"type\":\"histogram2dcontour\"}],\"histogram2d\":[{\"colorbar\":{\"outlinewidth\":0,\"ticks\":\"\"},\"colorscale\":[[0.0,\"#0d0887\"],[0.1111111111111111,\"#46039f\"],[0.2222222222222222,\"#7201a8\"],[0.3333333333333333,\"#9c179e\"],[0.4444444444444444,\"#bd3786\"],[0.5555555555555556,\"#d8576b\"],[0.6666666666666666,\"#ed7953\"],[0.7777777777777778,\"#fb9f3a\"],[0.8888888888888888,\"#fdca26\"],[1.0,\"#f0f921\"]],\"type\":\"histogram2d\"}],\"histogram\":[{\"marker\":{\"pattern\":{\"fillmode\":\"overlay\",\"size\":10,\"solidity\":0.2}},\"type\":\"histogram\"}],\"mesh3d\":[{\"colorbar\":{\"outlinewidth\":0,\"ticks\":\"\"},\"type\":\"mesh3d\"}],\"parcoords\":[{\"line\":{\"colorbar\":{\"outlinewidth\":0,\"ticks\":\"\"}},\"type\":\"parcoords\"}],\"pie\":[{\"automargin\":true,\"type\":\"pie\"}],\"scatter3d\":[{\"line\":{\"colorbar\":{\"outlinewidth\":0,\"ticks\":\"\"}},\"marker\":{\"colorbar\":{\"outlinewidth\":0,\"ticks\":\"\"}},\"type\":\"scatter3d\"}],\"scattercarpet\":[{\"marker\":{\"colorbar\":{\"outlinewidth\":0,\"ticks\":\"\"}},\"type\":\"scattercarpet\"}],\"scattergeo\":[{\"marker\":{\"colorbar\":{\"outlinewidth\":0,\"ticks\":\"\"}},\"type\":\"scattergeo\"}],\"scattergl\":[{\"marker\":{\"colorbar\":{\"outlinewidth\":0,\"ticks\":\"\"}},\"type\":\"scattergl\"}],\"scattermapbox\":[{\"marker\":{\"colorbar\":{\"outlinewidth\":0,\"ticks\":\"\"}},\"type\":\"scattermapbox\"}],\"scatterpolargl\":[{\"marker\":{\"colorbar\":{\"outlinewidth\":0,\"ticks\":\"\"}},\"type\":\"scatterpolargl\"}],\"scatterpolar\":[{\"marker\":{\"colorbar\":{\"outlinewidth\":0,\"ticks\":\"\"}},\"type\":\"scatterpolar\"}],\"scatter\":[{\"marker\":{\"colorbar\":{\"outlinewidth\":0,\"ticks\":\"\"}},\"type\":\"scatter\"}],\"scatterternary\":[{\"marker\":{\"colorbar\":{\"outlinewidth\":0,\"ticks\":\"\"}},\"type\":\"scatterternary\"}],\"surface\":[{\"colorbar\":{\"outlinewidth\":0,\"ticks\":\"\"},\"colorscale\":[[0.0,\"#0d0887\"],[0.1111111111111111,\"#46039f\"],[0.2222222222222222,\"#7201a8\"],[0.3333333333333333,\"#9c179e\"],[0.4444444444444444,\"#bd3786\"],[0.5555555555555556,\"#d8576b\"],[0.6666666666666666,\"#ed7953\"],[0.7777777777777778,\"#fb9f3a\"],[0.8888888888888888,\"#fdca26\"],[1.0,\"#f0f921\"]],\"type\":\"surface\"}],\"table\":[{\"cells\":{\"fill\":{\"color\":\"#EBF0F8\"},\"line\":{\"color\":\"white\"}},\"header\":{\"fill\":{\"color\":\"#C8D4E3\"},\"line\":{\"color\":\"white\"}},\"type\":\"table\"}]},\"layout\":{\"annotationdefaults\":{\"arrowcolor\":\"#2a3f5f\",\"arrowhead\":0,\"arrowwidth\":1},\"autotypenumbers\":\"strict\",\"coloraxis\":{\"colorbar\":{\"outlinewidth\":0,\"ticks\":\"\"}},\"colorscale\":{\"diverging\":[[0,\"#8e0152\"],[0.1,\"#c51b7d\"],[0.2,\"#de77ae\"],[0.3,\"#f1b6da\"],[0.4,\"#fde0ef\"],[0.5,\"#f7f7f7\"],[0.6,\"#e6f5d0\"],[0.7,\"#b8e186\"],[0.8,\"#7fbc41\"],[0.9,\"#4d9221\"],[1,\"#276419\"]],\"sequential\":[[0.0,\"#0d0887\"],[0.1111111111111111,\"#46039f\"],[0.2222222222222222,\"#7201a8\"],[0.3333333333333333,\"#9c179e\"],[0.4444444444444444,\"#bd3786\"],[0.5555555555555556,\"#d8576b\"],[0.6666666666666666,\"#ed7953\"],[0.7777777777777778,\"#fb9f3a\"],[0.8888888888888888,\"#fdca26\"],[1.0,\"#f0f921\"]],\"sequentialminus\":[[0.0,\"#0d0887\"],[0.1111111111111111,\"#46039f\"],[0.2222222222222222,\"#7201a8\"],[0.3333333333333333,\"#9c179e\"],[0.4444444444444444,\"#bd3786\"],[0.5555555555555556,\"#d8576b\"],[0.6666666666666666,\"#ed7953\"],[0.7777777777777778,\"#fb9f3a\"],[0.8888888888888888,\"#fdca26\"],[1.0,\"#f0f921\"]]},\"colorway\":[\"#636efa\",\"#EF553B\",\"#00cc96\",\"#ab63fa\",\"#FFA15A\",\"#19d3f3\",\"#FF6692\",\"#B6E880\",\"#FF97FF\",\"#FECB52\"],\"font\":{\"color\":\"#2a3f5f\"},\"geo\":{\"bgcolor\":\"white\",\"lakecolor\":\"white\",\"landcolor\":\"#E5ECF6\",\"showlakes\":true,\"showland\":true,\"subunitcolor\":\"white\"},\"hoverlabel\":{\"align\":\"left\"},\"hovermode\":\"closest\",\"mapbox\":{\"style\":\"light\"},\"paper_bgcolor\":\"white\",\"plot_bgcolor\":\"#E5ECF6\",\"polar\":{\"angularaxis\":{\"gridcolor\":\"white\",\"linecolor\":\"white\",\"ticks\":\"\"},\"bgcolor\":\"#E5ECF6\",\"radialaxis\":{\"gridcolor\":\"white\",\"linecolor\":\"white\",\"ticks\":\"\"}},\"scene\":{\"xaxis\":{\"backgroundcolor\":\"#E5ECF6\",\"gridcolor\":\"white\",\"gridwidth\":2,\"linecolor\":\"white\",\"showbackground\":true,\"ticks\":\"\",\"zerolinecolor\":\"white\"},\"yaxis\":{\"backgroundcolor\":\"#E5ECF6\",\"gridcolor\":\"white\",\"gridwidth\":2,\"linecolor\":\"white\",\"showbackground\":true,\"ticks\":\"\",\"zerolinecolor\":\"white\"},\"zaxis\":{\"backgroundcolor\":\"#E5ECF6\",\"gridcolor\":\"white\",\"gridwidth\":2,\"linecolor\":\"white\",\"showbackground\":true,\"ticks\":\"\",\"zerolinecolor\":\"white\"}},\"shapedefaults\":{\"line\":{\"color\":\"#2a3f5f\"}},\"ternary\":{\"aaxis\":{\"gridcolor\":\"white\",\"linecolor\":\"white\",\"ticks\":\"\"},\"baxis\":{\"gridcolor\":\"white\",\"linecolor\":\"white\",\"ticks\":\"\"},\"bgcolor\":\"#E5ECF6\",\"caxis\":{\"gridcolor\":\"white\",\"linecolor\":\"white\",\"ticks\":\"\"}},\"title\":{\"x\":0.05},\"xaxis\":{\"automargin\":true,\"gridcolor\":\"white\",\"linecolor\":\"white\",\"ticks\":\"\",\"title\":{\"standoff\":15},\"zerolinecolor\":\"white\",\"zerolinewidth\":2},\"yaxis\":{\"automargin\":true,\"gridcolor\":\"white\",\"linecolor\":\"white\",\"ticks\":\"\",\"title\":{\"standoff\":15},\"zerolinecolor\":\"white\",\"zerolinewidth\":2}}},\"title\":{\"font\":{\"color\":\"#4D5663\"}},\"xaxis\":{\"gridcolor\":\"#E1E5ED\",\"showgrid\":true,\"tickfont\":{\"color\":\"#4D5663\"},\"title\":{\"font\":{\"color\":\"#4D5663\"},\"text\":\"\"},\"zerolinecolor\":\"#E1E5ED\"},\"yaxis\":{\"domain\":[0.3,1],\"gridcolor\":\"#E1E5ED\",\"showgrid\":true,\"tickfont\":{\"color\":\"#4D5663\"},\"title\":{\"font\":{\"color\":\"#4D5663\"},\"text\":\"\"},\"zerolinecolor\":\"#E1E5ED\"},\"yaxis2\":{\"domain\":[0,0.25],\"gridcolor\":\"#E1E5ED\",\"showgrid\":true,\"tickfont\":{\"color\":\"#4D5663\"},\"title\":{\"font\":{\"color\":\"#4D5663\"},\"text\":\"Spread\"},\"zerolinecolor\":\"#E1E5ED\"},\"xaxis2\":{\"anchor\":\"y2\",\"gridcolor\":\"#E1E5ED\",\"showgrid\":true,\"showticklabels\":false,\"tickfont\":{\"color\":\"#4D5663\"},\"title\":{\"font\":{\"color\":\"#4D5663\"},\"text\":\"\"},\"zerolinecolor\":\"#E1E5ED\"}},                        {\"showLink\": true, \"linkText\": \"Export to plot.ly\", \"plotlyServerURL\": \"https://plot.ly\", \"responsive\": true}                    ).then(function(){\n",
       "                            \n",
       "var gd = document.getElementById('8b835041-0ef4-4060-b038-1ac52340f1c2');\n",
       "var x = new MutationObserver(function (mutations, observer) {{\n",
       "        var display = window.getComputedStyle(gd).display;\n",
       "        if (!display || display === 'none') {{\n",
       "            console.log([gd, 'removed!']);\n",
       "            Plotly.purge(gd);\n",
       "            observer.disconnect();\n",
       "        }}\n",
       "}});\n",
       "\n",
       "// Listen for the removal of the full notebook cells\n",
       "var notebookContainer = gd.closest('#notebook-container');\n",
       "if (notebookContainer) {{\n",
       "    x.observe(notebookContainer, {childList: true});\n",
       "}}\n",
       "\n",
       "// Listen for the clearing of the current output cell\n",
       "var outputEl = gd.closest('.output');\n",
       "if (outputEl) {{\n",
       "    x.observe(outputEl, {childList: true});\n",
       "}}\n",
       "\n",
       "                        })                };                });            </script>        </div>"
      ]
     },
     "metadata": {},
     "output_type": "display_data"
    }
   ],
   "source": [
    "df[['A','B']].iplot(kind='spread')"
   ]
  },
  {
   "cell_type": "code",
   "execution_count": 71,
   "id": "d72a336c",
   "metadata": {
    "scrolled": false
   },
   "outputs": [
    {
     "data": {
      "application/vnd.plotly.v1+json": {
       "config": {
        "linkText": "Export to plot.ly",
        "plotlyServerURL": "https://plot.ly",
        "showLink": true
       },
       "data": [
        {
         "marker": {
          "color": [
           "rgb(255, 153, 51)",
           "rgb(55, 128, 191)",
           "rgb(50, 171, 96)",
           "rgb(128, 0, 128)",
           "rgb(219, 64, 82)",
           "rgb(0, 128, 128)",
           "rgb(255, 255, 51)",
           "rgb(128, 128, 0)",
           "rgb(251, 128, 114)",
           "rgb(128, 177, 211)"
          ],
          "line": {
           "width": 1.3
          },
          "size": [
           84,
           75,
           66,
           52,
           87,
           48,
           90,
           51,
           65,
           80,
           56,
           69,
           65,
           47,
           41,
           71,
           57,
           61,
           54,
           51,
           72,
           50,
           57,
           31,
           55,
           73,
           58,
           76,
           72,
           54,
           67,
           74,
           49,
           54,
           39,
           58,
           65,
           64,
           35,
           60,
           51,
           46,
           79,
           81,
           79,
           62,
           73,
           53,
           36,
           59,
           58,
           69,
           49,
           81,
           78,
           12,
           49,
           50,
           60,
           77,
           67,
           59,
           56,
           74,
           54,
           62,
           59,
           49,
           44,
           51,
           25,
           55,
           68,
           42,
           58,
           75,
           77,
           61,
           63,
           57,
           73,
           70,
           60,
           53,
           66,
           59,
           85,
           111,
           83,
           66,
           50,
           46,
           65,
           62,
           70,
           61,
           71,
           67,
           56,
           66
          ],
          "symbol": "circle"
         },
         "mode": "markers",
         "text": "",
         "type": "scatter",
         "x": [
          0.004623521176124493,
          0.16281569506746615,
          1.4224425740072002,
          1.0465883726312297,
          1.1842576898475108,
          -0.9430017076288162,
          -0.6085150350497329,
          0.8327710604567566,
          0.7349610260402549,
          -0.2490841883443285,
          0.2219721971076617,
          -1.2381344162131944,
          0.2422425588075395,
          0.6651871185074474,
          0.08648920725692612,
          1.0069096722828492,
          0.5135885685395674,
          1.2510550806883736,
          -1.0764907866006002,
          1.5131900701575884,
          -0.21516214636280803,
          -0.9908219512508374,
          -0.48304635726610295,
          -0.3309062206065575,
          -0.5997402907722839,
          -0.2226520133817669,
          -0.09223681807908718,
          -0.9320599965705885,
          -0.6146119575534867,
          -1.8405985217209972,
          -0.07196636464122422,
          -1.1917272842793725,
          -0.1212696899713353,
          0.41431577966805777,
          1.1104672706779055,
          -0.9576385942121362,
          -0.06294522738310888,
          -0.207259397445168,
          -1.0449588125891485,
          0.7724106256129741,
          0.09848545584616183,
          -1.855603203676661,
          -0.19908444045357243,
          0.8807303289230828,
          -0.6436409911582044,
          -1.2394950322721574,
          -0.5333903959015579,
          0.08113009265143066,
          0.3121856933497823,
          -1.6231237399849323,
          0.4262435294386619,
          -0.5754254419012534,
          1.472988451795054,
          -0.48801630030810406,
          0.31591838578850046,
          -0.20911915762697417,
          0.513052823155541,
          -0.894640737393719,
          0.11303368243634235,
          0.08126390492515637,
          0.8265265186825116,
          1.5199902351604946,
          0.20409263911347916,
          -0.549468299736583,
          1.6351857717316323,
          -1.3272902155743422,
          0.3882066558678317,
          0.3584136011973048,
          2.315912702942067,
          1.104337817545148,
          0.33035701635016934,
          -1.2452283168205998,
          -0.5958689580863932,
          -0.06441653627456218,
          0.5647656230700507,
          0.9987758735688422,
          -0.141260329807457,
          -0.5973353039913025,
          0.4786330161546429,
          0.5501368588768211,
          0.8511598466974138,
          0.3742405334903403,
          -0.30177615255004636,
          1.7609112031453364,
          -0.24623366538207506,
          -0.014729716842070764,
          -2.121790882536806,
          -1.3267770846391103,
          -0.8570527379474144,
          -0.24849451967740438,
          -0.22805041501320314,
          0.527751794561854,
          1.3824145693759025,
          0.748002990817415,
          -1.216462277265814,
          -0.590361800281665,
          -1.3125371550384277,
          0.6182744698313806,
          0.05728572122844015,
          1.4364291765621007
         ],
         "y": [
          -1.1685508459194196,
          -1.5678017169000267,
          0.7870096262915491,
          -0.8629018468596408,
          -0.4857063865991016,
          -1.2626627412225944,
          1.2373205481923955,
          -0.48136229667102254,
          -0.4841128843538882,
          2.2915504567809273,
          -1.8664420703542837,
          -0.3822593347390874,
          -1.5464233121595794,
          0.8960317044216001,
          1.3738712750986215,
          1.3667016898736501,
          0.5931001857431492,
          -0.13608533179952403,
          -0.5226691150373612,
          0.9141181315239653,
          0.49588820121766547,
          0.7033452801787391,
          2.4161083229749805,
          0.9857082531792529,
          -0.5962036008775079,
          -2.3054551237669423,
          0.4595523549181218,
          2.1584557914506686,
          -0.21623673210559943,
          1.0268827658340507,
          -0.187361346602335,
          0.5586823673587367,
          -0.1425368574028095,
          0.47553084882931335,
          -0.8580278596709993,
          -1.3840740509849458,
          1.9078167471910268,
          -1.9298295674593051,
          0.4677649023118192,
          -0.6407645824728198,
          -0.20067105431129048,
          0.4535733758491212,
          -1.1594832090728682,
          -0.09834601975589295,
          -1.6057415274987874,
          -0.02923005850628262,
          1.0665687194053277,
          0.031731913806326804,
          1.6100699600708939,
          1.170010139117584,
          -1.3106350714837576,
          0.1503924243963787,
          -1.3108968820881353,
          -0.9241700441770824,
          0.5538224449867233,
          0.3999246772427607,
          0.24728761416851122,
          1.0347732797668334,
          0.6481309846764085,
          0.5225298542908703,
          -1.062807219692614,
          0.5389291711078632,
          0.3170946057858498,
          0.3113248214184092,
          -0.8779209994399148,
          -1.3103464725219607,
          -0.65146827356122,
          0.7838595330287975,
          -2.46586859817618,
          0.876539850402602,
          -0.838483575748058,
          3.023749502888475,
          0.4886405578618137,
          0.260885477893154,
          1.0195973638202933,
          0.8338732369478434,
          0.8553153295633149,
          -0.4904208832131635,
          0.3099140989134931,
          0.4674350174993666,
          1.6269411857138247,
          0.8377177915316513,
          -1.6344733353409773,
          0.5492777836028785,
          0.6287451281691209,
          -0.5570959640127177,
          2.1634854232289333,
          1.0158940604922302,
          -1.1812765625882486,
          0.8490929033497668,
          -0.2777383095778188,
          -1.539004318952743,
          0.38280204428729375,
          1.3083873098925314,
          0.8264927471174891,
          0.4456229526669064,
          -0.07712727689375366,
          1.3867079546845034,
          -0.2520138485006433,
          1.5057440934761228
         ]
        }
       ],
       "layout": {
        "legend": {
         "bgcolor": "#F5F6F9",
         "font": {
          "color": "#4D5663"
         }
        },
        "paper_bgcolor": "#F5F6F9",
        "plot_bgcolor": "#F5F6F9",
        "template": {
         "data": {
          "bar": [
           {
            "error_x": {
             "color": "#2a3f5f"
            },
            "error_y": {
             "color": "#2a3f5f"
            },
            "marker": {
             "line": {
              "color": "#E5ECF6",
              "width": 0.5
             },
             "pattern": {
              "fillmode": "overlay",
              "size": 10,
              "solidity": 0.2
             }
            },
            "type": "bar"
           }
          ],
          "barpolar": [
           {
            "marker": {
             "line": {
              "color": "#E5ECF6",
              "width": 0.5
             },
             "pattern": {
              "fillmode": "overlay",
              "size": 10,
              "solidity": 0.2
             }
            },
            "type": "barpolar"
           }
          ],
          "carpet": [
           {
            "aaxis": {
             "endlinecolor": "#2a3f5f",
             "gridcolor": "white",
             "linecolor": "white",
             "minorgridcolor": "white",
             "startlinecolor": "#2a3f5f"
            },
            "baxis": {
             "endlinecolor": "#2a3f5f",
             "gridcolor": "white",
             "linecolor": "white",
             "minorgridcolor": "white",
             "startlinecolor": "#2a3f5f"
            },
            "type": "carpet"
           }
          ],
          "choropleth": [
           {
            "colorbar": {
             "outlinewidth": 0,
             "ticks": ""
            },
            "type": "choropleth"
           }
          ],
          "contour": [
           {
            "colorbar": {
             "outlinewidth": 0,
             "ticks": ""
            },
            "colorscale": [
             [
              0,
              "#0d0887"
             ],
             [
              0.1111111111111111,
              "#46039f"
             ],
             [
              0.2222222222222222,
              "#7201a8"
             ],
             [
              0.3333333333333333,
              "#9c179e"
             ],
             [
              0.4444444444444444,
              "#bd3786"
             ],
             [
              0.5555555555555556,
              "#d8576b"
             ],
             [
              0.6666666666666666,
              "#ed7953"
             ],
             [
              0.7777777777777778,
              "#fb9f3a"
             ],
             [
              0.8888888888888888,
              "#fdca26"
             ],
             [
              1,
              "#f0f921"
             ]
            ],
            "type": "contour"
           }
          ],
          "contourcarpet": [
           {
            "colorbar": {
             "outlinewidth": 0,
             "ticks": ""
            },
            "type": "contourcarpet"
           }
          ],
          "heatmap": [
           {
            "colorbar": {
             "outlinewidth": 0,
             "ticks": ""
            },
            "colorscale": [
             [
              0,
              "#0d0887"
             ],
             [
              0.1111111111111111,
              "#46039f"
             ],
             [
              0.2222222222222222,
              "#7201a8"
             ],
             [
              0.3333333333333333,
              "#9c179e"
             ],
             [
              0.4444444444444444,
              "#bd3786"
             ],
             [
              0.5555555555555556,
              "#d8576b"
             ],
             [
              0.6666666666666666,
              "#ed7953"
             ],
             [
              0.7777777777777778,
              "#fb9f3a"
             ],
             [
              0.8888888888888888,
              "#fdca26"
             ],
             [
              1,
              "#f0f921"
             ]
            ],
            "type": "heatmap"
           }
          ],
          "heatmapgl": [
           {
            "colorbar": {
             "outlinewidth": 0,
             "ticks": ""
            },
            "colorscale": [
             [
              0,
              "#0d0887"
             ],
             [
              0.1111111111111111,
              "#46039f"
             ],
             [
              0.2222222222222222,
              "#7201a8"
             ],
             [
              0.3333333333333333,
              "#9c179e"
             ],
             [
              0.4444444444444444,
              "#bd3786"
             ],
             [
              0.5555555555555556,
              "#d8576b"
             ],
             [
              0.6666666666666666,
              "#ed7953"
             ],
             [
              0.7777777777777778,
              "#fb9f3a"
             ],
             [
              0.8888888888888888,
              "#fdca26"
             ],
             [
              1,
              "#f0f921"
             ]
            ],
            "type": "heatmapgl"
           }
          ],
          "histogram": [
           {
            "marker": {
             "pattern": {
              "fillmode": "overlay",
              "size": 10,
              "solidity": 0.2
             }
            },
            "type": "histogram"
           }
          ],
          "histogram2d": [
           {
            "colorbar": {
             "outlinewidth": 0,
             "ticks": ""
            },
            "colorscale": [
             [
              0,
              "#0d0887"
             ],
             [
              0.1111111111111111,
              "#46039f"
             ],
             [
              0.2222222222222222,
              "#7201a8"
             ],
             [
              0.3333333333333333,
              "#9c179e"
             ],
             [
              0.4444444444444444,
              "#bd3786"
             ],
             [
              0.5555555555555556,
              "#d8576b"
             ],
             [
              0.6666666666666666,
              "#ed7953"
             ],
             [
              0.7777777777777778,
              "#fb9f3a"
             ],
             [
              0.8888888888888888,
              "#fdca26"
             ],
             [
              1,
              "#f0f921"
             ]
            ],
            "type": "histogram2d"
           }
          ],
          "histogram2dcontour": [
           {
            "colorbar": {
             "outlinewidth": 0,
             "ticks": ""
            },
            "colorscale": [
             [
              0,
              "#0d0887"
             ],
             [
              0.1111111111111111,
              "#46039f"
             ],
             [
              0.2222222222222222,
              "#7201a8"
             ],
             [
              0.3333333333333333,
              "#9c179e"
             ],
             [
              0.4444444444444444,
              "#bd3786"
             ],
             [
              0.5555555555555556,
              "#d8576b"
             ],
             [
              0.6666666666666666,
              "#ed7953"
             ],
             [
              0.7777777777777778,
              "#fb9f3a"
             ],
             [
              0.8888888888888888,
              "#fdca26"
             ],
             [
              1,
              "#f0f921"
             ]
            ],
            "type": "histogram2dcontour"
           }
          ],
          "mesh3d": [
           {
            "colorbar": {
             "outlinewidth": 0,
             "ticks": ""
            },
            "type": "mesh3d"
           }
          ],
          "parcoords": [
           {
            "line": {
             "colorbar": {
              "outlinewidth": 0,
              "ticks": ""
             }
            },
            "type": "parcoords"
           }
          ],
          "pie": [
           {
            "automargin": true,
            "type": "pie"
           }
          ],
          "scatter": [
           {
            "marker": {
             "colorbar": {
              "outlinewidth": 0,
              "ticks": ""
             }
            },
            "type": "scatter"
           }
          ],
          "scatter3d": [
           {
            "line": {
             "colorbar": {
              "outlinewidth": 0,
              "ticks": ""
             }
            },
            "marker": {
             "colorbar": {
              "outlinewidth": 0,
              "ticks": ""
             }
            },
            "type": "scatter3d"
           }
          ],
          "scattercarpet": [
           {
            "marker": {
             "colorbar": {
              "outlinewidth": 0,
              "ticks": ""
             }
            },
            "type": "scattercarpet"
           }
          ],
          "scattergeo": [
           {
            "marker": {
             "colorbar": {
              "outlinewidth": 0,
              "ticks": ""
             }
            },
            "type": "scattergeo"
           }
          ],
          "scattergl": [
           {
            "marker": {
             "colorbar": {
              "outlinewidth": 0,
              "ticks": ""
             }
            },
            "type": "scattergl"
           }
          ],
          "scattermapbox": [
           {
            "marker": {
             "colorbar": {
              "outlinewidth": 0,
              "ticks": ""
             }
            },
            "type": "scattermapbox"
           }
          ],
          "scatterpolar": [
           {
            "marker": {
             "colorbar": {
              "outlinewidth": 0,
              "ticks": ""
             }
            },
            "type": "scatterpolar"
           }
          ],
          "scatterpolargl": [
           {
            "marker": {
             "colorbar": {
              "outlinewidth": 0,
              "ticks": ""
             }
            },
            "type": "scatterpolargl"
           }
          ],
          "scatterternary": [
           {
            "marker": {
             "colorbar": {
              "outlinewidth": 0,
              "ticks": ""
             }
            },
            "type": "scatterternary"
           }
          ],
          "surface": [
           {
            "colorbar": {
             "outlinewidth": 0,
             "ticks": ""
            },
            "colorscale": [
             [
              0,
              "#0d0887"
             ],
             [
              0.1111111111111111,
              "#46039f"
             ],
             [
              0.2222222222222222,
              "#7201a8"
             ],
             [
              0.3333333333333333,
              "#9c179e"
             ],
             [
              0.4444444444444444,
              "#bd3786"
             ],
             [
              0.5555555555555556,
              "#d8576b"
             ],
             [
              0.6666666666666666,
              "#ed7953"
             ],
             [
              0.7777777777777778,
              "#fb9f3a"
             ],
             [
              0.8888888888888888,
              "#fdca26"
             ],
             [
              1,
              "#f0f921"
             ]
            ],
            "type": "surface"
           }
          ],
          "table": [
           {
            "cells": {
             "fill": {
              "color": "#EBF0F8"
             },
             "line": {
              "color": "white"
             }
            },
            "header": {
             "fill": {
              "color": "#C8D4E3"
             },
             "line": {
              "color": "white"
             }
            },
            "type": "table"
           }
          ]
         },
         "layout": {
          "annotationdefaults": {
           "arrowcolor": "#2a3f5f",
           "arrowhead": 0,
           "arrowwidth": 1
          },
          "autotypenumbers": "strict",
          "coloraxis": {
           "colorbar": {
            "outlinewidth": 0,
            "ticks": ""
           }
          },
          "colorscale": {
           "diverging": [
            [
             0,
             "#8e0152"
            ],
            [
             0.1,
             "#c51b7d"
            ],
            [
             0.2,
             "#de77ae"
            ],
            [
             0.3,
             "#f1b6da"
            ],
            [
             0.4,
             "#fde0ef"
            ],
            [
             0.5,
             "#f7f7f7"
            ],
            [
             0.6,
             "#e6f5d0"
            ],
            [
             0.7,
             "#b8e186"
            ],
            [
             0.8,
             "#7fbc41"
            ],
            [
             0.9,
             "#4d9221"
            ],
            [
             1,
             "#276419"
            ]
           ],
           "sequential": [
            [
             0,
             "#0d0887"
            ],
            [
             0.1111111111111111,
             "#46039f"
            ],
            [
             0.2222222222222222,
             "#7201a8"
            ],
            [
             0.3333333333333333,
             "#9c179e"
            ],
            [
             0.4444444444444444,
             "#bd3786"
            ],
            [
             0.5555555555555556,
             "#d8576b"
            ],
            [
             0.6666666666666666,
             "#ed7953"
            ],
            [
             0.7777777777777778,
             "#fb9f3a"
            ],
            [
             0.8888888888888888,
             "#fdca26"
            ],
            [
             1,
             "#f0f921"
            ]
           ],
           "sequentialminus": [
            [
             0,
             "#0d0887"
            ],
            [
             0.1111111111111111,
             "#46039f"
            ],
            [
             0.2222222222222222,
             "#7201a8"
            ],
            [
             0.3333333333333333,
             "#9c179e"
            ],
            [
             0.4444444444444444,
             "#bd3786"
            ],
            [
             0.5555555555555556,
             "#d8576b"
            ],
            [
             0.6666666666666666,
             "#ed7953"
            ],
            [
             0.7777777777777778,
             "#fb9f3a"
            ],
            [
             0.8888888888888888,
             "#fdca26"
            ],
            [
             1,
             "#f0f921"
            ]
           ]
          },
          "colorway": [
           "#636efa",
           "#EF553B",
           "#00cc96",
           "#ab63fa",
           "#FFA15A",
           "#19d3f3",
           "#FF6692",
           "#B6E880",
           "#FF97FF",
           "#FECB52"
          ],
          "font": {
           "color": "#2a3f5f"
          },
          "geo": {
           "bgcolor": "white",
           "lakecolor": "white",
           "landcolor": "#E5ECF6",
           "showlakes": true,
           "showland": true,
           "subunitcolor": "white"
          },
          "hoverlabel": {
           "align": "left"
          },
          "hovermode": "closest",
          "mapbox": {
           "style": "light"
          },
          "paper_bgcolor": "white",
          "plot_bgcolor": "#E5ECF6",
          "polar": {
           "angularaxis": {
            "gridcolor": "white",
            "linecolor": "white",
            "ticks": ""
           },
           "bgcolor": "#E5ECF6",
           "radialaxis": {
            "gridcolor": "white",
            "linecolor": "white",
            "ticks": ""
           }
          },
          "scene": {
           "xaxis": {
            "backgroundcolor": "#E5ECF6",
            "gridcolor": "white",
            "gridwidth": 2,
            "linecolor": "white",
            "showbackground": true,
            "ticks": "",
            "zerolinecolor": "white"
           },
           "yaxis": {
            "backgroundcolor": "#E5ECF6",
            "gridcolor": "white",
            "gridwidth": 2,
            "linecolor": "white",
            "showbackground": true,
            "ticks": "",
            "zerolinecolor": "white"
           },
           "zaxis": {
            "backgroundcolor": "#E5ECF6",
            "gridcolor": "white",
            "gridwidth": 2,
            "linecolor": "white",
            "showbackground": true,
            "ticks": "",
            "zerolinecolor": "white"
           }
          },
          "shapedefaults": {
           "line": {
            "color": "#2a3f5f"
           }
          },
          "ternary": {
           "aaxis": {
            "gridcolor": "white",
            "linecolor": "white",
            "ticks": ""
           },
           "baxis": {
            "gridcolor": "white",
            "linecolor": "white",
            "ticks": ""
           },
           "bgcolor": "#E5ECF6",
           "caxis": {
            "gridcolor": "white",
            "linecolor": "white",
            "ticks": ""
           }
          },
          "title": {
           "x": 0.05
          },
          "xaxis": {
           "automargin": true,
           "gridcolor": "white",
           "linecolor": "white",
           "ticks": "",
           "title": {
            "standoff": 15
           },
           "zerolinecolor": "white",
           "zerolinewidth": 2
          },
          "yaxis": {
           "automargin": true,
           "gridcolor": "white",
           "linecolor": "white",
           "ticks": "",
           "title": {
            "standoff": 15
           },
           "zerolinecolor": "white",
           "zerolinewidth": 2
          }
         }
        },
        "title": {
         "font": {
          "color": "#4D5663"
         }
        },
        "xaxis": {
         "gridcolor": "#E1E5ED",
         "showgrid": true,
         "tickfont": {
          "color": "#4D5663"
         },
         "title": {
          "font": {
           "color": "#4D5663"
          },
          "text": ""
         },
         "zerolinecolor": "#E1E5ED"
        },
        "yaxis": {
         "gridcolor": "#E1E5ED",
         "showgrid": true,
         "tickfont": {
          "color": "#4D5663"
         },
         "title": {
          "font": {
           "color": "#4D5663"
          },
          "text": ""
         },
         "zerolinecolor": "#E1E5ED"
        }
       }
      },
      "text/html": [
       "<div>                            <div id=\"f2f5c11b-3b21-40d1-8da7-0f0a9d0f2c77\" class=\"plotly-graph-div\" style=\"height:525px; width:100%;\"></div>            <script type=\"text/javascript\">                require([\"plotly\"], function(Plotly) {                    window.PLOTLYENV=window.PLOTLYENV || {};\n",
       "                    window.PLOTLYENV.BASE_URL='https://plot.ly';                                    if (document.getElementById(\"f2f5c11b-3b21-40d1-8da7-0f0a9d0f2c77\")) {                    Plotly.newPlot(                        \"f2f5c11b-3b21-40d1-8da7-0f0a9d0f2c77\",                        [{\"marker\":{\"color\":[\"rgb(255, 153, 51)\",\"rgb(55, 128, 191)\",\"rgb(50, 171, 96)\",\"rgb(128, 0, 128)\",\"rgb(219, 64, 82)\",\"rgb(0, 128, 128)\",\"rgb(255, 255, 51)\",\"rgb(128, 128, 0)\",\"rgb(251, 128, 114)\",\"rgb(128, 177, 211)\"],\"line\":{\"width\":1.3},\"size\":[84,75,66,52,87,48,90,51,65,80,56,69,65,47,41,71,57,61,54,51,72,50,57,31,55,73,58,76,72,54,67,74,49,54,39,58,65,64,35,60,51,46,79,81,79,62,73,53,36,59,58,69,49,81,78,12,49,50,60,77,67,59,56,74,54,62,59,49,44,51,25,55,68,42,58,75,77,61,63,57,73,70,60,53,66,59,85,111,83,66,50,46,65,62,70,61,71,67,56,66],\"symbol\":\"circle\"},\"mode\":\"markers\",\"text\":\"\",\"x\":[0.004623521176124493,0.16281569506746615,1.4224425740072002,1.0465883726312297,1.1842576898475108,-0.9430017076288162,-0.6085150350497329,0.8327710604567566,0.7349610260402549,-0.2490841883443285,0.2219721971076617,-1.2381344162131944,0.2422425588075395,0.6651871185074474,0.08648920725692612,1.0069096722828492,0.5135885685395674,1.2510550806883736,-1.0764907866006002,1.5131900701575884,-0.21516214636280803,-0.9908219512508374,-0.48304635726610295,-0.3309062206065575,-0.5997402907722839,-0.2226520133817669,-0.09223681807908718,-0.9320599965705885,-0.6146119575534867,-1.8405985217209972,-0.07196636464122422,-1.1917272842793725,-0.1212696899713353,0.41431577966805777,1.1104672706779055,-0.9576385942121362,-0.06294522738310888,-0.207259397445168,-1.0449588125891485,0.7724106256129741,0.09848545584616183,-1.855603203676661,-0.19908444045357243,0.8807303289230828,-0.6436409911582044,-1.2394950322721574,-0.5333903959015579,0.08113009265143066,0.3121856933497823,-1.6231237399849323,0.4262435294386619,-0.5754254419012534,1.472988451795054,-0.48801630030810406,0.31591838578850046,-0.20911915762697417,0.513052823155541,-0.894640737393719,0.11303368243634235,0.08126390492515637,0.8265265186825116,1.5199902351604946,0.20409263911347916,-0.549468299736583,1.6351857717316323,-1.3272902155743422,0.3882066558678317,0.3584136011973048,2.315912702942067,1.104337817545148,0.33035701635016934,-1.2452283168205998,-0.5958689580863932,-0.06441653627456218,0.5647656230700507,0.9987758735688422,-0.141260329807457,-0.5973353039913025,0.4786330161546429,0.5501368588768211,0.8511598466974138,0.3742405334903403,-0.30177615255004636,1.7609112031453364,-0.24623366538207506,-0.014729716842070764,-2.121790882536806,-1.3267770846391103,-0.8570527379474144,-0.24849451967740438,-0.22805041501320314,0.527751794561854,1.3824145693759025,0.748002990817415,-1.216462277265814,-0.590361800281665,-1.3125371550384277,0.6182744698313806,0.05728572122844015,1.4364291765621007],\"y\":[-1.1685508459194196,-1.5678017169000267,0.7870096262915491,-0.8629018468596408,-0.4857063865991016,-1.2626627412225944,1.2373205481923955,-0.48136229667102254,-0.4841128843538882,2.2915504567809273,-1.8664420703542837,-0.3822593347390874,-1.5464233121595794,0.8960317044216001,1.3738712750986215,1.3667016898736501,0.5931001857431492,-0.13608533179952403,-0.5226691150373612,0.9141181315239653,0.49588820121766547,0.7033452801787391,2.4161083229749805,0.9857082531792529,-0.5962036008775079,-2.3054551237669423,0.4595523549181218,2.1584557914506686,-0.21623673210559943,1.0268827658340507,-0.187361346602335,0.5586823673587367,-0.1425368574028095,0.47553084882931335,-0.8580278596709993,-1.3840740509849458,1.9078167471910268,-1.9298295674593051,0.4677649023118192,-0.6407645824728198,-0.20067105431129048,0.4535733758491212,-1.1594832090728682,-0.09834601975589295,-1.6057415274987874,-0.02923005850628262,1.0665687194053277,0.031731913806326804,1.6100699600708939,1.170010139117584,-1.3106350714837576,0.1503924243963787,-1.3108968820881353,-0.9241700441770824,0.5538224449867233,0.3999246772427607,0.24728761416851122,1.0347732797668334,0.6481309846764085,0.5225298542908703,-1.062807219692614,0.5389291711078632,0.3170946057858498,0.3113248214184092,-0.8779209994399148,-1.3103464725219607,-0.65146827356122,0.7838595330287975,-2.46586859817618,0.876539850402602,-0.838483575748058,3.023749502888475,0.4886405578618137,0.260885477893154,1.0195973638202933,0.8338732369478434,0.8553153295633149,-0.4904208832131635,0.3099140989134931,0.4674350174993666,1.6269411857138247,0.8377177915316513,-1.6344733353409773,0.5492777836028785,0.6287451281691209,-0.5570959640127177,2.1634854232289333,1.0158940604922302,-1.1812765625882486,0.8490929033497668,-0.2777383095778188,-1.539004318952743,0.38280204428729375,1.3083873098925314,0.8264927471174891,0.4456229526669064,-0.07712727689375366,1.3867079546845034,-0.2520138485006433,1.5057440934761228],\"type\":\"scatter\"}],                        {\"legend\":{\"bgcolor\":\"#F5F6F9\",\"font\":{\"color\":\"#4D5663\"}},\"paper_bgcolor\":\"#F5F6F9\",\"plot_bgcolor\":\"#F5F6F9\",\"template\":{\"data\":{\"barpolar\":[{\"marker\":{\"line\":{\"color\":\"#E5ECF6\",\"width\":0.5},\"pattern\":{\"fillmode\":\"overlay\",\"size\":10,\"solidity\":0.2}},\"type\":\"barpolar\"}],\"bar\":[{\"error_x\":{\"color\":\"#2a3f5f\"},\"error_y\":{\"color\":\"#2a3f5f\"},\"marker\":{\"line\":{\"color\":\"#E5ECF6\",\"width\":0.5},\"pattern\":{\"fillmode\":\"overlay\",\"size\":10,\"solidity\":0.2}},\"type\":\"bar\"}],\"carpet\":[{\"aaxis\":{\"endlinecolor\":\"#2a3f5f\",\"gridcolor\":\"white\",\"linecolor\":\"white\",\"minorgridcolor\":\"white\",\"startlinecolor\":\"#2a3f5f\"},\"baxis\":{\"endlinecolor\":\"#2a3f5f\",\"gridcolor\":\"white\",\"linecolor\":\"white\",\"minorgridcolor\":\"white\",\"startlinecolor\":\"#2a3f5f\"},\"type\":\"carpet\"}],\"choropleth\":[{\"colorbar\":{\"outlinewidth\":0,\"ticks\":\"\"},\"type\":\"choropleth\"}],\"contourcarpet\":[{\"colorbar\":{\"outlinewidth\":0,\"ticks\":\"\"},\"type\":\"contourcarpet\"}],\"contour\":[{\"colorbar\":{\"outlinewidth\":0,\"ticks\":\"\"},\"colorscale\":[[0.0,\"#0d0887\"],[0.1111111111111111,\"#46039f\"],[0.2222222222222222,\"#7201a8\"],[0.3333333333333333,\"#9c179e\"],[0.4444444444444444,\"#bd3786\"],[0.5555555555555556,\"#d8576b\"],[0.6666666666666666,\"#ed7953\"],[0.7777777777777778,\"#fb9f3a\"],[0.8888888888888888,\"#fdca26\"],[1.0,\"#f0f921\"]],\"type\":\"contour\"}],\"heatmapgl\":[{\"colorbar\":{\"outlinewidth\":0,\"ticks\":\"\"},\"colorscale\":[[0.0,\"#0d0887\"],[0.1111111111111111,\"#46039f\"],[0.2222222222222222,\"#7201a8\"],[0.3333333333333333,\"#9c179e\"],[0.4444444444444444,\"#bd3786\"],[0.5555555555555556,\"#d8576b\"],[0.6666666666666666,\"#ed7953\"],[0.7777777777777778,\"#fb9f3a\"],[0.8888888888888888,\"#fdca26\"],[1.0,\"#f0f921\"]],\"type\":\"heatmapgl\"}],\"heatmap\":[{\"colorbar\":{\"outlinewidth\":0,\"ticks\":\"\"},\"colorscale\":[[0.0,\"#0d0887\"],[0.1111111111111111,\"#46039f\"],[0.2222222222222222,\"#7201a8\"],[0.3333333333333333,\"#9c179e\"],[0.4444444444444444,\"#bd3786\"],[0.5555555555555556,\"#d8576b\"],[0.6666666666666666,\"#ed7953\"],[0.7777777777777778,\"#fb9f3a\"],[0.8888888888888888,\"#fdca26\"],[1.0,\"#f0f921\"]],\"type\":\"heatmap\"}],\"histogram2dcontour\":[{\"colorbar\":{\"outlinewidth\":0,\"ticks\":\"\"},\"colorscale\":[[0.0,\"#0d0887\"],[0.1111111111111111,\"#46039f\"],[0.2222222222222222,\"#7201a8\"],[0.3333333333333333,\"#9c179e\"],[0.4444444444444444,\"#bd3786\"],[0.5555555555555556,\"#d8576b\"],[0.6666666666666666,\"#ed7953\"],[0.7777777777777778,\"#fb9f3a\"],[0.8888888888888888,\"#fdca26\"],[1.0,\"#f0f921\"]],\"type\":\"histogram2dcontour\"}],\"histogram2d\":[{\"colorbar\":{\"outlinewidth\":0,\"ticks\":\"\"},\"colorscale\":[[0.0,\"#0d0887\"],[0.1111111111111111,\"#46039f\"],[0.2222222222222222,\"#7201a8\"],[0.3333333333333333,\"#9c179e\"],[0.4444444444444444,\"#bd3786\"],[0.5555555555555556,\"#d8576b\"],[0.6666666666666666,\"#ed7953\"],[0.7777777777777778,\"#fb9f3a\"],[0.8888888888888888,\"#fdca26\"],[1.0,\"#f0f921\"]],\"type\":\"histogram2d\"}],\"histogram\":[{\"marker\":{\"pattern\":{\"fillmode\":\"overlay\",\"size\":10,\"solidity\":0.2}},\"type\":\"histogram\"}],\"mesh3d\":[{\"colorbar\":{\"outlinewidth\":0,\"ticks\":\"\"},\"type\":\"mesh3d\"}],\"parcoords\":[{\"line\":{\"colorbar\":{\"outlinewidth\":0,\"ticks\":\"\"}},\"type\":\"parcoords\"}],\"pie\":[{\"automargin\":true,\"type\":\"pie\"}],\"scatter3d\":[{\"line\":{\"colorbar\":{\"outlinewidth\":0,\"ticks\":\"\"}},\"marker\":{\"colorbar\":{\"outlinewidth\":0,\"ticks\":\"\"}},\"type\":\"scatter3d\"}],\"scattercarpet\":[{\"marker\":{\"colorbar\":{\"outlinewidth\":0,\"ticks\":\"\"}},\"type\":\"scattercarpet\"}],\"scattergeo\":[{\"marker\":{\"colorbar\":{\"outlinewidth\":0,\"ticks\":\"\"}},\"type\":\"scattergeo\"}],\"scattergl\":[{\"marker\":{\"colorbar\":{\"outlinewidth\":0,\"ticks\":\"\"}},\"type\":\"scattergl\"}],\"scattermapbox\":[{\"marker\":{\"colorbar\":{\"outlinewidth\":0,\"ticks\":\"\"}},\"type\":\"scattermapbox\"}],\"scatterpolargl\":[{\"marker\":{\"colorbar\":{\"outlinewidth\":0,\"ticks\":\"\"}},\"type\":\"scatterpolargl\"}],\"scatterpolar\":[{\"marker\":{\"colorbar\":{\"outlinewidth\":0,\"ticks\":\"\"}},\"type\":\"scatterpolar\"}],\"scatter\":[{\"marker\":{\"colorbar\":{\"outlinewidth\":0,\"ticks\":\"\"}},\"type\":\"scatter\"}],\"scatterternary\":[{\"marker\":{\"colorbar\":{\"outlinewidth\":0,\"ticks\":\"\"}},\"type\":\"scatterternary\"}],\"surface\":[{\"colorbar\":{\"outlinewidth\":0,\"ticks\":\"\"},\"colorscale\":[[0.0,\"#0d0887\"],[0.1111111111111111,\"#46039f\"],[0.2222222222222222,\"#7201a8\"],[0.3333333333333333,\"#9c179e\"],[0.4444444444444444,\"#bd3786\"],[0.5555555555555556,\"#d8576b\"],[0.6666666666666666,\"#ed7953\"],[0.7777777777777778,\"#fb9f3a\"],[0.8888888888888888,\"#fdca26\"],[1.0,\"#f0f921\"]],\"type\":\"surface\"}],\"table\":[{\"cells\":{\"fill\":{\"color\":\"#EBF0F8\"},\"line\":{\"color\":\"white\"}},\"header\":{\"fill\":{\"color\":\"#C8D4E3\"},\"line\":{\"color\":\"white\"}},\"type\":\"table\"}]},\"layout\":{\"annotationdefaults\":{\"arrowcolor\":\"#2a3f5f\",\"arrowhead\":0,\"arrowwidth\":1},\"autotypenumbers\":\"strict\",\"coloraxis\":{\"colorbar\":{\"outlinewidth\":0,\"ticks\":\"\"}},\"colorscale\":{\"diverging\":[[0,\"#8e0152\"],[0.1,\"#c51b7d\"],[0.2,\"#de77ae\"],[0.3,\"#f1b6da\"],[0.4,\"#fde0ef\"],[0.5,\"#f7f7f7\"],[0.6,\"#e6f5d0\"],[0.7,\"#b8e186\"],[0.8,\"#7fbc41\"],[0.9,\"#4d9221\"],[1,\"#276419\"]],\"sequential\":[[0.0,\"#0d0887\"],[0.1111111111111111,\"#46039f\"],[0.2222222222222222,\"#7201a8\"],[0.3333333333333333,\"#9c179e\"],[0.4444444444444444,\"#bd3786\"],[0.5555555555555556,\"#d8576b\"],[0.6666666666666666,\"#ed7953\"],[0.7777777777777778,\"#fb9f3a\"],[0.8888888888888888,\"#fdca26\"],[1.0,\"#f0f921\"]],\"sequentialminus\":[[0.0,\"#0d0887\"],[0.1111111111111111,\"#46039f\"],[0.2222222222222222,\"#7201a8\"],[0.3333333333333333,\"#9c179e\"],[0.4444444444444444,\"#bd3786\"],[0.5555555555555556,\"#d8576b\"],[0.6666666666666666,\"#ed7953\"],[0.7777777777777778,\"#fb9f3a\"],[0.8888888888888888,\"#fdca26\"],[1.0,\"#f0f921\"]]},\"colorway\":[\"#636efa\",\"#EF553B\",\"#00cc96\",\"#ab63fa\",\"#FFA15A\",\"#19d3f3\",\"#FF6692\",\"#B6E880\",\"#FF97FF\",\"#FECB52\"],\"font\":{\"color\":\"#2a3f5f\"},\"geo\":{\"bgcolor\":\"white\",\"lakecolor\":\"white\",\"landcolor\":\"#E5ECF6\",\"showlakes\":true,\"showland\":true,\"subunitcolor\":\"white\"},\"hoverlabel\":{\"align\":\"left\"},\"hovermode\":\"closest\",\"mapbox\":{\"style\":\"light\"},\"paper_bgcolor\":\"white\",\"plot_bgcolor\":\"#E5ECF6\",\"polar\":{\"angularaxis\":{\"gridcolor\":\"white\",\"linecolor\":\"white\",\"ticks\":\"\"},\"bgcolor\":\"#E5ECF6\",\"radialaxis\":{\"gridcolor\":\"white\",\"linecolor\":\"white\",\"ticks\":\"\"}},\"scene\":{\"xaxis\":{\"backgroundcolor\":\"#E5ECF6\",\"gridcolor\":\"white\",\"gridwidth\":2,\"linecolor\":\"white\",\"showbackground\":true,\"ticks\":\"\",\"zerolinecolor\":\"white\"},\"yaxis\":{\"backgroundcolor\":\"#E5ECF6\",\"gridcolor\":\"white\",\"gridwidth\":2,\"linecolor\":\"white\",\"showbackground\":true,\"ticks\":\"\",\"zerolinecolor\":\"white\"},\"zaxis\":{\"backgroundcolor\":\"#E5ECF6\",\"gridcolor\":\"white\",\"gridwidth\":2,\"linecolor\":\"white\",\"showbackground\":true,\"ticks\":\"\",\"zerolinecolor\":\"white\"}},\"shapedefaults\":{\"line\":{\"color\":\"#2a3f5f\"}},\"ternary\":{\"aaxis\":{\"gridcolor\":\"white\",\"linecolor\":\"white\",\"ticks\":\"\"},\"baxis\":{\"gridcolor\":\"white\",\"linecolor\":\"white\",\"ticks\":\"\"},\"bgcolor\":\"#E5ECF6\",\"caxis\":{\"gridcolor\":\"white\",\"linecolor\":\"white\",\"ticks\":\"\"}},\"title\":{\"x\":0.05},\"xaxis\":{\"automargin\":true,\"gridcolor\":\"white\",\"linecolor\":\"white\",\"ticks\":\"\",\"title\":{\"standoff\":15},\"zerolinecolor\":\"white\",\"zerolinewidth\":2},\"yaxis\":{\"automargin\":true,\"gridcolor\":\"white\",\"linecolor\":\"white\",\"ticks\":\"\",\"title\":{\"standoff\":15},\"zerolinecolor\":\"white\",\"zerolinewidth\":2}}},\"title\":{\"font\":{\"color\":\"#4D5663\"}},\"xaxis\":{\"gridcolor\":\"#E1E5ED\",\"showgrid\":true,\"tickfont\":{\"color\":\"#4D5663\"},\"title\":{\"font\":{\"color\":\"#4D5663\"},\"text\":\"\"},\"zerolinecolor\":\"#E1E5ED\"},\"yaxis\":{\"gridcolor\":\"#E1E5ED\",\"showgrid\":true,\"tickfont\":{\"color\":\"#4D5663\"},\"title\":{\"font\":{\"color\":\"#4D5663\"},\"text\":\"\"},\"zerolinecolor\":\"#E1E5ED\"}},                        {\"showLink\": true, \"linkText\": \"Export to plot.ly\", \"plotlyServerURL\": \"https://plot.ly\", \"responsive\": true}                    ).then(function(){\n",
       "                            \n",
       "var gd = document.getElementById('f2f5c11b-3b21-40d1-8da7-0f0a9d0f2c77');\n",
       "var x = new MutationObserver(function (mutations, observer) {{\n",
       "        var display = window.getComputedStyle(gd).display;\n",
       "        if (!display || display === 'none') {{\n",
       "            console.log([gd, 'removed!']);\n",
       "            Plotly.purge(gd);\n",
       "            observer.disconnect();\n",
       "        }}\n",
       "}});\n",
       "\n",
       "// Listen for the removal of the full notebook cells\n",
       "var notebookContainer = gd.closest('#notebook-container');\n",
       "if (notebookContainer) {{\n",
       "    x.observe(notebookContainer, {childList: true});\n",
       "}}\n",
       "\n",
       "// Listen for the clearing of the current output cell\n",
       "var outputEl = gd.closest('.output');\n",
       "if (outputEl) {{\n",
       "    x.observe(outputEl, {childList: true});\n",
       "}}\n",
       "\n",
       "                        })                };                });            </script>        </div>"
      ]
     },
     "metadata": {},
     "output_type": "display_data"
    }
   ],
   "source": [
    "df.iplot(kind='bubble',x='A',y='B',size='C')"
   ]
  },
  {
   "cell_type": "code",
   "execution_count": 72,
   "id": "6fde267f",
   "metadata": {
    "scrolled": false
   },
   "outputs": [
    {
     "data": {
      "application/vnd.plotly.v1+json": {
       "config": {
        "linkText": "Export to plot.ly",
        "plotlyServerURL": "https://plot.ly",
        "showLink": true
       },
       "data": [
        {
         "histfunc": "count",
         "histnorm": "",
         "marker": {
          "color": "rgba(255, 153, 51, 1.0)",
          "line": {
           "color": "#4D5663",
           "width": 1.3
          }
         },
         "name": "A",
         "nbinsx": 10,
         "opacity": 0.8,
         "orientation": "v",
         "type": "histogram",
         "x": [
          0.004623521176124493,
          0.16281569506746615,
          1.4224425740072002,
          1.0465883726312297,
          1.1842576898475108,
          -0.9430017076288162,
          -0.6085150350497329,
          0.8327710604567566,
          0.7349610260402549,
          -0.2490841883443285,
          0.2219721971076617,
          -1.2381344162131944,
          0.2422425588075395,
          0.6651871185074474,
          0.08648920725692612,
          1.0069096722828492,
          0.5135885685395674,
          1.2510550806883736,
          -1.0764907866006002,
          1.5131900701575884,
          -0.21516214636280803,
          -0.9908219512508374,
          -0.48304635726610295,
          -0.3309062206065575,
          -0.5997402907722839,
          -0.2226520133817669,
          -0.09223681807908718,
          -0.9320599965705885,
          -0.6146119575534867,
          -1.8405985217209972,
          -0.07196636464122422,
          -1.1917272842793725,
          -0.1212696899713353,
          0.41431577966805777,
          1.1104672706779055,
          -0.9576385942121362,
          -0.06294522738310888,
          -0.207259397445168,
          -1.0449588125891485,
          0.7724106256129741,
          0.09848545584616183,
          -1.855603203676661,
          -0.19908444045357243,
          0.8807303289230828,
          -0.6436409911582044,
          -1.2394950322721574,
          -0.5333903959015579,
          0.08113009265143066,
          0.3121856933497823,
          -1.6231237399849323,
          0.4262435294386619,
          -0.5754254419012534,
          1.472988451795054,
          -0.48801630030810406,
          0.31591838578850046,
          -0.20911915762697417,
          0.513052823155541,
          -0.894640737393719,
          0.11303368243634235,
          0.08126390492515637,
          0.8265265186825116,
          1.5199902351604946,
          0.20409263911347916,
          -0.549468299736583,
          1.6351857717316323,
          -1.3272902155743422,
          0.3882066558678317,
          0.3584136011973048,
          2.315912702942067,
          1.104337817545148,
          0.33035701635016934,
          -1.2452283168205998,
          -0.5958689580863932,
          -0.06441653627456218,
          0.5647656230700507,
          0.9987758735688422,
          -0.141260329807457,
          -0.5973353039913025,
          0.4786330161546429,
          0.5501368588768211,
          0.8511598466974138,
          0.3742405334903403,
          -0.30177615255004636,
          1.7609112031453364,
          -0.24623366538207506,
          -0.014729716842070764,
          -2.121790882536806,
          -1.3267770846391103,
          -0.8570527379474144,
          -0.24849451967740438,
          -0.22805041501320314,
          0.527751794561854,
          1.3824145693759025,
          0.748002990817415,
          -1.216462277265814,
          -0.590361800281665,
          -1.3125371550384277,
          0.6182744698313806,
          0.05728572122844015,
          1.4364291765621007
         ],
         "xaxis": "x",
         "yaxis": "y"
        },
        {
         "line": {
          "color": "rgba(128, 128, 128, 1.0)",
          "dash": "solid",
          "shape": "linear",
          "width": 1.3
         },
         "marker": {
          "size": 2,
          "symbol": "circle"
         },
         "mode": "markers",
         "name": "A",
         "text": "",
         "type": "scatter",
         "x": [
          -1.1685508459194196,
          -1.5678017169000267,
          0.7870096262915491,
          -0.8629018468596408,
          -0.4857063865991016,
          -1.2626627412225944,
          1.2373205481923955,
          -0.48136229667102254,
          -0.4841128843538882,
          2.2915504567809273,
          -1.8664420703542837,
          -0.3822593347390874,
          -1.5464233121595794,
          0.8960317044216001,
          1.3738712750986215,
          1.3667016898736501,
          0.5931001857431492,
          -0.13608533179952403,
          -0.5226691150373612,
          0.9141181315239653,
          0.49588820121766547,
          0.7033452801787391,
          2.4161083229749805,
          0.9857082531792529,
          -0.5962036008775079,
          -2.3054551237669423,
          0.4595523549181218,
          2.1584557914506686,
          -0.21623673210559943,
          1.0268827658340507,
          -0.187361346602335,
          0.5586823673587367,
          -0.1425368574028095,
          0.47553084882931335,
          -0.8580278596709993,
          -1.3840740509849458,
          1.9078167471910268,
          -1.9298295674593051,
          0.4677649023118192,
          -0.6407645824728198,
          -0.20067105431129048,
          0.4535733758491212,
          -1.1594832090728682,
          -0.09834601975589295,
          -1.6057415274987874,
          -0.02923005850628262,
          1.0665687194053277,
          0.031731913806326804,
          1.6100699600708939,
          1.170010139117584,
          -1.3106350714837576,
          0.1503924243963787,
          -1.3108968820881353,
          -0.9241700441770824,
          0.5538224449867233,
          0.3999246772427607,
          0.24728761416851122,
          1.0347732797668334,
          0.6481309846764085,
          0.5225298542908703,
          -1.062807219692614,
          0.5389291711078632,
          0.3170946057858498,
          0.3113248214184092,
          -0.8779209994399148,
          -1.3103464725219607,
          -0.65146827356122,
          0.7838595330287975,
          -2.46586859817618,
          0.876539850402602,
          -0.838483575748058,
          3.023749502888475,
          0.4886405578618137,
          0.260885477893154,
          1.0195973638202933,
          0.8338732369478434,
          0.8553153295633149,
          -0.4904208832131635,
          0.3099140989134931,
          0.4674350174993666,
          1.6269411857138247,
          0.8377177915316513,
          -1.6344733353409773,
          0.5492777836028785,
          0.6287451281691209,
          -0.5570959640127177,
          2.1634854232289333,
          1.0158940604922302,
          -1.1812765625882486,
          0.8490929033497668,
          -0.2777383095778188,
          -1.539004318952743,
          0.38280204428729375,
          1.3083873098925314,
          0.8264927471174891,
          0.4456229526669064,
          -0.07712727689375366,
          1.3867079546845034,
          -0.2520138485006433,
          1.5057440934761228
         ],
         "xaxis": "x2",
         "y": [
          0.004623521176124493,
          0.16281569506746615,
          1.4224425740072002,
          1.0465883726312297,
          1.1842576898475108,
          -0.9430017076288162,
          -0.6085150350497329,
          0.8327710604567566,
          0.7349610260402549,
          -0.2490841883443285,
          0.2219721971076617,
          -1.2381344162131944,
          0.2422425588075395,
          0.6651871185074474,
          0.08648920725692612,
          1.0069096722828492,
          0.5135885685395674,
          1.2510550806883736,
          -1.0764907866006002,
          1.5131900701575884,
          -0.21516214636280803,
          -0.9908219512508374,
          -0.48304635726610295,
          -0.3309062206065575,
          -0.5997402907722839,
          -0.2226520133817669,
          -0.09223681807908718,
          -0.9320599965705885,
          -0.6146119575534867,
          -1.8405985217209972,
          -0.07196636464122422,
          -1.1917272842793725,
          -0.1212696899713353,
          0.41431577966805777,
          1.1104672706779055,
          -0.9576385942121362,
          -0.06294522738310888,
          -0.207259397445168,
          -1.0449588125891485,
          0.7724106256129741,
          0.09848545584616183,
          -1.855603203676661,
          -0.19908444045357243,
          0.8807303289230828,
          -0.6436409911582044,
          -1.2394950322721574,
          -0.5333903959015579,
          0.08113009265143066,
          0.3121856933497823,
          -1.6231237399849323,
          0.4262435294386619,
          -0.5754254419012534,
          1.472988451795054,
          -0.48801630030810406,
          0.31591838578850046,
          -0.20911915762697417,
          0.513052823155541,
          -0.894640737393719,
          0.11303368243634235,
          0.08126390492515637,
          0.8265265186825116,
          1.5199902351604946,
          0.20409263911347916,
          -0.549468299736583,
          1.6351857717316323,
          -1.3272902155743422,
          0.3882066558678317,
          0.3584136011973048,
          2.315912702942067,
          1.104337817545148,
          0.33035701635016934,
          -1.2452283168205998,
          -0.5958689580863932,
          -0.06441653627456218,
          0.5647656230700507,
          0.9987758735688422,
          -0.141260329807457,
          -0.5973353039913025,
          0.4786330161546429,
          0.5501368588768211,
          0.8511598466974138,
          0.3742405334903403,
          -0.30177615255004636,
          1.7609112031453364,
          -0.24623366538207506,
          -0.014729716842070764,
          -2.121790882536806,
          -1.3267770846391103,
          -0.8570527379474144,
          -0.24849451967740438,
          -0.22805041501320314,
          0.527751794561854,
          1.3824145693759025,
          0.748002990817415,
          -1.216462277265814,
          -0.590361800281665,
          -1.3125371550384277,
          0.6182744698313806,
          0.05728572122844015,
          1.4364291765621007
         ],
         "yaxis": "y2"
        },
        {
         "line": {
          "color": "rgba(128, 128, 128, 1.0)",
          "dash": "solid",
          "shape": "linear",
          "width": 1.3
         },
         "marker": {
          "size": 2,
          "symbol": "circle"
         },
         "mode": "markers",
         "name": "A",
         "text": "",
         "type": "scatter",
         "x": [
          1.8775853248219743,
          1.1634138874701658,
          0.4461462012951521,
          -0.630624769338649,
          2.1078034957109053,
          -0.9482366110800454,
          2.3374606688456554,
          -0.679065383221523,
          0.38377185432970784,
          1.5537342535800607,
          -0.30904709094909677,
          0.6620405516788332,
          0.3587890963955483,
          -0.9621814942267252,
          -1.4076529625364693,
          0.8406620342661275,
          -0.19167605225737872,
          0.07085336292954711,
          -0.41536402355468804,
          -0.6526583034337081,
          0.8953472080675058,
          -0.7927090917157454,
          -0.18504205933124068,
          -2.1844554211545013,
          -0.34928948363733436,
          0.9824393337572949,
          -0.18103284009489634,
          1.2235484395296887,
          0.8925359803657423,
          -0.46265299214822686,
          0.5316146639769636,
          1.1141688952959876,
          -0.8211688679945353,
          -0.4378686464586095,
          -1.5813213284574152,
          -0.1835676074821394,
          0.3635537816869505,
          0.292409384725485,
          -1.9292642402610856,
          -0.02109065033916954,
          -0.6500499929198842,
          -1.0706479780393594,
          1.4810807680195102,
          1.630294092771878,
          1.437547802195289,
          0.1612706125131396,
          1.0347881245359465,
          -0.5153424725683133,
          -1.853413964971279,
          -0.10138460345739685,
          -0.11374182274874095,
          0.7199491131082625,
          -0.8079590917446239,
          1.6050403523925685,
          1.3705705373156225,
          -3.7000867425385264,
          -0.7990098105675697,
          -0.78798107887203,
          0.043511496311365645,
          1.3127181160199133,
          0.5361353718531487,
          -0.10185322125127683,
          -0.2738025230244527,
          1.0602797063746061,
          -0.4626325274765146,
          0.18241675634136165,
          -0.06547590029811755,
          -0.8001702022637728,
          -1.1856462858028625,
          -0.6801324022438168,
          -2.701244480900419,
          -0.3740019761449056,
          0.6291185609341405,
          -1.3562555539381782,
          -0.1323317334140988,
          1.1587415899315627,
          1.3136982038489562,
          0.056299150576219766,
          0.2107247171069781,
          -0.23792370643470714,
          1.0088798622079589,
          0.7617470824000864,
          0.021279115740499545,
          -0.5371997831801028,
          0.43251449785168766,
          -0.05054466631950313,
          1.9377628526721993,
          3.9430366917901165,
          1.770493094498392,
          0.4878354231461598,
          -0.7745409475417855,
          -1.0331047085352125,
          0.3705350822079853,
          0.17892303678959548,
          0.7634234146163706,
          0.07312674885361234,
          0.8505793751346387,
          0.5407389794242599,
          -0.32128688659668025,
          0.44711829829526967
         ],
         "xaxis": "x3",
         "y": [
          0.004623521176124493,
          0.16281569506746615,
          1.4224425740072002,
          1.0465883726312297,
          1.1842576898475108,
          -0.9430017076288162,
          -0.6085150350497329,
          0.8327710604567566,
          0.7349610260402549,
          -0.2490841883443285,
          0.2219721971076617,
          -1.2381344162131944,
          0.2422425588075395,
          0.6651871185074474,
          0.08648920725692612,
          1.0069096722828492,
          0.5135885685395674,
          1.2510550806883736,
          -1.0764907866006002,
          1.5131900701575884,
          -0.21516214636280803,
          -0.9908219512508374,
          -0.48304635726610295,
          -0.3309062206065575,
          -0.5997402907722839,
          -0.2226520133817669,
          -0.09223681807908718,
          -0.9320599965705885,
          -0.6146119575534867,
          -1.8405985217209972,
          -0.07196636464122422,
          -1.1917272842793725,
          -0.1212696899713353,
          0.41431577966805777,
          1.1104672706779055,
          -0.9576385942121362,
          -0.06294522738310888,
          -0.207259397445168,
          -1.0449588125891485,
          0.7724106256129741,
          0.09848545584616183,
          -1.855603203676661,
          -0.19908444045357243,
          0.8807303289230828,
          -0.6436409911582044,
          -1.2394950322721574,
          -0.5333903959015579,
          0.08113009265143066,
          0.3121856933497823,
          -1.6231237399849323,
          0.4262435294386619,
          -0.5754254419012534,
          1.472988451795054,
          -0.48801630030810406,
          0.31591838578850046,
          -0.20911915762697417,
          0.513052823155541,
          -0.894640737393719,
          0.11303368243634235,
          0.08126390492515637,
          0.8265265186825116,
          1.5199902351604946,
          0.20409263911347916,
          -0.549468299736583,
          1.6351857717316323,
          -1.3272902155743422,
          0.3882066558678317,
          0.3584136011973048,
          2.315912702942067,
          1.104337817545148,
          0.33035701635016934,
          -1.2452283168205998,
          -0.5958689580863932,
          -0.06441653627456218,
          0.5647656230700507,
          0.9987758735688422,
          -0.141260329807457,
          -0.5973353039913025,
          0.4786330161546429,
          0.5501368588768211,
          0.8511598466974138,
          0.3742405334903403,
          -0.30177615255004636,
          1.7609112031453364,
          -0.24623366538207506,
          -0.014729716842070764,
          -2.121790882536806,
          -1.3267770846391103,
          -0.8570527379474144,
          -0.24849451967740438,
          -0.22805041501320314,
          0.527751794561854,
          1.3824145693759025,
          0.748002990817415,
          -1.216462277265814,
          -0.590361800281665,
          -1.3125371550384277,
          0.6182744698313806,
          0.05728572122844015,
          1.4364291765621007
         ],
         "yaxis": "y3"
        },
        {
         "line": {
          "color": "rgba(128, 128, 128, 1.0)",
          "dash": "solid",
          "shape": "linear",
          "width": 1.3
         },
         "marker": {
          "size": 2,
          "symbol": "circle"
         },
         "mode": "markers",
         "name": "A",
         "text": "",
         "type": "scatter",
         "x": [
          0.017994340381227145,
          -0.0653382085123521,
          0.6209264594991536,
          2.2826379372455197,
          0.7791573041836941,
          0.5072557716396099,
          0.2755242714684649,
          -0.6258208695941796,
          0.4693555786538185,
          -0.7208591531367468,
          0.42462242625489244,
          -1.9130505336414327,
          -0.8005255136044629,
          -0.11014504329317058,
          -1.5786485033992341,
          -1.3584660670467765,
          0.8554119234219554,
          0.6621662696420444,
          1.057233165320333,
          0.48229008348264657,
          1.3258226343578399,
          0.38911290504859075,
          0.5552410324849885,
          -1.113214333902142,
          1.601900234464146,
          0.8465429410097408,
          -0.02929303998629881,
          1.4651861522637595,
          1.6043335311238451,
          1.1861501805532806,
          2.288301812396918,
          -0.24144017822599984,
          1.074119518410007,
          0.14898849148633259,
          -0.21959247846775123,
          -0.4842991280081334,
          -0.5980875083709224,
          -0.6965258592933425,
          0.3752982937419125,
          -0.7405377346691557,
          1.4404124597838097,
          -2.458134592213451,
          -0.47260729864100204,
          0.003728348811584746,
          1.2722021246585768,
          0.3422839657249093,
          -1.591342881881602,
          -1.029037761921719,
          -0.16164559078402468,
          -0.46780869601705866,
          -0.20909695044526982,
          -0.15882282057795602,
          -0.33284057418607227,
          1.0513284800699878,
          -0.29257393956132854,
          0.41951762976242507,
          -1.5772488030443022,
          -0.0020039985250401744,
          -0.4764832163085147,
          -1.360639971697527,
          -0.7690296609146785,
          0.7584178969102826,
          -0.4513941465121298,
          0.2733591602541416,
          -0.4312651269411663,
          -1.3505952616061818,
          1.3718235501994085,
          -0.5501653282490452,
          0.4283274396211519,
          0.14583143659223802,
          1.0987555962936866,
          0.8624745086082322,
          0.5191588818768138,
          1.3848027984846778,
          0.6308443959533383,
          -0.8457552243986087,
          -0.23763820875389796,
          0.19990236397564415,
          -1.0157103003006478,
          -0.12688143526493068,
          -0.5796559515504119,
          -1.33437379644634,
          1.373035470199231,
          -0.09271868702696864,
          -0.108021289348484,
          0.2737362662435419,
          0.4153984048634312,
          -0.7277323409497012,
          0.12723409734090813,
          -1.7216795181560658,
          0.404075271990034,
          0.4813947761270504,
          -0.038503348254368845,
          -2.273437715572669,
          -0.7087437240167911,
          1.1425153969404258,
          -0.7206530960574146,
          -1.3195043732791696,
          -1.1427367809772713,
          0.17430027676471116
         ],
         "xaxis": "x4",
         "y": [
          0.004623521176124493,
          0.16281569506746615,
          1.4224425740072002,
          1.0465883726312297,
          1.1842576898475108,
          -0.9430017076288162,
          -0.6085150350497329,
          0.8327710604567566,
          0.7349610260402549,
          -0.2490841883443285,
          0.2219721971076617,
          -1.2381344162131944,
          0.2422425588075395,
          0.6651871185074474,
          0.08648920725692612,
          1.0069096722828492,
          0.5135885685395674,
          1.2510550806883736,
          -1.0764907866006002,
          1.5131900701575884,
          -0.21516214636280803,
          -0.9908219512508374,
          -0.48304635726610295,
          -0.3309062206065575,
          -0.5997402907722839,
          -0.2226520133817669,
          -0.09223681807908718,
          -0.9320599965705885,
          -0.6146119575534867,
          -1.8405985217209972,
          -0.07196636464122422,
          -1.1917272842793725,
          -0.1212696899713353,
          0.41431577966805777,
          1.1104672706779055,
          -0.9576385942121362,
          -0.06294522738310888,
          -0.207259397445168,
          -1.0449588125891485,
          0.7724106256129741,
          0.09848545584616183,
          -1.855603203676661,
          -0.19908444045357243,
          0.8807303289230828,
          -0.6436409911582044,
          -1.2394950322721574,
          -0.5333903959015579,
          0.08113009265143066,
          0.3121856933497823,
          -1.6231237399849323,
          0.4262435294386619,
          -0.5754254419012534,
          1.472988451795054,
          -0.48801630030810406,
          0.31591838578850046,
          -0.20911915762697417,
          0.513052823155541,
          -0.894640737393719,
          0.11303368243634235,
          0.08126390492515637,
          0.8265265186825116,
          1.5199902351604946,
          0.20409263911347916,
          -0.549468299736583,
          1.6351857717316323,
          -1.3272902155743422,
          0.3882066558678317,
          0.3584136011973048,
          2.315912702942067,
          1.104337817545148,
          0.33035701635016934,
          -1.2452283168205998,
          -0.5958689580863932,
          -0.06441653627456218,
          0.5647656230700507,
          0.9987758735688422,
          -0.141260329807457,
          -0.5973353039913025,
          0.4786330161546429,
          0.5501368588768211,
          0.8511598466974138,
          0.3742405334903403,
          -0.30177615255004636,
          1.7609112031453364,
          -0.24623366538207506,
          -0.014729716842070764,
          -2.121790882536806,
          -1.3267770846391103,
          -0.8570527379474144,
          -0.24849451967740438,
          -0.22805041501320314,
          0.527751794561854,
          1.3824145693759025,
          0.748002990817415,
          -1.216462277265814,
          -0.590361800281665,
          -1.3125371550384277,
          0.6182744698313806,
          0.05728572122844015,
          1.4364291765621007
         ],
         "yaxis": "y4"
        },
        {
         "line": {
          "color": "rgba(128, 128, 128, 1.0)",
          "dash": "solid",
          "shape": "linear",
          "width": 1.3
         },
         "marker": {
          "size": 2,
          "symbol": "circle"
         },
         "mode": "markers",
         "name": "B",
         "text": "",
         "type": "scatter",
         "x": [
          0.004623521176124493,
          0.16281569506746615,
          1.4224425740072002,
          1.0465883726312297,
          1.1842576898475108,
          -0.9430017076288162,
          -0.6085150350497329,
          0.8327710604567566,
          0.7349610260402549,
          -0.2490841883443285,
          0.2219721971076617,
          -1.2381344162131944,
          0.2422425588075395,
          0.6651871185074474,
          0.08648920725692612,
          1.0069096722828492,
          0.5135885685395674,
          1.2510550806883736,
          -1.0764907866006002,
          1.5131900701575884,
          -0.21516214636280803,
          -0.9908219512508374,
          -0.48304635726610295,
          -0.3309062206065575,
          -0.5997402907722839,
          -0.2226520133817669,
          -0.09223681807908718,
          -0.9320599965705885,
          -0.6146119575534867,
          -1.8405985217209972,
          -0.07196636464122422,
          -1.1917272842793725,
          -0.1212696899713353,
          0.41431577966805777,
          1.1104672706779055,
          -0.9576385942121362,
          -0.06294522738310888,
          -0.207259397445168,
          -1.0449588125891485,
          0.7724106256129741,
          0.09848545584616183,
          -1.855603203676661,
          -0.19908444045357243,
          0.8807303289230828,
          -0.6436409911582044,
          -1.2394950322721574,
          -0.5333903959015579,
          0.08113009265143066,
          0.3121856933497823,
          -1.6231237399849323,
          0.4262435294386619,
          -0.5754254419012534,
          1.472988451795054,
          -0.48801630030810406,
          0.31591838578850046,
          -0.20911915762697417,
          0.513052823155541,
          -0.894640737393719,
          0.11303368243634235,
          0.08126390492515637,
          0.8265265186825116,
          1.5199902351604946,
          0.20409263911347916,
          -0.549468299736583,
          1.6351857717316323,
          -1.3272902155743422,
          0.3882066558678317,
          0.3584136011973048,
          2.315912702942067,
          1.104337817545148,
          0.33035701635016934,
          -1.2452283168205998,
          -0.5958689580863932,
          -0.06441653627456218,
          0.5647656230700507,
          0.9987758735688422,
          -0.141260329807457,
          -0.5973353039913025,
          0.4786330161546429,
          0.5501368588768211,
          0.8511598466974138,
          0.3742405334903403,
          -0.30177615255004636,
          1.7609112031453364,
          -0.24623366538207506,
          -0.014729716842070764,
          -2.121790882536806,
          -1.3267770846391103,
          -0.8570527379474144,
          -0.24849451967740438,
          -0.22805041501320314,
          0.527751794561854,
          1.3824145693759025,
          0.748002990817415,
          -1.216462277265814,
          -0.590361800281665,
          -1.3125371550384277,
          0.6182744698313806,
          0.05728572122844015,
          1.4364291765621007
         ],
         "xaxis": "x5",
         "y": [
          -1.1685508459194196,
          -1.5678017169000267,
          0.7870096262915491,
          -0.8629018468596408,
          -0.4857063865991016,
          -1.2626627412225944,
          1.2373205481923955,
          -0.48136229667102254,
          -0.4841128843538882,
          2.2915504567809273,
          -1.8664420703542837,
          -0.3822593347390874,
          -1.5464233121595794,
          0.8960317044216001,
          1.3738712750986215,
          1.3667016898736501,
          0.5931001857431492,
          -0.13608533179952403,
          -0.5226691150373612,
          0.9141181315239653,
          0.49588820121766547,
          0.7033452801787391,
          2.4161083229749805,
          0.9857082531792529,
          -0.5962036008775079,
          -2.3054551237669423,
          0.4595523549181218,
          2.1584557914506686,
          -0.21623673210559943,
          1.0268827658340507,
          -0.187361346602335,
          0.5586823673587367,
          -0.1425368574028095,
          0.47553084882931335,
          -0.8580278596709993,
          -1.3840740509849458,
          1.9078167471910268,
          -1.9298295674593051,
          0.4677649023118192,
          -0.6407645824728198,
          -0.20067105431129048,
          0.4535733758491212,
          -1.1594832090728682,
          -0.09834601975589295,
          -1.6057415274987874,
          -0.02923005850628262,
          1.0665687194053277,
          0.031731913806326804,
          1.6100699600708939,
          1.170010139117584,
          -1.3106350714837576,
          0.1503924243963787,
          -1.3108968820881353,
          -0.9241700441770824,
          0.5538224449867233,
          0.3999246772427607,
          0.24728761416851122,
          1.0347732797668334,
          0.6481309846764085,
          0.5225298542908703,
          -1.062807219692614,
          0.5389291711078632,
          0.3170946057858498,
          0.3113248214184092,
          -0.8779209994399148,
          -1.3103464725219607,
          -0.65146827356122,
          0.7838595330287975,
          -2.46586859817618,
          0.876539850402602,
          -0.838483575748058,
          3.023749502888475,
          0.4886405578618137,
          0.260885477893154,
          1.0195973638202933,
          0.8338732369478434,
          0.8553153295633149,
          -0.4904208832131635,
          0.3099140989134931,
          0.4674350174993666,
          1.6269411857138247,
          0.8377177915316513,
          -1.6344733353409773,
          0.5492777836028785,
          0.6287451281691209,
          -0.5570959640127177,
          2.1634854232289333,
          1.0158940604922302,
          -1.1812765625882486,
          0.8490929033497668,
          -0.2777383095778188,
          -1.539004318952743,
          0.38280204428729375,
          1.3083873098925314,
          0.8264927471174891,
          0.4456229526669064,
          -0.07712727689375366,
          1.3867079546845034,
          -0.2520138485006433,
          1.5057440934761228
         ],
         "yaxis": "y5"
        },
        {
         "histfunc": "count",
         "histnorm": "",
         "marker": {
          "color": "rgba(55, 128, 191, 1.0)",
          "line": {
           "color": "#4D5663",
           "width": 1.3
          }
         },
         "name": "B",
         "nbinsx": 10,
         "opacity": 0.8,
         "orientation": "v",
         "type": "histogram",
         "x": [
          -1.1685508459194196,
          -1.5678017169000267,
          0.7870096262915491,
          -0.8629018468596408,
          -0.4857063865991016,
          -1.2626627412225944,
          1.2373205481923955,
          -0.48136229667102254,
          -0.4841128843538882,
          2.2915504567809273,
          -1.8664420703542837,
          -0.3822593347390874,
          -1.5464233121595794,
          0.8960317044216001,
          1.3738712750986215,
          1.3667016898736501,
          0.5931001857431492,
          -0.13608533179952403,
          -0.5226691150373612,
          0.9141181315239653,
          0.49588820121766547,
          0.7033452801787391,
          2.4161083229749805,
          0.9857082531792529,
          -0.5962036008775079,
          -2.3054551237669423,
          0.4595523549181218,
          2.1584557914506686,
          -0.21623673210559943,
          1.0268827658340507,
          -0.187361346602335,
          0.5586823673587367,
          -0.1425368574028095,
          0.47553084882931335,
          -0.8580278596709993,
          -1.3840740509849458,
          1.9078167471910268,
          -1.9298295674593051,
          0.4677649023118192,
          -0.6407645824728198,
          -0.20067105431129048,
          0.4535733758491212,
          -1.1594832090728682,
          -0.09834601975589295,
          -1.6057415274987874,
          -0.02923005850628262,
          1.0665687194053277,
          0.031731913806326804,
          1.6100699600708939,
          1.170010139117584,
          -1.3106350714837576,
          0.1503924243963787,
          -1.3108968820881353,
          -0.9241700441770824,
          0.5538224449867233,
          0.3999246772427607,
          0.24728761416851122,
          1.0347732797668334,
          0.6481309846764085,
          0.5225298542908703,
          -1.062807219692614,
          0.5389291711078632,
          0.3170946057858498,
          0.3113248214184092,
          -0.8779209994399148,
          -1.3103464725219607,
          -0.65146827356122,
          0.7838595330287975,
          -2.46586859817618,
          0.876539850402602,
          -0.838483575748058,
          3.023749502888475,
          0.4886405578618137,
          0.260885477893154,
          1.0195973638202933,
          0.8338732369478434,
          0.8553153295633149,
          -0.4904208832131635,
          0.3099140989134931,
          0.4674350174993666,
          1.6269411857138247,
          0.8377177915316513,
          -1.6344733353409773,
          0.5492777836028785,
          0.6287451281691209,
          -0.5570959640127177,
          2.1634854232289333,
          1.0158940604922302,
          -1.1812765625882486,
          0.8490929033497668,
          -0.2777383095778188,
          -1.539004318952743,
          0.38280204428729375,
          1.3083873098925314,
          0.8264927471174891,
          0.4456229526669064,
          -0.07712727689375366,
          1.3867079546845034,
          -0.2520138485006433,
          1.5057440934761228
         ],
         "xaxis": "x6",
         "yaxis": "y6"
        },
        {
         "line": {
          "color": "rgba(128, 128, 128, 1.0)",
          "dash": "solid",
          "shape": "linear",
          "width": 1.3
         },
         "marker": {
          "size": 2,
          "symbol": "circle"
         },
         "mode": "markers",
         "name": "B",
         "text": "",
         "type": "scatter",
         "x": [
          1.8775853248219743,
          1.1634138874701658,
          0.4461462012951521,
          -0.630624769338649,
          2.1078034957109053,
          -0.9482366110800454,
          2.3374606688456554,
          -0.679065383221523,
          0.38377185432970784,
          1.5537342535800607,
          -0.30904709094909677,
          0.6620405516788332,
          0.3587890963955483,
          -0.9621814942267252,
          -1.4076529625364693,
          0.8406620342661275,
          -0.19167605225737872,
          0.07085336292954711,
          -0.41536402355468804,
          -0.6526583034337081,
          0.8953472080675058,
          -0.7927090917157454,
          -0.18504205933124068,
          -2.1844554211545013,
          -0.34928948363733436,
          0.9824393337572949,
          -0.18103284009489634,
          1.2235484395296887,
          0.8925359803657423,
          -0.46265299214822686,
          0.5316146639769636,
          1.1141688952959876,
          -0.8211688679945353,
          -0.4378686464586095,
          -1.5813213284574152,
          -0.1835676074821394,
          0.3635537816869505,
          0.292409384725485,
          -1.9292642402610856,
          -0.02109065033916954,
          -0.6500499929198842,
          -1.0706479780393594,
          1.4810807680195102,
          1.630294092771878,
          1.437547802195289,
          0.1612706125131396,
          1.0347881245359465,
          -0.5153424725683133,
          -1.853413964971279,
          -0.10138460345739685,
          -0.11374182274874095,
          0.7199491131082625,
          -0.8079590917446239,
          1.6050403523925685,
          1.3705705373156225,
          -3.7000867425385264,
          -0.7990098105675697,
          -0.78798107887203,
          0.043511496311365645,
          1.3127181160199133,
          0.5361353718531487,
          -0.10185322125127683,
          -0.2738025230244527,
          1.0602797063746061,
          -0.4626325274765146,
          0.18241675634136165,
          -0.06547590029811755,
          -0.8001702022637728,
          -1.1856462858028625,
          -0.6801324022438168,
          -2.701244480900419,
          -0.3740019761449056,
          0.6291185609341405,
          -1.3562555539381782,
          -0.1323317334140988,
          1.1587415899315627,
          1.3136982038489562,
          0.056299150576219766,
          0.2107247171069781,
          -0.23792370643470714,
          1.0088798622079589,
          0.7617470824000864,
          0.021279115740499545,
          -0.5371997831801028,
          0.43251449785168766,
          -0.05054466631950313,
          1.9377628526721993,
          3.9430366917901165,
          1.770493094498392,
          0.4878354231461598,
          -0.7745409475417855,
          -1.0331047085352125,
          0.3705350822079853,
          0.17892303678959548,
          0.7634234146163706,
          0.07312674885361234,
          0.8505793751346387,
          0.5407389794242599,
          -0.32128688659668025,
          0.44711829829526967
         ],
         "xaxis": "x7",
         "y": [
          -1.1685508459194196,
          -1.5678017169000267,
          0.7870096262915491,
          -0.8629018468596408,
          -0.4857063865991016,
          -1.2626627412225944,
          1.2373205481923955,
          -0.48136229667102254,
          -0.4841128843538882,
          2.2915504567809273,
          -1.8664420703542837,
          -0.3822593347390874,
          -1.5464233121595794,
          0.8960317044216001,
          1.3738712750986215,
          1.3667016898736501,
          0.5931001857431492,
          -0.13608533179952403,
          -0.5226691150373612,
          0.9141181315239653,
          0.49588820121766547,
          0.7033452801787391,
          2.4161083229749805,
          0.9857082531792529,
          -0.5962036008775079,
          -2.3054551237669423,
          0.4595523549181218,
          2.1584557914506686,
          -0.21623673210559943,
          1.0268827658340507,
          -0.187361346602335,
          0.5586823673587367,
          -0.1425368574028095,
          0.47553084882931335,
          -0.8580278596709993,
          -1.3840740509849458,
          1.9078167471910268,
          -1.9298295674593051,
          0.4677649023118192,
          -0.6407645824728198,
          -0.20067105431129048,
          0.4535733758491212,
          -1.1594832090728682,
          -0.09834601975589295,
          -1.6057415274987874,
          -0.02923005850628262,
          1.0665687194053277,
          0.031731913806326804,
          1.6100699600708939,
          1.170010139117584,
          -1.3106350714837576,
          0.1503924243963787,
          -1.3108968820881353,
          -0.9241700441770824,
          0.5538224449867233,
          0.3999246772427607,
          0.24728761416851122,
          1.0347732797668334,
          0.6481309846764085,
          0.5225298542908703,
          -1.062807219692614,
          0.5389291711078632,
          0.3170946057858498,
          0.3113248214184092,
          -0.8779209994399148,
          -1.3103464725219607,
          -0.65146827356122,
          0.7838595330287975,
          -2.46586859817618,
          0.876539850402602,
          -0.838483575748058,
          3.023749502888475,
          0.4886405578618137,
          0.260885477893154,
          1.0195973638202933,
          0.8338732369478434,
          0.8553153295633149,
          -0.4904208832131635,
          0.3099140989134931,
          0.4674350174993666,
          1.6269411857138247,
          0.8377177915316513,
          -1.6344733353409773,
          0.5492777836028785,
          0.6287451281691209,
          -0.5570959640127177,
          2.1634854232289333,
          1.0158940604922302,
          -1.1812765625882486,
          0.8490929033497668,
          -0.2777383095778188,
          -1.539004318952743,
          0.38280204428729375,
          1.3083873098925314,
          0.8264927471174891,
          0.4456229526669064,
          -0.07712727689375366,
          1.3867079546845034,
          -0.2520138485006433,
          1.5057440934761228
         ],
         "yaxis": "y7"
        },
        {
         "line": {
          "color": "rgba(128, 128, 128, 1.0)",
          "dash": "solid",
          "shape": "linear",
          "width": 1.3
         },
         "marker": {
          "size": 2,
          "symbol": "circle"
         },
         "mode": "markers",
         "name": "B",
         "text": "",
         "type": "scatter",
         "x": [
          0.017994340381227145,
          -0.0653382085123521,
          0.6209264594991536,
          2.2826379372455197,
          0.7791573041836941,
          0.5072557716396099,
          0.2755242714684649,
          -0.6258208695941796,
          0.4693555786538185,
          -0.7208591531367468,
          0.42462242625489244,
          -1.9130505336414327,
          -0.8005255136044629,
          -0.11014504329317058,
          -1.5786485033992341,
          -1.3584660670467765,
          0.8554119234219554,
          0.6621662696420444,
          1.057233165320333,
          0.48229008348264657,
          1.3258226343578399,
          0.38911290504859075,
          0.5552410324849885,
          -1.113214333902142,
          1.601900234464146,
          0.8465429410097408,
          -0.02929303998629881,
          1.4651861522637595,
          1.6043335311238451,
          1.1861501805532806,
          2.288301812396918,
          -0.24144017822599984,
          1.074119518410007,
          0.14898849148633259,
          -0.21959247846775123,
          -0.4842991280081334,
          -0.5980875083709224,
          -0.6965258592933425,
          0.3752982937419125,
          -0.7405377346691557,
          1.4404124597838097,
          -2.458134592213451,
          -0.47260729864100204,
          0.003728348811584746,
          1.2722021246585768,
          0.3422839657249093,
          -1.591342881881602,
          -1.029037761921719,
          -0.16164559078402468,
          -0.46780869601705866,
          -0.20909695044526982,
          -0.15882282057795602,
          -0.33284057418607227,
          1.0513284800699878,
          -0.29257393956132854,
          0.41951762976242507,
          -1.5772488030443022,
          -0.0020039985250401744,
          -0.4764832163085147,
          -1.360639971697527,
          -0.7690296609146785,
          0.7584178969102826,
          -0.4513941465121298,
          0.2733591602541416,
          -0.4312651269411663,
          -1.3505952616061818,
          1.3718235501994085,
          -0.5501653282490452,
          0.4283274396211519,
          0.14583143659223802,
          1.0987555962936866,
          0.8624745086082322,
          0.5191588818768138,
          1.3848027984846778,
          0.6308443959533383,
          -0.8457552243986087,
          -0.23763820875389796,
          0.19990236397564415,
          -1.0157103003006478,
          -0.12688143526493068,
          -0.5796559515504119,
          -1.33437379644634,
          1.373035470199231,
          -0.09271868702696864,
          -0.108021289348484,
          0.2737362662435419,
          0.4153984048634312,
          -0.7277323409497012,
          0.12723409734090813,
          -1.7216795181560658,
          0.404075271990034,
          0.4813947761270504,
          -0.038503348254368845,
          -2.273437715572669,
          -0.7087437240167911,
          1.1425153969404258,
          -0.7206530960574146,
          -1.3195043732791696,
          -1.1427367809772713,
          0.17430027676471116
         ],
         "xaxis": "x8",
         "y": [
          -1.1685508459194196,
          -1.5678017169000267,
          0.7870096262915491,
          -0.8629018468596408,
          -0.4857063865991016,
          -1.2626627412225944,
          1.2373205481923955,
          -0.48136229667102254,
          -0.4841128843538882,
          2.2915504567809273,
          -1.8664420703542837,
          -0.3822593347390874,
          -1.5464233121595794,
          0.8960317044216001,
          1.3738712750986215,
          1.3667016898736501,
          0.5931001857431492,
          -0.13608533179952403,
          -0.5226691150373612,
          0.9141181315239653,
          0.49588820121766547,
          0.7033452801787391,
          2.4161083229749805,
          0.9857082531792529,
          -0.5962036008775079,
          -2.3054551237669423,
          0.4595523549181218,
          2.1584557914506686,
          -0.21623673210559943,
          1.0268827658340507,
          -0.187361346602335,
          0.5586823673587367,
          -0.1425368574028095,
          0.47553084882931335,
          -0.8580278596709993,
          -1.3840740509849458,
          1.9078167471910268,
          -1.9298295674593051,
          0.4677649023118192,
          -0.6407645824728198,
          -0.20067105431129048,
          0.4535733758491212,
          -1.1594832090728682,
          -0.09834601975589295,
          -1.6057415274987874,
          -0.02923005850628262,
          1.0665687194053277,
          0.031731913806326804,
          1.6100699600708939,
          1.170010139117584,
          -1.3106350714837576,
          0.1503924243963787,
          -1.3108968820881353,
          -0.9241700441770824,
          0.5538224449867233,
          0.3999246772427607,
          0.24728761416851122,
          1.0347732797668334,
          0.6481309846764085,
          0.5225298542908703,
          -1.062807219692614,
          0.5389291711078632,
          0.3170946057858498,
          0.3113248214184092,
          -0.8779209994399148,
          -1.3103464725219607,
          -0.65146827356122,
          0.7838595330287975,
          -2.46586859817618,
          0.876539850402602,
          -0.838483575748058,
          3.023749502888475,
          0.4886405578618137,
          0.260885477893154,
          1.0195973638202933,
          0.8338732369478434,
          0.8553153295633149,
          -0.4904208832131635,
          0.3099140989134931,
          0.4674350174993666,
          1.6269411857138247,
          0.8377177915316513,
          -1.6344733353409773,
          0.5492777836028785,
          0.6287451281691209,
          -0.5570959640127177,
          2.1634854232289333,
          1.0158940604922302,
          -1.1812765625882486,
          0.8490929033497668,
          -0.2777383095778188,
          -1.539004318952743,
          0.38280204428729375,
          1.3083873098925314,
          0.8264927471174891,
          0.4456229526669064,
          -0.07712727689375366,
          1.3867079546845034,
          -0.2520138485006433,
          1.5057440934761228
         ],
         "yaxis": "y8"
        },
        {
         "line": {
          "color": "rgba(128, 128, 128, 1.0)",
          "dash": "solid",
          "shape": "linear",
          "width": 1.3
         },
         "marker": {
          "size": 2,
          "symbol": "circle"
         },
         "mode": "markers",
         "name": "C",
         "text": "",
         "type": "scatter",
         "x": [
          0.004623521176124493,
          0.16281569506746615,
          1.4224425740072002,
          1.0465883726312297,
          1.1842576898475108,
          -0.9430017076288162,
          -0.6085150350497329,
          0.8327710604567566,
          0.7349610260402549,
          -0.2490841883443285,
          0.2219721971076617,
          -1.2381344162131944,
          0.2422425588075395,
          0.6651871185074474,
          0.08648920725692612,
          1.0069096722828492,
          0.5135885685395674,
          1.2510550806883736,
          -1.0764907866006002,
          1.5131900701575884,
          -0.21516214636280803,
          -0.9908219512508374,
          -0.48304635726610295,
          -0.3309062206065575,
          -0.5997402907722839,
          -0.2226520133817669,
          -0.09223681807908718,
          -0.9320599965705885,
          -0.6146119575534867,
          -1.8405985217209972,
          -0.07196636464122422,
          -1.1917272842793725,
          -0.1212696899713353,
          0.41431577966805777,
          1.1104672706779055,
          -0.9576385942121362,
          -0.06294522738310888,
          -0.207259397445168,
          -1.0449588125891485,
          0.7724106256129741,
          0.09848545584616183,
          -1.855603203676661,
          -0.19908444045357243,
          0.8807303289230828,
          -0.6436409911582044,
          -1.2394950322721574,
          -0.5333903959015579,
          0.08113009265143066,
          0.3121856933497823,
          -1.6231237399849323,
          0.4262435294386619,
          -0.5754254419012534,
          1.472988451795054,
          -0.48801630030810406,
          0.31591838578850046,
          -0.20911915762697417,
          0.513052823155541,
          -0.894640737393719,
          0.11303368243634235,
          0.08126390492515637,
          0.8265265186825116,
          1.5199902351604946,
          0.20409263911347916,
          -0.549468299736583,
          1.6351857717316323,
          -1.3272902155743422,
          0.3882066558678317,
          0.3584136011973048,
          2.315912702942067,
          1.104337817545148,
          0.33035701635016934,
          -1.2452283168205998,
          -0.5958689580863932,
          -0.06441653627456218,
          0.5647656230700507,
          0.9987758735688422,
          -0.141260329807457,
          -0.5973353039913025,
          0.4786330161546429,
          0.5501368588768211,
          0.8511598466974138,
          0.3742405334903403,
          -0.30177615255004636,
          1.7609112031453364,
          -0.24623366538207506,
          -0.014729716842070764,
          -2.121790882536806,
          -1.3267770846391103,
          -0.8570527379474144,
          -0.24849451967740438,
          -0.22805041501320314,
          0.527751794561854,
          1.3824145693759025,
          0.748002990817415,
          -1.216462277265814,
          -0.590361800281665,
          -1.3125371550384277,
          0.6182744698313806,
          0.05728572122844015,
          1.4364291765621007
         ],
         "xaxis": "x9",
         "y": [
          1.8775853248219743,
          1.1634138874701658,
          0.4461462012951521,
          -0.630624769338649,
          2.1078034957109053,
          -0.9482366110800454,
          2.3374606688456554,
          -0.679065383221523,
          0.38377185432970784,
          1.5537342535800607,
          -0.30904709094909677,
          0.6620405516788332,
          0.3587890963955483,
          -0.9621814942267252,
          -1.4076529625364693,
          0.8406620342661275,
          -0.19167605225737872,
          0.07085336292954711,
          -0.41536402355468804,
          -0.6526583034337081,
          0.8953472080675058,
          -0.7927090917157454,
          -0.18504205933124068,
          -2.1844554211545013,
          -0.34928948363733436,
          0.9824393337572949,
          -0.18103284009489634,
          1.2235484395296887,
          0.8925359803657423,
          -0.46265299214822686,
          0.5316146639769636,
          1.1141688952959876,
          -0.8211688679945353,
          -0.4378686464586095,
          -1.5813213284574152,
          -0.1835676074821394,
          0.3635537816869505,
          0.292409384725485,
          -1.9292642402610856,
          -0.02109065033916954,
          -0.6500499929198842,
          -1.0706479780393594,
          1.4810807680195102,
          1.630294092771878,
          1.437547802195289,
          0.1612706125131396,
          1.0347881245359465,
          -0.5153424725683133,
          -1.853413964971279,
          -0.10138460345739685,
          -0.11374182274874095,
          0.7199491131082625,
          -0.8079590917446239,
          1.6050403523925685,
          1.3705705373156225,
          -3.7000867425385264,
          -0.7990098105675697,
          -0.78798107887203,
          0.043511496311365645,
          1.3127181160199133,
          0.5361353718531487,
          -0.10185322125127683,
          -0.2738025230244527,
          1.0602797063746061,
          -0.4626325274765146,
          0.18241675634136165,
          -0.06547590029811755,
          -0.8001702022637728,
          -1.1856462858028625,
          -0.6801324022438168,
          -2.701244480900419,
          -0.3740019761449056,
          0.6291185609341405,
          -1.3562555539381782,
          -0.1323317334140988,
          1.1587415899315627,
          1.3136982038489562,
          0.056299150576219766,
          0.2107247171069781,
          -0.23792370643470714,
          1.0088798622079589,
          0.7617470824000864,
          0.021279115740499545,
          -0.5371997831801028,
          0.43251449785168766,
          -0.05054466631950313,
          1.9377628526721993,
          3.9430366917901165,
          1.770493094498392,
          0.4878354231461598,
          -0.7745409475417855,
          -1.0331047085352125,
          0.3705350822079853,
          0.17892303678959548,
          0.7634234146163706,
          0.07312674885361234,
          0.8505793751346387,
          0.5407389794242599,
          -0.32128688659668025,
          0.44711829829526967
         ],
         "yaxis": "y9"
        },
        {
         "line": {
          "color": "rgba(128, 128, 128, 1.0)",
          "dash": "solid",
          "shape": "linear",
          "width": 1.3
         },
         "marker": {
          "size": 2,
          "symbol": "circle"
         },
         "mode": "markers",
         "name": "C",
         "text": "",
         "type": "scatter",
         "x": [
          -1.1685508459194196,
          -1.5678017169000267,
          0.7870096262915491,
          -0.8629018468596408,
          -0.4857063865991016,
          -1.2626627412225944,
          1.2373205481923955,
          -0.48136229667102254,
          -0.4841128843538882,
          2.2915504567809273,
          -1.8664420703542837,
          -0.3822593347390874,
          -1.5464233121595794,
          0.8960317044216001,
          1.3738712750986215,
          1.3667016898736501,
          0.5931001857431492,
          -0.13608533179952403,
          -0.5226691150373612,
          0.9141181315239653,
          0.49588820121766547,
          0.7033452801787391,
          2.4161083229749805,
          0.9857082531792529,
          -0.5962036008775079,
          -2.3054551237669423,
          0.4595523549181218,
          2.1584557914506686,
          -0.21623673210559943,
          1.0268827658340507,
          -0.187361346602335,
          0.5586823673587367,
          -0.1425368574028095,
          0.47553084882931335,
          -0.8580278596709993,
          -1.3840740509849458,
          1.9078167471910268,
          -1.9298295674593051,
          0.4677649023118192,
          -0.6407645824728198,
          -0.20067105431129048,
          0.4535733758491212,
          -1.1594832090728682,
          -0.09834601975589295,
          -1.6057415274987874,
          -0.02923005850628262,
          1.0665687194053277,
          0.031731913806326804,
          1.6100699600708939,
          1.170010139117584,
          -1.3106350714837576,
          0.1503924243963787,
          -1.3108968820881353,
          -0.9241700441770824,
          0.5538224449867233,
          0.3999246772427607,
          0.24728761416851122,
          1.0347732797668334,
          0.6481309846764085,
          0.5225298542908703,
          -1.062807219692614,
          0.5389291711078632,
          0.3170946057858498,
          0.3113248214184092,
          -0.8779209994399148,
          -1.3103464725219607,
          -0.65146827356122,
          0.7838595330287975,
          -2.46586859817618,
          0.876539850402602,
          -0.838483575748058,
          3.023749502888475,
          0.4886405578618137,
          0.260885477893154,
          1.0195973638202933,
          0.8338732369478434,
          0.8553153295633149,
          -0.4904208832131635,
          0.3099140989134931,
          0.4674350174993666,
          1.6269411857138247,
          0.8377177915316513,
          -1.6344733353409773,
          0.5492777836028785,
          0.6287451281691209,
          -0.5570959640127177,
          2.1634854232289333,
          1.0158940604922302,
          -1.1812765625882486,
          0.8490929033497668,
          -0.2777383095778188,
          -1.539004318952743,
          0.38280204428729375,
          1.3083873098925314,
          0.8264927471174891,
          0.4456229526669064,
          -0.07712727689375366,
          1.3867079546845034,
          -0.2520138485006433,
          1.5057440934761228
         ],
         "xaxis": "x10",
         "y": [
          1.8775853248219743,
          1.1634138874701658,
          0.4461462012951521,
          -0.630624769338649,
          2.1078034957109053,
          -0.9482366110800454,
          2.3374606688456554,
          -0.679065383221523,
          0.38377185432970784,
          1.5537342535800607,
          -0.30904709094909677,
          0.6620405516788332,
          0.3587890963955483,
          -0.9621814942267252,
          -1.4076529625364693,
          0.8406620342661275,
          -0.19167605225737872,
          0.07085336292954711,
          -0.41536402355468804,
          -0.6526583034337081,
          0.8953472080675058,
          -0.7927090917157454,
          -0.18504205933124068,
          -2.1844554211545013,
          -0.34928948363733436,
          0.9824393337572949,
          -0.18103284009489634,
          1.2235484395296887,
          0.8925359803657423,
          -0.46265299214822686,
          0.5316146639769636,
          1.1141688952959876,
          -0.8211688679945353,
          -0.4378686464586095,
          -1.5813213284574152,
          -0.1835676074821394,
          0.3635537816869505,
          0.292409384725485,
          -1.9292642402610856,
          -0.02109065033916954,
          -0.6500499929198842,
          -1.0706479780393594,
          1.4810807680195102,
          1.630294092771878,
          1.437547802195289,
          0.1612706125131396,
          1.0347881245359465,
          -0.5153424725683133,
          -1.853413964971279,
          -0.10138460345739685,
          -0.11374182274874095,
          0.7199491131082625,
          -0.8079590917446239,
          1.6050403523925685,
          1.3705705373156225,
          -3.7000867425385264,
          -0.7990098105675697,
          -0.78798107887203,
          0.043511496311365645,
          1.3127181160199133,
          0.5361353718531487,
          -0.10185322125127683,
          -0.2738025230244527,
          1.0602797063746061,
          -0.4626325274765146,
          0.18241675634136165,
          -0.06547590029811755,
          -0.8001702022637728,
          -1.1856462858028625,
          -0.6801324022438168,
          -2.701244480900419,
          -0.3740019761449056,
          0.6291185609341405,
          -1.3562555539381782,
          -0.1323317334140988,
          1.1587415899315627,
          1.3136982038489562,
          0.056299150576219766,
          0.2107247171069781,
          -0.23792370643470714,
          1.0088798622079589,
          0.7617470824000864,
          0.021279115740499545,
          -0.5371997831801028,
          0.43251449785168766,
          -0.05054466631950313,
          1.9377628526721993,
          3.9430366917901165,
          1.770493094498392,
          0.4878354231461598,
          -0.7745409475417855,
          -1.0331047085352125,
          0.3705350822079853,
          0.17892303678959548,
          0.7634234146163706,
          0.07312674885361234,
          0.8505793751346387,
          0.5407389794242599,
          -0.32128688659668025,
          0.44711829829526967
         ],
         "yaxis": "y10"
        },
        {
         "histfunc": "count",
         "histnorm": "",
         "marker": {
          "color": "rgba(50, 171, 96, 1.0)",
          "line": {
           "color": "#4D5663",
           "width": 1.3
          }
         },
         "name": "C",
         "nbinsx": 10,
         "opacity": 0.8,
         "orientation": "v",
         "type": "histogram",
         "x": [
          1.8775853248219743,
          1.1634138874701658,
          0.4461462012951521,
          -0.630624769338649,
          2.1078034957109053,
          -0.9482366110800454,
          2.3374606688456554,
          -0.679065383221523,
          0.38377185432970784,
          1.5537342535800607,
          -0.30904709094909677,
          0.6620405516788332,
          0.3587890963955483,
          -0.9621814942267252,
          -1.4076529625364693,
          0.8406620342661275,
          -0.19167605225737872,
          0.07085336292954711,
          -0.41536402355468804,
          -0.6526583034337081,
          0.8953472080675058,
          -0.7927090917157454,
          -0.18504205933124068,
          -2.1844554211545013,
          -0.34928948363733436,
          0.9824393337572949,
          -0.18103284009489634,
          1.2235484395296887,
          0.8925359803657423,
          -0.46265299214822686,
          0.5316146639769636,
          1.1141688952959876,
          -0.8211688679945353,
          -0.4378686464586095,
          -1.5813213284574152,
          -0.1835676074821394,
          0.3635537816869505,
          0.292409384725485,
          -1.9292642402610856,
          -0.02109065033916954,
          -0.6500499929198842,
          -1.0706479780393594,
          1.4810807680195102,
          1.630294092771878,
          1.437547802195289,
          0.1612706125131396,
          1.0347881245359465,
          -0.5153424725683133,
          -1.853413964971279,
          -0.10138460345739685,
          -0.11374182274874095,
          0.7199491131082625,
          -0.8079590917446239,
          1.6050403523925685,
          1.3705705373156225,
          -3.7000867425385264,
          -0.7990098105675697,
          -0.78798107887203,
          0.043511496311365645,
          1.3127181160199133,
          0.5361353718531487,
          -0.10185322125127683,
          -0.2738025230244527,
          1.0602797063746061,
          -0.4626325274765146,
          0.18241675634136165,
          -0.06547590029811755,
          -0.8001702022637728,
          -1.1856462858028625,
          -0.6801324022438168,
          -2.701244480900419,
          -0.3740019761449056,
          0.6291185609341405,
          -1.3562555539381782,
          -0.1323317334140988,
          1.1587415899315627,
          1.3136982038489562,
          0.056299150576219766,
          0.2107247171069781,
          -0.23792370643470714,
          1.0088798622079589,
          0.7617470824000864,
          0.021279115740499545,
          -0.5371997831801028,
          0.43251449785168766,
          -0.05054466631950313,
          1.9377628526721993,
          3.9430366917901165,
          1.770493094498392,
          0.4878354231461598,
          -0.7745409475417855,
          -1.0331047085352125,
          0.3705350822079853,
          0.17892303678959548,
          0.7634234146163706,
          0.07312674885361234,
          0.8505793751346387,
          0.5407389794242599,
          -0.32128688659668025,
          0.44711829829526967
         ],
         "xaxis": "x11",
         "yaxis": "y11"
        },
        {
         "line": {
          "color": "rgba(128, 128, 128, 1.0)",
          "dash": "solid",
          "shape": "linear",
          "width": 1.3
         },
         "marker": {
          "size": 2,
          "symbol": "circle"
         },
         "mode": "markers",
         "name": "C",
         "text": "",
         "type": "scatter",
         "x": [
          0.017994340381227145,
          -0.0653382085123521,
          0.6209264594991536,
          2.2826379372455197,
          0.7791573041836941,
          0.5072557716396099,
          0.2755242714684649,
          -0.6258208695941796,
          0.4693555786538185,
          -0.7208591531367468,
          0.42462242625489244,
          -1.9130505336414327,
          -0.8005255136044629,
          -0.11014504329317058,
          -1.5786485033992341,
          -1.3584660670467765,
          0.8554119234219554,
          0.6621662696420444,
          1.057233165320333,
          0.48229008348264657,
          1.3258226343578399,
          0.38911290504859075,
          0.5552410324849885,
          -1.113214333902142,
          1.601900234464146,
          0.8465429410097408,
          -0.02929303998629881,
          1.4651861522637595,
          1.6043335311238451,
          1.1861501805532806,
          2.288301812396918,
          -0.24144017822599984,
          1.074119518410007,
          0.14898849148633259,
          -0.21959247846775123,
          -0.4842991280081334,
          -0.5980875083709224,
          -0.6965258592933425,
          0.3752982937419125,
          -0.7405377346691557,
          1.4404124597838097,
          -2.458134592213451,
          -0.47260729864100204,
          0.003728348811584746,
          1.2722021246585768,
          0.3422839657249093,
          -1.591342881881602,
          -1.029037761921719,
          -0.16164559078402468,
          -0.46780869601705866,
          -0.20909695044526982,
          -0.15882282057795602,
          -0.33284057418607227,
          1.0513284800699878,
          -0.29257393956132854,
          0.41951762976242507,
          -1.5772488030443022,
          -0.0020039985250401744,
          -0.4764832163085147,
          -1.360639971697527,
          -0.7690296609146785,
          0.7584178969102826,
          -0.4513941465121298,
          0.2733591602541416,
          -0.4312651269411663,
          -1.3505952616061818,
          1.3718235501994085,
          -0.5501653282490452,
          0.4283274396211519,
          0.14583143659223802,
          1.0987555962936866,
          0.8624745086082322,
          0.5191588818768138,
          1.3848027984846778,
          0.6308443959533383,
          -0.8457552243986087,
          -0.23763820875389796,
          0.19990236397564415,
          -1.0157103003006478,
          -0.12688143526493068,
          -0.5796559515504119,
          -1.33437379644634,
          1.373035470199231,
          -0.09271868702696864,
          -0.108021289348484,
          0.2737362662435419,
          0.4153984048634312,
          -0.7277323409497012,
          0.12723409734090813,
          -1.7216795181560658,
          0.404075271990034,
          0.4813947761270504,
          -0.038503348254368845,
          -2.273437715572669,
          -0.7087437240167911,
          1.1425153969404258,
          -0.7206530960574146,
          -1.3195043732791696,
          -1.1427367809772713,
          0.17430027676471116
         ],
         "xaxis": "x12",
         "y": [
          1.8775853248219743,
          1.1634138874701658,
          0.4461462012951521,
          -0.630624769338649,
          2.1078034957109053,
          -0.9482366110800454,
          2.3374606688456554,
          -0.679065383221523,
          0.38377185432970784,
          1.5537342535800607,
          -0.30904709094909677,
          0.6620405516788332,
          0.3587890963955483,
          -0.9621814942267252,
          -1.4076529625364693,
          0.8406620342661275,
          -0.19167605225737872,
          0.07085336292954711,
          -0.41536402355468804,
          -0.6526583034337081,
          0.8953472080675058,
          -0.7927090917157454,
          -0.18504205933124068,
          -2.1844554211545013,
          -0.34928948363733436,
          0.9824393337572949,
          -0.18103284009489634,
          1.2235484395296887,
          0.8925359803657423,
          -0.46265299214822686,
          0.5316146639769636,
          1.1141688952959876,
          -0.8211688679945353,
          -0.4378686464586095,
          -1.5813213284574152,
          -0.1835676074821394,
          0.3635537816869505,
          0.292409384725485,
          -1.9292642402610856,
          -0.02109065033916954,
          -0.6500499929198842,
          -1.0706479780393594,
          1.4810807680195102,
          1.630294092771878,
          1.437547802195289,
          0.1612706125131396,
          1.0347881245359465,
          -0.5153424725683133,
          -1.853413964971279,
          -0.10138460345739685,
          -0.11374182274874095,
          0.7199491131082625,
          -0.8079590917446239,
          1.6050403523925685,
          1.3705705373156225,
          -3.7000867425385264,
          -0.7990098105675697,
          -0.78798107887203,
          0.043511496311365645,
          1.3127181160199133,
          0.5361353718531487,
          -0.10185322125127683,
          -0.2738025230244527,
          1.0602797063746061,
          -0.4626325274765146,
          0.18241675634136165,
          -0.06547590029811755,
          -0.8001702022637728,
          -1.1856462858028625,
          -0.6801324022438168,
          -2.701244480900419,
          -0.3740019761449056,
          0.6291185609341405,
          -1.3562555539381782,
          -0.1323317334140988,
          1.1587415899315627,
          1.3136982038489562,
          0.056299150576219766,
          0.2107247171069781,
          -0.23792370643470714,
          1.0088798622079589,
          0.7617470824000864,
          0.021279115740499545,
          -0.5371997831801028,
          0.43251449785168766,
          -0.05054466631950313,
          1.9377628526721993,
          3.9430366917901165,
          1.770493094498392,
          0.4878354231461598,
          -0.7745409475417855,
          -1.0331047085352125,
          0.3705350822079853,
          0.17892303678959548,
          0.7634234146163706,
          0.07312674885361234,
          0.8505793751346387,
          0.5407389794242599,
          -0.32128688659668025,
          0.44711829829526967
         ],
         "yaxis": "y12"
        },
        {
         "line": {
          "color": "rgba(128, 128, 128, 1.0)",
          "dash": "solid",
          "shape": "linear",
          "width": 1.3
         },
         "marker": {
          "size": 2,
          "symbol": "circle"
         },
         "mode": "markers",
         "name": "D",
         "text": "",
         "type": "scatter",
         "x": [
          0.004623521176124493,
          0.16281569506746615,
          1.4224425740072002,
          1.0465883726312297,
          1.1842576898475108,
          -0.9430017076288162,
          -0.6085150350497329,
          0.8327710604567566,
          0.7349610260402549,
          -0.2490841883443285,
          0.2219721971076617,
          -1.2381344162131944,
          0.2422425588075395,
          0.6651871185074474,
          0.08648920725692612,
          1.0069096722828492,
          0.5135885685395674,
          1.2510550806883736,
          -1.0764907866006002,
          1.5131900701575884,
          -0.21516214636280803,
          -0.9908219512508374,
          -0.48304635726610295,
          -0.3309062206065575,
          -0.5997402907722839,
          -0.2226520133817669,
          -0.09223681807908718,
          -0.9320599965705885,
          -0.6146119575534867,
          -1.8405985217209972,
          -0.07196636464122422,
          -1.1917272842793725,
          -0.1212696899713353,
          0.41431577966805777,
          1.1104672706779055,
          -0.9576385942121362,
          -0.06294522738310888,
          -0.207259397445168,
          -1.0449588125891485,
          0.7724106256129741,
          0.09848545584616183,
          -1.855603203676661,
          -0.19908444045357243,
          0.8807303289230828,
          -0.6436409911582044,
          -1.2394950322721574,
          -0.5333903959015579,
          0.08113009265143066,
          0.3121856933497823,
          -1.6231237399849323,
          0.4262435294386619,
          -0.5754254419012534,
          1.472988451795054,
          -0.48801630030810406,
          0.31591838578850046,
          -0.20911915762697417,
          0.513052823155541,
          -0.894640737393719,
          0.11303368243634235,
          0.08126390492515637,
          0.8265265186825116,
          1.5199902351604946,
          0.20409263911347916,
          -0.549468299736583,
          1.6351857717316323,
          -1.3272902155743422,
          0.3882066558678317,
          0.3584136011973048,
          2.315912702942067,
          1.104337817545148,
          0.33035701635016934,
          -1.2452283168205998,
          -0.5958689580863932,
          -0.06441653627456218,
          0.5647656230700507,
          0.9987758735688422,
          -0.141260329807457,
          -0.5973353039913025,
          0.4786330161546429,
          0.5501368588768211,
          0.8511598466974138,
          0.3742405334903403,
          -0.30177615255004636,
          1.7609112031453364,
          -0.24623366538207506,
          -0.014729716842070764,
          -2.121790882536806,
          -1.3267770846391103,
          -0.8570527379474144,
          -0.24849451967740438,
          -0.22805041501320314,
          0.527751794561854,
          1.3824145693759025,
          0.748002990817415,
          -1.216462277265814,
          -0.590361800281665,
          -1.3125371550384277,
          0.6182744698313806,
          0.05728572122844015,
          1.4364291765621007
         ],
         "xaxis": "x13",
         "y": [
          0.017994340381227145,
          -0.0653382085123521,
          0.6209264594991536,
          2.2826379372455197,
          0.7791573041836941,
          0.5072557716396099,
          0.2755242714684649,
          -0.6258208695941796,
          0.4693555786538185,
          -0.7208591531367468,
          0.42462242625489244,
          -1.9130505336414327,
          -0.8005255136044629,
          -0.11014504329317058,
          -1.5786485033992341,
          -1.3584660670467765,
          0.8554119234219554,
          0.6621662696420444,
          1.057233165320333,
          0.48229008348264657,
          1.3258226343578399,
          0.38911290504859075,
          0.5552410324849885,
          -1.113214333902142,
          1.601900234464146,
          0.8465429410097408,
          -0.02929303998629881,
          1.4651861522637595,
          1.6043335311238451,
          1.1861501805532806,
          2.288301812396918,
          -0.24144017822599984,
          1.074119518410007,
          0.14898849148633259,
          -0.21959247846775123,
          -0.4842991280081334,
          -0.5980875083709224,
          -0.6965258592933425,
          0.3752982937419125,
          -0.7405377346691557,
          1.4404124597838097,
          -2.458134592213451,
          -0.47260729864100204,
          0.003728348811584746,
          1.2722021246585768,
          0.3422839657249093,
          -1.591342881881602,
          -1.029037761921719,
          -0.16164559078402468,
          -0.46780869601705866,
          -0.20909695044526982,
          -0.15882282057795602,
          -0.33284057418607227,
          1.0513284800699878,
          -0.29257393956132854,
          0.41951762976242507,
          -1.5772488030443022,
          -0.0020039985250401744,
          -0.4764832163085147,
          -1.360639971697527,
          -0.7690296609146785,
          0.7584178969102826,
          -0.4513941465121298,
          0.2733591602541416,
          -0.4312651269411663,
          -1.3505952616061818,
          1.3718235501994085,
          -0.5501653282490452,
          0.4283274396211519,
          0.14583143659223802,
          1.0987555962936866,
          0.8624745086082322,
          0.5191588818768138,
          1.3848027984846778,
          0.6308443959533383,
          -0.8457552243986087,
          -0.23763820875389796,
          0.19990236397564415,
          -1.0157103003006478,
          -0.12688143526493068,
          -0.5796559515504119,
          -1.33437379644634,
          1.373035470199231,
          -0.09271868702696864,
          -0.108021289348484,
          0.2737362662435419,
          0.4153984048634312,
          -0.7277323409497012,
          0.12723409734090813,
          -1.7216795181560658,
          0.404075271990034,
          0.4813947761270504,
          -0.038503348254368845,
          -2.273437715572669,
          -0.7087437240167911,
          1.1425153969404258,
          -0.7206530960574146,
          -1.3195043732791696,
          -1.1427367809772713,
          0.17430027676471116
         ],
         "yaxis": "y13"
        },
        {
         "line": {
          "color": "rgba(128, 128, 128, 1.0)",
          "dash": "solid",
          "shape": "linear",
          "width": 1.3
         },
         "marker": {
          "size": 2,
          "symbol": "circle"
         },
         "mode": "markers",
         "name": "D",
         "text": "",
         "type": "scatter",
         "x": [
          -1.1685508459194196,
          -1.5678017169000267,
          0.7870096262915491,
          -0.8629018468596408,
          -0.4857063865991016,
          -1.2626627412225944,
          1.2373205481923955,
          -0.48136229667102254,
          -0.4841128843538882,
          2.2915504567809273,
          -1.8664420703542837,
          -0.3822593347390874,
          -1.5464233121595794,
          0.8960317044216001,
          1.3738712750986215,
          1.3667016898736501,
          0.5931001857431492,
          -0.13608533179952403,
          -0.5226691150373612,
          0.9141181315239653,
          0.49588820121766547,
          0.7033452801787391,
          2.4161083229749805,
          0.9857082531792529,
          -0.5962036008775079,
          -2.3054551237669423,
          0.4595523549181218,
          2.1584557914506686,
          -0.21623673210559943,
          1.0268827658340507,
          -0.187361346602335,
          0.5586823673587367,
          -0.1425368574028095,
          0.47553084882931335,
          -0.8580278596709993,
          -1.3840740509849458,
          1.9078167471910268,
          -1.9298295674593051,
          0.4677649023118192,
          -0.6407645824728198,
          -0.20067105431129048,
          0.4535733758491212,
          -1.1594832090728682,
          -0.09834601975589295,
          -1.6057415274987874,
          -0.02923005850628262,
          1.0665687194053277,
          0.031731913806326804,
          1.6100699600708939,
          1.170010139117584,
          -1.3106350714837576,
          0.1503924243963787,
          -1.3108968820881353,
          -0.9241700441770824,
          0.5538224449867233,
          0.3999246772427607,
          0.24728761416851122,
          1.0347732797668334,
          0.6481309846764085,
          0.5225298542908703,
          -1.062807219692614,
          0.5389291711078632,
          0.3170946057858498,
          0.3113248214184092,
          -0.8779209994399148,
          -1.3103464725219607,
          -0.65146827356122,
          0.7838595330287975,
          -2.46586859817618,
          0.876539850402602,
          -0.838483575748058,
          3.023749502888475,
          0.4886405578618137,
          0.260885477893154,
          1.0195973638202933,
          0.8338732369478434,
          0.8553153295633149,
          -0.4904208832131635,
          0.3099140989134931,
          0.4674350174993666,
          1.6269411857138247,
          0.8377177915316513,
          -1.6344733353409773,
          0.5492777836028785,
          0.6287451281691209,
          -0.5570959640127177,
          2.1634854232289333,
          1.0158940604922302,
          -1.1812765625882486,
          0.8490929033497668,
          -0.2777383095778188,
          -1.539004318952743,
          0.38280204428729375,
          1.3083873098925314,
          0.8264927471174891,
          0.4456229526669064,
          -0.07712727689375366,
          1.3867079546845034,
          -0.2520138485006433,
          1.5057440934761228
         ],
         "xaxis": "x14",
         "y": [
          0.017994340381227145,
          -0.0653382085123521,
          0.6209264594991536,
          2.2826379372455197,
          0.7791573041836941,
          0.5072557716396099,
          0.2755242714684649,
          -0.6258208695941796,
          0.4693555786538185,
          -0.7208591531367468,
          0.42462242625489244,
          -1.9130505336414327,
          -0.8005255136044629,
          -0.11014504329317058,
          -1.5786485033992341,
          -1.3584660670467765,
          0.8554119234219554,
          0.6621662696420444,
          1.057233165320333,
          0.48229008348264657,
          1.3258226343578399,
          0.38911290504859075,
          0.5552410324849885,
          -1.113214333902142,
          1.601900234464146,
          0.8465429410097408,
          -0.02929303998629881,
          1.4651861522637595,
          1.6043335311238451,
          1.1861501805532806,
          2.288301812396918,
          -0.24144017822599984,
          1.074119518410007,
          0.14898849148633259,
          -0.21959247846775123,
          -0.4842991280081334,
          -0.5980875083709224,
          -0.6965258592933425,
          0.3752982937419125,
          -0.7405377346691557,
          1.4404124597838097,
          -2.458134592213451,
          -0.47260729864100204,
          0.003728348811584746,
          1.2722021246585768,
          0.3422839657249093,
          -1.591342881881602,
          -1.029037761921719,
          -0.16164559078402468,
          -0.46780869601705866,
          -0.20909695044526982,
          -0.15882282057795602,
          -0.33284057418607227,
          1.0513284800699878,
          -0.29257393956132854,
          0.41951762976242507,
          -1.5772488030443022,
          -0.0020039985250401744,
          -0.4764832163085147,
          -1.360639971697527,
          -0.7690296609146785,
          0.7584178969102826,
          -0.4513941465121298,
          0.2733591602541416,
          -0.4312651269411663,
          -1.3505952616061818,
          1.3718235501994085,
          -0.5501653282490452,
          0.4283274396211519,
          0.14583143659223802,
          1.0987555962936866,
          0.8624745086082322,
          0.5191588818768138,
          1.3848027984846778,
          0.6308443959533383,
          -0.8457552243986087,
          -0.23763820875389796,
          0.19990236397564415,
          -1.0157103003006478,
          -0.12688143526493068,
          -0.5796559515504119,
          -1.33437379644634,
          1.373035470199231,
          -0.09271868702696864,
          -0.108021289348484,
          0.2737362662435419,
          0.4153984048634312,
          -0.7277323409497012,
          0.12723409734090813,
          -1.7216795181560658,
          0.404075271990034,
          0.4813947761270504,
          -0.038503348254368845,
          -2.273437715572669,
          -0.7087437240167911,
          1.1425153969404258,
          -0.7206530960574146,
          -1.3195043732791696,
          -1.1427367809772713,
          0.17430027676471116
         ],
         "yaxis": "y14"
        },
        {
         "line": {
          "color": "rgba(128, 128, 128, 1.0)",
          "dash": "solid",
          "shape": "linear",
          "width": 1.3
         },
         "marker": {
          "size": 2,
          "symbol": "circle"
         },
         "mode": "markers",
         "name": "D",
         "text": "",
         "type": "scatter",
         "x": [
          1.8775853248219743,
          1.1634138874701658,
          0.4461462012951521,
          -0.630624769338649,
          2.1078034957109053,
          -0.9482366110800454,
          2.3374606688456554,
          -0.679065383221523,
          0.38377185432970784,
          1.5537342535800607,
          -0.30904709094909677,
          0.6620405516788332,
          0.3587890963955483,
          -0.9621814942267252,
          -1.4076529625364693,
          0.8406620342661275,
          -0.19167605225737872,
          0.07085336292954711,
          -0.41536402355468804,
          -0.6526583034337081,
          0.8953472080675058,
          -0.7927090917157454,
          -0.18504205933124068,
          -2.1844554211545013,
          -0.34928948363733436,
          0.9824393337572949,
          -0.18103284009489634,
          1.2235484395296887,
          0.8925359803657423,
          -0.46265299214822686,
          0.5316146639769636,
          1.1141688952959876,
          -0.8211688679945353,
          -0.4378686464586095,
          -1.5813213284574152,
          -0.1835676074821394,
          0.3635537816869505,
          0.292409384725485,
          -1.9292642402610856,
          -0.02109065033916954,
          -0.6500499929198842,
          -1.0706479780393594,
          1.4810807680195102,
          1.630294092771878,
          1.437547802195289,
          0.1612706125131396,
          1.0347881245359465,
          -0.5153424725683133,
          -1.853413964971279,
          -0.10138460345739685,
          -0.11374182274874095,
          0.7199491131082625,
          -0.8079590917446239,
          1.6050403523925685,
          1.3705705373156225,
          -3.7000867425385264,
          -0.7990098105675697,
          -0.78798107887203,
          0.043511496311365645,
          1.3127181160199133,
          0.5361353718531487,
          -0.10185322125127683,
          -0.2738025230244527,
          1.0602797063746061,
          -0.4626325274765146,
          0.18241675634136165,
          -0.06547590029811755,
          -0.8001702022637728,
          -1.1856462858028625,
          -0.6801324022438168,
          -2.701244480900419,
          -0.3740019761449056,
          0.6291185609341405,
          -1.3562555539381782,
          -0.1323317334140988,
          1.1587415899315627,
          1.3136982038489562,
          0.056299150576219766,
          0.2107247171069781,
          -0.23792370643470714,
          1.0088798622079589,
          0.7617470824000864,
          0.021279115740499545,
          -0.5371997831801028,
          0.43251449785168766,
          -0.05054466631950313,
          1.9377628526721993,
          3.9430366917901165,
          1.770493094498392,
          0.4878354231461598,
          -0.7745409475417855,
          -1.0331047085352125,
          0.3705350822079853,
          0.17892303678959548,
          0.7634234146163706,
          0.07312674885361234,
          0.8505793751346387,
          0.5407389794242599,
          -0.32128688659668025,
          0.44711829829526967
         ],
         "xaxis": "x15",
         "y": [
          0.017994340381227145,
          -0.0653382085123521,
          0.6209264594991536,
          2.2826379372455197,
          0.7791573041836941,
          0.5072557716396099,
          0.2755242714684649,
          -0.6258208695941796,
          0.4693555786538185,
          -0.7208591531367468,
          0.42462242625489244,
          -1.9130505336414327,
          -0.8005255136044629,
          -0.11014504329317058,
          -1.5786485033992341,
          -1.3584660670467765,
          0.8554119234219554,
          0.6621662696420444,
          1.057233165320333,
          0.48229008348264657,
          1.3258226343578399,
          0.38911290504859075,
          0.5552410324849885,
          -1.113214333902142,
          1.601900234464146,
          0.8465429410097408,
          -0.02929303998629881,
          1.4651861522637595,
          1.6043335311238451,
          1.1861501805532806,
          2.288301812396918,
          -0.24144017822599984,
          1.074119518410007,
          0.14898849148633259,
          -0.21959247846775123,
          -0.4842991280081334,
          -0.5980875083709224,
          -0.6965258592933425,
          0.3752982937419125,
          -0.7405377346691557,
          1.4404124597838097,
          -2.458134592213451,
          -0.47260729864100204,
          0.003728348811584746,
          1.2722021246585768,
          0.3422839657249093,
          -1.591342881881602,
          -1.029037761921719,
          -0.16164559078402468,
          -0.46780869601705866,
          -0.20909695044526982,
          -0.15882282057795602,
          -0.33284057418607227,
          1.0513284800699878,
          -0.29257393956132854,
          0.41951762976242507,
          -1.5772488030443022,
          -0.0020039985250401744,
          -0.4764832163085147,
          -1.360639971697527,
          -0.7690296609146785,
          0.7584178969102826,
          -0.4513941465121298,
          0.2733591602541416,
          -0.4312651269411663,
          -1.3505952616061818,
          1.3718235501994085,
          -0.5501653282490452,
          0.4283274396211519,
          0.14583143659223802,
          1.0987555962936866,
          0.8624745086082322,
          0.5191588818768138,
          1.3848027984846778,
          0.6308443959533383,
          -0.8457552243986087,
          -0.23763820875389796,
          0.19990236397564415,
          -1.0157103003006478,
          -0.12688143526493068,
          -0.5796559515504119,
          -1.33437379644634,
          1.373035470199231,
          -0.09271868702696864,
          -0.108021289348484,
          0.2737362662435419,
          0.4153984048634312,
          -0.7277323409497012,
          0.12723409734090813,
          -1.7216795181560658,
          0.404075271990034,
          0.4813947761270504,
          -0.038503348254368845,
          -2.273437715572669,
          -0.7087437240167911,
          1.1425153969404258,
          -0.7206530960574146,
          -1.3195043732791696,
          -1.1427367809772713,
          0.17430027676471116
         ],
         "yaxis": "y15"
        },
        {
         "histfunc": "count",
         "histnorm": "",
         "marker": {
          "color": "rgba(128, 0, 128, 1.0)",
          "line": {
           "color": "#4D5663",
           "width": 1.3
          }
         },
         "name": "D",
         "nbinsx": 10,
         "opacity": 0.8,
         "orientation": "v",
         "type": "histogram",
         "x": [
          0.017994340381227145,
          -0.0653382085123521,
          0.6209264594991536,
          2.2826379372455197,
          0.7791573041836941,
          0.5072557716396099,
          0.2755242714684649,
          -0.6258208695941796,
          0.4693555786538185,
          -0.7208591531367468,
          0.42462242625489244,
          -1.9130505336414327,
          -0.8005255136044629,
          -0.11014504329317058,
          -1.5786485033992341,
          -1.3584660670467765,
          0.8554119234219554,
          0.6621662696420444,
          1.057233165320333,
          0.48229008348264657,
          1.3258226343578399,
          0.38911290504859075,
          0.5552410324849885,
          -1.113214333902142,
          1.601900234464146,
          0.8465429410097408,
          -0.02929303998629881,
          1.4651861522637595,
          1.6043335311238451,
          1.1861501805532806,
          2.288301812396918,
          -0.24144017822599984,
          1.074119518410007,
          0.14898849148633259,
          -0.21959247846775123,
          -0.4842991280081334,
          -0.5980875083709224,
          -0.6965258592933425,
          0.3752982937419125,
          -0.7405377346691557,
          1.4404124597838097,
          -2.458134592213451,
          -0.47260729864100204,
          0.003728348811584746,
          1.2722021246585768,
          0.3422839657249093,
          -1.591342881881602,
          -1.029037761921719,
          -0.16164559078402468,
          -0.46780869601705866,
          -0.20909695044526982,
          -0.15882282057795602,
          -0.33284057418607227,
          1.0513284800699878,
          -0.29257393956132854,
          0.41951762976242507,
          -1.5772488030443022,
          -0.0020039985250401744,
          -0.4764832163085147,
          -1.360639971697527,
          -0.7690296609146785,
          0.7584178969102826,
          -0.4513941465121298,
          0.2733591602541416,
          -0.4312651269411663,
          -1.3505952616061818,
          1.3718235501994085,
          -0.5501653282490452,
          0.4283274396211519,
          0.14583143659223802,
          1.0987555962936866,
          0.8624745086082322,
          0.5191588818768138,
          1.3848027984846778,
          0.6308443959533383,
          -0.8457552243986087,
          -0.23763820875389796,
          0.19990236397564415,
          -1.0157103003006478,
          -0.12688143526493068,
          -0.5796559515504119,
          -1.33437379644634,
          1.373035470199231,
          -0.09271868702696864,
          -0.108021289348484,
          0.2737362662435419,
          0.4153984048634312,
          -0.7277323409497012,
          0.12723409734090813,
          -1.7216795181560658,
          0.404075271990034,
          0.4813947761270504,
          -0.038503348254368845,
          -2.273437715572669,
          -0.7087437240167911,
          1.1425153969404258,
          -0.7206530960574146,
          -1.3195043732791696,
          -1.1427367809772713,
          0.17430027676471116
         ],
         "xaxis": "x16",
         "yaxis": "y16"
        }
       ],
       "layout": {
        "bargap": 0.02,
        "legend": {
         "bgcolor": "#F5F6F9",
         "font": {
          "color": "#4D5663"
         }
        },
        "paper_bgcolor": "#F5F6F9",
        "plot_bgcolor": "#F5F6F9",
        "showlegend": false,
        "template": {
         "data": {
          "bar": [
           {
            "error_x": {
             "color": "#2a3f5f"
            },
            "error_y": {
             "color": "#2a3f5f"
            },
            "marker": {
             "line": {
              "color": "#E5ECF6",
              "width": 0.5
             },
             "pattern": {
              "fillmode": "overlay",
              "size": 10,
              "solidity": 0.2
             }
            },
            "type": "bar"
           }
          ],
          "barpolar": [
           {
            "marker": {
             "line": {
              "color": "#E5ECF6",
              "width": 0.5
             },
             "pattern": {
              "fillmode": "overlay",
              "size": 10,
              "solidity": 0.2
             }
            },
            "type": "barpolar"
           }
          ],
          "carpet": [
           {
            "aaxis": {
             "endlinecolor": "#2a3f5f",
             "gridcolor": "white",
             "linecolor": "white",
             "minorgridcolor": "white",
             "startlinecolor": "#2a3f5f"
            },
            "baxis": {
             "endlinecolor": "#2a3f5f",
             "gridcolor": "white",
             "linecolor": "white",
             "minorgridcolor": "white",
             "startlinecolor": "#2a3f5f"
            },
            "type": "carpet"
           }
          ],
          "choropleth": [
           {
            "colorbar": {
             "outlinewidth": 0,
             "ticks": ""
            },
            "type": "choropleth"
           }
          ],
          "contour": [
           {
            "colorbar": {
             "outlinewidth": 0,
             "ticks": ""
            },
            "colorscale": [
             [
              0,
              "#0d0887"
             ],
             [
              0.1111111111111111,
              "#46039f"
             ],
             [
              0.2222222222222222,
              "#7201a8"
             ],
             [
              0.3333333333333333,
              "#9c179e"
             ],
             [
              0.4444444444444444,
              "#bd3786"
             ],
             [
              0.5555555555555556,
              "#d8576b"
             ],
             [
              0.6666666666666666,
              "#ed7953"
             ],
             [
              0.7777777777777778,
              "#fb9f3a"
             ],
             [
              0.8888888888888888,
              "#fdca26"
             ],
             [
              1,
              "#f0f921"
             ]
            ],
            "type": "contour"
           }
          ],
          "contourcarpet": [
           {
            "colorbar": {
             "outlinewidth": 0,
             "ticks": ""
            },
            "type": "contourcarpet"
           }
          ],
          "heatmap": [
           {
            "colorbar": {
             "outlinewidth": 0,
             "ticks": ""
            },
            "colorscale": [
             [
              0,
              "#0d0887"
             ],
             [
              0.1111111111111111,
              "#46039f"
             ],
             [
              0.2222222222222222,
              "#7201a8"
             ],
             [
              0.3333333333333333,
              "#9c179e"
             ],
             [
              0.4444444444444444,
              "#bd3786"
             ],
             [
              0.5555555555555556,
              "#d8576b"
             ],
             [
              0.6666666666666666,
              "#ed7953"
             ],
             [
              0.7777777777777778,
              "#fb9f3a"
             ],
             [
              0.8888888888888888,
              "#fdca26"
             ],
             [
              1,
              "#f0f921"
             ]
            ],
            "type": "heatmap"
           }
          ],
          "heatmapgl": [
           {
            "colorbar": {
             "outlinewidth": 0,
             "ticks": ""
            },
            "colorscale": [
             [
              0,
              "#0d0887"
             ],
             [
              0.1111111111111111,
              "#46039f"
             ],
             [
              0.2222222222222222,
              "#7201a8"
             ],
             [
              0.3333333333333333,
              "#9c179e"
             ],
             [
              0.4444444444444444,
              "#bd3786"
             ],
             [
              0.5555555555555556,
              "#d8576b"
             ],
             [
              0.6666666666666666,
              "#ed7953"
             ],
             [
              0.7777777777777778,
              "#fb9f3a"
             ],
             [
              0.8888888888888888,
              "#fdca26"
             ],
             [
              1,
              "#f0f921"
             ]
            ],
            "type": "heatmapgl"
           }
          ],
          "histogram": [
           {
            "marker": {
             "pattern": {
              "fillmode": "overlay",
              "size": 10,
              "solidity": 0.2
             }
            },
            "type": "histogram"
           }
          ],
          "histogram2d": [
           {
            "colorbar": {
             "outlinewidth": 0,
             "ticks": ""
            },
            "colorscale": [
             [
              0,
              "#0d0887"
             ],
             [
              0.1111111111111111,
              "#46039f"
             ],
             [
              0.2222222222222222,
              "#7201a8"
             ],
             [
              0.3333333333333333,
              "#9c179e"
             ],
             [
              0.4444444444444444,
              "#bd3786"
             ],
             [
              0.5555555555555556,
              "#d8576b"
             ],
             [
              0.6666666666666666,
              "#ed7953"
             ],
             [
              0.7777777777777778,
              "#fb9f3a"
             ],
             [
              0.8888888888888888,
              "#fdca26"
             ],
             [
              1,
              "#f0f921"
             ]
            ],
            "type": "histogram2d"
           }
          ],
          "histogram2dcontour": [
           {
            "colorbar": {
             "outlinewidth": 0,
             "ticks": ""
            },
            "colorscale": [
             [
              0,
              "#0d0887"
             ],
             [
              0.1111111111111111,
              "#46039f"
             ],
             [
              0.2222222222222222,
              "#7201a8"
             ],
             [
              0.3333333333333333,
              "#9c179e"
             ],
             [
              0.4444444444444444,
              "#bd3786"
             ],
             [
              0.5555555555555556,
              "#d8576b"
             ],
             [
              0.6666666666666666,
              "#ed7953"
             ],
             [
              0.7777777777777778,
              "#fb9f3a"
             ],
             [
              0.8888888888888888,
              "#fdca26"
             ],
             [
              1,
              "#f0f921"
             ]
            ],
            "type": "histogram2dcontour"
           }
          ],
          "mesh3d": [
           {
            "colorbar": {
             "outlinewidth": 0,
             "ticks": ""
            },
            "type": "mesh3d"
           }
          ],
          "parcoords": [
           {
            "line": {
             "colorbar": {
              "outlinewidth": 0,
              "ticks": ""
             }
            },
            "type": "parcoords"
           }
          ],
          "pie": [
           {
            "automargin": true,
            "type": "pie"
           }
          ],
          "scatter": [
           {
            "marker": {
             "colorbar": {
              "outlinewidth": 0,
              "ticks": ""
             }
            },
            "type": "scatter"
           }
          ],
          "scatter3d": [
           {
            "line": {
             "colorbar": {
              "outlinewidth": 0,
              "ticks": ""
             }
            },
            "marker": {
             "colorbar": {
              "outlinewidth": 0,
              "ticks": ""
             }
            },
            "type": "scatter3d"
           }
          ],
          "scattercarpet": [
           {
            "marker": {
             "colorbar": {
              "outlinewidth": 0,
              "ticks": ""
             }
            },
            "type": "scattercarpet"
           }
          ],
          "scattergeo": [
           {
            "marker": {
             "colorbar": {
              "outlinewidth": 0,
              "ticks": ""
             }
            },
            "type": "scattergeo"
           }
          ],
          "scattergl": [
           {
            "marker": {
             "colorbar": {
              "outlinewidth": 0,
              "ticks": ""
             }
            },
            "type": "scattergl"
           }
          ],
          "scattermapbox": [
           {
            "marker": {
             "colorbar": {
              "outlinewidth": 0,
              "ticks": ""
             }
            },
            "type": "scattermapbox"
           }
          ],
          "scatterpolar": [
           {
            "marker": {
             "colorbar": {
              "outlinewidth": 0,
              "ticks": ""
             }
            },
            "type": "scatterpolar"
           }
          ],
          "scatterpolargl": [
           {
            "marker": {
             "colorbar": {
              "outlinewidth": 0,
              "ticks": ""
             }
            },
            "type": "scatterpolargl"
           }
          ],
          "scatterternary": [
           {
            "marker": {
             "colorbar": {
              "outlinewidth": 0,
              "ticks": ""
             }
            },
            "type": "scatterternary"
           }
          ],
          "surface": [
           {
            "colorbar": {
             "outlinewidth": 0,
             "ticks": ""
            },
            "colorscale": [
             [
              0,
              "#0d0887"
             ],
             [
              0.1111111111111111,
              "#46039f"
             ],
             [
              0.2222222222222222,
              "#7201a8"
             ],
             [
              0.3333333333333333,
              "#9c179e"
             ],
             [
              0.4444444444444444,
              "#bd3786"
             ],
             [
              0.5555555555555556,
              "#d8576b"
             ],
             [
              0.6666666666666666,
              "#ed7953"
             ],
             [
              0.7777777777777778,
              "#fb9f3a"
             ],
             [
              0.8888888888888888,
              "#fdca26"
             ],
             [
              1,
              "#f0f921"
             ]
            ],
            "type": "surface"
           }
          ],
          "table": [
           {
            "cells": {
             "fill": {
              "color": "#EBF0F8"
             },
             "line": {
              "color": "white"
             }
            },
            "header": {
             "fill": {
              "color": "#C8D4E3"
             },
             "line": {
              "color": "white"
             }
            },
            "type": "table"
           }
          ]
         },
         "layout": {
          "annotationdefaults": {
           "arrowcolor": "#2a3f5f",
           "arrowhead": 0,
           "arrowwidth": 1
          },
          "autotypenumbers": "strict",
          "coloraxis": {
           "colorbar": {
            "outlinewidth": 0,
            "ticks": ""
           }
          },
          "colorscale": {
           "diverging": [
            [
             0,
             "#8e0152"
            ],
            [
             0.1,
             "#c51b7d"
            ],
            [
             0.2,
             "#de77ae"
            ],
            [
             0.3,
             "#f1b6da"
            ],
            [
             0.4,
             "#fde0ef"
            ],
            [
             0.5,
             "#f7f7f7"
            ],
            [
             0.6,
             "#e6f5d0"
            ],
            [
             0.7,
             "#b8e186"
            ],
            [
             0.8,
             "#7fbc41"
            ],
            [
             0.9,
             "#4d9221"
            ],
            [
             1,
             "#276419"
            ]
           ],
           "sequential": [
            [
             0,
             "#0d0887"
            ],
            [
             0.1111111111111111,
             "#46039f"
            ],
            [
             0.2222222222222222,
             "#7201a8"
            ],
            [
             0.3333333333333333,
             "#9c179e"
            ],
            [
             0.4444444444444444,
             "#bd3786"
            ],
            [
             0.5555555555555556,
             "#d8576b"
            ],
            [
             0.6666666666666666,
             "#ed7953"
            ],
            [
             0.7777777777777778,
             "#fb9f3a"
            ],
            [
             0.8888888888888888,
             "#fdca26"
            ],
            [
             1,
             "#f0f921"
            ]
           ],
           "sequentialminus": [
            [
             0,
             "#0d0887"
            ],
            [
             0.1111111111111111,
             "#46039f"
            ],
            [
             0.2222222222222222,
             "#7201a8"
            ],
            [
             0.3333333333333333,
             "#9c179e"
            ],
            [
             0.4444444444444444,
             "#bd3786"
            ],
            [
             0.5555555555555556,
             "#d8576b"
            ],
            [
             0.6666666666666666,
             "#ed7953"
            ],
            [
             0.7777777777777778,
             "#fb9f3a"
            ],
            [
             0.8888888888888888,
             "#fdca26"
            ],
            [
             1,
             "#f0f921"
            ]
           ]
          },
          "colorway": [
           "#636efa",
           "#EF553B",
           "#00cc96",
           "#ab63fa",
           "#FFA15A",
           "#19d3f3",
           "#FF6692",
           "#B6E880",
           "#FF97FF",
           "#FECB52"
          ],
          "font": {
           "color": "#2a3f5f"
          },
          "geo": {
           "bgcolor": "white",
           "lakecolor": "white",
           "landcolor": "#E5ECF6",
           "showlakes": true,
           "showland": true,
           "subunitcolor": "white"
          },
          "hoverlabel": {
           "align": "left"
          },
          "hovermode": "closest",
          "mapbox": {
           "style": "light"
          },
          "paper_bgcolor": "white",
          "plot_bgcolor": "#E5ECF6",
          "polar": {
           "angularaxis": {
            "gridcolor": "white",
            "linecolor": "white",
            "ticks": ""
           },
           "bgcolor": "#E5ECF6",
           "radialaxis": {
            "gridcolor": "white",
            "linecolor": "white",
            "ticks": ""
           }
          },
          "scene": {
           "xaxis": {
            "backgroundcolor": "#E5ECF6",
            "gridcolor": "white",
            "gridwidth": 2,
            "linecolor": "white",
            "showbackground": true,
            "ticks": "",
            "zerolinecolor": "white"
           },
           "yaxis": {
            "backgroundcolor": "#E5ECF6",
            "gridcolor": "white",
            "gridwidth": 2,
            "linecolor": "white",
            "showbackground": true,
            "ticks": "",
            "zerolinecolor": "white"
           },
           "zaxis": {
            "backgroundcolor": "#E5ECF6",
            "gridcolor": "white",
            "gridwidth": 2,
            "linecolor": "white",
            "showbackground": true,
            "ticks": "",
            "zerolinecolor": "white"
           }
          },
          "shapedefaults": {
           "line": {
            "color": "#2a3f5f"
           }
          },
          "ternary": {
           "aaxis": {
            "gridcolor": "white",
            "linecolor": "white",
            "ticks": ""
           },
           "baxis": {
            "gridcolor": "white",
            "linecolor": "white",
            "ticks": ""
           },
           "bgcolor": "#E5ECF6",
           "caxis": {
            "gridcolor": "white",
            "linecolor": "white",
            "ticks": ""
           }
          },
          "title": {
           "x": 0.05
          },
          "xaxis": {
           "automargin": true,
           "gridcolor": "white",
           "linecolor": "white",
           "ticks": "",
           "title": {
            "standoff": 15
           },
           "zerolinecolor": "white",
           "zerolinewidth": 2
          },
          "yaxis": {
           "automargin": true,
           "gridcolor": "white",
           "linecolor": "white",
           "ticks": "",
           "title": {
            "standoff": 15
           },
           "zerolinecolor": "white",
           "zerolinewidth": 2
          }
         }
        },
        "title": {
         "font": {
          "color": "#4D5663"
         }
        },
        "xaxis": {
         "anchor": "y",
         "domain": [
          0,
          0.2125
         ],
         "gridcolor": "#E1E5ED",
         "showgrid": false,
         "tickfont": {
          "color": "#4D5663"
         },
         "title": {
          "font": {
           "color": "#4D5663"
          },
          "text": ""
         },
         "zerolinecolor": "#E1E5ED"
        },
        "xaxis10": {
         "anchor": "y10",
         "domain": [
          0.2625,
          0.475
         ],
         "gridcolor": "#E1E5ED",
         "showgrid": false,
         "tickfont": {
          "color": "#4D5663"
         },
         "title": {
          "font": {
           "color": "#4D5663"
          },
          "text": ""
         },
         "zerolinecolor": "#E1E5ED"
        },
        "xaxis11": {
         "anchor": "y11",
         "domain": [
          0.525,
          0.7375
         ],
         "gridcolor": "#E1E5ED",
         "showgrid": false,
         "tickfont": {
          "color": "#4D5663"
         },
         "title": {
          "font": {
           "color": "#4D5663"
          },
          "text": ""
         },
         "zerolinecolor": "#E1E5ED"
        },
        "xaxis12": {
         "anchor": "y12",
         "domain": [
          0.7875,
          1
         ],
         "gridcolor": "#E1E5ED",
         "showgrid": false,
         "tickfont": {
          "color": "#4D5663"
         },
         "title": {
          "font": {
           "color": "#4D5663"
          },
          "text": ""
         },
         "zerolinecolor": "#E1E5ED"
        },
        "xaxis13": {
         "anchor": "y13",
         "domain": [
          0,
          0.2125
         ],
         "gridcolor": "#E1E5ED",
         "showgrid": false,
         "tickfont": {
          "color": "#4D5663"
         },
         "title": {
          "font": {
           "color": "#4D5663"
          },
          "text": ""
         },
         "zerolinecolor": "#E1E5ED"
        },
        "xaxis14": {
         "anchor": "y14",
         "domain": [
          0.2625,
          0.475
         ],
         "gridcolor": "#E1E5ED",
         "showgrid": false,
         "tickfont": {
          "color": "#4D5663"
         },
         "title": {
          "font": {
           "color": "#4D5663"
          },
          "text": ""
         },
         "zerolinecolor": "#E1E5ED"
        },
        "xaxis15": {
         "anchor": "y15",
         "domain": [
          0.525,
          0.7375
         ],
         "gridcolor": "#E1E5ED",
         "showgrid": false,
         "tickfont": {
          "color": "#4D5663"
         },
         "title": {
          "font": {
           "color": "#4D5663"
          },
          "text": ""
         },
         "zerolinecolor": "#E1E5ED"
        },
        "xaxis16": {
         "anchor": "y16",
         "domain": [
          0.7875,
          1
         ],
         "gridcolor": "#E1E5ED",
         "showgrid": false,
         "tickfont": {
          "color": "#4D5663"
         },
         "title": {
          "font": {
           "color": "#4D5663"
          },
          "text": ""
         },
         "zerolinecolor": "#E1E5ED"
        },
        "xaxis2": {
         "anchor": "y2",
         "domain": [
          0.2625,
          0.475
         ],
         "gridcolor": "#E1E5ED",
         "showgrid": false,
         "tickfont": {
          "color": "#4D5663"
         },
         "title": {
          "font": {
           "color": "#4D5663"
          },
          "text": ""
         },
         "zerolinecolor": "#E1E5ED"
        },
        "xaxis3": {
         "anchor": "y3",
         "domain": [
          0.525,
          0.7375
         ],
         "gridcolor": "#E1E5ED",
         "showgrid": false,
         "tickfont": {
          "color": "#4D5663"
         },
         "title": {
          "font": {
           "color": "#4D5663"
          },
          "text": ""
         },
         "zerolinecolor": "#E1E5ED"
        },
        "xaxis4": {
         "anchor": "y4",
         "domain": [
          0.7875,
          1
         ],
         "gridcolor": "#E1E5ED",
         "showgrid": false,
         "tickfont": {
          "color": "#4D5663"
         },
         "title": {
          "font": {
           "color": "#4D5663"
          },
          "text": ""
         },
         "zerolinecolor": "#E1E5ED"
        },
        "xaxis5": {
         "anchor": "y5",
         "domain": [
          0,
          0.2125
         ],
         "gridcolor": "#E1E5ED",
         "showgrid": false,
         "tickfont": {
          "color": "#4D5663"
         },
         "title": {
          "font": {
           "color": "#4D5663"
          },
          "text": ""
         },
         "zerolinecolor": "#E1E5ED"
        },
        "xaxis6": {
         "anchor": "y6",
         "domain": [
          0.2625,
          0.475
         ],
         "gridcolor": "#E1E5ED",
         "showgrid": false,
         "tickfont": {
          "color": "#4D5663"
         },
         "title": {
          "font": {
           "color": "#4D5663"
          },
          "text": ""
         },
         "zerolinecolor": "#E1E5ED"
        },
        "xaxis7": {
         "anchor": "y7",
         "domain": [
          0.525,
          0.7375
         ],
         "gridcolor": "#E1E5ED",
         "showgrid": false,
         "tickfont": {
          "color": "#4D5663"
         },
         "title": {
          "font": {
           "color": "#4D5663"
          },
          "text": ""
         },
         "zerolinecolor": "#E1E5ED"
        },
        "xaxis8": {
         "anchor": "y8",
         "domain": [
          0.7875,
          1
         ],
         "gridcolor": "#E1E5ED",
         "showgrid": false,
         "tickfont": {
          "color": "#4D5663"
         },
         "title": {
          "font": {
           "color": "#4D5663"
          },
          "text": ""
         },
         "zerolinecolor": "#E1E5ED"
        },
        "xaxis9": {
         "anchor": "y9",
         "domain": [
          0,
          0.2125
         ],
         "gridcolor": "#E1E5ED",
         "showgrid": false,
         "tickfont": {
          "color": "#4D5663"
         },
         "title": {
          "font": {
           "color": "#4D5663"
          },
          "text": ""
         },
         "zerolinecolor": "#E1E5ED"
        },
        "yaxis": {
         "anchor": "x",
         "domain": [
          0.8025,
          1
         ],
         "gridcolor": "#E1E5ED",
         "showgrid": false,
         "tickfont": {
          "color": "#4D5663"
         },
         "title": {
          "font": {
           "color": "#4D5663"
          },
          "text": ""
         },
         "zerolinecolor": "#E1E5ED"
        },
        "yaxis10": {
         "anchor": "x10",
         "domain": [
          0.2675,
          0.465
         ],
         "gridcolor": "#E1E5ED",
         "showgrid": false,
         "tickfont": {
          "color": "#4D5663"
         },
         "title": {
          "font": {
           "color": "#4D5663"
          },
          "text": ""
         },
         "zerolinecolor": "#E1E5ED"
        },
        "yaxis11": {
         "anchor": "x11",
         "domain": [
          0.2675,
          0.465
         ],
         "gridcolor": "#E1E5ED",
         "showgrid": false,
         "tickfont": {
          "color": "#4D5663"
         },
         "title": {
          "font": {
           "color": "#4D5663"
          },
          "text": ""
         },
         "zerolinecolor": "#E1E5ED"
        },
        "yaxis12": {
         "anchor": "x12",
         "domain": [
          0.2675,
          0.465
         ],
         "gridcolor": "#E1E5ED",
         "showgrid": false,
         "tickfont": {
          "color": "#4D5663"
         },
         "title": {
          "font": {
           "color": "#4D5663"
          },
          "text": ""
         },
         "zerolinecolor": "#E1E5ED"
        },
        "yaxis13": {
         "anchor": "x13",
         "domain": [
          0,
          0.1975
         ],
         "gridcolor": "#E1E5ED",
         "showgrid": false,
         "tickfont": {
          "color": "#4D5663"
         },
         "title": {
          "font": {
           "color": "#4D5663"
          },
          "text": ""
         },
         "zerolinecolor": "#E1E5ED"
        },
        "yaxis14": {
         "anchor": "x14",
         "domain": [
          0,
          0.1975
         ],
         "gridcolor": "#E1E5ED",
         "showgrid": false,
         "tickfont": {
          "color": "#4D5663"
         },
         "title": {
          "font": {
           "color": "#4D5663"
          },
          "text": ""
         },
         "zerolinecolor": "#E1E5ED"
        },
        "yaxis15": {
         "anchor": "x15",
         "domain": [
          0,
          0.1975
         ],
         "gridcolor": "#E1E5ED",
         "showgrid": false,
         "tickfont": {
          "color": "#4D5663"
         },
         "title": {
          "font": {
           "color": "#4D5663"
          },
          "text": ""
         },
         "zerolinecolor": "#E1E5ED"
        },
        "yaxis16": {
         "anchor": "x16",
         "domain": [
          0,
          0.1975
         ],
         "gridcolor": "#E1E5ED",
         "showgrid": false,
         "tickfont": {
          "color": "#4D5663"
         },
         "title": {
          "font": {
           "color": "#4D5663"
          },
          "text": ""
         },
         "zerolinecolor": "#E1E5ED"
        },
        "yaxis2": {
         "anchor": "x2",
         "domain": [
          0.8025,
          1
         ],
         "gridcolor": "#E1E5ED",
         "showgrid": false,
         "tickfont": {
          "color": "#4D5663"
         },
         "title": {
          "font": {
           "color": "#4D5663"
          },
          "text": ""
         },
         "zerolinecolor": "#E1E5ED"
        },
        "yaxis3": {
         "anchor": "x3",
         "domain": [
          0.8025,
          1
         ],
         "gridcolor": "#E1E5ED",
         "showgrid": false,
         "tickfont": {
          "color": "#4D5663"
         },
         "title": {
          "font": {
           "color": "#4D5663"
          },
          "text": ""
         },
         "zerolinecolor": "#E1E5ED"
        },
        "yaxis4": {
         "anchor": "x4",
         "domain": [
          0.8025,
          1
         ],
         "gridcolor": "#E1E5ED",
         "showgrid": false,
         "tickfont": {
          "color": "#4D5663"
         },
         "title": {
          "font": {
           "color": "#4D5663"
          },
          "text": ""
         },
         "zerolinecolor": "#E1E5ED"
        },
        "yaxis5": {
         "anchor": "x5",
         "domain": [
          0.535,
          0.7325
         ],
         "gridcolor": "#E1E5ED",
         "showgrid": false,
         "tickfont": {
          "color": "#4D5663"
         },
         "title": {
          "font": {
           "color": "#4D5663"
          },
          "text": ""
         },
         "zerolinecolor": "#E1E5ED"
        },
        "yaxis6": {
         "anchor": "x6",
         "domain": [
          0.535,
          0.7325
         ],
         "gridcolor": "#E1E5ED",
         "showgrid": false,
         "tickfont": {
          "color": "#4D5663"
         },
         "title": {
          "font": {
           "color": "#4D5663"
          },
          "text": ""
         },
         "zerolinecolor": "#E1E5ED"
        },
        "yaxis7": {
         "anchor": "x7",
         "domain": [
          0.535,
          0.7325
         ],
         "gridcolor": "#E1E5ED",
         "showgrid": false,
         "tickfont": {
          "color": "#4D5663"
         },
         "title": {
          "font": {
           "color": "#4D5663"
          },
          "text": ""
         },
         "zerolinecolor": "#E1E5ED"
        },
        "yaxis8": {
         "anchor": "x8",
         "domain": [
          0.535,
          0.7325
         ],
         "gridcolor": "#E1E5ED",
         "showgrid": false,
         "tickfont": {
          "color": "#4D5663"
         },
         "title": {
          "font": {
           "color": "#4D5663"
          },
          "text": ""
         },
         "zerolinecolor": "#E1E5ED"
        },
        "yaxis9": {
         "anchor": "x9",
         "domain": [
          0.2675,
          0.465
         ],
         "gridcolor": "#E1E5ED",
         "showgrid": false,
         "tickfont": {
          "color": "#4D5663"
         },
         "title": {
          "font": {
           "color": "#4D5663"
          },
          "text": ""
         },
         "zerolinecolor": "#E1E5ED"
        }
       }
      },
      "text/html": [
       "<div>                            <div id=\"14ab35fa-b41b-4629-890d-005d57cdcfa2\" class=\"plotly-graph-div\" style=\"height:525px; width:100%;\"></div>            <script type=\"text/javascript\">                require([\"plotly\"], function(Plotly) {                    window.PLOTLYENV=window.PLOTLYENV || {};\n",
       "                    window.PLOTLYENV.BASE_URL='https://plot.ly';                                    if (document.getElementById(\"14ab35fa-b41b-4629-890d-005d57cdcfa2\")) {                    Plotly.newPlot(                        \"14ab35fa-b41b-4629-890d-005d57cdcfa2\",                        [{\"histfunc\":\"count\",\"histnorm\":\"\",\"marker\":{\"color\":\"rgba(255, 153, 51, 1.0)\",\"line\":{\"color\":\"#4D5663\",\"width\":1.3}},\"name\":\"A\",\"nbinsx\":10,\"opacity\":0.8,\"orientation\":\"v\",\"x\":[0.004623521176124493,0.16281569506746615,1.4224425740072002,1.0465883726312297,1.1842576898475108,-0.9430017076288162,-0.6085150350497329,0.8327710604567566,0.7349610260402549,-0.2490841883443285,0.2219721971076617,-1.2381344162131944,0.2422425588075395,0.6651871185074474,0.08648920725692612,1.0069096722828492,0.5135885685395674,1.2510550806883736,-1.0764907866006002,1.5131900701575884,-0.21516214636280803,-0.9908219512508374,-0.48304635726610295,-0.3309062206065575,-0.5997402907722839,-0.2226520133817669,-0.09223681807908718,-0.9320599965705885,-0.6146119575534867,-1.8405985217209972,-0.07196636464122422,-1.1917272842793725,-0.1212696899713353,0.41431577966805777,1.1104672706779055,-0.9576385942121362,-0.06294522738310888,-0.207259397445168,-1.0449588125891485,0.7724106256129741,0.09848545584616183,-1.855603203676661,-0.19908444045357243,0.8807303289230828,-0.6436409911582044,-1.2394950322721574,-0.5333903959015579,0.08113009265143066,0.3121856933497823,-1.6231237399849323,0.4262435294386619,-0.5754254419012534,1.472988451795054,-0.48801630030810406,0.31591838578850046,-0.20911915762697417,0.513052823155541,-0.894640737393719,0.11303368243634235,0.08126390492515637,0.8265265186825116,1.5199902351604946,0.20409263911347916,-0.549468299736583,1.6351857717316323,-1.3272902155743422,0.3882066558678317,0.3584136011973048,2.315912702942067,1.104337817545148,0.33035701635016934,-1.2452283168205998,-0.5958689580863932,-0.06441653627456218,0.5647656230700507,0.9987758735688422,-0.141260329807457,-0.5973353039913025,0.4786330161546429,0.5501368588768211,0.8511598466974138,0.3742405334903403,-0.30177615255004636,1.7609112031453364,-0.24623366538207506,-0.014729716842070764,-2.121790882536806,-1.3267770846391103,-0.8570527379474144,-0.24849451967740438,-0.22805041501320314,0.527751794561854,1.3824145693759025,0.748002990817415,-1.216462277265814,-0.590361800281665,-1.3125371550384277,0.6182744698313806,0.05728572122844015,1.4364291765621007],\"xaxis\":\"x\",\"yaxis\":\"y\",\"type\":\"histogram\"},{\"line\":{\"color\":\"rgba(128, 128, 128, 1.0)\",\"dash\":\"solid\",\"shape\":\"linear\",\"width\":1.3},\"marker\":{\"size\":2,\"symbol\":\"circle\"},\"mode\":\"markers\",\"name\":\"A\",\"text\":\"\",\"x\":[-1.1685508459194196,-1.5678017169000267,0.7870096262915491,-0.8629018468596408,-0.4857063865991016,-1.2626627412225944,1.2373205481923955,-0.48136229667102254,-0.4841128843538882,2.2915504567809273,-1.8664420703542837,-0.3822593347390874,-1.5464233121595794,0.8960317044216001,1.3738712750986215,1.3667016898736501,0.5931001857431492,-0.13608533179952403,-0.5226691150373612,0.9141181315239653,0.49588820121766547,0.7033452801787391,2.4161083229749805,0.9857082531792529,-0.5962036008775079,-2.3054551237669423,0.4595523549181218,2.1584557914506686,-0.21623673210559943,1.0268827658340507,-0.187361346602335,0.5586823673587367,-0.1425368574028095,0.47553084882931335,-0.8580278596709993,-1.3840740509849458,1.9078167471910268,-1.9298295674593051,0.4677649023118192,-0.6407645824728198,-0.20067105431129048,0.4535733758491212,-1.1594832090728682,-0.09834601975589295,-1.6057415274987874,-0.02923005850628262,1.0665687194053277,0.031731913806326804,1.6100699600708939,1.170010139117584,-1.3106350714837576,0.1503924243963787,-1.3108968820881353,-0.9241700441770824,0.5538224449867233,0.3999246772427607,0.24728761416851122,1.0347732797668334,0.6481309846764085,0.5225298542908703,-1.062807219692614,0.5389291711078632,0.3170946057858498,0.3113248214184092,-0.8779209994399148,-1.3103464725219607,-0.65146827356122,0.7838595330287975,-2.46586859817618,0.876539850402602,-0.838483575748058,3.023749502888475,0.4886405578618137,0.260885477893154,1.0195973638202933,0.8338732369478434,0.8553153295633149,-0.4904208832131635,0.3099140989134931,0.4674350174993666,1.6269411857138247,0.8377177915316513,-1.6344733353409773,0.5492777836028785,0.6287451281691209,-0.5570959640127177,2.1634854232289333,1.0158940604922302,-1.1812765625882486,0.8490929033497668,-0.2777383095778188,-1.539004318952743,0.38280204428729375,1.3083873098925314,0.8264927471174891,0.4456229526669064,-0.07712727689375366,1.3867079546845034,-0.2520138485006433,1.5057440934761228],\"xaxis\":\"x2\",\"y\":[0.004623521176124493,0.16281569506746615,1.4224425740072002,1.0465883726312297,1.1842576898475108,-0.9430017076288162,-0.6085150350497329,0.8327710604567566,0.7349610260402549,-0.2490841883443285,0.2219721971076617,-1.2381344162131944,0.2422425588075395,0.6651871185074474,0.08648920725692612,1.0069096722828492,0.5135885685395674,1.2510550806883736,-1.0764907866006002,1.5131900701575884,-0.21516214636280803,-0.9908219512508374,-0.48304635726610295,-0.3309062206065575,-0.5997402907722839,-0.2226520133817669,-0.09223681807908718,-0.9320599965705885,-0.6146119575534867,-1.8405985217209972,-0.07196636464122422,-1.1917272842793725,-0.1212696899713353,0.41431577966805777,1.1104672706779055,-0.9576385942121362,-0.06294522738310888,-0.207259397445168,-1.0449588125891485,0.7724106256129741,0.09848545584616183,-1.855603203676661,-0.19908444045357243,0.8807303289230828,-0.6436409911582044,-1.2394950322721574,-0.5333903959015579,0.08113009265143066,0.3121856933497823,-1.6231237399849323,0.4262435294386619,-0.5754254419012534,1.472988451795054,-0.48801630030810406,0.31591838578850046,-0.20911915762697417,0.513052823155541,-0.894640737393719,0.11303368243634235,0.08126390492515637,0.8265265186825116,1.5199902351604946,0.20409263911347916,-0.549468299736583,1.6351857717316323,-1.3272902155743422,0.3882066558678317,0.3584136011973048,2.315912702942067,1.104337817545148,0.33035701635016934,-1.2452283168205998,-0.5958689580863932,-0.06441653627456218,0.5647656230700507,0.9987758735688422,-0.141260329807457,-0.5973353039913025,0.4786330161546429,0.5501368588768211,0.8511598466974138,0.3742405334903403,-0.30177615255004636,1.7609112031453364,-0.24623366538207506,-0.014729716842070764,-2.121790882536806,-1.3267770846391103,-0.8570527379474144,-0.24849451967740438,-0.22805041501320314,0.527751794561854,1.3824145693759025,0.748002990817415,-1.216462277265814,-0.590361800281665,-1.3125371550384277,0.6182744698313806,0.05728572122844015,1.4364291765621007],\"yaxis\":\"y2\",\"type\":\"scatter\"},{\"line\":{\"color\":\"rgba(128, 128, 128, 1.0)\",\"dash\":\"solid\",\"shape\":\"linear\",\"width\":1.3},\"marker\":{\"size\":2,\"symbol\":\"circle\"},\"mode\":\"markers\",\"name\":\"A\",\"text\":\"\",\"x\":[1.8775853248219743,1.1634138874701658,0.4461462012951521,-0.630624769338649,2.1078034957109053,-0.9482366110800454,2.3374606688456554,-0.679065383221523,0.38377185432970784,1.5537342535800607,-0.30904709094909677,0.6620405516788332,0.3587890963955483,-0.9621814942267252,-1.4076529625364693,0.8406620342661275,-0.19167605225737872,0.07085336292954711,-0.41536402355468804,-0.6526583034337081,0.8953472080675058,-0.7927090917157454,-0.18504205933124068,-2.1844554211545013,-0.34928948363733436,0.9824393337572949,-0.18103284009489634,1.2235484395296887,0.8925359803657423,-0.46265299214822686,0.5316146639769636,1.1141688952959876,-0.8211688679945353,-0.4378686464586095,-1.5813213284574152,-0.1835676074821394,0.3635537816869505,0.292409384725485,-1.9292642402610856,-0.02109065033916954,-0.6500499929198842,-1.0706479780393594,1.4810807680195102,1.630294092771878,1.437547802195289,0.1612706125131396,1.0347881245359465,-0.5153424725683133,-1.853413964971279,-0.10138460345739685,-0.11374182274874095,0.7199491131082625,-0.8079590917446239,1.6050403523925685,1.3705705373156225,-3.7000867425385264,-0.7990098105675697,-0.78798107887203,0.043511496311365645,1.3127181160199133,0.5361353718531487,-0.10185322125127683,-0.2738025230244527,1.0602797063746061,-0.4626325274765146,0.18241675634136165,-0.06547590029811755,-0.8001702022637728,-1.1856462858028625,-0.6801324022438168,-2.701244480900419,-0.3740019761449056,0.6291185609341405,-1.3562555539381782,-0.1323317334140988,1.1587415899315627,1.3136982038489562,0.056299150576219766,0.2107247171069781,-0.23792370643470714,1.0088798622079589,0.7617470824000864,0.021279115740499545,-0.5371997831801028,0.43251449785168766,-0.05054466631950313,1.9377628526721993,3.9430366917901165,1.770493094498392,0.4878354231461598,-0.7745409475417855,-1.0331047085352125,0.3705350822079853,0.17892303678959548,0.7634234146163706,0.07312674885361234,0.8505793751346387,0.5407389794242599,-0.32128688659668025,0.44711829829526967],\"xaxis\":\"x3\",\"y\":[0.004623521176124493,0.16281569506746615,1.4224425740072002,1.0465883726312297,1.1842576898475108,-0.9430017076288162,-0.6085150350497329,0.8327710604567566,0.7349610260402549,-0.2490841883443285,0.2219721971076617,-1.2381344162131944,0.2422425588075395,0.6651871185074474,0.08648920725692612,1.0069096722828492,0.5135885685395674,1.2510550806883736,-1.0764907866006002,1.5131900701575884,-0.21516214636280803,-0.9908219512508374,-0.48304635726610295,-0.3309062206065575,-0.5997402907722839,-0.2226520133817669,-0.09223681807908718,-0.9320599965705885,-0.6146119575534867,-1.8405985217209972,-0.07196636464122422,-1.1917272842793725,-0.1212696899713353,0.41431577966805777,1.1104672706779055,-0.9576385942121362,-0.06294522738310888,-0.207259397445168,-1.0449588125891485,0.7724106256129741,0.09848545584616183,-1.855603203676661,-0.19908444045357243,0.8807303289230828,-0.6436409911582044,-1.2394950322721574,-0.5333903959015579,0.08113009265143066,0.3121856933497823,-1.6231237399849323,0.4262435294386619,-0.5754254419012534,1.472988451795054,-0.48801630030810406,0.31591838578850046,-0.20911915762697417,0.513052823155541,-0.894640737393719,0.11303368243634235,0.08126390492515637,0.8265265186825116,1.5199902351604946,0.20409263911347916,-0.549468299736583,1.6351857717316323,-1.3272902155743422,0.3882066558678317,0.3584136011973048,2.315912702942067,1.104337817545148,0.33035701635016934,-1.2452283168205998,-0.5958689580863932,-0.06441653627456218,0.5647656230700507,0.9987758735688422,-0.141260329807457,-0.5973353039913025,0.4786330161546429,0.5501368588768211,0.8511598466974138,0.3742405334903403,-0.30177615255004636,1.7609112031453364,-0.24623366538207506,-0.014729716842070764,-2.121790882536806,-1.3267770846391103,-0.8570527379474144,-0.24849451967740438,-0.22805041501320314,0.527751794561854,1.3824145693759025,0.748002990817415,-1.216462277265814,-0.590361800281665,-1.3125371550384277,0.6182744698313806,0.05728572122844015,1.4364291765621007],\"yaxis\":\"y3\",\"type\":\"scatter\"},{\"line\":{\"color\":\"rgba(128, 128, 128, 1.0)\",\"dash\":\"solid\",\"shape\":\"linear\",\"width\":1.3},\"marker\":{\"size\":2,\"symbol\":\"circle\"},\"mode\":\"markers\",\"name\":\"A\",\"text\":\"\",\"x\":[0.017994340381227145,-0.0653382085123521,0.6209264594991536,2.2826379372455197,0.7791573041836941,0.5072557716396099,0.2755242714684649,-0.6258208695941796,0.4693555786538185,-0.7208591531367468,0.42462242625489244,-1.9130505336414327,-0.8005255136044629,-0.11014504329317058,-1.5786485033992341,-1.3584660670467765,0.8554119234219554,0.6621662696420444,1.057233165320333,0.48229008348264657,1.3258226343578399,0.38911290504859075,0.5552410324849885,-1.113214333902142,1.601900234464146,0.8465429410097408,-0.02929303998629881,1.4651861522637595,1.6043335311238451,1.1861501805532806,2.288301812396918,-0.24144017822599984,1.074119518410007,0.14898849148633259,-0.21959247846775123,-0.4842991280081334,-0.5980875083709224,-0.6965258592933425,0.3752982937419125,-0.7405377346691557,1.4404124597838097,-2.458134592213451,-0.47260729864100204,0.003728348811584746,1.2722021246585768,0.3422839657249093,-1.591342881881602,-1.029037761921719,-0.16164559078402468,-0.46780869601705866,-0.20909695044526982,-0.15882282057795602,-0.33284057418607227,1.0513284800699878,-0.29257393956132854,0.41951762976242507,-1.5772488030443022,-0.0020039985250401744,-0.4764832163085147,-1.360639971697527,-0.7690296609146785,0.7584178969102826,-0.4513941465121298,0.2733591602541416,-0.4312651269411663,-1.3505952616061818,1.3718235501994085,-0.5501653282490452,0.4283274396211519,0.14583143659223802,1.0987555962936866,0.8624745086082322,0.5191588818768138,1.3848027984846778,0.6308443959533383,-0.8457552243986087,-0.23763820875389796,0.19990236397564415,-1.0157103003006478,-0.12688143526493068,-0.5796559515504119,-1.33437379644634,1.373035470199231,-0.09271868702696864,-0.108021289348484,0.2737362662435419,0.4153984048634312,-0.7277323409497012,0.12723409734090813,-1.7216795181560658,0.404075271990034,0.4813947761270504,-0.038503348254368845,-2.273437715572669,-0.7087437240167911,1.1425153969404258,-0.7206530960574146,-1.3195043732791696,-1.1427367809772713,0.17430027676471116],\"xaxis\":\"x4\",\"y\":[0.004623521176124493,0.16281569506746615,1.4224425740072002,1.0465883726312297,1.1842576898475108,-0.9430017076288162,-0.6085150350497329,0.8327710604567566,0.7349610260402549,-0.2490841883443285,0.2219721971076617,-1.2381344162131944,0.2422425588075395,0.6651871185074474,0.08648920725692612,1.0069096722828492,0.5135885685395674,1.2510550806883736,-1.0764907866006002,1.5131900701575884,-0.21516214636280803,-0.9908219512508374,-0.48304635726610295,-0.3309062206065575,-0.5997402907722839,-0.2226520133817669,-0.09223681807908718,-0.9320599965705885,-0.6146119575534867,-1.8405985217209972,-0.07196636464122422,-1.1917272842793725,-0.1212696899713353,0.41431577966805777,1.1104672706779055,-0.9576385942121362,-0.06294522738310888,-0.207259397445168,-1.0449588125891485,0.7724106256129741,0.09848545584616183,-1.855603203676661,-0.19908444045357243,0.8807303289230828,-0.6436409911582044,-1.2394950322721574,-0.5333903959015579,0.08113009265143066,0.3121856933497823,-1.6231237399849323,0.4262435294386619,-0.5754254419012534,1.472988451795054,-0.48801630030810406,0.31591838578850046,-0.20911915762697417,0.513052823155541,-0.894640737393719,0.11303368243634235,0.08126390492515637,0.8265265186825116,1.5199902351604946,0.20409263911347916,-0.549468299736583,1.6351857717316323,-1.3272902155743422,0.3882066558678317,0.3584136011973048,2.315912702942067,1.104337817545148,0.33035701635016934,-1.2452283168205998,-0.5958689580863932,-0.06441653627456218,0.5647656230700507,0.9987758735688422,-0.141260329807457,-0.5973353039913025,0.4786330161546429,0.5501368588768211,0.8511598466974138,0.3742405334903403,-0.30177615255004636,1.7609112031453364,-0.24623366538207506,-0.014729716842070764,-2.121790882536806,-1.3267770846391103,-0.8570527379474144,-0.24849451967740438,-0.22805041501320314,0.527751794561854,1.3824145693759025,0.748002990817415,-1.216462277265814,-0.590361800281665,-1.3125371550384277,0.6182744698313806,0.05728572122844015,1.4364291765621007],\"yaxis\":\"y4\",\"type\":\"scatter\"},{\"line\":{\"color\":\"rgba(128, 128, 128, 1.0)\",\"dash\":\"solid\",\"shape\":\"linear\",\"width\":1.3},\"marker\":{\"size\":2,\"symbol\":\"circle\"},\"mode\":\"markers\",\"name\":\"B\",\"text\":\"\",\"x\":[0.004623521176124493,0.16281569506746615,1.4224425740072002,1.0465883726312297,1.1842576898475108,-0.9430017076288162,-0.6085150350497329,0.8327710604567566,0.7349610260402549,-0.2490841883443285,0.2219721971076617,-1.2381344162131944,0.2422425588075395,0.6651871185074474,0.08648920725692612,1.0069096722828492,0.5135885685395674,1.2510550806883736,-1.0764907866006002,1.5131900701575884,-0.21516214636280803,-0.9908219512508374,-0.48304635726610295,-0.3309062206065575,-0.5997402907722839,-0.2226520133817669,-0.09223681807908718,-0.9320599965705885,-0.6146119575534867,-1.8405985217209972,-0.07196636464122422,-1.1917272842793725,-0.1212696899713353,0.41431577966805777,1.1104672706779055,-0.9576385942121362,-0.06294522738310888,-0.207259397445168,-1.0449588125891485,0.7724106256129741,0.09848545584616183,-1.855603203676661,-0.19908444045357243,0.8807303289230828,-0.6436409911582044,-1.2394950322721574,-0.5333903959015579,0.08113009265143066,0.3121856933497823,-1.6231237399849323,0.4262435294386619,-0.5754254419012534,1.472988451795054,-0.48801630030810406,0.31591838578850046,-0.20911915762697417,0.513052823155541,-0.894640737393719,0.11303368243634235,0.08126390492515637,0.8265265186825116,1.5199902351604946,0.20409263911347916,-0.549468299736583,1.6351857717316323,-1.3272902155743422,0.3882066558678317,0.3584136011973048,2.315912702942067,1.104337817545148,0.33035701635016934,-1.2452283168205998,-0.5958689580863932,-0.06441653627456218,0.5647656230700507,0.9987758735688422,-0.141260329807457,-0.5973353039913025,0.4786330161546429,0.5501368588768211,0.8511598466974138,0.3742405334903403,-0.30177615255004636,1.7609112031453364,-0.24623366538207506,-0.014729716842070764,-2.121790882536806,-1.3267770846391103,-0.8570527379474144,-0.24849451967740438,-0.22805041501320314,0.527751794561854,1.3824145693759025,0.748002990817415,-1.216462277265814,-0.590361800281665,-1.3125371550384277,0.6182744698313806,0.05728572122844015,1.4364291765621007],\"xaxis\":\"x5\",\"y\":[-1.1685508459194196,-1.5678017169000267,0.7870096262915491,-0.8629018468596408,-0.4857063865991016,-1.2626627412225944,1.2373205481923955,-0.48136229667102254,-0.4841128843538882,2.2915504567809273,-1.8664420703542837,-0.3822593347390874,-1.5464233121595794,0.8960317044216001,1.3738712750986215,1.3667016898736501,0.5931001857431492,-0.13608533179952403,-0.5226691150373612,0.9141181315239653,0.49588820121766547,0.7033452801787391,2.4161083229749805,0.9857082531792529,-0.5962036008775079,-2.3054551237669423,0.4595523549181218,2.1584557914506686,-0.21623673210559943,1.0268827658340507,-0.187361346602335,0.5586823673587367,-0.1425368574028095,0.47553084882931335,-0.8580278596709993,-1.3840740509849458,1.9078167471910268,-1.9298295674593051,0.4677649023118192,-0.6407645824728198,-0.20067105431129048,0.4535733758491212,-1.1594832090728682,-0.09834601975589295,-1.6057415274987874,-0.02923005850628262,1.0665687194053277,0.031731913806326804,1.6100699600708939,1.170010139117584,-1.3106350714837576,0.1503924243963787,-1.3108968820881353,-0.9241700441770824,0.5538224449867233,0.3999246772427607,0.24728761416851122,1.0347732797668334,0.6481309846764085,0.5225298542908703,-1.062807219692614,0.5389291711078632,0.3170946057858498,0.3113248214184092,-0.8779209994399148,-1.3103464725219607,-0.65146827356122,0.7838595330287975,-2.46586859817618,0.876539850402602,-0.838483575748058,3.023749502888475,0.4886405578618137,0.260885477893154,1.0195973638202933,0.8338732369478434,0.8553153295633149,-0.4904208832131635,0.3099140989134931,0.4674350174993666,1.6269411857138247,0.8377177915316513,-1.6344733353409773,0.5492777836028785,0.6287451281691209,-0.5570959640127177,2.1634854232289333,1.0158940604922302,-1.1812765625882486,0.8490929033497668,-0.2777383095778188,-1.539004318952743,0.38280204428729375,1.3083873098925314,0.8264927471174891,0.4456229526669064,-0.07712727689375366,1.3867079546845034,-0.2520138485006433,1.5057440934761228],\"yaxis\":\"y5\",\"type\":\"scatter\"},{\"histfunc\":\"count\",\"histnorm\":\"\",\"marker\":{\"color\":\"rgba(55, 128, 191, 1.0)\",\"line\":{\"color\":\"#4D5663\",\"width\":1.3}},\"name\":\"B\",\"nbinsx\":10,\"opacity\":0.8,\"orientation\":\"v\",\"x\":[-1.1685508459194196,-1.5678017169000267,0.7870096262915491,-0.8629018468596408,-0.4857063865991016,-1.2626627412225944,1.2373205481923955,-0.48136229667102254,-0.4841128843538882,2.2915504567809273,-1.8664420703542837,-0.3822593347390874,-1.5464233121595794,0.8960317044216001,1.3738712750986215,1.3667016898736501,0.5931001857431492,-0.13608533179952403,-0.5226691150373612,0.9141181315239653,0.49588820121766547,0.7033452801787391,2.4161083229749805,0.9857082531792529,-0.5962036008775079,-2.3054551237669423,0.4595523549181218,2.1584557914506686,-0.21623673210559943,1.0268827658340507,-0.187361346602335,0.5586823673587367,-0.1425368574028095,0.47553084882931335,-0.8580278596709993,-1.3840740509849458,1.9078167471910268,-1.9298295674593051,0.4677649023118192,-0.6407645824728198,-0.20067105431129048,0.4535733758491212,-1.1594832090728682,-0.09834601975589295,-1.6057415274987874,-0.02923005850628262,1.0665687194053277,0.031731913806326804,1.6100699600708939,1.170010139117584,-1.3106350714837576,0.1503924243963787,-1.3108968820881353,-0.9241700441770824,0.5538224449867233,0.3999246772427607,0.24728761416851122,1.0347732797668334,0.6481309846764085,0.5225298542908703,-1.062807219692614,0.5389291711078632,0.3170946057858498,0.3113248214184092,-0.8779209994399148,-1.3103464725219607,-0.65146827356122,0.7838595330287975,-2.46586859817618,0.876539850402602,-0.838483575748058,3.023749502888475,0.4886405578618137,0.260885477893154,1.0195973638202933,0.8338732369478434,0.8553153295633149,-0.4904208832131635,0.3099140989134931,0.4674350174993666,1.6269411857138247,0.8377177915316513,-1.6344733353409773,0.5492777836028785,0.6287451281691209,-0.5570959640127177,2.1634854232289333,1.0158940604922302,-1.1812765625882486,0.8490929033497668,-0.2777383095778188,-1.539004318952743,0.38280204428729375,1.3083873098925314,0.8264927471174891,0.4456229526669064,-0.07712727689375366,1.3867079546845034,-0.2520138485006433,1.5057440934761228],\"xaxis\":\"x6\",\"yaxis\":\"y6\",\"type\":\"histogram\"},{\"line\":{\"color\":\"rgba(128, 128, 128, 1.0)\",\"dash\":\"solid\",\"shape\":\"linear\",\"width\":1.3},\"marker\":{\"size\":2,\"symbol\":\"circle\"},\"mode\":\"markers\",\"name\":\"B\",\"text\":\"\",\"x\":[1.8775853248219743,1.1634138874701658,0.4461462012951521,-0.630624769338649,2.1078034957109053,-0.9482366110800454,2.3374606688456554,-0.679065383221523,0.38377185432970784,1.5537342535800607,-0.30904709094909677,0.6620405516788332,0.3587890963955483,-0.9621814942267252,-1.4076529625364693,0.8406620342661275,-0.19167605225737872,0.07085336292954711,-0.41536402355468804,-0.6526583034337081,0.8953472080675058,-0.7927090917157454,-0.18504205933124068,-2.1844554211545013,-0.34928948363733436,0.9824393337572949,-0.18103284009489634,1.2235484395296887,0.8925359803657423,-0.46265299214822686,0.5316146639769636,1.1141688952959876,-0.8211688679945353,-0.4378686464586095,-1.5813213284574152,-0.1835676074821394,0.3635537816869505,0.292409384725485,-1.9292642402610856,-0.02109065033916954,-0.6500499929198842,-1.0706479780393594,1.4810807680195102,1.630294092771878,1.437547802195289,0.1612706125131396,1.0347881245359465,-0.5153424725683133,-1.853413964971279,-0.10138460345739685,-0.11374182274874095,0.7199491131082625,-0.8079590917446239,1.6050403523925685,1.3705705373156225,-3.7000867425385264,-0.7990098105675697,-0.78798107887203,0.043511496311365645,1.3127181160199133,0.5361353718531487,-0.10185322125127683,-0.2738025230244527,1.0602797063746061,-0.4626325274765146,0.18241675634136165,-0.06547590029811755,-0.8001702022637728,-1.1856462858028625,-0.6801324022438168,-2.701244480900419,-0.3740019761449056,0.6291185609341405,-1.3562555539381782,-0.1323317334140988,1.1587415899315627,1.3136982038489562,0.056299150576219766,0.2107247171069781,-0.23792370643470714,1.0088798622079589,0.7617470824000864,0.021279115740499545,-0.5371997831801028,0.43251449785168766,-0.05054466631950313,1.9377628526721993,3.9430366917901165,1.770493094498392,0.4878354231461598,-0.7745409475417855,-1.0331047085352125,0.3705350822079853,0.17892303678959548,0.7634234146163706,0.07312674885361234,0.8505793751346387,0.5407389794242599,-0.32128688659668025,0.44711829829526967],\"xaxis\":\"x7\",\"y\":[-1.1685508459194196,-1.5678017169000267,0.7870096262915491,-0.8629018468596408,-0.4857063865991016,-1.2626627412225944,1.2373205481923955,-0.48136229667102254,-0.4841128843538882,2.2915504567809273,-1.8664420703542837,-0.3822593347390874,-1.5464233121595794,0.8960317044216001,1.3738712750986215,1.3667016898736501,0.5931001857431492,-0.13608533179952403,-0.5226691150373612,0.9141181315239653,0.49588820121766547,0.7033452801787391,2.4161083229749805,0.9857082531792529,-0.5962036008775079,-2.3054551237669423,0.4595523549181218,2.1584557914506686,-0.21623673210559943,1.0268827658340507,-0.187361346602335,0.5586823673587367,-0.1425368574028095,0.47553084882931335,-0.8580278596709993,-1.3840740509849458,1.9078167471910268,-1.9298295674593051,0.4677649023118192,-0.6407645824728198,-0.20067105431129048,0.4535733758491212,-1.1594832090728682,-0.09834601975589295,-1.6057415274987874,-0.02923005850628262,1.0665687194053277,0.031731913806326804,1.6100699600708939,1.170010139117584,-1.3106350714837576,0.1503924243963787,-1.3108968820881353,-0.9241700441770824,0.5538224449867233,0.3999246772427607,0.24728761416851122,1.0347732797668334,0.6481309846764085,0.5225298542908703,-1.062807219692614,0.5389291711078632,0.3170946057858498,0.3113248214184092,-0.8779209994399148,-1.3103464725219607,-0.65146827356122,0.7838595330287975,-2.46586859817618,0.876539850402602,-0.838483575748058,3.023749502888475,0.4886405578618137,0.260885477893154,1.0195973638202933,0.8338732369478434,0.8553153295633149,-0.4904208832131635,0.3099140989134931,0.4674350174993666,1.6269411857138247,0.8377177915316513,-1.6344733353409773,0.5492777836028785,0.6287451281691209,-0.5570959640127177,2.1634854232289333,1.0158940604922302,-1.1812765625882486,0.8490929033497668,-0.2777383095778188,-1.539004318952743,0.38280204428729375,1.3083873098925314,0.8264927471174891,0.4456229526669064,-0.07712727689375366,1.3867079546845034,-0.2520138485006433,1.5057440934761228],\"yaxis\":\"y7\",\"type\":\"scatter\"},{\"line\":{\"color\":\"rgba(128, 128, 128, 1.0)\",\"dash\":\"solid\",\"shape\":\"linear\",\"width\":1.3},\"marker\":{\"size\":2,\"symbol\":\"circle\"},\"mode\":\"markers\",\"name\":\"B\",\"text\":\"\",\"x\":[0.017994340381227145,-0.0653382085123521,0.6209264594991536,2.2826379372455197,0.7791573041836941,0.5072557716396099,0.2755242714684649,-0.6258208695941796,0.4693555786538185,-0.7208591531367468,0.42462242625489244,-1.9130505336414327,-0.8005255136044629,-0.11014504329317058,-1.5786485033992341,-1.3584660670467765,0.8554119234219554,0.6621662696420444,1.057233165320333,0.48229008348264657,1.3258226343578399,0.38911290504859075,0.5552410324849885,-1.113214333902142,1.601900234464146,0.8465429410097408,-0.02929303998629881,1.4651861522637595,1.6043335311238451,1.1861501805532806,2.288301812396918,-0.24144017822599984,1.074119518410007,0.14898849148633259,-0.21959247846775123,-0.4842991280081334,-0.5980875083709224,-0.6965258592933425,0.3752982937419125,-0.7405377346691557,1.4404124597838097,-2.458134592213451,-0.47260729864100204,0.003728348811584746,1.2722021246585768,0.3422839657249093,-1.591342881881602,-1.029037761921719,-0.16164559078402468,-0.46780869601705866,-0.20909695044526982,-0.15882282057795602,-0.33284057418607227,1.0513284800699878,-0.29257393956132854,0.41951762976242507,-1.5772488030443022,-0.0020039985250401744,-0.4764832163085147,-1.360639971697527,-0.7690296609146785,0.7584178969102826,-0.4513941465121298,0.2733591602541416,-0.4312651269411663,-1.3505952616061818,1.3718235501994085,-0.5501653282490452,0.4283274396211519,0.14583143659223802,1.0987555962936866,0.8624745086082322,0.5191588818768138,1.3848027984846778,0.6308443959533383,-0.8457552243986087,-0.23763820875389796,0.19990236397564415,-1.0157103003006478,-0.12688143526493068,-0.5796559515504119,-1.33437379644634,1.373035470199231,-0.09271868702696864,-0.108021289348484,0.2737362662435419,0.4153984048634312,-0.7277323409497012,0.12723409734090813,-1.7216795181560658,0.404075271990034,0.4813947761270504,-0.038503348254368845,-2.273437715572669,-0.7087437240167911,1.1425153969404258,-0.7206530960574146,-1.3195043732791696,-1.1427367809772713,0.17430027676471116],\"xaxis\":\"x8\",\"y\":[-1.1685508459194196,-1.5678017169000267,0.7870096262915491,-0.8629018468596408,-0.4857063865991016,-1.2626627412225944,1.2373205481923955,-0.48136229667102254,-0.4841128843538882,2.2915504567809273,-1.8664420703542837,-0.3822593347390874,-1.5464233121595794,0.8960317044216001,1.3738712750986215,1.3667016898736501,0.5931001857431492,-0.13608533179952403,-0.5226691150373612,0.9141181315239653,0.49588820121766547,0.7033452801787391,2.4161083229749805,0.9857082531792529,-0.5962036008775079,-2.3054551237669423,0.4595523549181218,2.1584557914506686,-0.21623673210559943,1.0268827658340507,-0.187361346602335,0.5586823673587367,-0.1425368574028095,0.47553084882931335,-0.8580278596709993,-1.3840740509849458,1.9078167471910268,-1.9298295674593051,0.4677649023118192,-0.6407645824728198,-0.20067105431129048,0.4535733758491212,-1.1594832090728682,-0.09834601975589295,-1.6057415274987874,-0.02923005850628262,1.0665687194053277,0.031731913806326804,1.6100699600708939,1.170010139117584,-1.3106350714837576,0.1503924243963787,-1.3108968820881353,-0.9241700441770824,0.5538224449867233,0.3999246772427607,0.24728761416851122,1.0347732797668334,0.6481309846764085,0.5225298542908703,-1.062807219692614,0.5389291711078632,0.3170946057858498,0.3113248214184092,-0.8779209994399148,-1.3103464725219607,-0.65146827356122,0.7838595330287975,-2.46586859817618,0.876539850402602,-0.838483575748058,3.023749502888475,0.4886405578618137,0.260885477893154,1.0195973638202933,0.8338732369478434,0.8553153295633149,-0.4904208832131635,0.3099140989134931,0.4674350174993666,1.6269411857138247,0.8377177915316513,-1.6344733353409773,0.5492777836028785,0.6287451281691209,-0.5570959640127177,2.1634854232289333,1.0158940604922302,-1.1812765625882486,0.8490929033497668,-0.2777383095778188,-1.539004318952743,0.38280204428729375,1.3083873098925314,0.8264927471174891,0.4456229526669064,-0.07712727689375366,1.3867079546845034,-0.2520138485006433,1.5057440934761228],\"yaxis\":\"y8\",\"type\":\"scatter\"},{\"line\":{\"color\":\"rgba(128, 128, 128, 1.0)\",\"dash\":\"solid\",\"shape\":\"linear\",\"width\":1.3},\"marker\":{\"size\":2,\"symbol\":\"circle\"},\"mode\":\"markers\",\"name\":\"C\",\"text\":\"\",\"x\":[0.004623521176124493,0.16281569506746615,1.4224425740072002,1.0465883726312297,1.1842576898475108,-0.9430017076288162,-0.6085150350497329,0.8327710604567566,0.7349610260402549,-0.2490841883443285,0.2219721971076617,-1.2381344162131944,0.2422425588075395,0.6651871185074474,0.08648920725692612,1.0069096722828492,0.5135885685395674,1.2510550806883736,-1.0764907866006002,1.5131900701575884,-0.21516214636280803,-0.9908219512508374,-0.48304635726610295,-0.3309062206065575,-0.5997402907722839,-0.2226520133817669,-0.09223681807908718,-0.9320599965705885,-0.6146119575534867,-1.8405985217209972,-0.07196636464122422,-1.1917272842793725,-0.1212696899713353,0.41431577966805777,1.1104672706779055,-0.9576385942121362,-0.06294522738310888,-0.207259397445168,-1.0449588125891485,0.7724106256129741,0.09848545584616183,-1.855603203676661,-0.19908444045357243,0.8807303289230828,-0.6436409911582044,-1.2394950322721574,-0.5333903959015579,0.08113009265143066,0.3121856933497823,-1.6231237399849323,0.4262435294386619,-0.5754254419012534,1.472988451795054,-0.48801630030810406,0.31591838578850046,-0.20911915762697417,0.513052823155541,-0.894640737393719,0.11303368243634235,0.08126390492515637,0.8265265186825116,1.5199902351604946,0.20409263911347916,-0.549468299736583,1.6351857717316323,-1.3272902155743422,0.3882066558678317,0.3584136011973048,2.315912702942067,1.104337817545148,0.33035701635016934,-1.2452283168205998,-0.5958689580863932,-0.06441653627456218,0.5647656230700507,0.9987758735688422,-0.141260329807457,-0.5973353039913025,0.4786330161546429,0.5501368588768211,0.8511598466974138,0.3742405334903403,-0.30177615255004636,1.7609112031453364,-0.24623366538207506,-0.014729716842070764,-2.121790882536806,-1.3267770846391103,-0.8570527379474144,-0.24849451967740438,-0.22805041501320314,0.527751794561854,1.3824145693759025,0.748002990817415,-1.216462277265814,-0.590361800281665,-1.3125371550384277,0.6182744698313806,0.05728572122844015,1.4364291765621007],\"xaxis\":\"x9\",\"y\":[1.8775853248219743,1.1634138874701658,0.4461462012951521,-0.630624769338649,2.1078034957109053,-0.9482366110800454,2.3374606688456554,-0.679065383221523,0.38377185432970784,1.5537342535800607,-0.30904709094909677,0.6620405516788332,0.3587890963955483,-0.9621814942267252,-1.4076529625364693,0.8406620342661275,-0.19167605225737872,0.07085336292954711,-0.41536402355468804,-0.6526583034337081,0.8953472080675058,-0.7927090917157454,-0.18504205933124068,-2.1844554211545013,-0.34928948363733436,0.9824393337572949,-0.18103284009489634,1.2235484395296887,0.8925359803657423,-0.46265299214822686,0.5316146639769636,1.1141688952959876,-0.8211688679945353,-0.4378686464586095,-1.5813213284574152,-0.1835676074821394,0.3635537816869505,0.292409384725485,-1.9292642402610856,-0.02109065033916954,-0.6500499929198842,-1.0706479780393594,1.4810807680195102,1.630294092771878,1.437547802195289,0.1612706125131396,1.0347881245359465,-0.5153424725683133,-1.853413964971279,-0.10138460345739685,-0.11374182274874095,0.7199491131082625,-0.8079590917446239,1.6050403523925685,1.3705705373156225,-3.7000867425385264,-0.7990098105675697,-0.78798107887203,0.043511496311365645,1.3127181160199133,0.5361353718531487,-0.10185322125127683,-0.2738025230244527,1.0602797063746061,-0.4626325274765146,0.18241675634136165,-0.06547590029811755,-0.8001702022637728,-1.1856462858028625,-0.6801324022438168,-2.701244480900419,-0.3740019761449056,0.6291185609341405,-1.3562555539381782,-0.1323317334140988,1.1587415899315627,1.3136982038489562,0.056299150576219766,0.2107247171069781,-0.23792370643470714,1.0088798622079589,0.7617470824000864,0.021279115740499545,-0.5371997831801028,0.43251449785168766,-0.05054466631950313,1.9377628526721993,3.9430366917901165,1.770493094498392,0.4878354231461598,-0.7745409475417855,-1.0331047085352125,0.3705350822079853,0.17892303678959548,0.7634234146163706,0.07312674885361234,0.8505793751346387,0.5407389794242599,-0.32128688659668025,0.44711829829526967],\"yaxis\":\"y9\",\"type\":\"scatter\"},{\"line\":{\"color\":\"rgba(128, 128, 128, 1.0)\",\"dash\":\"solid\",\"shape\":\"linear\",\"width\":1.3},\"marker\":{\"size\":2,\"symbol\":\"circle\"},\"mode\":\"markers\",\"name\":\"C\",\"text\":\"\",\"x\":[-1.1685508459194196,-1.5678017169000267,0.7870096262915491,-0.8629018468596408,-0.4857063865991016,-1.2626627412225944,1.2373205481923955,-0.48136229667102254,-0.4841128843538882,2.2915504567809273,-1.8664420703542837,-0.3822593347390874,-1.5464233121595794,0.8960317044216001,1.3738712750986215,1.3667016898736501,0.5931001857431492,-0.13608533179952403,-0.5226691150373612,0.9141181315239653,0.49588820121766547,0.7033452801787391,2.4161083229749805,0.9857082531792529,-0.5962036008775079,-2.3054551237669423,0.4595523549181218,2.1584557914506686,-0.21623673210559943,1.0268827658340507,-0.187361346602335,0.5586823673587367,-0.1425368574028095,0.47553084882931335,-0.8580278596709993,-1.3840740509849458,1.9078167471910268,-1.9298295674593051,0.4677649023118192,-0.6407645824728198,-0.20067105431129048,0.4535733758491212,-1.1594832090728682,-0.09834601975589295,-1.6057415274987874,-0.02923005850628262,1.0665687194053277,0.031731913806326804,1.6100699600708939,1.170010139117584,-1.3106350714837576,0.1503924243963787,-1.3108968820881353,-0.9241700441770824,0.5538224449867233,0.3999246772427607,0.24728761416851122,1.0347732797668334,0.6481309846764085,0.5225298542908703,-1.062807219692614,0.5389291711078632,0.3170946057858498,0.3113248214184092,-0.8779209994399148,-1.3103464725219607,-0.65146827356122,0.7838595330287975,-2.46586859817618,0.876539850402602,-0.838483575748058,3.023749502888475,0.4886405578618137,0.260885477893154,1.0195973638202933,0.8338732369478434,0.8553153295633149,-0.4904208832131635,0.3099140989134931,0.4674350174993666,1.6269411857138247,0.8377177915316513,-1.6344733353409773,0.5492777836028785,0.6287451281691209,-0.5570959640127177,2.1634854232289333,1.0158940604922302,-1.1812765625882486,0.8490929033497668,-0.2777383095778188,-1.539004318952743,0.38280204428729375,1.3083873098925314,0.8264927471174891,0.4456229526669064,-0.07712727689375366,1.3867079546845034,-0.2520138485006433,1.5057440934761228],\"xaxis\":\"x10\",\"y\":[1.8775853248219743,1.1634138874701658,0.4461462012951521,-0.630624769338649,2.1078034957109053,-0.9482366110800454,2.3374606688456554,-0.679065383221523,0.38377185432970784,1.5537342535800607,-0.30904709094909677,0.6620405516788332,0.3587890963955483,-0.9621814942267252,-1.4076529625364693,0.8406620342661275,-0.19167605225737872,0.07085336292954711,-0.41536402355468804,-0.6526583034337081,0.8953472080675058,-0.7927090917157454,-0.18504205933124068,-2.1844554211545013,-0.34928948363733436,0.9824393337572949,-0.18103284009489634,1.2235484395296887,0.8925359803657423,-0.46265299214822686,0.5316146639769636,1.1141688952959876,-0.8211688679945353,-0.4378686464586095,-1.5813213284574152,-0.1835676074821394,0.3635537816869505,0.292409384725485,-1.9292642402610856,-0.02109065033916954,-0.6500499929198842,-1.0706479780393594,1.4810807680195102,1.630294092771878,1.437547802195289,0.1612706125131396,1.0347881245359465,-0.5153424725683133,-1.853413964971279,-0.10138460345739685,-0.11374182274874095,0.7199491131082625,-0.8079590917446239,1.6050403523925685,1.3705705373156225,-3.7000867425385264,-0.7990098105675697,-0.78798107887203,0.043511496311365645,1.3127181160199133,0.5361353718531487,-0.10185322125127683,-0.2738025230244527,1.0602797063746061,-0.4626325274765146,0.18241675634136165,-0.06547590029811755,-0.8001702022637728,-1.1856462858028625,-0.6801324022438168,-2.701244480900419,-0.3740019761449056,0.6291185609341405,-1.3562555539381782,-0.1323317334140988,1.1587415899315627,1.3136982038489562,0.056299150576219766,0.2107247171069781,-0.23792370643470714,1.0088798622079589,0.7617470824000864,0.021279115740499545,-0.5371997831801028,0.43251449785168766,-0.05054466631950313,1.9377628526721993,3.9430366917901165,1.770493094498392,0.4878354231461598,-0.7745409475417855,-1.0331047085352125,0.3705350822079853,0.17892303678959548,0.7634234146163706,0.07312674885361234,0.8505793751346387,0.5407389794242599,-0.32128688659668025,0.44711829829526967],\"yaxis\":\"y10\",\"type\":\"scatter\"},{\"histfunc\":\"count\",\"histnorm\":\"\",\"marker\":{\"color\":\"rgba(50, 171, 96, 1.0)\",\"line\":{\"color\":\"#4D5663\",\"width\":1.3}},\"name\":\"C\",\"nbinsx\":10,\"opacity\":0.8,\"orientation\":\"v\",\"x\":[1.8775853248219743,1.1634138874701658,0.4461462012951521,-0.630624769338649,2.1078034957109053,-0.9482366110800454,2.3374606688456554,-0.679065383221523,0.38377185432970784,1.5537342535800607,-0.30904709094909677,0.6620405516788332,0.3587890963955483,-0.9621814942267252,-1.4076529625364693,0.8406620342661275,-0.19167605225737872,0.07085336292954711,-0.41536402355468804,-0.6526583034337081,0.8953472080675058,-0.7927090917157454,-0.18504205933124068,-2.1844554211545013,-0.34928948363733436,0.9824393337572949,-0.18103284009489634,1.2235484395296887,0.8925359803657423,-0.46265299214822686,0.5316146639769636,1.1141688952959876,-0.8211688679945353,-0.4378686464586095,-1.5813213284574152,-0.1835676074821394,0.3635537816869505,0.292409384725485,-1.9292642402610856,-0.02109065033916954,-0.6500499929198842,-1.0706479780393594,1.4810807680195102,1.630294092771878,1.437547802195289,0.1612706125131396,1.0347881245359465,-0.5153424725683133,-1.853413964971279,-0.10138460345739685,-0.11374182274874095,0.7199491131082625,-0.8079590917446239,1.6050403523925685,1.3705705373156225,-3.7000867425385264,-0.7990098105675697,-0.78798107887203,0.043511496311365645,1.3127181160199133,0.5361353718531487,-0.10185322125127683,-0.2738025230244527,1.0602797063746061,-0.4626325274765146,0.18241675634136165,-0.06547590029811755,-0.8001702022637728,-1.1856462858028625,-0.6801324022438168,-2.701244480900419,-0.3740019761449056,0.6291185609341405,-1.3562555539381782,-0.1323317334140988,1.1587415899315627,1.3136982038489562,0.056299150576219766,0.2107247171069781,-0.23792370643470714,1.0088798622079589,0.7617470824000864,0.021279115740499545,-0.5371997831801028,0.43251449785168766,-0.05054466631950313,1.9377628526721993,3.9430366917901165,1.770493094498392,0.4878354231461598,-0.7745409475417855,-1.0331047085352125,0.3705350822079853,0.17892303678959548,0.7634234146163706,0.07312674885361234,0.8505793751346387,0.5407389794242599,-0.32128688659668025,0.44711829829526967],\"xaxis\":\"x11\",\"yaxis\":\"y11\",\"type\":\"histogram\"},{\"line\":{\"color\":\"rgba(128, 128, 128, 1.0)\",\"dash\":\"solid\",\"shape\":\"linear\",\"width\":1.3},\"marker\":{\"size\":2,\"symbol\":\"circle\"},\"mode\":\"markers\",\"name\":\"C\",\"text\":\"\",\"x\":[0.017994340381227145,-0.0653382085123521,0.6209264594991536,2.2826379372455197,0.7791573041836941,0.5072557716396099,0.2755242714684649,-0.6258208695941796,0.4693555786538185,-0.7208591531367468,0.42462242625489244,-1.9130505336414327,-0.8005255136044629,-0.11014504329317058,-1.5786485033992341,-1.3584660670467765,0.8554119234219554,0.6621662696420444,1.057233165320333,0.48229008348264657,1.3258226343578399,0.38911290504859075,0.5552410324849885,-1.113214333902142,1.601900234464146,0.8465429410097408,-0.02929303998629881,1.4651861522637595,1.6043335311238451,1.1861501805532806,2.288301812396918,-0.24144017822599984,1.074119518410007,0.14898849148633259,-0.21959247846775123,-0.4842991280081334,-0.5980875083709224,-0.6965258592933425,0.3752982937419125,-0.7405377346691557,1.4404124597838097,-2.458134592213451,-0.47260729864100204,0.003728348811584746,1.2722021246585768,0.3422839657249093,-1.591342881881602,-1.029037761921719,-0.16164559078402468,-0.46780869601705866,-0.20909695044526982,-0.15882282057795602,-0.33284057418607227,1.0513284800699878,-0.29257393956132854,0.41951762976242507,-1.5772488030443022,-0.0020039985250401744,-0.4764832163085147,-1.360639971697527,-0.7690296609146785,0.7584178969102826,-0.4513941465121298,0.2733591602541416,-0.4312651269411663,-1.3505952616061818,1.3718235501994085,-0.5501653282490452,0.4283274396211519,0.14583143659223802,1.0987555962936866,0.8624745086082322,0.5191588818768138,1.3848027984846778,0.6308443959533383,-0.8457552243986087,-0.23763820875389796,0.19990236397564415,-1.0157103003006478,-0.12688143526493068,-0.5796559515504119,-1.33437379644634,1.373035470199231,-0.09271868702696864,-0.108021289348484,0.2737362662435419,0.4153984048634312,-0.7277323409497012,0.12723409734090813,-1.7216795181560658,0.404075271990034,0.4813947761270504,-0.038503348254368845,-2.273437715572669,-0.7087437240167911,1.1425153969404258,-0.7206530960574146,-1.3195043732791696,-1.1427367809772713,0.17430027676471116],\"xaxis\":\"x12\",\"y\":[1.8775853248219743,1.1634138874701658,0.4461462012951521,-0.630624769338649,2.1078034957109053,-0.9482366110800454,2.3374606688456554,-0.679065383221523,0.38377185432970784,1.5537342535800607,-0.30904709094909677,0.6620405516788332,0.3587890963955483,-0.9621814942267252,-1.4076529625364693,0.8406620342661275,-0.19167605225737872,0.07085336292954711,-0.41536402355468804,-0.6526583034337081,0.8953472080675058,-0.7927090917157454,-0.18504205933124068,-2.1844554211545013,-0.34928948363733436,0.9824393337572949,-0.18103284009489634,1.2235484395296887,0.8925359803657423,-0.46265299214822686,0.5316146639769636,1.1141688952959876,-0.8211688679945353,-0.4378686464586095,-1.5813213284574152,-0.1835676074821394,0.3635537816869505,0.292409384725485,-1.9292642402610856,-0.02109065033916954,-0.6500499929198842,-1.0706479780393594,1.4810807680195102,1.630294092771878,1.437547802195289,0.1612706125131396,1.0347881245359465,-0.5153424725683133,-1.853413964971279,-0.10138460345739685,-0.11374182274874095,0.7199491131082625,-0.8079590917446239,1.6050403523925685,1.3705705373156225,-3.7000867425385264,-0.7990098105675697,-0.78798107887203,0.043511496311365645,1.3127181160199133,0.5361353718531487,-0.10185322125127683,-0.2738025230244527,1.0602797063746061,-0.4626325274765146,0.18241675634136165,-0.06547590029811755,-0.8001702022637728,-1.1856462858028625,-0.6801324022438168,-2.701244480900419,-0.3740019761449056,0.6291185609341405,-1.3562555539381782,-0.1323317334140988,1.1587415899315627,1.3136982038489562,0.056299150576219766,0.2107247171069781,-0.23792370643470714,1.0088798622079589,0.7617470824000864,0.021279115740499545,-0.5371997831801028,0.43251449785168766,-0.05054466631950313,1.9377628526721993,3.9430366917901165,1.770493094498392,0.4878354231461598,-0.7745409475417855,-1.0331047085352125,0.3705350822079853,0.17892303678959548,0.7634234146163706,0.07312674885361234,0.8505793751346387,0.5407389794242599,-0.32128688659668025,0.44711829829526967],\"yaxis\":\"y12\",\"type\":\"scatter\"},{\"line\":{\"color\":\"rgba(128, 128, 128, 1.0)\",\"dash\":\"solid\",\"shape\":\"linear\",\"width\":1.3},\"marker\":{\"size\":2,\"symbol\":\"circle\"},\"mode\":\"markers\",\"name\":\"D\",\"text\":\"\",\"x\":[0.004623521176124493,0.16281569506746615,1.4224425740072002,1.0465883726312297,1.1842576898475108,-0.9430017076288162,-0.6085150350497329,0.8327710604567566,0.7349610260402549,-0.2490841883443285,0.2219721971076617,-1.2381344162131944,0.2422425588075395,0.6651871185074474,0.08648920725692612,1.0069096722828492,0.5135885685395674,1.2510550806883736,-1.0764907866006002,1.5131900701575884,-0.21516214636280803,-0.9908219512508374,-0.48304635726610295,-0.3309062206065575,-0.5997402907722839,-0.2226520133817669,-0.09223681807908718,-0.9320599965705885,-0.6146119575534867,-1.8405985217209972,-0.07196636464122422,-1.1917272842793725,-0.1212696899713353,0.41431577966805777,1.1104672706779055,-0.9576385942121362,-0.06294522738310888,-0.207259397445168,-1.0449588125891485,0.7724106256129741,0.09848545584616183,-1.855603203676661,-0.19908444045357243,0.8807303289230828,-0.6436409911582044,-1.2394950322721574,-0.5333903959015579,0.08113009265143066,0.3121856933497823,-1.6231237399849323,0.4262435294386619,-0.5754254419012534,1.472988451795054,-0.48801630030810406,0.31591838578850046,-0.20911915762697417,0.513052823155541,-0.894640737393719,0.11303368243634235,0.08126390492515637,0.8265265186825116,1.5199902351604946,0.20409263911347916,-0.549468299736583,1.6351857717316323,-1.3272902155743422,0.3882066558678317,0.3584136011973048,2.315912702942067,1.104337817545148,0.33035701635016934,-1.2452283168205998,-0.5958689580863932,-0.06441653627456218,0.5647656230700507,0.9987758735688422,-0.141260329807457,-0.5973353039913025,0.4786330161546429,0.5501368588768211,0.8511598466974138,0.3742405334903403,-0.30177615255004636,1.7609112031453364,-0.24623366538207506,-0.014729716842070764,-2.121790882536806,-1.3267770846391103,-0.8570527379474144,-0.24849451967740438,-0.22805041501320314,0.527751794561854,1.3824145693759025,0.748002990817415,-1.216462277265814,-0.590361800281665,-1.3125371550384277,0.6182744698313806,0.05728572122844015,1.4364291765621007],\"xaxis\":\"x13\",\"y\":[0.017994340381227145,-0.0653382085123521,0.6209264594991536,2.2826379372455197,0.7791573041836941,0.5072557716396099,0.2755242714684649,-0.6258208695941796,0.4693555786538185,-0.7208591531367468,0.42462242625489244,-1.9130505336414327,-0.8005255136044629,-0.11014504329317058,-1.5786485033992341,-1.3584660670467765,0.8554119234219554,0.6621662696420444,1.057233165320333,0.48229008348264657,1.3258226343578399,0.38911290504859075,0.5552410324849885,-1.113214333902142,1.601900234464146,0.8465429410097408,-0.02929303998629881,1.4651861522637595,1.6043335311238451,1.1861501805532806,2.288301812396918,-0.24144017822599984,1.074119518410007,0.14898849148633259,-0.21959247846775123,-0.4842991280081334,-0.5980875083709224,-0.6965258592933425,0.3752982937419125,-0.7405377346691557,1.4404124597838097,-2.458134592213451,-0.47260729864100204,0.003728348811584746,1.2722021246585768,0.3422839657249093,-1.591342881881602,-1.029037761921719,-0.16164559078402468,-0.46780869601705866,-0.20909695044526982,-0.15882282057795602,-0.33284057418607227,1.0513284800699878,-0.29257393956132854,0.41951762976242507,-1.5772488030443022,-0.0020039985250401744,-0.4764832163085147,-1.360639971697527,-0.7690296609146785,0.7584178969102826,-0.4513941465121298,0.2733591602541416,-0.4312651269411663,-1.3505952616061818,1.3718235501994085,-0.5501653282490452,0.4283274396211519,0.14583143659223802,1.0987555962936866,0.8624745086082322,0.5191588818768138,1.3848027984846778,0.6308443959533383,-0.8457552243986087,-0.23763820875389796,0.19990236397564415,-1.0157103003006478,-0.12688143526493068,-0.5796559515504119,-1.33437379644634,1.373035470199231,-0.09271868702696864,-0.108021289348484,0.2737362662435419,0.4153984048634312,-0.7277323409497012,0.12723409734090813,-1.7216795181560658,0.404075271990034,0.4813947761270504,-0.038503348254368845,-2.273437715572669,-0.7087437240167911,1.1425153969404258,-0.7206530960574146,-1.3195043732791696,-1.1427367809772713,0.17430027676471116],\"yaxis\":\"y13\",\"type\":\"scatter\"},{\"line\":{\"color\":\"rgba(128, 128, 128, 1.0)\",\"dash\":\"solid\",\"shape\":\"linear\",\"width\":1.3},\"marker\":{\"size\":2,\"symbol\":\"circle\"},\"mode\":\"markers\",\"name\":\"D\",\"text\":\"\",\"x\":[-1.1685508459194196,-1.5678017169000267,0.7870096262915491,-0.8629018468596408,-0.4857063865991016,-1.2626627412225944,1.2373205481923955,-0.48136229667102254,-0.4841128843538882,2.2915504567809273,-1.8664420703542837,-0.3822593347390874,-1.5464233121595794,0.8960317044216001,1.3738712750986215,1.3667016898736501,0.5931001857431492,-0.13608533179952403,-0.5226691150373612,0.9141181315239653,0.49588820121766547,0.7033452801787391,2.4161083229749805,0.9857082531792529,-0.5962036008775079,-2.3054551237669423,0.4595523549181218,2.1584557914506686,-0.21623673210559943,1.0268827658340507,-0.187361346602335,0.5586823673587367,-0.1425368574028095,0.47553084882931335,-0.8580278596709993,-1.3840740509849458,1.9078167471910268,-1.9298295674593051,0.4677649023118192,-0.6407645824728198,-0.20067105431129048,0.4535733758491212,-1.1594832090728682,-0.09834601975589295,-1.6057415274987874,-0.02923005850628262,1.0665687194053277,0.031731913806326804,1.6100699600708939,1.170010139117584,-1.3106350714837576,0.1503924243963787,-1.3108968820881353,-0.9241700441770824,0.5538224449867233,0.3999246772427607,0.24728761416851122,1.0347732797668334,0.6481309846764085,0.5225298542908703,-1.062807219692614,0.5389291711078632,0.3170946057858498,0.3113248214184092,-0.8779209994399148,-1.3103464725219607,-0.65146827356122,0.7838595330287975,-2.46586859817618,0.876539850402602,-0.838483575748058,3.023749502888475,0.4886405578618137,0.260885477893154,1.0195973638202933,0.8338732369478434,0.8553153295633149,-0.4904208832131635,0.3099140989134931,0.4674350174993666,1.6269411857138247,0.8377177915316513,-1.6344733353409773,0.5492777836028785,0.6287451281691209,-0.5570959640127177,2.1634854232289333,1.0158940604922302,-1.1812765625882486,0.8490929033497668,-0.2777383095778188,-1.539004318952743,0.38280204428729375,1.3083873098925314,0.8264927471174891,0.4456229526669064,-0.07712727689375366,1.3867079546845034,-0.2520138485006433,1.5057440934761228],\"xaxis\":\"x14\",\"y\":[0.017994340381227145,-0.0653382085123521,0.6209264594991536,2.2826379372455197,0.7791573041836941,0.5072557716396099,0.2755242714684649,-0.6258208695941796,0.4693555786538185,-0.7208591531367468,0.42462242625489244,-1.9130505336414327,-0.8005255136044629,-0.11014504329317058,-1.5786485033992341,-1.3584660670467765,0.8554119234219554,0.6621662696420444,1.057233165320333,0.48229008348264657,1.3258226343578399,0.38911290504859075,0.5552410324849885,-1.113214333902142,1.601900234464146,0.8465429410097408,-0.02929303998629881,1.4651861522637595,1.6043335311238451,1.1861501805532806,2.288301812396918,-0.24144017822599984,1.074119518410007,0.14898849148633259,-0.21959247846775123,-0.4842991280081334,-0.5980875083709224,-0.6965258592933425,0.3752982937419125,-0.7405377346691557,1.4404124597838097,-2.458134592213451,-0.47260729864100204,0.003728348811584746,1.2722021246585768,0.3422839657249093,-1.591342881881602,-1.029037761921719,-0.16164559078402468,-0.46780869601705866,-0.20909695044526982,-0.15882282057795602,-0.33284057418607227,1.0513284800699878,-0.29257393956132854,0.41951762976242507,-1.5772488030443022,-0.0020039985250401744,-0.4764832163085147,-1.360639971697527,-0.7690296609146785,0.7584178969102826,-0.4513941465121298,0.2733591602541416,-0.4312651269411663,-1.3505952616061818,1.3718235501994085,-0.5501653282490452,0.4283274396211519,0.14583143659223802,1.0987555962936866,0.8624745086082322,0.5191588818768138,1.3848027984846778,0.6308443959533383,-0.8457552243986087,-0.23763820875389796,0.19990236397564415,-1.0157103003006478,-0.12688143526493068,-0.5796559515504119,-1.33437379644634,1.373035470199231,-0.09271868702696864,-0.108021289348484,0.2737362662435419,0.4153984048634312,-0.7277323409497012,0.12723409734090813,-1.7216795181560658,0.404075271990034,0.4813947761270504,-0.038503348254368845,-2.273437715572669,-0.7087437240167911,1.1425153969404258,-0.7206530960574146,-1.3195043732791696,-1.1427367809772713,0.17430027676471116],\"yaxis\":\"y14\",\"type\":\"scatter\"},{\"line\":{\"color\":\"rgba(128, 128, 128, 1.0)\",\"dash\":\"solid\",\"shape\":\"linear\",\"width\":1.3},\"marker\":{\"size\":2,\"symbol\":\"circle\"},\"mode\":\"markers\",\"name\":\"D\",\"text\":\"\",\"x\":[1.8775853248219743,1.1634138874701658,0.4461462012951521,-0.630624769338649,2.1078034957109053,-0.9482366110800454,2.3374606688456554,-0.679065383221523,0.38377185432970784,1.5537342535800607,-0.30904709094909677,0.6620405516788332,0.3587890963955483,-0.9621814942267252,-1.4076529625364693,0.8406620342661275,-0.19167605225737872,0.07085336292954711,-0.41536402355468804,-0.6526583034337081,0.8953472080675058,-0.7927090917157454,-0.18504205933124068,-2.1844554211545013,-0.34928948363733436,0.9824393337572949,-0.18103284009489634,1.2235484395296887,0.8925359803657423,-0.46265299214822686,0.5316146639769636,1.1141688952959876,-0.8211688679945353,-0.4378686464586095,-1.5813213284574152,-0.1835676074821394,0.3635537816869505,0.292409384725485,-1.9292642402610856,-0.02109065033916954,-0.6500499929198842,-1.0706479780393594,1.4810807680195102,1.630294092771878,1.437547802195289,0.1612706125131396,1.0347881245359465,-0.5153424725683133,-1.853413964971279,-0.10138460345739685,-0.11374182274874095,0.7199491131082625,-0.8079590917446239,1.6050403523925685,1.3705705373156225,-3.7000867425385264,-0.7990098105675697,-0.78798107887203,0.043511496311365645,1.3127181160199133,0.5361353718531487,-0.10185322125127683,-0.2738025230244527,1.0602797063746061,-0.4626325274765146,0.18241675634136165,-0.06547590029811755,-0.8001702022637728,-1.1856462858028625,-0.6801324022438168,-2.701244480900419,-0.3740019761449056,0.6291185609341405,-1.3562555539381782,-0.1323317334140988,1.1587415899315627,1.3136982038489562,0.056299150576219766,0.2107247171069781,-0.23792370643470714,1.0088798622079589,0.7617470824000864,0.021279115740499545,-0.5371997831801028,0.43251449785168766,-0.05054466631950313,1.9377628526721993,3.9430366917901165,1.770493094498392,0.4878354231461598,-0.7745409475417855,-1.0331047085352125,0.3705350822079853,0.17892303678959548,0.7634234146163706,0.07312674885361234,0.8505793751346387,0.5407389794242599,-0.32128688659668025,0.44711829829526967],\"xaxis\":\"x15\",\"y\":[0.017994340381227145,-0.0653382085123521,0.6209264594991536,2.2826379372455197,0.7791573041836941,0.5072557716396099,0.2755242714684649,-0.6258208695941796,0.4693555786538185,-0.7208591531367468,0.42462242625489244,-1.9130505336414327,-0.8005255136044629,-0.11014504329317058,-1.5786485033992341,-1.3584660670467765,0.8554119234219554,0.6621662696420444,1.057233165320333,0.48229008348264657,1.3258226343578399,0.38911290504859075,0.5552410324849885,-1.113214333902142,1.601900234464146,0.8465429410097408,-0.02929303998629881,1.4651861522637595,1.6043335311238451,1.1861501805532806,2.288301812396918,-0.24144017822599984,1.074119518410007,0.14898849148633259,-0.21959247846775123,-0.4842991280081334,-0.5980875083709224,-0.6965258592933425,0.3752982937419125,-0.7405377346691557,1.4404124597838097,-2.458134592213451,-0.47260729864100204,0.003728348811584746,1.2722021246585768,0.3422839657249093,-1.591342881881602,-1.029037761921719,-0.16164559078402468,-0.46780869601705866,-0.20909695044526982,-0.15882282057795602,-0.33284057418607227,1.0513284800699878,-0.29257393956132854,0.41951762976242507,-1.5772488030443022,-0.0020039985250401744,-0.4764832163085147,-1.360639971697527,-0.7690296609146785,0.7584178969102826,-0.4513941465121298,0.2733591602541416,-0.4312651269411663,-1.3505952616061818,1.3718235501994085,-0.5501653282490452,0.4283274396211519,0.14583143659223802,1.0987555962936866,0.8624745086082322,0.5191588818768138,1.3848027984846778,0.6308443959533383,-0.8457552243986087,-0.23763820875389796,0.19990236397564415,-1.0157103003006478,-0.12688143526493068,-0.5796559515504119,-1.33437379644634,1.373035470199231,-0.09271868702696864,-0.108021289348484,0.2737362662435419,0.4153984048634312,-0.7277323409497012,0.12723409734090813,-1.7216795181560658,0.404075271990034,0.4813947761270504,-0.038503348254368845,-2.273437715572669,-0.7087437240167911,1.1425153969404258,-0.7206530960574146,-1.3195043732791696,-1.1427367809772713,0.17430027676471116],\"yaxis\":\"y15\",\"type\":\"scatter\"},{\"histfunc\":\"count\",\"histnorm\":\"\",\"marker\":{\"color\":\"rgba(128, 0, 128, 1.0)\",\"line\":{\"color\":\"#4D5663\",\"width\":1.3}},\"name\":\"D\",\"nbinsx\":10,\"opacity\":0.8,\"orientation\":\"v\",\"x\":[0.017994340381227145,-0.0653382085123521,0.6209264594991536,2.2826379372455197,0.7791573041836941,0.5072557716396099,0.2755242714684649,-0.6258208695941796,0.4693555786538185,-0.7208591531367468,0.42462242625489244,-1.9130505336414327,-0.8005255136044629,-0.11014504329317058,-1.5786485033992341,-1.3584660670467765,0.8554119234219554,0.6621662696420444,1.057233165320333,0.48229008348264657,1.3258226343578399,0.38911290504859075,0.5552410324849885,-1.113214333902142,1.601900234464146,0.8465429410097408,-0.02929303998629881,1.4651861522637595,1.6043335311238451,1.1861501805532806,2.288301812396918,-0.24144017822599984,1.074119518410007,0.14898849148633259,-0.21959247846775123,-0.4842991280081334,-0.5980875083709224,-0.6965258592933425,0.3752982937419125,-0.7405377346691557,1.4404124597838097,-2.458134592213451,-0.47260729864100204,0.003728348811584746,1.2722021246585768,0.3422839657249093,-1.591342881881602,-1.029037761921719,-0.16164559078402468,-0.46780869601705866,-0.20909695044526982,-0.15882282057795602,-0.33284057418607227,1.0513284800699878,-0.29257393956132854,0.41951762976242507,-1.5772488030443022,-0.0020039985250401744,-0.4764832163085147,-1.360639971697527,-0.7690296609146785,0.7584178969102826,-0.4513941465121298,0.2733591602541416,-0.4312651269411663,-1.3505952616061818,1.3718235501994085,-0.5501653282490452,0.4283274396211519,0.14583143659223802,1.0987555962936866,0.8624745086082322,0.5191588818768138,1.3848027984846778,0.6308443959533383,-0.8457552243986087,-0.23763820875389796,0.19990236397564415,-1.0157103003006478,-0.12688143526493068,-0.5796559515504119,-1.33437379644634,1.373035470199231,-0.09271868702696864,-0.108021289348484,0.2737362662435419,0.4153984048634312,-0.7277323409497012,0.12723409734090813,-1.7216795181560658,0.404075271990034,0.4813947761270504,-0.038503348254368845,-2.273437715572669,-0.7087437240167911,1.1425153969404258,-0.7206530960574146,-1.3195043732791696,-1.1427367809772713,0.17430027676471116],\"xaxis\":\"x16\",\"yaxis\":\"y16\",\"type\":\"histogram\"}],                        {\"bargap\":0.02,\"legend\":{\"bgcolor\":\"#F5F6F9\",\"font\":{\"color\":\"#4D5663\"}},\"paper_bgcolor\":\"#F5F6F9\",\"plot_bgcolor\":\"#F5F6F9\",\"showlegend\":false,\"template\":{\"data\":{\"barpolar\":[{\"marker\":{\"line\":{\"color\":\"#E5ECF6\",\"width\":0.5},\"pattern\":{\"fillmode\":\"overlay\",\"size\":10,\"solidity\":0.2}},\"type\":\"barpolar\"}],\"bar\":[{\"error_x\":{\"color\":\"#2a3f5f\"},\"error_y\":{\"color\":\"#2a3f5f\"},\"marker\":{\"line\":{\"color\":\"#E5ECF6\",\"width\":0.5},\"pattern\":{\"fillmode\":\"overlay\",\"size\":10,\"solidity\":0.2}},\"type\":\"bar\"}],\"carpet\":[{\"aaxis\":{\"endlinecolor\":\"#2a3f5f\",\"gridcolor\":\"white\",\"linecolor\":\"white\",\"minorgridcolor\":\"white\",\"startlinecolor\":\"#2a3f5f\"},\"baxis\":{\"endlinecolor\":\"#2a3f5f\",\"gridcolor\":\"white\",\"linecolor\":\"white\",\"minorgridcolor\":\"white\",\"startlinecolor\":\"#2a3f5f\"},\"type\":\"carpet\"}],\"choropleth\":[{\"colorbar\":{\"outlinewidth\":0,\"ticks\":\"\"},\"type\":\"choropleth\"}],\"contourcarpet\":[{\"colorbar\":{\"outlinewidth\":0,\"ticks\":\"\"},\"type\":\"contourcarpet\"}],\"contour\":[{\"colorbar\":{\"outlinewidth\":0,\"ticks\":\"\"},\"colorscale\":[[0.0,\"#0d0887\"],[0.1111111111111111,\"#46039f\"],[0.2222222222222222,\"#7201a8\"],[0.3333333333333333,\"#9c179e\"],[0.4444444444444444,\"#bd3786\"],[0.5555555555555556,\"#d8576b\"],[0.6666666666666666,\"#ed7953\"],[0.7777777777777778,\"#fb9f3a\"],[0.8888888888888888,\"#fdca26\"],[1.0,\"#f0f921\"]],\"type\":\"contour\"}],\"heatmapgl\":[{\"colorbar\":{\"outlinewidth\":0,\"ticks\":\"\"},\"colorscale\":[[0.0,\"#0d0887\"],[0.1111111111111111,\"#46039f\"],[0.2222222222222222,\"#7201a8\"],[0.3333333333333333,\"#9c179e\"],[0.4444444444444444,\"#bd3786\"],[0.5555555555555556,\"#d8576b\"],[0.6666666666666666,\"#ed7953\"],[0.7777777777777778,\"#fb9f3a\"],[0.8888888888888888,\"#fdca26\"],[1.0,\"#f0f921\"]],\"type\":\"heatmapgl\"}],\"heatmap\":[{\"colorbar\":{\"outlinewidth\":0,\"ticks\":\"\"},\"colorscale\":[[0.0,\"#0d0887\"],[0.1111111111111111,\"#46039f\"],[0.2222222222222222,\"#7201a8\"],[0.3333333333333333,\"#9c179e\"],[0.4444444444444444,\"#bd3786\"],[0.5555555555555556,\"#d8576b\"],[0.6666666666666666,\"#ed7953\"],[0.7777777777777778,\"#fb9f3a\"],[0.8888888888888888,\"#fdca26\"],[1.0,\"#f0f921\"]],\"type\":\"heatmap\"}],\"histogram2dcontour\":[{\"colorbar\":{\"outlinewidth\":0,\"ticks\":\"\"},\"colorscale\":[[0.0,\"#0d0887\"],[0.1111111111111111,\"#46039f\"],[0.2222222222222222,\"#7201a8\"],[0.3333333333333333,\"#9c179e\"],[0.4444444444444444,\"#bd3786\"],[0.5555555555555556,\"#d8576b\"],[0.6666666666666666,\"#ed7953\"],[0.7777777777777778,\"#fb9f3a\"],[0.8888888888888888,\"#fdca26\"],[1.0,\"#f0f921\"]],\"type\":\"histogram2dcontour\"}],\"histogram2d\":[{\"colorbar\":{\"outlinewidth\":0,\"ticks\":\"\"},\"colorscale\":[[0.0,\"#0d0887\"],[0.1111111111111111,\"#46039f\"],[0.2222222222222222,\"#7201a8\"],[0.3333333333333333,\"#9c179e\"],[0.4444444444444444,\"#bd3786\"],[0.5555555555555556,\"#d8576b\"],[0.6666666666666666,\"#ed7953\"],[0.7777777777777778,\"#fb9f3a\"],[0.8888888888888888,\"#fdca26\"],[1.0,\"#f0f921\"]],\"type\":\"histogram2d\"}],\"histogram\":[{\"marker\":{\"pattern\":{\"fillmode\":\"overlay\",\"size\":10,\"solidity\":0.2}},\"type\":\"histogram\"}],\"mesh3d\":[{\"colorbar\":{\"outlinewidth\":0,\"ticks\":\"\"},\"type\":\"mesh3d\"}],\"parcoords\":[{\"line\":{\"colorbar\":{\"outlinewidth\":0,\"ticks\":\"\"}},\"type\":\"parcoords\"}],\"pie\":[{\"automargin\":true,\"type\":\"pie\"}],\"scatter3d\":[{\"line\":{\"colorbar\":{\"outlinewidth\":0,\"ticks\":\"\"}},\"marker\":{\"colorbar\":{\"outlinewidth\":0,\"ticks\":\"\"}},\"type\":\"scatter3d\"}],\"scattercarpet\":[{\"marker\":{\"colorbar\":{\"outlinewidth\":0,\"ticks\":\"\"}},\"type\":\"scattercarpet\"}],\"scattergeo\":[{\"marker\":{\"colorbar\":{\"outlinewidth\":0,\"ticks\":\"\"}},\"type\":\"scattergeo\"}],\"scattergl\":[{\"marker\":{\"colorbar\":{\"outlinewidth\":0,\"ticks\":\"\"}},\"type\":\"scattergl\"}],\"scattermapbox\":[{\"marker\":{\"colorbar\":{\"outlinewidth\":0,\"ticks\":\"\"}},\"type\":\"scattermapbox\"}],\"scatterpolargl\":[{\"marker\":{\"colorbar\":{\"outlinewidth\":0,\"ticks\":\"\"}},\"type\":\"scatterpolargl\"}],\"scatterpolar\":[{\"marker\":{\"colorbar\":{\"outlinewidth\":0,\"ticks\":\"\"}},\"type\":\"scatterpolar\"}],\"scatter\":[{\"marker\":{\"colorbar\":{\"outlinewidth\":0,\"ticks\":\"\"}},\"type\":\"scatter\"}],\"scatterternary\":[{\"marker\":{\"colorbar\":{\"outlinewidth\":0,\"ticks\":\"\"}},\"type\":\"scatterternary\"}],\"surface\":[{\"colorbar\":{\"outlinewidth\":0,\"ticks\":\"\"},\"colorscale\":[[0.0,\"#0d0887\"],[0.1111111111111111,\"#46039f\"],[0.2222222222222222,\"#7201a8\"],[0.3333333333333333,\"#9c179e\"],[0.4444444444444444,\"#bd3786\"],[0.5555555555555556,\"#d8576b\"],[0.6666666666666666,\"#ed7953\"],[0.7777777777777778,\"#fb9f3a\"],[0.8888888888888888,\"#fdca26\"],[1.0,\"#f0f921\"]],\"type\":\"surface\"}],\"table\":[{\"cells\":{\"fill\":{\"color\":\"#EBF0F8\"},\"line\":{\"color\":\"white\"}},\"header\":{\"fill\":{\"color\":\"#C8D4E3\"},\"line\":{\"color\":\"white\"}},\"type\":\"table\"}]},\"layout\":{\"annotationdefaults\":{\"arrowcolor\":\"#2a3f5f\",\"arrowhead\":0,\"arrowwidth\":1},\"autotypenumbers\":\"strict\",\"coloraxis\":{\"colorbar\":{\"outlinewidth\":0,\"ticks\":\"\"}},\"colorscale\":{\"diverging\":[[0,\"#8e0152\"],[0.1,\"#c51b7d\"],[0.2,\"#de77ae\"],[0.3,\"#f1b6da\"],[0.4,\"#fde0ef\"],[0.5,\"#f7f7f7\"],[0.6,\"#e6f5d0\"],[0.7,\"#b8e186\"],[0.8,\"#7fbc41\"],[0.9,\"#4d9221\"],[1,\"#276419\"]],\"sequential\":[[0.0,\"#0d0887\"],[0.1111111111111111,\"#46039f\"],[0.2222222222222222,\"#7201a8\"],[0.3333333333333333,\"#9c179e\"],[0.4444444444444444,\"#bd3786\"],[0.5555555555555556,\"#d8576b\"],[0.6666666666666666,\"#ed7953\"],[0.7777777777777778,\"#fb9f3a\"],[0.8888888888888888,\"#fdca26\"],[1.0,\"#f0f921\"]],\"sequentialminus\":[[0.0,\"#0d0887\"],[0.1111111111111111,\"#46039f\"],[0.2222222222222222,\"#7201a8\"],[0.3333333333333333,\"#9c179e\"],[0.4444444444444444,\"#bd3786\"],[0.5555555555555556,\"#d8576b\"],[0.6666666666666666,\"#ed7953\"],[0.7777777777777778,\"#fb9f3a\"],[0.8888888888888888,\"#fdca26\"],[1.0,\"#f0f921\"]]},\"colorway\":[\"#636efa\",\"#EF553B\",\"#00cc96\",\"#ab63fa\",\"#FFA15A\",\"#19d3f3\",\"#FF6692\",\"#B6E880\",\"#FF97FF\",\"#FECB52\"],\"font\":{\"color\":\"#2a3f5f\"},\"geo\":{\"bgcolor\":\"white\",\"lakecolor\":\"white\",\"landcolor\":\"#E5ECF6\",\"showlakes\":true,\"showland\":true,\"subunitcolor\":\"white\"},\"hoverlabel\":{\"align\":\"left\"},\"hovermode\":\"closest\",\"mapbox\":{\"style\":\"light\"},\"paper_bgcolor\":\"white\",\"plot_bgcolor\":\"#E5ECF6\",\"polar\":{\"angularaxis\":{\"gridcolor\":\"white\",\"linecolor\":\"white\",\"ticks\":\"\"},\"bgcolor\":\"#E5ECF6\",\"radialaxis\":{\"gridcolor\":\"white\",\"linecolor\":\"white\",\"ticks\":\"\"}},\"scene\":{\"xaxis\":{\"backgroundcolor\":\"#E5ECF6\",\"gridcolor\":\"white\",\"gridwidth\":2,\"linecolor\":\"white\",\"showbackground\":true,\"ticks\":\"\",\"zerolinecolor\":\"white\"},\"yaxis\":{\"backgroundcolor\":\"#E5ECF6\",\"gridcolor\":\"white\",\"gridwidth\":2,\"linecolor\":\"white\",\"showbackground\":true,\"ticks\":\"\",\"zerolinecolor\":\"white\"},\"zaxis\":{\"backgroundcolor\":\"#E5ECF6\",\"gridcolor\":\"white\",\"gridwidth\":2,\"linecolor\":\"white\",\"showbackground\":true,\"ticks\":\"\",\"zerolinecolor\":\"white\"}},\"shapedefaults\":{\"line\":{\"color\":\"#2a3f5f\"}},\"ternary\":{\"aaxis\":{\"gridcolor\":\"white\",\"linecolor\":\"white\",\"ticks\":\"\"},\"baxis\":{\"gridcolor\":\"white\",\"linecolor\":\"white\",\"ticks\":\"\"},\"bgcolor\":\"#E5ECF6\",\"caxis\":{\"gridcolor\":\"white\",\"linecolor\":\"white\",\"ticks\":\"\"}},\"title\":{\"x\":0.05},\"xaxis\":{\"automargin\":true,\"gridcolor\":\"white\",\"linecolor\":\"white\",\"ticks\":\"\",\"title\":{\"standoff\":15},\"zerolinecolor\":\"white\",\"zerolinewidth\":2},\"yaxis\":{\"automargin\":true,\"gridcolor\":\"white\",\"linecolor\":\"white\",\"ticks\":\"\",\"title\":{\"standoff\":15},\"zerolinecolor\":\"white\",\"zerolinewidth\":2}}},\"title\":{\"font\":{\"color\":\"#4D5663\"}},\"xaxis\":{\"anchor\":\"y\",\"domain\":[0.0,0.2125],\"gridcolor\":\"#E1E5ED\",\"showgrid\":false,\"tickfont\":{\"color\":\"#4D5663\"},\"title\":{\"font\":{\"color\":\"#4D5663\"},\"text\":\"\"},\"zerolinecolor\":\"#E1E5ED\"},\"yaxis\":{\"anchor\":\"x\",\"domain\":[0.8025,1.0],\"gridcolor\":\"#E1E5ED\",\"showgrid\":false,\"tickfont\":{\"color\":\"#4D5663\"},\"title\":{\"font\":{\"color\":\"#4D5663\"},\"text\":\"\"},\"zerolinecolor\":\"#E1E5ED\"},\"xaxis2\":{\"anchor\":\"y2\",\"domain\":[0.2625,0.475],\"gridcolor\":\"#E1E5ED\",\"showgrid\":false,\"tickfont\":{\"color\":\"#4D5663\"},\"title\":{\"font\":{\"color\":\"#4D5663\"},\"text\":\"\"},\"zerolinecolor\":\"#E1E5ED\"},\"yaxis2\":{\"anchor\":\"x2\",\"domain\":[0.8025,1.0],\"gridcolor\":\"#E1E5ED\",\"showgrid\":false,\"tickfont\":{\"color\":\"#4D5663\"},\"title\":{\"font\":{\"color\":\"#4D5663\"},\"text\":\"\"},\"zerolinecolor\":\"#E1E5ED\"},\"xaxis3\":{\"anchor\":\"y3\",\"domain\":[0.525,0.7375],\"gridcolor\":\"#E1E5ED\",\"showgrid\":false,\"tickfont\":{\"color\":\"#4D5663\"},\"title\":{\"font\":{\"color\":\"#4D5663\"},\"text\":\"\"},\"zerolinecolor\":\"#E1E5ED\"},\"yaxis3\":{\"anchor\":\"x3\",\"domain\":[0.8025,1.0],\"gridcolor\":\"#E1E5ED\",\"showgrid\":false,\"tickfont\":{\"color\":\"#4D5663\"},\"title\":{\"font\":{\"color\":\"#4D5663\"},\"text\":\"\"},\"zerolinecolor\":\"#E1E5ED\"},\"xaxis4\":{\"anchor\":\"y4\",\"domain\":[0.7875,1.0],\"gridcolor\":\"#E1E5ED\",\"showgrid\":false,\"tickfont\":{\"color\":\"#4D5663\"},\"title\":{\"font\":{\"color\":\"#4D5663\"},\"text\":\"\"},\"zerolinecolor\":\"#E1E5ED\"},\"yaxis4\":{\"anchor\":\"x4\",\"domain\":[0.8025,1.0],\"gridcolor\":\"#E1E5ED\",\"showgrid\":false,\"tickfont\":{\"color\":\"#4D5663\"},\"title\":{\"font\":{\"color\":\"#4D5663\"},\"text\":\"\"},\"zerolinecolor\":\"#E1E5ED\"},\"xaxis5\":{\"anchor\":\"y5\",\"domain\":[0.0,0.2125],\"gridcolor\":\"#E1E5ED\",\"showgrid\":false,\"tickfont\":{\"color\":\"#4D5663\"},\"title\":{\"font\":{\"color\":\"#4D5663\"},\"text\":\"\"},\"zerolinecolor\":\"#E1E5ED\"},\"yaxis5\":{\"anchor\":\"x5\",\"domain\":[0.535,0.7325],\"gridcolor\":\"#E1E5ED\",\"showgrid\":false,\"tickfont\":{\"color\":\"#4D5663\"},\"title\":{\"font\":{\"color\":\"#4D5663\"},\"text\":\"\"},\"zerolinecolor\":\"#E1E5ED\"},\"xaxis6\":{\"anchor\":\"y6\",\"domain\":[0.2625,0.475],\"gridcolor\":\"#E1E5ED\",\"showgrid\":false,\"tickfont\":{\"color\":\"#4D5663\"},\"title\":{\"font\":{\"color\":\"#4D5663\"},\"text\":\"\"},\"zerolinecolor\":\"#E1E5ED\"},\"yaxis6\":{\"anchor\":\"x6\",\"domain\":[0.535,0.7325],\"gridcolor\":\"#E1E5ED\",\"showgrid\":false,\"tickfont\":{\"color\":\"#4D5663\"},\"title\":{\"font\":{\"color\":\"#4D5663\"},\"text\":\"\"},\"zerolinecolor\":\"#E1E5ED\"},\"xaxis7\":{\"anchor\":\"y7\",\"domain\":[0.525,0.7375],\"gridcolor\":\"#E1E5ED\",\"showgrid\":false,\"tickfont\":{\"color\":\"#4D5663\"},\"title\":{\"font\":{\"color\":\"#4D5663\"},\"text\":\"\"},\"zerolinecolor\":\"#E1E5ED\"},\"yaxis7\":{\"anchor\":\"x7\",\"domain\":[0.535,0.7325],\"gridcolor\":\"#E1E5ED\",\"showgrid\":false,\"tickfont\":{\"color\":\"#4D5663\"},\"title\":{\"font\":{\"color\":\"#4D5663\"},\"text\":\"\"},\"zerolinecolor\":\"#E1E5ED\"},\"xaxis8\":{\"anchor\":\"y8\",\"domain\":[0.7875,1.0],\"gridcolor\":\"#E1E5ED\",\"showgrid\":false,\"tickfont\":{\"color\":\"#4D5663\"},\"title\":{\"font\":{\"color\":\"#4D5663\"},\"text\":\"\"},\"zerolinecolor\":\"#E1E5ED\"},\"yaxis8\":{\"anchor\":\"x8\",\"domain\":[0.535,0.7325],\"gridcolor\":\"#E1E5ED\",\"showgrid\":false,\"tickfont\":{\"color\":\"#4D5663\"},\"title\":{\"font\":{\"color\":\"#4D5663\"},\"text\":\"\"},\"zerolinecolor\":\"#E1E5ED\"},\"xaxis9\":{\"anchor\":\"y9\",\"domain\":[0.0,0.2125],\"gridcolor\":\"#E1E5ED\",\"showgrid\":false,\"tickfont\":{\"color\":\"#4D5663\"},\"title\":{\"font\":{\"color\":\"#4D5663\"},\"text\":\"\"},\"zerolinecolor\":\"#E1E5ED\"},\"yaxis9\":{\"anchor\":\"x9\",\"domain\":[0.2675,0.465],\"gridcolor\":\"#E1E5ED\",\"showgrid\":false,\"tickfont\":{\"color\":\"#4D5663\"},\"title\":{\"font\":{\"color\":\"#4D5663\"},\"text\":\"\"},\"zerolinecolor\":\"#E1E5ED\"},\"xaxis10\":{\"anchor\":\"y10\",\"domain\":[0.2625,0.475],\"gridcolor\":\"#E1E5ED\",\"showgrid\":false,\"tickfont\":{\"color\":\"#4D5663\"},\"title\":{\"font\":{\"color\":\"#4D5663\"},\"text\":\"\"},\"zerolinecolor\":\"#E1E5ED\"},\"yaxis10\":{\"anchor\":\"x10\",\"domain\":[0.2675,0.465],\"gridcolor\":\"#E1E5ED\",\"showgrid\":false,\"tickfont\":{\"color\":\"#4D5663\"},\"title\":{\"font\":{\"color\":\"#4D5663\"},\"text\":\"\"},\"zerolinecolor\":\"#E1E5ED\"},\"xaxis11\":{\"anchor\":\"y11\",\"domain\":[0.525,0.7375],\"gridcolor\":\"#E1E5ED\",\"showgrid\":false,\"tickfont\":{\"color\":\"#4D5663\"},\"title\":{\"font\":{\"color\":\"#4D5663\"},\"text\":\"\"},\"zerolinecolor\":\"#E1E5ED\"},\"yaxis11\":{\"anchor\":\"x11\",\"domain\":[0.2675,0.465],\"gridcolor\":\"#E1E5ED\",\"showgrid\":false,\"tickfont\":{\"color\":\"#4D5663\"},\"title\":{\"font\":{\"color\":\"#4D5663\"},\"text\":\"\"},\"zerolinecolor\":\"#E1E5ED\"},\"xaxis12\":{\"anchor\":\"y12\",\"domain\":[0.7875,1.0],\"gridcolor\":\"#E1E5ED\",\"showgrid\":false,\"tickfont\":{\"color\":\"#4D5663\"},\"title\":{\"font\":{\"color\":\"#4D5663\"},\"text\":\"\"},\"zerolinecolor\":\"#E1E5ED\"},\"yaxis12\":{\"anchor\":\"x12\",\"domain\":[0.2675,0.465],\"gridcolor\":\"#E1E5ED\",\"showgrid\":false,\"tickfont\":{\"color\":\"#4D5663\"},\"title\":{\"font\":{\"color\":\"#4D5663\"},\"text\":\"\"},\"zerolinecolor\":\"#E1E5ED\"},\"xaxis13\":{\"anchor\":\"y13\",\"domain\":[0.0,0.2125],\"gridcolor\":\"#E1E5ED\",\"showgrid\":false,\"tickfont\":{\"color\":\"#4D5663\"},\"title\":{\"font\":{\"color\":\"#4D5663\"},\"text\":\"\"},\"zerolinecolor\":\"#E1E5ED\"},\"yaxis13\":{\"anchor\":\"x13\",\"domain\":[0.0,0.1975],\"gridcolor\":\"#E1E5ED\",\"showgrid\":false,\"tickfont\":{\"color\":\"#4D5663\"},\"title\":{\"font\":{\"color\":\"#4D5663\"},\"text\":\"\"},\"zerolinecolor\":\"#E1E5ED\"},\"xaxis14\":{\"anchor\":\"y14\",\"domain\":[0.2625,0.475],\"gridcolor\":\"#E1E5ED\",\"showgrid\":false,\"tickfont\":{\"color\":\"#4D5663\"},\"title\":{\"font\":{\"color\":\"#4D5663\"},\"text\":\"\"},\"zerolinecolor\":\"#E1E5ED\"},\"yaxis14\":{\"anchor\":\"x14\",\"domain\":[0.0,0.1975],\"gridcolor\":\"#E1E5ED\",\"showgrid\":false,\"tickfont\":{\"color\":\"#4D5663\"},\"title\":{\"font\":{\"color\":\"#4D5663\"},\"text\":\"\"},\"zerolinecolor\":\"#E1E5ED\"},\"xaxis15\":{\"anchor\":\"y15\",\"domain\":[0.525,0.7375],\"gridcolor\":\"#E1E5ED\",\"showgrid\":false,\"tickfont\":{\"color\":\"#4D5663\"},\"title\":{\"font\":{\"color\":\"#4D5663\"},\"text\":\"\"},\"zerolinecolor\":\"#E1E5ED\"},\"yaxis15\":{\"anchor\":\"x15\",\"domain\":[0.0,0.1975],\"gridcolor\":\"#E1E5ED\",\"showgrid\":false,\"tickfont\":{\"color\":\"#4D5663\"},\"title\":{\"font\":{\"color\":\"#4D5663\"},\"text\":\"\"},\"zerolinecolor\":\"#E1E5ED\"},\"xaxis16\":{\"anchor\":\"y16\",\"domain\":[0.7875,1.0],\"gridcolor\":\"#E1E5ED\",\"showgrid\":false,\"tickfont\":{\"color\":\"#4D5663\"},\"title\":{\"font\":{\"color\":\"#4D5663\"},\"text\":\"\"},\"zerolinecolor\":\"#E1E5ED\"},\"yaxis16\":{\"anchor\":\"x16\",\"domain\":[0.0,0.1975],\"gridcolor\":\"#E1E5ED\",\"showgrid\":false,\"tickfont\":{\"color\":\"#4D5663\"},\"title\":{\"font\":{\"color\":\"#4D5663\"},\"text\":\"\"},\"zerolinecolor\":\"#E1E5ED\"}},                        {\"showLink\": true, \"linkText\": \"Export to plot.ly\", \"plotlyServerURL\": \"https://plot.ly\", \"responsive\": true}                    ).then(function(){\n",
       "                            \n",
       "var gd = document.getElementById('14ab35fa-b41b-4629-890d-005d57cdcfa2');\n",
       "var x = new MutationObserver(function (mutations, observer) {{\n",
       "        var display = window.getComputedStyle(gd).display;\n",
       "        if (!display || display === 'none') {{\n",
       "            console.log([gd, 'removed!']);\n",
       "            Plotly.purge(gd);\n",
       "            observer.disconnect();\n",
       "        }}\n",
       "}});\n",
       "\n",
       "// Listen for the removal of the full notebook cells\n",
       "var notebookContainer = gd.closest('#notebook-container');\n",
       "if (notebookContainer) {{\n",
       "    x.observe(notebookContainer, {childList: true});\n",
       "}}\n",
       "\n",
       "// Listen for the clearing of the current output cell\n",
       "var outputEl = gd.closest('.output');\n",
       "if (outputEl) {{\n",
       "    x.observe(outputEl, {childList: true});\n",
       "}}\n",
       "\n",
       "                        })                };                });            </script>        </div>"
      ]
     },
     "metadata": {},
     "output_type": "display_data"
    }
   ],
   "source": [
    "df.scatter_matrix()"
   ]
  },
  {
   "cell_type": "code",
   "execution_count": null,
   "id": "b52612b8",
   "metadata": {},
   "outputs": [],
   "source": []
  }
 ],
 "metadata": {
  "kernelspec": {
   "display_name": "Python 3 (ipykernel)",
   "language": "python",
   "name": "python3"
  },
  "language_info": {
   "codemirror_mode": {
    "name": "ipython",
    "version": 3
   },
   "file_extension": ".py",
   "mimetype": "text/x-python",
   "name": "python",
   "nbconvert_exporter": "python",
   "pygments_lexer": "ipython3",
   "version": "3.9.7"
  }
 },
 "nbformat": 4,
 "nbformat_minor": 5
}
